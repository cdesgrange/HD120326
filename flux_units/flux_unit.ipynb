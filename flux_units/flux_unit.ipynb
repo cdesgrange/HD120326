{
 "cells": [
  {
   "cell_type": "markdown",
   "id": "4fee99bc",
   "metadata": {},
   "source": [
    "(!) **Note**: We want to compare polarised flux to total intensity flux\n",
    "\n",
    "    i.e. Fobject,pol/Fstar,pol and Fobject,ti/Fobject,ti\n",
    "    \n",
    "Below, we can see that flux of the star in ADU/s is higher in polar than in total intensity when considering one channel for the total intensity. I think it's ok because in polar we always consider both left+right detectors, contrary to total intensity with only one channel."
   ]
  },
  {
   "cell_type": "code",
   "execution_count": 2,
   "id": "93eccbd5",
   "metadata": {},
   "outputs": [],
   "source": [
    "from import_functions_generic import * \n",
    "from import_functions_plotting import * \n",
    "#from image_manipulation import * "
   ]
  },
  {
   "cell_type": "code",
   "execution_count": 3,
   "id": "2ffe8961",
   "metadata": {},
   "outputs": [],
   "source": [
    "L = time.localtime()\n",
    "date = \"{}-{}-{}\".format(L[0],L[1],L[2],L[3],L[4],L[5])\n",
    "\n",
    "saving_dir = 'figs/fig_v{}/'.format(date)\n",
    "os.makedirs(saving_dir,exist_ok=True)"
   ]
  },
  {
   "cell_type": "markdown",
   "id": "2dcb43ee",
   "metadata": {},
   "source": [
    "# 1. From (forward-)modelling results \n",
    "\n",
    "\n",
    "**Forward modelling results:**\n",
    "\n",
    "Inputs: \n",
    "- IRDAP image (ADU) and associated PSF normalized to 1\n",
    "- PCA image (ADU) and associated PSF normalized to 1\n",
    "\n",
    "So in principle I would only need to correct the fitted scaling values by DIT and TRANSMISSION.\n",
    "\n",
    "Note: the PSF is normalized in the FM code as follows: sum over all pixels with a PSF of shape (25,25) in polar (value = 723584) and (25,25) in total intensity (value = 9028321), so consistent!\n",
    "\n",
    "DO THAT TOMORROW's MORNING\n",
    "\n",
    "\n",
    "By modelling the disk we want to minimize the residuals expressed as follows\n",
    "\n",
    "$$    \\text{residuals} \\;=\\; \\frac{\\text{reduced_obs_image} \\times \\text{mask} -\\text{synthetic_model_disk}*\\text{PSF}}{\\text{noise}}\\,. $$\n",
    "\n",
    "with\n",
    "\n",
    "- the sum of the PSF values are normalized to 1\n",
    "\n",
    "- the mask is a binary mask with 0 or 1 values\n",
    "\n",
    "- '$*$' stands for convolution\n",
    "\n",
    "The model of the disk is computed with the $\\texttt{VIP}$ function  $\\texttt{ScatteredLightDisk(...)}$ and then multiply by a $scaling$ parameter that is fitted with the $\\texttt{AMOEBA}$ exploration of the parameter space, i.e.\n",
    "\n",
    "$$\\text{synthetic_model_disk} = \\texttt{ScatteredLightDisk(...)} \\times scaling$$\n",
    "\n",
    "**Notes**\n",
    "as the PSF is normalized to 1, the total flux of the disk or the convolved disk is the same."
   ]
  },
  {
   "cell_type": "markdown",
   "id": "4047371f",
   "metadata": {},
   "source": [
    "\n",
    "\n",
    "# Polarimetry\n",
    "\n",
    "**Goal:** From Qphi image, we have values in ADU. We want to convert this ADU value in a flux value.\n",
    "\n",
    "Correction from time exposure and transmission is simply\n",
    "\n",
    "$$\\text{IM (ADU)} \\; \\rightarrow\\;  \\frac{1}{\\text{DIT}} \\times \\frac{1}{\\text{TRANSMISSION}}  \\times \\text{IM (ADU)} $$  \n",
    "\n",
    "If the image QPHI is corrected from transmission and time exposure, the flux measured in ADU value can be converted in Jy as follows\n",
    "\n",
    "\n",
    "$$\\text{QPHI (ADU)} \\; \\rightarrow\\; \\text{QPHI (Jy)}\\; =\\; \\frac{\\text{QPHI (ADU)}}{\\text{STAR (ADU)}}  \\times \\text{STAR (Jy)} $$ \n",
    "\n",
    "If the image QPHI is *not yet* corrected from transmission and time exposure, the flux measured in ADU value can be converted in Jy as follows\n",
    "\n",
    "$$\\text{QPHI (ADU)} \\; \\rightarrow\\; \\text{QPHI (Jy)}\\; =\\; \\frac{\\text{QPHI (ADU)}}{\\text{STAR (ADU)}} \\times \\frac{\\text{DIT}_\\star}{\\text{DIT}_\\text{QPHI}} \\times \\frac{\\text{TRANSMISSION}_\\star}{\\text{TRANSMISSION}_\\text{QPHI}}  \\times \\text{STAR (Jy)} $$ \n",
    "\n"
   ]
  },
  {
   "cell_type": "code",
   "execution_count": 29,
   "id": "46e7ad02",
   "metadata": {},
   "outputs": [],
   "source": [
    "# Corresponding function\n",
    "\n",
    "def ADU2FLUX(flux_adu_obj, flux_adu_star, flux_ref_star, dit_obj, dit_star, transmi_obj, transmi_star, platescale):\n",
    "    x = flux_adu_star / (dit_star * transmi_star) \n",
    "    #print('Star flux = %.3e ADU/s' % x )\n",
    "    return flux_adu_obj/ flux_adu_star * dit_star/dit_obj * transmi_star/transmi_obj * flux_ref_star \n",
    "\n",
    "\n",
    "def ADU2FRACTION(flux_adu_obj, flux_adu_star, flux_ref_star, dit_obj, dit_star, transmi_obj, transmi_star, platescale):\n",
    "    x = flux_adu_star / (dit_star * transmi_star) \n",
    "    #print('Star flux = %.3e ADU/s' % x )\n",
    "    return flux_adu_obj/ flux_adu_star * dit_star/dit_obj * transmi_star/transmi_obj"
   ]
  },
  {
   "cell_type": "markdown",
   "id": "130ccd47",
   "metadata": {},
   "source": [
    "Values of DIT_STAR, DIT_OBJECT, TRANSMISSION_STAR, TRANSMISSION_OBJECT are taken from the header of the cubes."
   ]
  },
  {
   "cell_type": "code",
   "execution_count": 30,
   "id": "679dc8b7",
   "metadata": {},
   "outputs": [],
   "source": [
    "## Params: obs\n",
    "DIT_STAR, DIT_OBJECT = 0.837464, 64 # s taken from the header of the images\n",
    "TRANSMISSION_STAR, TRANSMISSION_OBJECT = 0.12591487665785145, 1 # corresponds to ND1.0 and OPEN; taken from the header of the images\n",
    "PLATESCALE =  12.25e-3 # arcsec/pix \n",
    "FLUX_REF_STAR = 0.975 # Jy from Simbad in the filter Johnson H (!!)"
   ]
  },
  {
   "cell_type": "markdown",
   "id": "650166c9",
   "metadata": {},
   "source": [
    "#### Results from fitting only polarimetry obs"
   ]
  },
  {
   "cell_type": "code",
   "execution_count": 32,
   "id": "d410bbf8",
   "metadata": {
    "scrolled": true
   },
   "outputs": [
    {
     "name": "stdout",
     "output_type": "stream",
     "text": [
      "(results *not* corrected from DITs and transmission)\n",
      "The flux of the star is 7.2e+05 ADU.\n",
      "The flux of the disk is 17669.00 ADU.\n",
      "\n",
      "(results corrected from DITs and transmission)\n",
      "The flux of the star is 6.86e+06 ADU/s.\n",
      "The flux of the disk is 276.08 ADU/s\n",
      "\n",
      "The flux fraction Fd/Fstar is 4.02e-05.\n",
      "The flux of the disk is 3.92e-05 Jy.\n"
     ]
    }
   ],
   "source": [
    "## Params: flux\n",
    "scaling = 0 # fitted parameter; not used\n",
    "flux_adu_obj = 17669 # total flux of the disk after multiplying by the scaling parameter; this corresponds the disk_convolved image\n",
    "#disk_bef_scaling = flux_adu_obj/scaling\n",
    "\n",
    "#1514654 # taken equal to the fitter flux scaling parameter in the modelling of debris disk \n",
    "flux_adu_star = 723584 # within a box region of size = 25 pixels, left+right images\n",
    "\n",
    "print('(results *not* corrected from DITs and transmission)')\n",
    "print('The flux of the star is {:.1e} ADU.'.format(flux_adu_star))\n",
    "print('The flux of the disk is {:.2f} ADU.'.format(flux_adu_obj))\n",
    "\n",
    "\n",
    "print('\\n(results corrected from DITs and transmission)')\n",
    "print('The flux of the star is {:.2e} ADU/s.'.format(flux_adu_star/(DIT_STAR*TRANSMISSION_STAR)))\n",
    "print('The flux of the disk is {:.2f} ADU/s'.format(flux_adu_obj/(DIT_OBJECT*TRANSMISSION_OBJECT)))\n",
    "\n",
    "flux_obj_final_unit = ADU2FRACTION(flux_adu_obj, flux_adu_star,\n",
    "        FLUX_REF_STAR, DIT_OBJECT, DIT_STAR, TRANSMISSION_OBJECT, TRANSMISSION_STAR, PLATESCALE)\n",
    "\n",
    "print('\\nThe flux fraction Fd/Fstar is {:.2e}.'.format(flux_obj_final_unit))\n",
    "\n",
    "fraction_polar_ref_indpt = flux_obj_final_unit\n",
    "\n",
    "flux_obj_final_unit = ADU2FLUX(flux_adu_obj, flux_adu_star,\n",
    "        FLUX_REF_STAR, DIT_OBJECT, DIT_STAR, TRANSMISSION_OBJECT, TRANSMISSION_STAR, PLATESCALE)\n",
    "\n",
    "print('The flux of the disk is {:.2e} Jy.'.format(flux_obj_final_unit))"
   ]
  },
  {
   "cell_type": "markdown",
   "id": "2cfed83b",
   "metadata": {},
   "source": [
    "#### Results from joint-fitting polarimetry+total intensity in both BBH bands\n",
    "\n",
    "##### for the total intensity-part: used 5 modes, 1 channel"
   ]
  },
  {
   "cell_type": "code",
   "execution_count": 9,
   "id": "4090edc9",
   "metadata": {
    "scrolled": false
   },
   "outputs": [
    {
     "name": "stdout",
     "output_type": "stream",
     "text": [
      "(results *not* corrected from DITs and transmission)\n",
      "The flux of the star is 7.2e+05 ADU.\n",
      "The flux of the disk is 17656.00 ADU.\n",
      "\n",
      "(results corrected from DITs and transmission)\n",
      "The flux of the star is 6.9e+06 ADU/s.\n",
      "The flux of the disk is 275.88 ADU/s\n",
      "\n",
      "The flux fraction Fd/Fstar is 4.02e-05.\n",
      "The flux of the disk is 3.92e-05 Jy.\n"
     ]
    }
   ],
   "source": [
    "## Params: flux\n",
    "scaling = 1514654 # fitted parameter; not used\n",
    "flux_adu_obj = 17656 #18794 # total flux of the disk after multiplying by the scaling parameter\n",
    "#disk_bef_scaling = flux_adu_obj/scaling\n",
    "\n",
    "#1514654 # taken equal to the fitter flux scaling parameter in the modelling of debris disk \n",
    "flux_adu_star = 723584 # within a box region of size = 25 pixels, left+right images\n",
    "\n",
    "print('(results *not* corrected from DITs and transmission)')\n",
    "print('The flux of the star is {:.1e} ADU.'.format(flux_adu_star))\n",
    "print('The flux of the disk is {:.2f} ADU.'.format(flux_adu_obj))\n",
    "\n",
    "\n",
    "print('\\n(results corrected from DITs and transmission)')\n",
    "print('The flux of the star is {:.1e} ADU/s.'.format(flux_adu_star/(DIT_STAR*TRANSMISSION_STAR)))\n",
    "print('The flux of the disk is {:.2f} ADU/s'.format(flux_adu_obj/(DIT_OBJECT*TRANSMISSION_OBJECT)))\n",
    "\n",
    "flux_obj_final_unit = ADU2FRACTION(flux_adu_obj, flux_adu_star,\n",
    "        FLUX_REF_STAR, DIT_OBJECT, DIT_STAR, TRANSMISSION_OBJECT, TRANSMISSION_STAR, PLATESCALE)\n",
    "\n",
    "print('\\nThe flux fraction Fd/Fstar is {:.2e}.'.format(flux_obj_final_unit))\n",
    "\n",
    "fraction_polar_ref_1TI_5modes_1channel = flux_obj_final_unit \n",
    "\n",
    "flux_obj_final_unit = ADU2FLUX(flux_adu_obj, flux_adu_star,\n",
    "        FLUX_REF_STAR, DIT_OBJECT, DIT_STAR, TRANSMISSION_OBJECT, TRANSMISSION_STAR, PLATESCALE)\n",
    "\n",
    "print('The flux of the disk is {:.2e} Jy.'.format(flux_obj_final_unit))"
   ]
  },
  {
   "cell_type": "markdown",
   "id": "98a29260",
   "metadata": {},
   "source": [
    "##### for the total intensity-part: used 5 modes, both channels"
   ]
  },
  {
   "cell_type": "code",
   "execution_count": 10,
   "id": "8231bd0e",
   "metadata": {},
   "outputs": [
    {
     "name": "stdout",
     "output_type": "stream",
     "text": [
      "(results *not* corrected from DITs and transmission)\n",
      "The flux of the star is 7.24e+05 ADU.\n",
      "The flux of the disk is 21806.00 ADU.\n",
      "\n",
      "(results corrected from DITs and transmission)\n",
      "The flux of the star is 6.86e+06 ADU/s.\n",
      "The flux of the disk is 340.72 ADU/s\n"
     ]
    }
   ],
   "source": [
    "## Params: flux\n",
    "scaling = 1593331 # fitted parameter; not used\n",
    "flux_adu_obj = 21806 #18838 # total flux of the disk after multplying by the scaling parameter\n",
    "#disk_bef_scaling = flux_adu_obj/scaling\n",
    "\n",
    "#1514654 # taken equal to the fitter flux scaling parameter in the modelling of debris disk \n",
    "flux_adu_star = 723584 # within a box region of size = 25 pixels, left+right images\n",
    "\n",
    "print('(results *not* corrected from DITs and transmission)')\n",
    "print('The flux of the star is {:.2e} ADU.'.format(flux_adu_star))\n",
    "print('The flux of the disk is {:.2f} ADU.'.format(flux_adu_obj))\n",
    "\n",
    "\n",
    "print('\\n(results corrected from DITs and transmission)')\n",
    "print('The flux of the star is {:.2e} ADU/s.'.format(flux_adu_star/(DIT_STAR*TRANSMISSION_STAR)))\n",
    "print('The flux of the disk is {:.2f} ADU/s'.format(flux_adu_obj/(DIT_OBJECT*TRANSMISSION_OBJECT)))"
   ]
  },
  {
   "cell_type": "code",
   "execution_count": 11,
   "id": "13dc04e8",
   "metadata": {
    "scrolled": true
   },
   "outputs": [
    {
     "name": "stdout",
     "output_type": "stream",
     "text": [
      "The flux fraction Fd/Fstar is 4.97e-05.\n",
      "The flux of the disk is 4.84e-05 Jy.\n"
     ]
    }
   ],
   "source": [
    "flux_obj_final_unit = ADU2FRACTION(flux_adu_obj, flux_adu_star,\n",
    "        FLUX_REF_STAR, DIT_OBJECT, DIT_STAR, TRANSMISSION_OBJECT, TRANSMISSION_STAR, PLATESCALE)\n",
    "print('The flux fraction Fd/Fstar is {:.2e}.'.format(flux_obj_final_unit))\n",
    "\n",
    "fraction_polar_ref_1TI_5modes_2channel = flux_obj_final_unit \n",
    "\n",
    "flux_obj_final_unit = ADU2FLUX(flux_adu_obj, flux_adu_star,\n",
    "        FLUX_REF_STAR, DIT_OBJECT, DIT_STAR, TRANSMISSION_OBJECT, TRANSMISSION_STAR, PLATESCALE)\n",
    "\n",
    "print('The flux of the disk is {:.2e} Jy.'.format(flux_obj_final_unit))"
   ]
  },
  {
   "cell_type": "markdown",
   "id": "79f4736e",
   "metadata": {},
   "source": [
    "##### for the total intensity-part: used 10 modes, 1 channel"
   ]
  },
  {
   "cell_type": "code",
   "execution_count": 12,
   "id": "c80cb4b7",
   "metadata": {},
   "outputs": [
    {
     "name": "stdout",
     "output_type": "stream",
     "text": [
      "(results *not* corrected from DITs and transmission)\n",
      "The flux of the star is 7.2e+05 ADU.\n",
      "The flux of the disk is 19046.00 ADU.\n",
      "\n",
      "(results corrected from DITs and transmission)\n",
      "The flux of the star is 6.9e+06 ADU/s.\n",
      "The flux of the disk is 297.59 ADU/s\n"
     ]
    }
   ],
   "source": [
    "## Params: flux\n",
    "scaling = 1226197 # fitted parameter; not used\n",
    "flux_adu_obj = 19046 #18453 # total flux of the disk after multplying by the scaling parameter\n",
    "#disk_bef_scaling = flux_adu_obj/scaling\n",
    "\n",
    "#1514654 # taken equal to the fitter flux scaling parameter in the modelling of debris disk \n",
    "flux_adu_star = 723584 # within a box region of size = 25 pixels, left+right images\n",
    "\n",
    "print('(results *not* corrected from DITs and transmission)')\n",
    "print('The flux of the star is {:.1e} ADU.'.format(flux_adu_star))\n",
    "print('The flux of the disk is {:.2f} ADU.'.format(flux_adu_obj))\n",
    "\n",
    "\n",
    "print('\\n(results corrected from DITs and transmission)')\n",
    "print('The flux of the star is {:.1e} ADU/s.'.format(flux_adu_star/(DIT_STAR*TRANSMISSION_STAR)))\n",
    "print('The flux of the disk is {:.2f} ADU/s'.format(flux_adu_obj/(DIT_OBJECT*TRANSMISSION_OBJECT)))"
   ]
  },
  {
   "cell_type": "code",
   "execution_count": 13,
   "id": "2fb2d0a6",
   "metadata": {},
   "outputs": [
    {
     "name": "stdout",
     "output_type": "stream",
     "text": [
      "The flux fraction Fd/Fstar is 4.34e-05.\n",
      "The flux of the disk is 4.23e-05 Jy.\n"
     ]
    }
   ],
   "source": [
    "flux_obj_final_unit = ADU2FRACTION(flux_adu_obj, flux_adu_star,\n",
    "        FLUX_REF_STAR, DIT_OBJECT, DIT_STAR, TRANSMISSION_OBJECT, TRANSMISSION_STAR, PLATESCALE)\n",
    "\n",
    "print('The flux fraction Fd/Fstar is {:.2e}.'.format(flux_obj_final_unit))\n",
    "\n",
    "fraction_polar_ref_1TI_10modes_1channel = flux_obj_final_unit \n",
    "\n",
    "flux_obj_final_unit = ADU2FLUX(flux_adu_obj, flux_adu_star,\n",
    "        FLUX_REF_STAR, DIT_OBJECT, DIT_STAR, TRANSMISSION_OBJECT, TRANSMISSION_STAR, PLATESCALE)\n",
    "\n",
    "print('The flux of the disk is {:.2e} Jy.'.format(flux_obj_final_unit))"
   ]
  },
  {
   "cell_type": "markdown",
   "id": "7881bab2",
   "metadata": {},
   "source": [
    "##### for the total intensity-part: used 10 modes, both channels"
   ]
  },
  {
   "cell_type": "code",
   "execution_count": 14,
   "id": "e2fd740a",
   "metadata": {},
   "outputs": [
    {
     "name": "stdout",
     "output_type": "stream",
     "text": [
      "(results *not* corrected from DITs and transmission)\n",
      "The flux of the star is 7.2e+05 ADU.\n",
      "The flux of the disk is 17752.00 ADU.\n",
      "\n",
      "(results corrected from DITs and transmission)\n",
      "The flux of the star is 6.9e+06 ADU/s.\n",
      "The flux of the disk is 277.38 ADU/s\n"
     ]
    }
   ],
   "source": [
    "## Params: flux\n",
    "scaling = 1421607 # fitted parameter; not used\n",
    "flux_adu_obj = 17752 #18749 # total flux of the disk after multplying by the scaling parameter\n",
    "#disk_bef_scaling = flux_adu_obj/scaling\n",
    "\n",
    "#1514654 # taken equal to the fitter flux scaling parameter in the modelling of debris disk \n",
    "flux_adu_star = 723584 # within a box region of size = 25 pixels, left+right images\n",
    "\n",
    "print('(results *not* corrected from DITs and transmission)')\n",
    "print('The flux of the star is {:.1e} ADU.'.format(flux_adu_star))\n",
    "print('The flux of the disk is {:.2f} ADU.'.format(flux_adu_obj))\n",
    "\n",
    "\n",
    "print('\\n(results corrected from DITs and transmission)')\n",
    "print('The flux of the star is {:.1e} ADU/s.'.format(flux_adu_star/(DIT_STAR*TRANSMISSION_STAR)))\n",
    "print('The flux of the disk is {:.2f} ADU/s'.format(flux_adu_obj/(DIT_OBJECT*TRANSMISSION_OBJECT)))"
   ]
  },
  {
   "cell_type": "code",
   "execution_count": 16,
   "id": "31e0026d",
   "metadata": {
    "scrolled": true
   },
   "outputs": [
    {
     "name": "stdout",
     "output_type": "stream",
     "text": [
      "The flux fraction Fd/Fstar is 4.04e-05.\n",
      "The flux of the disk is 3.94e-05 Jy.\n"
     ]
    }
   ],
   "source": [
    "flux_obj_final_unit = ADU2FRACTION(flux_adu_obj, flux_adu_star,\n",
    "        FLUX_REF_STAR, DIT_OBJECT, DIT_STAR, TRANSMISSION_OBJECT, TRANSMISSION_STAR, PLATESCALE)\n",
    "\n",
    "print('The flux fraction Fd/Fstar is {:.2e}.'.format(flux_obj_final_unit))\n",
    "\n",
    "fraction_polar_ref_1TI_10modes_2channel = flux_obj_final_unit \n",
    "\n",
    "flux_obj_final_unit = ADU2FLUX(flux_adu_obj, flux_adu_star,\n",
    "        FLUX_REF_STAR, DIT_OBJECT, DIT_STAR, TRANSMISSION_OBJECT, TRANSMISSION_STAR, PLATESCALE)\n",
    "\n",
    "print('The flux of the disk is {:.2e} Jy.'.format(flux_obj_final_unit))"
   ]
  },
  {
   "cell_type": "markdown",
   "id": "f31d75aa",
   "metadata": {},
   "source": [
    "# Total intensity\n",
    "\n",
    "For the star flux, we have two PSF acquired before and after the observation and for the left and right part of the detector.\n",
    "We take the mean from before and after the observation and consider either only the left or right cubes, or the sum of them, depending if we work on one or the channels of the SCIENCE cube.\n",
    "\n",
    "Values of DIT_STAR, DIT_OBJECT, TRANSMISSION_STAR, TRANSMISSION_OBJECT are taken from the header of the cubes.\n",
    "\n",
    "**Warning note :** specal convert outputs are already corrected from the DIT and the neutral density !"
   ]
  },
  {
   "cell_type": "code",
   "execution_count": 17,
   "id": "f326d7bd",
   "metadata": {},
   "outputs": [],
   "source": [
    "# Params\n",
    "DIT_STAR, DIT_OBJECT = 8, 32 # s\n",
    "TRANSMISSION_STAR, TRANSMISSION_OBJECT = 0.014581900, 1 # ND2.0 and OPEN are used. Corresponding value for ND2.0\n",
    "# taken from the ESO website https://www.eso.org/sci/facilities/paranal/instruments/sphere/inst/filters.html\n",
    "PLATESCALE =  12.25e-3 # arcsec/pix \n",
    "FLUX_REF_STAR = 0.975  # Jy from Simbad in the filter Johnson H\n",
    "\n",
    "\n",
    "# Params\n",
    "DIT_STAR, DIT_OBJECT = 1, 1 # s\n",
    "TRANSMISSION_STAR, TRANSMISSION_OBJECT = 1, 1 # ND2.0 and OPEN are used. Corresponding value for ND2.0\n",
    "# taken from the ESO website https://www.eso.org/sci/facilities/paranal/instruments/sphere/inst/filters.html\n",
    "PLATESCALE =  12.25e-3 # arcsec/pix \n",
    "FLUX_REF_STAR = 0.975  # Jy from Simbad in the filter Johnson H"
   ]
  },
  {
   "cell_type": "markdown",
   "id": "732e189a",
   "metadata": {},
   "source": [
    "#### Results from joint-fitting polarimetry+total intensity in both BBH bands\n",
    "\n",
    "##### for the total intensity-part: used 5 modes, 1 channel"
   ]
  },
  {
   "cell_type": "code",
   "execution_count": 18,
   "id": "d2081b8e",
   "metadata": {},
   "outputs": [
    {
     "name": "stdout",
     "output_type": "stream",
     "text": [
      "(results *not* corrected from DITs and transmission)\n",
      "The flux of the star is 4.5e+06 ADU.\n",
      "The flux of the disk is 4995.00 ADU.\n",
      "\n",
      "(results corrected from DITs and transmission)\n",
      "The flux of the star is 4.51e+06 ADU/s.\n",
      "The flux of the disk is 4995.00 ADU/s\n"
     ]
    }
   ],
   "source": [
    "## Params: flux\n",
    "scaling = 35124 # fitted parameter; not used\n",
    "flux_adu_obj = 4995 #4924 # total flux of the disk after multplying by the scaling parameter\n",
    "#disk_bef_scaling = flux_adu_obj/scaling\n",
    "\n",
    "#1514654 # taken equal to the fitter flux scaling parameter in the modelling of debris disk \n",
    "flux_adu_star = 9028321/2 # within a box region of size = 25 pixels, left images\n",
    "\n",
    "print('(results *not* corrected from DITs and transmission)')\n",
    "print('The flux of the star is {:.1e} ADU.'.format(flux_adu_star))\n",
    "print('The flux of the disk is {:.2f} ADU.'.format(flux_adu_obj))\n",
    "\n",
    "print('\\n(results corrected from DITs and transmission)')\n",
    "print('The flux of the star is {:.2e} ADU/s.'.format(flux_adu_star/(DIT_STAR*TRANSMISSION_STAR)))\n",
    "print('The flux of the disk is {:.2f} ADU/s'.format(flux_adu_obj/(DIT_OBJECT*TRANSMISSION_OBJECT)))\n"
   ]
  },
  {
   "cell_type": "code",
   "execution_count": 20,
   "id": "566896fb",
   "metadata": {},
   "outputs": [
    {
     "name": "stdout",
     "output_type": "stream",
     "text": [
      "The flux fraction Fd/Fstar is 1.11e-03.\n",
      "The polarised fraction of the disk Fd_polar/Fd is 0.036.\n",
      "The flux of the disk is 1.08e-03 Jy.\n"
     ]
    }
   ],
   "source": [
    "flux_obj_final_unit = ADU2FRACTION(flux_adu_obj, flux_adu_star,\n",
    "        FLUX_REF_STAR, DIT_OBJECT, DIT_STAR, TRANSMISSION_OBJECT, TRANSMISSION_STAR, PLATESCALE)\n",
    "\n",
    "print('The flux fraction Fd/Fstar is {:.2e}.'.format(flux_obj_final_unit))\n",
    "\n",
    "print('The polarised fraction of the disk Fd_polar/Fd is {:.3f}.'.format(fraction_polar_ref_1TI_5modes_1channel/flux_obj_final_unit))\n",
    "\n",
    "flux_obj_final_unit = ADU2FLUX(flux_adu_obj, flux_adu_star,\n",
    "        FLUX_REF_STAR, DIT_OBJECT, DIT_STAR, TRANSMISSION_OBJECT, TRANSMISSION_STAR, PLATESCALE)\n",
    "\n",
    "print('The flux of the disk is {:.2e} Jy.'.format(flux_obj_final_unit))"
   ]
  },
  {
   "cell_type": "markdown",
   "id": "a59df06e",
   "metadata": {},
   "source": [
    "#### Results from joint-fitting polarimetry+total intensity in both BBH bands\n",
    "\n",
    "##### for the total intensity-part: used 5 modes, both channels"
   ]
  },
  {
   "cell_type": "code",
   "execution_count": 21,
   "id": "c7f89a05",
   "metadata": {},
   "outputs": [
    {
     "name": "stdout",
     "output_type": "stream",
     "text": [
      "(results *not* corrected from DITs and transmission)\n",
      "The flux of the star is 9.0e+06 ADU.\n",
      "The flux of the disk is 18454.00 ADU.\n",
      "\n",
      "(results corrected from DITs and transmission)\n",
      "The flux of the star is 9.04e+06 ADU/s.\n",
      "The flux of the disk is 18454.00 ADU/s\n"
     ]
    }
   ],
   "source": [
    "## Params: flux\n",
    "scaling = 73490 # fitted parameter; not used\n",
    "flux_adu_obj = 18454 #10645 # total flux of the disk after multplying by the scaling parameter\n",
    "#disk_bef_scaling = flux_adu_obj/scaling\n",
    "\n",
    "#1514654 # taken equal to the fitter flux scaling parameter in the modelling of debris disk \n",
    "flux_adu_star = 18083288/2 # within a box region of size = 25 pixels, left images\n",
    "\n",
    "print('(results *not* corrected from DITs and transmission)')\n",
    "print('The flux of the star is {:.1e} ADU.'.format(flux_adu_star))\n",
    "print('The flux of the disk is {:.2f} ADU.'.format(flux_adu_obj))\n",
    "\n",
    "\n",
    "print('\\n(results corrected from DITs and transmission)')\n",
    "print('The flux of the star is {:.2e} ADU/s.'.format(flux_adu_star/(DIT_STAR*TRANSMISSION_STAR)))\n",
    "print('The flux of the disk is {:.2f} ADU/s'.format(flux_adu_obj/(DIT_OBJECT*TRANSMISSION_OBJECT)))"
   ]
  },
  {
   "cell_type": "code",
   "execution_count": 22,
   "id": "0dc00da8",
   "metadata": {},
   "outputs": [
    {
     "name": "stdout",
     "output_type": "stream",
     "text": [
      "The flux fraction Fd/Fstar is 2.04e-03.\n",
      "The polarised fraction of the disk Fd_polar/Fd is 0.024.\n",
      "The flux of the disk is 1.99e-03 Jy.\n"
     ]
    }
   ],
   "source": [
    "flux_obj_final_unit = ADU2FRACTION(flux_adu_obj, flux_adu_star,\n",
    "        FLUX_REF_STAR, DIT_OBJECT, DIT_STAR, TRANSMISSION_OBJECT, TRANSMISSION_STAR, PLATESCALE)\n",
    "\n",
    "print('The flux fraction Fd/Fstar is {:.2e}.'.format(flux_obj_final_unit))\n",
    "\n",
    "print('The polarised fraction of the disk Fd_polar/Fd is {:.3f}.'.format(fraction_polar_ref_1TI_5modes_2channel/flux_obj_final_unit))\n",
    "\n",
    "flux_obj_final_unit = ADU2FLUX(flux_adu_obj, flux_adu_star,\n",
    "        FLUX_REF_STAR, DIT_OBJECT, DIT_STAR, TRANSMISSION_OBJECT, TRANSMISSION_STAR, PLATESCALE)\n",
    "\n",
    "print('The flux of the disk is {:.2e} Jy.'.format(flux_obj_final_unit))"
   ]
  },
  {
   "cell_type": "markdown",
   "id": "9cc52770",
   "metadata": {},
   "source": [
    "#### Results from joint-fitting polarimetry+total intensity in both BBH bands\n",
    "\n",
    "##### for the total intensity-part: used 10 modes, 1 channel"
   ]
  },
  {
   "cell_type": "code",
   "execution_count": 23,
   "id": "bf5ce8e8",
   "metadata": {
    "scrolled": true
   },
   "outputs": [
    {
     "name": "stdout",
     "output_type": "stream",
     "text": [
      "(results *not* corrected from DITs and transmission)\n",
      "The flux of the star is 4.5e+06 ADU.\n",
      "The flux of the disk is 3563.00 ADU.\n",
      "\n",
      "(results corrected from DITs and transmission)\n",
      "The flux of the star is 4.5e+06 ADU/s.\n",
      "The flux of the disk is 3563.00 ADU/s\n"
     ]
    }
   ],
   "source": [
    "## Params: flux\n",
    "scaling = 26412 # fitted parameter; not used\n",
    "flux_adu_obj = 3563 #3545 # total flux of the disk after multplying by the scaling parameter\n",
    "#disk_bef_scaling = flux_adu_obj/scaling\n",
    "\n",
    "#1514654 # taken equal to the fitter flux scaling parameter in the modelling of debris disk \n",
    "flux_adu_star = 9028321/2 # within a box region of size = 25 pixels, left images\n",
    "\n",
    "print('(results *not* corrected from DITs and transmission)')\n",
    "print('The flux of the star is {:.1e} ADU.'.format(flux_adu_star))\n",
    "print('The flux of the disk is {:.2f} ADU.'.format(flux_adu_obj))\n",
    "\n",
    "\n",
    "print('\\n(results corrected from DITs and transmission)')\n",
    "print('The flux of the star is {:.1e} ADU/s.'.format(flux_adu_star/(DIT_STAR*TRANSMISSION_STAR)))\n",
    "print('The flux of the disk is {:.2f} ADU/s'.format(flux_adu_obj/(DIT_OBJECT*TRANSMISSION_OBJECT)))"
   ]
  },
  {
   "cell_type": "code",
   "execution_count": 24,
   "id": "19f766d1",
   "metadata": {},
   "outputs": [
    {
     "name": "stdout",
     "output_type": "stream",
     "text": [
      "The flux fraction Fd/Fstar is 7.89e-04.\n",
      "The polarised fraction of the disk Fd_polar/Fd is 0.055.\n",
      "The flux of the disk is 7.70e-04 Jy.\n"
     ]
    }
   ],
   "source": [
    "flux_obj_final_unit = ADU2FRACTION(flux_adu_obj, flux_adu_star,\n",
    "        FLUX_REF_STAR, DIT_OBJECT, DIT_STAR, TRANSMISSION_OBJECT, TRANSMISSION_STAR, PLATESCALE)\n",
    "\n",
    "print('The flux fraction Fd/Fstar is {:.2e}.'.format(flux_obj_final_unit))\n",
    "\n",
    "print('The polarised fraction of the disk Fd_polar/Fd is {:.3f}.'.format(fraction_polar_ref_1TI_10modes_1channel/flux_obj_final_unit))\n",
    "\n",
    "flux_obj_final_unit = ADU2FLUX(flux_adu_obj, flux_adu_star,\n",
    "        FLUX_REF_STAR, DIT_OBJECT, DIT_STAR, TRANSMISSION_OBJECT, TRANSMISSION_STAR, PLATESCALE)\n",
    "\n",
    "print('The flux of the disk is {:.2e} Jy.'.format(flux_obj_final_unit))"
   ]
  },
  {
   "cell_type": "markdown",
   "id": "f6c3c9b7",
   "metadata": {},
   "source": [
    "#### Results from joint-fitting polarimetry+total intensity in both BBH bands\n",
    "\n",
    "##### for the total intensity-part: used 10 modes, both channels"
   ]
  },
  {
   "cell_type": "code",
   "execution_count": 25,
   "id": "e3319a44",
   "metadata": {
    "scrolled": true
   },
   "outputs": [
    {
     "name": "stdout",
     "output_type": "stream",
     "text": [
      "(results *not* corrected from DITs and transmission)\n",
      "The flux of the star is 9.0e+06 ADU.\n",
      "The flux of the disk is 7925.00 ADU.\n",
      "\n",
      "(results corrected from DITs and transmission)\n",
      "The flux of the star is 9.04e+06 ADU/s.\n",
      "The flux of the disk is 7925.00 ADU/s\n"
     ]
    }
   ],
   "source": [
    "## Params: flux\n",
    "scaling = 56923 # fitted parameter; not used\n",
    "flux_adu_obj = 7925 #7638 # total flux of the disk after multplying by the scaling parameter\n",
    "#disk_bef_scaling = flux_adu_obj/scaling\n",
    "\n",
    "#1514654 # taken equal to the fitter flux scaling parameter in the modelling of debris disk \n",
    "flux_adu_star = 18083288/2 # within a box region of size = 25 pixels, left images\n",
    "\n",
    "print('(results *not* corrected from DITs and transmission)')\n",
    "print('The flux of the star is {:.1e} ADU.'.format(flux_adu_star))\n",
    "print('The flux of the disk is {:.2f} ADU.'.format(flux_adu_obj))\n",
    " \n",
    "print('\\n(results corrected from DITs and transmission)')\n",
    "print('The flux of the star is {:.2e} ADU/s.'.format(flux_adu_star/(DIT_STAR*TRANSMISSION_STAR)))\n",
    "print('The flux of the disk is {:.2f} ADU/s'.format(flux_adu_obj/(DIT_OBJECT*TRANSMISSION_OBJECT)))"
   ]
  },
  {
   "cell_type": "code",
   "execution_count": 26,
   "id": "95e4aff2",
   "metadata": {},
   "outputs": [
    {
     "name": "stdout",
     "output_type": "stream",
     "text": [
      "The flux fraction Fd/Fstar is 8.76e-04.\n",
      "The polarised fraction of the disk Fd_polar/Fd is 0.046.\n",
      "The flux of the disk is 8.55e-04 Jy.\n"
     ]
    }
   ],
   "source": [
    "flux_obj_final_unit = ADU2FRACTION(flux_adu_obj, flux_adu_star,\n",
    "        FLUX_REF_STAR, DIT_OBJECT, DIT_STAR, TRANSMISSION_OBJECT, TRANSMISSION_STAR, PLATESCALE)\n",
    "\n",
    "print('The flux fraction Fd/Fstar is {:.2e}.'.format(flux_obj_final_unit))\n",
    "\n",
    "print('The polarised fraction of the disk Fd_polar/Fd is {:.3f}.'.format(fraction_polar_ref_1TI_10modes_2channel/flux_obj_final_unit))\n",
    "\n",
    "flux_obj_final_unit = ADU2FLUX(flux_adu_obj, flux_adu_star,\n",
    "        FLUX_REF_STAR, DIT_OBJECT, DIT_STAR, TRANSMISSION_OBJECT, TRANSMISSION_STAR, PLATESCALE)\n",
    "\n",
    "print('The flux of the disk is {:.2e} Jy.'.format(flux_obj_final_unit))"
   ]
  },
  {
   "cell_type": "markdown",
   "id": "b4214597",
   "metadata": {},
   "source": [
    "### Results from independent FM \n",
    "\n",
    "##### for the total intensity-part: used 5 modes, 1 channel"
   ]
  },
  {
   "cell_type": "code",
   "execution_count": 33,
   "id": "868adf61",
   "metadata": {},
   "outputs": [],
   "source": [
    "fraction_polar_ref = fraction_polar_ref_indpt # independent fit"
   ]
  },
  {
   "cell_type": "code",
   "execution_count": 8,
   "id": "e3bc3b4b",
   "metadata": {},
   "outputs": [],
   "source": [
    "#DIT_OBJECT_S = [32, 32, 32]\n",
    "#DIT_STAR_S   = [8, 4.001856, 4.001856]\n",
    "\n",
    "#TRANSMISSION_STAR_S = [0.014581900, 0.014581900, 0.014581900]\n",
    "\n",
    "DIT_OBJECT_S = [1, 1, 1]\n",
    "DIT_STAR_S   = [1, 1, 1]\n",
    "\n",
    "TRANSMISSION_STAR_S = [1, 1, 1]\n",
    "\n",
    "FLUX_ADU_OBJ  = [8285, 1465, 1715]\n",
    "FLUX_ADU_STAR = [9028321/2, 1768472/2, 925421] #(25,25) #[8245767/2, 1647963/2, 844699] (15,15)\n",
    "INFO = ['2019-07-09', '2016-04-05', '2016-06-03']"
   ]
  },
  {
   "cell_type": "code",
   "execution_count": 9,
   "id": "54a173be",
   "metadata": {},
   "outputs": [
    {
     "name": "stdout",
     "output_type": "stream",
     "text": [
      "\n",
      "== INFO epoch 2019-07-09 ==\n",
      "(results corrected from DITs and transmission)\n",
      "The flux of the star is 4.51e+06 ADU/s.\n",
      "The flux of the disk is 8285.00 ADU/s\n",
      "The flux fraction Fd/Fstar is 1.84e-03.\n",
      "The polarised fraction of the disk Fd_polar/Fd is 0.022.\n",
      "The flux of the disk is 1.79e-03 Jy.\n",
      "\n",
      "== INFO epoch 2016-04-05 ==\n",
      "(results corrected from DITs and transmission)\n",
      "The flux of the star is 8.84e+05 ADU/s.\n",
      "The flux of the disk is 1465.00 ADU/s\n",
      "The flux fraction Fd/Fstar is 1.66e-03.\n",
      "The polarised fraction of the disk Fd_polar/Fd is 0.024.\n",
      "The flux of the disk is 1.62e-03 Jy.\n",
      "\n",
      "== INFO epoch 2016-06-03 ==\n",
      "(results corrected from DITs and transmission)\n",
      "The flux of the star is 9.25e+05 ADU/s.\n",
      "The flux of the disk is 1715.00 ADU/s\n",
      "The flux fraction Fd/Fstar is 1.85e-03.\n",
      "The polarised fraction of the disk Fd_polar/Fd is 0.022.\n",
      "The flux of the disk is 1.81e-03 Jy.\n"
     ]
    }
   ],
   "source": [
    "## Params: flux\n",
    "\n",
    "for i in range(len(FLUX_ADU_OBJ)):\n",
    "    TRANSMISSION_STAR = TRANSMISSION_STAR_S[i]\n",
    "    DIT_OBJECT, DIT_STAR = DIT_OBJECT_S[i], DIT_STAR_S[i]\n",
    "    \n",
    "    flux_adu_obj = FLUX_ADU_OBJ[i] # total flux of the disk after multplying by the scaling parameter\n",
    "    flux_adu_star = FLUX_ADU_STAR[i] # within a box region of size = 25 pixels, left+right images\n",
    "    \n",
    "    print('\\n== INFO epoch', INFO[i], '==')\n",
    "    #print('(results *not* corrected from DITs and transmission)')\n",
    "    #print('The flux of the star is {:.1e} ADU.'.format(flux_adu_star))\n",
    "    #print('The flux of the disk is {:.2f} ADU.'.format(flux_adu_obj))\n",
    "\n",
    "    print('(results corrected from DITs and transmission)')\n",
    "    print('The flux of the star is {:.2e} ADU/s.'.format(flux_adu_star/(DIT_STAR*TRANSMISSION_STAR)))\n",
    "    print('The flux of the disk is {:.2f} ADU/s'.format(flux_adu_obj/(DIT_OBJECT*TRANSMISSION_OBJECT)))\n",
    "    \n",
    "    flux_obj_final_unit = ADU2FRACTION(flux_adu_obj, flux_adu_star,\n",
    "        FLUX_REF_STAR, DIT_OBJECT, DIT_STAR, TRANSMISSION_OBJECT, TRANSMISSION_STAR, PLATESCALE)\n",
    "\n",
    "    print('The flux fraction Fd/Fstar is {:.2e}.'.format(flux_obj_final_unit))\n",
    "    \n",
    "    \n",
    "    print('The polarised fraction of the disk Fd_polar/Fd is {:.3f}.'.format(fraction_polar_ref/flux_obj_final_unit))\n",
    "\n",
    "\n",
    "    flux_obj_final_unit = ADU2FLUX(flux_adu_obj, flux_adu_star,\n",
    "            FLUX_REF_STAR, DIT_OBJECT, DIT_STAR, TRANSMISSION_OBJECT, TRANSMISSION_STAR, PLATESCALE)\n",
    "\n",
    "    print('The flux of the disk is {:.2e} Jy.'.format(flux_obj_final_unit))\n",
    "    "
   ]
  },
  {
   "cell_type": "markdown",
   "id": "ec6fc4c9",
   "metadata": {},
   "source": [
    "##### for the total intensity-part: used 5 modes, both channels"
   ]
  },
  {
   "cell_type": "code",
   "execution_count": 10,
   "id": "8250a554",
   "metadata": {},
   "outputs": [],
   "source": [
    "DIT_OBJECT_S = [32, 32, 32]\n",
    "DIT_STAR_S   = [8, 4.001856, 4.001856]\n",
    "\n",
    "TRANSMISSION_STAR_S = [0.014581900, 0.014581900, 0.014581900]\n",
    "\n",
    "DIT_OBJECT_S = [1, 1, 1]\n",
    "DIT_STAR_S   = [1, 1, 1]\n",
    "\n",
    "TRANSMISSION_STAR_S = [1, 1, 1]\n",
    "\n",
    "FLUX_ADU_OBJ  = [3798, 2158, 1898]\n",
    "FLUX_ADU_STAR = [18083288/2, 3557066/2, 1836827] #[16512481/2, 3300536/2, ]\n",
    "INFO = ['2019-07-09', '2016-04-05', '2016-06-03']"
   ]
  },
  {
   "cell_type": "code",
   "execution_count": 11,
   "id": "5eab47f2",
   "metadata": {},
   "outputs": [
    {
     "name": "stdout",
     "output_type": "stream",
     "text": [
      "\n",
      "== INFO epoch 2019-07-09 ==\n",
      "(results corrected from DITs and transmission)\n",
      "The flux of the star is 9.04e+06 ADU/s.\n",
      "The flux of the disk is 3798.00 ADU/s\n",
      "The flux fraction Fd/Fstar is 4.20e-04.\n",
      "The polarised fraction of the disk Fd_polar/Fd is 0.096.\n",
      "The flux of the disk is 4.10e-04 Jy.\n",
      "\n",
      "== INFO epoch 2016-04-05 ==\n",
      "(results corrected from DITs and transmission)\n",
      "The flux of the star is 1.78e+06 ADU/s.\n",
      "The flux of the disk is 2158.00 ADU/s\n",
      "The flux fraction Fd/Fstar is 1.21e-03.\n",
      "The polarised fraction of the disk Fd_polar/Fd is 0.033.\n",
      "The flux of the disk is 1.18e-03 Jy.\n",
      "\n",
      "== INFO epoch 2016-06-03 ==\n",
      "(results corrected from DITs and transmission)\n",
      "The flux of the star is 1.84e+06 ADU/s.\n",
      "The flux of the disk is 1898.00 ADU/s\n",
      "The flux fraction Fd/Fstar is 1.03e-03.\n",
      "The polarised fraction of the disk Fd_polar/Fd is 0.039.\n",
      "The flux of the disk is 1.01e-03 Jy.\n"
     ]
    }
   ],
   "source": [
    "## Params: flux\n",
    "\n",
    "for i in range(len(FLUX_ADU_OBJ)):\n",
    "    TRANSMISSION_STAR = TRANSMISSION_STAR_S[i]\n",
    "    DIT_OBJECT, DIT_STAR = DIT_OBJECT_S[i], DIT_STAR_S[i]\n",
    "    \n",
    "    flux_adu_obj = FLUX_ADU_OBJ[i] # total flux of the disk after multplying by the scaling parameter\n",
    "    flux_adu_star = FLUX_ADU_STAR[i] # within a box region of size = 25 pixels, left+right images\n",
    "    \n",
    "    print('\\n== INFO epoch', INFO[i], '==')\n",
    "    #print('(results *not* corrected from DITs and transmission)')\n",
    "    #print('The flux of the star is {:.1e} ADU.'.format(flux_adu_star))\n",
    "    #print('The flux of the disk is {:.2f} ADU.'.format(flux_adu_obj))\n",
    "\n",
    "    print('(results corrected from DITs and transmission)')\n",
    "    print('The flux of the star is {:.2e} ADU/s.'.format(flux_adu_star/(DIT_STAR*TRANSMISSION_STAR)))\n",
    "    print('The flux of the disk is {:.2f} ADU/s'.format(flux_adu_obj/(DIT_OBJECT*TRANSMISSION_OBJECT)))\n",
    "    \n",
    "    flux_obj_final_unit = ADU2FRACTION(flux_adu_obj, flux_adu_star,\n",
    "        FLUX_REF_STAR, DIT_OBJECT, DIT_STAR, TRANSMISSION_OBJECT, TRANSMISSION_STAR, PLATESCALE)\n",
    "\n",
    "    print('The flux fraction Fd/Fstar is {:.2e}.'.format(flux_obj_final_unit))\n",
    "    \n",
    "     \n",
    "    print('The polarised fraction of the disk Fd_polar/Fd is {:.3f}.'.format(fraction_polar_ref/flux_obj_final_unit))\n",
    "\n",
    "\n",
    "    flux_obj_final_unit = ADU2FLUX(flux_adu_obj, flux_adu_star,\n",
    "            FLUX_REF_STAR, DIT_OBJECT, DIT_STAR, TRANSMISSION_OBJECT, TRANSMISSION_STAR, PLATESCALE)\n",
    "\n",
    "    print('The flux of the disk is {:.2e} Jy.'.format(flux_obj_final_unit))"
   ]
  },
  {
   "cell_type": "markdown",
   "id": "3bf34e37",
   "metadata": {},
   "source": [
    "##### for the total intensity-part: used 10 modes, 1 channel"
   ]
  },
  {
   "cell_type": "code",
   "execution_count": 34,
   "id": "234ee052",
   "metadata": {},
   "outputs": [],
   "source": [
    "DIT_OBJECT_S = [32, 32, 32]\n",
    "DIT_STAR_S   = [8, 4.001856, 4.001856]\n",
    "\n",
    "TRANSMISSION_STAR_S = [0.014581900, 0.014581900, 0.014581900]\n",
    "\n",
    "\n",
    "DIT_OBJECT_S = [1, 1, 1]\n",
    "DIT_STAR_S   = [1, 1, 1]\n",
    "\n",
    "TRANSMISSION_STAR_S = [1, 1, 1]\n",
    "\n",
    "Channel = 2\n",
    "\n",
    "if Channel == 1 :\n",
    "    FLUX_ADU_OBJ  = [3084, 1494, 1603]\n",
    "    FLUX_ADU_STAR = [9028321/2, 1768472/2, 925421] # [8245767/2, 1647963/2, 844699]\n",
    "    \n",
    "else:\n",
    "    FLUX_ADU_OBJ  = [8285, 1560, 1340]\n",
    "    FLUX_ADU_STAR = [9054966/2, 1788593/2, 911405] #(25,25) #[8245767/2, 1647963/2, 844699] (15,15)\n",
    "    \n",
    "\n",
    "INFO = ['2019-07-09', '2016-04-05', '2016-06-03']"
   ]
  },
  {
   "cell_type": "code",
   "execution_count": 35,
   "id": "a5271751",
   "metadata": {},
   "outputs": [
    {
     "name": "stdout",
     "output_type": "stream",
     "text": [
      "\n",
      "== INFO epoch 2019-07-09 ==\n",
      "(results corrected from DITs and transmission)\n",
      "The flux of the star is 4.53e+06 ADU/s.\n",
      "The flux of the disk is 8285.00 ADU/s\n",
      "The flux fraction Fd/Fstar is 1.83e-03.\n",
      "The polarised fraction of the disk Fd_polar/Fd is 0.022.\n",
      "The flux of the disk is 1.78e-03 Jy.\n",
      "\n",
      "== INFO epoch 2016-04-05 ==\n",
      "(results corrected from DITs and transmission)\n",
      "The flux of the star is 8.94e+05 ADU/s.\n",
      "The flux of the disk is 1560.00 ADU/s\n",
      "The flux fraction Fd/Fstar is 1.74e-03.\n",
      "The polarised fraction of the disk Fd_polar/Fd is 0.023.\n",
      "The flux of the disk is 1.70e-03 Jy.\n",
      "\n",
      "== INFO epoch 2016-06-03 ==\n",
      "(results corrected from DITs and transmission)\n",
      "The flux of the star is 9.11e+05 ADU/s.\n",
      "The flux of the disk is 1340.00 ADU/s\n",
      "The flux fraction Fd/Fstar is 1.47e-03.\n",
      "The polarised fraction of the disk Fd_polar/Fd is 0.027.\n",
      "The flux of the disk is 1.43e-03 Jy.\n"
     ]
    }
   ],
   "source": [
    "## Params: flux\n",
    "\n",
    "for i in range(len(FLUX_ADU_OBJ)):\n",
    "    TRANSMISSION_STAR = TRANSMISSION_STAR_S[i]\n",
    "    DIT_OBJECT, DIT_STAR = DIT_OBJECT_S[i], DIT_STAR_S[i]\n",
    "    \n",
    "    flux_adu_obj = FLUX_ADU_OBJ[i] # total flux of the disk after multplying by the scaling parameter\n",
    "    flux_adu_star = FLUX_ADU_STAR[i] # within a box region of size = 25 pixels, left+right images\n",
    "    \n",
    "    print('\\n== INFO epoch', INFO[i], '==')\n",
    "    #print('(results *not* corrected from DITs and transmission)')\n",
    "    #print('The flux of the star is {:.1e} ADU.'.format(flux_adu_star))\n",
    "    #print('The flux of the disk is {:.2f} ADU.'.format(flux_adu_obj))\n",
    "\n",
    "    print('(results corrected from DITs and transmission)')\n",
    "    print('The flux of the star is {:.2e} ADU/s.'.format(flux_adu_star/(DIT_STAR*TRANSMISSION_STAR)))\n",
    "    print('The flux of the disk is {:.2f} ADU/s'.format(flux_adu_obj/(DIT_OBJECT*TRANSMISSION_OBJECT)))\n",
    "\n",
    "    flux_obj_final_unit = ADU2FRACTION(flux_adu_obj, flux_adu_star,\n",
    "        FLUX_REF_STAR, DIT_OBJECT, DIT_STAR, TRANSMISSION_OBJECT, TRANSMISSION_STAR, PLATESCALE)\n",
    "\n",
    "    print('The flux fraction Fd/Fstar is {:.2e}.'.format(flux_obj_final_unit))\n",
    "      \n",
    "    print('The polarised fraction of the disk Fd_polar/Fd is {:.3f}.'.format(fraction_polar_ref/flux_obj_final_unit))\n",
    "\n",
    "    flux_obj_final_unit = ADU2FLUX(flux_adu_obj, flux_adu_star,\n",
    "            FLUX_REF_STAR, DIT_OBJECT, DIT_STAR, TRANSMISSION_OBJECT, TRANSMISSION_STAR, PLATESCALE)\n",
    "\n",
    "    print('The flux of the disk is {:.2e} Jy.'.format(flux_obj_final_unit))"
   ]
  },
  {
   "cell_type": "markdown",
   "id": "262663fa",
   "metadata": {},
   "source": [
    "##### for the total intensity-part: used 10 modes, both channels"
   ]
  },
  {
   "cell_type": "code",
   "execution_count": 14,
   "id": "4dd3f53e",
   "metadata": {},
   "outputs": [],
   "source": [
    "DIT_OBJECT_S = [32, 32, 32]\n",
    "DIT_STAR_S   = [8, 4.001856, 4.001856]\n",
    "\n",
    "TRANSMISSION_STAR_S = [0.014581900, 0.014581900, 0.014581900]\n",
    "\n",
    "\n",
    "\n",
    "DIT_OBJECT_S = [1, 1, 1]\n",
    "DIT_STAR_S   = [1, 1, 1]\n",
    "\n",
    "TRANSMISSION_STAR_S = [1, 1, 1]\n",
    "\n",
    "FLUX_ADU_OBJ  = [9108, 2262, 1339]\n",
    "FLUX_ADU_STAR = [18083288/2, 3557066/2, 1836827] #[16512481/2, 3300536/2, ]\n",
    "INFO = ['2019-07-09', '2016-04-05', '2016-06-03']"
   ]
  },
  {
   "cell_type": "code",
   "execution_count": 15,
   "id": "89fa6108",
   "metadata": {},
   "outputs": [
    {
     "name": "stdout",
     "output_type": "stream",
     "text": [
      "\n",
      "== INFO epoch 2019-07-09 ==\n",
      "(results corrected from DITs and transmission)\n",
      "The flux of the star is 9.0416e+06 ADU/s.\n",
      "The flux of the disk is 9108.00 ADU/s\n",
      "The flux fraction Fd/Fstar is 1.01e-03.\n",
      "The polarised fraction of the disk Fd_polar/Fd is 0.040.\n",
      "The flux of the disk is 9.8216e-04 Jy.\n",
      "\n",
      "== INFO epoch 2016-04-05 ==\n",
      "(results corrected from DITs and transmission)\n",
      "The flux of the star is 1.7785e+06 ADU/s.\n",
      "The flux of the disk is 2262.00 ADU/s\n",
      "The flux fraction Fd/Fstar is 1.27e-03.\n",
      "The polarised fraction of the disk Fd_polar/Fd is 0.032.\n",
      "The flux of the disk is 1.2400e-03 Jy.\n",
      "\n",
      "== INFO epoch 2016-06-03 ==\n",
      "(results corrected from DITs and transmission)\n",
      "The flux of the star is 1.8368e+06 ADU/s.\n",
      "The flux of the disk is 1339.00 ADU/s\n",
      "The flux fraction Fd/Fstar is 7.29e-04.\n",
      "The polarised fraction of the disk Fd_polar/Fd is 0.055.\n",
      "The flux of the disk is 7.1075e-04 Jy.\n"
     ]
    }
   ],
   "source": [
    "## Params: flux\n",
    "\n",
    "for i in range(len(FLUX_ADU_OBJ)):\n",
    "    TRANSMISSION_STAR = TRANSMISSION_STAR_S[i]\n",
    "    DIT_OBJECT, DIT_STAR = DIT_OBJECT_S[i], DIT_STAR_S[i]\n",
    "    \n",
    "    flux_adu_obj = FLUX_ADU_OBJ[i] # total flux of the disk after multplying by the scaling parameter\n",
    "    flux_adu_star = FLUX_ADU_STAR[i] # within a box region of size = 25 pixels, left+right images\n",
    "    \n",
    "    print('\\n== INFO epoch', INFO[i], '==')\n",
    "    #print('(results *not* corrected from DITs and transmission)')\n",
    "    #print('The flux of the star is {:.1e} ADU.'.format(flux_adu_star))\n",
    "    #print('The flux of the disk is {:.2f} ADU.'.format(flux_adu_obj))\n",
    "\n",
    "    print('(results corrected from DITs and transmission)')\n",
    "    print('The flux of the star is {:.4e} ADU/s.'.format(flux_adu_star/(DIT_STAR*TRANSMISSION_STAR)))\n",
    "    print('The flux of the disk is {:.2f} ADU/s'.format(flux_adu_obj/(DIT_OBJECT*TRANSMISSION_OBJECT)))\n",
    "\n",
    "    flux_obj_final_unit = ADU2FRACTION(flux_adu_obj, flux_adu_star,\n",
    "        FLUX_REF_STAR, DIT_OBJECT, DIT_STAR, TRANSMISSION_OBJECT, TRANSMISSION_STAR, PLATESCALE)\n",
    "\n",
    "    print('The flux fraction Fd/Fstar is {:.2e}.'.format(flux_obj_final_unit))\n",
    "      \n",
    "    print('The polarised fraction of the disk Fd_polar/Fd is {:.3f}.'.format(fraction_polar_ref/flux_obj_final_unit))\n",
    "\n",
    "    flux_obj_final_unit = ADU2FLUX(flux_adu_obj, flux_adu_star,\n",
    "            FLUX_REF_STAR, DIT_OBJECT, DIT_STAR, TRANSMISSION_OBJECT, TRANSMISSION_STAR, PLATESCALE)\n",
    "\n",
    "    print('The flux of the disk is {:.4e} Jy.'.format(flux_obj_final_unit))"
   ]
  },
  {
   "cell_type": "code",
   "execution_count": null,
   "id": "1afce2a4",
   "metadata": {},
   "outputs": [],
   "source": []
  },
  {
   "cell_type": "markdown",
   "id": "0f1a407a",
   "metadata": {},
   "source": [
    "# Polarimetry & Total intensity -- concatenated results\n",
    "\n",
    "### Results from joint-fitting polarimetry+total intensity in both BBH and H23 bands \n",
    "\n",
    "##### for the total intensity-part: used 5 modes, 1 channel"
   ]
  },
  {
   "cell_type": "code",
   "execution_count": 290,
   "id": "034cd0ef",
   "metadata": {},
   "outputs": [],
   "source": [
    "DIT_OBJECT_S = [32, 32, 32, 64]\n",
    "DIT_STAR_S   = [8, 4.001856, 4.001856, 0.837464]\n",
    "\n",
    "TRANSMISSION_STAR_S = [0.014581900, 0.014581900, 0.014581900, 0.12591487665785145]\n",
    "\n",
    "\n",
    "DIT_OBJECT_S = [1, 1, 1, 64]\n",
    "DIT_STAR_S   = [1, 1, 1, 0.837464]\n",
    "\n",
    "TRANSMISSION_STAR_S = [1, 1, 1, 0.12591487665785145]\n",
    "\n",
    "FLUX_ADU_OBJ  = [5043, 907.7, 644.4, 18831]\n",
    "FLUX_ADU_STAR = [9028321/2, 1768472/2, 925421, 723584]\n",
    "INFO = ['2019-07-09', '2016-04-05', '2016-06-03', '2018-06-01']"
   ]
  },
  {
   "cell_type": "code",
   "execution_count": 292,
   "id": "dfdd2123",
   "metadata": {},
   "outputs": [
    {
     "name": "stdout",
     "output_type": "stream",
     "text": [
      "\n",
      "== INFO epoch 2019-07-09 ==\n",
      "(results corrected from DITs and transmission)\n",
      "The flux of the star is 4.51e+06 ADU/s.\n",
      "The flux of the disk is 5043.00 ADU/s\n",
      "The flux fraction Fd/Fstar is 1.12e-03.\n",
      "The polarised fraction of the disk Fd_polar/Fd is 0.038.\n",
      "The flux of the disk is 1.09e-03 Jy.\n",
      "\n",
      "== INFO epoch 2016-04-05 ==\n",
      "(results corrected from DITs and transmission)\n",
      "The flux of the star is 8.84e+05 ADU/s.\n",
      "The flux of the disk is 907.70 ADU/s\n",
      "The flux fraction Fd/Fstar is 1.03e-03.\n",
      "The polarised fraction of the disk Fd_polar/Fd is 0.042.\n",
      "The flux of the disk is 1.00e-03 Jy.\n",
      "\n",
      "== INFO epoch 2016-06-03 ==\n",
      "(results corrected from DITs and transmission)\n",
      "The flux of the star is 9.25e+05 ADU/s.\n",
      "The flux of the disk is 644.40 ADU/s\n",
      "The flux fraction Fd/Fstar is 6.96e-04.\n",
      "The polarised fraction of the disk Fd_polar/Fd is 0.062.\n",
      "The flux of the disk is 6.79e-04 Jy.\n",
      "\n",
      "== INFO epoch 2018-06-01 ==\n",
      "(results corrected from DITs and transmission)\n",
      "The flux of the star is 6.86e+06 ADU/s.\n",
      "The flux of the disk is 294.23 ADU/s\n",
      "The flux fraction Fd/Fstar is 4.29e-05.\n",
      "The polarised fraction of the disk Fd_polar/Fd is 1.000.\n",
      "The flux of the disk is 4.18e-05 Jy.\n"
     ]
    }
   ],
   "source": [
    "## Params: flux\n",
    "for i in range(len(FLUX_ADU_OBJ)):\n",
    "    TRANSMISSION_STAR = TRANSMISSION_STAR_S[i]\n",
    "    DIT_OBJECT, DIT_STAR = DIT_OBJECT_S[i], DIT_STAR_S[i]\n",
    "    \n",
    "    flux_adu_obj = FLUX_ADU_OBJ[i] # total flux of the disk after multplying by the scaling parameter\n",
    "    flux_adu_star = FLUX_ADU_STAR[i] # within a box region of size = 25 pixels, left+right images\n",
    "    \n",
    "    print('\\n== INFO epoch', INFO[i], '==')\n",
    "    #print('(results *not* corrected from DITs and transmission)')\n",
    "    #print('The flux of the star is {:.1e} ADU.'.format(flux_adu_star))\n",
    "    #print('The flux of the disk is {:.2f} ADU.'.format(flux_adu_obj))\n",
    "\n",
    "    print('(results corrected from DITs and transmission)')\n",
    "    print('The flux of the star is {:.2e} ADU/s.'.format(flux_adu_star/(DIT_STAR*TRANSMISSION_STAR)))\n",
    "    print('The flux of the disk is {:.2f} ADU/s'.format(flux_adu_obj/(DIT_OBJECT*TRANSMISSION_OBJECT)))\n",
    "    \n",
    "    flux_obj_final_unit = ADU2FRACTION(flux_adu_obj, flux_adu_star,\n",
    "        FLUX_REF_STAR, DIT_OBJECT, DIT_STAR, TRANSMISSION_OBJECT, TRANSMISSION_STAR, PLATESCALE)\n",
    "\n",
    "    print('The flux fraction Fd/Fstar is {:.2e}.'.format(flux_obj_final_unit))\n",
    "    \n",
    "    # should be run twice due to the loop order\n",
    "    if i ==3: fraction_polar_ref = flux_obj_final_unit\n",
    "    \n",
    "    print('The polarised fraction of the disk Fd_polar/Fd is {:.3f}.'.format(fraction_polar_ref/flux_obj_final_unit))\n",
    "\n",
    "    flux_obj_final_unit = ADU2FLUX(flux_adu_obj, flux_adu_star,\n",
    "            FLUX_REF_STAR, DIT_OBJECT, DIT_STAR, TRANSMISSION_OBJECT, TRANSMISSION_STAR, PLATESCALE)\n",
    "\n",
    "    print('The flux of the disk is {:.2e} Jy.'.format(flux_obj_final_unit))"
   ]
  },
  {
   "cell_type": "markdown",
   "id": "d21115b2",
   "metadata": {},
   "source": [
    "##### for the total intensity-part: used 5 modes, both channels"
   ]
  },
  {
   "cell_type": "code",
   "execution_count": 293,
   "id": "07cda384",
   "metadata": {},
   "outputs": [],
   "source": [
    "DIT_OBJECT_S = [32, 32, 32, 64]\n",
    "DIT_STAR_S   = [8, 4.001856, 4.001856, 0.837464]\n",
    "TRANSMISSION_STAR_S = [0.014581900, 0.014581900, 0.014581900, 0.12591487665785145]\n",
    "\n",
    "DIT_OBJECT_S = [1, 1, 1, 64]\n",
    "DIT_STAR_S   = [1, 1, 1, 0.837464]\n",
    "\n",
    "TRANSMISSION_STAR_S = [1, 1, 1, 0.12591487665785145]\n",
    "\n",
    "FLUX_ADU_OBJ  = [8806, 1442, 1533, 18073]\n",
    "FLUX_ADU_STAR = [18083288/2, 3557066/2, 1836827, 723584]\n",
    "INFO = ['2019-07-09', '2016-04-05', '2016-06-03', '2018-06-01']"
   ]
  },
  {
   "cell_type": "code",
   "execution_count": 295,
   "id": "ef218f22",
   "metadata": {},
   "outputs": [
    {
     "name": "stdout",
     "output_type": "stream",
     "text": [
      "\n",
      "== INFO epoch 2019-07-09 ==\n",
      "(results corrected from DITs and transmission)\n",
      "The flux of the star is 9.0e+06 ADU/s.\n",
      "The flux of the disk is 8806.00 ADU/s\n",
      "The flux fraction Fd/Fstar is 9.74e-04.\n",
      "The polarised fraction of the disk Fd_polar/Fd is 0.042.\n",
      "The flux of the disk is 9.50e-04 Jy.\n",
      "\n",
      "== INFO epoch 2016-04-05 ==\n",
      "(results corrected from DITs and transmission)\n",
      "The flux of the star is 1.8e+06 ADU/s.\n",
      "The flux of the disk is 1442.00 ADU/s\n",
      "The flux fraction Fd/Fstar is 8.11e-04.\n",
      "The polarised fraction of the disk Fd_polar/Fd is 0.051.\n",
      "The flux of the disk is 7.91e-04 Jy.\n",
      "\n",
      "== INFO epoch 2016-06-03 ==\n",
      "(results corrected from DITs and transmission)\n",
      "The flux of the star is 1.8e+06 ADU/s.\n",
      "The flux of the disk is 1533.00 ADU/s\n",
      "The flux fraction Fd/Fstar is 8.35e-04.\n",
      "The polarised fraction of the disk Fd_polar/Fd is 0.049.\n",
      "The flux of the disk is 8.14e-04 Jy.\n",
      "\n",
      "== INFO epoch 2018-06-01 ==\n",
      "(results corrected from DITs and transmission)\n",
      "The flux of the star is 6.9e+06 ADU/s.\n",
      "The flux of the disk is 282.39 ADU/s\n",
      "The flux fraction Fd/Fstar is 4.12e-05.\n",
      "The polarised fraction of the disk Fd_polar/Fd is 1.000.\n",
      "The flux of the disk is 4.01e-05 Jy.\n"
     ]
    }
   ],
   "source": [
    "## Params: flux\n",
    "\n",
    "for i in range(len(FLUX_ADU_OBJ)):\n",
    "    TRANSMISSION_STAR = TRANSMISSION_STAR_S[i]\n",
    "    DIT_OBJECT, DIT_STAR = DIT_OBJECT_S[i], DIT_STAR_S[i]\n",
    "    \n",
    "    flux_adu_obj = FLUX_ADU_OBJ[i] # total flux of the disk after multplying by the scaling parameter\n",
    "    flux_adu_star = FLUX_ADU_STAR[i] # within a box region of size = 25 pixels, left+right images\n",
    "    \n",
    "    print('\\n== INFO epoch', INFO[i], '==')\n",
    "    #print('(results *not* corrected from DITs and transmission)')\n",
    "    #print('The flux of the star is {:.1e} ADU.'.format(flux_adu_star))\n",
    "    #print('The flux of the disk is {:.2f} ADU.'.format(flux_adu_obj))\n",
    "\n",
    "\n",
    "    print('(results corrected from DITs and transmission)')\n",
    "    print('The flux of the star is {:.1e} ADU/s.'.format(flux_adu_star/(DIT_STAR*TRANSMISSION_STAR)))\n",
    "    print('The flux of the disk is {:.2f} ADU/s'.format(flux_adu_obj/(DIT_OBJECT*TRANSMISSION_OBJECT)))\n",
    "\n",
    "    \n",
    "    flux_obj_final_unit = ADU2FRACTION(flux_adu_obj, flux_adu_star,\n",
    "        FLUX_REF_STAR, DIT_OBJECT, DIT_STAR, TRANSMISSION_OBJECT, TRANSMISSION_STAR, PLATESCALE)\n",
    "\n",
    "    print('The flux fraction Fd/Fstar is {:.2e}.'.format(flux_obj_final_unit))\n",
    "\n",
    "    # should be run twice due to the loop order\n",
    "    if i ==3: fraction_polar_ref = flux_obj_final_unit\n",
    "    print('The polarised fraction of the disk Fd_polar/Fd is {:.3f}.'.format(fraction_polar_ref/flux_obj_final_unit))\n",
    "\n",
    "    flux_obj_final_unit = ADU2FLUX(flux_adu_obj, flux_adu_star,\n",
    "            FLUX_REF_STAR, DIT_OBJECT, DIT_STAR, TRANSMISSION_OBJECT, TRANSMISSION_STAR, PLATESCALE)\n",
    "\n",
    "    print('The flux of the disk is {:.2e} Jy.'.format(flux_obj_final_unit))"
   ]
  },
  {
   "cell_type": "markdown",
   "id": "378378aa",
   "metadata": {},
   "source": [
    "##### for the total intensity-part: used 10 modes, 1 channel"
   ]
  },
  {
   "cell_type": "code",
   "execution_count": 322,
   "id": "c0085f6c",
   "metadata": {},
   "outputs": [],
   "source": [
    "DIT_OBJECT_S = [32, 32, 32, 64]\n",
    "DIT_STAR_S   = [8, 4.001856, 4.001856, 0.837464]\n",
    "TRANSMISSION_STAR_S = [0.014581900, 0.014581900, 0.014581900, 0.12591487665785145]\n",
    "\n",
    "DIT_OBJECT_S = [1, 1, 1, 64]\n",
    "DIT_STAR_S   = [1, 1, 1, 0.837464]\n",
    "\n",
    "TRANSMISSION_STAR_S = [1, 1, 1, 0.12591487665785145]\n",
    "\n",
    "FLUX_ADU_OBJ  = [3290, 709.3, 711.1, 18162]\n",
    "FLUX_ADU_STAR = [9028321/2, 1768472/2, 925421, 723584]\n",
    "INFO = ['2019-07-09', '2016-04-05', '2016-06-03', '2018-06-01']"
   ]
  },
  {
   "cell_type": "code",
   "execution_count": 323,
   "id": "65dfc676",
   "metadata": {},
   "outputs": [
    {
     "name": "stdout",
     "output_type": "stream",
     "text": [
      "\n",
      "== INFO epoch 2019-07-09 ==\n",
      "(results corrected from DITs and transmission)\n",
      "The flux of the star is 4.51e+06 ADU/s.\n",
      "The flux of the disk is 3290.00 ADU/s\n",
      "The flux fraction Fd/Fstar is 7.29e-04.\n",
      "The polarised fraction of the disk Fd_polar/Fd is 0.057.\n",
      "The flux of the disk is 7.11e-04 Jy.\n",
      "\n",
      "== INFO epoch 2016-04-05 ==\n",
      "(results corrected from DITs and transmission)\n",
      "The flux of the star is 8.84e+05 ADU/s.\n",
      "The flux of the disk is 709.30 ADU/s\n",
      "The flux fraction Fd/Fstar is 8.02e-04.\n",
      "The polarised fraction of the disk Fd_polar/Fd is 0.052.\n",
      "The flux of the disk is 7.82e-04 Jy.\n",
      "\n",
      "== INFO epoch 2016-06-03 ==\n",
      "(results corrected from DITs and transmission)\n",
      "The flux of the star is 9.25e+05 ADU/s.\n",
      "The flux of the disk is 711.10 ADU/s\n",
      "The flux fraction Fd/Fstar is 7.68e-04.\n",
      "The polarised fraction of the disk Fd_polar/Fd is 0.054.\n",
      "The flux of the disk is 7.49e-04 Jy.\n",
      "\n",
      "== INFO epoch 2018-06-01 ==\n",
      "(results corrected from DITs and transmission)\n",
      "The flux of the star is 6.86e+06 ADU/s.\n",
      "The flux of the disk is 283.78 ADU/s\n",
      "The flux fraction Fd/Fstar is 4.14e-05.\n",
      "The polarised fraction of the disk Fd_polar/Fd is 1.000.\n",
      "The flux of the disk is 4.03e-05 Jy.\n"
     ]
    }
   ],
   "source": [
    "## Params: flux\n",
    "\n",
    "for i in range(len(FLUX_ADU_OBJ)):\n",
    "    TRANSMISSION_STAR = TRANSMISSION_STAR_S[i]\n",
    "    DIT_OBJECT, DIT_STAR = DIT_OBJECT_S[i], DIT_STAR_S[i]\n",
    "    \n",
    "    flux_adu_obj = FLUX_ADU_OBJ[i] # total flux of the disk after multplying by the scaling parameter\n",
    "    flux_adu_star = FLUX_ADU_STAR[i] # within a box region of size = 25 pixels, left+right images\n",
    "    \n",
    "    print('\\n== INFO epoch', INFO[i], '==')\n",
    "    #print('(results *not* corrected from DITs and transmission)')\n",
    "    #print('The flux of the star is {:.1e} ADU.'.format(flux_adu_star))\n",
    "    #print('The flux of the disk is {:.2f} ADU.'.format(flux_adu_obj))\n",
    "\n",
    "\n",
    "    print('(results corrected from DITs and transmission)')\n",
    "    print('The flux of the star is {:.2e} ADU/s.'.format(flux_adu_star/(DIT_STAR*TRANSMISSION_STAR)))\n",
    "    print('The flux of the disk is {:.2f} ADU/s'.format(flux_adu_obj/(DIT_OBJECT*TRANSMISSION_OBJECT)))\n",
    "\n",
    "    flux_obj_final_unit = ADU2FRACTION(flux_adu_obj, flux_adu_star,\n",
    "        FLUX_REF_STAR, DIT_OBJECT, DIT_STAR, TRANSMISSION_OBJECT, TRANSMISSION_STAR, PLATESCALE)\n",
    "    print('The flux fraction Fd/Fstar is {:.2e}.'.format(flux_obj_final_unit))\n",
    "\n",
    "    # should be run twice due to the loop order\n",
    "    if i ==3: fraction_polar_ref = flux_obj_final_unit    \n",
    "    print('The polarised fraction of the disk Fd_polar/Fd is {:.3f}.'.format(fraction_polar_ref/flux_obj_final_unit))\n",
    "\n",
    "    flux_obj_final_unit = ADU2FLUX(flux_adu_obj, flux_adu_star,\n",
    "            FLUX_REF_STAR, DIT_OBJECT, DIT_STAR, TRANSMISSION_OBJECT, TRANSMISSION_STAR, PLATESCALE)\n",
    "\n",
    "    print('The flux of the disk is {:.2e} Jy.'.format(flux_obj_final_unit))"
   ]
  },
  {
   "cell_type": "markdown",
   "id": "9fd1d13a",
   "metadata": {},
   "source": [
    "##### for the total intensity-part: used 10 modes, both channels"
   ]
  },
  {
   "cell_type": "code",
   "execution_count": 327,
   "id": "bf3505bc",
   "metadata": {},
   "outputs": [],
   "source": [
    "DIT_OBJECT_S = [32, 4.001856, 4.001856, 64]\n",
    "DIT_STAR_S   = [32, 4.001856, 4.001856, 0.837464]\n",
    "TRANSMISSION_STAR_S = [0.014581900, 0.014581900, 0.014581900, 0.12591487665785145]\n",
    "\n",
    "DIT_OBJECT_S = [1, 1, 1, 64]\n",
    "DIT_STAR_S   = [1, 1, 1, 0.837464]\n",
    "\n",
    "TRANSMISSION_STAR_S = [1, 1, 1, 0.12591487665785145]\n",
    "\n",
    "FLUX_ADU_OBJ  = [6709, 1365, 1113, 18173]\n",
    "FLUX_ADU_STAR = [18083288/2, 3557066/2, 1836827, 723584]\n",
    "#FLUX_ADU_STAR = [9041644.0, 1778532.9, 1836827, 723584]\n",
    "INFO = ['2019-07-09', '2016-04-05', '2016-06-03', '2018-06-01']"
   ]
  },
  {
   "cell_type": "code",
   "execution_count": 328,
   "id": "b44822e7",
   "metadata": {},
   "outputs": [
    {
     "name": "stdout",
     "output_type": "stream",
     "text": [
      "\n",
      "== INFO epoch 2019-07-09 ==\n",
      "(results corrected from DITs and transmission)\n",
      "The flux of the star is 9.0416e+06 ADU/s.\n",
      "The flux of the disk is 6709.00 ADU/s\n",
      "The flux fraction Fd/Fstar is 7.42e-04.\n",
      "The polarised fraction of the disk Fd_polar/Fd is 0.056.\n",
      "The flux of the disk is 7.23e-04 Jy.\n",
      "\n",
      "== INFO epoch 2016-04-05 ==\n",
      "(results corrected from DITs and transmission)\n",
      "The flux of the star is 1.7785e+06 ADU/s.\n",
      "The flux of the disk is 1365.00 ADU/s\n",
      "The flux fraction Fd/Fstar is 7.67e-04.\n",
      "The polarised fraction of the disk Fd_polar/Fd is 0.054.\n",
      "The flux of the disk is 7.48e-04 Jy.\n",
      "\n",
      "== INFO epoch 2016-06-03 ==\n",
      "(results corrected from DITs and transmission)\n",
      "The flux of the star is 1.8368e+06 ADU/s.\n",
      "The flux of the disk is 1113.00 ADU/s\n",
      "The flux fraction Fd/Fstar is 6.06e-04.\n",
      "The polarised fraction of the disk Fd_polar/Fd is 0.068.\n",
      "The flux of the disk is 5.91e-04 Jy.\n",
      "\n",
      "== INFO epoch 2018-06-01 ==\n",
      "(results corrected from DITs and transmission)\n",
      "The flux of the star is 6.8619e+06 ADU/s.\n",
      "The flux of the disk is 283.95 ADU/s\n",
      "The flux fraction Fd/Fstar is 4.14e-05.\n",
      "The polarised fraction of the disk Fd_polar/Fd is 1.000.\n",
      "The flux of the disk is 4.03e-05 Jy.\n"
     ]
    }
   ],
   "source": [
    "## Params: flux\n",
    "\n",
    "for i in range(len(FLUX_ADU_OBJ)):\n",
    "    TRANSMISSION_STAR = TRANSMISSION_STAR_S[i]\n",
    "    DIT_OBJECT, DIT_STAR = DIT_OBJECT_S[i], DIT_STAR_S[i]\n",
    "    \n",
    "    flux_adu_obj = FLUX_ADU_OBJ[i] # total flux of the disk after multplying by the scaling parameter\n",
    "    flux_adu_star = FLUX_ADU_STAR[i] # within a box region of size = 25 pixels, left+right images\n",
    "    \n",
    "    print('\\n== INFO epoch', INFO[i], '==')\n",
    "    #print('(results *not* corrected from DITs and transmission)')\n",
    "    #print('The flux of the star is {:.1e} ADU.'.format(flux_adu_star))\n",
    "    #print('The flux of the disk is {:.2f} ADU.'.format(flux_adu_obj))\n",
    "\n",
    "    print('(results corrected from DITs and transmission)')\n",
    "    print('The flux of the star is {:.4e} ADU/s.'.format(flux_adu_star/(DIT_STAR*TRANSMISSION_STAR)))\n",
    "    print('The flux of the disk is {:.2f} ADU/s'.format(flux_adu_obj/(DIT_OBJECT*TRANSMISSION_OBJECT)))\n",
    "\n",
    "    flux_obj_final_unit = ADU2FRACTION(flux_adu_obj, flux_adu_star,\n",
    "        FLUX_REF_STAR, DIT_OBJECT, DIT_STAR, TRANSMISSION_OBJECT, TRANSMISSION_STAR, PLATESCALE)\n",
    "    print('The flux fraction Fd/Fstar is {:.2e}.'.format(flux_obj_final_unit))\n",
    "\n",
    "    # should be run twice due to the loop order\n",
    "    if i ==3: fraction_polar_ref = flux_obj_final_unit    \n",
    "    print('The polarised fraction of the disk Fd_polar/Fd is {:.3f}.'.format(fraction_polar_ref/flux_obj_final_unit))\n",
    "\n",
    "          \n",
    "    flux_obj_final_unit = ADU2FLUX(flux_adu_obj, flux_adu_star,\n",
    "            FLUX_REF_STAR, DIT_OBJECT, DIT_STAR, TRANSMISSION_OBJECT, TRANSMISSION_STAR, PLATESCALE)\n",
    "\n",
    "    print('The flux of the disk is {:.2e} Jy.'.format(flux_obj_final_unit))"
   ]
  },
  {
   "cell_type": "code",
   "execution_count": null,
   "id": "5c57946b",
   "metadata": {
    "scrolled": false
   },
   "outputs": [],
   "source": []
  },
  {
   "cell_type": "markdown",
   "id": "aa51beae",
   "metadata": {},
   "source": [
    "### Results from joint-fitting total intensity in both BBH and H23 bands \n",
    "\n",
    "##### for the total intensity-part: used 5 modes, 1 channel"
   ]
  },
  {
   "cell_type": "code",
   "execution_count": 329,
   "id": "81b63936",
   "metadata": {},
   "outputs": [],
   "source": [
    "fraction_polar_ref = fraction_polar_ref_indpt\n",
    "\n",
    "DIT_OBJECT_S = [32, 32, 32]\n",
    "DIT_STAR_S   = [8, 4.001856, 4.001856]\n",
    "\n",
    "TRANSMISSION_STAR_S = [0.014581900, 0.014581900, 0.014581900]\n",
    "\n",
    "DIT_OBJECT_S = [1, 1, 1]\n",
    "DIT_STAR_S   = [1, 1, 1]\n",
    "\n",
    "TRANSMISSION_STAR_S = [1, 1, 1]\n",
    "\n",
    "FLUX_ADU_OBJ  = [8819, 1231, 1691]\n",
    "FLUX_ADU_STAR = [9028321/2, 1768472/2, 925421]\n",
    "INFO = ['2019-07-09', '2016-04-05', '2016-06-03']"
   ]
  },
  {
   "cell_type": "code",
   "execution_count": 331,
   "id": "8ecadc67",
   "metadata": {},
   "outputs": [
    {
     "name": "stdout",
     "output_type": "stream",
     "text": [
      "\n",
      "== INFO epoch 2019-07-09 ==\n",
      "(results corrected from DITs and transmission)\n",
      "The flux of the star is 4.51e+06 ADU/s.\n",
      "The flux of the disk is 8819.00 ADU/s\n",
      "The flux fraction Fd/Fstar is 1.95e-03.\n",
      "The polarised fraction of the disk Fd_polar/Fd is 0.022.\n",
      "The flux of the disk is 1.90e-03 Jy.\n",
      "\n",
      "== INFO epoch 2016-04-05 ==\n",
      "(results corrected from DITs and transmission)\n",
      "The flux of the star is 8.84e+05 ADU/s.\n",
      "The flux of the disk is 1231.00 ADU/s\n",
      "The flux fraction Fd/Fstar is 1.39e-03.\n",
      "The polarised fraction of the disk Fd_polar/Fd is 0.030.\n",
      "The flux of the disk is 1.36e-03 Jy.\n",
      "\n",
      "== INFO epoch 2016-06-03 ==\n",
      "(results corrected from DITs and transmission)\n",
      "The flux of the star is 9.25e+05 ADU/s.\n",
      "The flux of the disk is 1691.00 ADU/s\n",
      "The flux fraction Fd/Fstar is 1.83e-03.\n",
      "The polarised fraction of the disk Fd_polar/Fd is 0.023.\n",
      "The flux of the disk is 1.78e-03 Jy.\n"
     ]
    }
   ],
   "source": [
    "## Params: flux\n",
    "for i in range(len(FLUX_ADU_OBJ)):\n",
    "    TRANSMISSION_STAR = TRANSMISSION_STAR_S[i]\n",
    "    DIT_OBJECT, DIT_STAR = DIT_OBJECT_S[i], DIT_STAR_S[i]\n",
    "    \n",
    "    flux_adu_obj = FLUX_ADU_OBJ[i] # total flux of the disk after multplying by the scaling parameter\n",
    "    flux_adu_star = FLUX_ADU_STAR[i] # within a box region of size = 25 pixels, left+right images\n",
    "    \n",
    "    print('\\n== INFO epoch', INFO[i], '==')\n",
    "    #print('(results *not* corrected from DITs and transmission)')\n",
    "    #print('The flux of the star is {:.1e} ADU.'.format(flux_adu_star))\n",
    "    #print('The flux of the disk is {:.2f} ADU.'.format(flux_adu_obj))\n",
    "\n",
    "    print('(results corrected from DITs and transmission)')\n",
    "    print('The flux of the star is {:.2e} ADU/s.'.format(flux_adu_star/(DIT_STAR*TRANSMISSION_STAR)))\n",
    "    print('The flux of the disk is {:.2f} ADU/s'.format(flux_adu_obj/(DIT_OBJECT*TRANSMISSION_OBJECT)))\n",
    "\n",
    "    flux_obj_final_unit = ADU2FRACTION(flux_adu_obj, flux_adu_star,\n",
    "        FLUX_REF_STAR, DIT_OBJECT, DIT_STAR, TRANSMISSION_OBJECT, TRANSMISSION_STAR, PLATESCALE)\n",
    "\n",
    "    print('The flux fraction Fd/Fstar is {:.2e}.'.format(flux_obj_final_unit))\n",
    "    \n",
    "    print('The polarised fraction of the disk Fd_polar/Fd is {:.3f}.'.format(fraction_polar_ref/flux_obj_final_unit))\n",
    "\n",
    "    flux_obj_final_unit = ADU2FLUX(flux_adu_obj, flux_adu_star,\n",
    "            FLUX_REF_STAR, DIT_OBJECT, DIT_STAR, TRANSMISSION_OBJECT, TRANSMISSION_STAR, PLATESCALE)\n",
    "\n",
    "    print('The flux of the disk is {:.2e} Jy.'.format(flux_obj_final_unit))"
   ]
  },
  {
   "cell_type": "markdown",
   "id": "e4cd1769",
   "metadata": {},
   "source": [
    "##### for the total intensity-part: used 5 modes, both channels"
   ]
  },
  {
   "cell_type": "code",
   "execution_count": 335,
   "id": "89002fb7",
   "metadata": {},
   "outputs": [],
   "source": [
    "DIT_OBJECT_S = [32, 32, 32]\n",
    "DIT_STAR_S   = [8, 4.001856, 4.001856]\n",
    "\n",
    "TRANSMISSION_STAR_S = [0.014581900, 0.014581900, 0.014581900]\n",
    "\n",
    "DIT_OBJECT_S = [1, 1, 1]\n",
    "DIT_STAR_S   = [1, 1, 1]\n",
    "\n",
    "TRANSMISSION_STAR_S = [1, 1, 1]\n",
    "\n",
    "FLUX_ADU_OBJ  = [18956, 3294, 3043]\n",
    "FLUX_ADU_STAR = [18083288/2, 3557066/2, 1836827]\n",
    "INFO = ['2019-07-09', '2016-04-05', '2016-06-03']"
   ]
  },
  {
   "cell_type": "code",
   "execution_count": 336,
   "id": "4266e535",
   "metadata": {},
   "outputs": [
    {
     "name": "stdout",
     "output_type": "stream",
     "text": [
      "\n",
      "== INFO epoch 2019-07-09 ==\n",
      "(results corrected from DITs and transmission)\n",
      "The flux of the star is 9.04e+06 ADU/s.\n",
      "The flux of the disk is 18956.00 ADU/s\n",
      "The flux fraction Fd/Fstar is 2.10e-03.\n",
      "The polarised fraction of the disk Fd_polar/Fd is 0.020.\n",
      "The flux of the disk is 2.04e-03 Jy.\n",
      "\n",
      "== INFO epoch 2016-04-05 ==\n",
      "(results corrected from DITs and transmission)\n",
      "The flux of the star is 1.78e+06 ADU/s.\n",
      "The flux of the disk is 3294.00 ADU/s\n",
      "The flux fraction Fd/Fstar is 1.85e-03.\n",
      "The polarised fraction of the disk Fd_polar/Fd is 0.023.\n",
      "The flux of the disk is 1.81e-03 Jy.\n",
      "\n",
      "== INFO epoch 2016-06-03 ==\n",
      "(results corrected from DITs and transmission)\n",
      "The flux of the star is 1.84e+06 ADU/s.\n",
      "The flux of the disk is 3043.00 ADU/s\n",
      "The flux fraction Fd/Fstar is 1.66e-03.\n",
      "The polarised fraction of the disk Fd_polar/Fd is 0.026.\n",
      "The flux of the disk is 1.62e-03 Jy.\n"
     ]
    }
   ],
   "source": [
    "## Params: flux\n",
    "for i in range(len(FLUX_ADU_OBJ)):\n",
    "    TRANSMISSION_STAR = TRANSMISSION_STAR_S[i]\n",
    "    DIT_OBJECT, DIT_STAR = DIT_OBJECT_S[i], DIT_STAR_S[i]\n",
    "    \n",
    "    flux_adu_obj = FLUX_ADU_OBJ[i] # total flux of the disk after multplying by the scaling parameter\n",
    "    flux_adu_star = FLUX_ADU_STAR[i] # within a box region of size = 25 pixels, left+right images\n",
    "    \n",
    "    print('\\n== INFO epoch', INFO[i], '==')\n",
    "    #print('(results *not* corrected from DITs and transmission)')\n",
    "    #print('The flux of the star is {:.1e} ADU.'.format(flux_adu_star))\n",
    "    #print('The flux of the disk is {:.2f} ADU.'.format(flux_adu_obj))\n",
    "\n",
    "    print('(results corrected from DITs and transmission)')\n",
    "    print('The flux of the star is {:.2e} ADU/s.'.format(flux_adu_star/(DIT_STAR*TRANSMISSION_STAR)))\n",
    "    print('The flux of the disk is {:.2f} ADU/s'.format(flux_adu_obj/(DIT_OBJECT*TRANSMISSION_OBJECT)))\n",
    "    \n",
    "    flux_obj_final_unit = ADU2FRACTION(flux_adu_obj, flux_adu_star,\n",
    "        FLUX_REF_STAR, DIT_OBJECT, DIT_STAR, TRANSMISSION_OBJECT, TRANSMISSION_STAR, PLATESCALE)\n",
    "\n",
    "    print('The flux fraction Fd/Fstar is {:.2e}.'.format(flux_obj_final_unit))\n",
    "    \n",
    "    print('The polarised fraction of the disk Fd_polar/Fd is {:.3f}.'.format(fraction_polar_ref/flux_obj_final_unit))\n",
    "\n",
    "    flux_obj_final_unit = ADU2FLUX(flux_adu_obj, flux_adu_star,\n",
    "            FLUX_REF_STAR, DIT_OBJECT, DIT_STAR, TRANSMISSION_OBJECT, TRANSMISSION_STAR, PLATESCALE)\n",
    "\n",
    "    print('The flux of the disk is {:.2e} Jy.'.format(flux_obj_final_unit))"
   ]
  },
  {
   "cell_type": "markdown",
   "id": "1d5c20dc",
   "metadata": {},
   "source": [
    "##### for the total intensity-part: used 10 modes, 1 channel"
   ]
  },
  {
   "cell_type": "code",
   "execution_count": 332,
   "id": "a4af4026",
   "metadata": {},
   "outputs": [],
   "source": [
    "DIT_OBJECT_S = [32, 32, 32]\n",
    "DIT_STAR_S   = [8, 4.001856, 4.001856]\n",
    "\n",
    "TRANSMISSION_STAR_S = [0.014581900, 0.014581900, 0.014581900]\n",
    "\n",
    "\n",
    "DIT_OBJECT_S = [1, 1, 1]\n",
    "DIT_STAR_S   = [1, 1, 1]\n",
    "\n",
    "TRANSMISSION_STAR_S = [1, 1, 1]\n",
    "\n",
    "FLUX_ADU_OBJ  = [5000, 1176, 1071]\n",
    "FLUX_ADU_STAR = [9028321/2, 1768472/2, 925421, 723584]\n",
    "INFO = ['2019-07-09', '2016-04-05', '2016-06-03']"
   ]
  },
  {
   "cell_type": "code",
   "execution_count": 333,
   "id": "29ae2778",
   "metadata": {},
   "outputs": [
    {
     "name": "stdout",
     "output_type": "stream",
     "text": [
      "\n",
      "== INFO epoch 2019-07-09 ==\n",
      "(results corrected from DITs and transmission)\n",
      "The flux of the star is 4.5e+06 ADU/s.\n",
      "The flux of the disk is 5000.00 ADU/s\n",
      "The flux fraction Fd/Fstar is 1.11e-03.\n",
      "The polarised fraction of the disk Fd_polar/Fd is 0.038.\n",
      "The flux of the disk is 1.08e-03 Jy.\n",
      "\n",
      "== INFO epoch 2016-04-05 ==\n",
      "(results corrected from DITs and transmission)\n",
      "The flux of the star is 8.8e+05 ADU/s.\n",
      "The flux of the disk is 1176.00 ADU/s\n",
      "The flux fraction Fd/Fstar is 1.33e-03.\n",
      "The polarised fraction of the disk Fd_polar/Fd is 0.032.\n",
      "The flux of the disk is 1.30e-03 Jy.\n",
      "\n",
      "== INFO epoch 2016-06-03 ==\n",
      "(results corrected from DITs and transmission)\n",
      "The flux of the star is 9.3e+05 ADU/s.\n",
      "The flux of the disk is 1071.00 ADU/s\n",
      "The flux fraction Fd/Fstar is 1.16e-03.\n",
      "The polarised fraction of the disk Fd_polar/Fd is 0.037.\n",
      "The flux of the disk is 1.13e-03 Jy.\n"
     ]
    }
   ],
   "source": [
    "## Params: flux\n",
    "for i in range(len(FLUX_ADU_OBJ)):\n",
    "    TRANSMISSION_STAR = TRANSMISSION_STAR_S[i]\n",
    "    DIT_OBJECT, DIT_STAR = DIT_OBJECT_S[i], DIT_STAR_S[i]\n",
    "    \n",
    "    flux_adu_obj = FLUX_ADU_OBJ[i] # total flux of the disk after multplying by the scaling parameter\n",
    "    flux_adu_star = FLUX_ADU_STAR[i] # within a box region of size = 25 pixels, left+right images\n",
    "    \n",
    "    print('\\n== INFO epoch', INFO[i], '==')\n",
    "    #print('(results *not* corrected from DITs and transmission)')\n",
    "    #print('The flux of the star is {:.1e} ADU.'.format(flux_adu_star))\n",
    "    #print('The flux of the disk is {:.2f} ADU.'.format(flux_adu_obj))\n",
    "\n",
    "    print('(results corrected from DITs and transmission)')\n",
    "    print('The flux of the star is {:.1e} ADU/s.'.format(flux_adu_star/(DIT_STAR*TRANSMISSION_STAR)))\n",
    "    print('The flux of the disk is {:.2f} ADU/s'.format(flux_adu_obj/(DIT_OBJECT*TRANSMISSION_OBJECT)))\n",
    "\n",
    "    flux_obj_final_unit = ADU2FRACTION(flux_adu_obj, flux_adu_star,\n",
    "        FLUX_REF_STAR, DIT_OBJECT, DIT_STAR, TRANSMISSION_OBJECT, TRANSMISSION_STAR, PLATESCALE)\n",
    "\n",
    "    print('The flux fraction Fd/Fstar is {:.2e}.'.format(flux_obj_final_unit))\n",
    "\n",
    "    print('The polarised fraction of the disk Fd_polar/Fd is {:.3f}.'.format(fraction_polar_ref/flux_obj_final_unit))\n",
    "\n",
    "    flux_obj_final_unit = ADU2FLUX(flux_adu_obj, flux_adu_star,\n",
    "            FLUX_REF_STAR, DIT_OBJECT, DIT_STAR, TRANSMISSION_OBJECT, TRANSMISSION_STAR, PLATESCALE)\n",
    "\n",
    "    print('The flux of the disk is {:.2e} Jy.'.format(flux_obj_final_unit))"
   ]
  },
  {
   "cell_type": "markdown",
   "id": "408f3a81",
   "metadata": {},
   "source": [
    "##### for the total intensity-part: used 10 modes, both channels"
   ]
  },
  {
   "cell_type": "code",
   "execution_count": 310,
   "id": "0a0047cf",
   "metadata": {},
   "outputs": [],
   "source": [
    "DIT_OBJECT_S = [32, 4.001856, 4.001856]\n",
    "DIT_STAR_S   = [32, 4.001856, 4.001856]\n",
    "\n",
    "TRANSMISSION_STAR_S = [0.014581900, 0.014581900, 0.014581900]\n",
    "\n",
    "\n",
    "DIT_OBJECT_S = [1, 1, 1]\n",
    "DIT_STAR_S   = [1, 1, 1]\n",
    "\n",
    "TRANSMISSION_STAR_S = [1, 1, 1]\n",
    "\n",
    "FLUX_ADU_OBJ  = [8510, 1728, 1201]\n",
    "FLUX_ADU_STAR = [18083288/2, 3557066/2, 1836827, 723584]\n",
    "INFO = ['2019-07-09', '2016-04-05', '2016-06-03']"
   ]
  },
  {
   "cell_type": "code",
   "execution_count": 311,
   "id": "3c43830c",
   "metadata": {},
   "outputs": [
    {
     "name": "stdout",
     "output_type": "stream",
     "text": [
      "\n",
      "== INFO epoch 2019-07-09 ==\n",
      "(results corrected from DITs and transmission)\n",
      "The flux of the star is 9.0e+06 ADU/s.\n",
      "The flux of the disk is 8510.00 ADU/s\n",
      "The flux fraction Fd/Fstar is 9.41e-04.\n",
      "The polarised fraction of the disk Fd_polar/Fd is 0.045.\n",
      "The flux of the disk is 9.18e-04 Jy.\n",
      "\n",
      "== INFO epoch 2016-04-05 ==\n",
      "(results corrected from DITs and transmission)\n",
      "The flux of the star is 1.8e+06 ADU/s.\n",
      "The flux of the disk is 1728.00 ADU/s\n",
      "The flux fraction Fd/Fstar is 9.72e-04.\n",
      "The polarised fraction of the disk Fd_polar/Fd is 0.044.\n",
      "The flux of the disk is 9.47e-04 Jy.\n",
      "\n",
      "== INFO epoch 2016-06-03 ==\n",
      "(results corrected from DITs and transmission)\n",
      "The flux of the star is 1.8e+06 ADU/s.\n",
      "The flux of the disk is 1201.00 ADU/s\n",
      "The flux fraction Fd/Fstar is 6.54e-04.\n",
      "The polarised fraction of the disk Fd_polar/Fd is 0.065.\n",
      "The flux of the disk is 6.37e-04 Jy.\n"
     ]
    }
   ],
   "source": [
    "## Params: flux\n",
    "for i in range(len(FLUX_ADU_OBJ)):\n",
    "    TRANSMISSION_STAR = TRANSMISSION_STAR_S[i]\n",
    "    DIT_OBJECT, DIT_STAR = DIT_OBJECT_S[i], DIT_STAR_S[i]\n",
    "    \n",
    "    flux_adu_obj = FLUX_ADU_OBJ[i] # total flux of the disk after multplying by the scaling parameter\n",
    "    flux_adu_star = FLUX_ADU_STAR[i] # within a box region of size = 25 pixels, left+right images\n",
    "    \n",
    "    print('\\n== INFO epoch', INFO[i], '==')\n",
    "    #print('(results *not* corrected from DITs and transmission)')\n",
    "    #print('The flux of the star is {:.1e} ADU.'.format(flux_adu_star))\n",
    "    #print('The flux of the disk is {:.2f} ADU.'.format(flux_adu_obj))\n",
    "\n",
    "    print('(results corrected from DITs and transmission)')\n",
    "    print('The flux of the star is {:.1e} ADU/s.'.format(flux_adu_star/(DIT_STAR*TRANSMISSION_STAR)))\n",
    "    print('The flux of the disk is {:.2f} ADU/s'.format(flux_adu_obj/(DIT_OBJECT*TRANSMISSION_OBJECT)))\n",
    "\n",
    "    flux_obj_final_unit = ADU2FRACTION(flux_adu_obj, flux_adu_star,\n",
    "        FLUX_REF_STAR, DIT_OBJECT, DIT_STAR, TRANSMISSION_OBJECT, TRANSMISSION_STAR, PLATESCALE)\n",
    "\n",
    "    print('The flux fraction Fd/Fstar is {:.2e}.'.format(flux_obj_final_unit))\n",
    "    \n",
    "    print('The polarised fraction of the disk Fd_polar/Fd is {:.3f}.'.format(fraction_polar_ref/flux_obj_final_unit))\n",
    "\n",
    "    flux_obj_final_unit = ADU2FLUX(flux_adu_obj, flux_adu_star,\n",
    "            FLUX_REF_STAR, DIT_OBJECT, DIT_STAR, TRANSMISSION_OBJECT, TRANSMISSION_STAR, PLATESCALE)\n",
    "\n",
    "    print('The flux of the disk is {:.2e} Jy.'.format(flux_obj_final_unit))"
   ]
  },
  {
   "cell_type": "markdown",
   "id": "81c1ea2b",
   "metadata": {},
   "source": [
    "# 2. From processed data\n",
    "\n",
    "From polarimetry maybe relevant but be careful for total imaging: self-subtraction effect !! so underestimation of the flux on the processed image.\n",
    "\n",
    "\n",
    "# Polarimetry\n",
    "\n",
    "**Goal:** From Qphi image, we have values in ADU We want to convert this ADU value in a flux value.\n",
    "\n",
    "\n",
    "$$\\text{QPHI (ADU)} \\; \\rightarrow\\; \\text{QPHI (Jy)}\\; =\\; \\frac{\\text{QPHI (ADU)}}{\\text{STAR (ADU)}} \\times \\frac{\\text{DIT}_\\star}{\\text{DIT}_\\text{QPHI}} \\times \\frac{\\text{TRANSMISSION}_\\star}{\\text{TRANSMISSION}_\\text{QPHI}}  \\times \\frac{1}{\\text{PLATESCALE (arcsec/pixel)}^2} \\times \\text{STAR (Jy)} $$  "
   ]
  },
  {
   "cell_type": "markdown",
   "id": "2f4d01e0",
   "metadata": {},
   "source": [
    "Values of DIT_STAR, DIT_OBJECT, TRANSMISSION_STAR, TRANSMISSION_OBJECT are taken from the header of the cubes."
   ]
  },
  {
   "cell_type": "code",
   "execution_count": 48,
   "id": "539ff560",
   "metadata": {},
   "outputs": [],
   "source": [
    "## Params: obs\n",
    "DIT_STAR, DIT_OBJECT = 0.837464, 64 # s taken from the header of the images\n",
    "TRANSMISSION_STAR, TRANSMISSION_OBJECT = 0.12591487665785145, 1 # corresponds to ND1.0 and OPEN; taken from the header of the images\n",
    "PLATESCALE =  12.25e-3 # arcsec/pix \n",
    "FLUX_REF_STAR = 0.975 # Jy from Simbad in the filter Johnson H"
   ]
  },
  {
   "cell_type": "code",
   "execution_count": 49,
   "id": "c3298e89",
   "metadata": {},
   "outputs": [],
   "source": [
    "#DIT_STAR/DIT_OBJECT"
   ]
  },
  {
   "cell_type": "code",
   "execution_count": 50,
   "id": "7a28787a",
   "metadata": {},
   "outputs": [],
   "source": [
    "#TRANSMISSION_STAR/TRANSMISSION_OBJECT"
   ]
  },
  {
   "cell_type": "markdown",
   "id": "efb8b01f",
   "metadata": {},
   "source": [
    "Note: for the polarimetric image, IRDAP considers both left and right cubes. Thus, when we consider the stellar flux, we sum the values of the left and right images within a circular of a given radius.\n",
    "\n",
    "By default, a radius of 120 pixels is used in the IRDAP processing. However, as we would like to compare polarised fraction to total intensity fraction, and that in total intensity the PSF file (\"median_unsat.fits\") is smaller (64x64 pixels^2), we use a radius of 30 pixels to derive the stellar flux in polarimetry and in total intensity. \n",
    "\n"
   ]
  },
  {
   "cell_type": "code",
   "execution_count": 31,
   "id": "128b7012",
   "metadata": {},
   "outputs": [
    {
     "name": "stdout",
     "output_type": "stream",
     "text": [
      "(results *not* corrected from DITs and transmission)\n",
      "The flux of the star is 3.9e+05 ADU.\n",
      "The flux of the disk is 25.00 ADU.\n",
      "\n",
      "(results corrected from DITs and transmission)\n",
      "The flux of the star is 3.7e+06 ADU/s.\n",
      "The flux of the disk is 0.39 ADU/s(!)\n"
     ]
    }
   ],
   "source": [
    "## Params: flux\n",
    "flux_adu_obj = 25 # value of a pixel in a bright location of the disk in the QPHI IRDAP-processed image.\n",
    "flux_adu_star = (194015+195473) # within circular region of r = 30 pixels, left+right images\n",
    "#flux_adu_star = 216706 # within circular region of r = 120 pixels. Default is r = 120 pixels.\n",
    "\n",
    "\n",
    "print('(results *not* corrected from DITs and transmission)')\n",
    "print('The flux of the star is {:.1e} ADU.'.format(flux_adu_star))\n",
    "print('The flux of the disk is {:.2f} ADU.'.format(flux_adu_obj))\n",
    "\n",
    "\n",
    "print('\\n(results corrected from DITs and transmission)')\n",
    "print('The flux of the star is {:.1e} ADU/s.'.format(flux_adu_star/(DIT_STAR*TRANSMISSION_STAR)))\n",
    "print('The flux of the disk is {:.2f} ADU/s(!)'.format(flux_adu_obj/(DIT_OBJECT*TRANSMISSION_OBJECT)))"
   ]
  },
  {
   "cell_type": "code",
   "execution_count": 32,
   "id": "aec9faff",
   "metadata": {
    "scrolled": true
   },
   "outputs": [
    {
     "name": "stdout",
     "output_type": "stream",
     "text": [
      "Star flux = 3.694e+06 ADU/s\n",
      "The flux of the disk is 6.9e-04 Jy/arcsec^2.\n"
     ]
    }
   ],
   "source": [
    "flux_obj_final_unit =  ADU2FLUX(flux_adu_obj, flux_adu_star,\n",
    "        FLUX_REF_STAR, DIT_OBJECT, DIT_STAR, TRANSMISSION_OBJECT, TRANSMISSION_STAR, PLATESCALE)\n",
    "\n",
    "print('The flux of the disk is {:.1e} Jy/arcsec^2.'.format(flux_obj_final_unit))"
   ]
  },
  {
   "cell_type": "markdown",
   "id": "24dfd952",
   "metadata": {},
   "source": [
    "# Total intensity\n",
    "\n",
    "For the star flux, we have two PSF acquired before and after the observation and for the left and right part of the detector.\n",
    "We sum the flux of the left and rights images, and take the mean from before and after the observation.\n",
    "\n",
    "Values of DIT_STAR, DIT_OBJECT, TRANSMISSION_STAR, TRANSMISSION_OBJECT are taken from the header of the cubes."
   ]
  },
  {
   "cell_type": "code",
   "execution_count": 33,
   "id": "b9592248",
   "metadata": {},
   "outputs": [],
   "source": [
    "# Params\n",
    "DIT_STAR, DIT_OBJECT = 8, 32 # s\n",
    "TRANSMISSION_STAR, TRANSMISSION_OBJECT = 0.014581900, 1 # ND2.0 and OPEN are used. Corresponding value for ND2.0\n",
    "# taken from the ESO website https://www.eso.org/sci/facilities/paranal/instruments/sphere/inst/filters.html\n",
    "PLATESCALE =  12.25e-3 # arcsec/pix \n",
    "FLUX_REF_STAR = 0.975  # Jy from Simbad in the filter Johnson H"
   ]
  },
  {
   "cell_type": "markdown",
   "id": "ff1175b7",
   "metadata": {},
   "source": [
    "#### Consider only one side of the detector (indexed as 0; first channel)"
   ]
  },
  {
   "cell_type": "markdown",
   "id": "778bdbf3",
   "metadata": {},
   "source": [
    "For the star flux, we have two PSF acquired before and after the observation and for the left and right part of the detector.\n",
    "We consider the psf only on one part of the cube (indexed as 0; first channel), and take the mean from before and after the observation."
   ]
  },
  {
   "cell_type": "code",
   "execution_count": 37,
   "id": "fa96da49",
   "metadata": {},
   "outputs": [
    {
     "name": "stdout",
     "output_type": "stream",
     "text": [
      "(results *not* corrected from DITs and transmission)\n",
      "The flux of the star is 4.9e+06 ADU.\n",
      "The flux of the disk is 0.59 ADU(!)\n",
      "\n",
      "(results corrected from DITs and transmission)\n",
      "The flux of the star is 4.2e+07 ADU/s.\n",
      "The flux of the disk is 0.02 ADU/s(!)\n"
     ]
    }
   ],
   "source": [
    "# STAR\n",
    "# within circular region of r = 30 pixels centered in (33,33)\n",
    "flux_adu_star = np.array( [[5107827, 5137693], [4738552, 4768522]]) # within box region of size = 30 pixels centered in (33,33)\n",
    "flux_adu_star = np.nanmean( flux_adu_star[:,0] )\n",
    "\n",
    "\n",
    "# The science reduced image is given in contrast; multiply by a normalization factor to have it back in ADU\n",
    "normalization_factor = np.array([7774262.5, 7792016]) \n",
    "normalization_factor = np.mean(normalization_factor)\n",
    "\n",
    "flux_adu_obj = 7.62037e-08 * normalization_factor\n",
    "\n",
    "print('(results *not* corrected from DITs and transmission)')\n",
    "print('The flux of the star is {:.1e} ADU.'.format(flux_adu_star))\n",
    "print('The flux of the disk is {:.2f} ADU(!)'.format(flux_adu_obj))\n",
    "\n",
    "\n",
    "print('\\n(results corrected from DITs and transmission)')\n",
    "print('The flux of the star is {:.1e} ADU/s.'.format(flux_adu_star/(DIT_STAR*TRANSMISSION_STAR)))\n",
    "print('The flux of the disk is {:.2f} ADU/s(!)'.format(flux_adu_obj/(DIT_OBJECT*TRANSMISSION_OBJECT)))"
   ]
  },
  {
   "cell_type": "markdown",
   "id": "abe598ba",
   "metadata": {},
   "source": [
    "Weird that the flux value of the disk in total intensity is lower than the flux value derived from polarimetry. From a factor 20 (!)  \n",
    "Célia's guess: The flux value derived for the disk suffers from self-subtraction."
   ]
  },
  {
   "cell_type": "code",
   "execution_count": null,
   "id": "3fba2c16",
   "metadata": {},
   "outputs": [],
   "source": []
  },
  {
   "cell_type": "code",
   "execution_count": 23,
   "id": "3ca32756",
   "metadata": {},
   "outputs": [
    {
     "name": "stdout",
     "output_type": "stream",
     "text": [
      "Star flux = 4.220e+07 ADU/s\n",
      "The flux of the disk is 2.9e-06 Jy/arcsec^2.\n"
     ]
    }
   ],
   "source": [
    "flux_obj_final_unit = ADU2FLUX(flux_adu_obj, flux_adu_star,\n",
    "        FLUX_REF_STAR, DIT_OBJECT, DIT_STAR, TRANSMISSION_OBJECT, TRANSMISSION_STAR, PLATESCALE)\n",
    "\n",
    "print('The flux of the disk is {:.1e} Jy/arcsec^2.'.format(flux_obj_final_unit))"
   ]
  },
  {
   "cell_type": "code",
   "execution_count": null,
   "id": "cfa2ae6d",
   "metadata": {},
   "outputs": [],
   "source": []
  },
  {
   "cell_type": "markdown",
   "id": "2101b939",
   "metadata": {},
   "source": [
    "#### Sum over the two wavelengths\n",
    "\n",
    "For the star flux, we have two PSF acquired before and after the observation and for the left and right part of the detector.\n",
    "We sum the flux of the left and rights images, and take the mean from before and after the observation."
   ]
  },
  {
   "cell_type": "code",
   "execution_count": 152,
   "id": "9f5e8b38",
   "metadata": {},
   "outputs": [
    {
     "name": "stdout",
     "output_type": "stream",
     "text": [
      "The flux of the star is 9.9e+06 ADU.\n",
      "The flux of the disk is 1.19 ADU (!)\n"
     ]
    }
   ],
   "source": [
    "# STAR\n",
    "# within circular region of r = 30 pixels centered in (33,33)\n",
    "flux_adu_star = np.array( [[5107827, 5137693], [4738552, 4768522]]) # within box region of size = 30 pixels centered in (33,33)\n",
    "flux_adu_star = np.nanmean( np.nansum(flux_adu_star, axis=1) )\n",
    "\n",
    "print('The flux of the star is {:.1e} ADU.'.format(flux_adu_star))\n",
    "\n",
    "# The science reduced image is given in contrast; multiply by a normalization factor to have it back in ADU\n",
    "normalization_factor = np.array([7774262.5, 7792016]) \n",
    "normalization_factor = np.mean(normalization_factor)\n",
    "\n",
    "flux_adu_obj = 7.62037e-08 * normalization_factor * 2 # multiply by 2 because consider two bands so twice photons more\n",
    "print('The flux of the disk is {:.2f} ADU (!)'.format(flux_adu_obj))"
   ]
  },
  {
   "cell_type": "markdown",
   "id": "6b45bd80",
   "metadata": {},
   "source": [
    "Weird that the value is so low compared to polarimetry?!"
   ]
  },
  {
   "cell_type": "code",
   "execution_count": 153,
   "id": "0b74ea85",
   "metadata": {},
   "outputs": [
    {
     "name": "stdout",
     "output_type": "stream",
     "text": [
      "Star flux = 8.466e+07 ADU/s\n",
      "The flux of the disk is 2.8e-06 Jy/arcsec^2.\n"
     ]
    }
   ],
   "source": [
    "flux_obj_final_unit = ADU2FLUX(flux_adu_obj, flux_adu_star,\n",
    "        FLUX_REF_STAR, DIT_OBJECT, DIT_STAR, TRANSMISSION_OBJECT, TRANSMISSION_STAR, PLATESCALE)\n",
    "\n",
    "print('The flux of the disk is {:.1e} Jy/arcsec^2.'.format(flux_obj_final_unit))"
   ]
  },
  {
   "cell_type": "code",
   "execution_count": 154,
   "id": "35076f1a",
   "metadata": {},
   "outputs": [
    {
     "data": {
      "text/plain": [
       "9876297.0"
      ]
     },
     "execution_count": 154,
     "metadata": {},
     "output_type": "execute_result"
    }
   ],
   "source": [
    "flux_adu_star"
   ]
  },
  {
   "cell_type": "code",
   "execution_count": null,
   "id": "926cbc3f",
   "metadata": {},
   "outputs": [],
   "source": []
  },
  {
   "cell_type": "markdown",
   "id": "3e40db95",
   "metadata": {},
   "source": [
    "# Test"
   ]
  },
  {
   "cell_type": "markdown",
   "id": "1cbbee5f",
   "metadata": {},
   "source": [
    "Comparison PCA processed images, 10 modes, pixel (296,308) ds9 convention with normalization (by the PSF, contrast values) or without normalization (still ADU)"
   ]
  },
  {
   "cell_type": "code",
   "execution_count": 42,
   "id": "5e522f63",
   "metadata": {},
   "outputs": [
    {
     "data": {
      "text/plain": [
       "10113792.348772988"
      ]
     },
     "execution_count": 42,
     "metadata": {},
     "output_type": "execute_result"
    }
   ],
   "source": [
    "flux_1 = 1.1959697\n",
    "flux_norm = 1.1825136e-7 \n",
    "flux_1/flux_norm"
   ]
  },
  {
   "cell_type": "code",
   "execution_count": 46,
   "id": "224a150b",
   "metadata": {},
   "outputs": [
    {
     "data": {
      "text/plain": [
       "1.2994489786075698"
      ]
     },
     "execution_count": 46,
     "metadata": {},
     "output_type": "execute_result"
    }
   ],
   "source": [
    "flux_1/normalization_factor * 1/flux_norm"
   ]
  },
  {
   "cell_type": "code",
   "execution_count": null,
   "id": "42d3fad8",
   "metadata": {},
   "outputs": [],
   "source": [
    "flux_adu_star/(flux_1/flux_norm)"
   ]
  },
  {
   "cell_type": "code",
   "execution_count": null,
   "id": "7bae9dd3",
   "metadata": {},
   "outputs": [],
   "source": []
  },
  {
   "cell_type": "code",
   "execution_count": 45,
   "id": "c05875fb",
   "metadata": {},
   "outputs": [
    {
     "data": {
      "text/plain": [
       "3883528.5232173987"
      ]
     },
     "execution_count": 45,
     "metadata": {},
     "output_type": "execute_result"
    }
   ],
   "source": [
    "0.092981704/2.3942583e-8"
   ]
  },
  {
   "cell_type": "code",
   "execution_count": 66,
   "id": "f006e4b2",
   "metadata": {},
   "outputs": [
    {
     "data": {
      "text/latex": [
       "$\\mathrm{\\frac{W}{m^{2}}}$"
      ],
      "text/plain": [
       "Unit(\"W / m2\")"
      ]
     },
     "execution_count": 66,
     "metadata": {},
     "output_type": "execute_result"
    }
   ],
   "source": []
  },
  {
   "cell_type": "code",
   "execution_count": null,
   "id": "2723e2e2",
   "metadata": {},
   "outputs": [],
   "source": []
  }
 ],
 "metadata": {
  "kernelspec": {
   "display_name": "Python 3 (ipykernel)",
   "language": "python",
   "name": "python3"
  },
  "language_info": {
   "codemirror_mode": {
    "name": "ipython",
    "version": 3
   },
   "file_extension": ".py",
   "mimetype": "text/x-python",
   "name": "python",
   "nbconvert_exporter": "python",
   "pygments_lexer": "ipython3",
   "version": "3.9.12"
  }
 },
 "nbformat": 4,
 "nbformat_minor": 5
}
