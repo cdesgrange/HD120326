{
 "cells": [
  {
   "cell_type": "markdown",
   "id": "4fee99bc",
   "metadata": {},
   "source": [
    "(!) **Note**: We want to compare polarised flux to total intensity flux\n",
    "\n",
    "    i.e. Fobject,pol/Fstar,pol and Fobject,ti/Fobject,ti\n",
    "    \n",
    "  "
   ]
  },
  {
   "cell_type": "code",
   "execution_count": null,
   "id": "4bd18b45",
   "metadata": {},
   "outputs": [],
   "source": []
  },
  {
   "cell_type": "code",
   "execution_count": null,
   "id": "3831704c",
   "metadata": {},
   "outputs": [],
   "source": []
  },
  {
   "cell_type": "code",
   "execution_count": 2,
   "id": "93eccbd5",
   "metadata": {},
   "outputs": [],
   "source": [
    "from import_functions_generic import * \n",
    "from import_functions_plotting import * \n",
    "#from image_manipulation import * "
   ]
  },
  {
   "cell_type": "code",
   "execution_count": 140,
   "id": "2ffe8961",
   "metadata": {},
   "outputs": [],
   "source": [
    "L = time.localtime()\n",
    "date = \"{}-{}-{}\".format(L[0],L[1],L[2],L[3],L[4],L[5])\n",
    "\n",
    "saving_dir = 'figs/fig_v{}/'.format(date)\n",
    "os.makedirs(saving_dir,exist_ok=True)"
   ]
  },
  {
   "cell_type": "markdown",
   "id": "2dcb43ee",
   "metadata": {},
   "source": [
    "# 1. From (forward-)modelling results \n",
    "\n",
    "\n",
    "**Forward modelling results:**\n",
    "\n",
    "Inputs: \n",
    "- IRDAP image (ADU) and associated PSF normalized to 1\n",
    "- PCA image (ADU) and associated PSF normalized to 1\n",
    "\n",
    "So in principle I would only need to correct the fitted scaling values by DIT and TRANSMISSION.\n",
    "\n",
    "Note: the PSF is normalized in the FM code as follows: sum over all pixels with a PSF of shape (25,25) in polar (value = 723584) and (25,25) in total intensity (value = 9028321), so consistent!\n",
    "\n",
    "DO THAT TOMORROW's MORNING\n",
    "\n",
    "\n",
    "\n",
    "By modelling the disk we want to minimize the residuals expressed as follows\n",
    "\n",
    "$$    \\text{residuals} \\;=\\; \\frac{\\text{reduced_obs_image} \\times \\text{mask} -\\text{synthetic_model_disk}*\\text{PSF}}{\\text{noise}}\\,. $$\n",
    "\n",
    "with\n",
    "\n",
    "- the sum of the PSF values are normalized to 1\n",
    "\n",
    "- the mask is a binary mask with 0 or 1 values\n",
    "\n",
    "- '$*$' stands for convolution\n",
    "\n",
    "The model of the disk is computed with the $\\texttt{VIP}$ function  $\\texttt{ScatteredLightDisk(...)}$ and then multiply by a $scaling$ parameter that is fitted with the $\\texttt{AMOEBA}$ exploration of the parameter space, i.e.\n",
    "\n",
    "$$\\text{synthetic_model_disk} = \\texttt{ScatteredLightDisk(...)} \\times scaling$$\n",
    "\n",
    "**Notes**\n",
    "as the PSF is normalized to 1, the total flux of the disk or the convolved disk is the same."
   ]
  },
  {
   "cell_type": "code",
   "execution_count": null,
   "id": "72c52b26",
   "metadata": {},
   "outputs": [],
   "source": []
  },
  {
   "cell_type": "markdown",
   "id": "4047371f",
   "metadata": {},
   "source": [
    "\n",
    "\n",
    "# Polarimetry\n",
    "\n",
    "**Goal:** From Qphi image, we have values in ADU We want to convert this ADU value in a flux value.\n",
    "\n",
    "\n",
    "$$\\text{QPHI (ADU)} \\; \\rightarrow\\; \\text{QPHI (Jy)}\\; =\\; \\frac{\\text{QPHI (ADU)}}{\\text{STAR (ADU)}} \\times \\frac{\\text{DIT}_\\star}{\\text{DIT}_\\text{QPHI}} \\times \\frac{\\text{TRANSMISSION}_\\star}{\\text{TRANSMISSION}_\\text{QPHI}}  \\times \\frac{1}{\\text{PLATESCALE (arcsec/pixel)}^2} \\times \\text{STAR (Jy)} $$  "
   ]
  },
  {
   "cell_type": "code",
   "execution_count": 2,
   "id": "46e7ad02",
   "metadata": {},
   "outputs": [],
   "source": [
    "# Corresponding function\n",
    "\n",
    "def ADU2FLUX(flux_adu_obj, flux_adu_star, flux_ref_star, dit_obj, dit_star, transmi_obj, transmi_star, platescale):\n",
    "    x = flux_adu_star / (dit_star * transmi_star) \n",
    "    print('Star flux = %.3e ADU/s' % x )\n",
    "    return flux_adu_obj/ flux_adu_star * dit_star/dit_obj * transmi_star/transmi_obj * 1/platescale**2 * flux_ref_star "
   ]
  },
  {
   "cell_type": "markdown",
   "id": "130ccd47",
   "metadata": {},
   "source": [
    "Values of DIT_STAR, DIT_OBJECT, TRANSMISSION_STAR, TRANSMISSION_OBJECT are taken from the header of the cubes."
   ]
  },
  {
   "cell_type": "code",
   "execution_count": 3,
   "id": "679dc8b7",
   "metadata": {},
   "outputs": [],
   "source": [
    "## Params: obs\n",
    "DIT_STAR, DIT_OBJECT = 0.837464, 64 # s taken from the header of the images\n",
    "TRANSMISSION_STAR, TRANSMISSION_OBJECT = 0.12591487665785145, 1 # corresponds to ND1.0 and OPEN; taken from the header of the images\n",
    "PLATESCALE =  12.25e-3 # arcsec/pix \n",
    "FLUX_REF_STAR = 0.975 # Jy from Simbad in the filter Johnson H"
   ]
  },
  {
   "cell_type": "markdown",
   "id": "650166c9",
   "metadata": {},
   "source": [
    "#### Results from fitting only polarimetry obs"
   ]
  },
  {
   "cell_type": "code",
   "execution_count": 4,
   "id": "d410bbf8",
   "metadata": {
    "scrolled": true
   },
   "outputs": [
    {
     "name": "stdout",
     "output_type": "stream",
     "text": [
      "(results *not* corrected from DITs and transmission)\n",
      "The flux of the star is 7.2e+05 ADU.\n",
      "The flux of the disk is 18647.00 ADU.\n",
      "\n",
      "(results corrected from DITs and transmission)\n",
      "The flux of the star is 6.86e+06 ADU/s.\n",
      "The flux of the disk is 291.36 ADU/s\n"
     ]
    }
   ],
   "source": [
    "## Params: flux\n",
    "scaling = 1393405 # fitted parameter; not used\n",
    "flux_adu_obj = 18647 # total flux of the disk after multplying by the scaling parameter\n",
    "#disk_bef_scaling = flux_adu_obj/scaling\n",
    "\n",
    "#1514654 # taken equal to the fitter flux scaling parameter in the modelling of debris disk \n",
    "flux_adu_star = 723584 # within a box region of size = 25 pixels, left+right images\n",
    "\n",
    "print('(results *not* corrected from DITs and transmission)')\n",
    "print('The flux of the star is {:.1e} ADU.'.format(flux_adu_star))\n",
    "print('The flux of the disk is {:.2f} ADU.'.format(flux_adu_obj))\n",
    "\n",
    "\n",
    "print('\\n(results corrected from DITs and transmission)')\n",
    "print('The flux of the star is {:.2e} ADU/s.'.format(flux_adu_star/(DIT_STAR*TRANSMISSION_STAR)))\n",
    "print('The flux of the disk is {:.2f} ADU/s'.format(flux_adu_obj/(DIT_OBJECT*TRANSMISSION_OBJECT)))"
   ]
  },
  {
   "cell_type": "code",
   "execution_count": 103,
   "id": "5d1a8c65",
   "metadata": {},
   "outputs": [
    {
     "name": "stdout",
     "output_type": "stream",
     "text": [
      "Star flux = 6.862e+06 ADU/s\n",
      "The flux of the disk is 2.76e-01 Jy/arcsec^2.\n"
     ]
    }
   ],
   "source": [
    "flux_obj_final_unit = ADU2FLUX(flux_adu_obj, flux_adu_star,\n",
    "        FLUX_REF_STAR, DIT_OBJECT, DIT_STAR, TRANSMISSION_OBJECT, TRANSMISSION_STAR, PLATESCALE)\n",
    "\n",
    "print('The flux of the disk is {:.2e} Jy/arcsec^2.'.format(flux_obj_final_unit))"
   ]
  },
  {
   "cell_type": "markdown",
   "id": "2cfed83b",
   "metadata": {},
   "source": [
    "#### Results from joint-fitting polarimetry+total intensity in both BBH bands\n",
    "\n",
    "##### for the total intensity-part: used 5 modes, 1 channel"
   ]
  },
  {
   "cell_type": "code",
   "execution_count": 104,
   "id": "4090edc9",
   "metadata": {},
   "outputs": [
    {
     "name": "stdout",
     "output_type": "stream",
     "text": [
      "(results *not* corrected from DITs and transmission)\n",
      "The flux of the star is 7.2e+05 ADU.\n",
      "The flux of the disk is 18794.00 ADU.\n",
      "\n",
      "(results corrected from DITs and transmission)\n",
      "The flux of the star is 6.9e+06 ADU/s.\n",
      "The flux of the disk is 293.66 ADU/s\n"
     ]
    }
   ],
   "source": [
    "## Params: flux\n",
    "scaling = 1514654 # fitted parameter; not used\n",
    "flux_adu_obj = 18794 # total flux of the disk after multplying by the scaling parameter\n",
    "#disk_bef_scaling = flux_adu_obj/scaling\n",
    "\n",
    "#1514654 # taken equal to the fitter flux scaling parameter in the modelling of debris disk \n",
    "flux_adu_star = 723584 # within a box region of size = 25 pixels, left+right images\n",
    "\n",
    "print('(results *not* corrected from DITs and transmission)')\n",
    "print('The flux of the star is {:.1e} ADU.'.format(flux_adu_star))\n",
    "print('The flux of the disk is {:.2f} ADU.'.format(flux_adu_obj))\n",
    "\n",
    "\n",
    "print('\\n(results corrected from DITs and transmission)')\n",
    "print('The flux of the star is {:.1e} ADU/s.'.format(flux_adu_star/(DIT_STAR*TRANSMISSION_STAR)))\n",
    "print('The flux of the disk is {:.2f} ADU/s'.format(flux_adu_obj/(DIT_OBJECT*TRANSMISSION_OBJECT)))"
   ]
  },
  {
   "cell_type": "code",
   "execution_count": 105,
   "id": "dae62b8a",
   "metadata": {},
   "outputs": [
    {
     "name": "stdout",
     "output_type": "stream",
     "text": [
      "Star flux = 6.862e+06 ADU/s\n",
      "The flux of the disk is 2.78e-01 Jy/arcsec^2.\n"
     ]
    }
   ],
   "source": [
    "flux_obj_final_unit = ADU2FLUX(flux_adu_obj, flux_adu_star,\n",
    "        FLUX_REF_STAR, DIT_OBJECT, DIT_STAR, TRANSMISSION_OBJECT, TRANSMISSION_STAR, PLATESCALE)\n",
    "\n",
    "print('The flux of the disk is {:.2e} Jy/arcsec^2.'.format(flux_obj_final_unit))"
   ]
  },
  {
   "cell_type": "markdown",
   "id": "98a29260",
   "metadata": {},
   "source": [
    "##### for the total intensity-part: used 5 modes, both channels"
   ]
  },
  {
   "cell_type": "code",
   "execution_count": 5,
   "id": "8231bd0e",
   "metadata": {},
   "outputs": [
    {
     "name": "stdout",
     "output_type": "stream",
     "text": [
      "(results *not* corrected from DITs and transmission)\n",
      "The flux of the star is 7.24e+05 ADU.\n",
      "The flux of the disk is 18838.00 ADU.\n",
      "\n",
      "(results corrected from DITs and transmission)\n",
      "The flux of the star is 6.86e+06 ADU/s.\n",
      "The flux of the disk is 294.34 ADU/s\n"
     ]
    }
   ],
   "source": [
    "## Params: flux\n",
    "scaling = 1593331 # fitted parameter; not used\n",
    "flux_adu_obj = 18838 # total flux of the disk after multplying by the scaling parameter\n",
    "#disk_bef_scaling = flux_adu_obj/scaling\n",
    "\n",
    "#1514654 # taken equal to the fitter flux scaling parameter in the modelling of debris disk \n",
    "flux_adu_star = 723584 # within a box region of size = 25 pixels, left+right images\n",
    "\n",
    "print('(results *not* corrected from DITs and transmission)')\n",
    "print('The flux of the star is {:.2e} ADU.'.format(flux_adu_star))\n",
    "print('The flux of the disk is {:.2f} ADU.'.format(flux_adu_obj))\n",
    "\n",
    "\n",
    "print('\\n(results corrected from DITs and transmission)')\n",
    "print('The flux of the star is {:.2e} ADU/s.'.format(flux_adu_star/(DIT_STAR*TRANSMISSION_STAR)))\n",
    "print('The flux of the disk is {:.2f} ADU/s'.format(flux_adu_obj/(DIT_OBJECT*TRANSMISSION_OBJECT)))"
   ]
  },
  {
   "cell_type": "code",
   "execution_count": 6,
   "id": "13dc04e8",
   "metadata": {},
   "outputs": [
    {
     "name": "stdout",
     "output_type": "stream",
     "text": [
      "Star flux = 6.862e+06 ADU/s\n",
      "The flux of the disk is 2.79e-01 Jy/arcsec^2.\n"
     ]
    }
   ],
   "source": [
    "flux_obj_final_unit = ADU2FLUX(flux_adu_obj, flux_adu_star,\n",
    "        FLUX_REF_STAR, DIT_OBJECT, DIT_STAR, TRANSMISSION_OBJECT, TRANSMISSION_STAR, PLATESCALE)\n",
    "\n",
    "print('The flux of the disk is {:.2e} Jy/arcsec^2.'.format(flux_obj_final_unit))"
   ]
  },
  {
   "cell_type": "markdown",
   "id": "79f4736e",
   "metadata": {},
   "source": [
    "##### for the total intensity-part: used 10 modes, 1 channel"
   ]
  },
  {
   "cell_type": "code",
   "execution_count": 108,
   "id": "c80cb4b7",
   "metadata": {},
   "outputs": [
    {
     "name": "stdout",
     "output_type": "stream",
     "text": [
      "(results *not* corrected from DITs and transmission)\n",
      "The flux of the star is 7.2e+05 ADU.\n",
      "The flux of the disk is 18453.00 ADU.\n",
      "\n",
      "(results corrected from DITs and transmission)\n",
      "The flux of the star is 6.9e+06 ADU/s.\n",
      "The flux of the disk is 288.33 ADU/s\n"
     ]
    }
   ],
   "source": [
    "## Params: flux\n",
    "scaling = 1226197 # fitted parameter; not used\n",
    "flux_adu_obj = 18453 # total flux of the disk after multplying by the scaling parameter\n",
    "#disk_bef_scaling = flux_adu_obj/scaling\n",
    "\n",
    "#1514654 # taken equal to the fitter flux scaling parameter in the modelling of debris disk \n",
    "flux_adu_star = 723584 # within a box region of size = 25 pixels, left+right images\n",
    "\n",
    "print('(results *not* corrected from DITs and transmission)')\n",
    "print('The flux of the star is {:.1e} ADU.'.format(flux_adu_star))\n",
    "print('The flux of the disk is {:.2f} ADU.'.format(flux_adu_obj))\n",
    "\n",
    "\n",
    "print('\\n(results corrected from DITs and transmission)')\n",
    "print('The flux of the star is {:.1e} ADU/s.'.format(flux_adu_star/(DIT_STAR*TRANSMISSION_STAR)))\n",
    "print('The flux of the disk is {:.2f} ADU/s'.format(flux_adu_obj/(DIT_OBJECT*TRANSMISSION_OBJECT)))"
   ]
  },
  {
   "cell_type": "code",
   "execution_count": 110,
   "id": "2fb2d0a6",
   "metadata": {},
   "outputs": [
    {
     "name": "stdout",
     "output_type": "stream",
     "text": [
      "Star flux = 6.862e+06 ADU/s\n",
      "The flux of the disk is 2.73e-01 Jy/arcsec^2.\n"
     ]
    }
   ],
   "source": [
    "flux_obj_final_unit = ADU2FLUX(flux_adu_obj, flux_adu_star,\n",
    "        FLUX_REF_STAR, DIT_OBJECT, DIT_STAR, TRANSMISSION_OBJECT, TRANSMISSION_STAR, PLATESCALE)\n",
    "\n",
    "print('The flux of the disk is {:.2e} Jy/arcsec^2.'.format(flux_obj_final_unit))"
   ]
  },
  {
   "cell_type": "markdown",
   "id": "7881bab2",
   "metadata": {},
   "source": [
    "##### for the total intensity-part: used 10 modes, both channels"
   ]
  },
  {
   "cell_type": "code",
   "execution_count": 7,
   "id": "e2fd740a",
   "metadata": {},
   "outputs": [
    {
     "name": "stdout",
     "output_type": "stream",
     "text": [
      "(results *not* corrected from DITs and transmission)\n",
      "The flux of the star is 7.2e+05 ADU.\n",
      "The flux of the disk is 18749.00 ADU.\n",
      "\n",
      "(results corrected from DITs and transmission)\n",
      "The flux of the star is 6.9e+06 ADU/s.\n",
      "The flux of the disk is 292.95 ADU/s\n"
     ]
    }
   ],
   "source": [
    "## Params: flux\n",
    "scaling = 1421607 # fitted parameter; not used\n",
    "flux_adu_obj = 18749 # total flux of the disk after multplying by the scaling parameter\n",
    "#disk_bef_scaling = flux_adu_obj/scaling\n",
    "\n",
    "#1514654 # taken equal to the fitter flux scaling parameter in the modelling of debris disk \n",
    "flux_adu_star = 723584 # within a box region of size = 25 pixels, left+right images\n",
    "\n",
    "print('(results *not* corrected from DITs and transmission)')\n",
    "print('The flux of the star is {:.1e} ADU.'.format(flux_adu_star))\n",
    "print('The flux of the disk is {:.2f} ADU.'.format(flux_adu_obj))\n",
    "\n",
    "\n",
    "print('\\n(results corrected from DITs and transmission)')\n",
    "print('The flux of the star is {:.1e} ADU/s.'.format(flux_adu_star/(DIT_STAR*TRANSMISSION_STAR)))\n",
    "print('The flux of the disk is {:.2f} ADU/s'.format(flux_adu_obj/(DIT_OBJECT*TRANSMISSION_OBJECT)))"
   ]
  },
  {
   "cell_type": "code",
   "execution_count": 9,
   "id": "31e0026d",
   "metadata": {
    "scrolled": true
   },
   "outputs": [
    {
     "name": "stdout",
     "output_type": "stream",
     "text": [
      "Star flux = 6.862e+06 ADU/s\n",
      "The flux of the disk is 2.77e-01 Jy/arcsec^2.\n"
     ]
    }
   ],
   "source": [
    "flux_obj_final_unit = ADU2FLUX(flux_adu_obj, flux_adu_star,\n",
    "        FLUX_REF_STAR, DIT_OBJECT, DIT_STAR, TRANSMISSION_OBJECT, TRANSMISSION_STAR, PLATESCALE)\n",
    "\n",
    "print('The flux of the disk is {:.2e} Jy/arcsec^2.'.format(flux_obj_final_unit))"
   ]
  },
  {
   "cell_type": "markdown",
   "id": "43c54915",
   "metadata": {},
   "source": [
    "#### Results from joint-fitting polarimetry+total intensity in both BBH and H23 bands \n",
    "\n",
    "##### for the total intensity-part: used 5 modes, 1 channel"
   ]
  },
  {
   "cell_type": "code",
   "execution_count": 17,
   "id": "03e8f326",
   "metadata": {},
   "outputs": [],
   "source": []
  },
  {
   "cell_type": "code",
   "execution_count": null,
   "id": "a0e00935",
   "metadata": {},
   "outputs": [],
   "source": []
  },
  {
   "cell_type": "markdown",
   "id": "d59a52ef",
   "metadata": {},
   "source": [
    "##### for the total intensity-part: used 5 modes, both channels"
   ]
  },
  {
   "cell_type": "code",
   "execution_count": null,
   "id": "d38b364a",
   "metadata": {},
   "outputs": [],
   "source": []
  },
  {
   "cell_type": "code",
   "execution_count": null,
   "id": "67b1363d",
   "metadata": {},
   "outputs": [],
   "source": []
  },
  {
   "cell_type": "markdown",
   "id": "0ebcb194",
   "metadata": {},
   "source": [
    "##### for the total intensity-part: used 10 modes, 1 channel"
   ]
  },
  {
   "cell_type": "code",
   "execution_count": null,
   "id": "4633fcfa",
   "metadata": {},
   "outputs": [],
   "source": []
  },
  {
   "cell_type": "code",
   "execution_count": null,
   "id": "341d8e7e",
   "metadata": {},
   "outputs": [],
   "source": []
  },
  {
   "cell_type": "markdown",
   "id": "c2af4672",
   "metadata": {},
   "source": [
    "##### for the total intensity-part: used 10 modes, both channels"
   ]
  },
  {
   "cell_type": "code",
   "execution_count": null,
   "id": "d486eadc",
   "metadata": {},
   "outputs": [],
   "source": [
    "## Params: flux\n",
    "#scaling = 1421607 # fitted parameter; not used\n",
    "flux_adu_obj = 18749 # total flux of the disk after multplying by the scaling parameter\n",
    "#disk_bef_scaling = flux_adu_obj/scaling\n",
    "\n",
    "#1514654 # taken equal to the fitter flux scaling parameter in the modelling of debris disk \n",
    "flux_adu_star = 723584 # within a box region of size = 25 pixels, left+right images\n",
    "\n",
    "print('(results *not* corrected from DITs and transmission)')\n",
    "print('The flux of the star is {:.1e} ADU.'.format(flux_adu_star))\n",
    "print('The flux of the disk is {:.2f} ADU.'.format(flux_adu_obj))\n",
    "\n",
    "\n",
    "print('\\n(results corrected from DITs and transmission)')\n",
    "print('The flux of the star is {:.1e} ADU/s.'.format(flux_adu_star/(DIT_STAR*TRANSMISSION_STAR)))\n",
    "print('The flux of the disk is {:.2f} ADU/s'.format(flux_adu_obj/(DIT_OBJECT*TRANSMISSION_OBJECT)))"
   ]
  },
  {
   "cell_type": "code",
   "execution_count": null,
   "id": "ecf22f9e",
   "metadata": {},
   "outputs": [],
   "source": [
    "flux_obj_final_unit = ADU2FLUX(flux_adu_obj, flux_adu_star,\n",
    "        FLUX_REF_STAR, DIT_OBJECT, DIT_STAR, TRANSMISSION_OBJECT, TRANSMISSION_STAR, PLATESCALE)\n",
    "\n",
    "print('The flux of the disk is {:.2e} Jy/arcsec^2.'.format(flux_obj_final_unit))"
   ]
  },
  {
   "cell_type": "markdown",
   "id": "f31d75aa",
   "metadata": {},
   "source": [
    "# Total intensity\n",
    "\n",
    "For the star flux, we have two PSF acquired before and after the observation and for the left and right part of the detector.\n",
    "We take the mean from before and after the observation and consider either only the left or right cubes, or the sum of them, depending if we work on one or the channels of the SCIENCE cube.\n",
    "\n",
    "Values of DIT_STAR, DIT_OBJECT, TRANSMISSION_STAR, TRANSMISSION_OBJECT are taken from the header of the cubes."
   ]
  },
  {
   "cell_type": "code",
   "execution_count": 11,
   "id": "f326d7bd",
   "metadata": {},
   "outputs": [],
   "source": [
    "# Params\n",
    "DIT_STAR, DIT_OBJECT = 8, 32 # s\n",
    "TRANSMISSION_STAR, TRANSMISSION_OBJECT = 0.014581900, 1 # ND2.0 and OPEN are used. Corresponding value for ND2.0\n",
    "# taken from the ESO website https://www.eso.org/sci/facilities/paranal/instruments/sphere/inst/filters.html\n",
    "PLATESCALE =  12.25e-3 # arcsec/pix \n",
    "FLUX_REF_STAR = 0.975  # Jy from Simbad in the filter Johnson H"
   ]
  },
  {
   "cell_type": "markdown",
   "id": "732e189a",
   "metadata": {},
   "source": [
    "#### Results from joint-fitting polarimetry+total intensity in both BBH bands\n",
    "\n",
    "##### for the total intensity-part: used 5 modes, 1 channel"
   ]
  },
  {
   "cell_type": "code",
   "execution_count": 12,
   "id": "d2081b8e",
   "metadata": {},
   "outputs": [
    {
     "name": "stdout",
     "output_type": "stream",
     "text": [
      "(results *not* corrected from DITs and transmission)\n",
      "The flux of the star is 9.0e+06 ADU.\n",
      "The flux of the disk is 4924.00 ADU.\n",
      "\n",
      "(results corrected from DITs and transmission)\n",
      "The flux of the star is 7.74e+07 ADU/s.\n",
      "The flux of the disk is 153.88 ADU/s\n"
     ]
    }
   ],
   "source": [
    "## Params: flux\n",
    "scaling = 35124 # fitted parameter; not used\n",
    "flux_adu_obj = 4924 # total flux of the disk after multplying by the scaling parameter\n",
    "#disk_bef_scaling = flux_adu_obj/scaling\n",
    "\n",
    "#1514654 # taken equal to the fitter flux scaling parameter in the modelling of debris disk \n",
    "flux_adu_star = 9028321 # within a box region of size = 25 pixels, left images\n",
    "\n",
    "print('(results *not* corrected from DITs and transmission)')\n",
    "print('The flux of the star is {:.1e} ADU.'.format(flux_adu_star))\n",
    "print('The flux of the disk is {:.2f} ADU.'.format(flux_adu_obj))\n",
    "\n",
    "\n",
    "print('\\n(results corrected from DITs and transmission)')\n",
    "print('The flux of the star is {:.2e} ADU/s.'.format(flux_adu_star/(DIT_STAR*TRANSMISSION_STAR)))\n",
    "print('The flux of the disk is {:.2f} ADU/s'.format(flux_adu_obj/(DIT_OBJECT*TRANSMISSION_OBJECT)))"
   ]
  },
  {
   "cell_type": "code",
   "execution_count": 13,
   "id": "566896fb",
   "metadata": {},
   "outputs": [
    {
     "name": "stdout",
     "output_type": "stream",
     "text": [
      "Star flux = 7.739e+07 ADU/s\n",
      "The flux of the disk is 1.29e-02 Jy/arcsec^2.\n"
     ]
    }
   ],
   "source": [
    "flux_obj_final_unit = ADU2FLUX(flux_adu_obj, flux_adu_star,\n",
    "        FLUX_REF_STAR, DIT_OBJECT, DIT_STAR, TRANSMISSION_OBJECT, TRANSMISSION_STAR, PLATESCALE)\n",
    "\n",
    "print('The flux of the disk is {:.2e} Jy/arcsec^2.'.format(flux_obj_final_unit))"
   ]
  },
  {
   "cell_type": "markdown",
   "id": "a59df06e",
   "metadata": {},
   "source": [
    "#### Results from joint-fitting polarimetry+total intensity in both BBH bands\n",
    "\n",
    "##### for the total intensity-part: used 5 modes, both channels"
   ]
  },
  {
   "cell_type": "code",
   "execution_count": 14,
   "id": "c7f89a05",
   "metadata": {},
   "outputs": [
    {
     "name": "stdout",
     "output_type": "stream",
     "text": [
      "(results *not* corrected from DITs and transmission)\n",
      "The flux of the star is 1.8e+07 ADU.\n",
      "The flux of the disk is 10645.00 ADU.\n",
      "\n",
      "(results corrected from DITs and transmission)\n",
      "The flux of the star is 1.55e+08 ADU/s.\n",
      "The flux of the disk is 332.66 ADU/s\n"
     ]
    }
   ],
   "source": [
    "## Params: flux\n",
    "scaling = 73490 # fitted parameter; not used\n",
    "flux_adu_obj = 10645 # total flux of the disk after multplying by the scaling parameter\n",
    "#disk_bef_scaling = flux_adu_obj/scaling\n",
    "\n",
    "#1514654 # taken equal to the fitter flux scaling parameter in the modelling of debris disk \n",
    "flux_adu_star = 18083288 # within a box region of size = 25 pixels, left images\n",
    "\n",
    "print('(results *not* corrected from DITs and transmission)')\n",
    "print('The flux of the star is {:.1e} ADU.'.format(flux_adu_star))\n",
    "print('The flux of the disk is {:.2f} ADU.'.format(flux_adu_obj))\n",
    "\n",
    "\n",
    "print('\\n(results corrected from DITs and transmission)')\n",
    "print('The flux of the star is {:.2e} ADU/s.'.format(flux_adu_star/(DIT_STAR*TRANSMISSION_STAR)))\n",
    "print('The flux of the disk is {:.2f} ADU/s'.format(flux_adu_obj/(DIT_OBJECT*TRANSMISSION_OBJECT)))"
   ]
  },
  {
   "cell_type": "code",
   "execution_count": 123,
   "id": "0dc00da8",
   "metadata": {},
   "outputs": [
    {
     "name": "stdout",
     "output_type": "stream",
     "text": [
      "Star flux = 1.550e+08 ADU/s\n",
      "The flux of the disk is 1.39e-02 Jy/arcsec^2.\n"
     ]
    }
   ],
   "source": [
    "flux_obj_final_unit = ADU2FLUX(flux_adu_obj, flux_adu_star,\n",
    "        FLUX_REF_STAR, DIT_OBJECT, DIT_STAR, TRANSMISSION_OBJECT, TRANSMISSION_STAR, PLATESCALE)\n",
    "\n",
    "print('The flux of the disk is {:.2e} Jy/arcsec^2.'.format(flux_obj_final_unit))"
   ]
  },
  {
   "cell_type": "markdown",
   "id": "9cc52770",
   "metadata": {},
   "source": [
    "#### Results from joint-fitting polarimetry+total intensity in both BBH bands\n",
    "\n",
    "##### for the total intensity-part: used 10 modes, 1 channel"
   ]
  },
  {
   "cell_type": "code",
   "execution_count": 124,
   "id": "bf5ce8e8",
   "metadata": {
    "scrolled": true
   },
   "outputs": [
    {
     "name": "stdout",
     "output_type": "stream",
     "text": [
      "(results *not* corrected from DITs and transmission)\n",
      "The flux of the star is 9.0e+06 ADU.\n",
      "The flux of the disk is 3545.00 ADU.\n",
      "\n",
      "(results corrected from DITs and transmission)\n",
      "The flux of the star is 7.7e+07 ADU/s.\n",
      "The flux of the disk is 110.78 ADU/s\n"
     ]
    }
   ],
   "source": [
    "## Params: flux\n",
    "scaling = 26412 # fitted parameter; not used\n",
    "flux_adu_obj = 3545 # total flux of the disk after multplying by the scaling parameter\n",
    "#disk_bef_scaling = flux_adu_obj/scaling\n",
    "\n",
    "#1514654 # taken equal to the fitter flux scaling parameter in the modelling of debris disk \n",
    "flux_adu_star = 9028321 # within a box region of size = 25 pixels, left images\n",
    "\n",
    "print('(results *not* corrected from DITs and transmission)')\n",
    "print('The flux of the star is {:.1e} ADU.'.format(flux_adu_star))\n",
    "print('The flux of the disk is {:.2f} ADU.'.format(flux_adu_obj))\n",
    "\n",
    "\n",
    "print('\\n(results corrected from DITs and transmission)')\n",
    "print('The flux of the star is {:.1e} ADU/s.'.format(flux_adu_star/(DIT_STAR*TRANSMISSION_STAR)))\n",
    "print('The flux of the disk is {:.2f} ADU/s'.format(flux_adu_obj/(DIT_OBJECT*TRANSMISSION_OBJECT)))"
   ]
  },
  {
   "cell_type": "code",
   "execution_count": 118,
   "id": "19f766d1",
   "metadata": {},
   "outputs": [
    {
     "name": "stdout",
     "output_type": "stream",
     "text": [
      "Star flux = 7.739e+07 ADU/s\n",
      "The flux of the disk is 9.3e-03 Jy/arcsec^2.\n"
     ]
    }
   ],
   "source": [
    "flux_obj_final_unit = ADU2FLUX(flux_adu_obj, flux_adu_star,\n",
    "        FLUX_REF_STAR, DIT_OBJECT, DIT_STAR, TRANSMISSION_OBJECT, TRANSMISSION_STAR, PLATESCALE)\n",
    "\n",
    "print('The flux of the disk is {:.1e} Jy/arcsec^2.'.format(flux_obj_final_unit))"
   ]
  },
  {
   "cell_type": "markdown",
   "id": "f6c3c9b7",
   "metadata": {},
   "source": [
    "#### Results from joint-fitting polarimetry+total intensity in both BBH bands\n",
    "\n",
    "##### for the total intensity-part: used 10 modes, both channels"
   ]
  },
  {
   "cell_type": "code",
   "execution_count": 119,
   "id": "e3319a44",
   "metadata": {
    "scrolled": true
   },
   "outputs": [
    {
     "name": "stdout",
     "output_type": "stream",
     "text": [
      "(results *not* corrected from DITs and transmission)\n",
      "The flux of the star is 1.8e+07 ADU.\n",
      "The flux of the disk is 7638.00 ADU.\n",
      "\n",
      "(results corrected from DITs and transmission)\n",
      "The flux of the star is 1.6e+08 ADU/s.\n",
      "The flux of the disk is 238.69 ADU/s\n"
     ]
    }
   ],
   "source": [
    "## Params: flux\n",
    "scaling = 56923 # fitted parameter; not used\n",
    "flux_adu_obj = 7638 # total flux of the disk after multplying by the scaling parameter\n",
    "#disk_bef_scaling = flux_adu_obj/scaling\n",
    "\n",
    "#1514654 # taken equal to the fitter flux scaling parameter in the modelling of debris disk \n",
    "flux_adu_star = 18083288 # within a box region of size = 25 pixels, left images\n",
    "\n",
    "print('(results *not* corrected from DITs and transmission)')\n",
    "print('The flux of the star is {:.1e} ADU.'.format(flux_adu_star))\n",
    "print('The flux of the disk is {:.2f} ADU.'.format(flux_adu_obj))\n",
    "\n",
    "\n",
    "print('\\n(results corrected from DITs and transmission)')\n",
    "print('The flux of the star is {:.1e} ADU/s.'.format(flux_adu_star/(DIT_STAR*TRANSMISSION_STAR)))\n",
    "print('The flux of the disk is {:.2f} ADU/s'.format(flux_adu_obj/(DIT_OBJECT*TRANSMISSION_OBJECT)))"
   ]
  },
  {
   "cell_type": "code",
   "execution_count": 121,
   "id": "95e4aff2",
   "metadata": {},
   "outputs": [
    {
     "name": "stdout",
     "output_type": "stream",
     "text": [
      "Star flux = 1.550e+08 ADU/s\n",
      "The flux of the disk is 1.00e-02 Jy/arcsec^2.\n"
     ]
    }
   ],
   "source": [
    "flux_obj_final_unit = ADU2FLUX(flux_adu_obj, flux_adu_star,\n",
    "        FLUX_REF_STAR, DIT_OBJECT, DIT_STAR, TRANSMISSION_OBJECT, TRANSMISSION_STAR, PLATESCALE)\n",
    "\n",
    "print('The flux of the disk is {:.2e} Jy/arcsec^2.'.format(flux_obj_final_unit))"
   ]
  },
  {
   "cell_type": "markdown",
   "id": "956d120a",
   "metadata": {},
   "source": [
    "# Polarimetry & Total intensity -- concatenated results"
   ]
  },
  {
   "cell_type": "code",
   "execution_count": 22,
   "id": "d14fb74a",
   "metadata": {},
   "outputs": [],
   "source": [
    "DIT_OBJECT = [32, 4.001856, 4.001856, 64]\n",
    "DIT_STAR   = [32, 4.001856, 4.001856, 0.837464]\n",
    "\n",
    "TRANSMISSION_STAR = [0.014581900, 0.014581900, 0.014581900, 0.12591487665785145]\n",
    "\n",
    "FLUX_ADU_OBJ  = [5043, 907.7, 644.4, 18831]\n",
    "FLUX_ADU_STAR = [9028321, 1768472, 925421, 723584]\n",
    "INFO = ['2019-07-09', '2016-04-05', '2016-06-03', '2018-06-01']"
   ]
  },
  {
   "cell_type": "code",
   "execution_count": 21,
   "id": "d5ae2f25",
   "metadata": {},
   "outputs": [
    {
     "name": "stdout",
     "output_type": "stream",
     "text": [
      "== INFO epoch 2019-07-09 ==\n",
      "(results *not* corrected from DITs and transmission)\n",
      "The flux of the star is 9.0e+06 ADU.\n",
      "The flux of the disk is 5043.00 ADU.\n",
      "\n",
      "(results corrected from DITs and transmission)\n",
      "The flux of the star is 7.7e+07 ADU/s.\n",
      "The flux of the disk is 157.59 ADU/s\n",
      "Star flux = 7.739e+07 ADU/s\n",
      "The flux of the disk is 1.32e-02 Jy/arcsec^2.\n",
      "== INFO epoch 2016-04-05 ==\n",
      "(results *not* corrected from DITs and transmission)\n",
      "The flux of the star is 1.8e+06 ADU.\n",
      "The flux of the disk is 907.70 ADU.\n",
      "\n",
      "(results corrected from DITs and transmission)\n",
      "The flux of the star is 1.5e+07 ADU/s.\n",
      "The flux of the disk is 28.37 ADU/s\n",
      "Star flux = 1.516e+07 ADU/s\n",
      "The flux of the disk is 1.22e-02 Jy/arcsec^2.\n",
      "== INFO epoch 2016-06-03 ==\n",
      "(results *not* corrected from DITs and transmission)\n",
      "The flux of the star is 9.3e+05 ADU.\n",
      "The flux of the disk is 644.40 ADU.\n",
      "\n",
      "(results corrected from DITs and transmission)\n",
      "The flux of the star is 7.9e+06 ADU/s.\n",
      "The flux of the disk is 20.14 ADU/s\n",
      "Star flux = 7.933e+06 ADU/s\n",
      "The flux of the disk is 1.65e-02 Jy/arcsec^2.\n",
      "== INFO epoch 2018-06-01 ==\n",
      "(results *not* corrected from DITs and transmission)\n",
      "The flux of the star is 7.2e+05 ADU.\n",
      "The flux of the disk is 18831.00 ADU.\n",
      "\n",
      "(results corrected from DITs and transmission)\n",
      "The flux of the star is 6.2e+06 ADU/s.\n",
      "The flux of the disk is 588.47 ADU/s\n",
      "Star flux = 6.203e+06 ADU/s\n",
      "The flux of the disk is 6.16e-01 Jy/arcsec^2.\n"
     ]
    }
   ],
   "source": [
    "## Params: flux\n",
    "\n",
    "for i in range(len(FLUX_ADU_OBJ)):\n",
    "    flux_adu_obj = FLUX_ADU_OBJ[i] # total flux of the disk after multplying by the scaling parameter\n",
    "    #disk_bef_scaling = flux_adu_obj/scaling\n",
    "\n",
    "    #1514654 # taken equal to the fitter flux scaling parameter in the modelling of debris disk \n",
    "    flux_adu_star = FLUX_ADU_STAR[i] # within a box region of size = 25 pixels, left+right images\n",
    "    \n",
    "    print('== INFO epoch', INFO[i], '==')\n",
    "    print('(results *not* corrected from DITs and transmission)')\n",
    "    print('The flux of the star is {:.1e} ADU.'.format(flux_adu_star))\n",
    "    print('The flux of the disk is {:.2f} ADU.'.format(flux_adu_obj))\n",
    "\n",
    "\n",
    "    print('\\n(results corrected from DITs and transmission)')\n",
    "    print('The flux of the star is {:.1e} ADU/s.'.format(flux_adu_star/(DIT_STAR*TRANSMISSION_STAR)))\n",
    "    print('The flux of the disk is {:.2f} ADU/s'.format(flux_adu_obj/(DIT_OBJECT*TRANSMISSION_OBJECT)))\n",
    "\n",
    "    flux_obj_final_unit = ADU2FLUX(flux_adu_obj, flux_adu_star,\n",
    "            FLUX_REF_STAR, DIT_OBJECT, DIT_STAR, TRANSMISSION_OBJECT, TRANSMISSION_STAR, PLATESCALE)\n",
    "\n",
    "    print('The flux of the disk is {:.2e} Jy/arcsec^2.'.format(flux_obj_final_unit))"
   ]
  },
  {
   "cell_type": "code",
   "execution_count": null,
   "id": "a766b5b8",
   "metadata": {},
   "outputs": [],
   "source": []
  },
  {
   "cell_type": "code",
   "execution_count": null,
   "id": "56769c61",
   "metadata": {},
   "outputs": [],
   "source": []
  },
  {
   "cell_type": "code",
   "execution_count": null,
   "id": "d95be253",
   "metadata": {},
   "outputs": [],
   "source": []
  },
  {
   "cell_type": "markdown",
   "id": "81c1ea2b",
   "metadata": {},
   "source": [
    "# 2. From processed data\n",
    "\n",
    "From polarimetry maybe relevant but be careful for total imaging: self-subtraction effect !! so underestimation of the flux on the processed image.\n",
    "\n",
    "\n",
    "# Polarimetry\n",
    "\n",
    "**Goal:** From Qphi image, we have values in ADU We want to convert this ADU value in a flux value.\n",
    "\n",
    "\n",
    "$$\\text{QPHI (ADU)} \\; \\rightarrow\\; \\text{QPHI (Jy)}\\; =\\; \\frac{\\text{QPHI (ADU)}}{\\text{STAR (ADU)}} \\times \\frac{\\text{DIT}_\\star}{\\text{DIT}_\\text{QPHI}} \\times \\frac{\\text{TRANSMISSION}_\\star}{\\text{TRANSMISSION}_\\text{QPHI}}  \\times \\frac{1}{\\text{PLATESCALE (arcsec/pixel)}^2} \\times \\text{STAR (Jy)} $$  "
   ]
  },
  {
   "cell_type": "markdown",
   "id": "2f4d01e0",
   "metadata": {},
   "source": [
    "Values of DIT_STAR, DIT_OBJECT, TRANSMISSION_STAR, TRANSMISSION_OBJECT are taken from the header of the cubes."
   ]
  },
  {
   "cell_type": "code",
   "execution_count": 48,
   "id": "539ff560",
   "metadata": {},
   "outputs": [],
   "source": [
    "## Params: obs\n",
    "DIT_STAR, DIT_OBJECT = 0.837464, 64 # s taken from the header of the images\n",
    "TRANSMISSION_STAR, TRANSMISSION_OBJECT = 0.12591487665785145, 1 # corresponds to ND1.0 and OPEN; taken from the header of the images\n",
    "PLATESCALE =  12.25e-3 # arcsec/pix \n",
    "FLUX_REF_STAR = 0.975 # Jy from Simbad in the filter Johnson H"
   ]
  },
  {
   "cell_type": "code",
   "execution_count": 49,
   "id": "c3298e89",
   "metadata": {},
   "outputs": [],
   "source": [
    "#DIT_STAR/DIT_OBJECT"
   ]
  },
  {
   "cell_type": "code",
   "execution_count": 50,
   "id": "7a28787a",
   "metadata": {},
   "outputs": [],
   "source": [
    "#TRANSMISSION_STAR/TRANSMISSION_OBJECT"
   ]
  },
  {
   "cell_type": "markdown",
   "id": "efb8b01f",
   "metadata": {},
   "source": [
    "Note: for the polarimetric image, IRDAP considers both left and right cubes. Thus, when we consider the stellar flux, we sum the values of the left and right images within a circular of a given radius.\n",
    "\n",
    "By default, a radius of 120 pixels is used in the IRDAP processing. However, as we would like to compare polarised fraction to total intensity fraction, and that in total intensity the PSF file (\"median_unsat.fits\") is smaller (64x64 pixels^2), we use a radius of 30 pixels to derive the stellar flux in polarimetry and in total intensity. \n",
    "\n"
   ]
  },
  {
   "cell_type": "code",
   "execution_count": 31,
   "id": "128b7012",
   "metadata": {},
   "outputs": [
    {
     "name": "stdout",
     "output_type": "stream",
     "text": [
      "(results *not* corrected from DITs and transmission)\n",
      "The flux of the star is 3.9e+05 ADU.\n",
      "The flux of the disk is 25.00 ADU.\n",
      "\n",
      "(results corrected from DITs and transmission)\n",
      "The flux of the star is 3.7e+06 ADU/s.\n",
      "The flux of the disk is 0.39 ADU/s(!)\n"
     ]
    }
   ],
   "source": [
    "## Params: flux\n",
    "flux_adu_obj = 25 # value of a pixel in a bright location of the disk in the QPHI IRDAP-processed image.\n",
    "flux_adu_star = (194015+195473) # within circular region of r = 30 pixels, left+right images\n",
    "#flux_adu_star = 216706 # within circular region of r = 120 pixels. Default is r = 120 pixels.\n",
    "\n",
    "\n",
    "print('(results *not* corrected from DITs and transmission)')\n",
    "print('The flux of the star is {:.1e} ADU.'.format(flux_adu_star))\n",
    "print('The flux of the disk is {:.2f} ADU.'.format(flux_adu_obj))\n",
    "\n",
    "\n",
    "print('\\n(results corrected from DITs and transmission)')\n",
    "print('The flux of the star is {:.1e} ADU/s.'.format(flux_adu_star/(DIT_STAR*TRANSMISSION_STAR)))\n",
    "print('The flux of the disk is {:.2f} ADU/s(!)'.format(flux_adu_obj/(DIT_OBJECT*TRANSMISSION_OBJECT)))"
   ]
  },
  {
   "cell_type": "code",
   "execution_count": 32,
   "id": "aec9faff",
   "metadata": {
    "scrolled": true
   },
   "outputs": [
    {
     "name": "stdout",
     "output_type": "stream",
     "text": [
      "Star flux = 3.694e+06 ADU/s\n",
      "The flux of the disk is 6.9e-04 Jy/arcsec^2.\n"
     ]
    }
   ],
   "source": [
    "flux_obj_final_unit =  ADU2FLUX(flux_adu_obj, flux_adu_star,\n",
    "        FLUX_REF_STAR, DIT_OBJECT, DIT_STAR, TRANSMISSION_OBJECT, TRANSMISSION_STAR, PLATESCALE)\n",
    "\n",
    "print('The flux of the disk is {:.1e} Jy/arcsec^2.'.format(flux_obj_final_unit))"
   ]
  },
  {
   "cell_type": "markdown",
   "id": "24dfd952",
   "metadata": {},
   "source": [
    "# Total intensity\n",
    "\n",
    "For the star flux, we have two PSF acquired before and after the observation and for the left and right part of the detector.\n",
    "We sum the flux of the left and rights images, and take the mean from before and after the observation.\n",
    "\n",
    "Values of DIT_STAR, DIT_OBJECT, TRANSMISSION_STAR, TRANSMISSION_OBJECT are taken from the header of the cubes."
   ]
  },
  {
   "cell_type": "code",
   "execution_count": 33,
   "id": "b9592248",
   "metadata": {},
   "outputs": [],
   "source": [
    "# Params\n",
    "DIT_STAR, DIT_OBJECT = 8, 32 # s\n",
    "TRANSMISSION_STAR, TRANSMISSION_OBJECT = 0.014581900, 1 # ND2.0 and OPEN are used. Corresponding value for ND2.0\n",
    "# taken from the ESO website https://www.eso.org/sci/facilities/paranal/instruments/sphere/inst/filters.html\n",
    "PLATESCALE =  12.25e-3 # arcsec/pix \n",
    "FLUX_REF_STAR = 0.975  # Jy from Simbad in the filter Johnson H"
   ]
  },
  {
   "cell_type": "markdown",
   "id": "ff1175b7",
   "metadata": {},
   "source": [
    "#### Consider only one side of the detector (indexed as 0; first channel)"
   ]
  },
  {
   "cell_type": "markdown",
   "id": "778bdbf3",
   "metadata": {},
   "source": [
    "For the star flux, we have two PSF acquired before and after the observation and for the left and right part of the detector.\n",
    "We consider the psf only on one part of the cube (indexed as 0; first channel), and take the mean from before and after the observation."
   ]
  },
  {
   "cell_type": "code",
   "execution_count": 37,
   "id": "fa96da49",
   "metadata": {},
   "outputs": [
    {
     "name": "stdout",
     "output_type": "stream",
     "text": [
      "(results *not* corrected from DITs and transmission)\n",
      "The flux of the star is 4.9e+06 ADU.\n",
      "The flux of the disk is 0.59 ADU(!)\n",
      "\n",
      "(results corrected from DITs and transmission)\n",
      "The flux of the star is 4.2e+07 ADU/s.\n",
      "The flux of the disk is 0.02 ADU/s(!)\n"
     ]
    }
   ],
   "source": [
    "# STAR\n",
    "# within circular region of r = 30 pixels centered in (33,33)\n",
    "flux_adu_star = np.array( [[5107827, 5137693], [4738552, 4768522]]) # within box region of size = 30 pixels centered in (33,33)\n",
    "flux_adu_star = np.nanmean( flux_adu_star[:,0] )\n",
    "\n",
    "\n",
    "# The science reduced image is given in contrast; multiply by a normalization factor to have it back in ADU\n",
    "normalization_factor = np.array([7774262.5, 7792016]) \n",
    "normalization_factor = np.mean(normalization_factor)\n",
    "\n",
    "flux_adu_obj = 7.62037e-08 * normalization_factor\n",
    "\n",
    "print('(results *not* corrected from DITs and transmission)')\n",
    "print('The flux of the star is {:.1e} ADU.'.format(flux_adu_star))\n",
    "print('The flux of the disk is {:.2f} ADU(!)'.format(flux_adu_obj))\n",
    "\n",
    "\n",
    "print('\\n(results corrected from DITs and transmission)')\n",
    "print('The flux of the star is {:.1e} ADU/s.'.format(flux_adu_star/(DIT_STAR*TRANSMISSION_STAR)))\n",
    "print('The flux of the disk is {:.2f} ADU/s(!)'.format(flux_adu_obj/(DIT_OBJECT*TRANSMISSION_OBJECT)))"
   ]
  },
  {
   "cell_type": "markdown",
   "id": "abe598ba",
   "metadata": {},
   "source": [
    "Weird that the flux value of the disk in total intensity is lower than the flux value derived from polarimetry. From a factor 20 (!)  \n",
    "Célia's guess: The flux value derived for the disk suffers from self-subtraction."
   ]
  },
  {
   "cell_type": "code",
   "execution_count": null,
   "id": "3fba2c16",
   "metadata": {},
   "outputs": [],
   "source": []
  },
  {
   "cell_type": "code",
   "execution_count": 23,
   "id": "3ca32756",
   "metadata": {},
   "outputs": [
    {
     "name": "stdout",
     "output_type": "stream",
     "text": [
      "Star flux = 4.220e+07 ADU/s\n",
      "The flux of the disk is 2.9e-06 Jy/arcsec^2.\n"
     ]
    }
   ],
   "source": [
    "flux_obj_final_unit = ADU2FLUX(flux_adu_obj, flux_adu_star,\n",
    "        FLUX_REF_STAR, DIT_OBJECT, DIT_STAR, TRANSMISSION_OBJECT, TRANSMISSION_STAR, PLATESCALE)\n",
    "\n",
    "print('The flux of the disk is {:.1e} Jy/arcsec^2.'.format(flux_obj_final_unit))"
   ]
  },
  {
   "cell_type": "code",
   "execution_count": null,
   "id": "cfa2ae6d",
   "metadata": {},
   "outputs": [],
   "source": []
  },
  {
   "cell_type": "markdown",
   "id": "2101b939",
   "metadata": {},
   "source": [
    "#### Sum over the two wavelengths\n",
    "\n",
    "For the star flux, we have two PSF acquired before and after the observation and for the left and right part of the detector.\n",
    "We sum the flux of the left and rights images, and take the mean from before and after the observation."
   ]
  },
  {
   "cell_type": "code",
   "execution_count": 152,
   "id": "9f5e8b38",
   "metadata": {},
   "outputs": [
    {
     "name": "stdout",
     "output_type": "stream",
     "text": [
      "The flux of the star is 9.9e+06 ADU.\n",
      "The flux of the disk is 1.19 ADU (!)\n"
     ]
    }
   ],
   "source": [
    "# STAR\n",
    "# within circular region of r = 30 pixels centered in (33,33)\n",
    "flux_adu_star = np.array( [[5107827, 5137693], [4738552, 4768522]]) # within box region of size = 30 pixels centered in (33,33)\n",
    "flux_adu_star = np.nanmean( np.nansum(flux_adu_star, axis=1) )\n",
    "\n",
    "print('The flux of the star is {:.1e} ADU.'.format(flux_adu_star))\n",
    "\n",
    "# The science reduced image is given in contrast; multiply by a normalization factor to have it back in ADU\n",
    "normalization_factor = np.array([7774262.5, 7792016]) \n",
    "normalization_factor = np.mean(normalization_factor)\n",
    "\n",
    "flux_adu_obj = 7.62037e-08 * normalization_factor * 2 # multiply by 2 because consider two bands so twice photons more\n",
    "print('The flux of the disk is {:.2f} ADU (!)'.format(flux_adu_obj))"
   ]
  },
  {
   "cell_type": "markdown",
   "id": "6b45bd80",
   "metadata": {},
   "source": [
    "Weird that the value is so low compared to polarimetry?!"
   ]
  },
  {
   "cell_type": "code",
   "execution_count": 153,
   "id": "0b74ea85",
   "metadata": {},
   "outputs": [
    {
     "name": "stdout",
     "output_type": "stream",
     "text": [
      "Star flux = 8.466e+07 ADU/s\n",
      "The flux of the disk is 2.8e-06 Jy/arcsec^2.\n"
     ]
    }
   ],
   "source": [
    "flux_obj_final_unit = ADU2FLUX(flux_adu_obj, flux_adu_star,\n",
    "        FLUX_REF_STAR, DIT_OBJECT, DIT_STAR, TRANSMISSION_OBJECT, TRANSMISSION_STAR, PLATESCALE)\n",
    "\n",
    "print('The flux of the disk is {:.1e} Jy/arcsec^2.'.format(flux_obj_final_unit))"
   ]
  },
  {
   "cell_type": "code",
   "execution_count": 154,
   "id": "35076f1a",
   "metadata": {},
   "outputs": [
    {
     "data": {
      "text/plain": [
       "9876297.0"
      ]
     },
     "execution_count": 154,
     "metadata": {},
     "output_type": "execute_result"
    }
   ],
   "source": [
    "flux_adu_star"
   ]
  },
  {
   "cell_type": "code",
   "execution_count": null,
   "id": "926cbc3f",
   "metadata": {},
   "outputs": [],
   "source": []
  },
  {
   "cell_type": "markdown",
   "id": "3e40db95",
   "metadata": {},
   "source": [
    "# Test"
   ]
  },
  {
   "cell_type": "markdown",
   "id": "1cbbee5f",
   "metadata": {},
   "source": [
    "Comparison PCA processed images, 10 modes, pixel (296,308) ds9 convention with normalization (by the PSF, contrast values) or without normalization (still ADU)"
   ]
  },
  {
   "cell_type": "code",
   "execution_count": 42,
   "id": "5e522f63",
   "metadata": {},
   "outputs": [
    {
     "data": {
      "text/plain": [
       "10113792.348772988"
      ]
     },
     "execution_count": 42,
     "metadata": {},
     "output_type": "execute_result"
    }
   ],
   "source": [
    "flux_1 = 1.1959697\n",
    "flux_norm = 1.1825136e-7 \n",
    "flux_1/flux_norm"
   ]
  },
  {
   "cell_type": "code",
   "execution_count": 46,
   "id": "224a150b",
   "metadata": {},
   "outputs": [
    {
     "data": {
      "text/plain": [
       "1.2994489786075698"
      ]
     },
     "execution_count": 46,
     "metadata": {},
     "output_type": "execute_result"
    }
   ],
   "source": [
    "flux_1/normalization_factor * 1/flux_norm"
   ]
  },
  {
   "cell_type": "code",
   "execution_count": null,
   "id": "42d3fad8",
   "metadata": {},
   "outputs": [],
   "source": [
    "flux_adu_star/(flux_1/flux_norm)"
   ]
  },
  {
   "cell_type": "code",
   "execution_count": null,
   "id": "7bae9dd3",
   "metadata": {},
   "outputs": [],
   "source": []
  },
  {
   "cell_type": "code",
   "execution_count": 45,
   "id": "c05875fb",
   "metadata": {},
   "outputs": [
    {
     "data": {
      "text/plain": [
       "3883528.5232173987"
      ]
     },
     "execution_count": 45,
     "metadata": {},
     "output_type": "execute_result"
    }
   ],
   "source": [
    "0.092981704/2.3942583e-8"
   ]
  },
  {
   "cell_type": "code",
   "execution_count": null,
   "id": "f006e4b2",
   "metadata": {},
   "outputs": [],
   "source": []
  }
 ],
 "metadata": {
  "kernelspec": {
   "display_name": "Python 3 (ipykernel)",
   "language": "python",
   "name": "python3"
  },
  "language_info": {
   "codemirror_mode": {
    "name": "ipython",
    "version": 3
   },
   "file_extension": ".py",
   "mimetype": "text/x-python",
   "name": "python",
   "nbconvert_exporter": "python",
   "pygments_lexer": "ipython3",
   "version": "3.9.12"
  }
 },
 "nbformat": 4,
 "nbformat_minor": 5
}
