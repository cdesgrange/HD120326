{
 "cells": [
  {
   "cell_type": "code",
   "execution_count": 63,
   "id": "582edfcb",
   "metadata": {},
   "outputs": [
    {
     "name": "stdout",
     "output_type": "stream",
     "text": [
      "3.1.3\n"
     ]
    }
   ],
   "source": [
    "import glob\n",
    "import numpy as np\n",
    "import time, os\n",
    "\n",
    "from astropy.convolution import (convolve_fft, convolve, Gaussian2DKernel)\n",
    "\n",
    "import vip_hci as vip\n",
    "from astropy.io import fits\n",
    "import cv2\n",
    "\n",
    "from import_functions_generic import * \n",
    "from import_functions_plotting import * \n",
    "from image_manipulation import * \n",
    "\n",
    "import emcee\n",
    "print(emcee.__version__)\n",
    "\n",
    "import scipy.optimize as op"
   ]
  },
  {
   "cell_type": "code",
   "execution_count": null,
   "id": "f4219709",
   "metadata": {},
   "outputs": [],
   "source": [
    "L = time.localtime()\n",
    "date = \"{}-{}-{}\".format(L[0],L[1],L[2],L[3],L[4],L[5])\n",
    "\n",
    "saving_dir = 'figs/fig_v{}/'.format(date)\n",
    "os.makedirs(saving_dir,exist_ok=True)\n"
   ]
  },
  {
   "cell_type": "code",
   "execution_count": 2,
   "id": "d45da9ab",
   "metadata": {},
   "outputs": [],
   "source": [
    "plt.style.use('classic')  \n",
    "mpl.rc('image', cmap='viridis')#, origin='lower')\n",
    "#mpl.rc('text', usetex=True)\n",
    "#mpl.rc(mathtext.fontset = 'stix')\n",
    "\n",
    "\n",
    "rcParams.update({'font.size': 14,  'axes.labelsize' : 14, 'legend.fontsize' : 12,\n",
    "\"font.family\": \"serif\", 'text.usetex' : True, \"font.serif\": [], \"font.sans-serif\": [],\n",
    "'legend.handlelength': 1.5, 'legend.borderaxespad' : 0.8, 'legend.columnspacing' : 1, 'legend.handletextpad' : 0.5})\n",
    "\n",
    "rcParams['mathtext.fontset'] = 'stix'"
   ]
  },
  {
   "cell_type": "markdown",
   "id": "a3319cb2",
   "metadata": {},
   "source": [
    "# I. AMOEBA function\n",
    "\n",
    "## Example: droite"
   ]
  },
  {
   "cell_type": "code",
   "execution_count": 8,
   "id": "5d7da8b6",
   "metadata": {},
   "outputs": [],
   "source": [
    "X = np.arange(10) \n",
    "theta = 5\n",
    "fct = lambda x: theta * x"
   ]
  },
  {
   "cell_type": "code",
   "execution_count": 9,
   "id": "6357c18e",
   "metadata": {},
   "outputs": [
    {
     "data": {
      "text/plain": [
       "array([ 0,  5, 10, 15, 20, 25, 30, 35, 40, 45])"
      ]
     },
     "execution_count": 9,
     "metadata": {},
     "output_type": "execute_result"
    }
   ],
   "source": [
    "fct(X)"
   ]
  },
  {
   "cell_type": "code",
   "execution_count": null,
   "id": "b3e673af",
   "metadata": {},
   "outputs": [],
   "source": []
  },
  {
   "cell_type": "code",
   "execution_count": 141,
   "id": "d449c90c",
   "metadata": {},
   "outputs": [],
   "source": [
    "def logl_droite(theta):\n",
    "    \"\"\" measure the Chisquare (log of the likelihood) of the parameter set.\n",
    "        create disk\n",
    "        convolve by the PSF (psf is global)\n",
    "        do the forward modeling (diskFM obj is global)\n",
    "        nan out when it is out of the zone (zone mask is global)\n",
    "        subctract from data and divide by noise (data and noise are global)\n",
    "\n",
    "    Args:\n",
    "        theta: list of parameters of the MCMC\n",
    "\n",
    "    Returns:\n",
    "        Chisquare\n",
    "    \"\"\"\n",
    "    X = np.arange(10)\n",
    "    fct = lambda x: theta[0] * x + theta[1]\n",
    "    Y_iter = fct(X)\n",
    "\n",
    "    res = (Y_obs - Y_iter) \n",
    "    \n",
    "    \n",
    "    Chisquare = np.abs (np.nansum(-0.5 * (res * res)) )\n",
    "    print('theta =', theta, 'Chisquare =', Chisquare)\n",
    "\n",
    "    return Chisquare"
   ]
  },
  {
   "cell_type": "code",
   "execution_count": 136,
   "id": "71fc82e0",
   "metadata": {},
   "outputs": [],
   "source": [
    "theta_obs = 10\n",
    "fct_obs = lambda x: theta_obs * x"
   ]
  },
  {
   "cell_type": "code",
   "execution_count": 137,
   "id": "289e1d88",
   "metadata": {},
   "outputs": [
    {
     "data": {
      "text/plain": [
       "array([0.00068374, 0.01270505, 0.01364019, 0.04250438, 0.0550069 ,\n",
       "       0.00665835, 0.04923088, 0.02852751, 0.04445246, 0.05071095])"
      ]
     },
     "execution_count": 137,
     "metadata": {},
     "output_type": "execute_result"
    }
   ],
   "source": [
    "noisy = np.array([random.random() for i in range(10)])*0.1\n",
    "noisy"
   ]
  },
  {
   "cell_type": "code",
   "execution_count": 138,
   "id": "80c4e728",
   "metadata": {},
   "outputs": [
    {
     "data": {
      "text/plain": [
       "array([6.83737948e-04, 1.00127051e+01, 2.00136402e+01, 3.00425044e+01,\n",
       "       4.00550069e+01, 5.00066584e+01, 6.00492309e+01, 7.00285275e+01,\n",
       "       8.00444525e+01, 9.00507110e+01])"
      ]
     },
     "execution_count": 138,
     "metadata": {},
     "output_type": "execute_result"
    }
   ],
   "source": [
    "X = np.arange(10) \n",
    "Y_obs =  fct_obs(X) + noisy\n",
    "\n",
    "Y_obs"
   ]
  },
  {
   "cell_type": "code",
   "execution_count": 146,
   "id": "a754c43f",
   "metadata": {
    "scrolled": false
   },
   "outputs": [
    {
     "name": "stdout",
     "output_type": "stream",
     "text": [
      "theta = [2. 0.] Chisquare = 9133.829816716525\n",
      "theta = [2. 0.] Chisquare = 9133.829816716525\n",
      "theta = [2.0e+00 2.5e-04] Chisquare = 9133.739740998923\n",
      "theta = [2.0e+00 2.5e-04] Chisquare = 9133.739740998923\n",
      "theta = [2.e+00 5.e-04] Chisquare = 9133.64966590632\n",
      "theta = [2.0e+00 7.5e-04] Chisquare = 9133.559591438718\n",
      "theta = [2.0e+00 7.5e-04] Chisquare = 9133.559591438718\n",
      "theta = [2.00e+00 1.25e-03] Chisquare = 9133.379444378514\n",
      "theta = [2.00e+00 1.75e-03] Chisquare = 9133.199299818309\n",
      "theta = [2.00e+00 1.75e-03] Chisquare = 9133.199299818309\n",
      "theta = [2.      0.00275] Chisquare = 9132.8390181979\n",
      "theta = [2.      0.00375] Chisquare = 9132.47874657749\n",
      "theta = [2.      0.00375] Chisquare = 9132.47874657749\n",
      "theta = [2.      0.00575] Chisquare = 9131.75823333667\n",
      "theta = [2.      0.00775] Chisquare = 9131.03776009585\n",
      "theta = [2.      0.00775] Chisquare = 9131.03776009585\n",
      "theta = [2.      0.01175] Chisquare = 9129.596933614215\n",
      "theta = [2.      0.01575] Chisquare = 9128.156267132577\n",
      "theta = [2.      0.01575] Chisquare = 9128.156267132577\n",
      "theta = [2.      0.02375] Chisquare = 9125.275414169302\n",
      "theta = [2.      0.03175] Chisquare = 9122.395201206025\n",
      "theta = [2.      0.03175] Chisquare = 9122.395201206025\n",
      "theta = [2.      0.04775] Chisquare = 9116.636695279474\n",
      "theta = [2.      0.06375] Chisquare = 9110.880749352924\n",
      "theta = [2.      0.06375] Chisquare = 9110.880749352924\n",
      "theta = [2.      0.09575] Chisquare = 9099.376537499824\n",
      "theta = [2.      0.12775] Chisquare = 9087.882565646723\n",
      "theta = [2.      0.12775] Chisquare = 9087.882565646723\n",
      "theta = [2.      0.19175] Chisquare = 9064.925341940521\n",
      "theta = [2.      0.25575] Chisquare = 9042.009078234318\n",
      "theta = [2.      0.25575] Chisquare = 9042.009078234318\n",
      "theta = [2.      0.38375] Chisquare = 8996.299430821913\n",
      "theta = [2.      0.51175] Chisquare = 8950.753623409508\n",
      "theta = [2.      0.51175] Chisquare = 8950.753623409508\n",
      "theta = [2.      0.76775] Chisquare = 8860.153528584699\n",
      "theta = [2.      1.02375] Chisquare = 8770.208793759888\n",
      "theta = [2.      1.02375] Chisquare = 8770.208793759888\n",
      "theta = [2.      1.53575] Chisquare = 8592.28540411027\n",
      "theta = [2.      2.04775] Chisquare = 8416.98345446065\n",
      "theta = [2.      2.04775] Chisquare = 8416.98345446065\n",
      "theta = [2.      3.07175] Chisquare = 8074.243875161412\n",
      "theta = [2.      4.09575] Chisquare = 7741.990055862175\n",
      "theta = [2.      4.09575] Chisquare = 7741.990055862175\n",
      "theta = [2. 5.] Chisquare = 7457.309214669466\n",
      "theta = [2. 5.] Chisquare = 7457.309214669466\n",
      "theta = [2. 5.] Chisquare = 7457.309214669466\n",
      "theta = [2. 5.] Chisquare = 7457.309214669466\n",
      "theta = [2. 5.] Chisquare = 7457.309214669466\n"
     ]
    },
    {
     "name": "stderr",
     "output_type": "stream",
     "text": [
      "/var/folders/k2/sfv4r4z938l77n1t4ydth2v401phl2/T/ipykernel_13248/1912353067.py:3: OptimizeWarning: Initial guess is not within the specified bounds\n",
      "  result = op.minimize(logl_droite, theta, method='Nelder-Mead',\n"
     ]
    }
   ],
   "source": [
    "theta = [5,0]\n",
    "#print(logl_droite(theta))\n",
    "result = op.minimize(logl_droite, theta, method='Nelder-Mead', \n",
    "                     constraints = ({'type':'ineq', 'fun': lambda x: -x[0]}),\n",
    "                     bounds = ((-20,20),(-5,5) ) )"
   ]
  },
  {
   "cell_type": "code",
   "execution_count": 167,
   "id": "1b0e1168",
   "metadata": {},
   "outputs": [
    {
     "data": {
      "text/plain": [
       "array('(20,50),(0,180), (50, 85), (0,1), (0,None)', dtype=object)"
      ]
     },
     "execution_count": 167,
     "metadata": {},
     "output_type": "execute_result"
    }
   ],
   "source": [
    "bounds = '(20,50),(0,180), (50, 85), (0,1), (0,None)'\n",
    "np.array(bounds).astype(list)"
   ]
  },
  {
   "cell_type": "code",
   "execution_count": 161,
   "id": "082295e9",
   "metadata": {},
   "outputs": [
    {
     "name": "stdout",
     "output_type": "stream",
     "text": [
      "<zip object at 0x7fcdc6e982c0>\n"
     ]
    }
   ],
   "source": [
    "print(zip(*bounds))"
   ]
  },
  {
   "cell_type": "code",
   "execution_count": 157,
   "id": "7c0a68db",
   "metadata": {},
   "outputs": [
    {
     "data": {
      "text/plain": [
       "(20, 0, 50, 0, 0)"
      ]
     },
     "execution_count": 157,
     "metadata": {},
     "output_type": "execute_result"
    }
   ],
   "source": [
    "lb"
   ]
  },
  {
   "cell_type": "code",
   "execution_count": null,
   "id": "85a1de22",
   "metadata": {},
   "outputs": [],
   "source": [
    "[]"
   ]
  },
  {
   "cell_type": "code",
   "execution_count": 145,
   "id": "db5dfaf2",
   "metadata": {},
   "outputs": [
    {
     "data": {
      "text/plain": [
       " final_simplex: (array([[1.00058191e+01, 1.39098847e-03],\n",
       "       [1.00058845e+01, 1.33343586e-03],\n",
       "       [1.00057998e+01, 1.29130483e-03]]), array([0.0012262 , 0.00122784, 0.00122935]))\n",
       "           fun: 0.0012261976834647035\n",
       "       message: 'Optimization terminated successfully.'\n",
       "          nfev: 59\n",
       "           nit: 31\n",
       "        status: 0\n",
       "       success: True\n",
       "             x: array([1.00058191e+01, 1.39098847e-03])"
      ]
     },
     "execution_count": 145,
     "metadata": {},
     "output_type": "execute_result"
    }
   ],
   "source": [
    "result"
   ]
  },
  {
   "cell_type": "code",
   "execution_count": null,
   "id": "0c00f074",
   "metadata": {},
   "outputs": [],
   "source": []
  },
  {
   "cell_type": "code",
   "execution_count": null,
   "id": "3fb10b59",
   "metadata": {},
   "outputs": [],
   "source": []
  }
 ],
 "metadata": {
  "kernelspec": {
   "display_name": "Python 3 (ipykernel)",
   "language": "python",
   "name": "python3"
  },
  "language_info": {
   "codemirror_mode": {
    "name": "ipython",
    "version": 3
   },
   "file_extension": ".py",
   "mimetype": "text/x-python",
   "name": "python",
   "nbconvert_exporter": "python",
   "pygments_lexer": "ipython3",
   "version": "3.9.12"
  }
 },
 "nbformat": 4,
 "nbformat_minor": 5
}
