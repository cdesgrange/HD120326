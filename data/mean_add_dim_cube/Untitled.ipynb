{
 "cells": [
  {
   "cell_type": "code",
   "execution_count": 1,
   "id": "225ccc99",
   "metadata": {},
   "outputs": [],
   "source": [
    "from import_functions_generic import * \n",
    "\n"
   ]
  },
  {
   "cell_type": "code",
   "execution_count": null,
   "id": "2eb33633",
   "metadata": {},
   "outputs": [],
   "source": []
  },
  {
   "cell_type": "code",
   "execution_count": 24,
   "id": "666ff663",
   "metadata": {},
   "outputs": [
    {
     "data": {
      "text/html": [
       "<div>\n",
       "<style scoped>\n",
       "    .dataframe tbody tr th:only-of-type {\n",
       "        vertical-align: middle;\n",
       "    }\n",
       "\n",
       "    .dataframe tbody tr th {\n",
       "        vertical-align: top;\n",
       "    }\n",
       "\n",
       "    .dataframe thead th {\n",
       "        text-align: right;\n",
       "    }\n",
       "</style>\n",
       "<table border=\"1\" class=\"dataframe\">\n",
       "  <thead>\n",
       "    <tr style=\"text-align: right;\">\n",
       "      <th></th>\n",
       "      <th>target</th>\n",
       "      <th>epoch</th>\n",
       "      <th>instrument</th>\n",
       "      <th>filter</th>\n",
       "      <th>polar</th>\n",
       "      <th>quality</th>\n",
       "      <th>seeing (\")</th>\n",
       "      <th>tau0 (ms)</th>\n",
       "      <th>delta pa (deg)</th>\n",
       "      <th>PI</th>\n",
       "      <th>DIT (s)</th>\n",
       "      <th>Nb frames</th>\n",
       "      <th>Total exposure (min)</th>\n",
       "    </tr>\n",
       "  </thead>\n",
       "  <tbody>\n",
       "    <tr>\n",
       "      <th>5</th>\n",
       "      <td>HD_120326</td>\n",
       "      <td>2019-07-09</td>\n",
       "      <td>IRDIS</td>\n",
       "      <td>no</td>\n",
       "      <td>BB_H</td>\n",
       "      <td>very good</td>\n",
       "      <td>0.54</td>\n",
       "      <td>3.1</td>\n",
       "      <td>58</td>\n",
       "      <td>Bonnefoy &amp; Ménard</td>\n",
       "      <td>32.0</td>\n",
       "      <td>224.0</td>\n",
       "      <td>119.0</td>\n",
       "    </tr>\n",
       "    <tr>\n",
       "      <th>6</th>\n",
       "      <td>HD_120326</td>\n",
       "      <td>2016-04-05</td>\n",
       "      <td>IFS</td>\n",
       "      <td>no</td>\n",
       "      <td>YJ</td>\n",
       "      <td>good</td>\n",
       "      <td>1.1</td>\n",
       "      <td>3.5</td>\n",
       "      <td>37</td>\n",
       "      <td>Bonnefoy &amp; Ménard</td>\n",
       "      <td>64.0</td>\n",
       "      <td>64.0</td>\n",
       "      <td>68.0</td>\n",
       "    </tr>\n",
       "    <tr>\n",
       "      <th>7</th>\n",
       "      <td>HD_120326</td>\n",
       "      <td>2016-06-03</td>\n",
       "      <td>IFS</td>\n",
       "      <td>no</td>\n",
       "      <td>YJ</td>\n",
       "      <td>good</td>\n",
       "      <td>0.71</td>\n",
       "      <td>3.1</td>\n",
       "      <td>22</td>\n",
       "      <td>Hinkley &amp; Matthews</td>\n",
       "      <td>64.0</td>\n",
       "      <td>40.0</td>\n",
       "      <td>43.0</td>\n",
       "    </tr>\n",
       "    <tr>\n",
       "      <th>8</th>\n",
       "      <td>HD_120326</td>\n",
       "      <td>2019-06-26</td>\n",
       "      <td>IFS</td>\n",
       "      <td>no</td>\n",
       "      <td>YJ</td>\n",
       "      <td>very bad</td>\n",
       "      <td>1.84</td>\n",
       "      <td>2.4</td>\n",
       "      <td>36</td>\n",
       "      <td>Bonnefoy &amp; Ménard</td>\n",
       "      <td>NaN</td>\n",
       "      <td>NaN</td>\n",
       "      <td>NaN</td>\n",
       "    </tr>\n",
       "    <tr>\n",
       "      <th>9</th>\n",
       "      <td>HD_120326</td>\n",
       "      <td>2019-07-09</td>\n",
       "      <td>IFS</td>\n",
       "      <td>no</td>\n",
       "      <td>YJ</td>\n",
       "      <td>very good</td>\n",
       "      <td>0.54</td>\n",
       "      <td>3.1</td>\n",
       "      <td>58</td>\n",
       "      <td>Bonnefoy &amp; Ménard</td>\n",
       "      <td>64.0</td>\n",
       "      <td>112.0</td>\n",
       "      <td>119.0</td>\n",
       "    </tr>\n",
       "  </tbody>\n",
       "</table>\n",
       "</div>"
      ],
      "text/plain": [
       "      target       epoch instrument filter polar    quality seeing (\")  \\\n",
       "5  HD_120326  2019-07-09      IRDIS     no  BB_H  very good       0.54   \n",
       "6  HD_120326  2016-04-05        IFS     no    YJ       good        1.1   \n",
       "7  HD_120326  2016-06-03        IFS     no    YJ       good       0.71   \n",
       "8  HD_120326  2019-06-26        IFS     no    YJ   very bad       1.84   \n",
       "9  HD_120326  2019-07-09        IFS     no    YJ  very good       0.54   \n",
       "\n",
       "  tau0 (ms) delta pa (deg)                  PI  DIT (s)  Nb frames  \\\n",
       "5       3.1             58   Bonnefoy & Ménard     32.0      224.0   \n",
       "6       3.5             37   Bonnefoy & Ménard     64.0       64.0   \n",
       "7       3.1             22  Hinkley & Matthews     64.0       40.0   \n",
       "8       2.4             36   Bonnefoy & Ménard      NaN        NaN   \n",
       "9       3.1             58   Bonnefoy & Ménard     64.0      112.0   \n",
       "\n",
       "   Total exposure (min)  \n",
       "5                 119.0  \n",
       "6                  68.0  \n",
       "7                  43.0  \n",
       "8                   NaN  \n",
       "9                 119.0  "
      ]
     },
     "execution_count": 24,
     "metadata": {},
     "output_type": "execute_result"
    }
   ],
   "source": [
    "# Initialize the path to the wished data \n",
    "# -> supposed to be changed accordingly to the data/computer used\n",
    "infolder = '/Users/desgranc/Documents/work/projects/HD120326/data/'\n",
    "folder_prereduced = 'prereduced/convert/'\n",
    "folder_reduced = 'reduced/PCA_Celia/'\n",
    "dF       = pd.read_csv(infolder + 'list_obs.txt',sep='\\t')\n",
    "dF.tail()"
   ]
  },
  {
   "cell_type": "code",
   "execution_count": 80,
   "id": "0b00b21a",
   "metadata": {},
   "outputs": [
    {
     "name": "stdout",
     "output_type": "stream",
     "text": [
      "Load the epoch: 2019-07-09\n",
      "It corresponds do the path:\n",
      "/Users/desgranc/Documents/work/projects/HD120326/data/prereduced/convert/*/*BB_H*2019-07-09*/*center_im*.fits\n",
      "\n",
      "Files found:\n",
      "- /Users/desgranc/Documents/work/projects/HD120326/data/prereduced/convert/IRDIS/HIP 67497_BB_H_2019-07-09_ird_convert_recenter_dc2021_BEAST_307407/ird_convert_recenter_dc2021-IRD_SCIENCE_REDUCED_MASTER_CUBE-center_im.fits\n"
     ]
    }
   ],
   "source": [
    "idx, idx_pcs, before_or_after,sorting = 5, 3, 'after', 'softsorting'\n",
    "epoch = str(dF['epoch'].iloc[idx])\n",
    "type_data = 'center_im' #'median_unsat' #center_im\n",
    "print('Load the epoch: {}'.format(epoch))\n",
    "path_im_reduced = infolder + folder_prereduced + '*/*BB_H*{}*/*{}*.fits'.format(epoch, type_data)\n",
    "print('It corresponds do the path:\\n{}'.format(path_im_reduced))\n",
    "print('\\nFiles found:')\n",
    "flist = glob(path_im_reduced)\n",
    "for f in flist: print('-',f)\n",
    "cube,header = fits.getdata(flist[0],header=True)"
   ]
  },
  {
   "cell_type": "markdown",
   "id": "4b10ab19",
   "metadata": {},
   "source": [
    "Check the dimension of the cube"
   ]
  },
  {
   "cell_type": "code",
   "execution_count": 81,
   "id": "1fe2a571",
   "metadata": {},
   "outputs": [
    {
     "data": {
      "text/plain": [
       "(2, 224, 1024, 1024)"
      ]
     },
     "execution_count": 81,
     "metadata": {},
     "output_type": "execute_result"
    }
   ],
   "source": [
    "np.shape(cube)"
   ]
  },
  {
   "cell_type": "code",
   "execution_count": 82,
   "id": "51f78732",
   "metadata": {},
   "outputs": [
    {
     "data": {
      "text/plain": [
       "(224, 1024, 1024)"
      ]
     },
     "execution_count": 82,
     "metadata": {},
     "output_type": "execute_result"
    }
   ],
   "source": [
    "np.shape(np.mean(cube,axis=0))"
   ]
  },
  {
   "cell_type": "markdown",
   "id": "48beb69f",
   "metadata": {},
   "source": [
    "#### Add a spectral channel corresponding to the average of the spectral channels"
   ]
  },
  {
   "cell_type": "code",
   "execution_count": 83,
   "id": "37f40e7c",
   "metadata": {},
   "outputs": [],
   "source": [
    "new_cube = np.concatenate( (cube,np.array([np.mean(cube,axis=0)])) )"
   ]
  },
  {
   "cell_type": "markdown",
   "id": "cbe27331",
   "metadata": {},
   "source": [
    "Check the dimension of the cube"
   ]
  },
  {
   "cell_type": "code",
   "execution_count": 84,
   "id": "1b2bdbb1",
   "metadata": {},
   "outputs": [
    {
     "data": {
      "text/plain": [
       "(3, 224, 1024, 1024)"
      ]
     },
     "execution_count": 84,
     "metadata": {},
     "output_type": "execute_result"
    }
   ],
   "source": [
    "np.shape(new_cube)"
   ]
  },
  {
   "cell_type": "markdown",
   "id": "5d242f8d",
   "metadata": {},
   "source": [
    "Print the name of the file"
   ]
  },
  {
   "cell_type": "code",
   "execution_count": 86,
   "id": "0a22c347",
   "metadata": {},
   "outputs": [
    {
     "data": {
      "text/plain": [
       "'/Users/desgranc/Documents/work/projects/HD120326/data/prereduced/convert/IRDIS/HIP 67497_BB_H_2019-07-09_ird_convert_recenter_dc2021_BEAST_307407/ird_convert_recenter_dc2021-IRD_SCIENCE_REDUCED_MASTER_CUBE-center_im.fits'"
      ]
     },
     "execution_count": 86,
     "metadata": {},
     "output_type": "execute_result"
    }
   ],
   "source": [
    "f"
   ]
  },
  {
   "cell_type": "markdown",
   "id": "36e6ae0b",
   "metadata": {},
   "source": [
    "Define the name under the which the cube will be saved"
   ]
  },
  {
   "cell_type": "code",
   "execution_count": 87,
   "id": "95abf2d8",
   "metadata": {},
   "outputs": [
    {
     "data": {
      "text/plain": [
       "'/Users/desgranc/Documents/work/projects/HD120326/data/prereduced/convert/IRDIS/HIP 67497_BB_H_2019-07-09_ird_convert_recenter_dc2021_BEAST_307407/ird_convert_recenter_dc2021-IRD_SCIENCE_REDUCED_MASTER_CUBE-center_im_new.fits'"
      ]
     },
     "execution_count": 87,
     "metadata": {},
     "output_type": "execute_result"
    }
   ],
   "source": [
    "namesave=f[:-5]+'_new.fits'\n",
    "namesave"
   ]
  },
  {
   "cell_type": "code",
   "execution_count": 88,
   "id": "c9d7b1be",
   "metadata": {},
   "outputs": [],
   "source": [
    "fits.writeto(namesave, new_cube , header=header)"
   ]
  },
  {
   "cell_type": "code",
   "execution_count": null,
   "id": "5ae1848b",
   "metadata": {},
   "outputs": [],
   "source": []
  }
 ],
 "metadata": {
  "kernelspec": {
   "display_name": "Python 3 (ipykernel)",
   "language": "python",
   "name": "python3"
  },
  "language_info": {
   "codemirror_mode": {
    "name": "ipython",
    "version": 3
   },
   "file_extension": ".py",
   "mimetype": "text/x-python",
   "name": "python",
   "nbconvert_exporter": "python",
   "pygments_lexer": "ipython3",
   "version": "3.9.12"
  }
 },
 "nbformat": 4,
 "nbformat_minor": 5
}
