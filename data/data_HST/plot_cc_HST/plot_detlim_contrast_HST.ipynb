{
 "cells": [
  {
   "cell_type": "markdown",
   "id": "04b85d28",
   "metadata": {},
   "source": [
    "# Plot detection limits in terms of contrast and mass for GJ 436\n",
    "_Written 2023-01-23 (Célia Desgrange @MPIA & @IPAG)_ "
   ]
  },
  {
   "cell_type": "markdown",
   "id": "a558d8af",
   "metadata": {},
   "source": [
    "# Plot detection limits GJ 436"
   ]
  },
  {
   "cell_type": "code",
   "execution_count": 2,
   "id": "bf88fe0b",
   "metadata": {},
   "outputs": [],
   "source": [
    "from import_functions_generic import *\n",
    "#infolder = '/Users/desgranc/Documents/work/GitHub_clone/projects/Medres/'\n",
    "#sys.path.append(infolder+'run_simulations')\n",
    "#from functions_simues_detlim import *"
   ]
  },
  {
   "cell_type": "code",
   "execution_count": 3,
   "id": "5f895ca3",
   "metadata": {},
   "outputs": [],
   "source": [
    "plt.style.use('classic')  \n",
    "mpl.rc('image', cmap='viridis')#, origin='lower')\n",
    "#mpl.rc('text', usetex=True)\n",
    "#mpl.rc(mathtext.fontset = 'stix')\n",
    "\n",
    "\n",
    "rcParams.update({'font.size': 14,  'axes.labelsize' : 14, 'legend.fontsize' : 12,\n",
    "\"font.family\": \"serif\", 'text.usetex' : True, \"font.serif\": [], \"font.sans-serif\": [],\n",
    "'legend.handlelength': 1.5, 'legend.borderaxespad' : 1, 'legend.columnspacing' : 1, 'legend.handletextpad' : 0.5})\n",
    "\n",
    "rcParams['mathtext.fontset'] = 'stix'"
   ]
  },
  {
   "cell_type": "code",
   "execution_count": 5,
   "id": "cea44e64",
   "metadata": {},
   "outputs": [],
   "source": [
    "# Create folder in which the figures are going to be saved. \n",
    "L = time.localtime()\n",
    "date = \"{}-{}-{}\".format(L[0],L[1],L[2],L[3],L[4],L[5])\n",
    "\n",
    "target = 'HD120326' \n",
    "saving_dir = 'figs/fig_v{}/'.format(date)\n",
    "\n",
    "os.makedirs(saving_dir, exist_ok=True)"
   ]
  },
  {
   "cell_type": "code",
   "execution_count": 6,
   "id": "51590b82",
   "metadata": {},
   "outputs": [],
   "source": [
    "\n",
    "color_line_planet=np.array([0.1,0.1,0.1])*5"
   ]
  },
  {
   "cell_type": "markdown",
   "id": "ad86106c",
   "metadata": {},
   "source": [
    "## Physical Parameters"
   ]
  },
  {
   "cell_type": "code",
   "execution_count": 8,
   "id": "52fb91d6",
   "metadata": {},
   "outputs": [],
   "source": [
    "d = 113 #pc\n"
   ]
  },
  {
   "cell_type": "markdown",
   "id": "e1d928cc",
   "metadata": {},
   "source": [
    "## Figures\n",
    "\n",
    "### Plot contrast curve"
   ]
  },
  {
   "cell_type": "code",
   "execution_count": 9,
   "id": "55cc3e0a",
   "metadata": {},
   "outputs": [],
   "source": [
    "COLORS = ['mediumpurple','crimson','navy',\n",
    "          'darkblue', 'limegreen',  'darksalmon',\n",
    "          'darkred' ,'lightgray', 'lightsalmon', 'purple', 'crimson', 'firebrick' ,'blue',\n",
    "          'lightgreen', 'darkgreen', 'lime', 'limegreen' ]\n",
    "\n",
    "\n",
    "LS = ['--','--','-','-']"
   ]
  },
  {
   "cell_type": "markdown",
   "id": "c7cb138d",
   "metadata": {
    "scrolled": false
   },
   "source": [
    "# HST STIS CCD"
   ]
  },
  {
   "cell_type": "code",
   "execution_count": 13,
   "id": "2f37663c",
   "metadata": {},
   "outputs": [
    {
     "data": {
      "text/html": [
       "<div>\n",
       "<style scoped>\n",
       "    .dataframe tbody tr th:only-of-type {\n",
       "        vertical-align: middle;\n",
       "    }\n",
       "\n",
       "    .dataframe tbody tr th {\n",
       "        vertical-align: top;\n",
       "    }\n",
       "\n",
       "    .dataframe thead th {\n",
       "        text-align: right;\n",
       "    }\n",
       "</style>\n",
       "<table border=\"1\" class=\"dataframe\">\n",
       "  <thead>\n",
       "    <tr style=\"text-align: right;\">\n",
       "      <th></th>\n",
       "      <th>r(\")</th>\n",
       "      <th>Med.Contr/px</th>\n",
       "      <th>err_Med.Contr/px</th>\n",
       "    </tr>\n",
       "  </thead>\n",
       "  <tbody>\n",
       "    <tr>\n",
       "      <th>0</th>\n",
       "      <td>0.225</td>\n",
       "      <td>0.001038</td>\n",
       "      <td>0.000024</td>\n",
       "    </tr>\n",
       "    <tr>\n",
       "      <th>1</th>\n",
       "      <td>0.275</td>\n",
       "      <td>0.000599</td>\n",
       "      <td>0.000117</td>\n",
       "    </tr>\n",
       "    <tr>\n",
       "      <th>2</th>\n",
       "      <td>0.325</td>\n",
       "      <td>0.000481</td>\n",
       "      <td>0.000091</td>\n",
       "    </tr>\n",
       "    <tr>\n",
       "      <th>3</th>\n",
       "      <td>0.375</td>\n",
       "      <td>0.000342</td>\n",
       "      <td>0.000078</td>\n",
       "    </tr>\n",
       "    <tr>\n",
       "      <th>4</th>\n",
       "      <td>0.425</td>\n",
       "      <td>0.000251</td>\n",
       "      <td>0.000040</td>\n",
       "    </tr>\n",
       "  </tbody>\n",
       "</table>\n",
       "</div>"
      ],
      "text/plain": [
       "    r(\")  Med.Contr/px  err_Med.Contr/px\n",
       "0  0.225      0.001038          0.000024\n",
       "1  0.275      0.000599          0.000117\n",
       "2  0.325      0.000481          0.000091\n",
       "3  0.375      0.000342          0.000078\n",
       "4  0.425      0.000251          0.000040"
      ]
     },
     "execution_count": 13,
     "metadata": {},
     "output_type": "execute_result"
    }
   ],
   "source": [
    "folder = 'files/'\n",
    "fn = 'cc.csv'\n",
    "path = folder+fn\n",
    "dF = pd.read_csv(path, sep='\\t')\n",
    "dF.head()"
   ]
  },
  {
   "cell_type": "code",
   "execution_count": 25,
   "id": "4df8b11f",
   "metadata": {},
   "outputs": [],
   "source": [
    "colname_x = dF.columns[0]\n",
    "colname_y = dF.columns[1]\n",
    "colname_yerr = dF.columns[2]\n",
    "\n",
    "convert_unit_x = 1"
   ]
  },
  {
   "cell_type": "code",
   "execution_count": 32,
   "id": "f6d91d65",
   "metadata": {},
   "outputs": [
    {
     "name": "stderr",
     "output_type": "stream",
     "text": [
      "No handles with labels found to put in legend.\n"
     ]
    },
    {
     "data": {
      "image/png": "[encoded data removed]",
      "text/plain": [
       "<Figure size 400x320 with 2 Axes>"
      ]
     },
     "metadata": {},
     "output_type": "display_data"
    }
   ],
   "source": [
    "suffix = '_HST'\n",
    "LS = ['-', ':','--']\n",
    "# Figure\n",
    "fig, ax = plt.subplots(1,1, figsize=(5,4))\n",
    "fig.subplots_adjust(top=0.85, right=0.85, bottom=0.14, left=0.14)\n",
    "\n",
    "\n",
    "def au2sep(sep):\n",
    "    return sep*d#*1e-3\n",
    "\n",
    "def convert_ax_sep_to_au(ax):\n",
    "    y1, y2 = ax.get_xlim()\n",
    "    ax1.set_xlim(au2sep(y1), au2sep(y2))\n",
    "    ax1.figure.canvas.draw()\n",
    "    return\n",
    "\n",
    "ax1 = ax.twiny()\n",
    "ax.callbacks.connect(\"xlim_changed\", convert_ax_sep_to_au)\n",
    "\n",
    "\n",
    "ax1.set_xlabel('Distance (au)')\n",
    "ax.set_xlabel('Separation (\")')\n",
    "ax.set_ylabel('Contrast')\n",
    "\n",
    "#ax2.set_yscale('log')\n",
    "ax.set_yscale('log')\n",
    "#ax.set_scale('log')\n",
    "#ax.set_ylim([1, 100])\n",
    "#ax.set_xlim([0, 4000])\n",
    "ylim_max = ax.get_ylim()[-1]\n",
    "\n",
    "i = 0 \n",
    "X, Y = np.array(dF[colname_x])*convert_unit_x, np.array(dF[colname_y])\n",
    "ax.plot(X,Y, ls=LS[i], color=COLORS[2+i])#, label=LABELS[i])\n",
    "    \n",
    "#ax.invert_yaxis()\n",
    "\n",
    "ax.legend(frameon=False, loc=1, numpoints=1)\n",
    "mise_en_page(ax, x_min_step=0.2, x_maj_step=1, x_step=1,  y_step=0)\n",
    "mise_en_page(ax1, x_min_step=20, x_maj_step=100, x_step=1)\n",
    "#mise_en_page(ax2, x_min_step=0, x_maj_step=5, x_step=0)\n",
    "\n",
    "namesave = target + '_detlim_mass_curve' + suffix\n",
    "plt.savefig(saving_dir + namesave + '.pdf')\n",
    "#plt.savefig(saving_dir + namesave + '.png', dpi=300)\n",
    "plt.show()"
   ]
  },
  {
   "cell_type": "code",
   "execution_count": null,
   "id": "691bef1b",
   "metadata": {},
   "outputs": [],
   "source": []
  },
  {
   "cell_type": "markdown",
   "id": "e178289c",
   "metadata": {},
   "source": [
    "# JWST MIRI"
   ]
  },
  {
   "cell_type": "markdown",
   "id": "c73d719f",
   "metadata": {},
   "source": [
    "##### if needed, save .json files into DataFrames"
   ]
  },
  {
   "cell_type": "code",
   "execution_count": 23,
   "id": "64ead645",
   "metadata": {},
   "outputs": [],
   "source": [
    "filts = ['1065', '1140', '1550']\n",
    "path_miri = '/Users/desgranc/Documents/work/GitHub_clone/projects/proposal/GJ436/Pancake/GJ436_HD101151_300sec/results/'\n",
    "FNs = ['Target-F{}C-FQPM{}-RDI-nb25a1s1m1-KLmodes-all_CURVES'.format(filt, filt) for filt in filts]\n",
    "ext = '.json'\n",
    "for k, fn in enumerate(FNs):\n",
    "    # One contrast curve\n",
    "    path = path_miri + fn + ext\n",
    "    with open(path) as json_file:\n",
    "        json_data = json.load(json_file)\n",
    "        #print(json_data)\n",
    "\n",
    "    dF = pd.DataFrame({COLS[0]: json_data[COLS[0]],\n",
    "              COLS[1]: json_data[COLS[1]],\n",
    "              COLS[2]: json_data[COLS[2]],\n",
    "              COLS[3]: json_data[COLS[3]]\n",
    "             })\n",
    "    dF.to_csv(path_nircam + fn + '.csv', sep=',', index=None)"
   ]
  },
  {
   "cell_type": "markdown",
   "id": "66c30de0",
   "metadata": {},
   "source": [
    "#### Open functions with mass"
   ]
  },
  {
   "cell_type": "code",
   "execution_count": 12,
   "id": "a7cd4104",
   "metadata": {},
   "outputs": [],
   "source": [
    "# SPHERE \n",
    "#path_nircam = 'contrast_JWST/'\n",
    "import json\n",
    "path_miri  = '/Users/desgranc/Documents/work/GitHub_clone/projects/proposal/GJ436/Pancake/GJ436_HD101151_300sec/results/'\n",
    "filts = ['1065', '1140', '1550']\n",
    "FNs = ['mass_Target-F{}C-FQPM{}-RDI-nb25a1s1m1-KLmodes-all_CURVES'.format(filt, filt) for filt in filts]\n",
    "\n",
    "LABELS_MIRI= ['JWST-MIRI-F'+filt+'C' for filt in filts]\n",
    "LABELS=np.copy(LABELS_MIRI)\n",
    "\n",
    "dFs_miri = [pd.read_csv(path_miri + fn + ext, sep=',') for fn in FNs]\n",
    "#dFs_miri[1]['mass']#.head()"
   ]
  },
  {
   "cell_type": "code",
   "execution_count": null,
   "id": "5ee84037",
   "metadata": {},
   "outputs": [],
   "source": []
  },
  {
   "cell_type": "markdown",
   "id": "842a30df",
   "metadata": {},
   "source": [
    "## Mass"
   ]
  },
  {
   "cell_type": "code",
   "execution_count": 13,
   "id": "e6576b24",
   "metadata": {},
   "outputs": [
    {
     "data": {
      "image/png": "[encoded data removed]",
      "text/plain": [
       "<Figure size 400x320 with 2 Axes>"
      ]
     },
     "metadata": {},
     "output_type": "display_data"
    }
   ],
   "source": []
  },
  {
   "cell_type": "markdown",
   "id": "0c2c3a1d",
   "metadata": {},
   "source": [
    "# NaCo \n",
    "## Load NaCo data"
   ]
  },
  {
   "cell_type": "code",
   "execution_count": 14,
   "id": "72f2bc58",
   "metadata": {},
   "outputs": [],
   "source": [
    "# SPHERE \n",
    "path_naco = 'contrast_NaCo/'\n",
    "\n",
    "fn_naco_mass='detectionLimits_NaCo_Vincent.txt'\n",
    "\n",
    "dF_NACO = np.loadtxt(path_naco+fn_naco_mass, skiprows = 2,\n",
    "                    dtype={'names': ('sma','lim'),'formats': (float, float)})\n",
    "\n",
    "AU_NACO   = dF_NACO['sma']\n",
    "SEP_NACO  = dF_NACO['sma']/d\n",
    "MASS_NACO = dF_NACO['lim']"
   ]
  },
  {
   "cell_type": "markdown",
   "id": "0207de5d",
   "metadata": {},
   "source": [
    "## Mass curve "
   ]
  },
  {
   "cell_type": "code",
   "execution_count": 15,
   "id": "5e9364db",
   "metadata": {},
   "outputs": [
    {
     "data": {
      "image/png": "[encoded data removed]",
      "text/plain": [
       "<Figure size 400x320 with 2 Axes>"
      ]
     },
     "metadata": {},
     "output_type": "display_data"
    }
   ],
   "source": [
    "# Figure\n",
    "suffix = '_NaCo'\n",
    "fig, ax = plt.subplots(1,1, figsize=(5,4))\n",
    "fig.subplots_adjust(top=0.85, right=0.85, bottom=0.14, left=0.14)\n",
    "\n",
    "def mag2contr(mag):\n",
    "    '''\n",
    "    Convert magnitude 'mag' to contrast.\n",
    "    '''\n",
    "    return 10**(-mag/2.5)\n",
    "\n",
    "def convert_ax_mag_to_contr(ax):\n",
    "    '''\n",
    "    Add to the already defined axis 'ax' a second vertical axis corresponding \n",
    "    to the contrast.\n",
    "    Require the funtion 'mag2contr'.\n",
    "    '''\n",
    "    x1, x2 = ax.get_ylim()\n",
    "    ax2.set_ylim(mag2contr(x1), mag2contr(x2))\n",
    "    ax2.figure.canvas.draw()\n",
    "    return\n",
    "\n",
    "def au2sep(sep):\n",
    "    return sep*9.78#*1e-3\n",
    "\n",
    "def convert_ax_sep_to_au(ax):\n",
    "    y1, y2 = ax.get_xlim()\n",
    "    ax1.set_xlim(au2sep(y1), au2sep(y2))\n",
    "    ax1.figure.canvas.draw()\n",
    "    return\n",
    "\n",
    "ax1 = ax.twiny()\n",
    "ax.callbacks.connect(\"xlim_changed\", convert_ax_sep_to_au)\n",
    "\n",
    "#ax2= ax.twinx()\n",
    "#ax.callbacks.connect(\"ylim_changed\", convert_ax_mag_to_contr)\n",
    "\n",
    "ax1.set_xlabel('Semi-major axis of the planet (au)')\n",
    "ax.set_xlabel('Separation (\")')\n",
    "#ax2.set_ylabel('Contrast at $4.8 \\mu$m (3$\\sigma$)')\n",
    "#ax.set_ylabel('Relative Apparent Magnitude at $4.8 \\mu$m (3$\\sigma$)')\n",
    "ax.set_ylabel('Mass at 5$\\sigma$ (MJup)')\n",
    "\n",
    "ax.set_yscale('log')\n",
    "ax1.set_xscale('log')\n",
    "ax.set_xscale('log')\n",
    "#ax.set_ylim([0.1, 100])\n",
    "#ax.set_xlim([0, 1000])\n",
    "ylim_max = ax.get_ylim()[-1]\n",
    "\n",
    "ax.plot(SEP_NACO, MASS_NACO, ls='-', color=COLORS[10], label='NaCo')\n",
    "\n",
    "ax.legend(frameon=False, loc=0, numpoints=1)\n",
    "mise_en_page(ax, x_min_step=50, x_maj_step=200, x_step=0, y_min_step=0.2, y_maj_step=1, y_step=0)\n",
    "mise_en_page(ax1, x_min_step=5, x_maj_step=20, x_step=0)\n",
    "#mise_en_page(ax2, x_min_step=0, x_maj_step=5, x_step=0)\n",
    "\n",
    "namesave = target + '_detlim_mass_curve' + suffix\n",
    "plt.savefig(saving_dir + namesave + '.pdf')\n",
    "#plt.savefig(saving_dir + namesave + '.png', dpi=300)\n",
    "plt.show()"
   ]
  },
  {
   "cell_type": "code",
   "execution_count": null,
   "id": "df9a34f6",
   "metadata": {},
   "outputs": [],
   "source": []
  },
  {
   "cell_type": "markdown",
   "id": "f2e3e85d",
   "metadata": {},
   "source": [
    "# SPHERE \n",
    "## Load SPHERE data"
   ]
  },
  {
   "cell_type": "code",
   "execution_count": 16,
   "id": "92e50bf0",
   "metadata": {},
   "outputs": [],
   "source": [
    "# SPHERE \n",
    "path_sphere = 'contrast_SPHERE/'\n",
    "\n",
    "fn_sphere_mass = 'GJ436_mass_SPHERE_predict_newage_atmo_Elisabeth.dat'\n",
    "\n",
    "dF_SPHERE = pd.read_csv(path_sphere+fn_sphere_mass, sep=',', comment='#')\n",
    "MASS_SPHERE = np.array(dF_SPHERE.iloc[:,1]).astype(float)\n",
    "SEP_SPHERE = np.array(dF_SPHERE.iloc[:,0]).astype(float)\n",
    "\n",
    "cond = SEP_SPHERE > 0.100\n",
    "SEP_SPHERE, MASS_SPHERE =  SEP_SPHERE[cond], MASS_SPHERE[cond]"
   ]
  },
  {
   "cell_type": "code",
   "execution_count": null,
   "id": "125123dc",
   "metadata": {},
   "outputs": [],
   "source": []
  },
  {
   "cell_type": "markdown",
   "id": "ce1dfe67",
   "metadata": {},
   "source": [
    "## Mass curve"
   ]
  },
  {
   "cell_type": "code",
   "execution_count": 17,
   "id": "0c3ca20c",
   "metadata": {},
   "outputs": [],
   "source": [
    "suffix = '_SPHERE'"
   ]
  },
  {
   "cell_type": "code",
   "execution_count": 18,
   "id": "d9750e61",
   "metadata": {},
   "outputs": [
    {
     "data": {
      "image/png": "[encoded data removed]",
      "text/plain": [
       "<Figure size 400x320 with 2 Axes>"
      ]
     },
     "metadata": {},
     "output_type": "display_data"
    }
   ],
   "source": [
    "# Figure\n",
    "fig, ax = plt.subplots(1,1, figsize=(5,4))\n",
    "fig.subplots_adjust(top=0.85, right=0.85, bottom=0.14, left=0.14)\n",
    "\n",
    "def mag2contr(mag):\n",
    "    '''\n",
    "    Convert magnitude 'mag' to contrast.\n",
    "    '''\n",
    "    return 10**(-mag/2.5)\n",
    "\n",
    "def convert_ax_mag_to_contr(ax):\n",
    "    '''\n",
    "    Add to the already defined axis 'ax' a second vertical axis corresponding \n",
    "    to the contrast.\n",
    "    Require the funtion 'mag2contr'.\n",
    "    '''\n",
    "    x1, x2 = ax.get_ylim()\n",
    "    ax2.set_ylim(mag2contr(x1), mag2contr(x2))\n",
    "    ax2.figure.canvas.draw()\n",
    "    return\n",
    "\n",
    "def au2sep(sep):\n",
    "    return sep*9.78#*1e-3\n",
    "\n",
    "def convert_ax_sep_to_au(ax):\n",
    "    y1, y2 = ax.get_xlim()\n",
    "    ax1.set_xlim(au2sep(y1), au2sep(y2))\n",
    "    ax1.figure.canvas.draw()\n",
    "    return\n",
    "\n",
    "ax1 = ax.twiny()\n",
    "ax.callbacks.connect(\"xlim_changed\", convert_ax_sep_to_au)\n",
    "\n",
    "#ax2= ax.twinx()\n",
    "#ax.callbacks.connect(\"ylim_changed\", convert_ax_mag_to_contr)\n",
    "\n",
    "ax1.set_xlabel('Semi-major axis of the planet (au)')\n",
    "ax.set_xlabel('Separation (\")')\n",
    "#ax2.set_ylabel('Contrast at $4.8 \\mu$m (3$\\sigma$)')\n",
    "#ax.set_ylabel('Relative Apparent Magnitude at $4.8 \\mu$m (3$\\sigma$)')\n",
    "ax.set_ylabel('Mass at 5$\\sigma$ (MJup)')\n",
    "\n",
    "ax.set_yscale('log')\n",
    "ax1.set_xscale('log')\n",
    "ax.set_xscale('log')\n",
    "#ax.set_ylim([0.1, 100])\n",
    "#ax.set_xlim([0, 1000])\n",
    "ylim_max = ax.get_ylim()[-1]\n",
    "\n",
    "ax.plot(SEP_SPHERE, MASS_SPHERE, ls='-', color=COLORS[10], label='SPHERE predictions')\n",
    "\n",
    "ax.legend(frameon=False, loc=0, numpoints=1)\n",
    "mise_en_page(ax, x_min_step=50, x_maj_step=200, x_step=0, y_min_step=0.2, y_maj_step=1, y_step=0)\n",
    "mise_en_page(ax1, x_min_step=5, x_maj_step=20, x_step=0)\n",
    "#mise_en_page(ax2, x_min_step=0, x_maj_step=5, x_step=0)\n",
    "\n",
    "namesave = target + '_detlim_mass_curve' + suffix\n",
    "plt.savefig(saving_dir + namesave + '.pdf')\n",
    "#plt.savefig(saving_dir + namesave + '.png', dpi=300)\n",
    "plt.show()"
   ]
  },
  {
   "cell_type": "code",
   "execution_count": null,
   "id": "65993eb5",
   "metadata": {},
   "outputs": [],
   "source": []
  },
  {
   "cell_type": "code",
   "execution_count": null,
   "id": "c74103ec",
   "metadata": {},
   "outputs": [],
   "source": []
  },
  {
   "cell_type": "markdown",
   "id": "91f99e2c",
   "metadata": {},
   "source": [
    "# Comparison JWST-NIRCAM, JWST-MIRI versus SPHERE, NACO\n",
    "\n",
    "## Contrast"
   ]
  },
  {
   "cell_type": "code",
   "execution_count": 39,
   "id": "fd6c8759",
   "metadata": {},
   "outputs": [
    {
     "data": {
      "image/png": "[encoded data removed]",
      "text/plain": [
       "<Figure size 440x320 with 3 Axes>"
      ]
     },
     "metadata": {},
     "output_type": "display_data"
    }
   ],
   "source": [
    "suffix = '_comparison_all'\n",
    "\n",
    "# Figure\n",
    "fig, ax = plt.subplots(1,1, figsize=(5.5,4))\n",
    "\n",
    "def mJup2mEarth(mass):\n",
    "    '''\n",
    "    Convert magnitude 'mag' to contrast.\n",
    "    '''\n",
    "    return mass*317.8\n",
    "\n",
    "def convert_ax_mJup_to_mEarth(ax):\n",
    "    '''\n",
    "    Add to the already defined axis 'ax' a second vertical axis corresponding \n",
    "    to the contrast.\n",
    "    Require the funtion 'mag2contr'.\n",
    "    '''\n",
    "    x1, x2 = ax.get_ylim()\n",
    "    ax2.set_ylim(mJup2mEarth(x1),mJup2mEarth(x2))\n",
    "    ax2.figure.canvas.draw()\n",
    "    return\n",
    "\n",
    "def au2sep(sep):\n",
    "    return sep*9.78#*1e-3\n",
    "\n",
    "def convert_ax_sep_to_au(ax):\n",
    "    y1, y2 = ax.get_xlim()\n",
    "    ax1.set_xlim(au2sep(y1), au2sep(y2))\n",
    "    ax1.figure.canvas.draw()\n",
    "    return\n",
    "\n",
    "\n",
    "def mag2contr(mag):\n",
    "    '''\n",
    "    Convert magnitude 'mag' to contrast.\n",
    "    '''\n",
    "    return 10**(-mag/2.5)\n",
    "\n",
    "def convert_ax_mag_to_contr(ax):\n",
    "    '''\n",
    "    Add to the already defined axis 'ax' a second vertical axis corresponding \n",
    "    to the contrast.\n",
    "    Require the funtion 'mag2contr'.\n",
    "    '''\n",
    "    x1, x2 = ax.get_ylim()\n",
    "    ax2.set_ylim(mag2contr(x1), mag2contr(x2))\n",
    "    ax2.figure.canvas.draw()\n",
    "    return\n",
    "\n",
    "\n",
    "ax1 = ax.twiny()\n",
    "ax.callbacks.connect(\"xlim_changed\", convert_ax_sep_to_au)\n",
    "\n",
    "ax2= ax.twinx()\n",
    "ax.callbacks.connect(\"ylim_changed\",  convert_ax_mag_to_contr)\n",
    "\n",
    "ax1.set_xlabel('Semi-major axis (au)')\n",
    "ax.set_xlabel('Separation (\")')\n",
    "#ax2.set_ylabel('Contrast at $4.8 \\mu$m (3$\\sigma$)')\n",
    "#ax.set_ylabel('Relative Apparent Magnitude at $4.8 \\mu$m (3$\\sigma$)')\n",
    "ax2.set_ylabel('Contrast ($5\\,\\sigma$)')\n",
    "ax.set_ylabel('Relative Magnitude ($5\\,\\sigma$)')\n",
    "\n",
    "ax2.set_yscale('log')\n",
    "#ax.set_xscale('log')\n",
    "#ax1.set_xscale('log')\n",
    "#ax.set_yscale('log')\n",
    "ax.set_ylim([4, 17.5])\n",
    "ax.set_xlim([0, 4])\n",
    "ylim_max = ax.get_ylim()[-1]\n",
    "\n",
    "if 0:\n",
    "    # repère Jupiter\n",
    "    xtext_deb = 0.055; fs=10\n",
    "    ax.plot(ax.get_xlim(), [1,1], ls=':', color=color_line_planet)\n",
    "    ax.text(xtext_deb, 1.2, 'Jupiter', color=color_line_planet, fontsize=fs)\n",
    "\n",
    "    MSaturn = 95/318\n",
    "    ax.plot(ax.get_xlim(), [MSaturn,MSaturn], ls=':', color=color_line_planet)\n",
    "    ax.text(xtext_deb, MSaturn*1.2, 'Saturn', color=color_line_planet, fontsize=fs)\n",
    "\n",
    "    MNeptune = 18/318\n",
    "    ax.plot(ax.get_xlim(), [MNeptune,MNeptune], ls=':', color=color_line_planet)\n",
    "    ax.text(xtext_deb, MNeptune*1.2, 'Neptune', color=color_line_planet, fontsize=fs)\n",
    "\n",
    "\n",
    "for i, dF in enumerate(dFs_nircam):\n",
    "    X, Y = np.array(dF['separation_arcsec']), np.array(dF['relmag'])\n",
    "    cond = X >0.4\n",
    "    X, Y = X[cond], Y[cond]\n",
    "    lab = LABELS_NIRCAM[i]\n",
    "    lab = lab[5:]\n",
    "    if i == 0: continue\n",
    "    ax.plot(X,Y, ls='-.', color=COLORS[4+i], label=lab)\n",
    "\n",
    "\n",
    "for i, dF in enumerate(dFs_miri):\n",
    "    X, Y = np.array(dF['separation_arcsec']), np.array(dF['relmag'])\n",
    "    lab = LABELS_MIRI[i]\n",
    "    lab = lab[5:]\n",
    "    ax.plot(X,Y, ls='-', color=COLORS[i], label=lab)\n",
    "    \n",
    "    \n",
    "ax.invert_yaxis()    \n",
    "#ax.plot(SEP_SPHERE, MASS_SPHERE, ls=':', color='black', label='SPHERE predic.')\n",
    "#ax.plot(SEP_NACO, MASS_NACO, ls='--', color='black', label='NaCo')\n",
    "\n",
    "ax.legend(frameon=False, loc='upper right', numpoints=1, ncol=1)\n",
    "mise_en_page(ax, x_min_step=0.2, x_maj_step=1, x_step=1, \n",
    "             y_min_step=0.2, y_maj_step=1, y_step=0)\n",
    "mise_en_page(ax1, x_min_step=1, x_maj_step=5, x_step=1)\n",
    "try: \n",
    "    mise_en_page(ax2, x_min_step=0, x_maj_step=5, x_step=0)\n",
    "except: pass\n",
    "\n",
    "fig.subplots_adjust(top=0.87, right=0.87, bottom=0.14, left=0.1)\n",
    "\n",
    "\n",
    "namesave = target + '_detlim_contrast_curve' + suffix\n",
    "plt.savefig(saving_dir + namesave + '.pdf')\n",
    "#plt.savefig(saving_dir + namesave + '.png', dpi=300)\n",
    "plt.show()\n"
   ]
  },
  {
   "cell_type": "code",
   "execution_count": null,
   "id": "f3deca98",
   "metadata": {},
   "outputs": [],
   "source": []
  },
  {
   "cell_type": "code",
   "execution_count": null,
   "id": "e5611d56",
   "metadata": {},
   "outputs": [],
   "source": []
  },
  {
   "cell_type": "markdown",
   "id": "da7c06e5",
   "metadata": {},
   "source": [
    "## Mass"
   ]
  },
  {
   "cell_type": "code",
   "execution_count": 46,
   "id": "1b9732e6",
   "metadata": {
    "scrolled": true
   },
   "outputs": [
    {
     "data": {
      "image/png": "[encoded data removed]",
      "text/plain": [
       "<Figure size 400x320 with 2 Axes>"
      ]
     },
     "metadata": {},
     "output_type": "display_data"
    }
   ],
   "source": [
    "suffix = '_comparison_all'\n",
    "\n",
    "# Figure\n",
    "fig, ax = plt.subplots(1,1, figsize=(5,4))\n",
    "\n",
    "def mJup2mEarth(mass):\n",
    "    '''\n",
    "    Convert magnitude 'mag' to contrast.\n",
    "    '''\n",
    "    return mass*317.8\n",
    "\n",
    "def convert_ax_mJup_to_mEarth(ax):\n",
    "    '''\n",
    "    Add to the already defined axis 'ax' a second vertical axis corresponding \n",
    "    to the contrast.\n",
    "    Require the funtion 'mag2contr'.\n",
    "    '''\n",
    "    x1, x2 = ax.get_ylim()\n",
    "    ax2.set_ylim(mJup2mEarth(x1),mJup2mEarth(x2))\n",
    "    ax2.figure.canvas.draw()\n",
    "    return\n",
    "\n",
    "def au2sep(sep):\n",
    "    return sep*9.78#*1e-3\n",
    "\n",
    "def convert_ax_sep_to_au(ax):\n",
    "    y1, y2 = ax.get_xlim()\n",
    "    ax1.set_xlim(au2sep(y1), au2sep(y2))\n",
    "    ax1.figure.canvas.draw()\n",
    "    return\n",
    "\n",
    "ax1 = ax.twiny()\n",
    "ax.callbacks.connect(\"xlim_changed\", convert_ax_sep_to_au)\n",
    "\n",
    "#ax2= ax.twinx()\n",
    "#ax.callbacks.connect(\"ylim_changed\", convert_ax_mJup_to_mEarth)\n",
    "\n",
    "ax1.set_xlabel('Semi-major axis (au)')\n",
    "ax.set_xlabel('Separation (\")')\n",
    "#ax2.set_ylabel('Contrast at $4.8 \\mu$m (3$\\sigma$)')\n",
    "#ax.set_ylabel('Relative Apparent Magnitude at $4.8 \\mu$m (3$\\sigma$)')\n",
    "ax.set_ylabel('Mass (MJup)')\n",
    "try: \n",
    "    ax2.set_ylabel('Mass (MEarth)')\n",
    "    ax2.set_yscale('log')\n",
    "except: pass\n",
    "#ax.set_xscale('log')\n",
    "#ax1.set_xscale('log')\n",
    "ax.set_yscale('log')\n",
    "ax.set_ylim([0.1, 100])\n",
    "ax.set_xlim([0, 4])\n",
    "ylim_max = ax.get_ylim()[-1]\n",
    "\n",
    "if 0:\n",
    "    # repère Jupiter\n",
    "    xtext_deb = 0.055; fs=10\n",
    "    ax.plot(ax.get_xlim(), [1,1], ls=':', color=color_line_planet)\n",
    "    ax.text(xtext_deb, 1.2, 'Jupiter', color=color_line_planet, fontsize=fs)\n",
    "\n",
    "    MSaturn = 95/318\n",
    "    ax.plot(ax.get_xlim(), [MSaturn,MSaturn], ls=':', color=color_line_planet)\n",
    "    ax.text(xtext_deb, MSaturn*1.2, 'Saturn', color=color_line_planet, fontsize=fs)\n",
    "\n",
    "    MNeptune = 18/318\n",
    "    ax.plot(ax.get_xlim(), [MNeptune,MNeptune], ls=':', color=color_line_planet)\n",
    "    ax.text(xtext_deb, MNeptune*1.2, 'Neptune', color=color_line_planet, fontsize=fs)\n",
    "\n",
    "    \n",
    "ax.plot(SEP_NACO, MASS_NACO, ls='--', color='black', label=\"NaCo L'\")\n",
    "\n",
    "ax.plot(SEP_SPHERE, MASS_SPHERE, ls=':', color='black', label='SPHERE H2 predic.')\n",
    "\n",
    "\n",
    "for i, dF in enumerate(dFs_nircam):\n",
    "    \n",
    "    X, Y = np.array(dF['separation_arcsec']), np.array(dF['mass'])\n",
    "    cond = X >0.4\n",
    "    X, Y = X[cond], Y[cond]\n",
    "    lab = LABELS_NIRCAM[i]\n",
    "    if i == 0: continue\n",
    "    if i == 1: Y=Y*factor_NIRCAM\n",
    "\n",
    "    lab = lab[5:]\n",
    "    ax.plot(X,Y, ls='-.', color=COLORS[4+i], label=lab)\n",
    "\n",
    "\n",
    "for i, dF in enumerate(dFs_miri):\n",
    "    X, Y = np.array(dF['separation_arcsec']), np.array(dF['mass'])\n",
    "    lab = LABELS_MIRI[i]\n",
    "    lab = lab[5:]\n",
    "    cond = X>0.4\n",
    "    X, Y = X[cond], Y[cond]\n",
    "    ax.plot(X,Y, ls='-', color=COLORS[i], label=lab)\n",
    "    \n",
    "ax.legend(frameon=False, loc='lower center', numpoints=1, ncol=2)\n",
    "mise_en_page(ax, x_min_step=0.2, x_maj_step=1, x_step=1, \n",
    "             y_min_step=0.2, y_maj_step=1, y_step=0)\n",
    "mise_en_page(ax1, x_min_step=1, x_maj_step=5, x_step=1)\n",
    "try: \n",
    "    mise_en_page(ax2, x_min_step=0, x_maj_step=5, x_step=0)\n",
    "except: pass\n",
    "\n",
    "fig.subplots_adjust(top=0.87, right=0.97, bottom=0.14, left=0.15)\n",
    "\n",
    "namesave = target + '_detlim_mass_curve' + suffix\n",
    "plt.savefig(saving_dir + namesave + '.pdf')\n",
    "#plt.savefig(saving_dir + namesave + '.png', dpi=300)\n",
    "plt.show()\n"
   ]
  },
  {
   "cell_type": "code",
   "execution_count": 41,
   "id": "ca535cd8",
   "metadata": {},
   "outputs": [],
   "source": [
    "factor_NIRCAM = 4"
   ]
  },
  {
   "cell_type": "code",
   "execution_count": null,
   "id": "0b99619a",
   "metadata": {},
   "outputs": [],
   "source": []
  },
  {
   "cell_type": "code",
   "execution_count": 649,
   "id": "ec6fffdf",
   "metadata": {},
   "outputs": [
    {
     "data": {
      "text/plain": [
       "['darkblue',\n",
       " 'limegreen',\n",
       " 'darkblue',\n",
       " 'limegreen',\n",
       " 'darksalmon',\n",
       " 'darkred',\n",
       " 'lightgray',\n",
       " 'lightsalmon',\n",
       " 'purple',\n",
       " 'crimson',\n",
       " 'firebrick',\n",
       " 'blue',\n",
       " 'lightgreen',\n",
       " 'darkgreen',\n",
       " 'lime',\n",
       " 'limegreen']"
      ]
     },
     "execution_count": 649,
     "metadata": {},
     "output_type": "execute_result"
    }
   ],
   "source": [
    "COLORS"
   ]
  },
  {
   "cell_type": "code",
   "execution_count": null,
   "id": "3f1520fd",
   "metadata": {},
   "outputs": [],
   "source": []
  },
  {
   "cell_type": "code",
   "execution_count": null,
   "id": "aeffbbbd",
   "metadata": {},
   "outputs": [],
   "source": [
    "COLORS = ['mediumpurple','crimson','navy',\n",
    "          'darkblue', 'limegreen',  'darksalmon',\n",
    "          'darkred' ,'lightgray', 'lightsalmon', 'purple', 'crimson', 'firebrick' ,'blue',\n",
    "          'lightgreen', 'darkgreen', 'lime', 'limegreen' ]\n",
    "\n",
    "\n",
    "LS = ['--','--','-','-']"
   ]
  },
  {
   "cell_type": "code",
   "execution_count": null,
   "id": "cc4b15df",
   "metadata": {},
   "outputs": [],
   "source": []
  }
 ],
 "metadata": {
  "kernelspec": {
   "display_name": "Python 3 (ipykernel)",
   "language": "python",
   "name": "python3"
  },
  "language_info": {
   "codemirror_mode": {
    "name": "ipython",
    "version": 3
   },
   "file_extension": ".py",
   "mimetype": "text/x-python",
   "name": "python",
   "nbconvert_exporter": "python",
   "pygments_lexer": "ipython3",
   "version": "3.9.12"
  }
 },
 "nbformat": 4,
 "nbformat_minor": 5
}
