{
 "cells": [
  {
   "cell_type": "code",
   "execution_count": 1,
   "id": "03bcfe66",
   "metadata": {},
   "outputs": [],
   "source": [
    "from import_functions_generic import * \n",
    "from import_functions_plotting import * \n",
    "from functions_background import *\n",
    "#from image_manipulation import * "
   ]
  },
  {
   "cell_type": "code",
   "execution_count": 171,
   "id": "9a748ccd",
   "metadata": {},
   "outputs": [],
   "source": [
    "plt.style.use('classic')  \n",
    "mpl.rc('image', cmap='viridis')#, origin='lower')\n",
    "#mpl.rc('text', usetex=True)\n",
    "#mpl.rc(mathtext.fontset = 'stix')\n",
    "\n",
    "\n",
    "rcParams.update({'font.size': 13,  'axes.labelsize' : 13, 'legend.fontsize' : 12,\n",
    "\"font.family\": \"serif\", 'text.usetex' : True, \"font.serif\": [], \"font.sans-serif\": [],\n",
    "'legend.handlelength': 1.5, 'legend.borderaxespad' : 0.8, 'legend.columnspacing' : 1, 'legend.handletextpad' : 0.5})\n",
    "\n",
    "rcParams['mathtext.fontset'] = 'stix'"
   ]
  },
  {
   "cell_type": "code",
   "execution_count": 3,
   "id": "e837a8f9",
   "metadata": {},
   "outputs": [],
   "source": [
    "L = time.localtime()\n",
    "date = \"{}-{}-{}\".format(L[0],L[1],L[2],L[3],L[4],L[5])\n",
    "\n",
    "saving_dir = 'figs/fig_v{}/'.format(date)\n",
    "os.makedirs(saving_dir,exist_ok=True)"
   ]
  },
  {
   "cell_type": "code",
   "execution_count": 529,
   "id": "7884c72b",
   "metadata": {},
   "outputs": [],
   "source": [
    "def plot_fig(im, clab='', vmin=None, vmax=None, text='None', text_xfrac=0.03, text_yfrac=0.9, color_text='white',\n",
    "        show_axis_ticks='off', im_crop=0,\n",
    "        scalebar_pix=100, scalebar_leg='0.1\"', platescale=12.25, color_scalebar='white',\n",
    "        add_colorbar=1, cbar_xdeb=0.82, right=0.8, top=0.95, left=0.01, bottom=0.05, figsize=(5,4),\n",
    "        interpolation='nearest', saving_dir='', namesave='test', save_png=0, cmap='magma',\n",
    "        return_fig_ax=False, give_fig_ax=False, fig=None, ax=None):\n",
    "\n",
    "    if not give_fig_ax: \n",
    "        fig, ax = plt.subplots(1,1, figsize=figsize)\n",
    "        fig.subplots_adjust(left=left, right=right, top=top, bottom=bottom)\n",
    "    ax.axis(show_axis_ticks)\n",
    "\n",
    "    if im_crop != 0: im = im[im_crop:-im_crop,im_crop:-im_crop]\n",
    "\n",
    "    if vmin != None and vmax != None: im_plot = ax.imshow(im, vmin=vmin, vmax=vmax, origin='lower', interpolation=interpolation, cmap=cmap)\n",
    "    elif vmax != None : im_plot = ax.imshow(im, vmax=vmax, origin='lower', interpolation=interpolation, cmap=cmap)\n",
    "    elif vmin != None : im_plot = ax.imshow(im, vmin=vmin, origin='lower', interpolation=interpolation, cmap=cmap)\n",
    "    else : im_plot = ax.imshow(im, origin='lower', interpolation=interpolation, cmap=cmap)\n",
    "\n",
    "    # Add text\n",
    "    if text != 'None':\n",
    "        w,h = np.shape(im)\n",
    "        ax.text(w*text_xfrac,h*text_yfrac,text,color=color_text)\n",
    "\n",
    "    # Add scalebar\n",
    "    scalebar = AnchoredSizeBar(ax.transData, scalebar_pix/platescale, scalebar_leg, 3, label_top=True, pad=0.4,\n",
    "                               sep=2, borderpad=0.5, frameon=False, size_vertical=1, color=color_scalebar)#,fontproperties=fp)\n",
    "    ax.add_artist(scalebar)\n",
    "\n",
    "    # Add colorbar\n",
    "    if add_colorbar:\n",
    "        # Color bar\n",
    "        cb_xdeb, cb_ydeb, cb_xwidth, cb_ywidth = cbar_xdeb, 0.1, 0.03, 0.8\n",
    "        cb_ax = fig.add_axes([cb_xdeb, cb_ydeb, cb_xwidth, cb_ywidth])\n",
    "\n",
    "        cbar = fig.colorbar(im_plot, cax=cb_ax, orientation='vertical', #drawedges=True,\n",
    "                            pad=0.8, shrink=0.05,fraction=0.01,aspect=50)#,width_fraction=0.001)\n",
    "\n",
    "        cbar.set_label(clab)\n",
    "    \n",
    "    if return_fig_ax: return fig, ax\n",
    "    else: \n",
    "        print('The file is saved here:\\n', saving_dir+namesave)\n",
    "        plt.savefig(saving_dir+namesave+'.pdf')\n",
    "        if save_png: plt.savefig(saving_dir+namesave+'.png', dpi=200)\n",
    "        plt.show()"
   ]
  },
  {
   "cell_type": "code",
   "execution_count": 192,
   "id": "ed4aa734",
   "metadata": {
    "scrolled": true
   },
   "outputs": [
    {
     "name": "stdout",
     "output_type": "stream",
     "text": [
      "Help on method colorbar in module matplotlib.figure:\n",
      "\n",
      "colorbar(mappable, cax=None, ax=None, use_gridspec=True, **kw) method of matplotlib.figure.Figure instance\n",
      "    Add a colorbar to a plot.\n",
      "    \n",
      "    Parameters\n",
      "    ----------\n",
      "    mappable\n",
      "        The `matplotlib.cm.ScalarMappable` (i.e., `~matplotlib.image.AxesImage`,\n",
      "        `~matplotlib.contour.ContourSet`, etc.) described by this colorbar.\n",
      "        This argument is mandatory for the `.Figure.colorbar` method but optional\n",
      "        for the `.pyplot.colorbar` function, which sets the default to the current\n",
      "        image.\n",
      "    \n",
      "        Note that one can create a `.ScalarMappable` \"on-the-fly\" to generate\n",
      "        colorbars not attached to a previously drawn artist, e.g. ::\n",
      "    \n",
      "            fig.colorbar(cm.ScalarMappable(norm=norm, cmap=cmap), ax=ax)\n",
      "    \n",
      "    cax : `~matplotlib.axes.Axes`, optional\n",
      "        Axes into which the colorbar will be drawn.\n",
      "    \n",
      "    ax : `~matplotlib.axes.Axes`, list of Axes, optional\n",
      "        One or more parent axes from which space for a new colorbar axes will be\n",
      "        stolen, if *cax* is None.  This has no effect if *cax* is set.\n",
      "    \n",
      "    use_gridspec : bool, optional\n",
      "        If *cax* is ``None``, a new *cax* is created as an instance of Axes.  If\n",
      "        *ax* is an instance of Subplot and *use_gridspec* is ``True``, *cax* is\n",
      "        created as an instance of Subplot using the :mod:`~.gridspec` module.\n",
      "    \n",
      "    Returns\n",
      "    -------\n",
      "    colorbar : `~matplotlib.colorbar.Colorbar`\n",
      "        See also its base class, `~matplotlib.colorbar.ColorbarBase`.\n",
      "    \n",
      "    Notes\n",
      "    -----\n",
      "    Additional keyword arguments are of two kinds:\n",
      "    \n",
      "      axes properties:\n",
      "    \n",
      "        location : None or {'left', 'right', 'top', 'bottom'}\n",
      "            The location, relative to the parent axes, where the colorbar axes\n",
      "            is created.  It also determines the *orientation* of the colorbar\n",
      "            (colorbars on the left and right are vertical, colorbars at the top\n",
      "            and bottom are horizontal).  If None, the location will come from the\n",
      "            *orientation* if it is set (vertical colorbars on the right, horizontal\n",
      "            ones at the bottom), or default to 'right' if *orientation* is unset.\n",
      "        orientation : None or {'vertical', 'horizontal'}\n",
      "            The orientation of the colorbar.  It is preferable to set the *location*\n",
      "            of the colorbar, as that also determines the *orientation*; passing\n",
      "            incompatible values for *location* and *orientation* raises an exception.\n",
      "        fraction : float, default: 0.15\n",
      "            Fraction of original axes to use for colorbar.\n",
      "        shrink : float, default: 1.0\n",
      "            Fraction by which to multiply the size of the colorbar.\n",
      "        aspect : float, default: 20\n",
      "            Ratio of long to short dimensions.\n",
      "    \n",
      "    \n",
      "        pad : float, default: 0.05 if vertical, 0.15 if horizontal\n",
      "            Fraction of original axes between colorbar and new image axes.\n",
      "        anchor : (float, float), optional\n",
      "            The anchor point of the colorbar axes.\n",
      "            Defaults to (0.0, 0.5) if vertical; (0.5, 1.0) if horizontal.\n",
      "        panchor : (float, float), or *False*, optional\n",
      "            The anchor point of the colorbar parent axes. If *False*, the parent\n",
      "            axes' anchor will be unchanged.\n",
      "            Defaults to (1.0, 0.5) if vertical; (0.5, 0.0) if horizontal.\n",
      "    \n",
      "      colorbar properties:\n",
      "    \n",
      "    \n",
      "        ============  ====================================================\n",
      "        Property      Description\n",
      "        ============  ====================================================\n",
      "        *extend*      {'neither', 'both', 'min', 'max'}\n",
      "                      If not 'neither', make pointed end(s) for out-of-\n",
      "                      range values.  These are set for a given colormap\n",
      "                      using the colormap set_under and set_over methods.\n",
      "        *extendfrac*  {*None*, 'auto', length, lengths}\n",
      "                      If set to *None*, both the minimum and maximum\n",
      "                      triangular colorbar extensions with have a length of\n",
      "                      5% of the interior colorbar length (this is the\n",
      "                      default setting). If set to 'auto', makes the\n",
      "                      triangular colorbar extensions the same lengths as\n",
      "                      the interior boxes (when *spacing* is set to\n",
      "                      'uniform') or the same lengths as the respective\n",
      "                      adjacent interior boxes (when *spacing* is set to\n",
      "                      'proportional'). If a scalar, indicates the length\n",
      "                      of both the minimum and maximum triangular colorbar\n",
      "                      extensions as a fraction of the interior colorbar\n",
      "                      length. A two-element sequence of fractions may also\n",
      "                      be given, indicating the lengths of the minimum and\n",
      "                      maximum colorbar extensions respectively as a\n",
      "                      fraction of the interior colorbar length.\n",
      "        *extendrect*  bool\n",
      "                      If *False* the minimum and maximum colorbar extensions\n",
      "                      will be triangular (the default). If *True* the\n",
      "                      extensions will be rectangular.\n",
      "        *spacing*     {'uniform', 'proportional'}\n",
      "                      Uniform spacing gives each discrete color the same\n",
      "                      space; proportional makes the space proportional to\n",
      "                      the data interval.\n",
      "        *ticks*       *None* or list of ticks or Locator\n",
      "                      If None, ticks are determined automatically from the\n",
      "                      input.\n",
      "        *format*      None or str or Formatter\n",
      "                      If None, `~.ticker.ScalarFormatter` is used.\n",
      "                      If a format string is given, e.g., '%.3f', that is used.\n",
      "                      An alternative `~.ticker.Formatter` may be given instead.\n",
      "        *drawedges*   bool\n",
      "                      Whether to draw lines at color boundaries.\n",
      "        *label*       str\n",
      "                      The label on the colorbar's long axis.\n",
      "        ============  ====================================================\n",
      "    \n",
      "        The following will probably be useful only in the context of\n",
      "        indexed colors (that is, when the mappable has norm=NoNorm()),\n",
      "        or other unusual circumstances.\n",
      "    \n",
      "        ============   ===================================================\n",
      "        Property       Description\n",
      "        ============   ===================================================\n",
      "        *boundaries*   None or a sequence\n",
      "        *values*       None or a sequence which must be of length 1 less\n",
      "                       than the sequence of *boundaries*. For each region\n",
      "                       delimited by adjacent entries in *boundaries*, the\n",
      "                       colormapped to the corresponding value in values\n",
      "                       will be used.\n",
      "        ============   ===================================================\n",
      "    \n",
      "    \n",
      "    \n",
      "    If *mappable* is a `~.contour.ContourSet`, its *extend* kwarg is included\n",
      "    automatically.\n",
      "    \n",
      "    The *shrink* kwarg provides a simple way to scale the colorbar with respect\n",
      "    to the axes. Note that if *cax* is specified, it determines the size of the\n",
      "    colorbar and *shrink* and *aspect* kwargs are ignored.\n",
      "    \n",
      "    For more precise control, you can manually specify the positions of\n",
      "    the axes objects in which the mappable and the colorbar are drawn.  In\n",
      "    this case, do not use any of the axes properties kwargs.\n",
      "    \n",
      "    It is known that some vector graphics viewers (svg and pdf) renders white gaps\n",
      "    between segments of the colorbar.  This is due to bugs in the viewers, not\n",
      "    Matplotlib.  As a workaround, the colorbar can be rendered with overlapping\n",
      "    segments::\n",
      "    \n",
      "        cbar = colorbar()\n",
      "        cbar.solids.set_edgecolor(\"face\")\n",
      "        draw()\n",
      "    \n",
      "    However this has negative consequences in other circumstances, e.g. with\n",
      "    semi-transparent images (alpha < 1) and colorbar extensions; therefore, this\n",
      "    workaround is not used by default (see issue #1188).\n",
      "\n"
     ]
    }
   ],
   "source": [
    "help(fig.colorbar)"
   ]
  },
  {
   "cell_type": "code",
   "execution_count": null,
   "id": "6a89decb",
   "metadata": {},
   "outputs": [],
   "source": []
  },
  {
   "cell_type": "markdown",
   "id": "21035a7e",
   "metadata": {},
   "source": [
    "# General parameters for Figures"
   ]
  },
  {
   "cell_type": "code",
   "execution_count": 544,
   "id": "8568d525",
   "metadata": {},
   "outputs": [],
   "source": [
    "# Image - observation\n",
    "pixel_scale=0.01225 # pixel scale in arcsec/px \n",
    "platescale = pixel_scale*1e3\n",
    "scalebar_pix, scalebar_leg = 1000, '1\"'\n",
    "nx = 624 # number of pixels of your image in X\n",
    "ny = 624 # number of pixels of your image in Y\n",
    "\n",
    "# Save file .fits\n",
    "writeto = False # save .fits file\n",
    "\n",
    "# Figure\n",
    "add_colorbar=1\n",
    "figsize_rectange, figsize_square  = (4,3), (3,3)\n",
    "figsize = np.where(add_colorbar, figsize_rectange, figsize_square)\n",
    "left, right = 0.01, float(np.where(add_colorbar, 0.78, 0.99))\n",
    "top, bottom = float(np.where(add_colorbar, 0.95, 0.99)), float(np.where(add_colorbar, 0.05, 0.01))\n",
    "im_crop = 250\n",
    "save_png = 1    # save .png file\n",
    "cbar_xdeb = 0.83\n",
    "scalebar_pix, scalebar_leg = 100, '0.1\"'\n",
    "\n",
    "text_xfrac, text_yfrac = 0.03, 0.84\n",
    "filt='H'"
   ]
  },
  {
   "cell_type": "markdown",
   "id": "f3189b9d",
   "metadata": {},
   "source": [
    "# I. Load an observation"
   ]
  },
  {
   "cell_type": "code",
   "execution_count": 14,
   "id": "191b9eb9",
   "metadata": {},
   "outputs": [
    {
     "data": {
      "text/html": [
       "<div>\n",
       "<style scoped>\n",
       "    .dataframe tbody tr th:only-of-type {\n",
       "        vertical-align: middle;\n",
       "    }\n",
       "\n",
       "    .dataframe tbody tr th {\n",
       "        vertical-align: top;\n",
       "    }\n",
       "\n",
       "    .dataframe thead th {\n",
       "        text-align: right;\n",
       "    }\n",
       "</style>\n",
       "<table border=\"1\" class=\"dataframe\">\n",
       "  <thead>\n",
       "    <tr style=\"text-align: right;\">\n",
       "      <th></th>\n",
       "      <th>target</th>\n",
       "      <th>epoch</th>\n",
       "      <th>instrument</th>\n",
       "      <th>polar</th>\n",
       "      <th>filter</th>\n",
       "      <th>quality</th>\n",
       "      <th>seeing (\")</th>\n",
       "      <th>tau0 (ms)</th>\n",
       "      <th>delta pa (deg)</th>\n",
       "      <th>PI</th>\n",
       "      <th>DIT (s)</th>\n",
       "      <th>Nb frames</th>\n",
       "      <th>Total exposure (min)</th>\n",
       "    </tr>\n",
       "  </thead>\n",
       "  <tbody>\n",
       "    <tr>\n",
       "      <th>0</th>\n",
       "      <td>HD_120326</td>\n",
       "      <td>2016-04-05</td>\n",
       "      <td>IRDIS</td>\n",
       "      <td>no</td>\n",
       "      <td>H23</td>\n",
       "      <td>good</td>\n",
       "      <td>1.1</td>\n",
       "      <td>3.5</td>\n",
       "      <td>37</td>\n",
       "      <td>Bonnefoy &amp; Ménard</td>\n",
       "      <td>32.0</td>\n",
       "      <td>128.0</td>\n",
       "      <td>68.0</td>\n",
       "    </tr>\n",
       "    <tr>\n",
       "      <th>1</th>\n",
       "      <td>HD_120326</td>\n",
       "      <td>2016-06-03</td>\n",
       "      <td>IRDIS</td>\n",
       "      <td>no</td>\n",
       "      <td>H23</td>\n",
       "      <td>good</td>\n",
       "      <td>0.71</td>\n",
       "      <td>3.1</td>\n",
       "      <td>22</td>\n",
       "      <td>Hinkley &amp; Matthews</td>\n",
       "      <td>32.0</td>\n",
       "      <td>80.0</td>\n",
       "      <td>43.0</td>\n",
       "    </tr>\n",
       "    <tr>\n",
       "      <th>2</th>\n",
       "      <td>HD_120326</td>\n",
       "      <td>2016-06-13</td>\n",
       "      <td>IRDIS</td>\n",
       "      <td>no</td>\n",
       "      <td>J23</td>\n",
       "      <td>to check</td>\n",
       "      <td>to check</td>\n",
       "      <td>to check</td>\n",
       "      <td>NaN</td>\n",
       "      <td>GTO</td>\n",
       "      <td>NaN</td>\n",
       "      <td>NaN</td>\n",
       "      <td>NaN</td>\n",
       "    </tr>\n",
       "    <tr>\n",
       "      <th>3</th>\n",
       "      <td>HD_120326</td>\n",
       "      <td>2018-06-01</td>\n",
       "      <td>IRDIS</td>\n",
       "      <td>yes</td>\n",
       "      <td>BB_H</td>\n",
       "      <td>very good</td>\n",
       "      <td>0.45</td>\n",
       "      <td>4.2</td>\n",
       "      <td>Boccaletti</td>\n",
       "      <td>NaN</td>\n",
       "      <td>NaN</td>\n",
       "      <td>NaN</td>\n",
       "      <td>NaN</td>\n",
       "    </tr>\n",
       "    <tr>\n",
       "      <th>4</th>\n",
       "      <td>HD_120326</td>\n",
       "      <td>2019-06-26</td>\n",
       "      <td>IRDIS</td>\n",
       "      <td>no</td>\n",
       "      <td>BB_H</td>\n",
       "      <td>very bad</td>\n",
       "      <td>1.84</td>\n",
       "      <td>2.4</td>\n",
       "      <td>36</td>\n",
       "      <td>Bonnefoy &amp; Ménard</td>\n",
       "      <td>NaN</td>\n",
       "      <td>NaN</td>\n",
       "      <td>NaN</td>\n",
       "    </tr>\n",
       "    <tr>\n",
       "      <th>5</th>\n",
       "      <td>HD_120326</td>\n",
       "      <td>2019-07-09</td>\n",
       "      <td>IRDIS</td>\n",
       "      <td>no</td>\n",
       "      <td>BB_H</td>\n",
       "      <td>very good</td>\n",
       "      <td>0.54</td>\n",
       "      <td>3.1</td>\n",
       "      <td>58</td>\n",
       "      <td>Bonnefoy &amp; Ménard</td>\n",
       "      <td>32.0</td>\n",
       "      <td>224.0</td>\n",
       "      <td>119.0</td>\n",
       "    </tr>\n",
       "    <tr>\n",
       "      <th>6</th>\n",
       "      <td>HD_120326</td>\n",
       "      <td>2016-04-05</td>\n",
       "      <td>IFS</td>\n",
       "      <td>no</td>\n",
       "      <td>YJ</td>\n",
       "      <td>good</td>\n",
       "      <td>1.1</td>\n",
       "      <td>3.5</td>\n",
       "      <td>37</td>\n",
       "      <td>Bonnefoy &amp; Ménard</td>\n",
       "      <td>64.0</td>\n",
       "      <td>64.0</td>\n",
       "      <td>68.0</td>\n",
       "    </tr>\n",
       "    <tr>\n",
       "      <th>7</th>\n",
       "      <td>HD_120326</td>\n",
       "      <td>2016-06-03</td>\n",
       "      <td>IFS</td>\n",
       "      <td>no</td>\n",
       "      <td>YJ</td>\n",
       "      <td>good</td>\n",
       "      <td>0.71</td>\n",
       "      <td>3.1</td>\n",
       "      <td>22</td>\n",
       "      <td>Hinkley &amp; Matthews</td>\n",
       "      <td>64.0</td>\n",
       "      <td>40.0</td>\n",
       "      <td>43.0</td>\n",
       "    </tr>\n",
       "    <tr>\n",
       "      <th>8</th>\n",
       "      <td>HD_120326</td>\n",
       "      <td>2019-06-26</td>\n",
       "      <td>IFS</td>\n",
       "      <td>no</td>\n",
       "      <td>YJ</td>\n",
       "      <td>very bad</td>\n",
       "      <td>1.84</td>\n",
       "      <td>2.4</td>\n",
       "      <td>36</td>\n",
       "      <td>Bonnefoy &amp; Ménard</td>\n",
       "      <td>NaN</td>\n",
       "      <td>NaN</td>\n",
       "      <td>NaN</td>\n",
       "    </tr>\n",
       "    <tr>\n",
       "      <th>9</th>\n",
       "      <td>HD_120326</td>\n",
       "      <td>2019-07-09</td>\n",
       "      <td>IFS</td>\n",
       "      <td>no</td>\n",
       "      <td>YJ</td>\n",
       "      <td>very good</td>\n",
       "      <td>0.54</td>\n",
       "      <td>3.1</td>\n",
       "      <td>58</td>\n",
       "      <td>Bonnefoy &amp; Ménard</td>\n",
       "      <td>64.0</td>\n",
       "      <td>112.0</td>\n",
       "      <td>119.0</td>\n",
       "    </tr>\n",
       "  </tbody>\n",
       "</table>\n",
       "</div>"
      ],
      "text/plain": [
       "      target       epoch instrument polar filter    quality seeing (\")  \\\n",
       "0  HD_120326  2016-04-05      IRDIS    no    H23       good        1.1   \n",
       "1  HD_120326  2016-06-03      IRDIS    no    H23       good       0.71   \n",
       "2  HD_120326  2016-06-13      IRDIS    no    J23   to check   to check   \n",
       "3  HD_120326  2018-06-01      IRDIS   yes   BB_H  very good       0.45   \n",
       "4  HD_120326  2019-06-26      IRDIS    no   BB_H   very bad       1.84   \n",
       "5  HD_120326  2019-07-09      IRDIS    no   BB_H  very good       0.54   \n",
       "6  HD_120326  2016-04-05        IFS    no     YJ       good        1.1   \n",
       "7  HD_120326  2016-06-03        IFS    no     YJ       good       0.71   \n",
       "8  HD_120326  2019-06-26        IFS    no     YJ   very bad       1.84   \n",
       "9  HD_120326  2019-07-09        IFS    no     YJ  very good       0.54   \n",
       "\n",
       "  tau0 (ms) delta pa (deg)                  PI  DIT (s)  Nb frames  \\\n",
       "0       3.5             37   Bonnefoy & Ménard     32.0      128.0   \n",
       "1       3.1             22  Hinkley & Matthews     32.0       80.0   \n",
       "2  to check            NaN                 GTO      NaN        NaN   \n",
       "3       4.2     Boccaletti                 NaN      NaN        NaN   \n",
       "4       2.4             36   Bonnefoy & Ménard      NaN        NaN   \n",
       "5       3.1             58   Bonnefoy & Ménard     32.0      224.0   \n",
       "6       3.5             37   Bonnefoy & Ménard     64.0       64.0   \n",
       "7       3.1             22  Hinkley & Matthews     64.0       40.0   \n",
       "8       2.4             36   Bonnefoy & Ménard      NaN        NaN   \n",
       "9       3.1             58   Bonnefoy & Ménard     64.0      112.0   \n",
       "\n",
       "   Total exposure (min)  \n",
       "0                  68.0  \n",
       "1                  43.0  \n",
       "2                   NaN  \n",
       "3                   NaN  \n",
       "4                   NaN  \n",
       "5                 119.0  \n",
       "6                  68.0  \n",
       "7                  43.0  \n",
       "8                   NaN  \n",
       "9                 119.0  "
      ]
     },
     "execution_count": 14,
     "metadata": {},
     "output_type": "execute_result"
    }
   ],
   "source": [
    "# Initialize the path to the wished data \n",
    "# -> supposed to be changed accordingly to the data/computer used\n",
    "infolder = '/Users/desgranc/Documents/work/projects/HD120326/data/'\n",
    "folder_prereduced = 'prereduced/convert/'\n",
    "folder_reduced = 'reduced/'\n",
    "dF       = pd.read_csv(infolder + 'list_obs.txt',sep='\\t')\n",
    "dF"
   ]
  },
  {
   "cell_type": "code",
   "execution_count": 17,
   "id": "20e59b7d",
   "metadata": {},
   "outputs": [
    {
     "name": "stdout",
     "output_type": "stream",
     "text": [
      "Load the epoch: 2019-07-09\n",
      "It corresponds do the path:\n",
      "/Users/desgranc/Documents/work/projects/HD120326/data/prereduced/convert/IRDIS/*2019-07-09*/*median_unsat.fits\n",
      "\n",
      "Files found:\n",
      "- /Users/desgranc/Documents/work/projects/HD120326/data/prereduced/convert/IRDIS/HIP 67497_BB_H_2019-07-09_ird_convert_recenter_dc2021_BEAST_307407/ird_convert_recenter_dc2021-IRD_SCIENCE_PSF_MASTER_CUBE-median_unsat.fits\n"
     ]
    }
   ],
   "source": [
    "idx = 5\n",
    "epoch = str(dF['epoch'].iloc[idx])\n",
    "instru = str(dF['instrument'].iloc[idx])\n",
    "filt =  str(dF['filter'].iloc[idx]).replace('_','')\n",
    "print('Load the epoch: {}'.format(epoch))\n",
    "\n",
    "path_im_prereduced = infolder + folder_prereduced + instru + '/*{}*/'.format(epoch) + '*median_unsat.fits'\n",
    "        \n",
    "print('It corresponds do the path:\\n{}'.format(path_im_prereduced))\n",
    "print('\\nFiles found:')\n",
    "flist = glob(path_im_prereduced)\n",
    "for f in flist: print('-',f)\n",
    "im_prereduced = fits.getdata(flist[0])"
   ]
  },
  {
   "cell_type": "code",
   "execution_count": 545,
   "id": "0a9454a6",
   "metadata": {
    "scrolled": false
   },
   "outputs": [
    {
     "name": "stdout",
     "output_type": "stream",
     "text": [
      "Size of the image = 62 and crop PCA = 0 i.e. size of the image shown = 62\n",
      "Sum of the pixels in the image = 5259270.0\n",
      "The file is saved here:\n",
      " figs/fig_v2023-5-2/im_psf_2019-07-09_IRDIS\n"
     ]
    },
    {
     "data": {
      "image/png": "[encoded data removed]",
      "text/plain": [
       "<Figure size 320x240 with 2 Axes>"
      ]
     },
     "metadata": {},
     "output_type": "display_data"
    }
   ],
   "source": [
    "namesave = 'im_psf_{}_{}'.format(epoch, instru)\n",
    "im = np.copy(im_prereduced)[1][0]\n",
    "im_crop = 1\n",
    "im = im[im_crop:-im_crop,im_crop:-im_crop,]\n",
    "im_crop = 0\n",
    "\n",
    "print('Size of the image =', len(im), 'and crop PCA =', im_crop, 'i.e. size of the image shown =',  len(im)-2*im_crop)\n",
    "\n",
    "im_sum = np.nansum(im)\n",
    "print('Sum of the pixels in the image =', im_sum)\n",
    "\n",
    "clab = 'contrast'\n",
    "vmin, vmax = None, None\n",
    "text = '{} {}'.format(epoch, filt)\n",
    "#text = '{} {} (total intensity)\\n{}'.format(epoch, filt.replace('BB_',''), algo)\n",
    "\n",
    "\n",
    "plot_fig(im=im, vmin=vmin, vmax=vmax, im_crop=im_crop, figsize=figsize,\n",
    "         scalebar_pix=scalebar_pix, scalebar_leg=scalebar_leg, \n",
    "         add_colorbar=add_colorbar, clab=clab, cbar_xdeb=cbar_xdeb, \n",
    "         right=right, left=left, top=top, bottom=bottom,\n",
    "         text=text, #text_xfrac=text_xfrac, text_yfrac=text_yfrac,\n",
    "         saving_dir=saving_dir, save_png=save_png, namesave=namesave)"
   ]
  },
  {
   "cell_type": "markdown",
   "id": "ad3c599a",
   "metadata": {},
   "source": [
    "# II. Select the center of the image"
   ]
  },
  {
   "cell_type": "code",
   "execution_count": 32,
   "id": "3286ba91",
   "metadata": {
    "scrolled": false
   },
   "outputs": [
    {
     "name": "stdout",
     "output_type": "stream",
     "text": [
      "(62, 62)\n"
     ]
    },
    {
     "data": {
      "text/plain": [
       "<matplotlib.image.AxesImage at 0x7f9228ae43d0>"
      ]
     },
     "execution_count": 32,
     "metadata": {},
     "output_type": "execute_result"
    },
    {
     "data": {
      "image/png": "[encoded data removed]",
      "text/plain": [
       "<Figure size 640x480 with 1 Axes>"
      ]
     },
     "metadata": {},
     "output_type": "display_data"
    }
   ],
   "source": [
    "im = np.copy(im_prereduced[0,0])\n",
    "im_crop=1\n",
    "im_c = im[im_crop:-im_crop,im_crop:-im_crop]\n",
    "im_mask = im_masked_center(im_c, r=30)\n",
    "print(np.shape(im_mask))\n",
    "plt.imshow(im_mask ,interpolation='nearest', origin='lower')"
   ]
  },
  {
   "cell_type": "code",
   "execution_count": null,
   "id": "780cd3ff",
   "metadata": {},
   "outputs": [],
   "source": []
  },
  {
   "cell_type": "markdown",
   "id": "a1adb2d1",
   "metadata": {},
   "source": [
    "#### Test"
   ]
  },
  {
   "cell_type": "code",
   "execution_count": 33,
   "id": "04537037",
   "metadata": {},
   "outputs": [
    {
     "data": {
      "image/png": "[encoded data removed]",
      "text/plain": [
       "<Figure size 400x320 with 1 Axes>"
      ]
     },
     "metadata": {},
     "output_type": "display_data"
    }
   ],
   "source": [
    "n = np.shape(im)[0]//2\n",
    "fig, ax = plt.subplots(1,1,figsize=(5,4))\n",
    "for X in range(n): \n",
    "    Y = flux_center_circle(im, X)\n",
    "    ax.plot([X],[Y], marker='o')\n",
    "ax.set_xlabel('Radius (pixel)')\n",
    "ax.set_ylabel('Flux (ADU)')\n",
    "mise_en_page(ax)\n",
    "plt.savefig(saving_dir+'test_derive_flux_center_image.pdf')\n",
    "plt.show()"
   ]
  },
  {
   "cell_type": "code",
   "execution_count": null,
   "id": "a4043f23",
   "metadata": {},
   "outputs": [],
   "source": []
  },
  {
   "cell_type": "markdown",
   "id": "0c57962d",
   "metadata": {},
   "source": [
    "# III. Select a annulus"
   ]
  },
  {
   "cell_type": "markdown",
   "id": "fb2e5864",
   "metadata": {},
   "source": [
    "#### Test"
   ]
  },
  {
   "cell_type": "code",
   "execution_count": 36,
   "id": "cb70da3f",
   "metadata": {},
   "outputs": [
    {
     "data": {
      "image/png": "[encoded data removed]",
      "text/plain": [
       "<Figure size 400x320 with 1 Axes>"
      ]
     },
     "metadata": {},
     "output_type": "display_data"
    }
   ],
   "source": [
    "n = np.shape(im)[0]//2; dr =3\n",
    "fig, ax = plt.subplots(1,1,figsize=(5,4))\n",
    "for X in range(n-dr): \n",
    "    Y = flux_in_annulus(im, X, X+dr)\n",
    "    ax.plot([X],[Y], marker='o')\n",
    "ax.set_xlabel('Radius (pixel)')\n",
    "ax.set_ylabel('Flux (ADU)')\n",
    "#ax.set_yscale('log')\n",
    "mise_en_page(ax)\n",
    "plt.savefig(saving_dir+'test_derive_flux_ring_image.pdf')\n",
    "plt.show()"
   ]
  },
  {
   "cell_type": "code",
   "execution_count": 37,
   "id": "653ddcda",
   "metadata": {
    "scrolled": false
   },
   "outputs": [
    {
     "data": {
      "image/png": "[encoded data removed]",
      "text/plain": [
       "<Figure size 400x320 with 1 Axes>"
      ]
     },
     "metadata": {},
     "output_type": "display_data"
    }
   ],
   "source": [
    "im = np.copy(im_prereduced[0,0])\n",
    "im_crop=1\n",
    "im_c = im[im_crop:-im_crop,im_crop:-im_crop]\n",
    "im_mask = im_masked_annulus(im_c, 25, 30)\n",
    "fig, ax = plt.subplots(1,1,figsize=(5,4))\n",
    "ax.imshow(im_mask ,interpolation='nearest', origin='lower', vmin=0, vmax=np.nanmax(im_c))\n",
    "plt.show()"
   ]
  },
  {
   "cell_type": "code",
   "execution_count": 38,
   "id": "d93a75af",
   "metadata": {},
   "outputs": [
    {
     "name": "stdout",
     "output_type": "stream",
     "text": [
      "Sum of flux values 1.1e+05\n"
     ]
    },
    {
     "data": {
      "image/png": "[encoded data removed]",
      "text/plain": [
       "<Figure size 400x320 with 1 Axes>"
      ]
     },
     "metadata": {},
     "output_type": "display_data"
    }
   ],
   "source": [
    "fig, ax = plt.subplots(1,1,figsize=(5,4))\n",
    "ax.hist(im_mask.flatten(), color='dodgerblue')\n",
    "print('Sum of flux values','%.1e' % np.nansum(im_mask))\n",
    "ax.set_xlabel('Flux (ADU)')\n",
    "ax.set_ylabel('Occurence')\n",
    "mise_en_page(ax)\n",
    "plt.show()"
   ]
  },
  {
   "cell_type": "markdown",
   "id": "f4754cb1",
   "metadata": {},
   "source": [
    "# IRDIS"
   ]
  },
  {
   "cell_type": "code",
   "execution_count": 452,
   "id": "a3100f52",
   "metadata": {},
   "outputs": [
    {
     "data": {
      "text/html": [
       "<div>\n",
       "<style scoped>\n",
       "    .dataframe tbody tr th:only-of-type {\n",
       "        vertical-align: middle;\n",
       "    }\n",
       "\n",
       "    .dataframe tbody tr th {\n",
       "        vertical-align: top;\n",
       "    }\n",
       "\n",
       "    .dataframe thead th {\n",
       "        text-align: right;\n",
       "    }\n",
       "</style>\n",
       "<table border=\"1\" class=\"dataframe\">\n",
       "  <thead>\n",
       "    <tr style=\"text-align: right;\">\n",
       "      <th></th>\n",
       "      <th>target</th>\n",
       "      <th>epoch</th>\n",
       "      <th>instrument</th>\n",
       "      <th>polar</th>\n",
       "      <th>filter</th>\n",
       "      <th>quality</th>\n",
       "      <th>seeing (\")</th>\n",
       "      <th>tau0 (ms)</th>\n",
       "      <th>delta pa (deg)</th>\n",
       "      <th>PI</th>\n",
       "      <th>DIT (s)</th>\n",
       "      <th>Nb frames</th>\n",
       "      <th>Total exposure (min)</th>\n",
       "    </tr>\n",
       "  </thead>\n",
       "  <tbody>\n",
       "    <tr>\n",
       "      <th>0</th>\n",
       "      <td>HD_120326</td>\n",
       "      <td>2016-04-05</td>\n",
       "      <td>IRDIS</td>\n",
       "      <td>no</td>\n",
       "      <td>H23</td>\n",
       "      <td>good</td>\n",
       "      <td>1.1</td>\n",
       "      <td>3.5</td>\n",
       "      <td>37</td>\n",
       "      <td>Bonnefoy &amp; Ménard</td>\n",
       "      <td>32.0</td>\n",
       "      <td>128.0</td>\n",
       "      <td>68.0</td>\n",
       "    </tr>\n",
       "    <tr>\n",
       "      <th>1</th>\n",
       "      <td>HD_120326</td>\n",
       "      <td>2016-06-03</td>\n",
       "      <td>IRDIS</td>\n",
       "      <td>no</td>\n",
       "      <td>H23</td>\n",
       "      <td>good</td>\n",
       "      <td>0.71</td>\n",
       "      <td>3.1</td>\n",
       "      <td>22</td>\n",
       "      <td>Hinkley &amp; Matthews</td>\n",
       "      <td>32.0</td>\n",
       "      <td>80.0</td>\n",
       "      <td>43.0</td>\n",
       "    </tr>\n",
       "    <tr>\n",
       "      <th>2</th>\n",
       "      <td>HD_120326</td>\n",
       "      <td>2016-06-13</td>\n",
       "      <td>IRDIS</td>\n",
       "      <td>no</td>\n",
       "      <td>J23</td>\n",
       "      <td>to check</td>\n",
       "      <td>to check</td>\n",
       "      <td>to check</td>\n",
       "      <td>NaN</td>\n",
       "      <td>GTO</td>\n",
       "      <td>NaN</td>\n",
       "      <td>NaN</td>\n",
       "      <td>NaN</td>\n",
       "    </tr>\n",
       "    <tr>\n",
       "      <th>3</th>\n",
       "      <td>HD_120326</td>\n",
       "      <td>2018-06-01</td>\n",
       "      <td>IRDIS</td>\n",
       "      <td>yes</td>\n",
       "      <td>BB_H</td>\n",
       "      <td>very good</td>\n",
       "      <td>0.45</td>\n",
       "      <td>4.2</td>\n",
       "      <td>Boccaletti</td>\n",
       "      <td>NaN</td>\n",
       "      <td>NaN</td>\n",
       "      <td>NaN</td>\n",
       "      <td>NaN</td>\n",
       "    </tr>\n",
       "    <tr>\n",
       "      <th>4</th>\n",
       "      <td>HD_120326</td>\n",
       "      <td>2019-06-26</td>\n",
       "      <td>IRDIS</td>\n",
       "      <td>no</td>\n",
       "      <td>BB_H</td>\n",
       "      <td>very bad</td>\n",
       "      <td>1.84</td>\n",
       "      <td>2.4</td>\n",
       "      <td>36</td>\n",
       "      <td>Bonnefoy &amp; Ménard</td>\n",
       "      <td>NaN</td>\n",
       "      <td>NaN</td>\n",
       "      <td>NaN</td>\n",
       "    </tr>\n",
       "  </tbody>\n",
       "</table>\n",
       "</div>"
      ],
      "text/plain": [
       "      target       epoch instrument polar filter    quality seeing (\")  \\\n",
       "0  HD_120326  2016-04-05      IRDIS    no    H23       good        1.1   \n",
       "1  HD_120326  2016-06-03      IRDIS    no    H23       good       0.71   \n",
       "2  HD_120326  2016-06-13      IRDIS    no    J23   to check   to check   \n",
       "3  HD_120326  2018-06-01      IRDIS   yes   BB_H  very good       0.45   \n",
       "4  HD_120326  2019-06-26      IRDIS    no   BB_H   very bad       1.84   \n",
       "\n",
       "  tau0 (ms) delta pa (deg)                  PI  DIT (s)  Nb frames  \\\n",
       "0       3.5             37   Bonnefoy & Ménard     32.0      128.0   \n",
       "1       3.1             22  Hinkley & Matthews     32.0       80.0   \n",
       "2  to check            NaN                 GTO      NaN        NaN   \n",
       "3       4.2     Boccaletti                 NaN      NaN        NaN   \n",
       "4       2.4             36   Bonnefoy & Ménard      NaN        NaN   \n",
       "\n",
       "   Total exposure (min)  \n",
       "0                  68.0  \n",
       "1                  43.0  \n",
       "2                   NaN  \n",
       "3                   NaN  \n",
       "4                   NaN  "
      ]
     },
     "execution_count": 452,
     "metadata": {},
     "output_type": "execute_result"
    }
   ],
   "source": [
    "dF.head()"
   ]
  },
  {
   "cell_type": "code",
   "execution_count": 619,
   "id": "be897da0",
   "metadata": {},
   "outputs": [
    {
     "name": "stdout",
     "output_type": "stream",
     "text": [
      "Load the epoch: 2016-04-05\n",
      "It corresponds do the path:\n",
      "/Users/desgranc/Documents/work/projects/HD120326/data/prereduced/convert/IRDIS/*2016-04-05*/*median_unsat.fits\n",
      "\n",
      "Files found:\n",
      "- /Users/desgranc/Documents/work/projects/HD120326/data/prereduced/convert/IRDIS/HIP 67497_DB_H23_2016-04-05_ird_convert_recenter_dc5_PUBLIC_204546/ird_convert_recenter_dc5-IRD_SCIENCE_PSF_MASTER_CUBE-median_unsat.fits\n",
      "Shape file: (2, 2, 64, 64)\n"
     ]
    }
   ],
   "source": [
    "idx = 0\n",
    "epoch = str(dF['epoch'].iloc[idx])\n",
    "instru = str(dF['instrument'].iloc[idx])\n",
    "filt =  str(dF['filter'].iloc[idx]).replace('_','')\n",
    "print('Load the epoch: {}'.format(epoch))\n",
    "\n",
    "path_im_prereduced = infolder + folder_prereduced + instru + '/*{}*/'.format(epoch) + '*median_unsat.fits'\n",
    "        \n",
    "print('It corresponds do the path:\\n{}'.format(path_im_prereduced))\n",
    "print('\\nFiles found:')\n",
    "flist = glob(path_im_prereduced)\n",
    "for f in flist: print('-',f)\n",
    "im_prereduced = fits.getdata(flist[0])\n",
    "print('Shape file:', np.shape(im_prereduced))"
   ]
  },
  {
   "cell_type": "code",
   "execution_count": 620,
   "id": "0d4ceef0",
   "metadata": {},
   "outputs": [],
   "source": [
    "# Mask regions\n",
    "r_star = 24\n",
    "r_bkg_in = 25\n",
    "r_bkg_out = 30\n",
    "im_crop = 0\n",
    "\n",
    "# Figure\n",
    "color_star, color_bkg = 'gold', [0,0,0.3]; color_bkg_lighter='royalblue'\n",
    "ms_star, ms_bkg = 7,5\n",
    "\n",
    "color_scalebar='black'\n",
    "color_text='black'\n",
    "platescale=12.25"
   ]
  },
  {
   "cell_type": "code",
   "execution_count": 621,
   "id": "08e4fb22",
   "metadata": {
    "scrolled": false
   },
   "outputs": [
    {
     "name": "stdout",
     "output_type": "stream",
     "text": [
      "Size of the image = 62 and crop PCA = 0 i.e. size of the image shown = 62\n",
      "Sum of the pixels in the image = 1063807.1\n",
      "The file is saved here:\n",
      " figs/fig_v2023-5-2/im_psf_2016-04-05_IRDIS\n"
     ]
    },
    {
     "data": {
      "image/png": "[encoded data removed]",
      "text/plain": [
       "<Figure size 320x240 with 2 Axes>"
      ]
     },
     "metadata": {},
     "output_type": "display_data"
    }
   ],
   "source": [
    "namesave = 'im_psf_{}_{}'.format(epoch, instru)\n",
    "if len(np.shape(im_prereduced)) == 4:\n",
    "    im = np.copy(im_prereduced)[1][0]\n",
    "else : im = np.copy(im_prereduced)[0]\n",
    "im_crop = 1\n",
    "im = im[im_crop:-im_crop,im_crop:-im_crop]\n",
    "im_crop = 0\n",
    "\n",
    "print('Size of the image =', len(im), 'and crop PCA =', im_crop, 'i.e. size of the image shown =',  len(im)-2*im_crop)\n",
    "\n",
    "im_sum = np.nansum(im)\n",
    "print('Sum of the pixels in the image =', im_sum)\n",
    "\n",
    "clab = 'Flux (ADU)'\n",
    "vmin, vmax = None, None\n",
    "text = '{} {}'.format(epoch, filt)\n",
    "#text = '{} {} (total intensity)\\n{}'.format(epoch, filt.replace('BB_',''), algo)\n",
    "\n",
    "fig, ax = plt.subplots(1,1,figsize=figsize)\n",
    "fig.subplots_adjust(left=0.01,right=0.75, top=0.95, bottom=0.05)\n",
    "\n",
    "## Add masks, text\n",
    "# Star (circle)\n",
    "x0, y0 = np.shape(im)[1]//2,  np.shape(im)[1]//2\n",
    "circle = Circle((x0,y0),r_star,ec=color_star,fc='None',ls='-',lw=0.5)\n",
    "ax.add_patch(circle)\n",
    "# Background (annulus)\n",
    "x0, y0 = np.shape(im)[1]//2,  np.shape(im)[1]//2\n",
    "circle = Circle((x0,y0),r_bkg_in,ec=color_bkg_lighter,fc='None',ls='--',lw=0.5)\n",
    "ax.add_patch(circle)\n",
    "circle = Circle((x0,y0),r_bkg_out,ec=color_bkg_lighter,fc='None',ls='--',lw=0.5)\n",
    "ax.add_patch(circle)\n",
    "ax.text(0.6,0.17,'star mask',color=color_star,transform=ax.transAxes,rotation=40,fontsize=12)\n",
    "ax.text(0.65,0.07,'bkg mask',color=color_bkg_lighter,transform=ax.transAxes,rotation=40,fontsize=12)\n",
    "\n",
    "\n",
    "\n",
    "plot_fig(im=im, vmin=vmin, vmax=vmax, im_crop=im_crop, figsize=figsize,\n",
    "         scalebar_pix=scalebar_pix, scalebar_leg=scalebar_leg, platescale=platescale,\n",
    "         add_colorbar=add_colorbar, clab=clab, cbar_xdeb=0.75, \n",
    "         right=right, left=left, top=top, bottom=bottom,\n",
    "         text=text, #text_xfrac=text_xfrac, text_yfrac=text_yfrac,\n",
    "         saving_dir=saving_dir, save_png=save_png, namesave=namesave,\n",
    "         give_fig_ax=1, fig=fig, ax=ax)"
   ]
  },
  {
   "cell_type": "code",
   "execution_count": null,
   "id": "ede5c078",
   "metadata": {},
   "outputs": [],
   "source": []
  },
  {
   "cell_type": "markdown",
   "id": "650045ed",
   "metadata": {},
   "source": [
    "##### Region of the image considered to derive the flux of the star"
   ]
  },
  {
   "cell_type": "code",
   "execution_count": 554,
   "id": "c8005a5b",
   "metadata": {},
   "outputs": [
    {
     "name": "stdout",
     "output_type": "stream",
     "text": [
      "-73.0141 186541.3\n",
      "The file is saved here:\n",
      " figs/fig_v2023-5-2/star_flux_2019-07-09_IRDIS_image_masked\n"
     ]
    },
    {
     "data": {
      "image/png": "[encoded data removed]",
      "text/plain": [
       "<Figure size 320x240 with 2 Axes>"
      ]
     },
     "metadata": {},
     "output_type": "display_data"
    }
   ],
   "source": [
    "# Region of the image considered to derive the flux of the star\n",
    "if len(np.shape(im_prereduced)) == 4:\n",
    "    im = np.copy(im_prereduced[0,0])\n",
    "else : im = np.copy(im_prereduced)[0]\n",
    "\n",
    "if im_crop == 0 : im_c = im\n",
    "else: im_c = im[im_crop:-im_crop,im_crop:-im_crop]\n",
    "\n",
    "im_mask = im_masked_center(im_c, r=r_star)\n",
    "\n",
    "fig, ax = plt.subplots(1,1,figsize=figsize)\n",
    "fig.subplots_adjust(left=0.01,right=0.75, top=0.95, bottom=0.05)\n",
    "#ax.imshow(im_mask ,interpolation='nearest', origin='lower', vmin=np.nanmin(im_c), vmax=np.nanmax(im_c))\n",
    "print(np.nanmin(im_c), np.nanmax(im_c))\n",
    "text = 'star mask'\n",
    "namesave = 'star_flux_'+epoch+'_'+instru.replace(' ','_')+'_image_masked'\n",
    "im_mask[im_mask ==0] = np.nanmax(im_mask)\n",
    "plot_fig(im_mask, color_scalebar=color_scalebar, platescale=platescale, text=text, color_text=color_text,\n",
    "         text_yfrac=0.92, \n",
    "         text_xfrac=0.03, clab='Flux (ADU)', cbar_xdeb=0.75,\n",
    "         give_fig_ax=1, fig=fig, ax=ax, saving_dir=saving_dir, namesave=namesave)\n",
    "#plt.savefig(saving_dir+namesave+'.pdf')\n",
    "plt.show()"
   ]
  },
  {
   "cell_type": "code",
   "execution_count": 513,
   "id": "f288bc4e",
   "metadata": {},
   "outputs": [
    {
     "name": "stdout",
     "output_type": "stream",
     "text": [
      "Sum of flux values 4.4e+08\n"
     ]
    },
    {
     "data": {
      "image/png": "[encoded data removed]",
      "text/plain": [
       "<Figure size 320x240 with 1 Axes>"
      ]
     },
     "metadata": {},
     "output_type": "display_data"
    }
   ],
   "source": [
    "# Distribution flux values\n",
    "fig, ax = plt.subplots(1,1,figsize=figsize)\n",
    "fig.subplots_adjust(left=0.15,bottom=0.17,top=0.95,right=0.95)\n",
    "ax.hist(im_mask.flatten(), 20, color='hotpink')\n",
    "print('Sum of flux values','%.1e' % np.nansum(im_mask))\n",
    "ax.set_xlabel('Flux (ADU)')\n",
    "ax.set_ylabel('Number of pixels')\n",
    "ax.set_yscale('log')\n",
    "# Add text\n",
    "text = '{} {} {} \\n(star mask)'.format(epoch, instru, filt.replace('_',''))\n",
    "ax.text(0.08,0.78,text,transform=ax.transAxes)\n",
    "namesave = 'star_flux_'+epoch+'_'+instru.replace(' ','_')+'_hist'\n",
    "mise_en_page(ax)\n",
    "plt.savefig(saving_dir+namesave+'.pdf')\n",
    "\n",
    "plt.show()"
   ]
  },
  {
   "cell_type": "markdown",
   "id": "8f2af323",
   "metadata": {},
   "source": [
    "##### Region of the image considered to derive the flux of the background"
   ]
  },
  {
   "cell_type": "code",
   "execution_count": 514,
   "id": "bc55f4ad",
   "metadata": {},
   "outputs": [
    {
     "name": "stdout",
     "output_type": "stream",
     "text": [
      "-10.619525 668.05664\n",
      "The file is saved here:\n",
      " figs/fig_v2023-5-2/annulus_bkgd_flux_2019-07-09_IRDIS\n"
     ]
    },
    {
     "data": {
      "image/png": "[encoded data removed]",
      "text/plain": [
       "<Figure size 320x240 with 2 Axes>"
      ]
     },
     "metadata": {},
     "output_type": "display_data"
    }
   ],
   "source": [
    "# Region of the image considered to derive the flux of the background\n",
    "if len(np.shape(im_prereduced)) == 4:\n",
    "    im = np.copy(im_prereduced[0,0])\n",
    "else : im = np.copy(im_prereduced)[0]\n",
    "  \n",
    "\n",
    "if im_crop == 0 : im_c = im\n",
    "else: im_c = im[im_crop:-im_crop,im_crop:-im_crop]\n",
    "im_mask = im_masked_annulus(im_c, r_bkg_in, r_bkg_out)\n",
    "im_mask[im_mask==0] = np.nanmax(im_mask)\n",
    "fig, ax = plt.subplots(1,1,figsize=figsize)\n",
    "fig.subplots_adjust(left=0.01,right=0.8, top=0.99)\n",
    "#ax.imshow(im_mask ,interpolation='nearest', origin='lower', vmin=np.nanmin(im_c), vmax=np.nanmax(im_c))\n",
    "print(np.nanmin(im_c), np.nanmax(im_c))\n",
    "text = 'annulus \\nmask'\n",
    "namesave = 'annulus_bkgd_flux_'+epoch+'_'+instru.replace(' ','_')\n",
    "plot_fig(im_mask, color_scalebar=color_scalebar, platescale=platescale, text=text, color_text=color_text,\n",
    "         text_yfrac=0.85, \n",
    "         text_xfrac=0.02, clab='Flux (ADU)', cbar_xdeb=0.78,\n",
    "         give_fig_ax=1, fig=fig, ax=ax, saving_dir=saving_dir, namesave=namesave)\n",
    "#plt.savefig(saving_dir+namesave+'.pdf')\n",
    "plt.show()"
   ]
  },
  {
   "cell_type": "code",
   "execution_count": 515,
   "id": "c407700e",
   "metadata": {},
   "outputs": [
    {
     "name": "stdout",
     "output_type": "stream",
     "text": [
      "Sum of flux values 2.3e+06\n"
     ]
    },
    {
     "data": {
      "image/png": "[encoded data removed]",
      "text/plain": [
       "<Figure size 320x240 with 1 Axes>"
      ]
     },
     "metadata": {},
     "output_type": "display_data"
    }
   ],
   "source": [
    "# Distribution flux values\n",
    "fig, ax = plt.subplots(1,1,figsize=figsize)\n",
    "fig.subplots_adjust(left=0.15,bottom=0.17,top=0.95,right=0.95)\n",
    "ax.hist(im_mask.flatten(), 20, color='hotpink')\n",
    "print('Sum of flux values','%.1e' % np.nansum(im_mask))\n",
    "ax.set_xlabel('Flux (ADU)')\n",
    "ax.set_ylabel('Number of pixels')\n",
    "ax.set_yscale('log')\n",
    "\n",
    "# Add text\n",
    "text = '{} {} {} \\n(background mask)'.format(epoch, instru, filt.replace('_',''))\n",
    "ax.text(0.08,0.78,text,transform=ax.transAxes)\n",
    "\n",
    "namesave = 'annulus_bkgd_flux_'+epoch+'_'+instru.replace(' ','_')+'_hist'\n",
    "mise_en_page(ax)\n",
    "plt.savefig(saving_dir+namesave+'.pdf')\n",
    "plt.show()"
   ]
  },
  {
   "cell_type": "markdown",
   "id": "ad305969",
   "metadata": {},
   "source": [
    "#### Plot stellar flux _versus_ background flux"
   ]
  },
  {
   "cell_type": "code",
   "execution_count": 516,
   "id": "4079d62b",
   "metadata": {
    "scrolled": false
   },
   "outputs": [],
   "source": [
    "if 0 : \n",
    "    # Figure Flux as the function of the annulus considered for the background estimation\n",
    "    if len(np.shape(im_prereduced)) == 4:\n",
    "        # Several psf\n",
    "        for i in range(np.shape(im_prereduced)[1]):\n",
    "            fig, ax = plt.subplots(1,1,figsize=(5,4))\n",
    "            im_i = np.copy(im_prereduced[i])\n",
    "            # Several channels\n",
    "            for ilbd in range(np.shape(im_i)[0]):\n",
    "                im = np.copy(im_i[ilbd])\n",
    "                print(np.shape(im))\n",
    "                n = np.shape(im)[0]//2; dr=5\n",
    "                for X in range(n-dr): \n",
    "                    Y_bkgd = flux_in_annulus(im, X, X+dr)\n",
    "                    Y_star = flux_center_circle(im,4)\n",
    "                    #print(X,Y)\n",
    "                    ax.plot([X],[Y_bkgd], marker='o')\n",
    "                    ax.plot([X],[Y_star], marker='*')\n",
    "\n",
    "            ax.set_xlabel('Radius (pixel)')\n",
    "            ax.set_ylabel('Flux (ADU)')\n",
    "            #ax.set_yscale('log')\n",
    "            mise_en_page(ax)\n",
    "            #plt.savefig(saving_dir+'test_derive_flux_ring_image.pdf')\n",
    "    plt.show()"
   ]
  },
  {
   "cell_type": "markdown",
   "id": "5e01df6d",
   "metadata": {},
   "source": [
    "#### in terms of spectral channel"
   ]
  },
  {
   "cell_type": "code",
   "execution_count": 525,
   "id": "47bcd68b",
   "metadata": {},
   "outputs": [
    {
     "data": {
      "image/png": "[encoded data removed]",
      "text/plain": [
       "<Figure size 320x240 with 1 Axes>"
      ]
     },
     "metadata": {},
     "output_type": "display_data"
    }
   ],
   "source": [
    "# Figure Flux as the spectral channel\n",
    "figsize = (4,3)\n",
    "nlbd = np.shape(im_prereduced)[0]\n",
    "\n",
    "fig, ax = plt.subplots(1,1,figsize=figsize)\n",
    "fig.subplots_adjust(left=0.2,bottom=0.17, top=0.95, right=0.97)\n",
    "norm = 1e3\n",
    "\n",
    "# Several PSFs\n",
    "if len(np.shape(im_prereduced)) == 4:\n",
    "    for i in range(np.shape(im_prereduced)[1]):\n",
    "        im_i = np.copy(im_prereduced[:,i])#/norm\n",
    "        shortcut_plot_flux_star_and_background(ax, im_i, r_star=r_star, r_bkg_in=r_bkg_in, r_bkg_out=r_bkg_out, \n",
    "                    ms_star=ms_star, ms_bkg=ms_bkg, color_star=color_star, color_bkg=color_bkg, \n",
    "                    do_norm=1, display=0)\n",
    "        \n",
    "# One PSF\n",
    "if len(np.shape(im_prereduced)) == 3:\n",
    "    shortcut_plot_flux_star_and_background(ax, im_prereduced, r_star=r_star, r_bkg_in=r_bkg_in, r_bkg_out=r_bkg_out,\n",
    "            ms_star=ms_star, ms_bkg=ms_bkg, color_star=color_star, color_bkg=color_bkg, do_norm=1, display=0)\n",
    "    \n",
    "# Add labels\n",
    "ax.set_xlabel('Number of the spectral channel')\n",
    "ax.set_ylabel(r'Flux (ADU)')\n",
    "\n",
    "# Change size\n",
    "if epoch == '2019-07-09':\n",
    "    ax.set_xlim([0, nlbd+1])\n",
    "    loc='lower left'\n",
    "    ax.set_ylim([10, 1e4]); y_maj_step=200; y_min_step=50\n",
    "if epoch == '2016-04-05':\n",
    "    ax.set_xlim([0, nlbd+1])\n",
    "    ax.set_ylim([1, 5e3]); y_maj_step=100; y_min_step=20\n",
    "    loc='lower right'\n",
    "if epoch == '2016-06-03':\n",
    "    ax.set_xlim([0, nlbd+1])\n",
    "    ax.set_ylim([1, 5e3]); loc='lower right'; y_maj_step=50; y_min_step=10\n",
    "    \n",
    "ax.set_yscale('log')\n",
    "\n",
    "# Add text\n",
    "text = '{} {} {}'.format(epoch, instru, filt.replace('_',''))\n",
    "ax.text(0.08,0.87,text,transform=ax.transAxes)\n",
    "\n",
    "# Add legend\n",
    "ax.plot([-10],[0], marker='*', ms=7, label= 'star', lw=0, color='gold')\n",
    "ax.plot([-10],[0], marker='o', ms=5, label= 'background', lw=0, color=[0,0,0.4])\n",
    "ax.legend(loc=loc, numpoints=1, frameon=False)\n",
    "# Save\n",
    "if r_star < 6 :\n",
    "    mise_en_page(ax, x_step=1, x_maj_step=5, x_min_step=1, y_step=1, y_maj_step=500, y_min_step=100)\n",
    "mise_en_page(ax, x_step=1, x_maj_step=5, x_min_step=1, y_step=0, y_maj_step=y_maj_step, y_min_step=y_min_step) \n",
    "namesave = 'check_star_and_bkgd_flux_'+text.replace(' ','_')\n",
    "plt.savefig(saving_dir+namesave+'.pdf')\n",
    "plt.show()"
   ]
  },
  {
   "cell_type": "code",
   "execution_count": null,
   "id": "43c4f590",
   "metadata": {},
   "outputs": [],
   "source": []
  },
  {
   "cell_type": "markdown",
   "id": "bf9024b5",
   "metadata": {},
   "source": [
    "## IFS"
   ]
  },
  {
   "cell_type": "code",
   "execution_count": 765,
   "id": "a816e9f9",
   "metadata": {
    "scrolled": true
   },
   "outputs": [
    {
     "name": "stdout",
     "output_type": "stream",
     "text": [
      "Load the epoch: 2019-07-09\n",
      "It corresponds do the path:\n",
      "/Users/desgranc/Documents/work/projects/HD120326/data/prereduced/convert/IFS/*2019-07-09*/*median_unsat.fits\n",
      "\n",
      "Files found:\n",
      "- /Users/desgranc/Documents/work/projects/HD120326/data/prereduced/convert/IFS/HIP 67497_OBS_YJ_2019-07-09_ifs_convert_dc2_PUBLIC_357580/ifs_convert_dc2-IFS_SCIENCE_PSF_MASTER_CUBE-median_unsat.fits\n",
      "Shape file: (39, 2, 64, 64)\n"
     ]
    }
   ],
   "source": [
    "idx = 9\n",
    "epoch = str(dF['epoch'].iloc[idx])\n",
    "instru = str(dF['instrument'].iloc[idx])\n",
    "filt =  str(dF['filter'].iloc[idx])\n",
    "print('Load the epoch: {}'.format(epoch))\n",
    "\n",
    "path_im_prereduced = infolder + folder_prereduced + instru + '/*{}*/'.format(epoch) + '*median_unsat.fits'\n",
    "        \n",
    "print('It corresponds do the path:\\n{}'.format(path_im_prereduced))\n",
    "print('\\nFiles found:')\n",
    "flist = glob(path_im_prereduced)\n",
    "for f in flist: print('-',f)\n",
    "im_prereduced = fits.getdata(flist[0])\n",
    "print('Shape file:', np.shape(im_prereduced))"
   ]
  },
  {
   "cell_type": "code",
   "execution_count": 817,
   "id": "bcb55e55",
   "metadata": {},
   "outputs": [],
   "source": [
    "# Mask regions\n",
    "r_star = 24\n",
    "r_bkg_in = 25\n",
    "r_bkg_out = 30\n",
    "im_crop = 0\n",
    "\n",
    "# Figure\n",
    "color_scalebar='black'\n",
    "color_text='black'\n",
    "platescale=7.46\n",
    "\n",
    "im_before_after = 1"
   ]
  },
  {
   "cell_type": "code",
   "execution_count": 815,
   "id": "18db3747",
   "metadata": {
    "scrolled": true
   },
   "outputs": [
    {
     "name": "stdout",
     "output_type": "stream",
     "text": [
      "Size of the image = 62 and crop PCA = 0 i.e. size of the image shown = 62\n",
      "Sum of the pixels in the image = 95493.06\n",
      "The file is saved here:\n",
      " figs/fig_v2023-5-2/im_psf_2019-07-09_IFS\n"
     ]
    },
    {
     "data": {
      "image/png": "[encoded data removed]",
      "text/plain": [
       "<Figure size 320x240 with 2 Axes>"
      ]
     },
     "metadata": {},
     "output_type": "display_data"
    }
   ],
   "source": [
    "namesave = 'im_psf_{}_{}'.format(epoch, instru)\n",
    "if len(np.shape(im_prereduced)) == 4:\n",
    "    im = np.copy(im_prereduced)[0][im_before_after]\n",
    "else : im = np.copy(im_prereduced)[0]\n",
    "im_crop = 1\n",
    "im = im[im_crop:-im_crop,im_crop:-im_crop]\n",
    "im_crop = 0\n",
    "\n",
    "print('Size of the image =', len(im), 'and crop PCA =', im_crop, 'i.e. size of the image shown =',  len(im)-2*im_crop)\n",
    "\n",
    "im_sum = np.nansum(im)\n",
    "print('Sum of the pixels in the image =', im_sum)\n",
    "\n",
    "clab = 'Flux (ADU)'\n",
    "vmin, vmax = None, None\n",
    "text = '{} {}'.format(epoch, filt)\n",
    "#text = '{} {} (total intensity)\\n{}'.format(epoch, filt.replace('BB_',''), algo)\n",
    "\n",
    "fig, ax = plt.subplots(1,1,figsize=figsize)\n",
    "fig.subplots_adjust(left=0.01,right=0.75, top=0.95, bottom=0.05)\n",
    "\n",
    "## Add masks, text\n",
    "# Star (circle)\n",
    "x0, y0 = np.shape(im)[1]//2,  np.shape(im)[1]//2\n",
    "circle = Circle((x0,y0),r_star,ec=color_star,fc='None',ls='-',lw=0.5)\n",
    "ax.add_patch(circle)\n",
    "# Background (annulus)\n",
    "x0, y0 = np.shape(im)[1]//2,  np.shape(im)[1]//2\n",
    "circle = Circle((x0,y0),r_bkg_in,ec=color_bkg_lighter,fc='None',ls='--',lw=0.5)\n",
    "ax.add_patch(circle)\n",
    "circle = Circle((x0,y0),r_bkg_out,ec=color_bkg_lighter,fc='None',ls='--',lw=0.5)\n",
    "ax.add_patch(circle)\n",
    "if r_star == 24:\n",
    "    ax.text(0.6,0.17,'star mask',color=color_star,transform=ax.transAxes,rotation=40,fontsize=12)\n",
    "else: \n",
    "    ax.text(0.46,0.32,'star mask',color=color_star,transform=ax.transAxes,rotation=40,fontsize=12)\n",
    "ax.text(0.65,0.07,'bkg mask',color=color_bkg_lighter,transform=ax.transAxes,rotation=40,fontsize=12)\n",
    "\n",
    "plot_fig(im=im, vmin=vmin, vmax=vmax, im_crop=im_crop, figsize=figsize,\n",
    "         scalebar_pix=scalebar_pix, scalebar_leg=scalebar_leg, platescale=platescale,\n",
    "         add_colorbar=add_colorbar, clab=clab, cbar_xdeb=0.75, \n",
    "         right=right, left=left, top=top, bottom=bottom,\n",
    "         text=text, #text_xfrac=text_xfrac, text_yfrac=text_yfrac,\n",
    "         saving_dir=saving_dir, save_png=save_png, namesave=namesave,\n",
    "         give_fig_ax=1, fig=fig, ax=ax)"
   ]
  },
  {
   "cell_type": "code",
   "execution_count": null,
   "id": "9048ecf1",
   "metadata": {},
   "outputs": [],
   "source": []
  },
  {
   "cell_type": "code",
   "execution_count": 816,
   "id": "8b4ab1ac",
   "metadata": {},
   "outputs": [
    {
     "name": "stderr",
     "output_type": "stream",
     "text": [
      "/var/folders/k2/sfv4r4z938l77n1t4ydth2v401phl2/T/ipykernel_1317/1299577078.py:42: RuntimeWarning: Mean of empty slice\n",
      "  noise_annulus = np.nanmean(im_annulus)\n",
      "/var/folders/k2/sfv4r4z938l77n1t4ydth2v401phl2/T/ipykernel_1317/1299577078.py:42: RuntimeWarning: Mean of empty slice\n",
      "  noise_annulus = np.nanmean(im_annulus)\n"
     ]
    },
    {
     "name": "stdout",
     "output_type": "stream",
     "text": [
      "31\n",
      "31\n",
      "31\n"
     ]
    },
    {
     "data": {
      "image/png": "[encoded data removed]",
      "text/plain": [
       "<Figure size 320x240 with 1 Axes>"
      ]
     },
     "metadata": {},
     "output_type": "display_data"
    }
   ],
   "source": [
    "# Radial Profile\n",
    "im = np.copy(im_prereduced)[0][0]\n",
    "profile_mean, separations = rad_profile(im, center=np.shape(im)[0]//2, mode='mean', pixscale=platescale*1e-3, skip_pix=1)\n",
    "\n",
    "# Figure\n",
    "fig, ax = plt.subplots(1,1,figsize=figsize)\n",
    "fig.subplots_adjust(left=0.2,right=0.95, top=0.95, bottom=0.17)\n",
    "\n",
    "# PSF before\n",
    "im = np.copy(im_prereduced)[0][0]\n",
    "profile_mean, separations = rad_profile(im, center=np.shape(im)[0]//2, mode='mean', pixscale=platescale*1e-3, skip_pix=1)\n",
    "ax.plot(separations/platescale*1e3, profile_mean, color='crimson',marker='D', ms=5, label='PSF before')\n",
    "# PSF after\n",
    "im = np.copy(im_prereduced)[0][1]\n",
    "profile_mean, separations = rad_profile(im, center=np.shape(im)[0]//2, mode='mean', pixscale=platescale*1e-3, skip_pix=1)\n",
    "ax.plot(separations/platescale*1e3, profile_mean, color='mediumseagreen',marker='o', ms=5, label='PSF after')\n",
    "\n",
    "\n",
    "ax.set_xlabel('Radius (pixel)')\n",
    "ax.set_ylabel('Flux (ADU)')\n",
    "\n",
    "ax.legend(frameon=False, loc='center right')\n",
    "\n",
    "text = '{} {} {}'.format(epoch, instru, filt.replace('_',''))\n",
    "ax.text(0.17,0.85,text,transform=ax.transAxes)\n",
    "\n",
    "namesave = 'radial_profile_flux_'+epoch+'_'+instru.replace(' ','_')\n",
    "mise_en_page(ax, x_step=1, x_maj_step=5, x_min_step=1)\n",
    "plt.savefig(saving_dir+namesave+'.pdf')\n"
   ]
  },
  {
   "cell_type": "markdown",
   "id": "752dd553",
   "metadata": {},
   "source": [
    "##### Region of the image considered to derive the flux of the star"
   ]
  },
  {
   "cell_type": "code",
   "execution_count": 805,
   "id": "469232f7",
   "metadata": {
    "scrolled": true
   },
   "outputs": [
    {
     "name": "stdout",
     "output_type": "stream",
     "text": [
      "-22.723724 1132.2158\n",
      "The file is saved here:\n",
      " figs/fig_v2023-5-2/star_flux_2019-07-09_IFS_image_masked\n"
     ]
    },
    {
     "data": {
      "image/png": "[encoded data removed]",
      "text/plain": [
       "<Figure size 320x240 with 2 Axes>"
      ]
     },
     "metadata": {},
     "output_type": "display_data"
    }
   ],
   "source": [
    "# Region of the image considered to derive the flux of the star\n",
    "if len(np.shape(im_prereduced)) == 4:\n",
    "    im = np.copy(im_prereduced[0,im_before_after ])\n",
    "else : im = np.copy(im_prereduced)[0]\n",
    "\n",
    "if im_crop == 0 : im_c = im\n",
    "else: im_c = im[im_crop:-im_crop,im_crop:-im_crop]\n",
    "im_mask = im_masked_center(im_c, r=r_star)\n",
    "\n",
    "fig, ax = plt.subplots(1,1,figsize=figsize)\n",
    "fig.subplots_adjust(left=0.01,right=0.8, top=0.99)\n",
    "#ax.imshow(im_mask ,interpolation='nearest', origin='lower', vmin=np.nanmin(im_c), vmax=np.nanmax(im_c))\n",
    "print(np.nanmin(im_c), np.nanmax(im_c))\n",
    "text = 'star mask'\n",
    "namesave = 'star_flux_'+epoch+'_'+instru.replace(' ','_')+'_image_masked'\n",
    "im_mask[im_mask ==0] = np.nanmax(im_mask)\n",
    "plot_fig(im_mask, color_scalebar=color_scalebar, platescale=platescale, text=text, color_text=color_text,\n",
    "         text_yfrac=0.92, \n",
    "         text_xfrac=0.03, clab='Flux (ADU)', cbar_xdeb=0.78,\n",
    "         give_fig_ax=1, fig=fig, ax=ax, saving_dir=saving_dir, namesave=namesave)\n",
    "#plt.savefig(saving_dir+namesave+'.pdf')\n",
    "plt.show()"
   ]
  },
  {
   "cell_type": "code",
   "execution_count": 806,
   "id": "74b1b4de",
   "metadata": {},
   "outputs": [
    {
     "name": "stdout",
     "output_type": "stream",
     "text": [
      "Number of pixels considered: 4096.0\n"
     ]
    }
   ],
   "source": [
    "im_count = np.copy(im_mask)\n",
    "im_count[im_count!=0]=1\n",
    "nb_pix_star = np.nansum(im_count)\n",
    "print('Number of pixels considered:', nb_pix_star)"
   ]
  },
  {
   "cell_type": "markdown",
   "id": "04cec7ef",
   "metadata": {},
   "source": [
    "##### In this region, distribution of the flux values"
   ]
  },
  {
   "cell_type": "code",
   "execution_count": 807,
   "id": "3b3393cf",
   "metadata": {},
   "outputs": [
    {
     "name": "stdout",
     "output_type": "stream",
     "text": [
      "Sum of flux values 2.7e+06\n"
     ]
    },
    {
     "data": {
      "image/png": "[encoded data removed]",
      "text/plain": [
       "<Figure size 320x240 with 1 Axes>"
      ]
     },
     "metadata": {},
     "output_type": "display_data"
    }
   ],
   "source": [
    "# Distribution flux values\n",
    "fig, ax = plt.subplots(1,1,figsize=figsize)\n",
    "fig.subplots_adjust(left=0.15,bottom=0.17,top=0.95,right=0.95)\n",
    "ax.hist(im_mask.flatten(), 20, color='hotpink')\n",
    "print('Sum of flux values','%.1e' % np.nansum(im_mask))\n",
    "ax.set_xlabel('Flux (ADU)')\n",
    "ax.set_ylabel('Number of pixels')\n",
    "ax.set_yscale('log')\n",
    "# Add text\n",
    "text = '{} {} {} \\n(star mask)'.format(epoch, instru, filt.replace('_',''))\n",
    "ax.text(0.08,0.78,text,transform=ax.transAxes)\n",
    "namesave = 'star_flux_'+epoch+'_'+instru.replace(' ','_')+'_hist'\n",
    "mise_en_page(ax)\n",
    "plt.savefig(saving_dir+namesave+'.pdf')\n",
    "\n",
    "plt.show()"
   ]
  },
  {
   "cell_type": "markdown",
   "id": "f744c78e",
   "metadata": {},
   "source": [
    "##### Region of the image considered to derive the flux of the background"
   ]
  },
  {
   "cell_type": "code",
   "execution_count": 808,
   "id": "4cbfc703",
   "metadata": {
    "scrolled": true
   },
   "outputs": [
    {
     "name": "stdout",
     "output_type": "stream",
     "text": [
      "-16.15166 57.040997\n",
      "The file is saved here:\n",
      " figs/fig_v2023-5-2/annulus_bkgd_flux_2019-07-09_IFS\n"
     ]
    },
    {
     "data": {
      "image/png": "[encoded data removed]",
      "text/plain": [
       "<Figure size 320x240 with 2 Axes>"
      ]
     },
     "metadata": {},
     "output_type": "display_data"
    }
   ],
   "source": [
    "# Region of the image considered to derive the flux of the background\n",
    "if len(np.shape(im_prereduced)) == 4:\n",
    "    im = np.copy(im_prereduced[0,im_before_after])\n",
    "else : im = np.copy(im_prereduced)[0]\n",
    "    \n",
    "im_crop=0\n",
    "if im_crop == 0 : im_c = im\n",
    "else: im_c = im[im_crop:-im_crop,im_crop:-im_crop]\n",
    "im_mask = im_masked_annulus(im_c, 25, 30)\n",
    "im_mask[im_mask==0] = np.nanmax(im_mask)\n",
    "fig, ax = plt.subplots(1,1,figsize=figsize)\n",
    "fig.subplots_adjust(left=0.01,right=0.8, top=0.99)\n",
    "#ax.imshow(im_mask ,interpolation='nearest', origin='lower', vmin=np.nanmin(im_c), vmax=np.nanmax(im_c))\n",
    "print(np.nanmin(im_c), np.nanmax(im_c))\n",
    "text = 'annulus \\nmask'\n",
    "namesave = 'annulus_bkgd_flux_'+epoch+'_'+instru.replace(' ','_')\n",
    "plot_fig(im_mask, color_scalebar=color_scalebar, platescale=platescale, text=text, color_text=color_text,\n",
    "         text_yfrac=0.85, \n",
    "         text_xfrac=0.03, clab='Flux (ADU)', cbar_xdeb=0.78,\n",
    "         give_fig_ax=1, fig=fig, ax=ax, saving_dir=saving_dir, namesave=namesave)\n",
    "#plt.savefig(saving_dir+namesave+'.pdf')\n",
    "plt.show()"
   ]
  },
  {
   "cell_type": "code",
   "execution_count": 809,
   "id": "1407397a",
   "metadata": {},
   "outputs": [
    {
     "name": "stdout",
     "output_type": "stream",
     "text": [
      "Number of pixels considered: 4096.0\n"
     ]
    }
   ],
   "source": [
    "im_count = np.copy(im_mask)\n",
    "im_count[im_count!=0]=1\n",
    "nb_pix_bkg = np.nansum(im_count)\n",
    "print('Number of pixels considered:', nb_pix_bkg)"
   ]
  },
  {
   "cell_type": "code",
   "execution_count": null,
   "id": "6ef17684",
   "metadata": {},
   "outputs": [],
   "source": []
  },
  {
   "cell_type": "markdown",
   "id": "3c872b01",
   "metadata": {},
   "source": [
    "##### In this region, distribution of the flux values"
   ]
  },
  {
   "cell_type": "code",
   "execution_count": 810,
   "id": "4c297d0e",
   "metadata": {},
   "outputs": [
    {
     "name": "stdout",
     "output_type": "stream",
     "text": [
      "Sum of flux values 2.0e+05\n"
     ]
    },
    {
     "data": {
      "image/png": "[encoded data removed]",
      "text/plain": [
       "<Figure size 320x240 with 1 Axes>"
      ]
     },
     "metadata": {},
     "output_type": "display_data"
    }
   ],
   "source": [
    "# Distribution flux values\n",
    "fig, ax = plt.subplots(1,1,figsize=figsize)\n",
    "fig.subplots_adjust(left=0.15,bottom=0.17,top=0.95,right=0.95)\n",
    "ax.hist(im_mask.flatten(), 20, color='hotpink')\n",
    "print('Sum of flux values','%.1e' % np.nansum(im_mask))\n",
    "ax.set_xlabel('Flux (ADU)')\n",
    "ax.set_ylabel('Number of pixels')\n",
    "ax.set_yscale('log')\n",
    "\n",
    "# Add text\n",
    "text = '{} {} {} \\n(background mask)'.format(epoch, instru, filt.replace('_',''))\n",
    "ax.text(0.08,0.78,text,transform=ax.transAxes)\n",
    "\n",
    "namesave = 'annulus_bkgd_flux_'+epoch+'_'+instru.replace(' ','_')+'_hist'\n",
    "mise_en_page(ax)\n",
    "plt.savefig(saving_dir+namesave+'.pdf')\n",
    "plt.show()"
   ]
  },
  {
   "cell_type": "markdown",
   "id": "c660e73d",
   "metadata": {},
   "source": [
    "#### Derive the stellar and background flux for each spectral channel"
   ]
  },
  {
   "cell_type": "code",
   "execution_count": null,
   "id": "8044524a",
   "metadata": {},
   "outputs": [],
   "source": []
  },
  {
   "cell_type": "code",
   "execution_count": 812,
   "id": "46e9e4fd",
   "metadata": {
    "scrolled": true
   },
   "outputs": [
    {
     "data": {
      "image/png": "[encoded data removed]",
      "text/plain": [
       "<Figure size 320x240 with 1 Axes>"
      ]
     },
     "metadata": {},
     "output_type": "display_data"
    }
   ],
   "source": [
    "# Figure Flux as the spectral channel\n",
    "figsize = (4,3)\n",
    "nlbd = np.shape(im_prereduced)[0]\n",
    "\n",
    "fig, ax = plt.subplots(1,1,figsize=figsize)\n",
    "fig.subplots_adjust(left=0.2,bottom=0.17, top=0.95, right=0.97)\n",
    "norm = 1e3\n",
    "\n",
    "# Several PSFs\n",
    "if len(np.shape(im_prereduced)) == 4:\n",
    "    for i in range(np.shape(im_prereduced)[1]):\n",
    "        #if i == 1 : continue\n",
    "        im_i = np.copy(im_prereduced[:,i])#/norm\n",
    "        if i == 1:\n",
    "            shortcut_plot_flux_star_and_background(ax, im_i, r_star=r_star, r_bkg_in=r_bkg_in, r_bkg_out=r_bkg_out, \n",
    "                    ms_star=ms_star, ms_bkg=ms_bkg, color_star='w', color_bkg='w', \n",
    "                    do_norm=1, display=0)\n",
    "        else: \n",
    "            shortcut_plot_flux_star_and_background(ax, im_i, r_star=r_star, r_bkg_in=r_bkg_in, r_bkg_out=r_bkg_out, \n",
    "                    ms_star=ms_star, ms_bkg=ms_bkg, color_star=color_star, color_bkg=color_bkg, \n",
    "                    do_norm=1, display=0)\n",
    "        \n",
    "# One PSF\n",
    "if len(np.shape(im_prereduced)) == 3:\n",
    "    shortcut_plot_flux_star_and_background(ax, im_prereduced, r_star=r_star, r_bkg_in=r_bkg_in, r_bkg_out=r_bkg_out,\n",
    "            ms_star=ms_star, ms_bkg=ms_bkg, color_star=color_star, color_bkg=color_bkg, do_norm=1, display=0)\n",
    "    \n",
    "# Add labels\n",
    "ax.set_xlabel('Number of the spectral channel')\n",
    "ax.set_ylabel(r'Flux (ADU)')\n",
    "\n",
    "# Change size\n",
    "if epoch == '2019-07-09':\n",
    "    ax.set_xlim([0, nlbd+1])\n",
    "    #ax.set_ylim([-3e5/norm, 6e5/norm])\n",
    "    loc='lower right'\n",
    "    if r_star < 6 : ax.set_ylim([-500, 2500]); y_maj_step=500; y_min_step=100\n",
    "    else: ax.set_ylim([-400, 800]); y_maj_step=200; y_min_step=50\n",
    "if epoch == '2016-04-05':\n",
    "    ax.set_xlim([0, nlbd+1])\n",
    "    if r_star < 6 : ax.set_ylim([0, 2500])\n",
    "    else: ax.set_ylim([0, 400]); y_maj_step=100; y_min_step=20\n",
    "    loc='upper right'\n",
    "if epoch == '2016-06-03':\n",
    "    ax.set_xlim([0, nlbd+1])\n",
    "    if r_star < 6 : ax.set_ylim([0, 2000]); loc='lower right'\n",
    "    else: ax.set_ylim([0, 150]); loc='upper right'; y_maj_step=50; y_min_step=10\n",
    "    \n",
    "#ax.set_yscale('log')\n",
    "\n",
    "# Add text\n",
    "text = '{} {} {}'.format(epoch, instru, filt.replace('_',''))\n",
    "ax.text(0.08,0.87,text,transform=ax.transAxes)\n",
    "\n",
    "# Add legend\n",
    "ax.plot([-10],[0], marker='*', ms=7, label= 'star', lw=0, color='gold')\n",
    "ax.plot([-10],[0], marker='o', ms=5, label= 'background', lw=0, color=[0,0,0.4])\n",
    "ax.legend(loc=loc, numpoints=1, frameon=False)\n",
    "# Save\n",
    "if r_star < 6 :\n",
    "    mise_en_page(ax, x_step=1, x_maj_step=5, x_min_step=1, y_step=1, y_maj_step=500, y_min_step=100)\n",
    "mise_en_page(ax, x_step=1, x_maj_step=5, x_min_step=1, y_step=1, y_maj_step=y_maj_step, y_min_step=y_min_step) \n",
    "namesave = 'check_star_and_bkgd_flux_'+text.replace(' ','_')\n",
    "plt.savefig(saving_dir+namesave+'.pdf')\n",
    "plt.show()"
   ]
  },
  {
   "cell_type": "code",
   "execution_count": null,
   "id": "41295139",
   "metadata": {},
   "outputs": [],
   "source": []
  },
  {
   "cell_type": "markdown",
   "id": "c0400215",
   "metadata": {},
   "source": [
    "## Check spectral channel transmission"
   ]
  },
  {
   "cell_type": "code",
   "execution_count": 825,
   "id": "15803ba1",
   "metadata": {},
   "outputs": [
    {
     "name": "stderr",
     "output_type": "stream",
     "text": [
      "No handles with labels found to put in legend.\n"
     ]
    },
    {
     "data": {
      "image/png": "[encoded data removed]",
      "text/plain": [
       "<Figure size 320x240 with 1 Axes>"
      ]
     },
     "metadata": {},
     "output_type": "display_data"
    }
   ],
   "source": [
    "# Figure Flux as the spectral channel\n",
    "figsize = (4,3)\n",
    "nlbd = np.shape(im_prereduced)[0]\n",
    "\n",
    "fig, ax = plt.subplots(1,1,figsize=figsize)\n",
    "fig.subplots_adjust(left=0.2,bottom=0.17, top=0.95, right=0.97)\n",
    "\n",
    "norm = 1e3\n",
    "\n",
    "# Several PSFs\n",
    "if len(np.shape(im_prereduced)) == 4:\n",
    "    for i in range(np.shape(im_prereduced)[1]):\n",
    "        if i == 0 : continue\n",
    "        im_i = np.copy(im_prereduced[:,i])#/norm\n",
    "        if i == 1:\n",
    "            shortcut_plot_flux_star_and_background(ax, im_i, r_star=r_star, r_bkg_in=r_bkg_in, r_bkg_out=r_bkg_out, \n",
    "                    ms_star=ms_star, ms_bkg=ms_bkg, color_star='w', color_bkg='w', plot_bkg=0,\n",
    "                    do_norm=1, display=0)\n",
    "        if 1: \n",
    "            shortcut_plot_flux_star_and_background(ax, im_i, r_star=r_star, r_bkg_in=r_bkg_in, r_bkg_out=r_bkg_out, \n",
    "                    ms_star=ms_star, ms_bkg=ms_bkg, color_star=color_star, color_bkg=color_bkg, plot_bkg=0,\n",
    "                    do_norm=1, display=0)\n",
    "# One PSF\n",
    "if len(np.shape(im_prereduced)) == 3:\n",
    "    shortcut_plot_flux_star_and_background(ax, im_prereduced, \n",
    "                    r_star=r_star, r_bkg_in=r_bkg_in, r_bkg_out=r_bkg_out,plot_bkg=0,\n",
    "                    ms_star=ms_star, ms_bkg=ms_bkg, color_star=color_star, color_bkg=color_bkg)\n",
    "    \n",
    "# Add labels\n",
    "ax.set_xlabel('Number of the spectral channel')\n",
    "ax.set_ylabel(r'Flux (ADU)')\n",
    "\n",
    "# Change size\n",
    "if epoch == '2019-07-09':\n",
    "    ax.set_xlim([0, nlbd+1])\n",
    "    if r_star < 6 :ax.set_ylim([0, 2500])\n",
    "    #else: ax.set_ylim([-200, 800]); y_maj_step=200; y_min_step=50\n",
    "    else: ax.set_ylim([0, 120]); y_maj_step=50; y_min_step=10\n",
    "if epoch == '2016-04-05':\n",
    "    ax.set_xlim([0, nlbd+1])\n",
    "    #ax.set_ylim([20000/norm, 120000/norm])\n",
    "    if r_star < 6 : pass\n",
    "    else: ax.set_ylim([0, 400]); y_maj_step=100; y_min_step=20\n",
    "if epoch == '2016-06-03':\n",
    "    ax.set_xlim([0, nlbd+1])\n",
    "    if r_star < 6 : ax.set_ylim([0, 2000])\n",
    "    else: ax.set_ylim([0, 150]);  y_maj_step=50; y_min_step=10\n",
    "\n",
    "# Add zones\n",
    "xlim = ax.get_xlim()\n",
    "ylim = ax.get_ylim()\n",
    "Ychannels = [2,17]\n",
    "Jchannels = [20,38]\n",
    "ax.fill_between([Ychannels[0]-0.4, Ychannels[1]+0.4], [ylim[1],ylim[1]], [ylim[0],ylim[0]], color=[0.9,0.9,0.9])\n",
    "ax.fill_between([Jchannels[0]-0.4, Jchannels[1]+0.4], [ylim[1],ylim[1]], [ylim[0],ylim[0]], color=[0.9,0.9,0.9])\n",
    "\n",
    "# Add text\n",
    "text = '{} {} {}'.format(epoch, instru, filt.replace('_',''))\n",
    "ax.text(0.08,0.87,text,transform=ax.transAxes)\n",
    "\n",
    "ax.text(0.1,0.1,'Y ({} channels)'.format(Ychannels[1]-Ychannels[0]+1), fontsize=11, transform=ax.transAxes)\n",
    "ax.text(0.6,0.1,'J ({} channels)'.format(Jchannels[1]-Jchannels[0]+1), fontsize=11, transform=ax.transAxes)\n",
    "\n",
    "ax.set_ylim(ylim)\n",
    "\n",
    "# Add legend\n",
    "#ax.plot([-10],[Y_star], marker='*', ms=12, markerfacecolor='None', label= 'star', lw=0)\n",
    "#ax.plot([-10],[Y_star], marker='o', ms=8, markerfacecolor='None', label= 'background', lw=0)\n",
    "ax.legend(loc='lower right', numpoints=1, frameon=False)\n",
    "# Save \n",
    "if r_star < 6: mise_en_page(ax, x_step=1, x_maj_step=5, x_min_step=1, y_step=1, y_maj_step=500, y_min_step=100)\n",
    "else: mise_en_page(ax, x_step=1, x_maj_step=5, x_min_step=1, y_step=1, y_maj_step=y_maj_step, y_min_step=y_min_step)\n",
    "namesave = 'check_transmission_'+text.replace(' ','_')\n",
    "plt.savefig(saving_dir+namesave+'.pdf')\n",
    "plt.show()"
   ]
  },
  {
   "cell_type": "code",
   "execution_count": null,
   "id": "99717194",
   "metadata": {},
   "outputs": [],
   "source": []
  },
  {
   "cell_type": "code",
   "execution_count": 348,
   "id": "fa2b3c85",
   "metadata": {},
   "outputs": [
    {
     "name": "stdout",
     "output_type": "stream",
     "text": [
      "Help on method fill_betweenx in module matplotlib.axes._axes:\n",
      "\n",
      "fill_betweenx(y, x1, x2=0, where=None, step=None, interpolate=False, *, data=None, **kwargs) method of matplotlib.axes._subplots.AxesSubplot instance\n",
      "    Fill the area between two vertical curves.\n",
      "    \n",
      "    The curves are defined by the points (*y*, *x1*) and (*y*,\n",
      "    *x2*).  This creates one or multiple polygons describing the filled\n",
      "    area.\n",
      "    \n",
      "    You may exclude some vertical sections from filling using *where*.\n",
      "    \n",
      "    By default, the edges connect the given points directly.  Use *step*\n",
      "    if the filling should be a step function, i.e. constant in between\n",
      "    *y*.\n",
      "    \n",
      "    Parameters\n",
      "    ----------\n",
      "    y : array (length N)\n",
      "        The y coordinates of the nodes defining the curves.\n",
      "    \n",
      "    x1 : array (length N) or scalar\n",
      "        The x coordinates of the nodes defining the first curve.\n",
      "    \n",
      "    x2 : array (length N) or scalar, default: 0\n",
      "        The x coordinates of the nodes defining the second curve.\n",
      "    \n",
      "    where : array of bool (length N), optional\n",
      "        Define *where* to exclude some vertical regions from being filled.\n",
      "        The filled regions are defined by the coordinates ``y[where]``.\n",
      "        More precisely, fill between ``y[i]`` and ``y[i+1]`` if\n",
      "        ``where[i] and where[i+1]``.  Note that this definition implies\n",
      "        that an isolated *True* value between two *False* values in *where*\n",
      "        will not result in filling.  Both sides of the *True* position\n",
      "        remain unfilled due to the adjacent *False* values.\n",
      "    \n",
      "    interpolate : bool, default: False\n",
      "        This option is only relevant if *where* is used and the two curves\n",
      "        are crossing each other.\n",
      "    \n",
      "        Semantically, *where* is often used for *x1* > *x2* or\n",
      "        similar.  By default, the nodes of the polygon defining the filled\n",
      "        region will only be placed at the positions in the *y* array.\n",
      "        Such a polygon cannot describe the above semantics close to the\n",
      "        intersection.  The y-sections containing the intersection are\n",
      "        simply clipped.\n",
      "    \n",
      "        Setting *interpolate* to *True* will calculate the actual\n",
      "        intersection point and extend the filled region up to this point.\n",
      "    \n",
      "    step : {'pre', 'post', 'mid'}, optional\n",
      "        Define *step* if the filling should be a step function,\n",
      "        i.e. constant in between *y*.  The value determines where the\n",
      "        step will occur:\n",
      "    \n",
      "        - 'pre': The y value is continued constantly to the left from\n",
      "          every *x* position, i.e. the interval ``(x[i-1], x[i]]`` has the\n",
      "          value ``y[i]``.\n",
      "        - 'post': The y value is continued constantly to the right from\n",
      "          every *x* position, i.e. the interval ``[x[i], x[i+1])`` has the\n",
      "          value ``y[i]``.\n",
      "        - 'mid': Steps occur half-way between the *x* positions.\n",
      "    \n",
      "    Returns\n",
      "    -------\n",
      "    `.PolyCollection`\n",
      "        A `.PolyCollection` containing the plotted polygons.\n",
      "    \n",
      "    Other Parameters\n",
      "    ----------------\n",
      "    **kwargs\n",
      "        All other keyword arguments are passed on to `.PolyCollection`.\n",
      "        They control the `.Polygon` properties:\n",
      "    \n",
      "        Properties:\n",
      "        agg_filter: a filter function, which takes a (m, n, 3) float array and a dpi value, and returns a (m, n, 3) array\n",
      "        alpha: array-like or scalar or None\n",
      "        animated: bool\n",
      "        antialiased or aa or antialiaseds: bool or list of bools\n",
      "        array: ndarray or None\n",
      "        capstyle: `.CapStyle` or {'butt', 'projecting', 'round'}\n",
      "        clim: (vmin: float, vmax: float)\n",
      "        clip_box: `.Bbox`\n",
      "        clip_on: bool\n",
      "        clip_path: Patch or (Path, Transform) or None\n",
      "        cmap: `.Colormap` or str or None\n",
      "        color: color or list of rgba tuples\n",
      "        contains: unknown\n",
      "        edgecolor or ec or edgecolors: color or list of colors or 'face'\n",
      "        facecolor or facecolors or fc: color or list of colors\n",
      "        figure: `.Figure`\n",
      "        gid: str\n",
      "        hatch: {'/', '\\\\', '|', '-', '+', 'x', 'o', 'O', '.', '*'}\n",
      "        in_layout: bool\n",
      "        joinstyle: `.JoinStyle` or {'miter', 'round', 'bevel'}\n",
      "        label: object\n",
      "        linestyle or dashes or linestyles or ls: str or tuple or list thereof\n",
      "        linewidth or linewidths or lw: float or list of floats\n",
      "        norm: `.Normalize` or None\n",
      "        offset_position: unknown\n",
      "        offsets: (N, 2) or (2,) array-like\n",
      "        path_effects: `.AbstractPathEffect`\n",
      "        picker: None or bool or float or callable\n",
      "        pickradius: float\n",
      "        rasterized: bool\n",
      "        sketch_params: (scale: float, length: float, randomness: float)\n",
      "        snap: bool or None\n",
      "        transform: `.Transform`\n",
      "        url: str\n",
      "        urls: list of str or None\n",
      "        visible: bool\n",
      "        zorder: float\n",
      "    \n",
      "    See Also\n",
      "    --------\n",
      "    fill_between : Fill between two sets of y-values.\n",
      "    fill_betweenx : Fill between two sets of x-values.\n",
      "    \n",
      "    Notes\n",
      "    -----\n",
      "    .. [notes section required to get data note injection right]\n",
      "    \n",
      "    .. note::\n",
      "        In addition to the above described arguments, this function can take\n",
      "        a *data* keyword argument. If such a *data* argument is given,\n",
      "        the following arguments can also be string ``s``, which is\n",
      "        interpreted as ``data[s]`` (unless this raises an exception):\n",
      "        *y*, *x1*, *x2*, *where*.\n",
      "    \n",
      "        Objects passed as **data** must support item access (``data[s]``) and\n",
      "        membership test (``s in data``).\n",
      "\n"
     ]
    }
   ],
   "source": [
    "help(ax.fill_betweenx)"
   ]
  },
  {
   "cell_type": "code",
   "execution_count": null,
   "id": "aada26f8",
   "metadata": {},
   "outputs": [],
   "source": []
  },
  {
   "cell_type": "code",
   "execution_count": null,
   "id": "e198b375",
   "metadata": {},
   "outputs": [],
   "source": []
  },
  {
   "cell_type": "code",
   "execution_count": null,
   "id": "f23f205e",
   "metadata": {},
   "outputs": [],
   "source": []
  },
  {
   "cell_type": "code",
   "execution_count": null,
   "id": "c7c0a677",
   "metadata": {},
   "outputs": [],
   "source": []
  },
  {
   "cell_type": "code",
   "execution_count": null,
   "id": "486799a4",
   "metadata": {},
   "outputs": [],
   "source": []
  },
  {
   "cell_type": "code",
   "execution_count": 207,
   "id": "1f226a1f",
   "metadata": {},
   "outputs": [],
   "source": []
  },
  {
   "cell_type": "markdown",
   "id": "16e070fa",
   "metadata": {},
   "source": [
    "# Bin"
   ]
  },
  {
   "cell_type": "code",
   "execution_count": null,
   "id": "d3406a57",
   "metadata": {},
   "outputs": [],
   "source": [
    "# Allow negative values with two scales - not so useful\n",
    "\n",
    "# Figure Flux as the spectral channel\n",
    "figsize = (4,3)\n",
    "nlbd = np.shape(im_prereduced)[0]\n",
    "\n",
    "fig, (ax_pos, ax_neg) = plt.subplots(2,1,figsize=figsize, sharex=True, gridspec_kw={'height_ratios': [6, 3]},  facecolor='w')\n",
    "fig.subplots_adjust(left=0.16,bottom=0.17, top=0.95, right=0.97, hspace=0)\n",
    "\n",
    "\n",
    "## Double axis\n",
    "\n",
    "\n",
    "# Hide the spines between ax and ax2\n",
    "ax_neg.spines['top'].set_visible(False)\n",
    "ax_pos.spines['bottom'].set_visible(False)\n",
    "ax_pos.xaxis.tick_top()\n",
    "ax_pos.tick_params(labelbottom='off')\n",
    "ax_neg.tick_params(labeltop='off')\n",
    "ax_neg.xaxis.tick_bottom()\n",
    "\n",
    "\n",
    "# Several PSFs\n",
    "if len(np.shape(im_prereduced)) == 4:\n",
    "    for i in range(np.shape(im_prereduced)[1]):\n",
    "        if i == 1 : continue\n",
    "        im_i = np.copy(im_prereduced[:,i])\n",
    "        shortcut_plot_flux_star_and_background(ax_pos, im_i, r_star=6, r_bkg_in=25, r_bkg_out=30)\n",
    "        shortcut_plot_flux_star_and_background(ax_neg, im_i, r_star=6, r_bkg_in=25, r_bkg_out=30)\n",
    "        \n",
    "# One PSF\n",
    "if len(np.shape(im_prereduced)) == 3:\n",
    "    shortcut_plot_flux_star_and_background(ax, im_prereduced)\n",
    "    \n",
    "# Add labels\n",
    "ax_neg.set_xlabel('Number of the spectral channel')\n",
    "ax_pos.set_ylabel('Flux (ADU)')\n",
    "\n",
    "# Change size\n",
    "ax_neg.set_xlim([0.5, nlbd+0.5])\n",
    "#ax.set_ylim([1e4, 1e9])\n",
    "#ax_neg.set_yscale('log')\n",
    "#ax_pos.set_yscale('log')\n",
    "\n",
    "# Add text\n",
    "text = '{} {}'.format(epoch, filt.replace('_',''))\n",
    "ax_pos.text(0.08,0.8,text,transform=ax_pos.transAxes)\n",
    "\n",
    "# Add legend\n",
    "ax_neg.plot([-10],[Y_star], marker='*', ms=12, markerfacecolor='None', label= 'star', lw=0)\n",
    "ax_neg.plot([-10],[Y_star], marker='o', ms=8, markerfacecolor='None', label= 'background', lw=0)\n",
    "ax_neg.legend(loc='lower right', numpoints=1, frameon=False)\n",
    "\n",
    "ax_pos.set_ylim([0, 6e5])\n",
    "ax_neg.set_ylim([-2e5, 10])\n",
    "# Hide the spines between ax and ax2\n",
    "ax_neg.spines['top'].set_visible(False)\n",
    "ax_pos.spines['bottom'].set_visible(False)\n",
    "ax_pos.xaxis.tick_top()\n",
    "ax_neg.tick_params(labeltop='off')\n",
    "ax_neg.xaxis.tick_bottom()\n",
    "\n",
    "\n",
    "# Save\n",
    "mise_en_page(ax_neg, x_step=0, x_maj_step=1, x_min_step=1)\n",
    "mise_en_page(ax_pos, x_step=0, x_maj_step=1, x_min_step=1)\n",
    "namesave = 'check_star_and_bkgd_flux_'+text.replace(' ','_')\n",
    "plt.savefig(saving_dir+namesave+'.pdf')\n",
    "plt.show()"
   ]
  },
  {
   "cell_type": "code",
   "execution_count": null,
   "id": "9d6b9c76",
   "metadata": {},
   "outputs": [],
   "source": []
  },
  {
   "cell_type": "code",
   "execution_count": null,
   "id": "172ec9e7",
   "metadata": {},
   "outputs": [],
   "source": []
  },
  {
   "cell_type": "code",
   "execution_count": null,
   "id": "cd4601e6",
   "metadata": {},
   "outputs": [],
   "source": []
  },
  {
   "cell_type": "code",
   "execution_count": null,
   "id": "023b1068",
   "metadata": {},
   "outputs": [],
   "source": []
  },
  {
   "cell_type": "code",
   "execution_count": 826,
   "id": "17455380",
   "metadata": {},
   "outputs": [],
   "source": [
    "\n",
    "\n",
    "def compute_mean_map_ann(im, dr, alpha=0, add_input_im_rad=0, im_rad=None, display=0):\n",
    "    '''\n",
    "    Compute the averaged mean 2D map by annular estimation with slippery annulus.\n",
    "    Use the function compute im_rad_grid() to derive the distance (in pixel) of each\n",
    "    pixel to the center of the image.\n",
    "\n",
    "    Inputs:\n",
    "        .'im' (2D-array): image\n",
    "        .'dr' (float): width of the annulus for which the detection limit is computed\n",
    "        (optional)\n",
    "        .'alpha' (float): factor to consider bigger annulus to derive the noise\n",
    "            Goal: have smoother transition between annuli\n",
    "        .'add_input_im_rad' (boolean): input corresponding to the 2D radius grid provided\n",
    "            (if parameter set to 1) or not (parameter set to 0, default value)\n",
    "        .'im_rad' (2D-array): None (if add_input_im_rad == 0) or a 2D radius grid with the\n",
    "            same shape than the input image 'im' (if add_input_im_rad == 1)\n",
    "        .'display' (boolean):\n",
    "            Default value: 0 (False) i.e. do not display details/information\n",
    "\n",
    "    Output:\n",
    "        .'im_noise' (2D-array): detection limit map\n",
    "    '''\n",
    "    t0 = time.time()\n",
    "    if display: print(\"\\nComputing the standard deviation limit map by using the 1D-annulus method\")\n",
    "    h, w = np.shape(im)\n",
    "    noise_tot, noise_ann = [], []\n",
    "\n",
    "    im_noise, im_nan, = np.zeros((h,w)), np.empty((h,w))\n",
    "    if add_input_im_rad : im_radius_grid = im_rad\n",
    "    else : im_radius_grid = compute_im_rad_grid(im)\n",
    "\n",
    "    im_nan[:] = np.NaN\n",
    "    rad, x0,y0 = 0, w//2+1, h//2+1\n",
    "\n",
    "    # Until the annulus is smaller than the size of the image\n",
    "    while rad < w//2 * 1.45 : # 1.45 slightly bigger than sqrt(2) to be sure to cover all the field of view and not only a circle of radius r\n",
    "        # One annulus is considered\n",
    "        cond_annulus_large = np.logical_and(im_radius_grid >= rad-alpha, rad + dr + alpha >= im_radius_grid)\n",
    "        cond_annulus_thin  = np.logical_and(im_radius_grid >= rad, rad + dr >= im_radius_grid)\n",
    "        im_annulus = np.where(cond_annulus_large, im, im_nan)\n",
    "        # the noise over the annulus is computed\n",
    "        noise_annulus = np.nanmean(im_annulus)\n",
    "        # and the image is set at this noise for this given annulus\n",
    "        im_noise[cond_annulus_thin] = noise_annulus\n",
    "        rad += dr\n",
    "    if display: print(\"-> took {} seconds\".format(time.time()-t0))\n",
    "    return im_noise\n",
    "\n",
    "\n",
    "def compute_mad_map_ann(im, dr, alpha=0, add_input_im_rad=0, im_rad=None, display=0):\n",
    "    '''\n",
    "    Compute the mean absolute deviation 2D map by annular noise estimation with slippery annulus.\n",
    "    Use the function compute im_rad_grid() to derive the distance (in pixel) of each\n",
    "    pixel to the center of the image.\n",
    "\n",
    "    Inputs:\n",
    "        .'im' (2D-array): image\n",
    "        .'dr' (float): width of the annulus for which the detection limit is computed\n",
    "        (optional)\n",
    "        .'alpha' (float): factor to consider bigger annulus to derive the noise\n",
    "            Goal: have smoother transition between annuli\n",
    "        .'add_input_im_rad' (boolean): input corresponding to the 2D radius grid provided\n",
    "            (if parameter set to 1) or not (parameter set to 0, default value)\n",
    "        .'im_rad' (2D-array): None (if add_input_im_rad == 0) or a 2D radius grid with the\n",
    "            same shape than the input image 'im' (if add_input_im_rad == 1)\n",
    "        .'display' (boolean):\n",
    "            Default value: 0 (False) i.e. do not display details/information\n",
    "\n",
    "    Output:\n",
    "        .'im_noise' (2D-array): detection limit map\n",
    "    '''\n",
    "    t0 = time.time()\n",
    "    if display: print(\"\\nComputing the standard deviation limit map by using the 1D-annulus method\")\n",
    "    h, w = np.shape(im)\n",
    "    noise_tot, noise_ann = [], []\n",
    "\n",
    "    im_noise, im_nan, = np.zeros((h,w)), np.empty((h,w))\n",
    "    if add_input_im_rad : im_radius_grid = im_rad\n",
    "    else : im_radius_grid = compute_im_rad_grid(im)\n",
    "\n",
    "    im_nan[:] = np.NaN\n",
    "    rad, x0,y0 = 0, w//2+1, h//2+1\n",
    "\n",
    "    # Until the annulus is smaller than the size of the image\n",
    "    while rad < w//2 * 1.45 : # 1.45 slightly bigger than sqrt(2) to be sure to cover all the field of view and not only a circle of radius r\n",
    "        # One annulus is considered\n",
    "        cond_annulus_large = np.logical_and(im_radius_grid >= rad-alpha, rad + dr + alpha >= im_radius_grid)\n",
    "        cond_annulus_thin  = np.logical_and(im_radius_grid >= rad, rad + dr >= im_radius_grid)\n",
    "        im_annulus = np.where(cond_annulus_large, im, im_nan)\n",
    "        # the noise over the annulus is computed\n",
    "        noise_annulus = molmap.compute_mad(im_annulus)\n",
    "        # and the image is set at this noise for this given annulus\n",
    "        im_noise[cond_annulus_thin] = noise_annulus\n",
    "        rad += dr\n",
    "    if display: print(\"-> took {:.3f} seconds.\".format(time.time()-t0))\n",
    "    return im_noise\n",
    "\n",
    "\n",
    "def compute_std_map_ann(im, dr, alpha=0, add_input_im_rad=0, im_rad=None, display=0):\n",
    "    '''\n",
    "    Compute the standard deviation 2D map by annular noise estimation with slippery annulus.\n",
    "    Use the function compute im_rad_grid() to derive the distance (in pixel) of each\n",
    "    pixel to the center of the image.\n",
    "\n",
    "    Inputs:\n",
    "        .'im' (2D-array): image\n",
    "        .'dr' (float): width of the annulus for which the detection limit is computed\n",
    "        (optional)\n",
    "        .'alpha' (float): factor to consider bigger annulus to derive the noise\n",
    "            Goal: have smoother transition between annuli\n",
    "        .'add_input_im_rad' (boolean): input corresponding to the 2D radius grid provided\n",
    "            (if parameter set to 1) or not (parameter set to 0, default value)\n",
    "        .'im_rad' (2D-array): None (if add_input_im_rad == 0) or a 2D radius grid with the\n",
    "            same shape than the input image 'im' (if add_input_im_rad == 1)\n",
    "        .'display' (boolean):\n",
    "            Default value: 0 (False) i.e. do not display details/information\n",
    "\n",
    "    Output:\n",
    "        .'im_noise' (2D-array): detection limit map\n",
    "    '''\n",
    "    t0 = time.time()\n",
    "    if display: print(\"\\nComputing the standard deviation limit map by using the 1D-annulus method\")\n",
    "    h, w = np.shape(im)\n",
    "    noise_tot, noise_ann = [], []\n",
    "\n",
    "    im_noise, im_nan, = np.zeros((h,w)), np.empty((h,w))\n",
    "    if add_input_im_rad : im_radius_grid = im_rad\n",
    "    else : im_radius_grid = compute_im_rad_grid(im)\n",
    "\n",
    "    im_nan[:] = np.NaN\n",
    "    rad, x0,y0 = 0, w//2+1, h//2+1\n",
    "\n",
    "    # Until the annulus is smaller than the size of the image\n",
    "    while rad < w//2 * 1.45 : # 1.45 slightly bigger than sqrt(2) to be sure to cover all the field of view and not only a circle of radius r\n",
    "        # One annulus is considered\n",
    "        cond_annulus_large = np.logical_and(im_radius_grid >= rad-alpha, rad + dr + alpha >= im_radius_grid)\n",
    "        cond_annulus_thin  = np.logical_and(im_radius_grid >= rad, rad + dr >= im_radius_grid)\n",
    "        im_annulus = np.where(cond_annulus_large, im, im_nan)\n",
    "        # the noise over the annulus is computed\n",
    "        noise_annulus = np.nanstd(im_annulus)\n",
    "        # and the image is set at this noise for this given annulus\n",
    "        im_noise[cond_annulus_thin] = noise_annulus\n",
    "        rad += dr\n",
    "    if display: print(\"-> took {} seconds\".format(time.time()-t0))\n",
    "    return im_noise\n",
    "\n",
    "\n",
    "def compute_std_cube_spatially_annuli(cube, dr, alpha=0, display=0, display_level2=0):\n",
    "    '''\n",
    "    Compute a 3D standard deviation cube. For each frame of the cube, the standard\n",
    "    deviation is computed spatially in rings centered around the star which is\n",
    "    assumed to be at the center of the image.\n",
    "\n",
    "    Note: le bruit sur chaque anneau ne pourrait pas être calculé en utilant VIP? frame_basic_stats\n",
    "    '''\n",
    "    if display:\n",
    "        print('In function compute_std_cube_spatially_annuli()')\n",
    "        t0 = time.time()\n",
    "\n",
    "    nim = np.shape(cube)[0]\n",
    "    nxy = np.shape(cube)[1]\n",
    "    im_rad = compute_im_rad_grid(cube[0])\n",
    "    cube_std = np.zeros((nim,nxy,nxy))\n",
    "    # loop over the images (on the spectral or temporal dimension for instance):\n",
    "    for i, im in enumerate(cube):\n",
    "        cube_std[i] = compute_std_map_ann(im, dr, alpha=alpha, add_input_im_rad=1, im_rad=im_rad, display=display_level2)\n",
    "\n",
    "    if display: print(\"-> took {:.1f} seconds\".format(time.time()-t0))\n",
    "    return cube_std\n",
    "\n",
    "def compute_std_cube_spatially_aperture(cube, rad=2, display=0):\n",
    "    '''\n",
    "    Compute a 3D standard deviation cube by considering noise in an aperture around each pixel:\n",
    "    loop over the images and each coordinates (time-consuming).\n",
    "    Relevant to consider the photon noise of a putative fake planet.\n",
    "\n",
    "    Inputs (...)\n",
    "    '''\n",
    "\n",
    "    if display:\n",
    "        print('In function compute_std_cube_spatially_aperture()')\n",
    "        t0 = time.time()\n",
    "\n",
    "    nim = np.shape(cube)[0]\n",
    "    nxy = np.shape(cube)[1]\n",
    "    cube_std = np.zeros(np.shape(cube))\n",
    "\n",
    "    # Option (1)\n",
    "    for iw in range(nim):\n",
    "        for ix in range(nxy):\n",
    "            for iy in range(nxy):\n",
    "                mean, cube_std[iw,iy,ix], median, tot = frame_basic_stats(cube[iw], radius=rad, xy=(ix,iy), full_output=True, plot=False)\n",
    "\n",
    "    if display: print(\"-> took {:.1f} seconds\".format(time.time()-t0))\n",
    "    return cube_std\n",
    "\n",
    "\n",
    "\n",
    "\n",
    "def compute_std_cube_spatially(cube, rad, dr, alpha=0, use_empty_obs=0, cube_annuli=None, consider_photon_noise=0, cube_noise_photon=0, saving_dir='', writeo=False, display=0):\n",
    "    '''\n",
    "    Compute a 3D standard deviation cube by considering the noise both from annuli\n",
    "    and aperture around each pixel.\n",
    "    '''\n",
    "    #cube_std_aperture = compute_std_cube_spatially_aperture(cube=cube, rad=rad, display=display)\n",
    "    if use_empty_obs : cube=cube_annuli ; print('Use a cube without fake planet injected to derive the noise on the annuli.')\n",
    "    #else:  print('Use a cube with the fake planet injected to derive the noise on the annuli.')\n",
    "    cube_std_annuli = compute_std_cube_spatially_annuli(cube=cube, dr=dr, alpha=alpha, display=display)\n",
    "\n",
    "    if consider_photon_noise:\n",
    "        print('The spatial noise is estimated by regarding two components: annulus-wise standard deviation of the values centered on the star location, and the photon noise at each location.')\n",
    "        cube_std = np.sqrt(cube_std_annuli**2+np.abs(cube_noise_photon))#cube_std_aperture**2)\n",
    "    else:\n",
    "        print('The spatial noise is estimated only by regarding rings centered on the star location.')\n",
    "        cube_std = np.abs(cube_std_annuli)\n",
    "\n",
    "    if writeo :\n",
    "        fits.writeto(saving_dir+'std_cube_spatial_annuli.fits', cube_std_annuli, overwrite=True)\n",
    "        fits.writeto(saving_dir+'std_cube_spatial.fits', cube_std, overwrite=True)\n",
    "\n",
    "        if consider_photon_noise:\n",
    "            fits.writeto(saving_dir+'std_cube_spatial_aperture.fits', np.abs(cube_noise_photon), overwrite=True)\n",
    "    return cube_std\n",
    "\n",
    "\n",
    "\n",
    "\n",
    "def rad_profile(im, center, mode='std', pixscale=1, dr=1, skip_pix=None):\n",
    "    '''\n",
    "    Assumption: center at n//2-1 i.e. between the four central pixel (for even image)\n",
    "\n",
    "    Function useful to reproduce the Figure 3 from Hoeijmakers et al. (2018).\n",
    "    '''\n",
    "    if skip_pix == None: skip_pix=3\n",
    "\n",
    "    if mode == 'std':\n",
    "        im = compute_std_map_ann(im,dr=dr)\n",
    "        #profile = (im_std[skip_pix+int(center):,int(center)]+im_std[skip_pix+int(center):,int(center+1)])/2\n",
    "        profile = im[skip_pix+int(center):,int(center)]\n",
    "        separations = np.arange(skip_pix,len(im)//2.,1)\n",
    "\n",
    "    elif mode == 'mad':\n",
    "        im = compute_mad_map_ann(im,dr=dr)\n",
    "        #profile = (im_std[skip_pix+int(center):,int(center)]+im_std[skip_pix+int(center):,int(center+1)])/2\n",
    "        profile = im[skip_pix+int(center):,int(center)]\n",
    "        separations = np.arange(skip_pix,len(im)//2.,1)\n",
    "\n",
    "    elif mode == 'mean':\n",
    "        im = compute_mean_map_ann(im,dr=dr)\n",
    "        profile = im[skip_pix+int(center):,int(center)]\n",
    "        separations = np.arange(skip_pix,len(im)//2.,1)\n",
    "    else: print('Precise a mode available, e.g. std or mean. Here the mode given is {}'.format(mode))\n",
    "\n",
    "    return profile, separations*pixscale"
   ]
  },
  {
   "cell_type": "code",
   "execution_count": null,
   "id": "cb338cb0",
   "metadata": {},
   "outputs": [],
   "source": []
  }
 ],
 "metadata": {
  "kernelspec": {
   "display_name": "Python 3 (ipykernel)",
   "language": "python",
   "name": "python3"
  },
  "language_info": {
   "codemirror_mode": {
    "name": "ipython",
    "version": 3
   },
   "file_extension": ".py",
   "mimetype": "text/x-python",
   "name": "python",
   "nbconvert_exporter": "python",
   "pygments_lexer": "ipython3",
   "version": "3.9.12"
  }
 },
 "nbformat": 4,
 "nbformat_minor": 5
}
