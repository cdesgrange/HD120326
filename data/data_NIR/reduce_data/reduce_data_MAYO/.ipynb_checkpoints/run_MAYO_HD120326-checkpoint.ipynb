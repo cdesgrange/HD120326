{
 "cells": [
  {
   "cell_type": "markdown",
   "metadata": {},
   "source": [
    "# Run Mayonnaise\n",
    "\n",
    "-> automatic way to initialize data for HD 120326 (in progress)\n",
    "\n",
    "-> updated until 20/01/2020\n",
    "\n",
    "-> Modified: 2022-11-03, for the Sco-Cen debris disk. However, the jupyter crashes at the command:\n",
    "\n",
    "    algo = mayo_hci.all_ADI_sequence_mayonnaise_pipeline(working_dir)"
   ]
  },
  {
   "cell_type": "markdown",
   "metadata": {},
   "source": [
    "## Initialization"
   ]
  },
  {
   "cell_type": "code",
   "execution_count": 3,
   "metadata": {},
   "outputs": [],
   "source": [
    "from hciplot import plot_frames as plots\n",
    "import matplotlib.pyplot as plt\n",
    "import numpy as np\n",
    "import vip_hci as vip\n",
    "import sys\n",
    "import json\n",
    "sys.path.append('../../')   # append the path to mayo_hci\n",
    "import mayo_hci\n",
    "import pandas as pd"
   ]
  },
  {
   "cell_type": "markdown",
   "metadata": {},
   "source": [
    "#### Display the list of the data:"
   ]
  },
  {
   "cell_type": "code",
   "execution_count": 4,
   "metadata": {},
   "outputs": [
    {
     "data": {
      "text/html": [
       "<div>\n",
       "<style scoped>\n",
       "    .dataframe tbody tr th:only-of-type {\n",
       "        vertical-align: middle;\n",
       "    }\n",
       "\n",
       "    .dataframe tbody tr th {\n",
       "        vertical-align: top;\n",
       "    }\n",
       "\n",
       "    .dataframe thead th {\n",
       "        text-align: right;\n",
       "    }\n",
       "</style>\n",
       "<table border=\"1\" class=\"dataframe\">\n",
       "  <thead>\n",
       "    <tr style=\"text-align: right;\">\n",
       "      <th></th>\n",
       "      <th>target</th>\n",
       "      <th>epoch</th>\n",
       "      <th>instrument</th>\n",
       "      <th>filter</th>\n",
       "      <th>polar</th>\n",
       "      <th>quality</th>\n",
       "      <th>seeing</th>\n",
       "      <th>tau0</th>\n",
       "      <th>delta_pa</th>\n",
       "      <th>PI</th>\n",
       "    </tr>\n",
       "  </thead>\n",
       "  <tbody>\n",
       "    <tr>\n",
       "      <th>1</th>\n",
       "      <td>HD_120326</td>\n",
       "      <td>2016-06-04</td>\n",
       "      <td>IRDIS</td>\n",
       "      <td>no</td>\n",
       "      <td>H23</td>\n",
       "      <td>good</td>\n",
       "      <td>0.71</td>\n",
       "      <td>3.1</td>\n",
       "      <td>22</td>\n",
       "      <td>Hinkley &amp; Matthews</td>\n",
       "    </tr>\n",
       "    <tr>\n",
       "      <th>2</th>\n",
       "      <td>HD_120326</td>\n",
       "      <td>2016-06-13</td>\n",
       "      <td>IRDIS</td>\n",
       "      <td>no</td>\n",
       "      <td>J23</td>\n",
       "      <td>to check</td>\n",
       "      <td>to check</td>\n",
       "      <td>to check</td>\n",
       "      <td>NaN</td>\n",
       "      <td>GTO</td>\n",
       "    </tr>\n",
       "    <tr>\n",
       "      <th>3</th>\n",
       "      <td>HD_120326</td>\n",
       "      <td>2018-06-01</td>\n",
       "      <td>IRDIS</td>\n",
       "      <td>yes</td>\n",
       "      <td>BB_H</td>\n",
       "      <td>very good</td>\n",
       "      <td>0.45</td>\n",
       "      <td>4.2</td>\n",
       "      <td>Boccaletti</td>\n",
       "      <td>NaN</td>\n",
       "    </tr>\n",
       "    <tr>\n",
       "      <th>4</th>\n",
       "      <td>HD_120326</td>\n",
       "      <td>2019-06-26</td>\n",
       "      <td>IRDIS</td>\n",
       "      <td>no</td>\n",
       "      <td>BB_H</td>\n",
       "      <td>very bad</td>\n",
       "      <td>1.84</td>\n",
       "      <td>2.4</td>\n",
       "      <td>36</td>\n",
       "      <td>Bonnefoy &amp; Ménard</td>\n",
       "    </tr>\n",
       "    <tr>\n",
       "      <th>5</th>\n",
       "      <td>HD_120326</td>\n",
       "      <td>2019-07-09</td>\n",
       "      <td>IRDIS</td>\n",
       "      <td>no</td>\n",
       "      <td>BB_H</td>\n",
       "      <td>very good</td>\n",
       "      <td>0.54</td>\n",
       "      <td>3.1</td>\n",
       "      <td>58</td>\n",
       "      <td>Bonnefoy &amp; Ménard</td>\n",
       "    </tr>\n",
       "  </tbody>\n",
       "</table>\n",
       "</div>"
      ],
      "text/plain": [
       "      target       epoch instrument filter polar    quality    seeing  \\\n",
       "1  HD_120326  2016-06-04      IRDIS     no   H23       good      0.71   \n",
       "2  HD_120326  2016-06-13      IRDIS     no   J23   to check  to check   \n",
       "3  HD_120326  2018-06-01      IRDIS    yes  BB_H  very good      0.45   \n",
       "4  HD_120326  2019-06-26      IRDIS     no  BB_H   very bad      1.84   \n",
       "5  HD_120326  2019-07-09      IRDIS     no  BB_H  very good      0.54   \n",
       "\n",
       "       tau0    delta_pa                  PI  \n",
       "1       3.1          22  Hinkley & Matthews  \n",
       "2  to check         NaN                 GTO  \n",
       "3       4.2  Boccaletti                 NaN  \n",
       "4       2.4          36   Bonnefoy & Ménard  \n",
       "5       3.1          58   Bonnefoy & Ménard  "
      ]
     },
     "execution_count": 4,
     "metadata": {},
     "output_type": "execute_result"
    }
   ],
   "source": [
    "# Initialize the path to the wished data \n",
    "# -> supposed to be changed accordingly to the data/computer used\n",
    "infolder = '/Users/desgranc/Documents/work/projects/HD120326/data/'\n",
    "dF       = pd.read_csv(infolder + 'list_obs.txt',sep='\\t')\n",
    "dF.tail()"
   ]
  },
  {
   "cell_type": "code",
   "execution_count": 5,
   "metadata": {},
   "outputs": [
    {
     "name": "stdout",
     "output_type": "stream",
     "text": [
      "working directory: /Users/desgranc/Documents/work/projects/HD120326/data/reduced/MAYO/2019-07-09/IRDIS/\n",
      "saving directory: /Users/desgranc/Documents/work/projects/HD120326/data/reduced/MAYO/2019-07-09/IRDIS/run1/\n",
      "name save: HD_120326_MAYO_IRDIS_no_2019-07-09_blabla \n",
      "\n",
      "{'data_name': '2019-07-09/IRDIS', 'data_path': '/Users/desgranc/Documents/work/projects/HD120326/data/reduced/MAYO/', 'channel': 0, 'crop': 256, 'min_objective': 'huber_loss', 'conv': True, 'rank': 1, 'tol': 1e-05, 'max_iter': 5000, 'convex_formulation': True, 'greedy_n_iter': 10, 'greedy_n_iter_in_rank': 5, 'greedy_mask': 8, 'mask_center': 8, 'sparseBasis': 'shearlets', 'scales': 4, 'regularization': 'constraint', 'regularization_disk': 20000, 'regularization_planet': 0, 'exact_gradient': True, 'center_image': [127, 127]}\n"
     ]
    }
   ],
   "source": [
    "# Choose the target that you wish to reduce the data\n",
    "i_object = 5\n",
    "name_object = dF['target'].iloc[i_object] ; epoch = dF['epoch'].iloc[i_object] \n",
    "instru = dF['instrument'].iloc[i_object] ; band = dF['filter'].iloc[i_object]\n",
    "algorithm = 'MAYO'\n",
    "\n",
    "working_dir = infolder + 'reduced/' + algorithm + '/' + epoch + '/' + instru + '/'\n",
    "saving_dir  = working_dir + 'run1/'\n",
    "namesave    = '{}_{}_{}_{}_{}'.format(name_object,algorithm,instru,band,epoch)\n",
    "\n",
    "# Create directories if they do not exist\n",
    "os.makedirs(working_dir,exist_ok=True)\n",
    "#os.makedirs(saving_dir,exist_ok=True)\n",
    "\n",
    "print('working directory:', working_dir)\n",
    "print('saving directory:' , saving_dir)\n",
    "print('name save:' , namesave + '_blabla', '\\n')\n",
    "\n",
    "with open(working_dir+'parameters_algo.json', 'r') as read_file_parameters_algo:\n",
    "    parameters_algo = json.load(read_file_parameters_algo)\n",
    "\n",
    "print(parameters_algo)"
   ]
  },
  {
   "cell_type": "markdown",
   "metadata": {},
   "source": [
    "#### Add an axis to the dataset cube"
   ]
  },
  {
   "cell_type": "code",
   "execution_count": 4,
   "metadata": {},
   "outputs": [
    {
     "name": "stdout",
     "output_type": "stream",
     "text": [
      "Fits HDU-0 data and header successfully loaded. Data shape: (2, 56, 1024, 1024)\n"
     ]
    }
   ],
   "source": [
    "fn = '/inputs/ird_convert_recenter_dc2021-IRD_SCIENCE_REDUCED_MASTER_CUBE-center_im.fits'\n",
    "cube, header = vip.fits.open_fits(parameters_algo['data_path']+parameters_algo['data_name']+fn,header=True)"
   ]
  },
  {
   "cell_type": "code",
   "execution_count": 5,
   "metadata": {},
   "outputs": [],
   "source": [
    "cube_add_axis = np.array([cube])\n",
    "vip.fits.write_fits(parameters_algo['data_path']+parameters_algo['data_name']+'/cube_add_axis.fits', cube_add_axis, header=header, verbose=False)"
   ]
  },
  {
   "cell_type": "code",
   "execution_count": 1,
   "metadata": {},
   "outputs": [],
   "source": [
    "#help(super)"
   ]
  },
  {
   "cell_type": "markdown",
   "metadata": {},
   "source": [
    "## Run GreeDS\n",
    "\n",
    "GreeDS corresponds to the first guess given to Mayo."
   ]
  },
  {
   "cell_type": "code",
   "execution_count": 2,
   "metadata": {},
   "outputs": [
    {
     "ename": "NameError",
     "evalue": "name 'mayo_hci' is not defined",
     "output_type": "error",
     "traceback": [
      "\u001b[0;31m---------------------------------------------------------------------------\u001b[0m",
      "\u001b[0;31mNameError\u001b[0m                                 Traceback (most recent call last)",
      "\u001b[0;32m/var/folders/k2/sfv4r4z938l77n1t4ydth2v401phl2/T/ipykernel_28884/1130287770.py\u001b[0m in \u001b[0;36m<module>\u001b[0;34m\u001b[0m\n\u001b[0;32m----> 1\u001b[0;31m \u001b[0malgo\u001b[0m \u001b[0;34m=\u001b[0m \u001b[0mmayo_hci\u001b[0m\u001b[0;34m.\u001b[0m\u001b[0mall_ADI_sequence_mayonnaise_pipeline\u001b[0m\u001b[0;34m(\u001b[0m\u001b[0mworking_dir\u001b[0m\u001b[0;34m)\u001b[0m\u001b[0;34m\u001b[0m\u001b[0;34m\u001b[0m\u001b[0m\n\u001b[0m",
      "\u001b[0;31mNameError\u001b[0m: name 'mayo_hci' is not defined"
     ]
    }
   ],
   "source": [
    "algo = mayo_hci.all_ADI_sequence_mayonnaise_pipeline(working_dir)"
   ]
  },
  {
   "cell_type": "code",
   "execution_count": null,
   "metadata": {},
   "outputs": [],
   "source": []
  },
  {
   "cell_type": "code",
   "execution_count": 4,
   "metadata": {},
   "outputs": [
    {
     "name": "stdout",
     "output_type": "stream",
     "text": [
      "Help on class all_ADI_sequence_mayonnaise_pipeline in module mayo_hci.mayonnaise:\n",
      "\n",
      "class all_ADI_sequence_mayonnaise_pipeline(mayonnaise_pipeline)\n",
      " |  all_ADI_sequence_mayonnaise_pipeline(working_dir)\n",
      " |  \n",
      " |  Main instance of MAYO, solves optimization problem 27 from Pairet etal 2020\n",
      " |  \n",
      " |  Method resolution order:\n",
      " |      all_ADI_sequence_mayonnaise_pipeline\n",
      " |      mayonnaise_pipeline\n",
      " |      builtins.object\n",
      " |  \n",
      " |  Methods defined here:\n",
      " |  \n",
      " |  __init__(self, working_dir)\n",
      " |      Initialize self.  See help(type(self)) for accurate signature.\n",
      " |  \n",
      " |  define_optimization_function(self)\n",
      " |  \n",
      " |  mayonnaise_pipeline_initialisation(self)\n",
      " |  \n",
      " |  ----------------------------------------------------------------------\n",
      " |  Methods inherited from mayonnaise_pipeline:\n",
      " |  \n",
      " |  check_LLT_smallerOne(self, n_tests)\n",
      " |      Check that the norm of LL_T is smaller than 1/(delta gamma), see PD3O from Yan 2018 for details.\n",
      " |  \n",
      " |  check_M_positive_semidefinite(self, n_tests)\n",
      " |      The matrix xMx (as computed in compute_xMx) must be positive definite for PD3O from Yan 2018 to converge.\n",
      " |  \n",
      " |  compute_xMx(self, x)\n",
      " |  \n",
      " |  get_rotation_and_mask_info(self)\n",
      " |      Returns the information about the coroagraphic mask and the center of rotation\n",
      " |      used by mayo.\n",
      " |  \n",
      " |  mayonnaise_pipeline_iteration(self)\n",
      " |      A single iteration of the Primal-Dual Three-Operator splitting (PD3O) algorithm\n",
      " |      presented in Yan 2018, and used to solve the unmixing optimization problem of MAYO\n",
      " |      If convergence or max iter is reached, self.parameters_algo['stop-optim'] is set to\n",
      " |      'VAR_CONV' or 'MAX_ITER'\n",
      " |  \n",
      " |  run_GreeDS(self, force_GreeDS=False, spicy=False)\n",
      " |      run_GreeDS(self,force_GreeDS=False)\n",
      " |      \n",
      " |      Wrapper around GreeDS,  runs if GreeDS has not run before or force_GreeDS=True, then saves the results.\n",
      " |                                                      loads results otherwise\n",
      " |  \n",
      " |  set_disk_planet_regularization(self)\n",
      " |      Defines the loss and regularization functions used in mayo from self.parameters_algo\n",
      " |      Pairet etal 2020 shows that using the Huber Loss is better than both l1 and l2 norms\n",
      " |      and should be used by default.\n",
      " |  \n",
      " |  set_disk_regularization_parameter(self, parameter_disk)\n",
      " |  \n",
      " |  set_planet_regularization_parameter(self, parameter_planet)\n",
      " |  \n",
      " |  set_regularization_parameters(self, parameter_disk, parameter_planet)\n",
      " |  \n",
      " |  solve_optim(self)\n",
      " |      Solve optimization problem from Pairet etal. 2020, by calling mayonnaise_pipeline_iteration\n",
      " |      until self.parameters_algo['stop-optim'] is True\n",
      " |  \n",
      " |  ----------------------------------------------------------------------\n",
      " |  Data descriptors inherited from mayonnaise_pipeline:\n",
      " |  \n",
      " |  __dict__\n",
      " |      dictionary for instance variables (if defined)\n",
      " |  \n",
      " |  __weakref__\n",
      " |      list of weak references to the object (if defined)\n",
      "\n"
     ]
    }
   ],
   "source": [
    "help(mayo_hci.all_ADI_sequence_mayonnaise_pipeline)"
   ]
  },
  {
   "cell_type": "code",
   "execution_count": 3,
   "metadata": {},
   "outputs": [],
   "source": [
    "import mayo_hci"
   ]
  },
  {
   "cell_type": "code",
   "execution_count": null,
   "metadata": {},
   "outputs": [],
   "source": []
  },
  {
   "cell_type": "code",
   "execution_count": 52,
   "metadata": {},
   "outputs": [
    {
     "name": "stdout",
     "output_type": "stream",
     "text": [
      "292\n",
      "292\n"
     ]
    },
    {
     "data": {
      "text/plain": [
       "<matplotlib.image.AxesImage at 0x175ea8a10>"
      ]
     },
     "execution_count": 52,
     "metadata": {},
     "output_type": "execute_result"
    },
    {
     "data": {
      "image/png": "[encoded data removed]",
      "text/plain": [
       "<Figure size 1440x720 with 2 Axes>"
      ]
     },
     "metadata": {
      "needs_background": "light"
     },
     "output_type": "display_data"
    }
   ],
   "source": [
    "rotation_center_and_mask, data_overlay_rotation_center_and_mask = algo.get_rotation_and_mask_info()\n",
    "fig,ax = plt.subplots(1,2,figsize=(20,10))\n",
    "crop=240\n",
    "ax[0].imshow(rotation_center_and_mask[crop:-crop,crop:-crop],origin='lower')\n",
    "ax[1].imshow(data_overlay_rotation_center_and_mask[crop:-crop,crop:-crop],origin='lower')\n",
    "plt.savefig('{}_centrage_292_292_2.png'.format(name_object))"
   ]
  },
  {
   "cell_type": "code",
   "execution_count": 53,
   "metadata": {},
   "outputs": [
    {
     "data": {
      "image/png": "[encoded data removed]",
      "text/plain": [
       "<Figure size 432x288 with 1 Axes>"
      ]
     },
     "metadata": {
      "needs_background": "light"
     },
     "output_type": "display_data"
    }
   ],
   "source": [
    "plt.plot(algo.negative_log_hist_x,algo.negative_log_hist_y,'o')\n",
    "delta = algo.fitted_pw[0]\n",
    "c = algo.fitted_pw[1]\n",
    "fitted_huber = mayo_hci.operators.compute_huber_loss(algo.negative_log_hist_x,delta,c)\n",
    "plt.title('Huberloss fitting for {} in {} at {}'.format(name_object.replace('_',' '),band,epoch))\n",
    "plt.plot(algo.negative_log_hist_x,fitted_huber)\n",
    "plt.savefig(saving_dir + namesave + '_huberloss2.png')"
   ]
  },
  {
   "cell_type": "markdown",
   "metadata": {},
   "source": [
    "## Solve optimisation \n",
    "\n",
    "#### Quicker way: \n",
    "\n",
    "when one knows the optimal constraints to put on the disc and planet. \n",
    "These constraints have to be indicated in the .json file as: \"regularization_disk\" and \"regularization_planet\"."
   ]
  },
  {
   "cell_type": "code",
   "execution_count": 6,
   "metadata": {},
   "outputs": [],
   "source": [
    "algo.solve_optim()\n",
    "\n",
    "print('Optimization ends\\n\\n:)\\n\\n')\n",
    "\n",
    "vip.fits.write_fits(saving_dir+namesave+'_disc.fits',algo.X[0],verbose=False)\n",
    "vip.fits.write_fits(saving_dir+namesave+'_planet.fits',algo.X[1],verbose=False)\n",
    "vip.fits.write_fits(saving_dir+namesave+'_disc_planet.fits',algo.X[0]+algo.X[1],verbose=False)\n",
    "vip.fits.write_fits(saving_dir+namesave+'_res.fits',algo.noisy_disk_planet - algo.conv_op(algo.X[0] + algo.X[1]),verbose=False)\n",
    "\n",
    "np.savetxt(saving_dir+namesave+'_list_convergence.txt',np.array(algo.convergence))\n",
    "\n",
    "\n",
    "print('All the files saved here: {} \\n\\n:)\\n\\n'.format(saving_dir))"
   ]
  },
  {
   "cell_type": "markdown",
   "metadata": {},
   "source": [
    "#### Longer way: \n",
    "\n",
    "when one wants to try different constraints for disk or planet lifespace."
   ]
  },
  {
   "cell_type": "code",
   "execution_count": 13,
   "metadata": {},
   "outputs": [],
   "source": [
    "list_constraint_disk = np.linspace(50000,16000,5) # a decommenter la deuxieme fois\n",
    "planet_constraint = 300\n",
    "\n",
    "list_planet = np.zeros((len(list_constraint_disk),algo.n,algo.n))\n",
    "list_disk = np.zeros((len(list_constraint_disk),algo.n,algo.n))\n",
    "list_d_p = np.zeros((len(list_constraint_disk),algo.n,algo.n))\n",
    "list_residuals = np.zeros((len(list_constraint_disk),algo.n,algo.n))\n",
    "AC_score_residuals = np.zeros(len(list_constraint_disk))\n",
    "\n",
    "list_convergence = []"
   ]
  },
  {
   "cell_type": "code",
   "execution_count": null,
   "metadata": {
    "scrolled": true
   },
   "outputs": [
    {
     "name": "stdout",
     "output_type": "stream",
     "text": [
      "Optimization begins\n",
      "Disk constraint 22000.0\n"
     ]
    },
    {
     "name": "stderr",
     "output_type": "stream",
     "text": [
      "/opt/miniconda3/lib/python3.7/site-packages/numpy/lib/function_base.py:792: VisibleDeprecationWarning: Creating an ndarray from ragged nested sequences (which is a list-or-tuple of lists-or-tuples-or ndarrays with different lengths or shapes) is deprecated. If you meant to do this, you must specify 'dtype=object' when creating the ndarray\n",
      "  return array(a, order=order, subok=subok, copy=True)\n"
     ]
    },
    {
     "name": "stdout",
     "output_type": "stream",
     "text": [
      " at iteration 1, convergence is 6.83280e-02\n",
      "For disk constraint 22000.0 and at iteration 1 the convergence is 0.06832801023508653\n",
      "saving files\n",
      " at iteration 1001, convergence is 3.84333e-03performing 20/20 iterations of MCA.A.\n",
      "For disk constraint 22000.0 and at iteration 1001 the convergence is 0.003843332816307554\n",
      "saving files\n",
      " at iteration 2001, convergence is 2.70056e-03\n",
      "For disk constraint 22000.0 and at iteration 2001 the convergence is 0.0027005594255508935\n",
      "saving files\n",
      " at iteration 3001, convergence is 2.19262e-03\n",
      "For disk constraint 22000.0 and at iteration 3001 the convergence is 0.0021926244254674384\n",
      "saving files\n",
      " at iteration 4001, convergence is 1.88916e-03\n",
      "For disk constraint 22000.0 and at iteration 4001 the convergence is 0.0018891602766133032\n",
      "saving files\n",
      " at iteration 5000, convergence is 1.68296e-03\n",
      "Optimization for disk constraint 22000.0 finished at iteration 5000  with a convergence of 0.0016829606933949752\n",
      "saving files\n",
      "Disk constraint 20500.0\n",
      " at iteration 1, convergence is 1.16309e-02\n",
      "For disk constraint 20500.0 and at iteration 1 the convergence is 0.011630854034245372\n",
      "saving files\n",
      " at iteration 1001, convergence is 1.52336e-03performing 20/20 iterations of MCA.A.\n",
      "For disk constraint 20500.0 and at iteration 1001 the convergence is 0.001523360753795317\n",
      "saving files\n",
      " at iteration 2001, convergence is 1.37110e-03\n",
      "For disk constraint 20500.0 and at iteration 2001 the convergence is 0.0013710977992601704\n",
      "saving files\n",
      " at iteration 3001, convergence is 1.25036e-03\n",
      "For disk constraint 20500.0 and at iteration 3001 the convergence is 0.0012503615630800608\n",
      "saving files\n",
      " at iteration 4001, convergence is 1.14933e-03\n",
      "For disk constraint 20500.0 and at iteration 4001 the convergence is 0.0011493283537958813\n",
      "saving files\n",
      " at iteration 5000, convergence is 1.05822e-03\n",
      "Optimization for disk constraint 20500.0 finished at iteration 5000  with a convergence of 0.0010582234445485298\n",
      "saving files\n",
      "Disk constraint 19000.0\n",
      " at iteration 1, convergence is 1.25420e-02\n",
      "For disk constraint 19000.0 and at iteration 1 the convergence is 0.012541975553938246\n",
      "saving files\n",
      " at iteration 1001, convergence is 9.85942e-04performing 20/20 iterations of MCA.A.\n",
      "For disk constraint 19000.0 and at iteration 1001 the convergence is 0.000985942248467497\n",
      "saving files\n",
      " at iteration 2001, convergence is 8.87955e-04\n",
      "For disk constraint 19000.0 and at iteration 2001 the convergence is 0.0008879551818740102\n",
      "saving files\n",
      " at iteration 3001, convergence is 8.15132e-04\n",
      "For disk constraint 19000.0 and at iteration 3001 the convergence is 0.0008151322270728662\n",
      "saving files\n",
      " at iteration 4001, convergence is 7.58619e-04\n",
      "For disk constraint 19000.0 and at iteration 4001 the convergence is 0.000758618646403436\n",
      "saving files\n",
      " at iteration 5000, convergence is 7.02644e-04\n",
      "Optimization for disk constraint 19000.0 finished at iteration 5000  with a convergence of 0.0007026436541904351\n",
      "saving files\n",
      "Disk constraint 17500.0\n",
      " at iteration 1, convergence is 1.44832e-02\n",
      "For disk constraint 17500.0 and at iteration 1 the convergence is 0.014483167369900997\n",
      "saving files\n",
      " at iteration 1001, convergence is 6.57534e-04performing 20/20 iterations of MCA.A.\n",
      "For disk constraint 17500.0 and at iteration 1001 the convergence is 0.0006575338335007476\n",
      "saving files\n",
      " at iteration 2001, convergence is 5.65155e-04\n",
      "For disk constraint 17500.0 and at iteration 2001 the convergence is 0.0005651552873850738\n",
      "saving files\n",
      " at iteration 3001, convergence is 5.15311e-04\n",
      "For disk constraint 17500.0 and at iteration 3001 the convergence is 0.0005153111730015337\n",
      "saving files\n",
      " at iteration 3020, convergence is 5.14352e-04"
     ]
    }
   ],
   "source": [
    "print('Optimization begins')\n",
    "for i, disk_constraint in enumerate(list_constraint_disk):\n",
    "    print('Disk constraint',disk_constraint)\n",
    "    params_d_p =  str(disk_constraint) + '_' + str(planet_constraint) \n",
    "    algo.set_disk_regularization_parameter(disk_constraint)\n",
    "    n_iter_mca = 300\n",
    "    while not algo.parameters_algo['stop-optim']:\n",
    "        algo.mayonnaise_pipeline_iteration()\n",
    "        if algo.n_iter%10 == 0 and n_iter_mca>0:\n",
    "            algo.internal_MCA_mayonnaise_pipeline_iteration(n_iter_mca)\n",
    "            n_iter_mca -= algo.n_iter\n",
    "        \n",
    "        # Save premilenary files\n",
    "        if (algo.n_iter-1) < 50 :\n",
    "            algo.residuals = algo.noisy_disk_planet - algo.conv_op(algo.X[0] + algo.X[1])\n",
    "            \n",
    "            print('\\nFor disk constraint',disk_constraint,'and at iteration', algo.n_iter, 'the convergence is', algo.convergence[algo.n_iter-1])\n",
    "            print('saving files')\n",
    "            str_iter = '_iter' + str(algo.n_iter)\n",
    "            vip.fits.write_fits(saving_dir + params_d_p + str_iter + '_x_d.fits',algo.X[0],verbose=False)\n",
    "            vip.fits.write_fits(saving_dir + params_d_p + str_iter + '_x_p.fits',algo.X[1],verbose=False)\n",
    "            vip.fits.write_fits(saving_dir + params_d_p + str_iter + '_x_d_p.fits',algo.X[0]+algo.X[1],verbose=False)\n",
    "            vip.fits.write_fits(saving_dir + params_d_p + str_iter + '_x_res',algo.residuals,verbose=False)\n",
    "\n",
    "\n",
    "        elif (algo.n_iter-1)%1000 == 0 :\n",
    "            algo.residuals = algo.noisy_disk_planet - algo.conv_op(algo.X[0] + algo.X[1])\n",
    "            \n",
    "            print('\\nFor disk constraint',disk_constraint,'and at iteration', algo.n_iter, 'the convergence is', algo.convergence[algo.n_iter-1])\n",
    "            print('saving files')\n",
    "            str_iter = '_iter' + str(algo.n_iter)\n",
    "            vip.fits.write_fits(saving_dir + params_d_p + str_iter + '_x_d.fits',algo.X[0],verbose=False)\n",
    "            vip.fits.write_fits(saving_dir + params_d_p + str_iter + '_x_p.fits',algo.X[1],verbose=False)\n",
    "            vip.fits.write_fits(saving_dir + params_d_p + str_iter + '_x_d_p.fits',algo.X[0]+algo.X[1],verbose=False)\n",
    "            vip.fits.write_fits(saving_dir + params_d_p + str_iter + '_x_res',algo.residuals,verbose=False)\n",
    "\n",
    "    algo.residuals = algo.noisy_disk_planet - algo.conv_op(algo.X[0] + algo.X[1])\n",
    "    \n",
    "    list_disk[i,:,:]   = np.copy(algo.X[0])\n",
    "    list_planet[i,:,:] = np.copy(algo.X[1])\n",
    "    list_d_p[i,:,:]    = list_disk[i,:,:] + list_planet[i,:,:]\n",
    "    list_residuals[i, :, :] = np.copy(algo.residuals)\n",
    "    list_convergence.append(algo.convergence)\n",
    "    \n",
    "    # save files as single images in .fits\n",
    "    print('\\nOptimization for disk constraint',disk_constraint,'finished at iteration',algo.n_iter, ' with a convergence of', algo.convergence[algo.n_iter-1])\n",
    "    print('saving files')\n",
    "    vip.fits.write_fits(saving_dir + '{}_disc_{}.fits'.format(namesave,params_d_p), algo.X[0],verbose=False)\n",
    "    vip.fits.write_fits(saving_dir + '{}_planet_{}.fits'.format(namesave,params_d_p), algo.X[1],verbose=False)\n",
    "    vip.fits.write_fits(saving_dir + '{}_global_{}.fits'.format(namesave,params_d_p), algo.X[0]+algo.X[1],verbose=False)\n",
    "    vip.fits.write_fits(saving_dir + '{}_res_{}.fits'.format(namesave,params_d_p), algo.residuals,verbose=False)\n",
    "    np.savetxt(saving_dir + '{}_list_convergence_{}.txt'.format(namesave,params_d_p),np.array(list_convergence[i]))\n",
    "\n",
    "    algo.n_iter = 0\n",
    "    algo.convergence *= 0\n",
    "    algo.parameters_algo['stop-optim'] = False\n",
    "    \n",
    "print('Optimization ends\\n\\n:)\\n\\n')\n",
    "\n",
    "\n",
    "vip.fits.write_fits(saving_dir+'{}_disc.fits'.format(namesave),list_disk,verbose=False)\n",
    "vip.fits.write_fits(saving_dir+'{}_planet.fits'.format(namesave),list_planet,verbose=False)\n",
    "vip.fits.write_fits(saving_dir+'{}_global.fits'.format(namesave),list_d_p,verbose=False)\n",
    "vip.fits.write_fits(saving_dir+'{}_res.fits'.format(namesave),list_residuals,verbose=False)\n",
    "\n",
    "np.savetxt(saving_dir+namesave+'_list_disk_constraint.txt',np.array([list_constraint_disk]),fmt='%.2f')\n",
    "np.savetxt(saving_dir+namesave+'_list_constraint_planet.txt',np.array([planet_constraint]),fmt='%.2f')\n",
    "np.savetxt(saving_dir+namesave+'_list_convergence.txt',np.array(list_convergence))\n",
    "\n",
    "\n",
    "print('All the files saved here: {} \\n\\n:)\\n\\n'.format(saving_dir))"
   ]
  }
 ],
 "metadata": {
  "kernelspec": {
   "display_name": "Python 3 (ipykernel)",
   "language": "python",
   "name": "python3"
  },
  "language_info": {
   "codemirror_mode": {
    "name": "ipython",
    "version": 3
   },
   "file_extension": ".py",
   "mimetype": "text/x-python",
   "name": "python",
   "nbconvert_exporter": "python",
   "pygments_lexer": "ipython3",
   "version": "3.9.12"
  }
 },
 "nbformat": 4,
 "nbformat_minor": 4
}
