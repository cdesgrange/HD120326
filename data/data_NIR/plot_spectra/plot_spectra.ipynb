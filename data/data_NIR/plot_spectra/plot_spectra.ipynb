{
 "cells": [
  {
   "cell_type": "markdown",
   "id": "d86b03da",
   "metadata": {},
   "source": [
    "\n",
    "_Written by Célia Desgrange, 2022-12-13. \n",
    "_Revised by Célia:_"
   ]
  },
  {
   "cell_type": "code",
   "execution_count": 1,
   "id": "261bfb71",
   "metadata": {},
   "outputs": [],
   "source": [
    "import glob\n",
    "import numpy as np\n",
    "import time, os\n",
    "\n",
    "#from astropy.convolution import (convolve_fft, convolve, Gaussian2DKernel)\n",
    "\n",
    "#import vip_hci as vip\n",
    "#from astropy.io import fits\n",
    "#import cv2 \n",
    "\n",
    "from import_functions_generic import * \n",
    "from import_functions_plotting import * \n",
    "\n",
    "from functions_background import *\n",
    "from functions_derive_noise_map import *\n",
    "\n",
    "#from image_manipulation import * \n"
   ]
  },
  {
   "cell_type": "code",
   "execution_count": 2,
   "id": "3f8e7d3e",
   "metadata": {},
   "outputs": [
    {
     "ename": "SyntaxError",
     "evalue": "invalid syntax (1874230642.py, line 2)",
     "output_type": "error",
     "traceback": [
      "\u001b[0;36m  Input \u001b[0;32mIn [2]\u001b[0;36m\u001b[0m\n\u001b[0;31m    help(frame_basic_stats) []\u001b[0m\n\u001b[0m                             ^\u001b[0m\n\u001b[0;31mSyntaxError\u001b[0m\u001b[0;31m:\u001b[0m invalid syntax\n"
     ]
    }
   ],
   "source": [
    "from vip_hci.stats import frame_basic_stats\n",
    "help(frame_basic_stats) []"
   ]
  },
  {
   "cell_type": "code",
   "execution_count": null,
   "id": "59073cb9",
   "metadata": {},
   "outputs": [],
   "source": []
  },
  {
   "cell_type": "code",
   "execution_count": null,
   "id": "e62b21a9",
   "metadata": {},
   "outputs": [],
   "source": [
    "help(display)"
   ]
  },
  {
   "cell_type": "code",
   "execution_count": null,
   "id": "27cf9962",
   "metadata": {},
   "outputs": [],
   "source": []
  },
  {
   "cell_type": "code",
   "execution_count": 3,
   "id": "fa573db9",
   "metadata": {},
   "outputs": [],
   "source": [
    "plt.style.use('classic')  \n",
    "mpl.rc('image', cmap='viridis', origin='lower')\n",
    "rcParams.update({'font.size': 14,  'axes.labelsize' : 14, 'legend.fontsize' : 12,\n",
    "                 \"font.family\": \"serif\", 'text.usetex' : True, \"font.serif\": [], \"font.sans-serif\": [], 'mathtext.fontset':\"stix\",\n",
    "'legend.handlelength': 1.5, 'legend.borderaxespad' : 0.8, 'legend.columnspacing' : 1, 'legend.handletextpad' : 0.5})"
   ]
  },
  {
   "cell_type": "code",
   "execution_count": 4,
   "id": "e52404a9",
   "metadata": {},
   "outputs": [],
   "source": [
    "L = time.localtime()\n",
    "date = \"{}-{}-{}\".format(L[0],L[1],L[2],L[3],L[4],L[5])\n",
    "\n",
    "saving_dir = 'figs/fig_v{}/'.format(date)\n",
    "os.makedirs(saving_dir,exist_ok=True)"
   ]
  },
  {
   "cell_type": "markdown",
   "id": "5a36d369",
   "metadata": {},
   "source": [
    "# List of observations"
   ]
  },
  {
   "cell_type": "code",
   "execution_count": 5,
   "id": "c0ddc82f",
   "metadata": {},
   "outputs": [
    {
     "data": {
      "text/html": [
       "<div>\n",
       "<style scoped>\n",
       "    .dataframe tbody tr th:only-of-type {\n",
       "        vertical-align: middle;\n",
       "    }\n",
       "\n",
       "    .dataframe tbody tr th {\n",
       "        vertical-align: top;\n",
       "    }\n",
       "\n",
       "    .dataframe thead th {\n",
       "        text-align: right;\n",
       "    }\n",
       "</style>\n",
       "<table border=\"1\" class=\"dataframe\">\n",
       "  <thead>\n",
       "    <tr style=\"text-align: right;\">\n",
       "      <th></th>\n",
       "      <th>target</th>\n",
       "      <th>epoch</th>\n",
       "      <th>instrument</th>\n",
       "      <th>polar</th>\n",
       "      <th>filter</th>\n",
       "      <th>quality</th>\n",
       "      <th>seeing (\")</th>\n",
       "      <th>tau0 (ms)</th>\n",
       "      <th>delta pa (deg)</th>\n",
       "      <th>PI</th>\n",
       "      <th>DIT (s)</th>\n",
       "      <th>Nb frames</th>\n",
       "      <th>Total exposure (min)</th>\n",
       "    </tr>\n",
       "  </thead>\n",
       "  <tbody>\n",
       "    <tr>\n",
       "      <th>0</th>\n",
       "      <td>HD_120326</td>\n",
       "      <td>2016-04-05</td>\n",
       "      <td>IRDIS</td>\n",
       "      <td>no</td>\n",
       "      <td>H23</td>\n",
       "      <td>good</td>\n",
       "      <td>1.1</td>\n",
       "      <td>3.5</td>\n",
       "      <td>37</td>\n",
       "      <td>Bonnefoy &amp; Ménard</td>\n",
       "      <td>32.0</td>\n",
       "      <td>128.0</td>\n",
       "      <td>68.0</td>\n",
       "    </tr>\n",
       "    <tr>\n",
       "      <th>1</th>\n",
       "      <td>HD_120326</td>\n",
       "      <td>2016-06-03</td>\n",
       "      <td>IRDIS</td>\n",
       "      <td>no</td>\n",
       "      <td>H23</td>\n",
       "      <td>good</td>\n",
       "      <td>0.71</td>\n",
       "      <td>3.1</td>\n",
       "      <td>22</td>\n",
       "      <td>Hinkley &amp; Matthews</td>\n",
       "      <td>32.0</td>\n",
       "      <td>80.0</td>\n",
       "      <td>43.0</td>\n",
       "    </tr>\n",
       "    <tr>\n",
       "      <th>2</th>\n",
       "      <td>HD_120326</td>\n",
       "      <td>2016-06-13</td>\n",
       "      <td>IRDIS</td>\n",
       "      <td>no</td>\n",
       "      <td>J23</td>\n",
       "      <td>to check</td>\n",
       "      <td>to check</td>\n",
       "      <td>to check</td>\n",
       "      <td>NaN</td>\n",
       "      <td>GTO</td>\n",
       "      <td>NaN</td>\n",
       "      <td>NaN</td>\n",
       "      <td>NaN</td>\n",
       "    </tr>\n",
       "    <tr>\n",
       "      <th>3</th>\n",
       "      <td>HD_120326</td>\n",
       "      <td>2018-06-01</td>\n",
       "      <td>IRDIS</td>\n",
       "      <td>yes</td>\n",
       "      <td>BB_H</td>\n",
       "      <td>very good</td>\n",
       "      <td>0.45</td>\n",
       "      <td>4.2</td>\n",
       "      <td>Boccaletti</td>\n",
       "      <td>NaN</td>\n",
       "      <td>NaN</td>\n",
       "      <td>NaN</td>\n",
       "      <td>NaN</td>\n",
       "    </tr>\n",
       "    <tr>\n",
       "      <th>4</th>\n",
       "      <td>HD_120326</td>\n",
       "      <td>2019-06-26</td>\n",
       "      <td>IRDIS</td>\n",
       "      <td>no</td>\n",
       "      <td>BB_H</td>\n",
       "      <td>very bad</td>\n",
       "      <td>1.84</td>\n",
       "      <td>2.4</td>\n",
       "      <td>36</td>\n",
       "      <td>Bonnefoy &amp; Ménard</td>\n",
       "      <td>NaN</td>\n",
       "      <td>NaN</td>\n",
       "      <td>NaN</td>\n",
       "    </tr>\n",
       "    <tr>\n",
       "      <th>5</th>\n",
       "      <td>HD_120326</td>\n",
       "      <td>2019-07-09</td>\n",
       "      <td>IRDIS</td>\n",
       "      <td>no</td>\n",
       "      <td>BB_H</td>\n",
       "      <td>very good</td>\n",
       "      <td>0.54</td>\n",
       "      <td>3.1</td>\n",
       "      <td>58</td>\n",
       "      <td>Bonnefoy &amp; Ménard</td>\n",
       "      <td>32.0</td>\n",
       "      <td>224.0</td>\n",
       "      <td>119.0</td>\n",
       "    </tr>\n",
       "    <tr>\n",
       "      <th>6</th>\n",
       "      <td>HD_120326</td>\n",
       "      <td>2016-04-05</td>\n",
       "      <td>IFS</td>\n",
       "      <td>no</td>\n",
       "      <td>YJ</td>\n",
       "      <td>good</td>\n",
       "      <td>1.1</td>\n",
       "      <td>3.5</td>\n",
       "      <td>37</td>\n",
       "      <td>Bonnefoy &amp; Ménard</td>\n",
       "      <td>64.0</td>\n",
       "      <td>64.0</td>\n",
       "      <td>68.0</td>\n",
       "    </tr>\n",
       "    <tr>\n",
       "      <th>7</th>\n",
       "      <td>HD_120326</td>\n",
       "      <td>2016-06-03</td>\n",
       "      <td>IFS</td>\n",
       "      <td>no</td>\n",
       "      <td>YJ</td>\n",
       "      <td>good</td>\n",
       "      <td>0.71</td>\n",
       "      <td>3.1</td>\n",
       "      <td>22</td>\n",
       "      <td>Hinkley &amp; Matthews</td>\n",
       "      <td>64.0</td>\n",
       "      <td>40.0</td>\n",
       "      <td>43.0</td>\n",
       "    </tr>\n",
       "    <tr>\n",
       "      <th>8</th>\n",
       "      <td>HD_120326</td>\n",
       "      <td>2019-06-26</td>\n",
       "      <td>IFS</td>\n",
       "      <td>no</td>\n",
       "      <td>YJ</td>\n",
       "      <td>very bad</td>\n",
       "      <td>1.84</td>\n",
       "      <td>2.4</td>\n",
       "      <td>36</td>\n",
       "      <td>Bonnefoy &amp; Ménard</td>\n",
       "      <td>NaN</td>\n",
       "      <td>NaN</td>\n",
       "      <td>NaN</td>\n",
       "    </tr>\n",
       "    <tr>\n",
       "      <th>9</th>\n",
       "      <td>HD_120326</td>\n",
       "      <td>2019-07-09</td>\n",
       "      <td>IFS</td>\n",
       "      <td>no</td>\n",
       "      <td>YJ</td>\n",
       "      <td>very good</td>\n",
       "      <td>0.54</td>\n",
       "      <td>3.1</td>\n",
       "      <td>58</td>\n",
       "      <td>Bonnefoy &amp; Ménard</td>\n",
       "      <td>64.0</td>\n",
       "      <td>112.0</td>\n",
       "      <td>119.0</td>\n",
       "    </tr>\n",
       "  </tbody>\n",
       "</table>\n",
       "</div>"
      ],
      "text/plain": [
       "      target       epoch instrument polar filter    quality seeing (\")  \\\n",
       "0  HD_120326  2016-04-05      IRDIS    no    H23       good        1.1   \n",
       "1  HD_120326  2016-06-03      IRDIS    no    H23       good       0.71   \n",
       "2  HD_120326  2016-06-13      IRDIS    no    J23   to check   to check   \n",
       "3  HD_120326  2018-06-01      IRDIS   yes   BB_H  very good       0.45   \n",
       "4  HD_120326  2019-06-26      IRDIS    no   BB_H   very bad       1.84   \n",
       "5  HD_120326  2019-07-09      IRDIS    no   BB_H  very good       0.54   \n",
       "6  HD_120326  2016-04-05        IFS    no     YJ       good        1.1   \n",
       "7  HD_120326  2016-06-03        IFS    no     YJ       good       0.71   \n",
       "8  HD_120326  2019-06-26        IFS    no     YJ   very bad       1.84   \n",
       "9  HD_120326  2019-07-09        IFS    no     YJ  very good       0.54   \n",
       "\n",
       "  tau0 (ms) delta pa (deg)                  PI  DIT (s)  Nb frames  \\\n",
       "0       3.5             37   Bonnefoy & Ménard     32.0      128.0   \n",
       "1       3.1             22  Hinkley & Matthews     32.0       80.0   \n",
       "2  to check            NaN                 GTO      NaN        NaN   \n",
       "3       4.2     Boccaletti                 NaN      NaN        NaN   \n",
       "4       2.4             36   Bonnefoy & Ménard      NaN        NaN   \n",
       "5       3.1             58   Bonnefoy & Ménard     32.0      224.0   \n",
       "6       3.5             37   Bonnefoy & Ménard     64.0       64.0   \n",
       "7       3.1             22  Hinkley & Matthews     64.0       40.0   \n",
       "8       2.4             36   Bonnefoy & Ménard      NaN        NaN   \n",
       "9       3.1             58   Bonnefoy & Ménard     64.0      112.0   \n",
       "\n",
       "   Total exposure (min)  \n",
       "0                  68.0  \n",
       "1                  43.0  \n",
       "2                   NaN  \n",
       "3                   NaN  \n",
       "4                   NaN  \n",
       "5                 119.0  \n",
       "6                  68.0  \n",
       "7                  43.0  \n",
       "8                   NaN  \n",
       "9                 119.0  "
      ]
     },
     "execution_count": 5,
     "metadata": {},
     "output_type": "execute_result"
    }
   ],
   "source": [
    "# Initialize the path to the wished data \n",
    "# -> supposed to be changed accordingly to the data/computer used\n",
    "infolder = '/Users/desgranc/Documents/work/projects/HD120326/data/'\n",
    "folder_prereduced = 'prereduced/convert/'\n",
    "folder_reduced = 'reduced/'\n",
    "dF       = pd.read_csv(infolder + 'list_obs.txt',sep='\\t')\n",
    "dF"
   ]
  },
  {
   "cell_type": "markdown",
   "id": "8db40986",
   "metadata": {},
   "source": [
    "## General parameters"
   ]
  },
  {
   "cell_type": "code",
   "execution_count": 6,
   "id": "52fb1052",
   "metadata": {},
   "outputs": [
    {
     "data": {
      "text/html": [
       "<svg  width=\"385\" height=\"55\"><rect x=\"0\" y=\"0\" width=\"55\" height=\"55\" style=\"fill:#0000ff;stroke-width:2;stroke:rgb(255,255,255)\"/><rect x=\"55\" y=\"0\" width=\"55\" height=\"55\" style=\"fill:#85cceb;stroke-width:2;stroke:rgb(255,255,255)\"/><rect x=\"110\" y=\"0\" width=\"55\" height=\"55\" style=\"fill:#ff69b4;stroke-width:2;stroke:rgb(255,255,255)\"/><rect x=\"165\" y=\"0\" width=\"55\" height=\"55\" style=\"fill:#81037e;stroke-width:2;stroke:rgb(255,255,255)\"/><rect x=\"220\" y=\"0\" width=\"55\" height=\"55\" style=\"fill:#ffd700;stroke-width:2;stroke:rgb(255,255,255)\"/><rect x=\"275\" y=\"0\" width=\"55\" height=\"55\" style=\"fill:#ff0200;stroke-width:2;stroke:rgb(255,255,255)\"/><rect x=\"330\" y=\"0\" width=\"55\" height=\"55\" style=\"fill:#ffa500;stroke-width:2;stroke:rgb(255,255,255)\"/></svg>"
      ],
      "text/plain": [
       "[(0.0, 0.0, 1.0),\n",
       " (0.5231833910034602, 0.7983391003460208, 0.9224913494809688),\n",
       " (1.0, 0.4117647058823529, 0.7058823529411765),\n",
       " (0.5078200692041522, 0.00991926182237601, 0.4960553633217993),\n",
       " (1.0, 0.8431372549019608, 0.0),\n",
       " (1.0, 0.007612456747405272, 0.0),\n",
       " (1.0, 0.6470588235294118, 0.0)]"
      ]
     },
     "metadata": {},
     "output_type": "display_data"
    }
   ],
   "source": [
    "# cmaps\n",
    "cmap_dark_red =  seaborn.blend_palette([[1,0,0],'crimson','firebrick','darkred',[0.3,0,0]], as_cmap=True)\n",
    "cmap_red = seaborn.blend_palette(['white',[1,0.95,0],'orange', 'red'], as_cmap=True)\n",
    "cmap_orange = seaborn.blend_palette(['white',[1,0.95,0],'gold'], as_cmap=True)\n",
    "cmap_pinkish = seaborn.blend_palette(['white',[1,0.5,1],'purple', 'blue'], as_cmap=True)\n",
    "cmap_pink = seaborn.blend_palette(['white',[1,0.4,1],[0.8,0,0.7],[0.75,0,0.7]], as_cmap=True)\n",
    "cmap_blue = seaborn.blend_palette(['white',[0.5,0.9,1], [0,0.5,1],  [0,0,1]], as_cmap=True)\n",
    "cmap_blue_light = seaborn.blend_palette(['white',[0.5,0.9,1], [0,0.5,1]], as_cmap=True)\n",
    "cmap_white = seaborn.blend_palette(['white', 'ivory'], as_cmap=True)\n",
    "cmap = cmap_white\n",
    "\n",
    "list_rainbow = ['blue','skyblue','hotpink', 'purple','gold','red','orange']\n",
    "colors_rainbow = seaborn.blend_palette(list_rainbow,7)\n",
    "display(colors_rainbow)\n",
    "\n",
    "MARKERS_IFS = ['<','>','<','>','D','D','o']\n",
    "COLORS_IFS = colors_rainbow"
   ]
  },
  {
   "cell_type": "code",
   "execution_count": 9,
   "id": "56fd2dec",
   "metadata": {},
   "outputs": [],
   "source": [
    "# Image - observation\n",
    "pixel_scale=0.01225 # pixel scale in arcsec/px \n",
    "platescale = pixel_scale*1e3\n",
    "scalebar_pix, scalebar_leg = 1000, '1\"'\n",
    "nx = 624 # number of pixels of your image in X\n",
    "ny = 624 # number of pixels of your image in Y\n",
    "\n",
    "# Save file .fits\n",
    "writeto = False # save .fits file\n",
    "\n",
    "# Figure\n",
    "add_colorbar=0\n",
    "figsize_rectange, figsize_square  = (4,3), (3,3)\n",
    "figsize = np.where(add_colorbar, figsize_rectange, figsize_square)\n",
    "left, right = 0.01, float(np.where(add_colorbar, 0.78, 0.99))\n",
    "top, bottom = float(np.where(add_colorbar, 0.95, 0.99)), float(np.where(add_colorbar, 0.05, 0.01))\n",
    "im_crop = 250\n",
    "save_png = 1    # save .png file\n",
    "cbar_xdeb = 0.83\n",
    "scalebar_pix, scalebar_leg = 100, '0.1\"'\n",
    "\n",
    "text_xfrac, text_yfrac = 0.03, 0.84\n",
    "filt='H'"
   ]
  },
  {
   "cell_type": "markdown",
   "id": "951e83b3",
   "metadata": {},
   "source": [
    "# IFS"
   ]
  },
  {
   "cell_type": "markdown",
   "id": "47506d13",
   "metadata": {},
   "source": [
    "## Parameters"
   ]
  },
  {
   "cell_type": "code",
   "execution_count": 11,
   "id": "83e4105e",
   "metadata": {},
   "outputs": [],
   "source": [
    "im_crop_PCA = 8 #9 #im_crop_PCA\n",
    "im_crop_mask = 8"
   ]
  },
  {
   "cell_type": "markdown",
   "id": "10e097d6",
   "metadata": {},
   "source": [
    "## MASK"
   ]
  },
  {
   "cell_type": "code",
   "execution_count": 12,
   "id": "c6e93bff",
   "metadata": {},
   "outputs": [
    {
     "data": {
      "text/plain": [
       "(240, 240)"
      ]
     },
     "execution_count": 12,
     "metadata": {},
     "output_type": "execute_result"
    }
   ],
   "source": [
    "folder_mask = '/Users/desgranc/Documents/work/GitHub_clone/projects/HD102326/grater_diskfm_mcmc/inputs/'\n",
    "fn_mask = 'mask_inner_belt_2019-07-09_IFS.fits'\n",
    "path_mask = folder_mask + fn_mask\n",
    "im_mask_ifs = fits.getdata(path_mask)\n",
    "np.shape(im_mask_ifs)"
   ]
  },
  {
   "cell_type": "code",
   "execution_count": 13,
   "id": "e5af34b9",
   "metadata": {},
   "outputs": [
    {
     "name": "stdout",
     "output_type": "stream",
     "text": [
      "Size of the image = 240 and crop Mask = 8 i.e. size of the image shown = 224\n",
      "The file is saved here:\n",
      " figs/fig_v2023-5-22/im_mask_inner_belt_2019-07-09_IFS\n"
     ]
    },
    {
     "data": {
      "image/png": "[encoded data removed]",
      "text/plain": [
       "<Figure size 240x240 with 1 Axes>"
      ]
     },
     "metadata": {},
     "output_type": "display_data"
    }
   ],
   "source": [
    "namesave = 'im_{}'.format(fn_mask.replace('.fits',''))\n",
    "im = np.copy(im_mask_ifs)\n",
    "im_crop = im_crop_mask\n",
    "\n",
    "print('Size of the image =', len(im), 'and crop Mask =', im_crop_mask, 'i.e. size of the image shown =',  \n",
    "      len(im_mask_ifs)-2*im_crop_mask)\n",
    "\n",
    "clab = 'contrast'\n",
    "vmin, vmax = None, None\n",
    "text = ''#'{} {}\\n{}'.format(epoch, filt, algo)\n",
    "#text = '{} {} (total intensity)\\n{}'.format(epoch, filt.replace('BB_',''), algo)\n",
    "\n",
    "\n",
    "plot_fig(im=im, vmin=vmin, vmax=vmax, im_crop=im_crop, figsize=figsize,\n",
    "         scalebar_pix=scalebar_pix, scalebar_leg=scalebar_leg, platescale=platescale,\n",
    "         add_colorbar=add_colorbar, clab=clab, cbar_xdeb=cbar_xdeb, \n",
    "         right=right, left=left, top=top, bottom=bottom,\n",
    "         text=text, text_xfrac=text_xfrac, text_yfrac=text_yfrac,\n",
    "         saving_dir=saving_dir, save_png=save_png, namesave=namesave)"
   ]
  },
  {
   "cell_type": "code",
   "execution_count": null,
   "id": "72d61ce8",
   "metadata": {},
   "outputs": [],
   "source": []
  },
  {
   "cell_type": "markdown",
   "id": "1756540a",
   "metadata": {},
   "source": [
    "## Load the data to derive the NOISE (error bars)"
   ]
  },
  {
   "cell_type": "code",
   "execution_count": 61,
   "id": "cffecb84",
   "metadata": {},
   "outputs": [
    {
     "name": "stdout",
     "output_type": "stream",
     "text": [
      "Load the epoch: 2019-07-09\n",
      "It corresponds do the path:\n",
      "/Users/desgranc/Documents/work/projects/HD120326/data/reduced/PCA_Celia/fits/OPP_PA/*2019-07-09*IFS*indiv***sorting**_cube_im_pca.fits\n",
      "\n",
      "Files found:\n",
      "- /Users/desgranc/Documents/work/projects/HD120326/data/reduced/PCA_Celia/fits/OPP_PA/2019-07-09_IFS_YJ_indiv_both_channels_combine_after_Nonesorting_cube_im_pca.fits\n"
     ]
    }
   ],
   "source": [
    "# REDUCED DATA\n",
    "idx, before_or_after,sorting,channel = 9,  '*', 'sorting','*'\n",
    "epoch = str(dF['epoch'].iloc[idx]); instru=str(dF['instrument'].iloc[idx])\n",
    "print('Load the epoch: {}'.format(epoch))\n",
    "filt =  str(dF['filter'].iloc[idx])\n",
    "if filt == 'BB_H': filt = 'BBH'  \n",
    "algo = 'PCA'\n",
    "algo_folder = algo + '_Celia/fits/OPP_PA/'\n",
    "if instru == 'IFS': platescale=7.46\n",
    "\n",
    "path_im_reduced = infolder + folder_reduced + algo_folder + '*{}*{}*indiv*{}*{}*{}_cube_im_pca.fits'.format(epoch, instru,\n",
    "                                            before_or_after,sorting,channel)\n",
    "        \n",
    "print('It corresponds do the path:\\n{}'.format(path_im_reduced))\n",
    "print('\\nFiles found:')\n",
    "flist = glob(path_im_reduced)\n",
    "flist = np.sort(flist)\n",
    "LABELS=[]\n",
    "for f in flist: \n",
    "    print('-',f)\n",
    "    band = select_string_between_characs(f,'_','_',2)\n",
    "    f_backup = f\n",
    "CUBE_REDUCED = np.array( [ fits.getdata(flist[i]) for i in range(len(flist)) ] )\n"
   ]
  },
  {
   "cell_type": "code",
   "execution_count": null,
   "id": "384af16d",
   "metadata": {},
   "outputs": [],
   "source": []
  },
  {
   "cell_type": "code",
   "execution_count": 53,
   "id": "baa2fc78",
   "metadata": {},
   "outputs": [
    {
     "name": "stdout",
     "output_type": "stream",
     "text": [
      "-81 143\n",
      "Number of pixels considered: 25\n"
     ]
    }
   ],
   "source": [
    "# OPP PA\n",
    "namesave= ''\n",
    "cube = np.copy(CUBE_REDUCED)[0]\n",
    "im_crop = im_crop_PCA\n",
    "\n",
    "cube = cube[:,im_crop:-im_crop,im_crop:-im_crop] \n",
    "\n",
    "# Define a circular mask center at one given location (xloc,yloc)\n",
    "xloc, yloc = 89-im_crop,113-im_crop; rcut=3\n",
    "im_loc = compute_im_rad_grid_coord(np.copy(cube[0]), xloc, yloc)\n",
    "im_loc = np.where(im_loc<rcut, 1, 0) \n",
    "cube = np.copy(cube)*im_loc\n",
    "\n",
    "cond = cube > 0\n",
    "cube[~cond] = np.nan\n",
    "nb_pix_used = len(im_loc[im_loc==1])\n",
    "flux = np.nansum(cube, axis=(1,2)) / nb_pix_used \n",
    "std = np.nanstd(cube, axis=(1,2)) #/ nb_pix_used \n",
    "print('Number of pixels considered:', nb_pix_used)\n",
    "#print(np.shape(flux))\n",
    "#print(flux)"
   ]
  },
  {
   "cell_type": "code",
   "execution_count": null,
   "id": "09edc6c1",
   "metadata": {},
   "outputs": [],
   "source": []
  },
  {
   "cell_type": "code",
   "execution_count": 62,
   "id": "b5003c10",
   "metadata": {
    "scrolled": false
   },
   "outputs": [
    {
     "name": "stderr",
     "output_type": "stream",
     "text": [
      "No handles with labels found to put in legend.\n"
     ]
    },
    {
     "data": {
      "image/png": "[encoded data removed]",
      "text/plain": [
       "<Figure size 400x280 with 1 Axes>"
      ]
     },
     "metadata": {},
     "output_type": "display_data"
    }
   ],
   "source": [
    "# Figure spectrum OPP PA\n",
    "namesave='spectra_flux_{}_{}_all_channels_mask_circular_opp_pa.pdf'.format(epoch, instru)\n",
    "\n",
    "norm = Y_star\n",
    "\n",
    "fig, ax = plt.subplots(1,1, figsize=(5,3.5))\n",
    "fig.subplots_adjust(left=0.12,right=0.96,bottom=0.14,top=0.93)\n",
    "X = np.arange(1,40,1)\n",
    "ax.set_xlabel('IFS spectral channels')\n",
    "ax.set_ylabel('Flux (ADU)')\n",
    "\n",
    "text = '{}'.format(epoch, filt)\n",
    "ax.text(0.7,0.85,text, transform=ax.transAxes)\n",
    "ax.plot(X,flux/norm,marker=MARKERS_IFS[3],label='', color='c')\n",
    "\n",
    "mise_en_page(ax,x_step=1, x_maj_step=5, x_min_step=1, y_step=0, y_maj_step=0.5, y_min_step=0.1)\n",
    "#plt.ylim([0,1])\n",
    "ax.legend(loc='best', numpoints=1, ncol=2, frameon=False)\n",
    "\n",
    "plt.savefig(saving_dir+namesave)\n",
    "plt.show()"
   ]
  },
  {
   "cell_type": "code",
   "execution_count": null,
   "id": "916a4a86",
   "metadata": {},
   "outputs": [],
   "source": []
  },
  {
   "cell_type": "markdown",
   "id": "a9d8110b",
   "metadata": {},
   "source": [
    "# Load the SCIENCE data"
   ]
  },
  {
   "cell_type": "code",
   "execution_count": 55,
   "id": "94e3bcf9",
   "metadata": {},
   "outputs": [
    {
     "name": "stdout",
     "output_type": "stream",
     "text": [
      "Load the epoch: 2019-07-09\n",
      "It corresponds do the path:\n",
      "/Users/desgranc/Documents/work/projects/HD120326/data/reduced/PCA_Celia/fits/SCIENCE/*2019-07-09*IFS*indiv***sorting**_cube_im_pca.fits\n",
      "\n",
      "Files found:\n",
      "- /Users/desgranc/Documents/work/projects/HD120326/data/reduced/PCA_Celia/fits/SCIENCE/2019-07-09_IFS_YJ_indiv_both_channels_combine_after_Nonesorting_cube_im_pca.fits\n"
     ]
    }
   ],
   "source": [
    "# REDUCED DATA\n",
    "idx, before_or_after,sorting,channel = 9,  '*', 'sorting','*'\n",
    "epoch = str(dF['epoch'].iloc[idx]); instru=str(dF['instrument'].iloc[idx])\n",
    "print('Load the epoch: {}'.format(epoch))\n",
    "filt =  str(dF['filter'].iloc[idx])\n",
    "if filt == 'BB_H': filt = 'BBH'\n",
    "if filt == 'H23': filt = 'H23'    \n",
    "algo = 'PCA'\n",
    "algo_folder = algo + '_Celia/fits/SCIENCE/'\n",
    "if instru == 'IFS': platescale=7.46\n",
    "\n",
    "path_im_reduced = infolder + folder_reduced + algo_folder + '*{}*{}*indiv*{}*{}*{}_cube_im_pca.fits'.format(epoch, instru,\n",
    "                                            before_or_after,sorting,channel)\n",
    "obs_polar = str(dF['polar'].iloc[idx])\n",
    "if obs_polar == 'yes': \n",
    "    print('(!) polarized light')\n",
    "    algo = 'IRDAP/'\n",
    "    path_im_reduced = infolder + folder_reduced + algo + '{}/reduced_pdi/star_pol*/*Q_phi*.fits'.format(epoch)\n",
    "        \n",
    "print('It corresponds do the path:\\n{}'.format(path_im_reduced))\n",
    "print('\\nFiles found:')\n",
    "flist = glob(path_im_reduced)\n",
    "flist = np.sort(flist)\n",
    "LABELS=[]\n",
    "for f in flist: \n",
    "    print('-',f)\n",
    "    band = select_string_between_characs(f,'_','_',2)\n",
    "    f_backup = f\n",
    "CUBE_REDUCED = np.array( [ fits.getdata(flist[i]) for i in range(len(flist)) ] )\n"
   ]
  },
  {
   "cell_type": "code",
   "execution_count": null,
   "id": "9519da64",
   "metadata": {},
   "outputs": [],
   "source": []
  },
  {
   "cell_type": "code",
   "execution_count": 38,
   "id": "c2bd5090",
   "metadata": {},
   "outputs": [
    {
     "name": "stdout",
     "output_type": "stream",
     "text": [
      "- PSF -\n",
      "It corresponds do the path:\n",
      "/Users/desgranc/Documents/work/projects/HD120326/data/prereduced/convert/IFS/*2019-07-09*/*median_unsat.fits\n",
      "Files found:\n",
      "- /Users/desgranc/Documents/work/projects/HD120326/data/prereduced/convert/IFS/HIP 67497_OBS_YJ_2019-07-09_ifs_convert_dc2_PUBLIC_357580/ifs_convert_dc2-IFS_SCIENCE_PSF_MASTER_CUBE-median_unsat.fits\n",
      "Shape of the PSF (39, 2, 64, 64)\n",
      "\n",
      " - Wavelength grid -\n",
      "Files found:\n",
      "- /Users/desgranc/Documents/work/projects/HD120326/data/prereduced/convert/IFS/HIP 67497_OBS_YJ_2019-07-09_ifs_convert_dc2_PUBLIC_357580/ifs_convert_dc2-IFS_SCIENCE_LAMBDA_INFO-lam.fits\n"
     ]
    }
   ],
   "source": [
    "# PSF\n",
    "print('- PSF -')\n",
    "path_im_prereduced = infolder + folder_prereduced + instru + '/*{}*/'.format(epoch) + '*median_unsat.fits'\n",
    "        \n",
    "print('It corresponds do the path:\\n{}'.format(path_im_prereduced))\n",
    "print('Files found:')\n",
    "flist = glob(path_im_prereduced)\n",
    "for f in flist: print('-',f)\n",
    "im_prereduced = fits.getdata(flist[0])\n",
    "\n",
    "print('Shape of the PSF', np.shape(im_prereduced))\n",
    "\n",
    "# Wavelength grids\n",
    "print('\\n - Wavelength grid -')\n",
    "path_im_prereduced = infolder + folder_prereduced + instru + '/*{}*/'.format(epoch) + '*lam.fits'\n",
    "        \n",
    "#print('It corresponds do the path:\\n{}'.format(path_im_prereduced))\n",
    "print('Files found:')\n",
    "flist = glob(path_im_prereduced)\n",
    "for f in flist: print('-',f)\n",
    "wgrid = fits.getdata(flist[0])"
   ]
  },
  {
   "cell_type": "code",
   "execution_count": 39,
   "id": "2a58b4a1",
   "metadata": {},
   "outputs": [],
   "source": [
    "from functions_derive_noise_map import *\n"
   ]
  },
  {
   "cell_type": "markdown",
   "id": "ea0e3371",
   "metadata": {},
   "source": [
    "#### Check the PSF"
   ]
  },
  {
   "cell_type": "code",
   "execution_count": 40,
   "id": "9aa911de",
   "metadata": {
    "scrolled": false
   },
   "outputs": [
    {
     "name": "stderr",
     "output_type": "stream",
     "text": [
      "/Users/desgranc/Documents/work/GitHub_clone/main_scripts/functions_derive_noise_map.py:114: RuntimeWarning: Mean of empty slice\n",
      "  noise_annulus = np.nanmean(im_annulus)\n",
      "/Users/desgranc/Documents/work/GitHub_clone/main_scripts/functions_derive_noise_map.py:114: RuntimeWarning: Mean of empty slice\n",
      "  noise_annulus = np.nanmean(im_annulus)\n"
     ]
    },
    {
     "data": {
      "image/png": "[encoded data removed]",
      "text/plain": [
       "<Figure size 320x240 with 1 Axes>"
      ]
     },
     "metadata": {},
     "output_type": "display_data"
    }
   ],
   "source": [
    "figsize = (4,3)\n",
    "# Check the PSF\n",
    "# Radial Profile\n",
    "im = np.copy(im_prereduced)[0][0]\n",
    "profile_mean, separations = rad_profile(im, center=np.shape(im)[0]//2, mode='mean', pixscale=platescale*1e-3, skip_pix=1)\n",
    "\n",
    "# Figure\n",
    "fig, ax = plt.subplots(1,1,figsize=figsize)\n",
    "fig.subplots_adjust(left=0.2,right=0.95, top=0.95, bottom=0.17)\n",
    "\n",
    "# PSF before\n",
    "im = np.copy(im_prereduced)[0][0]\n",
    "profile_mean, separations = rad_profile(im, center=np.shape(im)[0]//2, mode='mean', pixscale=platescale*1e-3, skip_pix=1)\n",
    "ax.plot(separations/platescale*1e3, profile_mean, color='crimson',marker='D', ms=5, label='PSF before')\n",
    "# PSF after\n",
    "im = np.copy(im_prereduced)[0][1]\n",
    "profile_mean, separations = rad_profile(im, center=np.shape(im)[0]//2, mode='mean', pixscale=platescale*1e-3, skip_pix=1)\n",
    "ax.plot(separations/platescale*1e3, profile_mean, color='mediumseagreen',marker='o', ms=5, label='PSF after')\n",
    "\n",
    "\n",
    "ax.set_xlabel('Radius (pixel)')\n",
    "ax.set_ylabel('Flux (ADU)')\n",
    "\n",
    "ax.legend(frameon=False, loc='center right')\n",
    "\n",
    "text = '{} {} {}'.format(epoch, instru, filt.replace('_',''))\n",
    "ax.text(0.17,0.85,text,transform=ax.transAxes)\n",
    "\n",
    "namesave = 'radial_profile_flux_'+epoch+'_'+instru.replace(' ','_')\n",
    "mise_en_page(ax, x_step=1, x_maj_step=5, x_min_step=1)\n",
    "plt.savefig(saving_dir+namesave+'.pdf')\n"
   ]
  },
  {
   "cell_type": "code",
   "execution_count": 25,
   "id": "773f2dbd",
   "metadata": {},
   "outputs": [],
   "source": [
    "# Select only one PSF\n",
    "if epoch == '2019-07-09': im_prereduced=im_prereduced[:,1] # The PSF after is the good one"
   ]
  },
  {
   "cell_type": "code",
   "execution_count": 26,
   "id": "6696fae2",
   "metadata": {},
   "outputs": [],
   "source": [
    "# Mask regions\n",
    "r_star = 24\n",
    "r_bkg_in = 25\n",
    "r_bkg_out = 30\n",
    "im_crop = 0\n",
    "\n",
    "# Figure\n",
    "color_star, color_bkg = 'gold', [0,0,0.3]; color_bkg_lighter='royalblue'\n",
    "ms_star, ms_bkg = 7,5\n",
    "\n",
    "color_scalebar='black'\n",
    "color_text='black'\n",
    "#platescale=7.46"
   ]
  },
  {
   "cell_type": "code",
   "execution_count": 27,
   "id": "c073e204",
   "metadata": {},
   "outputs": [
    {
     "data": {
      "image/png": "[encoded data removed]",
      "text/plain": [
       "<Figure size 320x240 with 1 Axes>"
      ]
     },
     "metadata": {},
     "output_type": "display_data"
    }
   ],
   "source": [
    "# Plot PSF flux\n",
    "# Figure Flux as the spectral channel\n",
    "figsize = (4,3)\n",
    "nlbd = np.shape(im_prereduced)[0]\n",
    "\n",
    "fig, ax = plt.subplots(1,1,figsize=figsize)\n",
    "fig.subplots_adjust(left=0.2,bottom=0.17, top=0.95, right=0.97)\n",
    "norm = 1e3\n",
    "\n",
    "# Several PSFs\n",
    "if len(np.shape(im_prereduced)) == 4:\n",
    "    for i in range(np.shape(im_prereduced)[1]):\n",
    "        #if i == 1 : continue\n",
    "        im_i = np.copy(im_prereduced[:,i])#/norm\n",
    "        if i == 1:\n",
    "            Y_star, Y_bkg = shortcut_plot_flux_star_and_background(ax, im_i, r_star=r_star, r_bkg_in=r_bkg_in, r_bkg_out=r_bkg_out, \n",
    "                    ms_star=ms_star, ms_bkg=ms_bkg, color_star='w', color_bkg='w', return_flux=1,\n",
    "                    do_norm=1, give_X=1, X=wgrid, display=0)\n",
    "        else: \n",
    "            Y_star, Y_bkg = shortcut_plot_flux_star_and_background(ax, im_i, r_star=r_star, r_bkg_in=r_bkg_in, r_bkg_out=r_bkg_out, \n",
    "                    ms_star=ms_star, ms_bkg=ms_bkg, color_star=color_star, color_bkg=color_bkg,  return_flux=1,\n",
    "                    do_norm=1, give_X=1, X=wgrid, display=0)\n",
    "        \n",
    "# One PSF\n",
    "if len(np.shape(im_prereduced)) == 3:\n",
    "    Y_star, Y_bkg = shortcut_plot_flux_star_and_background(ax, im_prereduced, r_star=r_star, r_bkg_in=r_bkg_in, r_bkg_out=r_bkg_out,\n",
    "            ms_star=ms_star, ms_bkg=ms_bkg, color_star=color_star, color_bkg=color_bkg, do_norm=1,  return_flux=1,\n",
    "            give_X=1, X=wgrid, display=0)\n",
    "    \n",
    "# Add labels\n",
    "ax.set_xlabel('Wavelength ($\\mu$m)')\n",
    "ax.set_ylabel(r'Flux (ADU)')\n",
    "\n",
    "# Change size\n",
    "if epoch == '2019-07-09':\n",
    "    #ax.set_xlim([0, nlbd+1])\n",
    "    #ax.set_ylim([-3e5/norm, 6e5/norm])\n",
    "    loc='upper right'\n",
    "    if r_star < 6 : ax.set_ylim([-500, 2500]); y_maj_step=500; y_min_step=100\n",
    "    else: ax.set_ylim([-20, 150]); y_maj_step=50; y_min_step=10\n",
    "if epoch == '2016-04-05':\n",
    "    #ax.set_xlim([0, nlbd+1])\n",
    "    if r_star < 6 : ax.set_ylim([0, 2500])\n",
    "    else: ax.set_ylim([0, 400]); y_maj_step=100; y_min_step=20\n",
    "    loc='upper right'\n",
    "if epoch == '2016-06-03':\n",
    "    #ax.set_xlim([0, nlbd+1])\n",
    "    if r_star < 6 : ax.set_ylim([0, 2000]); loc='lower right'\n",
    "    else: ax.set_ylim([0, 150]); loc='upper right'; y_maj_step=50; y_min_step=10\n",
    "    \n",
    "#ax.set_yscale('log')\n",
    "ax.set_xlim([wgrid[0]-wgrid[0]*0.02,wgrid[-1]+wgrid[0]*0.02])\n",
    "\n",
    "# Add text\n",
    "text = '{} {} {}'.format(epoch, instru, filt.replace('_',''))\n",
    "ax.text(0.06,0.87,text,transform=ax.transAxes)\n",
    "\n",
    "# Add legend\n",
    "ax.plot([-10],[0], marker='*', ms=7, label= 'star', lw=0, color='gold')\n",
    "ax.plot([-10],[0], marker='o', ms=5, label= 'background', lw=0, color=[0,0,0.4])\n",
    "ax.legend(loc=loc, numpoints=1, frameon=False)\n",
    "# Save\n",
    "if r_star < 6 :\n",
    "    mise_en_page(ax, x_step=1, x_maj_step=5, x_min_step=1, y_step=1, y_maj_step=500, y_min_step=100)\n",
    "mise_en_page(ax, x_step=1, x_maj_step=0.1, x_min_step=0.02, y_step=1, y_maj_step=y_maj_step, y_min_step=y_min_step) \n",
    "namesave = 'check_star_and_bkgd_flux_'+text.replace(' ','_')\n",
    "plt.savefig(saving_dir+namesave+'.pdf')\n",
    "plt.show()"
   ]
  },
  {
   "cell_type": "code",
   "execution_count": null,
   "id": "df92dac8",
   "metadata": {},
   "outputs": [],
   "source": []
  },
  {
   "cell_type": "markdown",
   "id": "76d0a6a6",
   "metadata": {},
   "source": [
    "### Mosaic of the IFS channels\n",
    "to come"
   ]
  },
  {
   "cell_type": "markdown",
   "id": "2a042975",
   "metadata": {},
   "source": [
    "## Spectra\n",
    "\n",
    "##### Mask = all disk region\n",
    "\n",
    "#### Derive the spectra"
   ]
  },
  {
   "cell_type": "code",
   "execution_count": 56,
   "id": "532b583a",
   "metadata": {
    "scrolled": true
   },
   "outputs": [
    {
     "name": "stdout",
     "output_type": "stream",
     "text": [
      "Size of the cube = (39, 240, 240) and crop PCA = 8 i.e. size of the image shown = 224\n",
      "Size of the mask = (240, 240) and crop MASK = 8 i.e. size of the image shown = 224\n",
      "Number of pixels considered: 5368\n"
     ]
    },
    {
     "data": {
      "text/plain": [
       "(39,)"
      ]
     },
     "execution_count": 56,
     "metadata": {},
     "output_type": "execute_result"
    }
   ],
   "source": [
    "# SCIENCE\n",
    "namesave= ''\n",
    "cube = np.copy(CUBE_REDUCED)[0]\n",
    "im_crop = im_crop_PCA\n",
    "print('Size of the cube =', np.shape(cube), 'and crop PCA =', im_crop, 'i.e. size of the image shown =',  np.shape(cube)[-1]-2*im_crop)\n",
    "print('Size of the mask =', np.shape(im_mask_ifs), 'and crop MASK =', im_crop_mask, \n",
    "      'i.e. size of the image shown =',  np.shape(im_mask_ifs)[-1]-2*im_crop_mask)\n",
    "\n",
    "im_mask_cropped = np.copy(im_mask_ifs[im_crop_mask:-im_crop_mask,im_crop_mask:-im_crop_mask])\n",
    "\n",
    "cube = cube[:,im_crop:-im_crop,im_crop:-im_crop] * im_mask_cropped \n",
    "\n",
    "cond = cube>0\n",
    "cube[~cond] = np.nan\n",
    "nb_pix_used = len(im_mask_cropped[im_mask_cropped==1])\n",
    "flux = np.nansum(cube, axis=(1,2)) / nb_pix_used \n",
    "std = np.nanstd(cube, axis=(1,2)) #/ nb_pix_used \n",
    "print('Number of pixels considered:', nb_pix_used)\n",
    "np.shape(flux)"
   ]
  },
  {
   "cell_type": "code",
   "execution_count": 51,
   "id": "c689716e",
   "metadata": {},
   "outputs": [
    {
     "name": "stderr",
     "output_type": "stream",
     "text": [
      "No handles with labels found to put in legend.\n"
     ]
    },
    {
     "data": {
      "image/png": "[encoded data removed]",
      "text/plain": [
       "<Figure size 400x280 with 1 Axes>"
      ]
     },
     "metadata": {},
     "output_type": "display_data"
    }
   ],
   "source": [
    "# Figure spectrum\n",
    "namesave='spectra_flux_{}_{}_all_channels_mask_disk_science.pdf'.format(epoch, instru)\n",
    "\n",
    "norm = Y_star\n",
    "\n",
    "fig, ax = plt.subplots(1,1, figsize=(5,3.5))\n",
    "fig.subplots_adjust(left=0.12,right=0.96,bottom=0.14,top=0.96)\n",
    "X = np.arange(1,40,1)\n",
    "ax.set_xlabel('IFS spectral channels')\n",
    "ax.set_ylabel('Flux (ADU)')\n",
    "\n",
    "text = '{}'.format(epoch, filt)\n",
    "ax.text(0.7,0.85,text, transform=ax.transAxes)\n",
    "ax.plot(X,flux/norm,marker=MARKERS_IFS[3],label='', color='c')\n",
    "\n",
    "mise_en_page(ax,x_step=1, x_maj_step=5, x_min_step=1, y_step=0, y_maj_step=0.5, y_min_step=0.1)\n",
    "#plt.ylim([0,1])\n",
    "ax.legend(loc='best', numpoints=1, ncol=2, frameon=False)\n",
    "\n",
    "plt.savefig(saving_dir+namesave)\n",
    "plt.show()"
   ]
  },
  {
   "cell_type": "markdown",
   "id": "eddb8bf2",
   "metadata": {},
   "source": [
    "#### Contrast"
   ]
  },
  {
   "cell_type": "code",
   "execution_count": 50,
   "id": "64e3caf2",
   "metadata": {},
   "outputs": [
    {
     "name": "stderr",
     "output_type": "stream",
     "text": [
      "No handles with labels found to put in legend.\n"
     ]
    },
    {
     "data": {
      "image/png": "[encoded data removed]",
      "text/plain": [
       "<Figure size 400x280 with 1 Axes>"
      ]
     },
     "metadata": {},
     "output_type": "display_data"
    }
   ],
   "source": [
    "# Figure spectrum\n",
    "namesave='spectra_contrast_{}_{}_all_channels_mask_disk_science.pdf'.format(epoch, instru)\n",
    "\n",
    "norm = 1# Y_star\n",
    "\n",
    "fig, ax = plt.subplots(1,1, figsize=(5,3.5))\n",
    "fig.subplots_adjust(left=0.12,right=0.96,bottom=0.14,top=0.96)\n",
    "X = np.arange(1,40,1)\n",
    "ax.set_xlabel('IFS spectral channels')\n",
    "ax.set_ylabel('Contrast')\n",
    "\n",
    "text = '{}'.format(epoch, filt)\n",
    "ax.text(0.7,0.85,text, transform=ax.transAxes)\n",
    "ax.plot(X,flux/norm,marker=MARKERS_IFS[3],label='', color='c')\n",
    "\n",
    "mise_en_page(ax,x_step=1, x_maj_step=5, x_min_step=1, y_step=0, y_maj_step=0.5, y_min_step=0.1)\n",
    "#plt.ylim([0,1])\n",
    "ax.legend(loc='best', numpoints=1, ncol=2, frameon=False)\n",
    "\n",
    "plt.savefig(saving_dir+namesave)\n",
    "plt.show()"
   ]
  },
  {
   "cell_type": "markdown",
   "id": "11d60cc4",
   "metadata": {},
   "source": [
    "##### Mask =  small aperture on the disk region  \n",
    "#### Derive the spectra"
   ]
  },
  {
   "cell_type": "code",
   "execution_count": 57,
   "id": "96016035",
   "metadata": {},
   "outputs": [
    {
     "name": "stdout",
     "output_type": "stream",
     "text": [
      "-81 143\n",
      "Number of pixels considered: 25\n"
     ]
    }
   ],
   "source": [
    "# SCIENCE \n",
    "namesave= ''\n",
    "cube = np.copy(CUBE_REDUCED)[0]\n",
    "im_crop = im_crop_PCA\n",
    "\n",
    "cube = cube[:,im_crop:-im_crop,im_crop:-im_crop] \n",
    "\n",
    "# Define a circular mask center at one given location (xloc,yloc)\n",
    "xloc, yloc = 89-im_crop,113-im_crop; rcut=3\n",
    "im_loc = compute_im_rad_grid_coord(np.copy(cube[0]), xloc, yloc)\n",
    "im_loc = np.where(im_loc<rcut, 1, 0) \n",
    "cube = np.copy(cube)*im_loc\n",
    "\n",
    "cond = cube > 0\n",
    "cube[~cond] = np.nan\n",
    "nb_pix_used = len(im_loc[im_loc==1])\n",
    "flux = np.nansum(cube, axis=(1,2)) / nb_pix_used \n",
    "std = np.nanstd(cube, axis=(1,2)) #/ nb_pix_used \n",
    "print('Number of pixels considered:', nb_pix_used)\n",
    "#print(np.shape(flux))\n",
    "#print(flux)"
   ]
  },
  {
   "cell_type": "code",
   "execution_count": null,
   "id": "17ed20ed",
   "metadata": {},
   "outputs": [],
   "source": []
  },
  {
   "cell_type": "code",
   "execution_count": null,
   "id": "ce147d47",
   "metadata": {},
   "outputs": [],
   "source": []
  },
  {
   "cell_type": "markdown",
   "id": "8cc4d0c0",
   "metadata": {},
   "source": [
    "#### Flux (ADU)"
   ]
  },
  {
   "cell_type": "code",
   "execution_count": 60,
   "id": "15d506a2",
   "metadata": {},
   "outputs": [
    {
     "name": "stderr",
     "output_type": "stream",
     "text": [
      "No handles with labels found to put in legend.\n"
     ]
    },
    {
     "data": {
      "image/png": "[encoded data removed]",
      "text/plain": [
       "<Figure size 400x280 with 1 Axes>"
      ]
     },
     "metadata": {},
     "output_type": "display_data"
    }
   ],
   "source": [
    "# Figure spectrum (flux)\n",
    "namesave='spectra_flux_{}_{}_all_channels_mask_circular_science.pdf'.format(epoch, instru)\n",
    "\n",
    "norm = 1#Y_star\n",
    "\n",
    "fig, ax = plt.subplots(1,1, figsize=(5,3.5))\n",
    "fig.subplots_adjust(left=0.12,right=0.96,bottom=0.14,top=0.93)\n",
    "X = np.arange(1,40,1)\n",
    "ax.set_xlabel('IFS spectral channels')\n",
    "ax.set_ylabel('Flux (ADU)')\n",
    "\n",
    "text = '{}'.format(epoch, filt)\n",
    "ax.text(0.7,0.85,text, transform=ax.transAxes)\n",
    "ax.plot(X,flux/norm,marker=MARKERS_IFS[4],label='', color='c')\n",
    "\n",
    "mise_en_page(ax,x_step=1, x_maj_step=5, x_min_step=1, y_step=0, y_maj_step=0.5, y_min_step=0.1)\n",
    "#plt.ylim([0,1])\n",
    "ax.legend(loc='best', numpoints=1, ncol=2, frameon=False)\n",
    "\n",
    "plt.savefig(saving_dir+namesave)\n",
    "plt.show() "
   ]
  },
  {
   "cell_type": "code",
   "execution_count": 17,
   "id": "0f778117",
   "metadata": {},
   "outputs": [
    {
     "name": "stdout",
     "output_type": "stream",
     "text": [
      "Help on function set_label in module matplotlib.artist:\n",
      "\n",
      "set_label(self, s)\n",
      "    Set a label that will be displayed in the legend.\n",
      "    \n",
      "    Parameters\n",
      "    ----------\n",
      "    s : object\n",
      "        *s* will be converted to a string by calling `str`.\n",
      "\n"
     ]
    }
   ],
   "source": [
    "help(Axes.set_label)"
   ]
  },
  {
   "cell_type": "code",
   "execution_count": null,
   "id": "2e39ba96",
   "metadata": {},
   "outputs": [],
   "source": []
  },
  {
   "cell_type": "markdown",
   "id": "495f622e",
   "metadata": {},
   "source": [
    "#### Contrast"
   ]
  },
  {
   "cell_type": "code",
   "execution_count": 33,
   "id": "4027c5ed",
   "metadata": {},
   "outputs": [
    {
     "name": "stderr",
     "output_type": "stream",
     "text": [
      "No handles with labels found to put in legend.\n"
     ]
    },
    {
     "data": {
      "image/png": "[encoded data removed]",
      "text/plain": [
       "<Figure size 400x280 with 1 Axes>"
      ]
     },
     "metadata": {},
     "output_type": "display_data"
    }
   ],
   "source": [
    "# Figure spectrum (contrast)\n",
    "namesave='spectra_contrast_{}_{}_all_channels_mask_circular.pdf'.format(epoch, instru)\n",
    "\n",
    "norm = Y_star \n",
    "\n",
    "fig, ax = plt.subplots(1,1, figsize=(5,3.5))\n",
    "fig.subplots_adjust(left=0.12,right=0.96,bottom=0.14,top=0.96)\n",
    "X = np.arange(1,40,1)\n",
    "ax.set_xlabel('IFS spectral channels')\n",
    "ax.set_ylabel('Contrast')\n",
    "\n",
    "text = '{}'.format(epoch, filt)\n",
    "ax.text(0.7,0.85,text, transform=ax.transAxes)\n",
    "ax.plot(X,flux/norm,marker=MARKERS_IFS[4],label='', color='c')\n",
    "\n",
    "mise_en_page(ax,x_step=1, x_maj_step=5, x_min_step=1, y_step=0, y_maj_step=0.5, y_min_step=0.1)\n",
    "#plt.ylim([0,1])\n",
    "ax.legend(loc='best', numpoints=1, ncol=2, frameon=False)\n",
    "\n",
    "plt.savefig(saving_dir+namesave)\n",
    "plt.show()"
   ]
  },
  {
   "cell_type": "code",
   "execution_count": null,
   "id": "7e04782e",
   "metadata": {},
   "outputs": [],
   "source": []
  },
  {
   "cell_type": "markdown",
   "id": "d2d57a68",
   "metadata": {},
   "source": [
    "## Binning"
   ]
  },
  {
   "cell_type": "code",
   "execution_count": 34,
   "id": "c011d392",
   "metadata": {},
   "outputs": [],
   "source": [
    "writeto=1"
   ]
  },
  {
   "cell_type": "code",
   "execution_count": 255,
   "id": "5748fd22",
   "metadata": {},
   "outputs": [
    {
     "name": "stdout",
     "output_type": "stream",
     "text": [
      "Shape before binning: (39, 240, 240) after binning: (4, 240, 240)\n",
      "Shape before binning: (39, 64, 64) after binning: (4, 64, 64)\n"
     ]
    },
    {
     "data": {
      "image/png": "[encoded data removed]",
      "text/plain": [
       "<Figure size 640x480 with 1 Axes>"
      ]
     },
     "metadata": {},
     "output_type": "display_data"
    },
    {
     "name": "stdout",
     "output_type": "stream",
     "text": [
      "File saved under the name:\n",
      " /Users/desgranc/Documents/work/projects/HD120326/data/reduced/PCA_Celia/fits/SCIENCE/2019-07-09_IFS_YJ_indiv_both_channels_combine_after_Nonesorting_cube_im_pca_binning=7channels_2-36_skipping18-20\n"
     ]
    }
   ],
   "source": [
    "# Initialization\n",
    "wgrid_bin = []\n",
    "cube_reduced_bin = []\n",
    "im_prereduced_bin = []\n",
    "channels = np.arange(39)\n",
    "nw_nominal = len(wgrid)\n",
    "\n",
    "# Wavelength binning selection\n",
    "w_skip_beg, w_skip_end = 17, 20\n",
    "channels_used = np.concatenate((channels[:w_skip_beg], channels[w_skip_end:]))\n",
    "wgrid_used = np.concatenate((wgrid[:w_skip_beg], wgrid[w_skip_end:]))\n",
    "cube_reduced_used = np.concatenate((cube_reduced[:w_skip_beg], cube_reduced[w_skip_end:]))\n",
    "im_prereduced_used = np.concatenate((im_prereduced[:w_skip_beg], im_prereduced[w_skip_end:]))\n",
    "\n",
    "dw, nw = 7, len(wgrid_used)\n",
    "w_beg, w_end, w_end_norminal = 1, nw-1, nw_nominal-1\n",
    "x = []\n",
    "\n",
    "cube_reduced = np.copy(CUBE_REDUCED)[0]\n",
    "for i in range(w_beg, w_end, dw):\n",
    "    if i+dw >= nw : continue # if we do not have 'dw' channels to bin them at the end, we forget them\n",
    "    wgrid_bin.append( np.mean(wgrid_used[i:i+dw]) ) \n",
    "    cube_reduced_bin.append( np.nanmean(cube_reduced_used[i:i+dw], axis=0) )\n",
    "    im_prereduced_bin.append( np.nanmean(im_prereduced_used[i:i+dw], axis=0) )\n",
    "    x.append(i+0.5)\n",
    "\n",
    "wgrid_bin,  cube_reduced_bin, im_prereduced_bin = np.array(wgrid_bin), np.array(cube_reduced_bin),  np.array(im_prereduced_bin)\n",
    "                                     \n",
    "                                     \n",
    "print('Shape before binning:', np.shape(cube_reduced), 'after binning:', np.shape(cube_reduced_bin) )\n",
    "print('Shape before binning:', np.shape(im_prereduced),'after binning:', np.shape(im_prereduced_bin))\n",
    "\n",
    "if 1:\n",
    "    plt.plot(wgrid_bin,label='binning',marker='o',mfc='None')\n",
    "    #plt.plot(np.arange(0,nw,1), wgrid, label='nominal',marker='s')\n",
    "    plt.legend()\n",
    "    plt.show()\n",
    "\n",
    "suffix = '_binning={}channels_{}-{}_skipping{}-{}'.format(dw, w_beg+1, w_end+1, w_skip_beg+1, w_skip_end)\n",
    "namesave = f_backup[:-5] + suffix\n",
    "\n",
    "\n",
    "if writeto:\n",
    "    print('File saved under the name:\\n', namesave)\n",
    "    fits.writeto(namesave+'.fits', cube_reduced_bin, overwrite=True)\n",
    "    fits.writeto('cube'+suffix+'.fits', cube_reduced_bin, overwrite=True)\n",
    "\n",
    "    fits.writeto(namesave+'_lbd.fits', wgrid_bin, overwrite=True)\n",
    "    fits.writeto('cube'+suffix+'_lbd.fits', wgrid_bin, overwrite=True)\n"
   ]
  },
  {
   "cell_type": "code",
   "execution_count": null,
   "id": "42dd36d0",
   "metadata": {},
   "outputs": [],
   "source": []
  },
  {
   "cell_type": "code",
   "execution_count": 219,
   "id": "bcba4a7a",
   "metadata": {},
   "outputs": [
    {
     "data": {
      "text/plain": [
       "1.32884"
      ]
     },
     "execution_count": 219,
     "metadata": {},
     "output_type": "execute_result"
    }
   ],
   "source": []
  },
  {
   "cell_type": "code",
   "execution_count": 224,
   "id": "627911f2",
   "metadata": {},
   "outputs": [],
   "source": []
  },
  {
   "cell_type": "code",
   "execution_count": 225,
   "id": "47dcdcbc",
   "metadata": {},
   "outputs": [
    {
     "data": {
      "text/plain": [
       "array([ 0,  1,  2,  3,  4,  5,  6,  7,  8,  9, 10, 11, 12, 13, 14, 15, 16,\n",
       "       20, 21, 22, 23, 24, 25, 26, 27, 28, 29, 30, 31, 32, 33, 34, 35, 36,\n",
       "       37, 38])"
      ]
     },
     "execution_count": 225,
     "metadata": {},
     "output_type": "execute_result"
    }
   ],
   "source": [
    "channels_used"
   ]
  },
  {
   "cell_type": "code",
   "execution_count": 168,
   "id": "da923919",
   "metadata": {},
   "outputs": [
    {
     "data": {
      "text/plain": [
       "(240, 240)"
      ]
     },
     "execution_count": 168,
     "metadata": {},
     "output_type": "execute_result"
    }
   ],
   "source": [
    "np.shape( np.nanmean(cube_reduced[i:i+dw], axis=0))"
   ]
  },
  {
   "cell_type": "code",
   "execution_count": null,
   "id": "1e3294c3",
   "metadata": {},
   "outputs": [],
   "source": []
  },
  {
   "cell_type": "code",
   "execution_count": 20,
   "id": "aa64500e",
   "metadata": {},
   "outputs": [],
   "source": [
    "#  Returns tuple of handles, labels for axis ax, after reordering them to conform to the label order `order`, and if unique is True, after removing entries with duplicate labels.\n",
    "def reorderLegend(ax=None,order=None,unique=False):\n",
    "    if ax is None: ax=plt.gca()\n",
    "    handles, labels = ax.get_legend_handles_labels()\n",
    "    labels, handles = zip(*sorted(zip(labels, handles), key=lambda t: t[0])) # sort both labels and handles by labels\n",
    "    if order is not None: # Sort according to a given list (not necessarily complete)\n",
    "        keys=dict(zip(order,range(len(order))))\n",
    "        labels, handles = zip(*sorted(zip(labels, handles), key=lambda t,keys=keys: keys.get(t[0],np.inf)))\n",
    "    if unique:  labels, handles= zip(*unique_everseen(zip(labels,handles), key = labels)) # Keep only the first of each handle\n",
    "    ax.legend(handles, labels)\n",
    "    return(handles, labels)\n",
    "\n",
    "\n",
    "def unique_everseen(seq, key=None):\n",
    "    seen = set()\n",
    "    seen_add = seen.add\n",
    "    return [x for x,k in zip(seq,key) if not (k in seen or seen_add(k))]\n",
    "\n",
    "\n"
   ]
  },
  {
   "cell_type": "code",
   "execution_count": 23,
   "id": "870b84b8",
   "metadata": {
    "scrolled": false
   },
   "outputs": [],
   "source": [
    "# Figure\n",
    "if 0 :\n",
    "    namesave='snr_wrt_ncomp_{}_{}_4collapse.pdf'.format(epoch, instru)\n",
    " \n",
    "    fig, ax = plt.subplots(1,1, figsize=(5,3.5))\n",
    "    fig.subplots_adjust(left=0.12,right=0.96,bottom=0.14,top=0.96)\n",
    "    X = np.arange(1,21,1)\n",
    "    ax.set_xlabel('Number of components')\n",
    "    ax.set_ylabel('$S/N$')\n",
    "\n",
    "    text = '{}'.format(epoch, filt)\n",
    "    ax.text(15,0.1,text)\n",
    "\n",
    "    for i in range(4):\n",
    "        ax.plot(X,snr[i],marker=MARKERS_IFS[i],label=LABELS[i], color=COLORS_IFS[i])\n",
    "        #ax.errorbar(X,snr[i], std[i], 0, marker='o',label=LABELS[i])\n",
    "    mise_en_page(ax,x_step=1, x_maj_step=5, x_min_step=1)\n",
    "    plt.ylim([0,1])\n",
    "\n",
    "    handles, labels = ax.get_legend_handles_labels()\n",
    "    # sort both labels and handles by labels\n",
    "    #reorderLegend(ax,LABELS)\n",
    "\n",
    "    ax.legend(loc='best', numpoints=1, ncol=2, frameon=False)\n",
    "\n",
    "\n",
    "    plt.savefig(saving_dir+namesave)\n",
    "    plt.show()"
   ]
  },
  {
   "cell_type": "code",
   "execution_count": null,
   "id": "8da1f46a",
   "metadata": {},
   "outputs": [],
   "source": []
  },
  {
   "cell_type": "code",
   "execution_count": null,
   "id": "ac099028",
   "metadata": {},
   "outputs": [],
   "source": []
  },
  {
   "cell_type": "code",
   "execution_count": null,
   "id": "a89484be",
   "metadata": {},
   "outputs": [],
   "source": []
  },
  {
   "cell_type": "code",
   "execution_count": 30,
   "id": "1cdc0835",
   "metadata": {},
   "outputs": [],
   "source": [
    "\n",
    "def plot_figs_1row(IM, TIT=['','','','','',''], clab='', vmin=None, vmax=None, add_text=0, text=['','','','','',''],\n",
    "                   text_xfrac=None, text_yfrac=None,\n",
    "                   scalebar_pix=100, scalebar_leg='100 mas', platescale=12.25,\n",
    "                   show_axis_ticks='off', cbar_xdeb=0.82, right=0.8, top=0.95, left=0.01, bottom=0.05, wspace=0.01,\n",
    "                   figsize_height=4, figsize=(None,None), fig=None, axs=None,\n",
    "                   cmap='magma', add_colorbar=1,\n",
    "                    im_crop=0, interpolation='nearest', \n",
    "                   give_fig_ax=0, return_fig_ax=0, saving_dir='', namesave='test', save_png=0):\n",
    "    nco = len(IM)\n",
    "    if not give_fig_ax: \n",
    "        if figsize == (None,None): figsize=(figsize_height*nco+1,figsize_height)\n",
    "        fig, axs = plt.subplots(1,nco, figsize=figsize)\n",
    "    fig.subplots_adjust(left=left, right=right, top=top, bottom=bottom, wspace=wspace)\n",
    "\n",
    "    for i, im in enumerate(IM):\n",
    "        ax = axs[i]\n",
    "        ax.axis(show_axis_ticks)\n",
    "        tit = TIT[i]\n",
    "        ax.set_title(tit)\n",
    "        if im_crop != 0: im = im[im_crop:-im_crop,im_crop:-im_crop]\n",
    "        if vmin != None and vmax != None: im_plot = ax.imshow(im, vmin=vmin, vmax=vmax, origin='lower', interpolation=interpolation, cmap=cmap)\n",
    "        elif vmax != None : im_plot = ax.imshow(im, vmax=vmax, origin='lower', interpolation=interpolation, cmap=cmap)\n",
    "        elif vmin != None : im_plot = ax.imshow(im, vmin=vmin, origin='lower', interpolation=interpolation, cmap=cmap)\n",
    "        else : im_plot = ax.imshow(im, origin='lower', interpolation=interpolation, cmap=cmap)\n",
    "\n",
    "        # Add text\n",
    "        w,h = np.shape(im)\n",
    "        if add_text:\n",
    "            # One same text to add on every subimage\n",
    "            if len(text[0]) == 1: t = text\n",
    "            # Different texts to add on every subimages\n",
    "            else: t=text[i]\n",
    "            if text_xfrac == None: text_xfrac = w*0.03\n",
    "            if text_yfrac == None: text_yfrac = h*0.94\n",
    "            ax.text(text_xfrac,text_yfrac,t,color='white')\n",
    "\n",
    "        # Add scalebar\n",
    "        scalebar = AnchoredSizeBar(ax.transData, scalebar_pix/platescale, scalebar_leg, 3, label_top=True, pad=0.4,\n",
    "                                   sep=2, borderpad=0.5, frameon=False, size_vertical=2, color='white')#,fontproperties=fp)\n",
    "        ax.add_artist(scalebar)\n",
    "\n",
    "    # Add colorbar\n",
    "    if add_colorbar:\n",
    "        cb_xdeb, cb_ydeb, cb_xwidth, cb_ywidth, clab = cbar_xdeb,  bottom, w*3e-5, top-bottom, clab\n",
    "        cb_ax = fig.add_axes([cb_xdeb, cb_ydeb, cb_xwidth, cb_ywidth])\n",
    "\n",
    "        cbar = fig.colorbar(im_plot, cax=cb_ax, orientation='vertical', #drawedges=True,\n",
    "                        pad=0.8, shrink=0.05,fraction=0.01,aspect=50)#,width_fraction=0.001)\n",
    "\n",
    "        cbar.set_label(clab)\n",
    "    print('The file is saved here:\\n', saving_dir+namesave)\n",
    "    if return_fig_ax: return fig, axs\n",
    "    else: \n",
    "        if namesave != '':\n",
    "            plt.savefig(saving_dir+namesave+'.pdf')\n",
    "            if save_png: plt.savefig(saving_dir+namesave+'.png', dpi=200)\n",
    "    plt.show()\n",
    "\n"
   ]
  },
  {
   "cell_type": "code",
   "execution_count": null,
   "id": "258d7180",
   "metadata": {},
   "outputs": [],
   "source": []
  },
  {
   "cell_type": "code",
   "execution_count": null,
   "id": "4300626f",
   "metadata": {},
   "outputs": [],
   "source": []
  },
  {
   "cell_type": "code",
   "execution_count": null,
   "id": "dd037eb8",
   "metadata": {},
   "outputs": [],
   "source": []
  },
  {
   "cell_type": "code",
   "execution_count": null,
   "id": "307d00b5",
   "metadata": {},
   "outputs": [],
   "source": []
  },
  {
   "cell_type": "code",
   "execution_count": 196,
   "id": "ff1bece1",
   "metadata": {},
   "outputs": [
    {
     "name": "stdout",
     "output_type": "stream",
     "text": [
      "The file is saved here:\n",
      " figs/fig_v2023-4-11/\n"
     ]
    },
    {
     "data": {
      "image/png": "[encoded data removed]",
      "text/plain": [
       "<Figure size 240x240 with 1 Axes>"
      ]
     },
     "metadata": {},
     "output_type": "display_data"
    }
   ],
   "source": [
    "# Check Figure\n",
    "clab = 'contrast'\n",
    "vmin, vmax = None, None\n",
    "text = '{} {}\\n{}'.format(epoch, filt, algo)\n",
    "#text = '{} {} (total intensity)\\n{}'.format(epoch, filt.replace('BB_',''), algo)\n",
    "\n",
    "# Figure\n",
    "plot_fig(im=cube[3,5], vmin=vmin, vmax=vmax, im_crop=0, figsize=figsize,\n",
    "         scalebar_pix=scalebar_pix, scalebar_leg=scalebar_leg, \n",
    "         add_colorbar=add_colorbar, clab=clab, cbar_xdeb=cbar_xdeb, \n",
    "         right=right, left=left, top=top, bottom=bottom,\n",
    "         text=text, text_xfrac=text_xfrac, text_yfrac=text_yfrac,\n",
    "         saving_dir=saving_dir, save_png=save_png, namesave=namesave)"
   ]
  },
  {
   "cell_type": "code",
   "execution_count": null,
   "id": "f85a243f",
   "metadata": {},
   "outputs": [],
   "source": []
  },
  {
   "cell_type": "code",
   "execution_count": null,
   "id": "1175af53",
   "metadata": {},
   "outputs": [],
   "source": [
    "# Check Figure\n",
    "clab = 'contrast'\n",
    "vmin, vmax = None, None\n",
    "text = '{} {}\\n{}'.format(epoch, filt, algo)\n",
    "#text = '{} {} (total intensity)\\n{}'.format(epoch, filt.replace('BB_',''), algo)\n",
    "\n",
    "# Figure\n",
    "plot_fig(im=cube, vmin=vmin, vmax=vmax, im_crop=0, figsize=figsize,\n",
    "         scalebar_pix=scalebar_pix, scalebar_leg=scalebar_leg, \n",
    "         add_colorbar=add_colorbar, clab=clab, cbar_xdeb=cbar_xdeb, \n",
    "         right=right, left=left, top=top, bottom=bottom,\n",
    "         text=text, text_xfrac=text_xfrac, text_yfrac=text_yfrac,\n",
    "         saving_dir=saving_dir, save_png=save_png, namesave=namesave)"
   ]
  },
  {
   "cell_type": "code",
   "execution_count": null,
   "id": "42f850b5",
   "metadata": {},
   "outputs": [],
   "source": []
  },
  {
   "cell_type": "code",
   "execution_count": 50,
   "id": "0f030e3e",
   "metadata": {},
   "outputs": [],
   "source": [
    "from import_functions_generic import *\n",
    "\n",
    "def compute_im_rad_grid(im, center='n//2', even_or_odd='even'):\n",
    "    '''\n",
    "    Compute a 2D radius grid with the same shape than the input image 'im'.\n",
    "    Optional parameter 'even_or_odd' only considered as 'even'. (!)\n",
    "    '''\n",
    "    nx = np.shape(im)[1]\n",
    "    ny = np.shape(im)[0]\n",
    "    if center == 'n//2-0.5':\n",
    "        x,y = np.linspace(-nx//2,nx//2,nx), np.linspace(-ny//2,ny//2,ny)\n",
    "    elif center == 'n//2':\n",
    "        x,y = np.arange(-nx//2,nx//2,1), np.arange(-ny//2,ny//2,1)\n",
    "    else: raise ValueError('Check your value for the optional parameter center')\n",
    "    xs,ys = np.meshgrid(x, y, sparse=True)\n",
    "    zs = np.sqrt(xs**2 + ys**2)\n",
    "    return zs\n",
    "\n",
    "\n",
    "def compute_limdet_map_ann(res_map, dr, alpha=2, center='n//2', even_or_odd='even', display=1):\n",
    "    '''\n",
    "    Compute the detection limit 2D map by annular noise estimation with slippery annulus.\n",
    "    Use the function compute im_rad_grid() to derive the distance (in pixel) of each\n",
    "    pixel to the center of the image.\n",
    "\n",
    "    Inputs:\n",
    "        .'res_map' (2D-array): residual map\n",
    "        .'dr' (float): width of the annulus for which the detection limit is computed\n",
    "        (optional)\n",
    "        .'alpha' (float): factor to consider bigger annulus to derive the noise\n",
    "            Goal: have smoother transition between annuli\n",
    "        .'center' (string):\n",
    "            Default value: center='n//2'.\n",
    "            Other possible values:\n",
    "                .if the image is even: 'n//2-0.5' or 'n//2' YES\n",
    "                .otherwise, if the image is odd: 'n//2-1' or 'n//2+1' NO\n",
    "                Assumption: Count starts to 0\n",
    "        .'even_or_odd' (string):\n",
    "            Default value: even_or_odd='even'\n",
    "\n",
    "    Output:\n",
    "        .'im_noise' (2D-array): detection limit map\n",
    "    '''\n",
    "    t0 = time.time()\n",
    "    if display: print(\"\\nComputing the detection limit map by using the 1D-annulus method\")\n",
    "    h, w = np.shape(res_map)\n",
    "    #res_map_pos = np.copy(res_map)\n",
    "    #res_map_pos[res_map_pos<0] = 0\n",
    "    noise_tot, noise_ann = [], []\n",
    "\n",
    "    im_noise, im_nan, im_radius_grid = np.zeros((h,w)), np.empty((h,w)), compute_im_rad_grid(res_map, center=center)\n",
    "    im_nan[:] = np.NaN\n",
    "    rad, x0,y0 = alpha, w//2+1, h//2+1\n",
    "\n",
    "    # Until the annulus is smaller than the size of the image\n",
    "    while rad < w//2 - alpha-dr :\n",
    "        # One annulus is considered\n",
    "        rad += dr\n",
    "        cond_annulus_large = np.logical_and(im_radius_grid >= rad-alpha, rad + dr + alpha >= im_radius_grid)\n",
    "        cond_annulus_thin  = np.logical_and(im_radius_grid >= rad, rad + dr >= im_radius_grid)\n",
    "        im_annulus = np.where(cond_annulus_large, res_map, im_nan)\n",
    "        # the noise over the annulus is computed\n",
    "        noise_annulus = np.nanstd(im_annulus)\n",
    "        # and the image is set at this noise for this given annulus\n",
    "        im_noise[cond_annulus_thin] = noise_annulus\n",
    "    if display: print(\"Took {} seconds\".format(time.time()-t0))\n",
    "    return im_noise\n",
    "\n",
    "\n",
    "\n",
    "\n",
    "\n",
    "def compute_mean_map_ann(im, dr, alpha=0, add_input_im_rad=0, im_rad=None, display=0):\n",
    "    '''\n",
    "    Compute the averaged mean 2D map by annular estimation with slippery annulus.\n",
    "    Use the function compute im_rad_grid() to derive the distance (in pixel) of each\n",
    "    pixel to the center of the image.\n",
    "\n",
    "    Inputs:\n",
    "        .'im' (2D-array): image\n",
    "        .'dr' (float): width of the annulus for which the detection limit is computed\n",
    "        (optional)\n",
    "        .'alpha' (float): factor to consider bigger annulus to derive the noise\n",
    "            Goal: have smoother transition between annuli\n",
    "        .'add_input_im_rad' (boolean): input corresponding to the 2D radius grid provided\n",
    "            (if parameter set to 1) or not (parameter set to 0, default value)\n",
    "        .'im_rad' (2D-array): None (if add_input_im_rad == 0) or a 2D radius grid with the\n",
    "            same shape than the input image 'im' (if add_input_im_rad == 1)\n",
    "        .'display' (boolean):\n",
    "            Default value: 0 (False) i.e. do not display details/information\n",
    "\n",
    "    Output:\n",
    "        .'im_noise' (2D-array): detection limit map\n",
    "    '''\n",
    "    t0 = time.time()\n",
    "    if display: print(\"\\nComputing the standard deviation limit map by using the 1D-annulus method\")\n",
    "    h, w = np.shape(im)\n",
    "    noise_tot, noise_ann = [], []\n",
    "\n",
    "    im_noise, im_nan, = np.zeros((h,w)), np.empty((h,w))\n",
    "    if add_input_im_rad : im_radius_grid = im_rad\n",
    "    else : im_radius_grid = compute_im_rad_grid(im)\n",
    "\n",
    "    im_nan[:] = np.NaN\n",
    "    rad, x0,y0 = 0, w//2+1, h//2+1\n",
    "\n",
    "    # Until the annulus is smaller than the size of the image\n",
    "    while rad < w//2 * 1.45 : # 1.45 slightly bigger than sqrt(2) to be sure to cover all the field of view and not only a circle of radius r\n",
    "        # One annulus is considered\n",
    "        cond_annulus_large = np.logical_and(im_radius_grid >= rad-alpha, rad + dr + alpha >= im_radius_grid)\n",
    "        cond_annulus_thin  = np.logical_and(im_radius_grid >= rad, rad + dr >= im_radius_grid)\n",
    "        im_annulus = np.where(cond_annulus_large, im, im_nan)\n",
    "        # the noise over the annulus is computed\n",
    "        noise_annulus = np.nanmean(im_annulus)\n",
    "        # and the image is set at this noise for this given annulus\n",
    "        im_noise[cond_annulus_thin] = noise_annulus\n",
    "        rad += dr\n",
    "    if display: print(\"-> took {} seconds\".format(time.time()-t0))\n",
    "    return im_noise\n",
    "\n",
    "\n",
    "def compute_mad_map_ann(im, dr, alpha=0, add_input_im_rad=0, im_rad=None, display=0):\n",
    "    '''\n",
    "    Compute the mean absolute deviation 2D map by annular noise estimation with slippery annulus.\n",
    "    Use the function compute im_rad_grid() to derive the distance (in pixel) of each\n",
    "    pixel to the center of the image.\n",
    "\n",
    "    Inputs:\n",
    "        .'im' (2D-array): image\n",
    "        .'dr' (float): width of the annulus for which the detection limit is computed\n",
    "        (optional)\n",
    "        .'alpha' (float): factor to consider bigger annulus to derive the noise\n",
    "            Goal: have smoother transition between annuli\n",
    "        .'add_input_im_rad' (boolean): input corresponding to the 2D radius grid provided\n",
    "            (if parameter set to 1) or not (parameter set to 0, default value)\n",
    "        .'im_rad' (2D-array): None (if add_input_im_rad == 0) or a 2D radius grid with the\n",
    "            same shape than the input image 'im' (if add_input_im_rad == 1)\n",
    "        .'display' (boolean):\n",
    "            Default value: 0 (False) i.e. do not display details/information\n",
    "\n",
    "    Output:\n",
    "        .'im_noise' (2D-array): detection limit map\n",
    "    '''\n",
    "    t0 = time.time()\n",
    "    if display: print(\"\\nComputing the standard deviation limit map by using the 1D-annulus method\")\n",
    "    h, w = np.shape(im)\n",
    "    noise_tot, noise_ann = [], []\n",
    "\n",
    "    im_noise, im_nan, = np.zeros((h,w)), np.empty((h,w))\n",
    "    if add_input_im_rad : im_radius_grid = im_rad\n",
    "    else : im_radius_grid = compute_im_rad_grid(im)\n",
    "\n",
    "    im_nan[:] = np.NaN\n",
    "    rad, x0,y0 = 0, w//2+1, h//2+1\n",
    "\n",
    "    # Until the annulus is smaller than the size of the image\n",
    "    while rad < w//2 * 1.45 : # 1.45 slightly bigger than sqrt(2) to be sure to cover all the field of view and not only a circle of radius r\n",
    "        # One annulus is considered\n",
    "        cond_annulus_large = np.logical_and(im_radius_grid >= rad-alpha, rad + dr + alpha >= im_radius_grid)\n",
    "        cond_annulus_thin  = np.logical_and(im_radius_grid >= rad, rad + dr >= im_radius_grid)\n",
    "        im_annulus = np.where(cond_annulus_large, im, im_nan)\n",
    "        # the noise over the annulus is computed\n",
    "        noise_annulus = molmap.compute_mad(im_annulus)\n",
    "        # and the image is set at this noise for this given annulus\n",
    "        im_noise[cond_annulus_thin] = noise_annulus\n",
    "        rad += dr\n",
    "    if display: print(\"-> took {:.3f} seconds.\".format(time.time()-t0))\n",
    "    return im_noise\n",
    "\n",
    "\n",
    "def compute_std_map_ann(im, dr, alpha=0, add_input_im_rad=0, im_rad=None, display=0):\n",
    "    '''\n",
    "    Compute the standard deviation 2D map by annular noise estimation with slippery annulus.\n",
    "    Use the function compute im_rad_grid() to derive the distance (in pixel) of each\n",
    "    pixel to the center of the image.\n",
    "\n",
    "    Inputs:\n",
    "        .'im' (2D-array): image\n",
    "        .'dr' (float): width of the annulus for which the detection limit is computed\n",
    "        (optional)\n",
    "        .'alpha' (float): factor to consider bigger annulus to derive the noise\n",
    "            Goal: have smoother transition between annuli\n",
    "        .'add_input_im_rad' (boolean): input corresponding to the 2D radius grid provided\n",
    "            (if parameter set to 1) or not (parameter set to 0, default value)\n",
    "        .'im_rad' (2D-array): None (if add_input_im_rad == 0) or a 2D radius grid with the\n",
    "            same shape than the input image 'im' (if add_input_im_rad == 1)\n",
    "        .'display' (boolean):\n",
    "            Default value: 0 (False) i.e. do not display details/information\n",
    "\n",
    "    Output:\n",
    "        .'im_noise' (2D-array): detection limit map\n",
    "    '''\n",
    "    t0 = time.time()\n",
    "    if display: print(\"\\nComputing the standard deviation limit map by using the 1D-annulus method\")\n",
    "    h, w = np.shape(im)\n",
    "    noise_tot, noise_ann = [], []\n",
    "\n",
    "    im_noise, im_nan, = np.zeros((h,w)), np.empty((h,w))\n",
    "    if add_input_im_rad : im_radius_grid = im_rad\n",
    "    else : im_radius_grid = compute_im_rad_grid(im)\n",
    "\n",
    "    im_nan[:] = np.NaN\n",
    "    rad, x0,y0 = 0, w//2+1, h//2+1\n",
    "\n",
    "    # Until the annulus is smaller than the size of the image\n",
    "    while rad < w//2 * 1.45 : # 1.45 slightly bigger than sqrt(2) to be sure to cover all the field of view and not only a circle of radius r\n",
    "        # One annulus is considered\n",
    "        cond_annulus_large = np.logical_and(im_radius_grid >= rad-alpha, rad + dr + alpha >= im_radius_grid)\n",
    "        cond_annulus_thin  = np.logical_and(im_radius_grid >= rad, rad + dr >= im_radius_grid)\n",
    "        im_annulus = np.where(cond_annulus_large, im, im_nan)\n",
    "        # the noise over the annulus is computed\n",
    "        noise_annulus = np.nanstd(im_annulus)\n",
    "        # and the image is set at this noise for this given annulus\n",
    "        im_noise[cond_annulus_thin] = noise_annulus\n",
    "        rad += dr\n",
    "    if display: print(\"-> took {} seconds\".format(time.time()-t0))\n",
    "    return im_noise\n",
    "\n",
    "\n",
    "def compute_std_cube_spatially_annuli(cube, dr, alpha=0, display=0, display_level2=0):\n",
    "    '''\n",
    "    Compute a 3D standard deviation cube. For each frame of the cube, the standard\n",
    "    deviation is computed spatially in rings centered around the star which is\n",
    "    assumed to be at the center of the image.\n",
    "\n",
    "    Note: le bruit sur chaque anneau ne pourrait pas être calculé en utilant VIP? frame_basic_stats\n",
    "    '''\n",
    "    if display:\n",
    "        print('In function compute_std_cube_spatially_annuli()')\n",
    "        t0 = time.time()\n",
    "\n",
    "    nim = np.shape(cube)[0]\n",
    "    nxy = np.shape(cube)[1]\n",
    "    im_rad = compute_im_rad_grid(cube[0])\n",
    "    cube_std = np.zeros((nim,nxy,nxy))\n",
    "    # loop over the images (on the spectral or temporal dimension for instance):\n",
    "    for i, im in enumerate(cube):\n",
    "        cube_std[i] = compute_std_map_ann(im, dr, alpha=alpha, add_input_im_rad=1, im_rad=im_rad, display=display_level2)\n",
    "\n",
    "    if display: print(\"-> took {:.1f} seconds\".format(time.time()-t0))\n",
    "    return cube_std\n",
    "\n",
    "def compute_std_cube_spatially_aperture(cube, rad=2, display=0):\n",
    "    '''\n",
    "    Compute a 3D standard deviation cube by considering noise in an aperture around each pixel:\n",
    "    loop over the images and each coordinates (time-consuming).\n",
    "    Relevant to consider the photon noise of a putative fake planet.\n",
    "\n",
    "    Inputs (...)\n",
    "    '''\n",
    "\n",
    "    if display:\n",
    "        print('In function compute_std_cube_spatially_aperture()')\n",
    "        t0 = time.time()\n",
    "\n",
    "    nim = np.shape(cube)[0]\n",
    "    nxy = np.shape(cube)[1]\n",
    "    cube_std = np.zeros(np.shape(cube))\n",
    "\n",
    "    # Option (1)\n",
    "    for iw in range(nim):\n",
    "        for ix in range(nxy):\n",
    "            for iy in range(nxy):\n",
    "                mean, cube_std[iw,iy,ix], median, tot = frame_basic_stats(cube[iw], radius=rad, xy=(ix,iy), full_output=True, plot=False)\n",
    "\n",
    "    if display: print(\"-> took {:.1f} seconds\".format(time.time()-t0))\n",
    "    return cube_std\n",
    "\n",
    "\n",
    "\n",
    "\n",
    "def compute_std_cube_spatially(cube, rad, dr, alpha=0, use_empty_obs=0, cube_annuli=None, consider_photon_noise=0, cube_noise_photon=0, saving_dir='', writeo=False, display=0):\n",
    "    '''\n",
    "    Compute a 3D standard deviation cube by considering the noise both from annuli\n",
    "    and aperture around each pixel.\n",
    "    '''\n",
    "    #cube_std_aperture = compute_std_cube_spatially_aperture(cube=cube, rad=rad, display=display)\n",
    "    if use_empty_obs : cube=cube_annuli ; print('Use a cube without fake planet injected to derive the noise on the annuli.')\n",
    "    #else:  print('Use a cube with the fake planet injected to derive the noise on the annuli.')\n",
    "    cube_std_annuli = compute_std_cube_spatially_annuli(cube=cube, dr=dr, alpha=alpha, display=display)\n",
    "\n",
    "    if consider_photon_noise:\n",
    "        print('The spatial noise is estimated by regarding two components: annulus-wise standard deviation of the values centered on the star location, and the photon noise at each location.')\n",
    "        cube_std = np.sqrt(cube_std_annuli**2+np.abs(cube_noise_photon))#cube_std_aperture**2)\n",
    "    else:\n",
    "        print('The spatial noise is estimated only by regarding rings centered on the star location.')\n",
    "        cube_std = np.abs(cube_std_annuli)\n",
    "\n",
    "    if writeo :\n",
    "        fits.writeto(saving_dir+'std_cube_spatial_annuli.fits', cube_std_annuli, overwrite=True)\n",
    "        fits.writeto(saving_dir+'std_cube_spatial.fits', cube_std, overwrite=True)\n",
    "\n",
    "        if consider_photon_noise:\n",
    "            fits.writeto(saving_dir+'std_cube_spatial_aperture.fits', np.abs(cube_noise_photon), overwrite=True)\n",
    "    return cube_std\n",
    "\n",
    "\n",
    "\n",
    "\n",
    "def rad_profile(im, center, mode='std', pixscale=1, dr=1, skip_pix=None):\n",
    "    '''\n",
    "    Assumption: center at n//2-1 i.e. between the four central pixel (for even image)\n",
    "\n",
    "    Function useful to reproduce the Figure 3 from Hoeijmakers et al. (2018).\n",
    "    '''\n",
    "    if skip_pix == None: skip_pix=3\n",
    "\n",
    "    if mode == 'std':\n",
    "        im = compute_std_map_ann(im,dr=dr)\n",
    "        #profile = (im_std[skip_pix+int(center):,int(center)]+im_std[skip_pix+int(center):,int(center+1)])/2\n",
    "        profile = im[skip_pix+int(center):,int(center)]\n",
    "        separations = np.arange(skip_pix,len(im)//2.,1)\n",
    "\n",
    "    elif mode == 'mad':\n",
    "        im = compute_mad_map_ann(im,dr=dr)\n",
    "        #profile = (im_std[skip_pix+int(center):,int(center)]+im_std[skip_pix+int(center):,int(center+1)])/2\n",
    "        profile = im[skip_pix+int(center):,int(center)]\n",
    "        separations = np.arange(skip_pix,len(im)//2.,1)\n",
    "\n",
    "    elif mode == 'mean':\n",
    "        im = compute_mean_map_ann(im,dr=dr)\n",
    "        profile = im[skip_pix+int(center):,int(center)]\n",
    "        separations = np.arange(skip_pix,len(im)//2.,1)\n",
    "    else: print('Precise a mode available, e.g. std or mean. Here the mode given is {}'.format(mode))\n",
    "\n",
    "    return profile, separations*pixscale\n"
   ]
  },
  {
   "cell_type": "code",
   "execution_count": null,
   "id": "d1a3d042",
   "metadata": {},
   "outputs": [],
   "source": []
  },
  {
   "cell_type": "code",
   "execution_count": null,
   "id": "8aae04a2",
   "metadata": {},
   "outputs": [],
   "source": []
  },
  {
   "cell_type": "code",
   "execution_count": 8,
   "id": "9e1a259b",
   "metadata": {},
   "outputs": [],
   "source": [
    "# Old"
   ]
  },
  {
   "cell_type": "code",
   "execution_count": null,
   "id": "2476003b",
   "metadata": {},
   "outputs": [],
   "source": [
    "def compute_im_rad_grid_coord(im, xm=0, ym=0):\n",
    "    '''\n",
    "    Compute a 2D radius grid with the same shape than the input image 'im'.\n",
    "    The reference of the center for the coordinates system is given as inputs (\"xm\", \"ym\").\n",
    "    '''\n",
    "    nx = np.shape(im)[1]\n",
    "    ny = np.shape(im)[0]\n",
    "    xend = nx-xm\n",
    "    yend = ny-ym\n",
    "    xbeg = -xm\n",
    "    ybeg = -ym\n",
    "    print(xbeg, xend)\n",
    "    x,y = np.arange(xbeg,xend,1), np.arange(ybeg, yend,1)\n",
    "    xs,ys = np.meshgrid(x, y, sparse=True)\n",
    "    zs = np.sqrt(xs**2 + ys**2)\n",
    "    return zs"
   ]
  },
  {
   "cell_type": "code",
   "execution_count": null,
   "id": "1b002c06",
   "metadata": {},
   "outputs": [],
   "source": [
    "# Deprecated\n",
    "def plot_fig(im, clab='', vmin=None, vmax=None, text='None', text_xfrac=0.03, text_yfrac=0.9,\n",
    "        show_axis_ticks='off', im_crop=0,\n",
    "        scalebar_pix=100, scalebar_leg='100 mas', platescale=12.25,\n",
    "        add_colorbar=1, cbar_xdeb=0.82, right=0.8, top=0.95, left=0.01, bottom=0.05, figsize=(5,4),\n",
    "        interpolation='nearest', saving_dir='', namesave='test', save_png=0, cmap='magma',\n",
    "        return_fig_ax=False, give_fig_ax=False):\n",
    "\n",
    "    if not give_fig_ax: \n",
    "        fig, ax = plt.subplots(1,1, figsize=figsize)\n",
    "    fig.subplots_adjust(left=left, right=right, top=top, bottom=bottom)\n",
    "    ax.axis(show_axis_ticks)\n",
    "\n",
    "    if im_crop != 0: im = im[im_crop:-im_crop,im_crop:-im_crop]\n",
    "\n",
    "    if vmin != None and vmax != None: im_plot = ax.imshow(im, vmin=vmin, vmax=vmax, origin='lower', interpolation=interpolation, cmap=cmap)\n",
    "    elif vmax != None : im_plot = ax.imshow(im, vmax=vmax, origin='lower', interpolation=interpolation, cmap=cmap)\n",
    "    elif vmin != None : im_plot = ax.imshow(im, vmin=vmin, origin='lower', interpolation=interpolation, cmap=cmap)\n",
    "    else : im_plot = ax.imshow(im, origin='lower', interpolation=interpolation, cmap=cmap)\n",
    "\n",
    "    # Add text\n",
    "    if text != 'None':\n",
    "        w,h = np.shape(im)\n",
    "        ax.text(w*text_xfrac,h*text_yfrac,text,color='white')\n",
    "\n",
    "    # Add scalebar\n",
    "    scalebar = AnchoredSizeBar(ax.transData, scalebar_pix/platescale, scalebar_leg, 3, label_top=True, pad=0.4,\n",
    "                               sep=2, borderpad=0.5, frameon=False, size_vertical=1, color='white')#,fontproperties=fp)\n",
    "    ax.add_artist(scalebar)\n",
    "\n",
    "    # Add colorbar\n",
    "    if add_colorbar:\n",
    "        # Color bar\n",
    "        cb_xdeb, cb_ydeb, cb_xwidth, cb_ywidth = cbar_xdeb, 0.1, 0.03, 0.8\n",
    "        cb_ax = fig.add_axes([cb_xdeb, cb_ydeb, cb_xwidth, cb_ywidth])\n",
    "\n",
    "        cbar = fig.colorbar(im_plot, cax=cb_ax, orientation='vertical', #drawedges=True,\n",
    "                            pad=0.8, shrink=0.05,fraction=0.01,aspect=50)#,width_fraction=0.001)\n",
    "\n",
    "        cbar.set_label(clab)\n",
    "    \n",
    "    if return_fig_ax: return fig, ax\n",
    "    else: \n",
    "        print('The file is saved here:\\n', saving_dir+namesave)\n",
    "        plt.savefig(saving_dir+namesave+'.pdf')\n",
    "        if save_png: plt.savefig(saving_dir+namesave+'.png', dpi=200)\n",
    "        plt.show()"
   ]
  },
  {
   "cell_type": "code",
   "execution_count": null,
   "id": "ef5745e6",
   "metadata": {},
   "outputs": [],
   "source": [
    "def cube_basic_stats(cube, region='circle', radius=5, xy=None, inner_radius=0, size=5, plot=False, full_output=True):\n",
    "    '''\n",
    "    Calculates statistics in a ``region`` of a 2D array for a 3D cube \"cube[*,:,:]\".\n",
    "    Based on the VIP_HCI function fraame_basic_stats().\n",
    "    '''\n",
    "    n = len(cube)\n",
    "    MEAN, STD, MEDIAN, MAXI = [], [], [], []\n",
    "    for i in range(n):\n",
    "        mean, std, median, maxi = frame_basic_stats(cube[i],\n",
    "                        region=region, radius=radius, xy=xy, inner_radius=inner_radius, size=size,\n",
    "                        plot=plot, full_output=full_output)\n",
    "        MEAN.append(mean)\n",
    "        STD.append(std)\n",
    "        MEDIAN.append(median)\n",
    "        MAXI.append(maxi)\n",
    "    return MEAN, STD, MEDIAN, MAXI\n"
   ]
  }
 ],
 "metadata": {
  "kernelspec": {
   "display_name": "Python 3 (ipykernel)",
   "language": "python",
   "name": "python3"
  },
  "language_info": {
   "codemirror_mode": {
    "name": "ipython",
    "version": 3
   },
   "file_extension": ".py",
   "mimetype": "text/x-python",
   "name": "python",
   "nbconvert_exporter": "python",
   "pygments_lexer": "ipython3",
   "version": "3.9.12"
  }
 },
 "nbformat": 4,
 "nbformat_minor": 5
}
