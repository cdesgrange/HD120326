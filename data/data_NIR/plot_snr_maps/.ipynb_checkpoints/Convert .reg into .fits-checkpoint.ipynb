{
 "cells": [
  {
   "cell_type": "markdown",
   "id": "40089a29",
   "metadata": {},
   "source": [
    "# Convert a 2 ellipses region saved as .reg into a .fits\n",
    "\n",
    "Useful when we want to define a mask on DS9\n",
    "\n",
    "Tricky points:\n",
    "    \n",
    "- order in which ellipses are saved\n",
    "\n",
    "- need to load the header on an image with the good shape. Hereafter, the file is called 'file.fits' and loaded in the variable 'dum', with its header 'header'\n",
    "\n",
    "_Written April 23, 2023 by Célia DESGRANGE (@MPIA, @IPAG) but extracted from Julien Milli's (@IPAG) code_"
   ]
  },
  {
   "cell_type": "code",
   "execution_count": 5,
   "id": "b078f933",
   "metadata": {},
   "outputs": [],
   "source": [
    "from import_functions_generic import *\n",
    "import pyregion"
   ]
  },
  {
   "cell_type": "code",
   "execution_count": 6,
   "id": "49a480e1",
   "metadata": {},
   "outputs": [],
   "source": [
    "path = ''\n",
    "file_2_ellipses = 'mask_inner_belt_2019-07-09_IFS.reg'"
   ]
  },
  {
   "cell_type": "code",
   "execution_count": 13,
   "id": "a66cb8b4",
   "metadata": {},
   "outputs": [
    {
     "name": "stdout",
     "output_type": "stream",
     "text": [
      "The size of the mask is: (240, 240)\n"
     ]
    }
   ],
   "source": [
    "dum, header = fits.getdata(os.path.join(path,'file.fits'),header=True)\n",
    "#fits.writeto('file.fits',dum[10],overwrite=True)\n",
    "\n",
    "with open (file_2_ellipses, \"r\") as myfile:\n",
    "    reg_2_ellipses=myfile.read() \n",
    "region_2_ellipses = pyregion.parse(reg_2_ellipses)\n",
    "myfilter = region_2_ellipses.get_filter(header=header)\n",
    "mask2minimize = (myfilter[1] & ~myfilter[0]).mask((dum.shape[0],dum.shape[1]))\n",
    "mask2minimize = np.where(mask2minimize == False, 0, 1)\n",
    "\n",
    "print('The size of the mask is:', np.shape(mask2minimize))"
   ]
  },
  {
   "cell_type": "code",
   "execution_count": 15,
   "id": "3c7e8248",
   "metadata": {},
   "outputs": [],
   "source": [
    "fits.writeto(os.path.join(path,'mask2minimize.fits'), mask2minimize, overwrite=True)"
   ]
  },
  {
   "cell_type": "code",
   "execution_count": null,
   "id": "d6d62a8b",
   "metadata": {},
   "outputs": [],
   "source": []
  }
 ],
 "metadata": {
  "kernelspec": {
   "display_name": "Python 3 (ipykernel)",
   "language": "python",
   "name": "python3"
  },
  "language_info": {
   "codemirror_mode": {
    "name": "ipython",
    "version": 3
   },
   "file_extension": ".py",
   "mimetype": "text/x-python",
   "name": "python",
   "nbconvert_exporter": "python",
   "pygments_lexer": "ipython3",
   "version": "3.9.12"
  }
 },
 "nbformat": 4,
 "nbformat_minor": 5
}
