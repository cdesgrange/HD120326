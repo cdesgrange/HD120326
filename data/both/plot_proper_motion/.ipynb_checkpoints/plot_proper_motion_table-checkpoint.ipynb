{
 "cells": [
  {
   "cell_type": "markdown",
   "metadata": {},
   "source": [
    "# Plot Proper Motion Diagram\n",
    "\n",
    "Examples of proper motion diagram to make the distinction between an object from the background or comoving with the star for the targets from the sample Super-Earth survey:\n",
    "\n",
    "Based on Arthur Vigans's script \"proper_motion.py\". \n",
    "\n",
    "Modifications: \n",
    "\n",
    "June 1st, 2021 - Célia Desgrange\n",
    "\n",
    "-> understood ANDROMEDA charac convention\n",
    "\n",
    "January 13rd, 2022 - Célia Desgrange\n",
    "\n",
    "-> let's start the automatization...\n",
    "1st) find the same detections among several epochs\n",
    "\n",
    "March 30th, 2022 - Célia Desgrange\n",
    "\n",
    "-> well, messing it up. (well, no, but, should adapt it to fully automatize it... yiha. and especially adapt to table results, containing a mixture of ANDROMEDA and SpeCal (but it is uniformized))\n",
    "\n",
    "June 22nd, 2022 - Célia Desgrange\n",
    "\n",
    "-> notebook cleaned, do not think I can optimize much."
   ]
  },
  {
   "cell_type": "markdown",
   "metadata": {},
   "source": [
    "## Import packages"
   ]
  },
  {
   "cell_type": "code",
   "execution_count": 21,
   "metadata": {},
   "outputs": [],
   "source": [
    "from import_packages_generic import *\n",
    "from import_packages_PMD import *\n",
    "from import_functions_generic import *\n",
    "from import_functions_PMD import *\n",
    "from import_functions_PMD_fig import *\n",
    "#from import_initialization_generic_variables import *\n",
    "from import_initialization_dataframes import *\n",
    "#from import_initialization_CaPMD_variables import *"
   ]
  },
  {
   "cell_type": "code",
   "execution_count": null,
   "metadata": {},
   "outputs": [],
   "source": []
  },
  {
   "cell_type": "code",
   "execution_count": 2,
   "metadata": {},
   "outputs": [],
   "source": [
    "L = time.localtime()\n",
    "date = \"{}-{}-{}\".format(L[0],L[1],L[2],L[3],L[4],L[5])\n",
    "\n",
    "saving_dir = 'figs/fig_PMD_v{}/'.format(date)\n",
    "os.makedirs(saving_dir,exist_ok=True)"
   ]
  },
  {
   "cell_type": "markdown",
   "metadata": {},
   "source": [
    "# Initialization"
   ]
  },
  {
   "cell_type": "markdown",
   "metadata": {},
   "source": [
    "### Initialize for all the detections in the Super-Earth survey the magnitude in H2,H3 and K1,K2-bands\n",
    "\n",
    "Note: all detections are from specal charac files or andromeda charac files, which have been summarized in global tables "
   ]
  },
  {
   "cell_type": "code",
   "execution_count": 511,
   "metadata": {
    "scrolled": false
   },
   "outputs": [],
   "source": [
    "# Initialize SpeCal variables\n",
    "prefix = '/Users/desgranc/Documents/work/GitHub_clone/projects/RAISES/derive_tables_candidates/tables/'\n",
    "algo = 'specal+andro'\n",
    "dF = pd.read_csv(prefix+'all_detections_{}_final_paper_status_corrected.csv'.format(algo),sep=',')"
   ]
  },
  {
   "cell_type": "code",
   "execution_count": 177,
   "metadata": {},
   "outputs": [
    {
     "data": {
      "text/plain": [
       "44    CD-31 9113c\n",
       "45    CD-31 9113c\n",
       "66    CD-31 9113c\n",
       "67    CD-31 9113c\n",
       "82      HIP 56528\n",
       "83      HIP 56528\n",
       "Name: target name DC, dtype: object"
      ]
     },
     "execution_count": 177,
     "metadata": {},
     "output_type": "execute_result"
    }
   ],
   "source": [
    "# Target DC name\n",
    "target = 'GJ433'\n",
    "target_DC_all = dF_obs[target==dF_obs['target name']]['target name DC']\n",
    "target_DC_all"
   ]
  },
  {
   "cell_type": "markdown",
   "metadata": {},
   "source": [
    "# Peering into one targeted system"
   ]
  },
  {
   "cell_type": "markdown",
   "metadata": {},
   "source": [
    "## Automatized from Table "
   ]
  },
  {
   "cell_type": "code",
   "execution_count": 115,
   "metadata": {},
   "outputs": [
    {
     "name": "stdout",
     "output_type": "stream",
     "text": [
      "Help on function proper_motion_diagnostic_combination_2epochs in module import_functions_PMD:\n",
      "\n",
      "proper_motion_diagnostic_combination_2epochs(dF, target, tol_bkg=180, unit='pixel', display=1)\n",
      "    Find candidates observed in two different epochs.\n",
      "        Inputs:\n",
      "            .'dF' (type=dataframe): list of lists of the right ascensions for the detections in the differents epoch\n",
      "            .'Y' (type=2D-list/array): list of lists of the declinations for the detections in the different epoch\n",
      "            .'EPOCHS' (type=1D-list/array): list of the epochs\n",
      "            (optional, below:)\n",
      "            .'tolerance' (type=int/float): difference tolerated. In practice it is the some of the differences between ra1/ra2_closer and dec1/dec2_closer\n",
      "            .'unit' (type='string'): indicate which unit is considered, but for now, no importance.\n",
      "            .'display' (type='boolean'): indicate if display the matching values between 1st/2nd epoch and the\n",
      "                            difference between 1st/2nd epoch values(just to check)\n",
      "    \n",
      "        Outputs:\n",
      "            Return the common (and uncommon) candidates for each comparison:\n",
      "                .'epochs_compared' (type=1D-list): list of epochs compared\n",
      "                .''\n",
      "                .their indexes in 1st epoch\n",
      "                .their indexes in 2nd epoch\n",
      "                .their RA and DEC in 2nd epoch (could be removed I guess)\n",
      "\n"
     ]
    }
   ],
   "source": [
    "help(proper_motion_diagnostic_combination_2epochs)"
   ]
  },
  {
   "cell_type": "code",
   "execution_count": null,
   "metadata": {},
   "outputs": [],
   "source": []
  },
  {
   "cell_type": "markdown",
   "metadata": {},
   "source": [
    "### Load candidates information for the comparison of 2 epochs at most"
   ]
  },
  {
   "cell_type": "code",
   "execution_count": 512,
   "metadata": {
    "scrolled": false
   },
   "outputs": [
    {
     "name": "stdout",
     "output_type": "stream",
     "text": [
      "\n",
      "There are 3 epochs available.\n",
      "------------------------------------------------------------------------------------------------\n",
      "Epoch used as reference = 2017-06-21; second epoch = 2019-07-22.\n",
      "Regarding index 0, the difference is 3977 mas, and the tolerance is set to 80 mas.\n",
      "Regarding index 0, the difference is 2758 mas, and the tolerance is set to 80 mas.\n",
      "Regarding index 4, the difference is 4570 mas, and the tolerance is set to 80 mas.\n",
      "Regarding index 2, the difference is 4582 mas, and the tolerance is set to 80 mas.\n",
      "Regarding index 4, the difference is 5738 mas, and the tolerance is set to 80 mas.\n",
      "Regarding index 0, the difference is 2012 mas, and the tolerance is set to 80 mas.\n",
      "Regarding index 4, the difference is 2468 mas, and the tolerance is set to 80 mas.\n",
      "Regarding index 0, the difference is 4173 mas, and the tolerance is set to 80 mas.\n",
      "Regarding index 2, the difference is 48 mas, and the tolerance is set to 80 mas.\n",
      "Regarding index 4, the difference is 2468 mas, and the tolerance is set to 80 mas.\n",
      "Regarding index 3, the difference is 34 mas, and the tolerance is set to 80 mas.\n",
      "Regarding index 4, the difference is 4895 mas, and the tolerance is set to 80 mas.\n",
      "Regarding index 3, the difference is 2211 mas, and the tolerance is set to 80 mas.\n",
      "Regarding index 2, the difference is 3327 mas, and the tolerance is set to 80 mas.\n",
      "Regarding index 0, the difference is 3148 mas, and the tolerance is set to 80 mas.\n",
      "Regarding index 2, the difference is 5313 mas, and the tolerance is set to 80 mas.\n",
      "Regarding index 3, the difference is 1412 mas, and the tolerance is set to 80 mas.\n",
      "Regarding index 3, the difference is 1312 mas, and the tolerance is set to 80 mas.\n",
      "Regarding index 2, the difference is 1424 mas, and the tolerance is set to 80 mas.\n",
      "Regarding index 0, the difference is 4045 mas, and the tolerance is set to 80 mas.\n",
      "Regarding index 3, the difference is 1821 mas, and the tolerance is set to 80 mas.\n",
      "Regarding index 4, the difference is 2011 mas, and the tolerance is set to 80 mas.\n",
      "Regarding index 4, the difference is 30 mas, and the tolerance is set to 80 mas.\n",
      "Regarding index 3, the difference is 1770 mas, and the tolerance is set to 80 mas.\n",
      "Regarding index 4, the difference is 3164 mas, and the tolerance is set to 80 mas.\n",
      "Regarding index 0, the difference is 18 mas, and the tolerance is set to 80 mas.\n",
      "Regarding index 3, the difference is 820 mas, and the tolerance is set to 80 mas.\n",
      "Regarding index 2, the difference is 1997 mas, and the tolerance is set to 80 mas.\n",
      "Regarding index 2, the difference is 602 mas, and the tolerance is set to 80 mas.\n",
      "\n",
      "Number of objects observed at least twice consistent with background contaminants found: 4 / 5\n",
      "Regarding index 0, the difference is 3535 mas, and the tolerance is set to 100 mas.\n",
      "Regarding index 0, the difference is 2791 mas, and the tolerance is set to 100 mas.\n",
      "Regarding index 4, the difference is 4131 mas, and the tolerance is set to 100 mas.\n",
      "Regarding index 2, the difference is 4310 mas, and the tolerance is set to 100 mas.\n",
      "Regarding index 4, the difference is 5366 mas, and the tolerance is set to 100 mas.\n",
      "Regarding index 0, the difference is 2019 mas, and the tolerance is set to 100 mas.\n",
      "Regarding index 4, the difference is 3006 mas, and the tolerance is set to 100 mas.\n",
      "Regarding index 0, the difference is 4002 mas, and the tolerance is set to 100 mas.\n",
      "Regarding index 2, the difference is 571 mas, and the tolerance is set to 100 mas.\n",
      "Regarding index 4, the difference is 2152 mas, and the tolerance is set to 100 mas.\n",
      "Regarding index 3, the difference is 590 mas, and the tolerance is set to 100 mas.\n",
      "Regarding index 4, the difference is 4667 mas, and the tolerance is set to 100 mas.\n",
      "Regarding index 3, the difference is 1628 mas, and the tolerance is set to 100 mas.\n",
      "Regarding index 2, the difference is 3147 mas, and the tolerance is set to 100 mas.\n",
      "Regarding index 0, the difference is 2909 mas, and the tolerance is set to 100 mas.\n",
      "Regarding index 2, the difference is 5211 mas, and the tolerance is set to 100 mas.\n",
      "Regarding index 3, the difference is 1832 mas, and the tolerance is set to 100 mas.\n",
      "Regarding index 3, the difference is 1300 mas, and the tolerance is set to 100 mas.\n",
      "Regarding index 3, the difference is 1871 mas, and the tolerance is set to 100 mas.\n",
      "Regarding index 0, the difference is 3737 mas, and the tolerance is set to 100 mas.\n",
      "Regarding index 1, the difference is 2266 mas, and the tolerance is set to 100 mas.\n",
      "Regarding index 4, the difference is 2297 mas, and the tolerance is set to 100 mas.\n",
      "Regarding index 4, the difference is 569 mas, and the tolerance is set to 100 mas.\n",
      "Regarding index 3, the difference is 2341 mas, and the tolerance is set to 100 mas.\n",
      "Regarding index 4, the difference is 3274 mas, and the tolerance is set to 100 mas.\n",
      "Regarding index 0, the difference is 583 mas, and the tolerance is set to 100 mas.\n",
      "Regarding index 3, the difference is 257 mas, and the tolerance is set to 100 mas.\n",
      "Regarding index 2, the difference is 2184 mas, and the tolerance is set to 100 mas.\n",
      "Regarding index 2, the difference is 1110 mas, and the tolerance is set to 100 mas.\n",
      "------------------------------------------------------------------------------------------------\n",
      "Epoch used as reference = 2017-06-21; second epoch = 2021-07-04.\n",
      "Regarding index 6, the difference is 2325 mas, and the tolerance is set to 113 mas.\n",
      "Regarding index 5, the difference is 773 mas, and the tolerance is set to 113 mas.\n",
      "Regarding index 6, the difference is 3905 mas, and the tolerance is set to 113 mas.\n",
      "Regarding index 8, the difference is 3375 mas, and the tolerance is set to 113 mas.\n",
      "Regarding index 8, the difference is 4243 mas, and the tolerance is set to 113 mas.\n",
      "Regarding index 5, the difference is 6 mas, and the tolerance is set to 113 mas.\n",
      "Regarding index 6, the difference is 2800 mas, and the tolerance is set to 113 mas.\n",
      "Regarding index 0, the difference is 3479 mas, and the tolerance is set to 113 mas.\n",
      "Regarding index 9, the difference is 30 mas, and the tolerance is set to 113 mas.\n",
      "Regarding index 6, the difference is 2239 mas, and the tolerance is set to 113 mas.\n",
      "Regarding index 10, the difference is 24 mas, and the tolerance is set to 113 mas.\n",
      "Regarding index 6, the difference is 2793 mas, and the tolerance is set to 113 mas.\n",
      "Regarding index 8, the difference is 856 mas, and the tolerance is set to 113 mas.\n",
      "Regarding index 8, the difference is 2008 mas, and the tolerance is set to 113 mas.\n",
      "Regarding index 7, the difference is 3157 mas, and the tolerance is set to 113 mas.\n",
      "Regarding index 8, the difference is 3587 mas, and the tolerance is set to 113 mas.\n",
      "Regarding index 10, the difference is 1415 mas, and the tolerance is set to 113 mas.\n",
      "Regarding index 10, the difference is 1304 mas, and the tolerance is set to 113 mas.\n",
      "Regarding index 8, the difference is 1366 mas, and the tolerance is set to 113 mas.\n",
      "Regarding index 6, the difference is 3074 mas, and the tolerance is set to 113 mas.\n",
      "Regarding index 3, the difference is 25 mas, and the tolerance is set to 113 mas.\n",
      "Regarding index 6, the difference is 1351 mas, and the tolerance is set to 113 mas.\n",
      "Regarding index 6, the difference is 3143 mas, and the tolerance is set to 113 mas.\n",
      "Regarding index 3, the difference is 334 mas, and the tolerance is set to 113 mas.\n",
      "Regarding index 6, the difference is 24 mas, and the tolerance is set to 113 mas.\n",
      "Regarding index 7, the difference is 12 mas, and the tolerance is set to 113 mas.\n",
      "Regarding index 10, the difference is 827 mas, and the tolerance is set to 113 mas.\n",
      "Regarding index 8, the difference is 10 mas, and the tolerance is set to 113 mas.\n",
      "Regarding index 9, the difference is 618 mas, and the tolerance is set to 113 mas.\n",
      "\n",
      "Number of objects observed at least twice consistent with background contaminants found: 7 / 11\n",
      "Regarding index 7, the difference is 3167 mas, and the tolerance is set to 100 mas.\n",
      "Regarding index 1, the difference is 569 mas, and the tolerance is set to 100 mas.\n",
      "Regarding index 6, the difference is 2774 mas, and the tolerance is set to 100 mas.\n",
      "Regarding index 8, the difference is 2541 mas, and the tolerance is set to 100 mas.\n",
      "Regarding index 6, the difference is 3232 mas, and the tolerance is set to 100 mas.\n",
      "Regarding index 1, the difference is 250 mas, and the tolerance is set to 100 mas.\n",
      "Regarding index 6, the difference is 3661 mas, and the tolerance is set to 100 mas.\n",
      "Regarding index 0, the difference is 2485 mas, and the tolerance is set to 100 mas.\n",
      "Regarding index 9, the difference is 1126 mas, and the tolerance is set to 100 mas.\n",
      "Regarding index 6, the difference is 1427 mas, and the tolerance is set to 100 mas.\n",
      "Regarding index 3, the difference is 908 mas, and the tolerance is set to 100 mas.\n",
      "Regarding index 6, the difference is 1848 mas, and the tolerance is set to 100 mas.\n",
      "Regarding index 10, the difference is 1097 mas, and the tolerance is set to 100 mas.\n",
      "Regarding index 8, the difference is 1231 mas, and the tolerance is set to 100 mas.\n",
      "Regarding index 0, the difference is 2105 mas, and the tolerance is set to 100 mas.\n",
      "Regarding index 6, the difference is 2806 mas, and the tolerance is set to 100 mas.\n",
      "Regarding index 3, the difference is 1939 mas, and the tolerance is set to 100 mas.\n",
      "Regarding index 3, the difference is 953 mas, and the tolerance is set to 100 mas.\n",
      "Regarding index 10, the difference is 1396 mas, and the tolerance is set to 100 mas.\n",
      "Regarding index 0, the difference is 3008 mas, and the tolerance is set to 100 mas.\n",
      "Regarding index 3, the difference is 1125 mas, and the tolerance is set to 100 mas.\n",
      "Regarding index 6, the difference is 2015 mas, and the tolerance is set to 100 mas.\n",
      "Regarding index 6, the difference is 3218 mas, and the tolerance is set to 100 mas.\n",
      "Regarding index 3, the difference is 1247 mas, and the tolerance is set to 100 mas.\n",
      "Regarding index 6, the difference is 1111 mas, and the tolerance is set to 100 mas.\n",
      "Regarding index 7, the difference is 1147 mas, and the tolerance is set to 100 mas.\n",
      "Regarding index 10, the difference is 336 mas, and the tolerance is set to 100 mas.\n",
      "Regarding index 8, the difference is 1125 mas, and the tolerance is set to 100 mas.\n",
      "Regarding index 9, the difference is 1646 mas, and the tolerance is set to 100 mas.\n",
      "------------------------------------------------------------------------------------------------\n",
      "Epoch used as reference = 2019-07-22; second epoch = 2021-07-04.\n",
      "Regarding index 7, the difference is 24 mas, and the tolerance is set to 80 mas.\n",
      "Regarding index 4, the difference is 15 mas, and the tolerance is set to 80 mas.\n",
      "Regarding index 9, the difference is 18 mas, and the tolerance is set to 80 mas.\n",
      "Regarding index 10, the difference is 14 mas, and the tolerance is set to 80 mas.\n",
      "Regarding index 6, the difference is 3165 mas, and the tolerance is set to 80 mas.\n",
      "\n",
      "Number of objects observed at least twice consistent with background contaminants found: 4 / 5\n",
      "Regarding index 7, the difference is 565 mas, and the tolerance is set to 100 mas.\n",
      "Regarding index 4, the difference is 542 mas, and the tolerance is set to 100 mas.\n",
      "Regarding index 9, the difference is 557 mas, and the tolerance is set to 100 mas.\n",
      "Regarding index 10, the difference is 540 mas, and the tolerance is set to 100 mas.\n",
      "Regarding index 6, the difference is 3154 mas, and the tolerance is set to 100 mas.\n"
     ]
    }
   ],
   "source": [
    "target='HD154088' ; display=0; tolerance=80 ; force_input_bkg=0; two_epochs=1\n",
    "if target == 'GJ682': tolerance =180\n",
    "if target == 'HD136352': tolerance, force_input_bkg=140, 1\n",
    "DATES, RA_BKG,DEC_BKG,RA_ERR_BKG,DEC_ERR_BKG, RA_BOU,DEC_BOU,RA_ERR_BOU,DEC_ERR_BOU = proper_motion_diagnostic_combination_2epochs(dF,\n",
    "                                target=target, tol_bkg=tolerance, force_input_bkg=force_input_bkg, display=display)"
   ]
  },
  {
   "cell_type": "code",
   "execution_count": null,
   "metadata": {},
   "outputs": [],
   "source": []
  },
  {
   "cell_type": "code",
   "execution_count": 458,
   "metadata": {},
   "outputs": [],
   "source": [
    "\"\"\"\n",
    "NAME:\n",
    " import_functions_PMD\n",
    "\n",
    "PURPOSE:\n",
    " Import functions used to compute proper motion and plot them\n",
    "\n",
    "INPUTS:\n",
    " none\n",
    "\n",
    "OUTPUTS:\n",
    " none\n",
    "\n",
    "MODIFICATION HISTORY:\n",
    " 2021/10/01, Written by Célia DESGRANGE, IPAG/MPIA\n",
    "\n",
    "CONTRIBUTION:\n",
    "    Pierre Kervella: functions to extract Gaia/Hipparcos detection limits\n",
    "\"\"\"\n",
    "\n",
    "from import_packages_generic import *\n",
    "from import_functions_generic import *\n",
    "#from import_functions_PMD import *\n",
    "#from import_initialization_CaPMD_variables import *\n",
    "\n",
    "\n",
    "## Functions used to make nice plots ##\n",
    "def closer_positions(ra1,dec1,ra2,dec2,dra=0,ddec=0, tolerance=10, unit='mas', display=1):\n",
    "    '''\n",
    "    Find candidates observed in two different epochs.\n",
    "        Inputs:\n",
    "            .'ra1' (type=list/array): list/array of the right ascensions for the detections in the 1st epoch\n",
    "            .'dec1' (type=list/array): list/array of the declinations for the detections in the 1st epoch\n",
    "            .'ra2' (type=list/array): list/array of the right ascensions for the detections in the 2nd epoch\n",
    "            .'dec2' (type=list/array): list/array of the declinations for the detections in the 2nd epoch\n",
    "            (optional, below:)\n",
    "            .'dra' (type=int/float): shift to apply to the second epoch (proper motion in RA)\n",
    "            .'ddec' (type=int/float): shift to apply to the second epoch (proper motion in DEC)\n",
    "            .'tolerance' (type=int/float): difference tolerated. In practice it is the some of the differences between ra1/ra2_closer and dec1/dec2_closer\n",
    "            .'unit' (type='string'): indicate which unit is considered, but for now, no importance.\n",
    "            .'display' (type='boolean'): indicate if display the matching values between 1st/2nd epoch and the\n",
    "                            difference between 1st/2nd epoch values(just to check)\n",
    "\n",
    "        Outputs:\n",
    "            Return the detections observed in two epoch, more precisely:\n",
    "                .their indexes in 1st epoch\n",
    "                .their indexes in 2nd epoch\n",
    "                .their RA and DEC in 2nd epoch (could be removed I guess)\n",
    "    '''\n",
    "    ra2_shift = np.round(np.array(ra2)-dra,2)\n",
    "    dec2_shift = np.round(np.array(dec2)-ddec,2)\n",
    "    N_possibilities = len(ra1) #np.nanmax([len(ra1),len(ra2)])\n",
    "    INDEX1, INDEX_CLOSER, RA_CLOSER, DEC_CLOSER = [], [], [], []\n",
    "\n",
    "    for k in range(N_possibilities):\n",
    "        wanted = [ra1[k],dec1[k]]\n",
    "        L      = [ra2_shift,dec2_shift]\n",
    "        #print('closer_positions',L)\n",
    "        index, diff = index_closer(wanted, L, constraints='several', output_diff=True)\n",
    "\n",
    "        # if the closest value is still too far, do not consider it\n",
    "        print('Regarding index {}, the difference is {:.0f} mas, and the tolerance is set to {:.0f} {}.'.format(index, diff, tolerance, unit))\n",
    "        #if diff[index] < tolerance :\n",
    "        if diff < tolerance :\n",
    "            if display: print('error = {:.1f} mas \\nwanted = {} (ep1) but {} (ep2 shifted) i.e. {} (ep2)'.format(diff, \n",
    "                    wanted, [ra2_shift[index],dec2_shift[index]],[ra2[index],dec2[index]]))\n",
    "            INDEX1.append(k)\n",
    "            INDEX_CLOSER.append(index)\n",
    "            RA_CLOSER.append(ra2[index])\n",
    "            DEC_CLOSER.append(dec2[index])\n",
    "    return np.array(INDEX1),np.array(INDEX_CLOSER), np.array(RA_CLOSER), np.array(DEC_CLOSER)\n",
    "\n",
    "\n",
    "\n",
    "#\n",
    "def timedelta_between_2epochs(target,epochs,unit='year'):\n",
    "    '''\n",
    "    Return the proper motion expected for background contaminants between two epochs\n",
    "        Inputs:\n",
    "            'target' (type=string):\n",
    "                    example 'HD154088'\n",
    "            'epochs' (type=list/array of strings):\n",
    "                    example np.array(['2017-06-21', '2019-07-22', '2021-07-04'])\n",
    "            (optional)\n",
    "            'unit' (type=string): precise in which units to return the timedelta\n",
    "                    Default is in 'year'. Other option implemented: 'day', 'hour',\n",
    "                    'minute', and 'second'.\n",
    "    '''\n",
    "    T = Time(epochs, format='isot', scale='utc')\n",
    "    timedelta = ((T[1]-T[0])).value\n",
    "    if unit == 'year': return timedelta/365.25\n",
    "    elif unit == 'day' : return timedelta\n",
    "    elif unit == 'hour': return timedelta*24*3600\n",
    "    elif unit == 'minute': return timedelta*24*60\n",
    "    elif unit == 'second': return timedelta*24*3600\n",
    "    else : return print(\"this unit is not yet implemented\")\n",
    "\n",
    "\n",
    "def find_proper_motion_between_2epochs(target,epochs,unit='mas',pixarc=12.25):\n",
    "     '''\n",
    "     Return the proper motion expected for background contaminants between two epochs\n",
    "         Inputs:\n",
    "             'target' (type=string):\n",
    "                     example 'HD154088'\n",
    "             'epochs' (type=list/array of strings):\n",
    "                     example np.array(['2017-06-21', '2019-07-22', '2021-07-04'])\n",
    "             (optional below)\n",
    "             'unit' (type=string): precise in which units to return the proper motion\n",
    "                     Default is in 'mas'. Other option implemented: 'pixel'.\n",
    "             'pixarc' (type=float): in case the 'unit' is to 'pixel', precise what is\n",
    "                     the factor of conversion. Default is 12.25 mas, corresponding to\n",
    "                     the platescale from the SPHERE-IRDIS instrument.\n",
    "     '''\n",
    "     timedelta = timedelta_between_2epochs(target,epochs,unit='year')\n",
    "\n",
    "     result_table_names = customSimbad.query_object(target)\n",
    "     pm_ra, pm_dec = result_table_names['PMRA'], -result_table_names['PMDEC']\n",
    "     pm_ra, pm_dec = float(pm_ra.value)*timedelta, float(pm_dec.value)*timedelta\n",
    "     if unit == 'mas':\n",
    "         return pm_ra, pm_dec\n",
    "     if unit == 'pixel':\n",
    "         return pm_ra/pixarc, pm_dec/pixarc\n",
    "     #print(\"Proper motion per year:\", pm_ra, pm_dec)\n",
    "     #print(\"Proper motion between the two epochs\", pm_ra*timedelta, pm_dec*timedelta)\n",
    "     return\n",
    "\n",
    "\n",
    "def find_proper_motion_per_year(target,unit='mas',pixarc=12.25):\n",
    "    '''\n",
    "    Return the proper motion expected for background contaminants between two epochs\n",
    "        Inputs:\n",
    "            'target' (type=string):\n",
    "                    example 'HD154088'\n",
    "            (optional below)\n",
    "            'unit' (type=string): precise in which units to return the proper motion\n",
    "                    Default is in 'mas'. Other option implemented: 'pixel'.\n",
    "            'pixarc' (type=float): in case the 'unit' is to 'pixel', precise what is\n",
    "                    the factor of conversion. Default is 12.25 mas, corresponding to\n",
    "                    the platescale from the SPHERE-IRDIS instrument.\n",
    "    '''\n",
    "    epochs = [\"2021-01-01\",\"2022-01-01\"]\n",
    "    return find_proper_motion_between_2epochs(target,epochs,unit=unit,pixarc=pixarc)\n",
    "\n",
    "\n",
    "\n",
    "\n",
    "\n",
    "\n",
    "\n",
    "\n",
    "def proper_motion_diagnostic_combination_2epochs(dF, target, tol_bkg=180, tolerance_background_max=180, \n",
    "                                                 force_input_bkg=0, unit='pixel', display=1):\n",
    "    '''\n",
    "    Find candidates observed in two different epochs.\n",
    "        Inputs:\n",
    "            .'dF' (type=dataframe): list of lists of the right ascensions for the detections in the differents epoch\n",
    "            .'Y' (type=2D-list/array): list of lists of the declinations for the detections in the different epoch\n",
    "            .'EPOCHS' (type=1D-list/array): list of the epochs\n",
    "            (optional, below:)\n",
    "            .'tolerance' (type=int/float): difference tolerated. In practice it is the some of the differences between ra1/ra2_closer and dec1/dec2_closer\n",
    "            .'unit' (type='string'): indicate which unit is considered, but for now, no importance.\n",
    "            .'display' (type='boolean'): indicate if display the matching values between 1st/2nd epoch and the\n",
    "                            difference between 1st/2nd epoch values(just to check)\n",
    "\n",
    "        Outputs:\n",
    "            Return the common (and uncommon) candidates for each comparison:\n",
    "                .'epochs_compared' (type=1D-list): list of epochs compared\n",
    "                .''\n",
    "                .their indexes in 1st epoch\n",
    "                .their indexes in 2nd epoch\n",
    "                .their RA and DEC in 2nd epoch (could be removed I guess)\n",
    "    '''\n",
    "    #dF, target\n",
    "\n",
    "    cond_target = dF['target']==target\n",
    "    unique_epochs = np.unique(np.array(dF[cond_target]['epoch']))\n",
    "\n",
    "    tolerance_background_ref = tol_bkg\n",
    "    tolerance_promising = 100\n",
    "\n",
    "    ep_comp, bkg_cand_RA, bkg_cand_DEC, bound_cand_RA, bound_cand_DEC = [],[],[],[],[]\n",
    "    bkg_cand_RA_err, bkg_cand_DEC_err, bound_cand_RA_err, bound_cand_DEC_err = [],[],[],[]\n",
    "\n",
    "    print('\\nThere are {} epochs available.'.format(len(unique_epochs)))\n",
    "\n",
    "    for j in range(1,len(unique_epochs)):\n",
    "        for k in range(j):\n",
    "            epoch1, epoch2, unit = unique_epochs[k], unique_epochs[j], 'mas'\n",
    "            print('------------------------------------------------------------------------------------------------')\n",
    "            print('Epoch used as reference = {}; second epoch = {}.'.format(epoch1, epoch2))\n",
    "            cond_target_epoch1 = np.logical_and(cond_target, dF['epoch']==epoch1)\n",
    "            cond_target_epoch2 = np.logical_and(cond_target, dF['epoch']==epoch2)\n",
    "\n",
    "            pm_ra_yr, pm_dec_yr = find_proper_motion_per_year(target,unit=unit)\n",
    "            pm_ra, pm_dec = find_proper_motion_between_2epochs(target,[epoch1, epoch2],unit=unit)\n",
    "\n",
    "            if display :\n",
    "                print(\"Proper motion per year: {:.1f} {} {:.1f} {}\".format(pm_ra_yr, unit, pm_dec_yr, unit))\n",
    "                print(\"Proper motion between the two epochs: {:.1f} {} {:.1f} {}\".format(pm_ra, unit, pm_dec, unit))\n",
    "                print(\"Shift expected if background: {:.1f}\".format(np.sqrt(pm_ra**2+pm_dec**2)))\n",
    "\n",
    "            #print('tolerance_background_ref {:.1f} mas'.format(tolerance_background_ref))\n",
    "            tolerance_background = np.max([tolerance_background_ref, np.sqrt(pm_ra**2+pm_dec**2) / 10])\n",
    "            #print('tolerance_background {:.1f} mas'.format(tolerance_background))\n",
    "            if tolerance_background > tolerance_background_max : tolerance_background = tolerance_background_max\n",
    "            if force_input_bkg: tolerance_background = tolerance_background_ref\n",
    "        \n",
    "            if display: print(\"We fix the tolerance at {:.0f} mas.\".format(tolerance_background))\n",
    "            ra1, dec1 = np.array(dF[cond_target_epoch1]['ra_mas']), np.array(dF[cond_target_epoch1]['dec_mas'])\n",
    "            ra1_err, dec1_err = np.array(dF[cond_target_epoch1]['ra_err_mas']), np.array(dF[cond_target_epoch1]['dec_err_mas'])\n",
    "            ra2, dec2 = np.array(dF[cond_target_epoch2]['ra_mas']), np.array(dF[cond_target_epoch2]['dec_mas'])\n",
    "            ra2_err, dec2_err = np.array(dF[cond_target_epoch2]['ra_err_mas']), np.array(dF[cond_target_epoch2]['dec_err_mas'])\n",
    "\n",
    "\n",
    "            # background\n",
    "            idx1, idx2, dum, dum = closer_positions(ra1, dec1, ra2, dec2, dra=-pm_ra, ddec=pm_dec,\n",
    "                                                    tolerance=tolerance_background, display=display)\n",
    "\n",
    "            #idx1_all, idx2_all = np.arange(0,len(ra1),1), np.arange(0,len(ra2),1)\n",
    "            if display:\n",
    "                print(\"\\nra1 =\\n{}\\n dec1 = \\n{}\\n\\nra2 =\\n{}\\n dec2 = \\n{}\".format(ra1, dec1, ra2, dec2))\n",
    "                print(\"\\nra2-pm =\\n{}\\n dec2-pm = \\n{}\".format(ra2+pm_ra, dec2-pm_dec))\n",
    "\n",
    "            # Stock them\n",
    "            ep_comp.append([epoch1,epoch2])\n",
    "\n",
    "            try:\n",
    "                bkg_cand_RA.append(np.array([ra1[idx1],ra2[idx2]])); bkg_cand_DEC.append(np.array([dec1[idx1],dec2[idx2]]))\n",
    "                bkg_cand_RA_err.append(np.array([ra1_err[idx1],ra2_err[idx2]])); bkg_cand_DEC_err.append(np.array([dec1_err[idx1],dec2_err[idx2]]))\n",
    "\n",
    "            except:\n",
    "                bkg_cand_RA.append(np.array([[None],[None]])); bkg_cand_DEC.append(np.array([[None],[None]]))\n",
    "                bkg_cand_RA_err.append(np.array([[None],[None]])); bkg_cand_DEC_err.append(np.array([[None],[None]]))\n",
    "\n",
    "            print('\\nNumber of objects observed at least twice consistent with background contaminants found: {} / {}'.format(len(idx1),np.min([len(ra1),len(ra2)])))\n",
    "\n",
    "            # detection(s) observed at least twice and following a background i.e. epicycle motion\n",
    "\n",
    "            # promising\n",
    "            idx1, idx2, dum, dum = closer_positions(ra1, dec1, ra2, dec2, dra=0, ddec=0,\n",
    "                                                    tolerance=tolerance_promising,display=0)\n",
    "            # Stock them\n",
    "\n",
    "            try:\n",
    "                bound_cand_RA.append(np.array([ra1[idx1],ra2[idx2]])); bound_cand_DEC.append(np.array([dec1[idx1],dec2[idx2]]))\n",
    "                bound_cand_RA_err.append(np.array([ra1_err[idx1],ra2_err[idx2]])); bound_cand_DEC_err.append(np.array([dec1_err[idx1],dec2_err[idx2]]))\n",
    "            except:\n",
    "                bound_cand_RA.append(np.array([[None],[None]])); bound_cand_DEC.append(np.array([[None],[None]]))\n",
    "                bound_cand_RA_err.append(np.array([[None],[None]])); bound_cand_DEC_err.append(np.array([[None],[None]]))\n",
    "\n",
    "    return ep_comp, bkg_cand_RA, bkg_cand_DEC, bkg_cand_RA_err, bkg_cand_DEC_err, bound_cand_RA, bound_cand_DEC, bound_cand_RA_err, bound_cand_DEC_err\n",
    "\n",
    "\n",
    "\n",
    "def proper_motion_diagnostic_combination_all_epochs(dF, target, tol_bkg=180, tolerance_background_max=180, force_input_bkg=0,\n",
    "                                                    unit='pixel', display=1):\n",
    "    '''\n",
    "    Find candidates observed in two different epochs.\n",
    "        Inputs:\n",
    "            .'X' (type=2D-list/array): list of lists of the right ascensions for the detections in the differents epoch\n",
    "            .'Y' (type=2D-list/array): list of lists of the declinations for the detections in the different epoch\n",
    "            .'EPOCHS' (type=1D-list/array): list of the epochs\n",
    "            (optional, below:)\n",
    "            .'tolerance' (type=int/float): difference tolerated. In practice it is the some of the differences between ra1/ra2_closer and dec1/dec2_closer\n",
    "            .'unit' (type='string'): indicate which unit is considered, but for now, no importance.\n",
    "            .'display' (type='boolean'): indicate if display the matching values between 1st/2nd epoch and the\n",
    "                            difference between 1st/2nd epoch values(just to check)\n",
    "\n",
    "        Outputs:\n",
    "            Return the common (and uncommon) candidates for each comparison:\n",
    "                .'epochs_compared' (type=1D-list): list of epochs compared\n",
    "                .''\n",
    "                .their indexes in 1st epoch\n",
    "                .their indexes in 2nd epoch\n",
    "                .their RA and DEC in 2nd epoch (could be removed I guess)\n",
    "    '''\n",
    "    #dF, target\n",
    "\n",
    "    cond_target = dF['target']==target\n",
    "    unique_epochs = np.unique(np.array(dF[cond_target]['epoch']))\n",
    "\n",
    "    tolerance_background_ref = tol_bkg\n",
    "    tolerance_promising = 100\n",
    "\n",
    "    ep_comp, cand_RA, cand_DEC = [],[],[]\n",
    "    bkg_cand_idx, cand_RA_err, cand_DEC_err = [], [],[]\n",
    "\n",
    "    print('\\nThere are {} epochs available.'.format(len(unique_epochs)))\n",
    "\n",
    "    for j in range(1,len(unique_epochs)):\n",
    "        epoch1, epoch2, unit = unique_epochs[0], unique_epochs[j], 'mas'\n",
    "        print('------------------------------------------------------------------------------------------------')\n",
    "        print('Epoch used as reference = {}; second epoch = {}.'.format(epoch1, epoch2))\n",
    "        cond_target_epoch1 = np.logical_and(cond_target, dF['epoch']==epoch1)\n",
    "        cond_target_epoch2 = np.logical_and(cond_target, dF['epoch']==epoch2)\n",
    "\n",
    "        pm_ra_yr, pm_dec_yr = find_proper_motion_per_year(target,unit=unit)\n",
    "        pm_ra, pm_dec = find_proper_motion_between_2epochs(target,[epoch1, epoch2],unit=unit)\n",
    "\n",
    "        if display :\n",
    "            print(\"Proper motion per year: {:.1f} {} {:.1f} {}\".format(pm_ra_yr, unit, pm_dec_yr, unit))\n",
    "            print(\"Proper motion between the two epochs: {:.1f} {} {:.1f} {}\".format(pm_ra, unit, pm_dec, unit))\n",
    "            print(\"Shift expected if background: {:.1f}\".format(np.sqrt(pm_ra**2+pm_dec**2)))\n",
    "        #print('tolerance_background_ref {:.1f} mas'.format(tolerance_background_ref))\n",
    "        tolerance_background = np.max([tolerance_background_ref, np.sqrt(pm_ra**2+pm_dec**2) / 12])\n",
    "        #print('tolerance_background {:.1f} mas'.format(tolerance_background))\n",
    "        if tolerance_background > tolerance_background_max : tolerance_background = tolerance_background_max\n",
    "        if force_input_bkg: tolerance_background = tolerance_background_ref\n",
    "                \n",
    "        if display: print(\"We fix the tolerance at {:.0f} mas.\".format(tolerance_background))\n",
    "        ra1, dec1 = np.array(dF[cond_target_epoch1]['ra_mas']), np.array(dF[cond_target_epoch1]['dec_mas'])\n",
    "        ra1_err, dec1_err = np.array(dF[cond_target_epoch1]['ra_err_mas']), np.array(dF[cond_target_epoch1]['dec_err_mas'])\n",
    "        ra2, dec2 = np.array(dF[cond_target_epoch2]['ra_mas']), np.array(dF[cond_target_epoch2]['dec_mas'])\n",
    "        ra2_err, dec2_err = np.array(dF[cond_target_epoch2]['ra_err_mas']), np.array(dF[cond_target_epoch2]['dec_err_mas'])\n",
    "\n",
    "        # background\n",
    "        idx1, idx2, dum, dum = closer_positions(ra1, dec1, ra2, dec2, dra=-pm_ra, ddec=pm_dec,\n",
    "                                                tolerance=tolerance_background, display=display)\n",
    "\n",
    "        #idx1_all, idx2_all = np.arange(0,len(ra1),1), np.arange(0,len(ra2),1)\n",
    "        if display:\n",
    "            print(\"\\nra1 =\\n{}\\n dec1 = \\n{}\\n\\nra2 =\\n{}\\n dec2 = \\n{}\".format(ra1, dec1, ra2, dec2))\n",
    "            print(\"\\nra2-pm =\\n{}\\n dec2-pm = \\n{}\".format(ra2+pm_ra, dec2-pm_dec))\n",
    "\n",
    "        # Stock them\n",
    "        ep_comp.append([epoch1,epoch2])\n",
    "\n",
    "        try:\n",
    "            cand_RA.append(np.array([ra1,ra2])); cand_DEC.append(np.array([dec1,dec2]))\n",
    "            cand_RA_err.append(np.array([ra1_err,ra2_err])); cand_DEC_err.append(np.array([dec1_err,dec2_err]))\n",
    "            bkg_cand_idx.append(np.array([idx1,idx2]))\n",
    "\n",
    "        except:\n",
    "            cand_RA.append(np.array([[None],[None]])); cand_DEC.append(np.array([[None],[None]]))\n",
    "            cand_RA_err.append(np.array([[None],[None]])); cand_DEC_err.append(np.array([[None],[None]]))\n",
    "            bkg_cand_idx.append(np.array([[None],[None]]))\n",
    "\n",
    "        print('\\nNumber of objects observed at least twice consistent with background contaminants found: {} / {}'.format(len(idx1),np.min([len(ra1),len(ra2)])))\n",
    "\n",
    "\n",
    "\n",
    "    #Just to know:\n",
    "    list_idx_ref_ep1 = bkg_cand_idx[0][0] #which correspond in ep2 bkg_cand_idx[0][1]\n",
    "\n",
    "    idx_everytime, RA_BKG_everytime, RA_ERR_BKG_everytime, DEC_BKG_everytime, DEC_ERR_BKG_everytime = [], [], [], [], []\n",
    "    # loop over the index of the candidates in one epoch which are common in at least one other epoch\n",
    "    for i, idx_ref in enumerate(list_idx_ref_ep1):\n",
    "        if len(unique_epochs) == 3:\n",
    "            # if the candidate is found as well in the third epoch i.e. in the second comparison of epochs\n",
    "\n",
    "            if idx_ref in bkg_cand_idx[1][0]:\n",
    "                # add the candidate in the memory\n",
    "                idx_add_epoch2 = bkg_cand_idx[0][1][i]\n",
    "                idx_add_epoch3 = bkg_cand_idx[1][1][np.where(bkg_cand_idx[1][0]==idx_ref)[0][0]]\n",
    "\n",
    "                idx_everytime.append([idx_ref, idx_add_epoch2, idx_add_epoch3])\n",
    "\n",
    "                # save its RA in the first epoch and second epoch\n",
    "\n",
    "                ra1, ra2, ra3 = cand_RA[0][0][idx_ref], cand_RA[0][1][idx_add_epoch2], cand_RA[1][1][idx_add_epoch3]\n",
    "                ra_err1, ra_err2, ra_err3 = cand_RA_err[0][0][idx_ref], cand_RA_err[0][1][idx_add_epoch2], cand_RA_err[1][1][idx_add_epoch3]\n",
    "                dec1, dec2, dec3 = cand_DEC[0][0][idx_ref], cand_DEC[0][1][idx_add_epoch2], cand_DEC[1][1][idx_add_epoch3]\n",
    "                dec_err1, dec_err2, dec_err3 = cand_DEC_err[0][0][idx_ref], cand_DEC_err[0][1][idx_add_epoch2], cand_DEC_err[1][1][idx_add_epoch3]\n",
    "\n",
    "                RA_BKG_everytime.append([ra1,ra2,ra3])\n",
    "                RA_ERR_BKG_everytime.append([ra_err1,ra_err2,ra_err3])\n",
    "                DEC_BKG_everytime.append([dec1,dec2,dec3])\n",
    "                DEC_ERR_BKG_everytime.append([dec_err1,dec_err2,dec_err3])\n",
    "\n",
    "        if len(unique_epochs) == 4:\n",
    "            # if the candidate is found as well in the third epoch i.e. in the second comparison of epochs\n",
    "\n",
    "            if idx_ref in bkg_cand_idx[1][0] and idx_ref in bkg_cand_idx[2][0]:\n",
    "                # add the candidate in the memory\n",
    "                idx_add_epoch2 = bkg_cand_idx[0][1][i]\n",
    "                idx_add_epoch3 = bkg_cand_idx[1][1][np.where(bkg_cand_idx[1][0]==idx_ref)[0][0]]\n",
    "                idx_add_epoch4 = bkg_cand_idx[2][1][np.where(bkg_cand_idx[2][0]==idx_ref)[0][0]]\n",
    "\n",
    "                idx_everytime.append([idx_ref, idx_add_epoch2, idx_add_epoch3, idx_add_epoch4])\n",
    "                # save its RA in the first epoch and second epoch\n",
    "\n",
    "                ra1, ra2, ra3, ra4 = cand_RA[0][0][idx_ref], cand_RA[0][1][idx_add_epoch2], cand_RA[1][1][idx_add_epoch3], cand_RA[2][1][idx_add_epoch4]\n",
    "                ra_err1, ra_err2, ra_err3, ra_err4 = cand_RA_err[0][0][idx_ref], cand_RA_err[0][1][idx_add_epoch2], cand_RA_err[1][1][idx_add_epoch3], cand_RA_err[2][1][idx_add_epoch4]\n",
    "                dec1, dec2, dec3, dec4 = cand_DEC[0][0][idx_ref], cand_DEC[0][1][idx_add_epoch2], cand_DEC[1][1][idx_add_epoch3], cand_DEC[2][1][idx_add_epoch4]\n",
    "                dec_err1, dec_err2, dec_err3, dec_err4 = cand_DEC_err[0][0][idx_ref], cand_DEC_err[0][1][idx_add_epoch2], cand_DEC_err[1][1][idx_add_epoch3], cand_DEC_err[2][1][idx_add_epoch4]\n",
    "\n",
    "                RA_BKG_everytime.append([ra1,ra2,ra3,ra4])\n",
    "                RA_ERR_BKG_everytime.append([ra_err1,ra_err2,ra_err3,ra_err4])\n",
    "                DEC_BKG_everytime.append([dec1,dec2,dec3,dec4])\n",
    "                DEC_ERR_BKG_everytime.append([dec_err1,dec_err2,dec_err3,dec_err4])\n",
    "\n",
    "    RA_BKG_everytime = np.array(RA_BKG_everytime).transpose()\n",
    "    RA_ERR_BKG_everytime = np.array(RA_ERR_BKG_everytime).transpose()\n",
    "    DEC_BKG_everytime = np.array(DEC_BKG_everytime).transpose()\n",
    "    DEC_ERR_BKG_everytime = np.array(DEC_ERR_BKG_everytime).transpose()\n",
    "    # format:\n",
    "    # first line = in first epoch, positions of all the candidates detected everytime\n",
    "    # second line = in second epoch, positions of all the candidates detected everytime\n",
    "    # etc\n",
    "\n",
    "    return unique_epochs, RA_BKG_everytime, DEC_BKG_everytime, RA_ERR_BKG_everytime, DEC_ERR_BKG_everytime\n"
   ]
  },
  {
   "cell_type": "markdown",
   "metadata": {},
   "source": [
    "## Load candidates information for the comparison of 3 or more epochs "
   ]
  },
  {
   "cell_type": "code",
   "execution_count": 406,
   "metadata": {
    "scrolled": false
   },
   "outputs": [
    {
     "name": "stdout",
     "output_type": "stream",
     "text": [
      "\n",
      "There are 3 epochs available.\n",
      "------------------------------------------------------------------------------------------------\n",
      "Epoch used as reference = 2017-06-23; second epoch = 2017-07-20.\n",
      "Regarding index 23, the difference is 80 mas, and the tolerance is set to 180 mas.\n",
      "Regarding index 26, the difference is 92 mas, and the tolerance is set to 180 mas.\n",
      "Regarding index 24, the difference is 86 mas, and the tolerance is set to 180 mas.\n",
      "Regarding index 7, the difference is 88 mas, and the tolerance is set to 180 mas.\n",
      "Regarding index 20, the difference is 82 mas, and the tolerance is set to 180 mas.\n",
      "Regarding index 25, the difference is 86 mas, and the tolerance is set to 180 mas.\n",
      "Regarding index 27, the difference is 87 mas, and the tolerance is set to 180 mas.\n",
      "Regarding index 22, the difference is 89 mas, and the tolerance is set to 180 mas.\n",
      "Regarding index 0, the difference is 91 mas, and the tolerance is set to 180 mas.\n",
      "Regarding index 9, the difference is 87 mas, and the tolerance is set to 180 mas.\n",
      "Regarding index 14, the difference is 88 mas, and the tolerance is set to 180 mas.\n",
      "Regarding index 21, the difference is 84 mas, and the tolerance is set to 180 mas.\n",
      "Regarding index 17, the difference is 91 mas, and the tolerance is set to 180 mas.\n",
      "Regarding index 18, the difference is 89 mas, and the tolerance is set to 180 mas.\n",
      "Regarding index 2, the difference is 89 mas, and the tolerance is set to 180 mas.\n",
      "Regarding index 1, the difference is 1387 mas, and the tolerance is set to 180 mas.\n",
      "Regarding index 4, the difference is 89 mas, and the tolerance is set to 180 mas.\n",
      "Regarding index 3, the difference is 83 mas, and the tolerance is set to 180 mas.\n",
      "Regarding index 13, the difference is 88 mas, and the tolerance is set to 180 mas.\n",
      "Regarding index 17, the difference is 1501 mas, and the tolerance is set to 180 mas.\n",
      "Regarding index 4, the difference is 1085 mas, and the tolerance is set to 180 mas.\n",
      "Regarding index 21, the difference is 3336 mas, and the tolerance is set to 180 mas.\n",
      "Regarding index 14, the difference is 3055 mas, and the tolerance is set to 180 mas.\n",
      "Regarding index 16, the difference is 90 mas, and the tolerance is set to 180 mas.\n",
      "Regarding index 5, the difference is 84 mas, and the tolerance is set to 180 mas.\n",
      "\n",
      "Number of objects observed at least twice consistent with background contaminants found: 20 / 25\n",
      "------------------------------------------------------------------------------------------------\n",
      "Epoch used as reference = 2017-06-23; second epoch = 2019-07-05.\n",
      "Regarding index 8, the difference is 31 mas, and the tolerance is set to 199 mas.\n",
      "Regarding index 9, the difference is 335 mas, and the tolerance is set to 199 mas.\n",
      "Regarding index 0, the difference is 402 mas, and the tolerance is set to 199 mas.\n",
      "Regarding index 7, the difference is 1199 mas, and the tolerance is set to 199 mas.\n",
      "Regarding index 8, the difference is 3146 mas, and the tolerance is set to 199 mas.\n",
      "Regarding index 9, the difference is 30 mas, and the tolerance is set to 199 mas.\n",
      "Regarding index 7, the difference is 30 mas, and the tolerance is set to 199 mas.\n",
      "Regarding index 9, the difference is 2203 mas, and the tolerance is set to 199 mas.\n",
      "Regarding index 6, the difference is 2559 mas, and the tolerance is set to 199 mas.\n",
      "Regarding index 0, the difference is 34 mas, and the tolerance is set to 199 mas.\n",
      "Regarding index 0, the difference is 927 mas, and the tolerance is set to 199 mas.\n",
      "Regarding index 4, the difference is 26 mas, and the tolerance is set to 199 mas.\n",
      "Regarding index 3, the difference is 39 mas, and the tolerance is set to 199 mas.\n",
      "Regarding index 6, the difference is 43 mas, and the tolerance is set to 199 mas.\n",
      "Regarding index 7, the difference is 2946 mas, and the tolerance is set to 199 mas.\n",
      "Regarding index 2, the difference is 42 mas, and the tolerance is set to 199 mas.\n",
      "Regarding index 7, the difference is 3220 mas, and the tolerance is set to 199 mas.\n",
      "Regarding index 8, the difference is 4109 mas, and the tolerance is set to 199 mas.\n",
      "Regarding index 6, the difference is 278 mas, and the tolerance is set to 199 mas.\n",
      "Regarding index 3, the difference is 1475 mas, and the tolerance is set to 199 mas.\n",
      "Regarding index 7, the difference is 4100 mas, and the tolerance is set to 199 mas.\n",
      "Regarding index 1, the difference is 26 mas, and the tolerance is set to 199 mas.\n",
      "Regarding index 5, the difference is 22 mas, and the tolerance is set to 199 mas.\n",
      "Regarding index 7, the difference is 2523 mas, and the tolerance is set to 199 mas.\n",
      "Regarding index 4, the difference is 2576 mas, and the tolerance is set to 199 mas.\n",
      "\n",
      "Number of objects observed at least twice consistent with background contaminants found: 10 / 10\n"
     ]
    },
    {
     "name": "stderr",
     "output_type": "stream",
     "text": [
      "/var/folders/k2/sfv4r4z938l77n1t4ydth2v401phl2/T/ipykernel_1604/674412326.py:325: VisibleDeprecationWarning: Creating an ndarray from ragged nested sequences (which is a list-or-tuple of lists-or-tuples-or ndarrays with different lengths or shapes) is deprecated. If you meant to do this, you must specify 'dtype=object' when creating the ndarray.\n",
      "  cand_RA.append(np.array([ra1,ra2])); cand_DEC.append(np.array([dec1,dec2]))\n",
      "/var/folders/k2/sfv4r4z938l77n1t4ydth2v401phl2/T/ipykernel_1604/674412326.py:326: VisibleDeprecationWarning: Creating an ndarray from ragged nested sequences (which is a list-or-tuple of lists-or-tuples-or ndarrays with different lengths or shapes) is deprecated. If you meant to do this, you must specify 'dtype=object' when creating the ndarray.\n",
      "  cand_RA_err.append(np.array([ra1_err,ra2_err])); cand_DEC_err.append(np.array([dec1_err,dec2_err]))\n",
      "/var/folders/k2/sfv4r4z938l77n1t4ydth2v401phl2/T/ipykernel_1604/674412326.py:325: VisibleDeprecationWarning: Creating an ndarray from ragged nested sequences (which is a list-or-tuple of lists-or-tuples-or ndarrays with different lengths or shapes) is deprecated. If you meant to do this, you must specify 'dtype=object' when creating the ndarray.\n",
      "  cand_RA.append(np.array([ra1,ra2])); cand_DEC.append(np.array([dec1,dec2]))\n",
      "/var/folders/k2/sfv4r4z938l77n1t4ydth2v401phl2/T/ipykernel_1604/674412326.py:326: VisibleDeprecationWarning: Creating an ndarray from ragged nested sequences (which is a list-or-tuple of lists-or-tuples-or ndarrays with different lengths or shapes) is deprecated. If you meant to do this, you must specify 'dtype=object' when creating the ndarray.\n",
      "  cand_RA_err.append(np.array([ra1_err,ra2_err])); cand_DEC_err.append(np.array([dec1_err,dec2_err]))\n"
     ]
    }
   ],
   "source": [
    "target='GJ682' ; display=0 ; two_epochs=0\n",
    "DATES, RA_BKG,DEC_BKG,RA_ERR_BKG,DEC_ERR_BKG = proper_motion_diagnostic_combination_all_epochs(dF,target, display=display)"
   ]
  },
  {
   "cell_type": "markdown",
   "metadata": {},
   "source": [
    "## Properties: Observations / Candidates / Star"
   ]
  },
  {
   "cell_type": "code",
   "execution_count": 312,
   "metadata": {},
   "outputs": [
    {
     "data": {
      "text/plain": [
       "[array([[1842.6],\n",
       "        [6303.4]]),\n",
       " array([[1817.2, 1842.6],\n",
       "        [6669. , 6679.4]]),\n",
       " array([[-2624.7, -3060.5,  6303.4],\n",
       "        [-2244.3, -2676.2,  6679.4]])]"
      ]
     },
     "execution_count": 312,
     "metadata": {},
     "output_type": "execute_result"
    }
   ],
   "source": [
    "RA_BKG[:]"
   ]
  },
  {
   "cell_type": "code",
   "execution_count": 313,
   "metadata": {},
   "outputs": [
    {
     "data": {
      "text/plain": [
       "[array([[1420.1],\n",
       "        [-800.2]]),\n",
       " array([[1808.5, 1420.1],\n",
       "        [-533.6, -921.9]]),\n",
       " array([[-730.7,  281.2, -800.2],\n",
       "        [-854.5,  156.4, -921.9]])]"
      ]
     },
     "execution_count": 313,
     "metadata": {},
     "output_type": "execute_result"
    }
   ],
   "source": [
    "DEC_BKG[:]"
   ]
  },
  {
   "cell_type": "code",
   "execution_count": 235,
   "metadata": {},
   "outputs": [
    {
     "data": {
      "text/plain": [
       "['2017-07-14', '2021-07-04']"
      ]
     },
     "execution_count": 235,
     "metadata": {},
     "output_type": "execute_result"
    }
   ],
   "source": [
    "DATES[0]"
   ]
  },
  {
   "cell_type": "code",
   "execution_count": 224,
   "metadata": {},
   "outputs": [],
   "source": [
    "RA_BKG = np.array(RA_BKG)\n",
    "DEC_BKG = np.array(DEC_BKG)\n",
    "\n",
    "RA_ERR_BKG = np.array(RA_ERR_BKG)\n",
    "DEC_ERR_BKG = np.array(DEC_ERR_BKG)"
   ]
  },
  {
   "cell_type": "code",
   "execution_count": 225,
   "metadata": {},
   "outputs": [
    {
     "data": {
      "text/plain": [
       "array([[[ -943.7,  2261.5,  3772. ,  1995. ,    30.1],\n",
       "        [-3279.6,   -53.5,  1453.6,  -320.4, -2308.3]]])"
      ]
     },
     "execution_count": 225,
     "metadata": {},
     "output_type": "execute_result"
    }
   ],
   "source": [
    "RA_BKG"
   ]
  },
  {
   "cell_type": "code",
   "execution_count": 483,
   "metadata": {},
   "outputs": [
    {
     "name": "stdout",
     "output_type": "stream",
     "text": [
      "HD154088 2 epochs\n",
      "DATES:\n",
      "['2017-06-21', '2019-07-22']\n",
      "RA:\n",
      "[-4879.3 -5005.1]\n",
      "DEC:\n",
      "[1629.4 2186.7]\n"
     ]
    }
   ],
   "source": [
    "## Properties\n",
    "if two_epochs: \n",
    "    # Epoch properties\n",
    "    idx_ep_comp = 0# len(DATES)-1\n",
    "    dates = DATES[idx_ep_comp]\n",
    "    # Candidates properties\n",
    "    dra, ddec = RA_BKG[idx_ep_comp][:,0], DEC_BKG[idx_ep_comp][:,0]\n",
    "    dra_err, ddec_err = RA_ERR_BKG[idx_ep_comp][:,0], DEC_ERR_BKG[idx_ep_comp][:,0]\n",
    "    print(target,'2 epochs')\n",
    "    \n",
    "else:\n",
    "    # Epoch properties\n",
    "    dates = DATES\n",
    "    # Candidates properties\n",
    "    dra, ddec = RA_BKG[:,0], DEC_BKG[:,0]\n",
    "    dra_err, ddec_err = RA_ERR_BKG[:,0], DEC_ERR_BKG[:,0]\n",
    "    print(target,'3 epochs')\n",
    "\n",
    "n_epochs = len(dates) \n",
    "    \n",
    "    \n",
    "# Star properties\n",
    "cond_select_obj = (target==dF_prop['target name'])\n",
    "plx = float(dF_prop[cond_select_obj]['parallax'])\n",
    "plx_err = float(dF_prop[cond_select_obj]['e_parallax'])\n",
    "dist = float(dF_prop[cond_select_obj]['distance'])\n",
    "dist_err = plx_err/plx**2\n",
    "\n",
    "# Load some extra properties of the star from Simbad\n",
    "result_table_names = customSimbad.query_object(target)\n",
    "\n",
    "pm_err_star = np.max([result_table_names['PM_ERR_MAJA'][0],result_table_names['PM_ERR_MINA'][0]])\n",
    "prop = {\n",
    "    'ra': result_table_names['RA'][0],\n",
    "    'dec': result_table_names['DEC'][0],\n",
    "    'dist': dist,\n",
    "    'dist_err': dist_err,\n",
    "    'plx': plx,\n",
    "    'plx_err': plx_err,\n",
    "    'pm': [result_table_names['PMRA'][0],result_table_names['PMDEC'][0]],\n",
    "    'pm_err': [pm_err_star,pm_err_star],\n",
    "    #'pm_bkg': [-20, -30],\n",
    "    #'pm_bkg_err': [6.5, 5.8]\n",
    "}\n",
    "\n",
    "print(\"DATES:\\n{}\\nRA:\\n{}\\nDEC:\\n{}\".format(dates,dra,ddec))"
   ]
  },
  {
   "cell_type": "code",
   "execution_count": 450,
   "metadata": {},
   "outputs": [
    {
     "data": {
      "text/plain": [
       "[array([[-3745.7,   801.3, -3693. , -4482.1, -3713. ,  1102.4],\n",
       "        [  520. ,  5018.2,   520. ,  -264.6,   503.2,  5311.9]])]"
      ]
     },
     "execution_count": 450,
     "metadata": {},
     "output_type": "execute_result"
    }
   ],
   "source": [
    "RA_BKG"
   ]
  },
  {
   "cell_type": "code",
   "execution_count": 409,
   "metadata": {},
   "outputs": [],
   "source": [
    "#print(\"DATES:\\n{}\\nRA:\\n{}\\n DEC:\\n{}\".format(DATES,RA_BKG,DEC_BKG))"
   ]
  },
  {
   "cell_type": "markdown",
   "metadata": {},
   "source": [
    "### Load RA and DEC tracks expected if background"
   ]
  },
  {
   "cell_type": "code",
   "execution_count": 484,
   "metadata": {},
   "outputs": [
    {
     "name": "stdout",
     "output_type": "stream",
     "text": [
      "[4859.25 4860.25 4861.25 ... 8663.25 8664.25 8665.25]\n",
      "dra_err (2,)\n",
      "pm_ra_err ()\n",
      "x_earth (3807,)\n",
      "day_min ()\n",
      "y_earth (3807,)\n"
     ]
    },
    {
     "data": {
      "image/png": "[encoded data removed]",
      "text/plain": [
       "<Figure size 1360x640 with 3 Axes>"
      ]
     },
     "metadata": {},
     "output_type": "display_data"
    }
   ],
   "source": [
    "fig, ax, RA_track, DEC_track, RA_expected_bkg, DEC_expected_bkg = proper_motion.plots(target, dates, \n",
    "                        dra, dra_err, ddec, ddec_err, prop, \n",
    "                        legend_loc=0, return_tracks=1, return_expected_positions=1)\n",
    "mise_en_page(ax)\n",
    "plt.savefig('{}PMD_{}_overview_{}epochs.pdf'.format(saving_dir,target,n_epochs))"
   ]
  },
  {
   "cell_type": "code",
   "execution_count": null,
   "metadata": {},
   "outputs": [],
   "source": []
  },
  {
   "cell_type": "markdown",
   "metadata": {},
   "source": [
    "## Plot detections on the PMD\n"
   ]
  },
  {
   "cell_type": "markdown",
   "metadata": {},
   "source": [
    "#### Use a reference epoch to plot difference in relative declination vs difference in relative right ascension"
   ]
  },
  {
   "cell_type": "code",
   "execution_count": 485,
   "metadata": {},
   "outputs": [],
   "source": [
    "# General parameters \n",
    "# Fixed parameters for plotting\n",
    "xlab = r'$\\Delta \\alpha_{ref} - \\Delta \\alpha$ (mas)'\n",
    "ylab = r'$\\Delta \\delta_{ref} - \\Delta \\delta$ (mas)'\n",
    "\n",
    "# Mise en page\n",
    "loc, ncol = 'upper left',1 ; add_zoom_text = ''\n",
    "xdeb_leg, xfin_leg, ydeb_leg, yfin_leg = 1e4, -1e4, -1e4,  8000\n",
    "\n",
    "# zoom\n",
    "add_zoom, add_zoom2 = 0,0\n",
    "axes2_xdeb, axes2_ydeb, axes2_xlong, axes2_ylong = 0.67, 0.45, 0.22, 0.22\n",
    "xlim_zoom, ylim_zoom, dlim =  [-350,-440], [50,180], 40\n",
    "x_step_zoom=0; y_step_zoom=0 ; x_maj_step_zoom=20; x_min_step_zoom=5; y_maj_step_zoom=20; y_min_step_zoom=5\n",
    "\n",
    "# candidates/tracks\n",
    "label = '' ; add_candidate = 0\n",
    "marker = 'o'  ; marker_epoch = ['o','d','<']\n",
    "color_background = 'blue'\n",
    "color_detection = [[0.9,0.8,0],'red', 'teal', 'orange', 'purple', 'black', 'magenta',  [0.9,0.8,0], \n",
    "                   'navy', [0.4,0.4,1], [0.2,1,0.2], [0.5,1,0.5],  [0,0,0.5],  \n",
    "                   [0.5,0,0],  [0.9,0.5,0.9],  [0.2,0.8,1], [0.5,0.5,0.5] , 'forestgreen',\n",
    "                  'royalblue','mediumseagreen','palevioletred']\n"
   ]
  },
  {
   "cell_type": "code",
   "execution_count": null,
   "metadata": {},
   "outputs": [],
   "source": []
  },
  {
   "cell_type": "markdown",
   "metadata": {},
   "source": [
    "- More than 1 candidate and than 2 epochs"
   ]
  },
  {
   "cell_type": "code",
   "execution_count": 433,
   "metadata": {},
   "outputs": [
    {
     "name": "stdout",
     "output_type": "stream",
     "text": [
      "7 candidates\n"
     ]
    }
   ],
   "source": [
    "# Epochs considered\n",
    "n_epochs,n_candidates = len(DATES), len(RA_BKG[0])\n",
    "print(n_candidates, 'candidates')\n",
    "dates = DATES\n",
    "RA, DEC, RA_ERR, DEC_ERR = RA_BKG, DEC_BKG, RA_ERR_BKG, DEC_ERR_BKG\n",
    "XRA, YDEC = RA[0]-RA[:], DEC[0]-DEC[:]\n",
    "XRA_ERR, YDEC_ERR = np.sqrt(RA_ERR[0]**2+RA_ERR[:]**2), np.sqrt(DEC_ERR[0]**2+DEC_ERR[:]**2)"
   ]
  },
  {
   "cell_type": "code",
   "execution_count": null,
   "metadata": {},
   "outputs": [],
   "source": []
  },
  {
   "cell_type": "code",
   "execution_count": 432,
   "metadata": {},
   "outputs": [
    {
     "name": "stdout",
     "output_type": "stream",
     "text": [
      "3 7 [[0.9, 0.8, 0], 'red', 'teal', 'orange', 'purple', 'black', 'magenta', [0.9, 0.8, 0], 'navy', [0.4, 0.4, 1], [0.2, 1, 0.2], [0.5, 1, 0.5], [0, 0, 0.5], [0.5, 0, 0], [0.9, 0.5, 0.9], [0.2, 0.8, 1], [0.5, 0.5, 0.5], 'forestgreen', 'royalblue', 'mediumseagreen', 'palevioletred']\n",
      "2 7 [[0.9, 0.8, 0], 'red', 'teal', 'orange', 'purple', 'black', 'magenta', [0.9, 0.8, 0], 'navy', [0.4, 0.4, 1], [0.2, 1, 0.2], [0.5, 1, 0.5], [0, 0, 0.5], [0.5, 0, 0], [0.9, 0.5, 0.9], [0.2, 0.8, 1], [0.5, 0.5, 0.5], 'forestgreen', 'royalblue', 'mediumseagreen', 'palevioletred']\n",
      "2 7 [[0.9, 0.8, 0], 'red', 'teal', 'orange', 'purple', 'black', 'magenta', [0.9, 0.8, 0], 'navy', [0.4, 0.4, 1], [0.2, 1, 0.2], [0.5, 1, 0.5], [0, 0, 0.5], [0.5, 0, 0], [0.9, 0.5, 0.9], [0.2, 0.8, 1], [0.5, 0.5, 0.5], 'forestgreen', 'royalblue', 'mediumseagreen', 'palevioletred']\n"
     ]
    },
    {
     "data": {
      "image/png": "[encoded data removed]",
      "text/plain": [
       "<Figure size 400x360 with 3 Axes>"
      ]
     },
     "metadata": {},
     "output_type": "display_data"
    }
   ],
   "source": [
    "fig, ax = plt.subplots(1,1,figsize=(5,4.5))\n",
    "fig.subplots_adjust(left=0.18,bottom=0.12,top=0.97,right=0.95)\n",
    "\n",
    "## Add detections for each epoch ##\n",
    "fig_PMD_add_track_and_candidates(ax, RA_track,DEC_track, XRA,YDEC,YDEC_ERR,XRA_ERR, marker_epoch,\n",
    "                color_detection, color_bkg= color_background, n_candidates=n_candidates, \n",
    "                n_epochs=n_epochs, dates=dates)\n",
    "\n",
    "## Load specifications (target dependent) ##\n",
    "params = custom_sev_epochs_sev_candidates(target,ax,n_epochs=n_epochs) \n",
    "xlim, ylim = params['xlim'], params['ylim']\n",
    "x_step, y_step = params['x_step'], params['y_step']\n",
    "x_maj_step, y_maj_step = params['x_maj_step'], params['y_maj_step']\n",
    "x_min_step, y_min_step = params['x_min_step'], params['y_min_step']\n",
    "ydeb_leg, yfin_leg = params['ydeb_leg'], params['yfin_leg']\n",
    "xlim_zoom, ylim_zoom = params['xlim_zoom'], params['ylim_zoom']\n",
    "add_zoom, x_step_zoom, y_step_zoom = params['add_zoom'], params['x_step_zoom'], params['y_step_zoom']\n",
    "x_maj_step_zoom, y_maj_step_zoom = params['x_maj_step_zoom'], params['y_maj_step_zoom']\n",
    "x_min_step_zoom, y_min_step_zoom = params['x_min_step_zoom'], params['y_min_step_zoom']\n",
    "axes2_xdeb,   axes2_ydeb = params['axes2_xdeb'], params['axes2_ydeb']\n",
    "axes2_xlong, axes2_ylong = params['axes2_xlong'], params['axes2_ylong']\n",
    "\n",
    "add_zoom_2, xlim_zoom2, ylim_zoom2 = params['add_zoom_2'], params['xlim_zoom2'], params['ylim_zoom2']\n",
    "axes2_xdeb2,   axes2_ydeb2 = params['axes2_xdeb2'], params['axes2_ydeb2']\n",
    "axes2_xlong2, axes2_ylong2 = params['axes2_xlong2'], params['axes2_ylong2']\n",
    "loc = params['loc']\n",
    "\n",
    "## Set limits, equal, legend, reference vertical and horizontal lines ##\n",
    "fig_PMD_set_diag(ax, xlab=xlab, ylab=ylab, xlim=xlim,ylim=ylim, loc=loc, ncol=ncol,\n",
    "                 xdeb_leg=xdeb_leg,xfin_leg=xfin_leg, ydeb_leg=ydeb_leg,yfin_leg=yfin_leg)\n",
    "\n",
    "\n",
    "# add second small plot\n",
    "if add_zoom :\n",
    "    add_zoom_text, idx_ep = '_zoom', 1\n",
    "    axes2 = fig.add_axes([axes2_xdeb,axes2_ydeb, axes2_xlong,axes2_ylong]) # renvoie un objet Axes       \n",
    "    \n",
    "    # add track and detections for each epoch\n",
    "    dum, dum, xlim_zoom, ylim_zoom = fig_PMD_add_track_and_candidates(axes2, RA_track, DEC_track, \n",
    "                        XRA[idx_ep],YDEC[idx_ep],\n",
    "                        YDEC_ERR[idx_ep],XRA_ERR[idx_ep], marker_epoch[idx_ep-1],color_detection,\n",
    "                        n_epochs=2, add_candidate=1, n_candidates=n_candidates, return_lim=1, dlim=dlim)\n",
    "\n",
    "    ## Set limits, equal, legend, reference vertical and horizontal lines ##\n",
    "    fig_PMD_set_zoom(axes2, xlim=xlim_zoom, ylim=ylim_zoom) \n",
    "                                                                      \n",
    "    mise_en_page(axes2,x_step=x_step_zoom,y_step=y_step_zoom,x_maj_step=x_maj_step_zoom,\n",
    "                x_min_step=x_min_step_zoom, y_maj_step=y_maj_step_zoom, y_min_step=y_min_step_zoom)\n",
    "\n",
    "                                                                      \n",
    "if add_zoom_2 :\n",
    "    add_zoom_text, idx_ep = '_zoom', 2\n",
    "    axes2 = fig.add_axes([axes2_xdeb2,axes2_ydeb2, axes2_xlong2,axes2_ylong2]) # renvoie un objet Axes       \n",
    "    \n",
    "    # add track and detections for each epoch\n",
    "    dum, dum, xlim_zoom, ylim_zoom = fig_PMD_add_track_and_candidates(axes2, RA_track, DEC_track, \n",
    "                           XRA[idx_ep],YDEC[idx_ep],\n",
    "                           YDEC_ERR[idx_ep],XRA_ERR[idx_ep], marker_epoch[idx_ep-1],color_detection, \n",
    "                           n_epochs=2, add_candidate=1,  n_candidates=n_candidates, return_lim=1, dlim=dlim)\n",
    "\n",
    "    \n",
    "    ## Set limits, equal, legend, reference vertical and horizontal lines ##\n",
    "    fig_PMD_set_zoom(axes2,  xlim=xlim_zoom,\n",
    "                     ylim= ylim_zoom)\n",
    "   \n",
    "    # update ticks\n",
    "    custom_sev_epochs_sev_candidates_ticks(target, axes2, n_epochs=n_epochs)\n",
    "\n",
    "    mise_en_page(axes2,x_step=x_step_zoom,y_step=y_step_zoom,x_maj_step=x_maj_step_zoom, x_min_step=x_min_step_zoom, y_maj_step=y_maj_step_zoom, y_min_step=y_min_step_zoom)\n",
    "\n",
    "mise_en_page(ax,x_step=x_step,y_step=y_step, \n",
    "             x_maj_step=x_maj_step, x_min_step=x_min_step, y_maj_step=y_maj_step, y_min_step=y_min_step) \n",
    "\n",
    "plt.savefig('{}PMD_{}_3epochs{}.pdf'.format(saving_dir,target,add_zoom_text))\n",
    "#plt.savefig('{}PMD_{}_3epochs{}.png'.format(saving_dir,target,add_zoom_text))"
   ]
  },
  {
   "cell_type": "code",
   "execution_count": null,
   "metadata": {},
   "outputs": [],
   "source": []
  },
  {
   "cell_type": "code",
   "execution_count": 416,
   "metadata": {},
   "outputs": [],
   "source": [
    "\n",
    "\n",
    "def fig_PMD_add_track_and_candidates(ax, RA_track, DEC_track, XRA,YDEC,YDEC_ERR,XRA_ERR,marker,color,color_bkg='blue',\n",
    "        n_epochs=2, dates=None, n_candidates=1, add_candidate=1, return_lim=0, dlim=30):\n",
    "    '''\n",
    "    marker (type=list):  Otherwise, list of size the number of dates minus 1.\n",
    "        i.e. list of 1 element if 'n_epochs' set to 2.\n",
    "    '''\n",
    "    ax.plot(RA_track,DEC_track,c=color_bkg,ls='-', label='bkg star w/o pm') #labx=xlab,laby=ylab\n",
    "    print(n_epochs, n_candidates, color)\n",
    "    if n_epochs == 2 :\n",
    "        for i in range(n_candidates):\n",
    "            if n_candidates < 10 :\n",
    "                label = 'candidate {}'.format(i+1)\n",
    "            else :\n",
    "                if color[i] == 'black' : label = '{} candidates'.format(n_candidates)\n",
    "                else : label =''\n",
    "            ax.errorbar(XRA[i],YDEC[i],YDEC_ERR[i],XRA_ERR[i],label=label,\n",
    "                marker=marker[0],color=color[i],lw=0, elinewidth=1, zorder=10)\n",
    "\n",
    "    elif n_epochs > 2 and n_candidates > 1:\n",
    "        for t in range(1,n_epochs):\n",
    "            for i in range(n_candidates):\n",
    "                label = ''\n",
    "                #if t == 1 and add_candidate : label = 'candidate {}'.format(i+1)\n",
    "\n",
    "                ax.errorbar(XRA[t,i],YDEC[t,i],YDEC_ERR[t,i],XRA_ERR[t,i],label=label,\n",
    "                        marker=marker[t-1],color=color[i],lw=0, elinewidth=1, zorder=10)\n",
    "\n",
    "            # add epochs in leg\n",
    "            ax.plot([5e5,5e5],[5e5,5e5],color='black',marker=marker[t-1],lw=0,label='{} - {}'.format(dates[0],dates[t]))\n",
    "\n",
    "    elif n_epochs > 2 and n_candidates == 1:  # HD85512\n",
    "        for t in range(1,n_epochs):\n",
    "            label = ''\n",
    "            ax.errorbar(XRA[t],YDEC[t],YDEC_ERR[t],XRA_ERR[t],label=label,\n",
    "                    marker=marker[t-1],color=color[0],lw=0, elinewidth=1, zorder=10)\n",
    "\n",
    "            # add epochs in leg\n",
    "            ax.plot([5e5,5e5],[5e5,5e5],color='black',marker=marker[t-1],lw=0,label='{} - {}'.format(dates[0],dates[t]))\n",
    "\n",
    "\n",
    "    if return_lim:\n",
    "        xlim_zoom = [int(np.nanmax(XRA))+dlim,int(np.nanmin(XRA))-dlim]\n",
    "        ylim_zoom = [int(np.nanmin(YDEC))-dlim,int(np.nanmax(YDEC))+dlim]\n",
    "\n",
    "        ch = str(int(np.nanmax(abs(XRA)))) ; power = len(ch)-2 ; fact = 10**power\n",
    "        xlim_fin = np.where(np.all(XRA <=0), (int((np.nanmin(XRA)-np.nanmax(abs(XRA_ERR)))/fact)-2)*fact,int(np.nanmax(abs(YDEC))/100)*10+50)\n",
    "        xlim_deb = np.where(np.all(XRA <=0), int(np.nanmax(abs(YDEC))/100)*10+50,(int(np.nanmin(XRA)-np.nanmax(abs(XRA_ERR))/fact)-2)*fact)\n",
    "\n",
    "        ch = str(int(np.nanmax(abs(YDEC)))) ; power = len(ch)-2 ; fact = 10**power\n",
    "        ylim_deb = np.where(np.all(YDEC <=0), ((int(np.nanmin(YDEC)-np.nanmax(abs(YDEC_ERR)))/fact)-2)*fact,-int(np.nanmax(abs(XRA))/100)*10+50)\n",
    "        ylim_fin = np.where(np.all(YDEC <=0), int(np.nanmax(abs(XRA))/100)*10+50,((int(np.nanmax(YDEC)+np.nanmax(abs(YDEC_ERR)))/fact)+2)*fact)\n",
    "\n",
    "        xlim = [xlim_deb,xlim_fin]\n",
    "        ylim = [ylim_deb,ylim_fin]\n",
    "\n",
    "        return xlim, ylim, xlim_zoom, ylim_zoom\n",
    "    return\n"
   ]
  },
  {
   "cell_type": "markdown",
   "metadata": {},
   "source": [
    "- 2 epochs and more than 1 candidate [GOOD]"
   ]
  },
  {
   "cell_type": "code",
   "execution_count": 488,
   "metadata": {
    "scrolled": true
   },
   "outputs": [
    {
     "name": "stdout",
     "output_type": "stream",
     "text": [
      "Selected date: ['2017-06-21', '2021-07-04']\n",
      "7 candidates\n"
     ]
    }
   ],
   "source": [
    "# Epochs considered\n",
    "n_combi_ep = len(DATES); n_epochs = 2\n",
    "k = 1# idx_ep_comp\n",
    "\n",
    "dates = DATES[k]\n",
    "print('Selected date:', dates)\n",
    "n_candidates = len(RA_BKG[k][0])\n",
    "print(n_candidates, 'candidates')\n",
    "if n_candidates > 1 : \n",
    "    RA, DEC, RA_ERR, DEC_ERR = RA_BKG[k], DEC_BKG[k], RA_ERR_BKG[k], DEC_ERR_BKG[k]    \n",
    "    XRA, YDEC = RA[0]-RA[1], DEC[0]-DEC[1]\n",
    "    XRA_ERR, YDEC_ERR = np.sqrt(RA_ERR[0]**2+RA_ERR[1]**2), np.sqrt(DEC_ERR[0]**2+DEC_ERR[1]**2)"
   ]
  },
  {
   "cell_type": "code",
   "execution_count": null,
   "metadata": {},
   "outputs": [],
   "source": []
  },
  {
   "cell_type": "code",
   "execution_count": 466,
   "metadata": {},
   "outputs": [],
   "source": [
    "# General parameters \n",
    "# Mise en page\n",
    "add_zoom, add_zoom2 = 0,0\n",
    "axes2_xdeb_ref,axes2_ydeb_ref, axes2_xlong_ref,axes2_ylong_ref = 0.57, 0.45, 0.22, 0.22\n",
    "#x_step_zoom=0; y_step_zoom=0 \n",
    "x_maj_step_zoom_ref, x_min_step_zoom_ref, y_maj_step_zoom_ref, y_min_step_zoom_ref = 40,10,40,10\n",
    "#marker = 'o'"
   ]
  },
  {
   "cell_type": "code",
   "execution_count": 506,
   "metadata": {},
   "outputs": [
    {
     "name": "stdout",
     "output_type": "stream",
     "text": [
      "2 7 [[0.9, 0.8, 0], 'red', 'teal', 'orange', 'purple', 'black', 'magenta', [0.9, 0.8, 0], 'navy', [0.4, 0.4, 1], [0.2, 1, 0.2], [0.5, 1, 0.5], [0, 0, 0.5], [0.5, 0, 0], [0.9, 0.5, 0.9], [0.2, 0.8, 1], [0.5, 0.5, 0.5], 'forestgreen', 'royalblue', 'mediumseagreen', 'palevioletred']\n",
      "2 7 [[0.9, 0.8, 0], 'red', 'teal', 'orange', 'purple', 'black', 'magenta', [0.9, 0.8, 0], 'navy', [0.4, 0.4, 1], [0.2, 1, 0.2], [0.5, 1, 0.5], [0, 0, 0.5], [0.5, 0, 0], [0.9, 0.5, 0.9], [0.2, 0.8, 1], [0.5, 0.5, 0.5], 'forestgreen', 'royalblue', 'mediumseagreen', 'palevioletred']\n"
     ]
    },
    {
     "data": {
      "image/png": "[encoded data removed]",
      "text/plain": [
       "<Figure size 400x360 with 2 Axes>"
      ]
     },
     "metadata": {},
     "output_type": "display_data"
    }
   ],
   "source": [
    "# Figure\n",
    "fig, ax = plt.subplots(1,1,figsize=(5,4.5))\n",
    "fig.subplots_adjust(left=0.18,bottom=0.12,top=0.97,right=0.94)\n",
    "\n",
    "ax.plot([500,500],[500,500],color='white',marker=None,label='{} - {}'.format(dates[0],dates[1]))\n",
    "\n",
    "## Add background track and detections for each epoch ##\n",
    "xlim, ylim, dum, dum = fig_PMD_add_track_and_candidates(ax, RA_track,DEC_track, XRA,YDEC,YDEC_ERR,XRA_ERR,marker,\n",
    "                color_detection, n_candidates=n_candidates, color_bkg=color_background, return_lim=1)\n",
    "\n",
    "\n",
    "## Load specifications (target dependent) ##\n",
    "params = custom_sev_epochs_sev_candidates(target,ax) \n",
    "xlim, ylim = params['xlim'], params['ylim']\n",
    "x_step, y_step = params['x_step'], params['y_step']\n",
    "x_maj_step, y_maj_step = params['x_maj_step'], params['y_maj_step']\n",
    "x_min_step, y_min_step = params['x_min_step'], params['y_min_step']\n",
    "ydeb_leg, yfin_leg = params['ydeb_leg'], params['yfin_leg']\n",
    "xdeb_leg, xfin_leg = params['xdeb_leg'], params['xfin_leg']\n",
    "\n",
    "xlim_zoom, ylim_zoom = params['xlim_zoom'], params['ylim_zoom']\n",
    "add_zoom, x_step_zoom, y_step_zoom = params['add_zoom'], params['x_step_zoom'], params['y_step_zoom']\n",
    "x_maj_step_zoom, y_maj_step_zoom = params['x_maj_step_zoom'], params['y_maj_step_zoom']\n",
    "x_min_step_zoom, y_min_step_zoom = params['x_min_step_zoom'], params['y_min_step_zoom']\n",
    "axes2_xdeb,   axes2_ydeb = params['axes2_xdeb'], params['axes2_ydeb']\n",
    "axes2_xlong, axes2_ylong = params['axes2_xlong'], params['axes2_ylong']\n",
    "loc = params['loc']\n",
    "     \n",
    "## Set limits, equal, legend, reference vertical and horizontal lines ##\n",
    "fig_PMD_set_diag(ax, xlab=xlab, ylab=ylab, xlim=xlim,ylim=ylim, loc=loc, ncol=ncol,\n",
    "                 xdeb_leg=xdeb_leg,xfin_leg=xfin_leg, ydeb_leg=ydeb_leg,yfin_leg=yfin_leg)\n",
    "\n",
    "mise_en_page(ax,x_step=0,y_step=0)\n",
    "\n",
    "\n",
    "# add second small plot\n",
    "if add_zoom :\n",
    "    add_zoom_text = '_zoom'\n",
    "    axes2 = fig.add_axes([axes2_xdeb,axes2_ydeb, axes2_xlong,axes2_ylong]) # renvoie un objet Axes       \n",
    "   \n",
    "    ## Add detections and tracks for each epoch ##\n",
    "    dum, dum, xlim_zoom, ylim_zoom=fig_PMD_add_track_and_candidates(axes2, RA_track,DEC_track, XRA,YDEC,YDEC_ERR,XRA_ERR,marker,color_detection,\n",
    "                                     n_candidates=n_candidates, color_bkg= color_background, return_lim=1,dlim=dlim)\n",
    "   \n",
    "    ## Set limits, equal, legend, reference vertical and horizontal lines ##\n",
    "    fig_PMD_set_zoom(axes2,  xlim=xlim_zoom,ylim=ylim_zoom)\n",
    "    \n",
    "    mise_en_page(axes2,x_step=x_step_zoom,y_step=y_step_zoom,x_maj_step=x_maj_step_zoom, x_min_step=x_min_step_zoom, y_maj_step=y_maj_step_zoom, y_min_step=y_min_step_zoom)\n",
    "    \n",
    "    # update ticks\n",
    "    custom_sev_epochs_sev_candidates_ticks(target, axes2, n_epochs=2)\n",
    "\n",
    "mise_en_page(ax,x_step=x_step,y_step=y_step, \n",
    "             x_maj_step=x_maj_step, x_min_step=x_min_step, y_maj_step=y_maj_step, y_min_step=y_min_step)\n",
    "      \n",
    "plt.savefig('{}PMD_{}_2epochs{}.pdf'.format(saving_dir,target,add_zoom_text))\n",
    "#plt.savefig('{}PMD_{}_2epochs{}.png'.format(saving_dir,target,add_zoom_text))"
   ]
  },
  {
   "cell_type": "code",
   "execution_count": null,
   "metadata": {},
   "outputs": [],
   "source": []
  },
  {
   "cell_type": "code",
   "execution_count": null,
   "metadata": {},
   "outputs": [],
   "source": []
  },
  {
   "cell_type": "code",
   "execution_count": 505,
   "metadata": {},
   "outputs": [],
   "source": [
    "\n",
    "def custom_sev_epochs_sev_candidates(target, ax, loc='upper left', n_epochs=2):\n",
    "    # special cases : refined images providing the system\n",
    "    x_step, y_step, x_maj_step, y_maj_step, x_min_step, y_min_step = 0, 0, 500, 500, 100, 100\n",
    "    ydeb_leg, yfin_leg = None, None\n",
    "    xdeb_leg, xfin_leg = None, None\n",
    "        \n",
    "    if target == 'GJ422' and n_epochs==3:\n",
    "        xlim, ylim =  [600,-5700], [-600,3000] ; yfin_leg = 1800 #; loc = 'lower left'\n",
    "        #mise_en_page(ax,x_step=1,y_step=1,x_maj_step=1000, x_min_step=200, y_maj_step=1000, y_min_step=200)\n",
    "        marker_epoch = ['o','d']\n",
    "        add_candidate = 1\n",
    "        add_zoom = 1\n",
    "        xlim_zoom, ylim_zoom =  [-4400,-4500], [2150,2300] ;\n",
    "        x_step_zoom=1; y_step_zoom=1\n",
    "        x_maj_step_zoom=50; x_min_step_zoom=10; y_maj_step_zoom=50; y_min_step_zoom=10\n",
    "        axes2_xdeb,axes2_ydeb, axes2_xlong,axes2_ylong = 0.67, 0.45, 0.22, 0.22\n",
    "        add_zoom_2 = 1\n",
    "        axes2_xdeb2,axes2_ydeb2, axes2_xlong2,axes2_ylong2 = 0.67, 0.18, 0.22, 0.22\n",
    "        xlim_zoom2, ylim_zoom2 =  [-4800,-4900], [2300,2400]\n",
    "\n",
    "\n",
    "    elif target == 'GJ682' and n_epochs==3:\n",
    "        #mise_en_page(ax,x_step=1,y_step=1,x_maj_step=500, x_min_step=100, y_maj_step=500, y_min_step=100)\n",
    "        marker_epoch = ['o','d']\n",
    "        xlim, ylim =  [200, -2200], [-2200,200] ; ydeb_leg = -1600 ; loc = 'lower left'\n",
    "        x_step, y_step, x_maj_step, y_maj_step, x_min_step, y_min_step = 1, 1, 500, 500, 100, 100\n",
    "        add_zoom = 1\n",
    "        xlim_zoom, ylim_zoom =  [-120,-160], [-70,-35] ;\n",
    "        x_step_zoom=1; y_step_zoom=1\n",
    "        x_maj_step_zoom=40; x_min_step_zoom=10; y_maj_step_zoom=40; y_min_step_zoom=10\n",
    "        axes2_xdeb,axes2_ydeb, axes2_xlong,axes2_ylong = 0.68, 0.69, 0.22, 0.22\n",
    "        add_zoom_2 = 1\n",
    "        axes2_xdeb2,axes2_ydeb2, axes2_xlong2,axes2_ylong2 = 0.68, 0.38, 0.22, 0.22\n",
    "        xlim_zoom2, ylim_zoom2 =  [-1440,-1490], [-1920,-1860] ;\n",
    "\n",
    "\n",
    "    elif target == 'HD85512' and n_epochs == 3:\n",
    "        #mise_en_page(ax,x_step=1,y_step=1,x_maj_step=500, x_min_step=100, y_maj_step=500, y_min_step=100)\n",
    "        marker_epoch = ['o','o','o','o']\n",
    "        xlim, ylim =  [1500,-500], [-1500,200] ; xdeb_leg = 550#; ydeb_leg = -1500 ; loc = 'lower left'\n",
    "        add_zoom = 0\n",
    "        xlim_zoom, ylim_zoom =  [1395,1370], [-1370,-1250] ;\n",
    "        x_step_zoom=1; y_step_zoom=1\n",
    "        x_maj_step_zoom=20; x_min_step_zoom=10; y_maj_step_zoom=50; y_min_step_zoom=10\n",
    "        axes2_xdeb,axes2_ydeb, axes2_xlong,axes2_ylong = 0.68, 0.46, 0.22, 0.22\n",
    "        add_zoom_2 = 0\n",
    "        axes2_xdeb2,axes2_ydeb2, axes2_xlong2,axes2_ylong2 = 0.68, 0.18, 0.22, 0.22\n",
    "        xlim_zoom2, ylim_zoom2 =  [475,460], [-400,-350] ;\n",
    "\n",
    "    elif target == 'HD154088' and n_epochs == 3:\n",
    "        xlim, ylim =  [400,-100], [-1200,200] ; xdeb_leg = 70\n",
    "        marker_epoch = ['o','d']\n",
    "        #mise_en_page(ax,x_step=1,y_step=1,x_maj_step=100, x_min_step=20, y_maj_step=200, y_min_step=50)\n",
    "        add_zoom = 1\n",
    "        xlim_zoom, ylim_zoom =  [170,110], [-590,-530] ;\n",
    "        x_step_zoom=1; y_step_zoom=1\n",
    "        x_maj_step_zoom=40; x_min_step_zoom=10; y_maj_step_zoom=40; y_min_step_zoom=10\n",
    "        axes2_xdeb,axes2_ydeb, axes2_xlong,axes2_ylong = 0.68, 0.48, 0.22, 0.22\n",
    "        add_zoom_2 = 1\n",
    "        axes2_xdeb2,axes2_ydeb2, axes2_xlong2,axes2_ylong2 = 0.68, 0.2, 0.22, 0.22\n",
    "        xlim_zoom2, ylim_zoom2 =  [380,280], [-1120,-1040] ;\n",
    "\n",
    "\n",
    "    elif target == 'HD85512'  and n_epochs == 2:\n",
    "        #mise_en_page(ax,x_step=1,y_step=1,x_maj_step=500, x_min_step=100, y_maj_step=500, y_min_step=100)\n",
    "        xlim, ylim =  [600,-100], [-600,100] ; xdeb_leg = 550; loc ='upper left'#; ydeb_leg = -1500 ; loc = 'lower left'\n",
    "        add_zoom = 0\n",
    "        xlim_zoom, ylim_zoom =  [1410,1360], [-1370,-1250] ;\n",
    "        x_step_zoom=1; y_step_zoom=1\n",
    "        x_maj_step_zoom=50; x_min_step_zoom=10; y_maj_step_zoom=50; y_min_step_zoom=10\n",
    "        axes2_xdeb,axes2_ydeb, axes2_xlong,axes2_ylong = 0.68, 0.46, 0.22, 0.22\n",
    "\n",
    "    elif target == 'GJ674'  and n_epochs == 2:\n",
    "        xlim, ylim =  [2600,-100], [-3700,100] ; xdeb_leg = 1000\n",
    "        x_step, y_step, x_maj_step, y_maj_step, x_min_step, y_min_step = 1, 1, 500, 500, 100, 100\n",
    "        #mise_en_page(ax,x_step=0,y_step=0,x_maj_step=50, x_min_step=10, y_maj_step=100, y_min_step=20)\n",
    "        add_zoom = 1\n",
    "        xlim_zoom, ylim_zoom =  [2500,2100], [-3500,-3430] ;\n",
    "        x_step_zoom=1; y_step_zoom=1\n",
    "        x_maj_step_zoom=50; x_min_step_zoom=10; y_maj_step_zoom=50; y_min_step_zoom=10\n",
    "        axes2_xdeb,axes2_ydeb, axes2_xlong,axes2_ylong = 0.64, 0.2, 0.22, 0.22\n",
    "\n",
    "    elif target == 'HD154088'  and n_epochs == 2:\n",
    "        xlim, ylim =  [400,-50], [-1200,200] ; ydeb_leg = -800 ; xdeb_leg = 140\n",
    "        x_step, y_step, x_maj_step, y_maj_step, x_min_step, y_min_step = 1, 1, 100, 200, 20, 50\n",
    "        #mise_en_page(ax,x_step=1,y_step=1,x_maj_step=100, x_min_step=20, y_maj_step=200, y_min_step=50)\n",
    "        add_zoom = 1\n",
    "        xlim_zoom, ylim_zoom =  [380,280], [-1120,-1040] ;\n",
    "        x_step_zoom=1; y_step_zoom=1\n",
    "        x_maj_step_zoom=40; x_min_step_zoom=10; y_maj_step_zoom=40; y_min_step_zoom=10\n",
    "        axes2_xdeb,axes2_ydeb, axes2_xlong,axes2_ylong = 0.66, 0.2, 0.22, 0.22\n",
    "\n",
    "    elif target == 'HD136352'  and n_epochs == 2:\n",
    "        xlim, ylim =  [600,-4600], [-1000,100] ; ydeb_leg = -450 ; xdeb_leg = 5000 ; loc = 'lower left'\n",
    "        x_step, y_step, x_maj_step, y_maj_step, x_min_step, y_min_step = 1, 1, 1000, 200, 200, 50\n",
    "        #mise_en_page(ax,x_step=1,y_step=1,x_maj_step=1000, x_min_step=200, y_maj_step=200, y_min_step=50)\n",
    "        add_zoom = 1 ; x_step_zoom=1; y_step_zoom=1\n",
    "        xlim_zoom, ylim_zoom =  [-4195,-4240], [-760,-740] ;\n",
    "        x_maj_step_zoom=20; x_min_step_zoom=5; y_maj_step_zoom=40; y_min_step_zoom=10\n",
    "        axes2_xdeb,axes2_ydeb, axes2_xlong,axes2_ylong = 0.69, 0.7, 0.22, 0.22\n",
    "\n",
    "    elif target == 'GJ433'  and n_epochs == 2:\n",
    "        xlim, ylim =  [200,-300], [-2000,200] ;loc = 'lower left' ; ydeb_leg = -1500\n",
    "        #mise_en_page(ax,x_step=1,y_step=1,x_maj_step=100, x_min_step=20, y_maj_step=500, y_min_step=100)\n",
    "        add_zoom = 1\n",
    "        xlim_zoom, ylim_zoom =  [-100,-135], [-1680,-1640] ;\n",
    "        x_step_zoom=1; y_step_zoom=1\n",
    "        x_maj_step_zoom=10; x_min_step_zoom=5; y_maj_step_zoom=20; y_min_step_zoom=5\n",
    "        axes2_xdeb,axes2_ydeb, axes2_xlong,axes2_ylong = 0.29, 0.6, 0.22, 0.22\n",
    "\n",
    "\n",
    "    elif target == 'GJ422' and n_epochs==2:\n",
    "        xlim, ylim =  [100,-1000], [-50,400] ; xdeb_leg = 1000 ; yfin_leg =220#; loc = 'lower left'\n",
    "        x_step, y_step, x_maj_step, y_maj_step, x_min_step, y_min_step = 1, 1, 200, 100, 50, 20\n",
    "        #mise_en_page(ax,x_step=1,y_step=1,x_maj_step=200, x_min_step=100, y_maj_step=100, y_min_step=20)\n",
    "        add_zoom = 1\n",
    "        xlim_zoom, ylim_zoom =  [-350,-440], [50,180] ;\n",
    "        x_step_zoom=1; y_step_zoom=1\n",
    "        x_maj_step_zoom=40; x_min_step_zoom=10; y_maj_step_zoom=40; y_min_step_zoom=10\n",
    "        axes2_xdeb,axes2_ydeb, axes2_xlong,axes2_ylong = 0.67, 0.25, 0.22, 0.22\n",
    "\n",
    "    elif target == 'GJ682' and n_epochs==2:\n",
    "        xlim, ylim =  [20,-190], [-110,20] ; ydeb_leg = -65 ; loc = 'lower right' ; ncol= 2\n",
    "        x_step, y_step, x_maj_step, y_maj_step, x_min_step, y_min_step = 1, 1, 50, 50, 10, 10\n",
    "        xlim_zoom, ylim_zoom =  [-120,-160], [-70,-35] ;\n",
    "        #mise_en_page(ax,x_step=1,y_step=1,x_maj_step=100, x_min_step=20, y_maj_step=20, y_min_step=5)\n",
    "        x_step_zoom=1; y_step_zoom=1\n",
    "        x_maj_step_zoom=20; x_min_step_zoom=5; y_maj_step_zoom=20; y_min_step_zoom=5\n",
    "        axes2_xdeb,axes2_ydeb, axes2_xlong,axes2_ylong = 0.65, 0.7, 0.22, 0.22\n",
    "        add_zoom = 0\n",
    "\n",
    "    elif target == 'GJ832'  and n_epochs == 2:\n",
    "        xlim, ylim =  [50,-200], [-200,50]  ; ydeb_leg = -200 ; loc = 'upper right' ; ncol= 1\n",
    "        xlim_zoom, ylim_zoom =  [-120,-160], [-70,-35] ;\n",
    "        mise_en_page(ax,x_step=1,y_step=1,x_maj_step=50, x_min_step=10, y_maj_step=50, y_min_step=10)\n",
    "        x_step_zoom=1; y_step_zoom=1\n",
    "        #x_maj_step_zoom=20; x_min_step_zoom=5; y_maj_step_zoom=20; y_min_step_zoom=5\n",
    "        axes2_xdeb,axes2_ydeb, axes2_xlong,axes2_ylong = 0.65, 0.7, 0.22, 0.22\n",
    "        add_zoom = 0\n",
    "\n",
    "\n",
    "    elif target == 'HD85512'  and n_epochs == 4:\n",
    "        #mise_en_page(ax,x_step=1,y_step=1,x_maj_step=500, x_min_step=100, y_maj_step=500, y_min_step=100)\n",
    "        xlim, ylim =  [1500,-700], [-1500,600] ; xdeb_leg = 550; loc ='upper left'#; ydeb_leg = -1500 ; loc = 'lower left'\n",
    "        x_step, y_step, x_maj_step, y_maj_step, x_min_step, y_min_step = 1, 1, 500, 500, 100, 100\n",
    "        add_zoom = 1\n",
    "        xlim_zoom, ylim_zoom = [500,450], [-400,-350]\n",
    "        x_step_zoom=1; y_step_zoom=1\n",
    "        x_maj_step_zoom=50; x_min_step_zoom=10; y_maj_step_zoom=50; y_min_step_zoom=10\n",
    "        axes2_xdeb,axes2_ydeb, axes2_xlong,axes2_ylong = 0.69, 0.48, 0.22, 0.22\n",
    "        add_zoom_2 = 1\n",
    "        axes2_xdeb2,axes2_ydeb2, axes2_xlong2,axes2_ylong2 = 0.69, 0.2, 0.22, 0.22\n",
    "        xlim_zoom2, ylim_zoom2 =   [1420,1340], [-1390,-1240]\n",
    "\n",
    "\n",
    "    try :\n",
    "        if n_epochs == 2:\n",
    "            params = {'xlim':xlim,'ylim':ylim, 'loc':loc,\n",
    "              'x_step':x_step, 'y_step':y_step,\n",
    "              'x_maj_step':x_maj_step, 'x_min_step':x_min_step,\n",
    "              'y_maj_step':y_maj_step, 'y_min_step':y_min_step,\n",
    "              'add_zoom':add_zoom, 'xlim_zoom':xlim_zoom, 'ylim_zoom':ylim_zoom,\n",
    "              'x_step_zoom':x_step_zoom, 'y_step_zoom':y_step_zoom,\n",
    "              'x_maj_step_zoom':x_maj_step_zoom, 'x_min_step_zoom':x_min_step_zoom,\n",
    "              'y_maj_step_zoom':y_maj_step_zoom, 'y_min_step_zoom':y_min_step_zoom,\n",
    "              'axes2_xdeb':axes2_xdeb, 'axes2_ydeb':axes2_ydeb,\n",
    "              'axes2_xlong':axes2_xlong,'axes2_ylong':axes2_ylong,\n",
    "              'ydeb_leg':ydeb_leg, 'yfin_leg':yfin_leg,\n",
    "              'xdeb_leg':xdeb_leg, 'xfin_leg':xfin_leg}\n",
    "            return params\n",
    "\n",
    "        elif n_epochs >= 3:\n",
    "            params = {'xlim':xlim,'ylim':ylim, 'loc':loc,\n",
    "              'x_step':x_step, 'y_step':y_step,\n",
    "              'x_maj_step':x_maj_step, 'x_min_step':x_min_step,\n",
    "              'y_maj_step':y_maj_step, 'y_min_step':y_min_step,\n",
    "              'add_zoom':add_zoom, 'xlim_zoom':xlim_zoom, 'ylim_zoom':ylim_zoom,\n",
    "              'x_step_zoom':x_step_zoom, 'y_step_zoom':y_step_zoom,\n",
    "              'x_maj_step_zoom':x_maj_step_zoom, 'x_min_step_zoom':x_min_step_zoom,\n",
    "              'y_maj_step_zoom':y_maj_step_zoom, 'y_min_step_zoom':y_min_step_zoom,\n",
    "              'axes2_xdeb':axes2_xdeb, 'axes2_ydeb':axes2_ydeb,\n",
    "              'axes2_xlong':axes2_xlong,'axes2_ylong':axes2_ylong,\n",
    "              'add_zoom_2':add_zoom_2,\n",
    "              'axes2_xdeb2':axes2_xdeb2, 'axes2_ydeb2':axes2_ydeb2,\n",
    "              'axes2_xlong2':axes2_xlong2,'axes2_ylong2':axes2_ylong2,\n",
    "              'xlim_zoom2':xlim_zoom2,'ylim_zoom2':ylim_zoom2,\n",
    "              'ydeb_leg':ydeb_leg, 'yfin_leg':yfin_leg,\n",
    "              'xdeb_leg':xdeb_leg, 'xfin_leg':xfin_leg}\n",
    "            return params\n",
    "    except :\n",
    "        print('No custom parameters was set.')\n"
   ]
  },
  {
   "cell_type": "code",
   "execution_count": null,
   "metadata": {},
   "outputs": [],
   "source": []
  },
  {
   "cell_type": "code",
   "execution_count": 373,
   "metadata": {},
   "outputs": [],
   "source": []
  },
  {
   "cell_type": "code",
   "execution_count": 346,
   "metadata": {},
   "outputs": [],
   "source": [
    "yfin_leg"
   ]
  },
  {
   "cell_type": "code",
   "execution_count": null,
   "metadata": {},
   "outputs": [],
   "source": []
  },
  {
   "cell_type": "code",
   "execution_count": 492,
   "metadata": {},
   "outputs": [],
   "source": [
    "\n",
    "def fig_PMD_set_diag(ax, xlab,ylab, xlim,ylim, xdeb_leg,xfin_leg, ydeb_leg,yfin_leg, loc, ncol):\n",
    "    '''\n",
    "    Set stuff on the diagramm. Vertical and horizontal dotted lines, legend, labels, limits..\n",
    "    '''\n",
    "    #ax.axis('equal')\n",
    "    ax.axis([xlim[0], xlim[1], ylim[0], ylim[1]])\n",
    "    if yfin_leg == None: yfin_leg = ylim[1]\n",
    "    if ydeb_leg == None: ydeb_leg = ylim[0]\n",
    "    if xfin_leg == None: xfin_leg = xlim[1]\n",
    "    if xdeb_leg == None: xdeb_leg = xlim[0]\n",
    "    ax.set_xlabel(xlab)\n",
    "    ax.set_ylabel(ylab)\n",
    "    ax.legend(loc=loc,frameon=False,numpoints=1,ncol=ncol)\n",
    "    plt.draw()\n",
    "    mise_en_page(ax,x_step=0,y_step=0)\n",
    "\n",
    "    #xdeb_leg = np.array(leg.get_window_extent())[0][0] # get position of the legend x1 y1 x2 y2\n",
    "    ax.plot([0,0],[ydeb_leg,yfin_leg],ls=':',color='black')\n",
    "    ax.plot([xdeb_leg,xfin_leg],[0,0],ls=':',c='black')\n",
    "    return\n"
   ]
  },
  {
   "cell_type": "code",
   "execution_count": 85,
   "metadata": {},
   "outputs": [
    {
     "data": {
      "text/plain": [
       "array([2220.3, 2220.3])"
      ]
     },
     "execution_count": 85,
     "metadata": {},
     "output_type": "execute_result"
    }
   ],
   "source": [
    "YDEC"
   ]
  },
  {
   "cell_type": "code",
   "execution_count": null,
   "metadata": {},
   "outputs": [],
   "source": []
  },
  {
   "cell_type": "code",
   "execution_count": 279,
   "metadata": {},
   "outputs": [
    {
     "data": {
      "image/png": "[encoded data removed]",
      "text/plain": [
       "<Figure size 400x400 with 2 Axes>"
      ]
     },
     "metadata": {},
     "output_type": "display_data"
    },
    {
     "data": {
      "image/png": "[encoded data removed]",
      "text/plain": [
       "<Figure size 400x400 with 2 Axes>"
      ]
     },
     "metadata": {},
     "output_type": "display_data"
    },
    {
     "data": {
      "image/png": "[encoded data removed]",
      "text/plain": [
       "<Figure size 400x400 with 2 Axes>"
      ]
     },
     "metadata": {},
     "output_type": "display_data"
    }
   ],
   "source": [
    "# Several figures in a row\n",
    "n_combi_ep = len(DATES); n_epochs = 2\n",
    "\n",
    "for k in range(n_combi_ep):\n",
    "    dates = DATES[k]\n",
    "    n_candidates = len(RA_BKG[k][0])\n",
    "    if n_candidates > 1 : \n",
    "        RA, DEC, RA_ERR, DEC_ERR = RA_BKG[k], DEC_BKG[k], RA_ERR_BKG[k], DEC_ERR_BKG[k]    \n",
    "        XRA, YDEC = RA[0]-RA[1], DEC[0]-DEC[1]\n",
    "        XRA_ERR, YDEC_ERR = np.sqrt(RA_ERR[0]**2+RA_ERR[1]**2), np.sqrt(DEC_ERR[0]**2+DEC_ERR[1]**2)\n",
    "        \n",
    "        # Default:\n",
    "        xlim, ylim = [np.nanmax(XRA), np.nanmin(XRA)], [np.nanmin(YDEC), np.nanmax(YDEC)]\n",
    "        print(\"- {} -\\nXRA: \\n{}\\nYDEC: \\n{}\\n\".format(dates,XRA,YDEC))\n",
    "        \n",
    "    # Figure\n",
    "    fig, ax = plt.subplots(1,1,figsize=(5,5))\n",
    "    fig.subplots_adjust(left=0.18,bottom=0.11,top=0.97,right=0.94)\n",
    "\n",
    "    ax.plot([500,500],[500,500],color='white',marker=None,label='{} - {}'.format(dates[0],dates[1]))\n",
    "\n",
    "    \n",
    "    ## Add background tracks and detections for each epoch ##\n",
    "    xlim, ylim, dum, dum = fig_PMD_add_track_and_candidates(ax, RA_track,DEC_track, XRA,YDEC,YDEC_ERR,XRA_ERR,marker,\n",
    "                    color_detection,color_bkg=color_background,  n_candidates=n_candidates, return_lim=1)\n",
    "\n",
    "\n",
    "\n",
    "    ## Load specifications (target dependent) ##\n",
    "    params = custom_sev_epochs_sev_candidates(target,ax) \n",
    "    #xlim, ylim = params['xlim'], params['ylim']\n",
    "    xlim_zoom, ylim_zoom = params['xlim_zoom'], params['ylim_zoom']\n",
    "    add_zoom, x_step_zoom, y_step_zoom = params['add_zoom'], params['x_step_zoom'], params['y_step_zoom']\n",
    "    x_maj_step_zoom, y_maj_step_zoom = params['x_maj_step_zoom'], params['y_maj_step_zoom']\n",
    "    x_min_step_zoom, y_min_step_zoom = params['x_min_step_zoom'], params['y_min_step_zoom']\n",
    "    axes2_xdeb,   axes2_ydeb = params['axes2_xdeb'], params['axes2_ydeb']\n",
    "    axes2_xlong, axes2_ylong = params['axes2_xlong'], params['axes2_ylong']\n",
    "    loc = params['loc']\n",
    "\n",
    "\n",
    "    mise_en_page(ax,x_step=0,y_step=0)\n",
    "    ## Set limits, equal, legend, reference vertical and horizontal lines ##\n",
    "    fig_PMD_set_diag(ax, xlab=xlab, ylab=ylab, xlim=xlim,ylim=ylim, loc=loc, ncol=ncol,\n",
    "                     xdeb_leg=xdeb_leg,xfin_leg=xfin_leg, ydeb_leg=ydeb_leg,yfin_leg=yfin_leg)\n",
    "\n",
    "\n",
    "    # add second small plot\n",
    "    if add_zoom  :\n",
    "        add_zoom_text = '_zoom'\n",
    "        axes2 = fig.add_axes([axes2_xdeb,axes2_ydeb, axes2_xlong,axes2_ylong]) # renvoie un objet Axes       \n",
    "\n",
    "        ## Add detections and tracks for each epoch ##\n",
    "        dum,dum,xlim_zoom, ylim_zoom=fig_PMD_add_track_and_candidates(axes2, RA_track,DEC_track, XRA,YDEC,\n",
    "                YDEC_ERR,XRA_ERR,marker,color_detection,color_bkg= color_background,  n_candidates=n_candidates, return_lim=1,dlim=dlim)\n",
    "        \n",
    "        ## Set limits, equal, legend, reference vertical and horizontal lines ##\n",
    "        fig_PMD_set_zoom(axes2,  xlim=xlim_zoom,ylim=ylim_zoom)\n",
    "        if k == 0:\n",
    "            x_maj_step_zoom, x_min_step_zoom, y_maj_step_zoom, y_min_step_zoom = x_maj_step_zoom_ref, x_min_step_zoom_ref, y_maj_step_zoom_ref, y_min_step_zoom_ref\n",
    "        mise_en_page(axes2,x_step=x_step_zoom,y_step=y_step_zoom,x_maj_step=x_maj_step_zoom, x_min_step=x_min_step_zoom, y_maj_step=y_maj_step_zoom, y_min_step=y_min_step_zoom)\n",
    "\n",
    "        # update ticks\n",
    "        #custom_2epochs_sev_candidates_ticks(target, axes2, n_epochs=2)\n",
    "\n",
    "    plt.savefig('{}PMD_{}_2epochs{}_{}.pdf'.format(saving_dir,target,add_zoom_text,k))\n",
    "    #plt.savefig('{}PMD_{}_2epochs{}_{}.png'.format(saving_dir,target,add_zoom_text,k))\n",
    "        "
   ]
  },
  {
   "cell_type": "code",
   "execution_count": 274,
   "metadata": {},
   "outputs": [
    {
     "data": {
      "text/plain": [
       "array([1842.6])"
      ]
     },
     "execution_count": 274,
     "metadata": {},
     "output_type": "execute_result"
    }
   ],
   "source": [
    "RA_BKG[k]"
   ]
  },
  {
   "cell_type": "code",
   "execution_count": null,
   "metadata": {},
   "outputs": [],
   "source": []
  },
  {
   "cell_type": "markdown",
   "metadata": {},
   "source": [
    "- More than 2 epochs but only 1 candidate"
   ]
  },
  {
   "cell_type": "code",
   "execution_count": 86,
   "metadata": {},
   "outputs": [],
   "source": [
    "# Epochs considered\n",
    "n_combi_ep = len(DATES); n_epochs = 2\n",
    "k = 0# idx_ep_comp\n",
    "\n",
    "dates = DATES[k]\n",
    "n_candidates = 1\n",
    "if n_combi_ep > 1 : \n",
    "    RA, DEC, RA_ERR, DEC_ERR = RA_BKG[k], DEC_BKG[k], RA_ERR_BKG[k], DEC_ERR_BKG[k]    \n",
    "    XRA, YDEC = RA[0]-RA[1], DEC[0]-DEC[1]\n",
    "    XRA_ERR, YDEC_ERR = np.sqrt(RA_ERR[0]**2+RA_ERR[1]**2), np.sqrt(DEC_ERR[0]**2+DEC_ERR[1]**2)"
   ]
  },
  {
   "cell_type": "code",
   "execution_count": 87,
   "metadata": {},
   "outputs": [
    {
     "name": "stderr",
     "output_type": "stream",
     "text": [
      "/var/folders/k2/sfv4r4z938l77n1t4ydth2v401phl2/T/ipykernel_1604/3143933773.py:6: VisibleDeprecationWarning: Creating an ndarray from ragged nested sequences (which is a list-or-tuple of lists-or-tuples-or ndarrays with different lengths or shapes) is deprecated. If you meant to do this, you must specify 'dtype=object' when creating the ndarray.\n",
      "  XRA, YDEC = RA[0]-RA[:], DEC[0]-DEC[:]\n"
     ]
    },
    {
     "ename": "ValueError",
     "evalue": "could not broadcast input array from shape (2,2) into shape (2,)",
     "output_type": "error",
     "traceback": [
      "\u001b[0;31m---------------------------------------------------------------------------\u001b[0m",
      "\u001b[0;31mValueError\u001b[0m                                Traceback (most recent call last)",
      "Input \u001b[0;32mIn [87]\u001b[0m, in \u001b[0;36m<cell line: 6>\u001b[0;34m()\u001b[0m\n\u001b[1;32m      4\u001b[0m dates \u001b[38;5;241m=\u001b[39m DATES\n\u001b[1;32m      5\u001b[0m RA, DEC, RA_ERR, DEC_ERR \u001b[38;5;241m=\u001b[39m RA_BKG, DEC_BKG, RA_ERR_BKG, DEC_ERR_BKG\n\u001b[0;32m----> 6\u001b[0m XRA, YDEC \u001b[38;5;241m=\u001b[39m \u001b[43mRA\u001b[49m\u001b[43m[\u001b[49m\u001b[38;5;241;43m0\u001b[39;49m\u001b[43m]\u001b[49m\u001b[38;5;241;43m-\u001b[39;49m\u001b[43mRA\u001b[49m\u001b[43m[\u001b[49m\u001b[43m:\u001b[49m\u001b[43m]\u001b[49m, DEC[\u001b[38;5;241m0\u001b[39m]\u001b[38;5;241m-\u001b[39mDEC[:]\n\u001b[1;32m      7\u001b[0m XRA_ERR, YDEC_ERR \u001b[38;5;241m=\u001b[39m np\u001b[38;5;241m.\u001b[39msqrt(RA_ERR[\u001b[38;5;241m0\u001b[39m]\u001b[38;5;241m*\u001b[39m\u001b[38;5;241m*\u001b[39m\u001b[38;5;241m2\u001b[39m\u001b[38;5;241m+\u001b[39mRA_ERR[:]\u001b[38;5;241m*\u001b[39m\u001b[38;5;241m*\u001b[39m\u001b[38;5;241m2\u001b[39m), np\u001b[38;5;241m.\u001b[39msqrt(DEC_ERR[\u001b[38;5;241m0\u001b[39m]\u001b[38;5;241m*\u001b[39m\u001b[38;5;241m*\u001b[39m\u001b[38;5;241m2\u001b[39m\u001b[38;5;241m+\u001b[39mDEC_ERR[:]\u001b[38;5;241m*\u001b[39m\u001b[38;5;241m*\u001b[39m\u001b[38;5;241m2\u001b[39m)\n",
      "\u001b[0;31mValueError\u001b[0m: could not broadcast input array from shape (2,2) into shape (2,)"
     ]
    }
   ],
   "source": [
    "# Epochs considered\n",
    "n_epochs,n_candidates = len(DATES), len(RA_BKG[0])\n",
    "\n",
    "dates = DATES\n",
    "RA, DEC, RA_ERR, DEC_ERR = RA_BKG, DEC_BKG, RA_ERR_BKG, DEC_ERR_BKG\n",
    "XRA, YDEC = RA[0]-RA[:], DEC[0]-DEC[:]\n",
    "XRA_ERR, YDEC_ERR = np.sqrt(RA_ERR[0]**2+RA_ERR[:]**2), np.sqrt(DEC_ERR[0]**2+DEC_ERR[:]**2)"
   ]
  },
  {
   "cell_type": "code",
   "execution_count": 29,
   "metadata": {},
   "outputs": [],
   "source": [
    "# General parameters \n",
    "# Mise en page\n",
    "add_zoom, add_zoom2 = 0,0\n",
    "axes2_xdeb_ref,axes2_ydeb_ref, axes2_xlong_ref,axes2_ylong_ref = 0.57, 0.45, 0.22, 0.22\n",
    "#x_step_zoom=0; y_step_zoom=0 \n",
    "x_maj_step_zoom_ref, x_min_step_zoom_ref, y_maj_step_zoom_ref, y_min_step_zoom_ref = 40,10,40,10\n",
    "#marker = 'o'"
   ]
  },
  {
   "cell_type": "code",
   "execution_count": null,
   "metadata": {},
   "outputs": [],
   "source": []
  },
  {
   "cell_type": "code",
   "execution_count": 62,
   "metadata": {},
   "outputs": [
    {
     "data": {
      "image/png": "[encoded data removed]",
      "text/plain": [
       "<Figure size 400x360 with 3 Axes>"
      ]
     },
     "metadata": {},
     "output_type": "display_data"
    }
   ],
   "source": [
    "fig, ax = plt.subplots(1,1,figsize=(5,4.5))\n",
    "fig.subplots_adjust(left=0.18,bottom=0.12,top=0.97,right=0.95)\n",
    "\n",
    "## Add detections for each epoch ##\n",
    "fig_PMD_add_track_and_candidates(ax, RA_track,DEC_track, XRA,YDEC,YDEC_ERR,XRA_ERR, marker_epoch,\n",
    "                color_detection, color_bkg= color_background, n_candidates=n_candidates, n_epochs=n_epochs, dates=dates)\n",
    "\n",
    "## Load specifications (target dependent) ##\n",
    "params = custom_sev_epochs_sev_candidates(target,ax,n_epochs=n_epochs) \n",
    "xlim, ylim = params['xlim'], params['ylim']\n",
    "x_step, y_step = params['x_step'], params['y_step']\n",
    "x_maj_step, y_maj_step = params['x_maj_step'], params['y_maj_step']\n",
    "x_min_step, y_min_step = params['x_min_step'], params['y_min_step']\n",
    "        \n",
    "xlim_zoom, ylim_zoom = params['xlim_zoom'], params['ylim_zoom']\n",
    "add_zoom, x_step_zoom, y_step_zoom = params['add_zoom'], params['x_step_zoom'], params['y_step_zoom']\n",
    "x_maj_step_zoom, y_maj_step_zoom = params['x_maj_step_zoom'], params['y_maj_step_zoom']\n",
    "x_min_step_zoom, y_min_step_zoom = params['x_min_step_zoom'], params['y_min_step_zoom']\n",
    "axes2_xdeb,   axes2_ydeb = params['axes2_xdeb'], params['axes2_ydeb']\n",
    "axes2_xlong, axes2_ylong = params['axes2_xlong'], params['axes2_ylong']\n",
    "\n",
    "add_zoom_2, xlim_zoom2, ylim_zoom2 = params['add_zoom_2'], params['xlim_zoom2'], params['ylim_zoom2']\n",
    "axes2_xdeb2,   axes2_ydeb2 = params['axes2_xdeb2'], params['axes2_ydeb2']\n",
    "axes2_xlong2, axes2_ylong2 = params['axes2_xlong2'], params['axes2_ylong2']\n",
    "loc = params['loc']\n",
    "\n",
    "## Set limits, equal, legend, reference vertical and horizontal lines ##\n",
    "fig_PMD_set_diag(ax, xlab=xlab, ylab=ylab, xlim=xlim,ylim=ylim, loc=loc, ncol=ncol,\n",
    "                 xdeb_leg=xdeb_leg,xfin_leg=xfin_leg, ydeb_leg=ydeb_leg,yfin_leg=yfin_leg)\n",
    "\n",
    "\n",
    "# add second small plot\n",
    "if add_zoom :\n",
    "    add_zoom_text, idx_ep = '_zoom', 1\n",
    "    axes2 = fig.add_axes([axes2_xdeb,axes2_ydeb, axes2_xlong,axes2_ylong]) # renvoie un objet Axes       \n",
    "    \n",
    "    # add track and detections for each epoch\n",
    "    dum, dum, xlim_zoom, ylim_zoom = fig_PMD_add_track_and_candidates(axes2, RA_track, DEC_track, XRA[idx_ep],YDEC[idx_ep],\n",
    "                           YDEC_ERR[idx_ep],XRA_ERR[idx_ep], marker_epoch[idx_ep-1],color_detection,\n",
    "                        n_epochs=2, add_candidate=1, return_lim=1, dlim=dlim)\n",
    "\n",
    "    ## Set limits, equal, legend, reference vertical and horizontal lines ##\n",
    "    fig_PMD_set_zoom(axes2, xlim=xlim_zoom, ylim=ylim_zoom) \n",
    "                                                                      \n",
    "    mise_en_page(axes2,x_step=x_step_zoom,y_step=y_step_zoom,x_maj_step=x_maj_step_zoom,\n",
    "                x_min_step=x_min_step_zoom, y_maj_step=y_maj_step_zoom, y_min_step=y_min_step_zoom)\n",
    "\n",
    "                                                                      \n",
    "if add_zoom_2 :\n",
    "    add_zoom_text, idx_ep = '_zoom', 2\n",
    "    axes2 = fig.add_axes([axes2_xdeb2,axes2_ydeb2, axes2_xlong2,axes2_ylong2]) # renvoie un objet Axes       \n",
    "    \n",
    "    # add track and detections for each epoch\n",
    "    dum, dum, xlim_zoom, ylim_zoom = fig_PMD_add_track_and_candidates(axes2, RA_track, DEC_track, XRA[idx_ep],YDEC[idx_ep],\n",
    "                           YDEC_ERR[idx_ep],XRA_ERR[idx_ep], marker_epoch[idx_ep-1],color_detection, \n",
    "                           n_epochs=2, add_candidate=1, return_lim=1, dlim=dlim)\n",
    "    idx_ep +=1\n",
    "    dum, dum, xlim_zoom, ylim_zoom = fig_PMD_add_track_and_candidates(axes2, RA_track, DEC_track, XRA[idx_ep],YDEC[idx_ep],\n",
    "                           YDEC_ERR[idx_ep],XRA_ERR[idx_ep], marker_epoch[idx_ep-1],color_detection, \n",
    "                           n_epochs=2, add_candidate=1, return_lim=1, dlim=dlim)\n",
    "    \n",
    "\n",
    "    \n",
    "    ## Set limits, equal, legend, reference vertical and horizontal lines ##\n",
    "    fig_PMD_set_zoom(axes2,  xlim=np.where(target=='HD85512',xlim_zoom2, xlim_zoom),\n",
    "                     ylim=np.where(target=='HD85512',ylim_zoom2, ylim_zoom))\n",
    "   \n",
    "    # update ticks\n",
    "    custom_sev_epochs_sev_candidates_ticks(target, axes2, n_epochs=n_epochs)\n",
    "\n",
    "    mise_en_page(axes2,x_step=x_step_zoom,y_step=y_step_zoom,\n",
    "                 x_maj_step=x_maj_step_zoom, x_min_step=x_min_step_zoom, \n",
    "                 y_maj_step=y_maj_step_zoom, y_min_step=y_min_step_zoom)\n",
    "\n",
    "    \n",
    "mise_en_page(ax,x_step=x_step,y_step=y_step, \n",
    "             x_maj_step=x_maj_step, x_min_step=x_min_step, y_maj_step=y_maj_step, y_min_step=y_min_step)\n",
    "\n",
    "plt.savefig('{}PMD_{}_3epochs{}.pdf'.format(saving_dir,target,add_zoom_text))\n",
    "plt.savefig('{}PMD_{}_3epochs{}.png'.format(saving_dir,target,add_zoom_text))"
   ]
  },
  {
   "cell_type": "code",
   "execution_count": null,
   "metadata": {},
   "outputs": [],
   "source": []
  },
  {
   "cell_type": "code",
   "execution_count": null,
   "metadata": {},
   "outputs": [],
   "source": []
  },
  {
   "cell_type": "code",
   "execution_count": null,
   "metadata": {},
   "outputs": [],
   "source": []
  },
  {
   "cell_type": "code",
   "execution_count": null,
   "metadata": {},
   "outputs": [],
   "source": []
  },
  {
   "cell_type": "code",
   "execution_count": 501,
   "metadata": {},
   "outputs": [],
   "source": [
    "\n",
    "\n",
    "def custom_sev_epochs_sev_candidates_ticks(target, axes2, n_epochs=2):\n",
    "    if target == 'HD136352' and n_epochs == 2 :\n",
    "        xti_old = [-4190,-4230]\n",
    "        xti_new = ['$-4190$','$-4230$']\n",
    "        plt.setp(axes2, xticks=xti_old, xticklabels=xti_new)\n",
    "\n",
    "    elif target == 'GJ422' and n_epochs == 3 :\n",
    "        yti_old = [2150,2200,2250,2300]\n",
    "        yti_new = ['$2150$','$2200$','$2250$','$2300$']\n",
    "        plt.setp(axes2, yticks=yti_old, yticklabels=yti_new)\n",
    "\n",
    "    elif target == 'GJ433':\n",
    "        yti_old = [-1680,-1660,-1640]\n",
    "        yti_new = ['$-1680$','$-1660$','$-1640$']\n",
    "        plt.setp(axes2, yticks=yti_old, yticklabels=yti_new)\n",
    "\n",
    "    elif target == 'HD154088' and n_epochs == 2  :\n",
    "        yti_old = [-1040,-1080,-1120]\n",
    "        yti_new = ['$-1040$','$-1080$','$-1120$']\n",
    "        plt.setp(axes2, yticks=yti_old, yticklabels=yti_new)\n",
    "\n",
    "    elif target == 'GJ682' and n_epochs == 3  :\n",
    "        xti_old = [-1440,-1480]\n",
    "        xti_new = ['$-1440$','$-1480$']\n",
    "        plt.setp(axes2, xticks=xti_old, xticklabels=xti_new)\n",
    "    \n",
    "    elif target == 'GJ674' and n_epochs == 2  :\n",
    "        xti_old = [2350,2300]\n",
    "        xti_new = ['$2350$','$2300$']\n",
    "        plt.setp(axes2, xticks=xti_old, xticklabels=xti_new)\n",
    "\n",
    "    return\n",
    "\n"
   ]
  },
  {
   "cell_type": "code",
   "execution_count": null,
   "metadata": {},
   "outputs": [],
   "source": []
  },
  {
   "cell_type": "code",
   "execution_count": 31,
   "metadata": {},
   "outputs": [],
   "source": [
    "def fig_PMD_set_zoom(axes2, xlim=None,ylim=None, fs=12 ):\n",
    "    axes2.patch.set_color([0.99,0.99,0.99])\n",
    "    axes2.axis([xlim[0], xlim[1], ylim[0], ylim[1]])\n",
    "\n",
    "    for item in axes2.get_xticklabels()+axes2.get_yticklabels(): item.set_fontsize(fs)\n",
    "    return"
   ]
  },
  {
   "cell_type": "code",
   "execution_count": null,
   "metadata": {},
   "outputs": [],
   "source": []
  },
  {
   "cell_type": "code",
   "execution_count": null,
   "metadata": {},
   "outputs": [],
   "source": []
  },
  {
   "cell_type": "markdown",
   "metadata": {},
   "source": [
    "# Extra\n",
    "\n",
    "## A la mano (IFS...)"
   ]
  },
  {
   "cell_type": "code",
   "execution_count": null,
   "metadata": {},
   "outputs": [],
   "source": [
    "# A la mano GJ 832\n",
    "\n",
    "target_DC = target_DC_all.iloc[0]\n",
    "\n",
    "# initialize lists\n",
    "##EPOCH_all, RA_all, DEC_all =[ '2017-05-27','2017-06-21','2017-06-27','2017-07-03'], [481.2,429,429,429], [197.7,291,291,291]\n",
    "RA_ERR_all, DEC_ERR_all, X_all, Y_all = [10,10,10,10], [10,10,10,10], [30, 37,37,37], [121, 133.5,133.5]\n",
    "EPOCH_all =  ['2021-06-21', '2021-06-27', '2021-07-03']\n",
    "RA_all, DEC_all = [183.75,  104.125,  79.625], [  0.,     79.625, 104.125]\n",
    "X_all, Y_all = [496.5, 503.,  505. ], [511.5, 518.,  520. ]\n",
    "\n",
    "SEP_all, SEP_ERR_all, PA_all, PA_ERR_all = [distance(RA_all[0],DEC_all[0],0,0,1),distance(RA_all[1],DEC_all[1],0,0,1),distance(RA_all[1],DEC_all[1],0,0,1),distance(RA_all[1],DEC_all[1],0,0,1)], [15,15,15,15], [68,68,68,68], [30,30,30,30],\n",
    "\n",
    "print('Target: {} (DC name: {}) \\nNumber detections: {}'.format(target,target_DC, len(EPOCH_all)))\n",
    "print('Epochs:', EPOCH_all[0])\n",
    "\n",
    "print('RA:', RA_all , '\\nDEC:', DEC_all) \n",
    "print('SEP:', SEP_all , '\\nPA:', PA_all) \n",
    "#print('X', X_all , '\\nY', Y_all)\n",
    "\n",
    "if target == 'GJ832' :\n",
    "    pixarc = pixarc_ifs\n",
    "    EPOCH_all = np.array(['2017-06-21','2017-07-03'])\n",
    "    X_all, Y_all = np.array([27,80.5]), np.array([110,101.5])\n",
    "    RA_all, DEC_all = -(X_all - 94.5)*pixarc, (Y_all - 94.5)*pixarc\n",
    "    RA_ERR_all, DEC_ERR_all = np.array([7,7]), np.array([7,7])\n",
    "    SEP_all = np.sqrt(RA_all**2 + DEC_all**2)\n",
    "    SEP_ERR_all = np.sqrt(RA_ERR_all**2 + DEC_ERR_all**2)\n",
    "    print('RA:', RA_all , '\\nDEC:', DEC_all) "
   ]
  },
  {
   "cell_type": "markdown",
   "metadata": {},
   "source": [
    "# Extra\n",
    "\n",
    "### Derive proper motion"
   ]
  },
  {
   "cell_type": "code",
   "execution_count": null,
   "metadata": {},
   "outputs": [],
   "source": [
    "# Initialize inputs\n",
    "target = 'GJ682'\n",
    "cond_target = dF['target']==target\n",
    "EPOCH_all = np.array(dF['epoch'][cond_target])\n",
    "EPOCH_UNIQUE = np.unique(EPOCH_all)\n",
    "print(EPOCH_UNIQUE)\n",
    "epochs = EPOCH_UNIQUE\n",
    "unit = 'pixel'\n",
    "\n",
    "# Run functions\n",
    "pm_ra_yr, pm_dec_yr = find_proper_motion_per_year(target,unit=unit)\n",
    "pm_ra, pm_dec = find_proper_motion_between_2epochs(target,list(epochs),unit=unit)\n",
    "print(\"Proper motion per year: {:.1f} {} {:.1f} {}\".format(pm_ra_yr, unit, pm_dec_yr, unit))\n",
    "print(\"Proper motion between the two epochs: {:.1f} {} {:.1f} {}\".format(pm_ra, unit, pm_dec, unit))"
   ]
  },
  {
   "cell_type": "code",
   "execution_count": null,
   "metadata": {},
   "outputs": [],
   "source": []
  },
  {
   "cell_type": "code",
   "execution_count": null,
   "metadata": {},
   "outputs": [],
   "source": []
  },
  {
   "cell_type": "markdown",
   "metadata": {},
   "source": [
    "=====================================================================================================================\n",
    "\n",
    "## Extra: Prepare tables\n",
    "\n",
    "#### Print list of the targets"
   ]
  },
  {
   "cell_type": "code",
   "execution_count": null,
   "metadata": {},
   "outputs": [],
   "source": [
    "for i in range(len(dF_prop)):\n",
    "    parallax_star = PARALLAX[i]*1e-3 ; parallax_err_star = PARALLAX_ERR[i]*1e-3\n",
    "    mag_H, mag_K =MAG_STAR_H[i], MAG_STAR_K[i]\n",
    "    target = NAME_OBJ[i]\n",
    "    d_star = 1/parallax_star\n",
    "    d_err_star = parallax_err_star/parallax_star**2\n",
    "    print(target, '&' #'& %.2f'% (parallax_star*1e3), '\\pm %.2f'% (parallax_err_star*1e3),'& %.2f'% d_star,\n",
    "          #'& %.2f'% mag_H, '& %.2f'% mag_K\n",
    "         )\n",
    "          #, '& %.2f'% d_err_star)"
   ]
  },
  {
   "cell_type": "code",
   "execution_count": null,
   "metadata": {},
   "outputs": [],
   "source": []
  },
  {
   "cell_type": "markdown",
   "metadata": {},
   "source": [
    "#### Print list of the detections"
   ]
  },
  {
   "cell_type": "code",
   "execution_count": null,
   "metadata": {},
   "outputs": [],
   "source": [
    "NIGHT_OBS = np.array(dF_obs['night_obs'])\n",
    "NAME_OBJ_obs  = np.array(dF_obs['target name'])\n",
    "FILTER_IRDIS_OBS = np.array(dF_obs['IRDIS filter'])\n",
    "FILTER_IFS_OBS = np.array(dF_obs['IFS disperser'])\n",
    "for i in range(len(dF_prop)):\n",
    "    target = NAME_OBJ[i]\n",
    "    i_selected = (NAME_OBJ_obs == target)\n",
    "    dF_obs_1target = dF_obs[i_selected]\n",
    "    for k in range(len(NIGHT_OBS[i_selected])):\n",
    "        night_obs = NIGHT_OBS[i_selected][k]\n",
    "        filt_ird = FILTER_IRDIS_OBS[i_selected][k][2:]\n",
    "        filt_ifs = FILTER_IFS_OBS[i_selected][k][4:]\n",
    "        if k % 2 == 0 : # IRDIS\n",
    "            print(target,'&',night_obs,'&',filt_ird,'&')\n",
    "        else : # IFS\n",
    "            print(target,'&',night_obs,'&',filt_ifs,'&')\n",
    "    #print(target, '&' #'& %.2f'% (parallax_star*1e3), '\\pm %.2f'% (parallax_err_star*1e3),'& %.2f'% d_star,\n",
    "          #'& %.2f'% mag_H, '& %.2f'% mag_K\n",
    "    #     )\n",
    "          #, '& %.2f'% d_err_star)"
   ]
  },
  {
   "cell_type": "code",
   "execution_count": null,
   "metadata": {},
   "outputs": [],
   "source": []
  },
  {
   "cell_type": "code",
   "execution_count": null,
   "metadata": {},
   "outputs": [],
   "source": []
  },
  {
   "cell_type": "code",
   "execution_count": null,
   "metadata": {},
   "outputs": [],
   "source": []
  },
  {
   "cell_type": "code",
   "execution_count": null,
   "metadata": {},
   "outputs": [],
   "source": []
  },
  {
   "cell_type": "markdown",
   "metadata": {},
   "source": [
    "## Extra: tests"
   ]
  },
  {
   "cell_type": "code",
   "execution_count": 89,
   "metadata": {},
   "outputs": [
    {
     "data": {
      "text/plain": [
       "\"\\npixarc = pixarc_ird\\nEPOCH_all = np.array(['2017-12-30','2019-11-25'])\\nX_all, Y_all = np.array([837,911]), np.array([332,409])\\nRA_all, DEC_all = -(X_all - 511.5)*pixarc, (Y_all - 511.5)*pixarc # add minus before RA_all\\nRA_ERR_all, DEC_ERR_all = np.array([7,7]), np.array([7,7])\\nSEP_all = np.sqrt(RA_all**2 + DEC_all**2)\\nSEP_ERR_all = np.sqrt(RA_ERR_all**2 + DEC_ERR_all**2)\\nprint('RA:', RA_all , '\\nDEC:', DEC_all) \\n\""
      ]
     },
     "execution_count": 89,
     "metadata": {},
     "output_type": "execute_result"
    }
   ],
   "source": [
    "# # TEST CONVENTION ANDROMEDA CHARAC ON HD85512 # #\n",
    "# compare with SpeCal charac results\n",
    "# print('RA:\\n', RA_all[0][0] , '\\n', RA_all[1][-1], '\\nDEC:\\n', DEC_all[0][0],'\\n', DEC_all[1][-1])\n",
    "\"\"\"\n",
    "pixarc = pixarc_ird\n",
    "EPOCH_all = np.array(['2017-12-30','2019-11-25'])\n",
    "X_all, Y_all = np.array([837,911]), np.array([332,409])\n",
    "RA_all, DEC_all = -(X_all - 511.5)*pixarc, (Y_all - 511.5)*pixarc # add minus before RA_all\n",
    "RA_ERR_all, DEC_ERR_all = np.array([7,7]), np.array([7,7])\n",
    "SEP_all = np.sqrt(RA_all**2 + DEC_all**2)\n",
    "SEP_ERR_all = np.sqrt(RA_ERR_all**2 + DEC_ERR_all**2)\n",
    "print('RA:', RA_all , '\\nDEC:', DEC_all) \n",
    "\"\"\""
   ]
  },
  {
   "cell_type": "code",
   "execution_count": null,
   "metadata": {},
   "outputs": [],
   "source": [
    "# find dra/ddec \n",
    "## ex: H23 1st epoch K12 2nd epoch\n",
    "k = 1\n",
    "diffX = X_all[1][0]-X_all[0][0]\n",
    "print('diffX',diffX,X_all[1][k] - diffX)\n",
    "diffY = Y_all[1][0]-Y_all[0][0]\n",
    "print('diffY',diffY,Y_all[1][k]- diffY)\n",
    "#"
   ]
  }
 ],
 "metadata": {
  "kernelspec": {
   "display_name": "Python 3 (ipykernel)",
   "language": "python",
   "name": "python3"
  },
  "language_info": {
   "codemirror_mode": {
    "name": "ipython",
    "version": 3
   },
   "file_extension": ".py",
   "mimetype": "text/x-python",
   "name": "python",
   "nbconvert_exporter": "python",
   "pygments_lexer": "ipython3",
   "version": "3.9.12"
  }
 },
 "nbformat": 4,
 "nbformat_minor": 2
}
