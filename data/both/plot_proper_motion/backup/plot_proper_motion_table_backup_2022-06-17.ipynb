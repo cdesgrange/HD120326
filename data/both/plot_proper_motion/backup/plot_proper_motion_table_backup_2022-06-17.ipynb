{
 "cells": [
  {
   "cell_type": "markdown",
   "metadata": {},
   "source": [
    "# Plot Proper Motion Diagram\n",
    "\n",
    "Examples of proper motion diagram to make the distinction between an object from the background or comoving with the star for the targets from the sample Super-Earth survey:\n",
    "\n",
    "Based on Arthur Vigans's script \"proper_motion.py\". \n",
    "\n",
    "Modifications: \n",
    "\n",
    "June 1st, 2021 - Célia Desgrange\n",
    "\n",
    "-> understood ANDROMEDA charac convention\n",
    "\n",
    "January 13rd, 2022 - Célia Desgrange\n",
    "\n",
    "-> let's start the automatization...\n",
    "1st) find the same detections among several epochs\n",
    "\n",
    "March 30th, 2022 - Célia Desgrange\n",
    "\n",
    "-> well, messing it up. (well, no, but, should adapt it to fully automatize it... yiha. and especially adapt to table results, containing a mixture of ANDROMEDA and SpeCal (but it is uniformized))"
   ]
  },
  {
   "cell_type": "markdown",
   "metadata": {},
   "source": [
    "## Import packages"
   ]
  },
  {
   "cell_type": "code",
   "execution_count": 2,
   "metadata": {},
   "outputs": [],
   "source": [
    "from import_packages_generic import *\n",
    "from import_packages_PMD import *\n",
    "from import_functions_generic import *\n",
    "from import_functions_PMD import *\n",
    "from import_initialization_generic_variables import *\n",
    "from import_initialization_dataframes import *\n",
    "from import_initialization_CaPMD_variables import *"
   ]
  },
  {
   "cell_type": "code",
   "execution_count": 3,
   "metadata": {},
   "outputs": [
    {
     "name": "stdout",
     "output_type": "stream",
     "text": [
      "Help on function find_proper_motion_between_2epochs in module import_functions_PMD:\n",
      "\n",
      "find_proper_motion_between_2epochs(target, epochs, unit='mas', pixarc=12.25)\n",
      "    Return the proper motion expected for background contaminants between two epochs\n",
      "        Inputs:\n",
      "            'target' (type=string):\n",
      "                    example 'HD154088'\n",
      "            'epochs' (type=list/array of strings):\n",
      "                    example np.array(['2017-06-21', '2019-07-22', '2021-07-04'])\n",
      "            (optional below)\n",
      "            'unit' (type=string): precise in which units to return the proper motion\n",
      "                    Default is in 'mas'. Other option implemented: 'pixel'.\n",
      "            'pixarc' (type=float): in case the 'unit' is to 'pixel', precise what is\n",
      "                    the factor of conversion. Default is 12.25 mas, corresponding to\n",
      "                    the platescale from the SPHERE-IRDIS instrument.\n",
      "\n"
     ]
    }
   ],
   "source": [
    "help(find_proper_motion_between_2epochs)"
   ]
  },
  {
   "cell_type": "code",
   "execution_count": 4,
   "metadata": {},
   "outputs": [],
   "source": [
    "L = time.localtime()\n",
    "date = \"{}-{}-{}\".format(L[0],L[1],L[2],L[3],L[4],L[5])\n",
    "\n",
    "saving_dir = 'figs/fig_PMD_v{}'.format(date)\n",
    "os.makedirs(saving_dir,exist_ok=True)"
   ]
  },
  {
   "cell_type": "markdown",
   "metadata": {},
   "source": [
    "# Initialization"
   ]
  },
  {
   "cell_type": "code",
   "execution_count": 6,
   "metadata": {},
   "outputs": [],
   "source": [
    "# Error\n",
    "# define global error budget in RA, DEC\n",
    "# add the pupil offset error of theta = 0.1 deg; depends on sep (separation) and differs for ra/dec\n",
    "# error in ra: dra**2 =  [sin(theta)*dsep]**2 + [sep*cos(theta)*dtheta]**2 \n",
    "# error in dec: ddec**2 =  [cos(theta)*dsep]**2 + [sep*sin(theta)*dtheta]**2 \n",
    "theta     = 135.99 * np.pi/180 # 0.1 error pupil offset converted in rad\n",
    "theta_err = 0.11 * np.pi/180 "
   ]
  },
  {
   "cell_type": "markdown",
   "metadata": {},
   "source": [
    "### Initialize for all the detections in the Super-Earth survey the magnitude in H2,H3 and K1,K2-bands\n",
    "\n",
    "Note: all detections are from specal charac files or andromeda charac files, which have been summarized in global tables "
   ]
  },
  {
   "cell_type": "code",
   "execution_count": 7,
   "metadata": {},
   "outputs": [],
   "source": [
    "# Initialize SpeCal variables\n",
    "prefix = '/Users/user/Documents/desgrange/work/code/GitHub/projects/RAISES/derive_and_plot_candidates/tables/'\n",
    "algo = 'specal+andro'\n",
    "dF = pd.read_csv(prefix+'all_detections_{}_final_CMD_status.csv'.format(algo),sep=',')"
   ]
  },
  {
   "cell_type": "markdown",
   "metadata": {},
   "source": [
    "# Plot Proper Motion Diagramm"
   ]
  },
  {
   "cell_type": "code",
   "execution_count": 8,
   "metadata": {},
   "outputs": [
    {
     "data": {
      "text/plain": [
       "0     HIP 48331\n",
       "1     HIP 48331\n",
       "40    HIP 48331\n",
       "41    HIP 48331\n",
       "74    HIP 48331\n",
       "75    HIP 48331\n",
       "78    HIP 48331\n",
       "79    HIP 48331\n",
       "Name: target name DC, dtype: object"
      ]
     },
     "execution_count": 8,
     "metadata": {},
     "output_type": "execute_result"
    }
   ],
   "source": [
    "target = 'HD85512'\n",
    "target_DC_all = dF_obs[target==dF_obs['target name']]['target name DC']\n",
    "target_DC_all"
   ]
  },
  {
   "cell_type": "markdown",
   "metadata": {},
   "source": [
    "# Peering into one targeted system\n",
    "\n",
    "### A la mano"
   ]
  },
  {
   "cell_type": "code",
   "execution_count": 9,
   "metadata": {},
   "outputs": [
    {
     "name": "stdout",
     "output_type": "stream",
     "text": [
      "Target: HD85512 (DC name: HIP 48331) \n",
      "Number detections: 3\n",
      "Epochs: 2021-06-21\n",
      "RA: [183.75, 104.125, 79.625] \n",
      "DEC: [0.0, 79.625, 104.125]\n",
      "SEP: [183.75, 131.08072417407527, 131.08072417407527, 131.08072417407527] \n",
      "PA: [68, 68, 68, 68]\n"
     ]
    }
   ],
   "source": [
    "# A la mano GJ 832\n",
    "\n",
    "target_DC = target_DC_all.iloc[0]\n",
    "\n",
    "# initialize lists\n",
    "##EPOCH_all, RA_all, DEC_all =[ '2017-05-27','2017-06-21','2017-06-27','2017-07-03'], [481.2,429,429,429], [197.7,291,291,291]\n",
    "RA_ERR_all, DEC_ERR_all, X_all, Y_all = [10,10,10,10], [10,10,10,10], [30, 37,37,37], [121, 133.5,133.5]\n",
    "EPOCH_all =  ['2021-06-21', '2021-06-27', '2021-07-03']\n",
    "RA_all, DEC_all = [183.75,  104.125,  79.625], [  0.,     79.625, 104.125]\n",
    "X_all, Y_all = [496.5, 503.,  505. ], [511.5, 518.,  520. ]\n",
    "\n",
    "SEP_all, SEP_ERR_all, PA_all, PA_ERR_all = [distance(RA_all[0],DEC_all[0],0,0,1),distance(RA_all[1],DEC_all[1],0,0,1),distance(RA_all[1],DEC_all[1],0,0,1),distance(RA_all[1],DEC_all[1],0,0,1)], [15,15,15,15], [68,68,68,68], [30,30,30,30],\n",
    "\n",
    "print('Target: {} (DC name: {}) \\nNumber detections: {}'.format(target,target_DC, len(EPOCH_all)))\n",
    "print('Epochs:', EPOCH_all[0])\n",
    "\n",
    "print('RA:', RA_all , '\\nDEC:', DEC_all) \n",
    "print('SEP:', SEP_all , '\\nPA:', PA_all) \n",
    "#print('X', X_all , '\\nY', Y_all)"
   ]
  },
  {
   "cell_type": "code",
   "execution_count": 10,
   "metadata": {},
   "outputs": [],
   "source": [
    "if target == 'GJ832' :\n",
    "    pixarc = pixarc_ifs\n",
    "    EPOCH_all = np.array(['2017-06-21','2017-07-03'])\n",
    "    X_all, Y_all = np.array([27,80.5]), np.array([110,101.5])\n",
    "    RA_all, DEC_all = -(X_all - 94.5)*pixarc, (Y_all - 94.5)*pixarc\n",
    "    RA_ERR_all, DEC_ERR_all = np.array([7,7]), np.array([7,7])\n",
    "    SEP_all = np.sqrt(RA_all**2 + DEC_all**2)\n",
    "    SEP_ERR_all = np.sqrt(RA_ERR_all**2 + DEC_ERR_all**2)\n",
    "    print('RA:', RA_all , '\\nDEC:', DEC_all) "
   ]
  },
  {
   "cell_type": "code",
   "execution_count": null,
   "metadata": {},
   "outputs": [],
   "source": []
  },
  {
   "cell_type": "markdown",
   "metadata": {},
   "source": [
    "## Quasi-Automatized \n",
    "\n",
    "### Detections details\n",
    "Are there any detections in H2 and K1 ? If yes, in which epoch, at which magnitudes and at which pixels???"
   ]
  },
  {
   "cell_type": "code",
   "execution_count": 14,
   "metadata": {},
   "outputs": [
    {
     "data": {
      "text/html": [
       "<div>\n",
       "<style scoped>\n",
       "    .dataframe tbody tr th:only-of-type {\n",
       "        vertical-align: middle;\n",
       "    }\n",
       "\n",
       "    .dataframe tbody tr th {\n",
       "        vertical-align: top;\n",
       "    }\n",
       "\n",
       "    .dataframe thead th {\n",
       "        text-align: right;\n",
       "    }\n",
       "</style>\n",
       "<table border=\"1\" class=\"dataframe\">\n",
       "  <thead>\n",
       "    <tr style=\"text-align: right;\">\n",
       "      <th></th>\n",
       "      <th>index</th>\n",
       "      <th>details</th>\n",
       "      <th>target</th>\n",
       "      <th>epoch</th>\n",
       "      <th>filter</th>\n",
       "      <th>coord_x_pix</th>\n",
       "      <th>coord_y_pix</th>\n",
       "      <th>ra_mas</th>\n",
       "      <th>ra_err_mas</th>\n",
       "      <th>ra_err_fit_mas</th>\n",
       "      <th>...</th>\n",
       "      <th>mag_abs_err_channel1</th>\n",
       "      <th>mag_abs_channel2</th>\n",
       "      <th>mag_abs_err_channel2</th>\n",
       "      <th>color</th>\n",
       "      <th>color_err</th>\n",
       "      <th>mag_lim_channel1</th>\n",
       "      <th>mag_lim_channel2</th>\n",
       "      <th>color_uplim</th>\n",
       "      <th>robust_detection_channel2</th>\n",
       "      <th>status_CMD</th>\n",
       "    </tr>\n",
       "  </thead>\n",
       "  <tbody>\n",
       "    <tr>\n",
       "      <th>0</th>\n",
       "      <td>0.0</td>\n",
       "      <td>BD061339 2018-11-24 H23</td>\n",
       "      <td>BD061339</td>\n",
       "      <td>2018-11-24</td>\n",
       "      <td>H23</td>\n",
       "      <td>968.8</td>\n",
       "      <td>752.7</td>\n",
       "      <td>-2998.8</td>\n",
       "      <td>4.7</td>\n",
       "      <td>1.2</td>\n",
       "      <td>...</td>\n",
       "      <td>0.065</td>\n",
       "      <td>18.860</td>\n",
       "      <td>0.066</td>\n",
       "      <td>-0.002</td>\n",
       "      <td>0.093</td>\n",
       "      <td>15.925</td>\n",
       "      <td>15.889</td>\n",
       "      <td>-2.010</td>\n",
       "      <td>1</td>\n",
       "      <td>background</td>\n",
       "    </tr>\n",
       "    <tr>\n",
       "      <th>1</th>\n",
       "      <td>1.0</td>\n",
       "      <td>BD061339 2018-11-24 H23</td>\n",
       "      <td>BD061339</td>\n",
       "      <td>2018-11-24</td>\n",
       "      <td>H23</td>\n",
       "      <td>392.0</td>\n",
       "      <td>876.0</td>\n",
       "      <td>4067.1</td>\n",
       "      <td>7.5</td>\n",
       "      <td>3.0</td>\n",
       "      <td>...</td>\n",
       "      <td>0.100</td>\n",
       "      <td>19.885</td>\n",
       "      <td>0.096</td>\n",
       "      <td>-0.038</td>\n",
       "      <td>0.139</td>\n",
       "      <td>15.928</td>\n",
       "      <td>15.951</td>\n",
       "      <td>-1.083</td>\n",
       "      <td>1</td>\n",
       "      <td>background</td>\n",
       "    </tr>\n",
       "    <tr>\n",
       "      <th>2</th>\n",
       "      <td>0.0</td>\n",
       "      <td>GJ176 2018-10-08 H23</td>\n",
       "      <td>GJ176</td>\n",
       "      <td>2018-10-08</td>\n",
       "      <td>H23</td>\n",
       "      <td>409.4</td>\n",
       "      <td>572.0</td>\n",
       "      <td>3853.6</td>\n",
       "      <td>6.7</td>\n",
       "      <td>0.8</td>\n",
       "      <td>...</td>\n",
       "      <td>0.070</td>\n",
       "      <td>18.974</td>\n",
       "      <td>0.071</td>\n",
       "      <td>-0.032</td>\n",
       "      <td>0.100</td>\n",
       "      <td>16.166</td>\n",
       "      <td>16.176</td>\n",
       "      <td>-3.173</td>\n",
       "      <td>1</td>\n",
       "      <td>background</td>\n",
       "    </tr>\n",
       "    <tr>\n",
       "      <th>3</th>\n",
       "      <td>1.0</td>\n",
       "      <td>GJ229 2018-11-27 H23</td>\n",
       "      <td>GJ229</td>\n",
       "      <td>2018-11-27</td>\n",
       "      <td>H23</td>\n",
       "      <td>705.4</td>\n",
       "      <td>299.2</td>\n",
       "      <td>228.1</td>\n",
       "      <td>15.8</td>\n",
       "      <td>10.9</td>\n",
       "      <td>...</td>\n",
       "      <td>0.056</td>\n",
       "      <td>16.612</td>\n",
       "      <td>0.056</td>\n",
       "      <td>-1.761</td>\n",
       "      <td>0.079</td>\n",
       "      <td>17.886</td>\n",
       "      <td>17.922</td>\n",
       "      <td>-8.658</td>\n",
       "      <td>1</td>\n",
       "      <td>promising</td>\n",
       "    </tr>\n",
       "    <tr>\n",
       "      <th>4</th>\n",
       "      <td>0.0</td>\n",
       "      <td>GJ229 2018-11-27 H23</td>\n",
       "      <td>GJ229</td>\n",
       "      <td>2018-11-27</td>\n",
       "      <td>H23</td>\n",
       "      <td>444.4</td>\n",
       "      <td>712.3</td>\n",
       "      <td>3425.0</td>\n",
       "      <td>5.0</td>\n",
       "      <td>1.0</td>\n",
       "      <td>...</td>\n",
       "      <td>0.061</td>\n",
       "      <td>21.392</td>\n",
       "      <td>0.061</td>\n",
       "      <td>0.018</td>\n",
       "      <td>0.086</td>\n",
       "      <td>17.693</td>\n",
       "      <td>17.642</td>\n",
       "      <td>-1.819</td>\n",
       "      <td>1</td>\n",
       "      <td>background</td>\n",
       "    </tr>\n",
       "  </tbody>\n",
       "</table>\n",
       "<p>5 rows × 71 columns</p>\n",
       "</div>"
      ],
      "text/plain": [
       "   index                  details    target       epoch filter  coord_x_pix  \\\n",
       "0    0.0  BD061339 2018-11-24 H23  BD061339  2018-11-24    H23        968.8   \n",
       "1    1.0  BD061339 2018-11-24 H23  BD061339  2018-11-24    H23        392.0   \n",
       "2    0.0     GJ176 2018-10-08 H23     GJ176  2018-10-08    H23        409.4   \n",
       "3    1.0     GJ229 2018-11-27 H23     GJ229  2018-11-27    H23        705.4   \n",
       "4    0.0     GJ229 2018-11-27 H23     GJ229  2018-11-27    H23        444.4   \n",
       "\n",
       "   coord_y_pix  ra_mas  ra_err_mas  ra_err_fit_mas  ...  mag_abs_err_channel1  \\\n",
       "0        752.7 -2998.8         4.7             1.2  ...                 0.065   \n",
       "1        876.0  4067.1         7.5             3.0  ...                 0.100   \n",
       "2        572.0  3853.6         6.7             0.8  ...                 0.070   \n",
       "3        299.2   228.1        15.8            10.9  ...                 0.056   \n",
       "4        712.3  3425.0         5.0             1.0  ...                 0.061   \n",
       "\n",
       "   mag_abs_channel2  mag_abs_err_channel2  color  color_err  mag_lim_channel1  \\\n",
       "0            18.860                 0.066 -0.002      0.093            15.925   \n",
       "1            19.885                 0.096 -0.038      0.139            15.928   \n",
       "2            18.974                 0.071 -0.032      0.100            16.166   \n",
       "3            16.612                 0.056 -1.761      0.079            17.886   \n",
       "4            21.392                 0.061  0.018      0.086            17.693   \n",
       "\n",
       "   mag_lim_channel2  color_uplim  robust_detection_channel2  status_CMD  \n",
       "0            15.889       -2.010                          1  background  \n",
       "1            15.951       -1.083                          1  background  \n",
       "2            16.176       -3.173                          1  background  \n",
       "3            17.922       -8.658                          1   promising  \n",
       "4            17.642       -1.819                          1  background  \n",
       "\n",
       "[5 rows x 71 columns]"
      ]
     },
     "execution_count": 14,
     "metadata": {},
     "output_type": "execute_result"
    }
   ],
   "source": [
    "dF.head()"
   ]
  },
  {
   "cell_type": "code",
   "execution_count": 18,
   "metadata": {},
   "outputs": [
    {
     "data": {
      "text/plain": [
       "Index(['index', 'details', 'target', 'epoch', 'filter', 'coord_x_pix',\n",
       "       'coord_y_pix', 'ra_mas', 'ra_err_mas', 'ra_err_fit_mas', 'dec_mas',\n",
       "       'dec_err_mas', 'ra_pix', 'dec_pix', 'dec_err_fit_mas', 'sep_mas',\n",
       "       'sep_err_mas', 'sep_err_fit_mas', 'pa_deg', 'pa_err_deg',\n",
       "       'pa_err_fit_deg', 'tn_deg', 'tn_err_deg', 'tn_err_ra_mas',\n",
       "       'tn_err_dec_mas', 'pupil_offset_deg', 'pupil_offset_err_deg',\n",
       "       'pupil_offset_err_ra_mas', 'pupil_offset_err_dec_mas',\n",
       "       'waffle_err_radec_mas', 'platescale_maspix', 'platescale_err_maspix',\n",
       "       'platescale_err_ra_mas', 'platescale_err_dec_mas', 'pipeline', 'algo',\n",
       "       'detection_number', 'version', 'contrast_channel1', 'contrast_channel2',\n",
       "       'contrast_err_channel1', 'contrast_err_channel2',\n",
       "       'contrast_err_fit_channel1', 'contrast_err_fit_channel2',\n",
       "       'contrast_err_seq_channel1', 'contrast_err_seq_channel2',\n",
       "       'contrast_err_psf_channel1', 'contrast_err_psf_channel2',\n",
       "       'mag_channel1', 'mag_channel2', 'mag_err_channel1', 'mag_err_channel2',\n",
       "       'mag_err_fit_channel1', 'mag_err_fit_channel2', 'mag_err_seq_channel1',\n",
       "       'mag_err_seq_channel2', 'mag_err_psf_channel1', 'mag_err_psf_channel2',\n",
       "       'snr_channel1', 'snr_channel2', 'mag_abs_channel1',\n",
       "       'mag_abs_err_channel1', 'mag_abs_channel2', 'mag_abs_err_channel2',\n",
       "       'color', 'color_err', 'mag_lim_channel1', 'mag_lim_channel2',\n",
       "       'color_uplim', 'robust_detection_channel2', 'status_CMD'],\n",
       "      dtype='object')"
      ]
     },
     "execution_count": 18,
     "metadata": {},
     "output_type": "execute_result"
    }
   ],
   "source": [
    "dF.columns"
   ]
  },
  {
   "cell_type": "code",
   "execution_count": 19,
   "metadata": {},
   "outputs": [],
   "source": [
    "TARGET = dF['target']"
   ]
  },
  {
   "cell_type": "code",
   "execution_count": null,
   "metadata": {},
   "outputs": [],
   "source": []
  },
  {
   "cell_type": "code",
   "execution_count": null,
   "metadata": {},
   "outputs": [],
   "source": []
  },
  {
   "cell_type": "code",
   "execution_count": null,
   "metadata": {},
   "outputs": [],
   "source": []
  },
  {
   "cell_type": "code",
   "execution_count": 11,
   "metadata": {},
   "outputs": [
    {
     "ename": "NameError",
     "evalue": "name 'TARGET_MAG_H23' is not defined",
     "output_type": "error",
     "traceback": [
      "\u001b[0;31m---------------------------------------------------------------------------\u001b[0m",
      "\u001b[0;31mNameError\u001b[0m                                 Traceback (most recent call last)",
      "\u001b[0;32m/var/folders/g8/x021ghbs4y50ff6s20232b4w0000gn/T/ipykernel_30511/3209724849.py\u001b[0m in \u001b[0;36m<module>\u001b[0;34m\u001b[0m\n\u001b[1;32m      5\u001b[0m \u001b[0mSEP_all\u001b[0m\u001b[0;34m,\u001b[0m \u001b[0mSEP_ERR_all\u001b[0m\u001b[0;34m,\u001b[0m \u001b[0mPA_all\u001b[0m\u001b[0;34m,\u001b[0m \u001b[0mPA_ERR_all\u001b[0m \u001b[0;34m=\u001b[0m \u001b[0;34m[\u001b[0m\u001b[0;34m]\u001b[0m\u001b[0;34m,\u001b[0m \u001b[0;34m[\u001b[0m\u001b[0;34m]\u001b[0m\u001b[0;34m,\u001b[0m \u001b[0;34m[\u001b[0m\u001b[0;34m]\u001b[0m\u001b[0;34m,\u001b[0m \u001b[0;34m[\u001b[0m\u001b[0;34m]\u001b[0m\u001b[0;34m\u001b[0m\u001b[0;34m\u001b[0m\u001b[0m\n\u001b[1;32m      6\u001b[0m \u001b[0mSNR_all\u001b[0m \u001b[0;34m=\u001b[0m \u001b[0;34m[\u001b[0m\u001b[0;34m]\u001b[0m\u001b[0;34m\u001b[0m\u001b[0;34m\u001b[0m\u001b[0m\n\u001b[0;32m----> 7\u001b[0;31m \u001b[0mcond\u001b[0m \u001b[0;34m=\u001b[0m \u001b[0;34m(\u001b[0m\u001b[0mTARGET_MAG_H23\u001b[0m \u001b[0;34m==\u001b[0m \u001b[0mtarget\u001b[0m\u001b[0;34m)\u001b[0m\u001b[0;34m\u001b[0m\u001b[0;34m\u001b[0m\u001b[0m\n\u001b[0m\u001b[1;32m      8\u001b[0m \u001b[0;31m#cond_interesting = (MAG_ABS_H2_companion < 16)\u001b[0m\u001b[0;34m\u001b[0m\u001b[0;34m\u001b[0m\u001b[0m\n\u001b[1;32m      9\u001b[0m \u001b[0;31m#cond = np.logical_and(cond,cond_interesting)\u001b[0m\u001b[0;34m\u001b[0m\u001b[0;34m\u001b[0m\u001b[0m\n",
      "\u001b[0;31mNameError\u001b[0m: name 'TARGET_MAG_H23' is not defined"
     ]
    }
   ],
   "source": [
    "target_DC = target_DC_all.iloc[0]\n",
    "\n",
    "# initialize lists\n",
    "EPOCH_all, RA_all, DEC_all, RA_ERR_all, DEC_ERR_all, X_all, Y_all = [], [], [], [], [], [], []\n",
    "SEP_all, SEP_ERR_all, PA_all, PA_ERR_all = [], [], [], []\n",
    "SNR_all = []\n",
    "cond = (TARGET_MAG_H23 == target) \n",
    "#cond_interesting = (MAG_ABS_H2_companion < 16)\n",
    "#cond = np.logical_and(cond,cond_interesting)\n",
    "\n",
    "y = MAG_ABS_H2_companion[cond]\n",
    "x = MAG_ABS_H2_companion[cond]-MAG_ABS_H3_companion[cond]\n",
    "\n",
    "file_temporary = NAME_H23[cond]\n",
    "EPOCH_all.append(np.array([select_string_between_characs(file_temporary[i],'/','_',9) for i in range(len(file_temporary))]))\n",
    "\n",
    "print('Target: {} (DC name: {}) \\nNumber detections: {}'.format(target,target_DC, len(EPOCH_all)),\n",
    "      'including', len(TARGET_MAG_H23[cond]), 'interesting cases from a CMD point of view\\n')\n",
    "print('Epochs:', EPOCH_all[0])\n",
    "\n",
    "#print('Mag Rel', np.array(MAG_REL_H2)[cond])\n",
    "print('H2-H3:',x, '\\nM_H2:',y)\n",
    "\n",
    "RA_all.append(X_MAS_H23[cond]); DEC_all.append(Y_MAS_H23[cond])\n",
    "RA_ERR_all.append(X_MAS_ERR_H23[cond]); DEC_ERR_all.append(Y_MAS_ERR_H23[cond])\n",
    "SEP_all.append(SEP_H23[cond]); SEP_ERR_all.append(SEP_ERR_H23[cond])\n",
    "SNR_all.append(SNR_H23[cond])\n",
    "\n",
    "\n",
    "X_all.append(724-X_MAS_H23[cond]/pixarc_ird); Y_all.append(724+1+Y_MAS_H23[cond]/pixarc_ird)\n",
    "print('RA:', RA_all , '\\nDEC:', DEC_all) \n",
    "print('X', X_all , '\\nY', Y_all)"
   ]
  },
  {
   "cell_type": "code",
   "execution_count": null,
   "metadata": {},
   "outputs": [],
   "source": []
  },
  {
   "cell_type": "code",
   "execution_count": null,
   "metadata": {},
   "outputs": [],
   "source": []
  },
  {
   "cell_type": "code",
   "execution_count": 6,
   "metadata": {},
   "outputs": [
    {
     "name": "stdout",
     "output_type": "stream",
     "text": [
      "Target: HD85512 (DC name: HIP 48331) \n",
      "Number detections: 3 including 0 interesting cases from a CMD point of view in the epochs\n",
      "\n",
      "Epochs: \n",
      " H23 n= 3 ['2017-12-30' '2017-04-01' '2017-04-01'] \n",
      " K12 n= 3 ['2020-01-03' '2019-11-25' '2019-11-25']\n"
     ]
    }
   ],
   "source": [
    "# in K1\n",
    "target_DC = target_DC_all.iloc[-1]\n",
    "\n",
    "cond = (TARGET_MAG_K12 == target) \n",
    "condx0, condy0 = -1, 14\n",
    "\n",
    "cond_interesting = np.logical_or(MAG_ABS_K1_companion < condy0, (MAG_ABS_K1_companion-MAG_ABS_K2_companion)<condx0) \n",
    "cond_interesting_target = np.logical_and(cond,cond_interesting)\n",
    "\n",
    "y = MAG_ABS_K1_companion[cond]\n",
    "x = MAG_ABS_K1_companion[cond]-MAG_ABS_K2_companion[cond]\n",
    "\n",
    "file_temporary = NAME_K12[cond]\n",
    "EPOCH_all.append(np.array([select_string_between_characs(file_temporary[i],'/','_',9) for i in range(len(file_temporary))]))\n",
    "#EPOCH_all_1D_target = np.concatenate(np.array(EPOCH_all))\n",
    "\n",
    "\n",
    "print('Target: {} (DC name: {}) \\nNumber detections: {}'.format(target,target_DC, len(EPOCH_all[1])),\n",
    "      'including', len(TARGET_MAG_K12[cond_interesting_target]), \n",
    "      'interesting cases from a CMD point of view in the epochs\\n') \n",
    "      #len(EPOCH_all_1D_target[cond_interesting_target]))\n",
    "print('Epochs:', '\\n H23 n=',len(EPOCH_all[0]), EPOCH_all[0], \n",
    "      '\\n K12 n=',len(EPOCH_all[1]), EPOCH_all[1])\n",
    "#print('K1-K2:', len(x), x, '\\nM_K1:',len(y), y)\n",
    "\n",
    "RA_all.append(X_MAS_K12[cond]); DEC_all.append(Y_MAS_K12[cond])\n",
    "RA_ERR_all.append(X_MAS_ERR_K12[cond]); DEC_ERR_all.append(Y_MAS_ERR_K12[cond])\n",
    "X_all.append(724-X_MAS_K12[cond]/pixarc_ird); Y_all.append(724+1+Y_MAS_K12[cond]/pixarc_ird)\n",
    "SEP_all.append(SEP_K12[cond]); SEP_ERR_all.append(SEP_ERR_K12[cond])\n",
    "SNR_all.append(SNR_K12[cond])\n"
   ]
  },
  {
   "cell_type": "code",
   "execution_count": 7,
   "metadata": {},
   "outputs": [
    {
     "name": "stdout",
     "output_type": "stream",
     "text": [
      "[]\n",
      "[]\n",
      "[]\n"
     ]
    },
    {
     "data": {
      "text/plain": [
       "array([], dtype='<U10')"
      ]
     },
     "execution_count": 7,
     "metadata": {},
     "output_type": "execute_result"
    }
   ],
   "source": [
    "# more tests in case there are some interesting candidates from a CMD point of view\n",
    "print(724-X_MAS_K12[cond_interesting_target]/pixarc_ird)\n",
    "print(724+1+Y_MAS_K12[cond_interesting_target]/pixarc_ird)\n",
    "print(SNR_K12[cond_interesting_target])\n",
    "\n",
    "EPOCH_all_target = []\n",
    "file_temporary = NAME_K12\n",
    "EPOCH_all_target.append(np.array([file_temporary[i][89:99] for i in range(len(file_temporary))]))\n",
    "np.concatenate(np.array(EPOCH_all_target))[cond_interesting_target]"
   ]
  },
  {
   "cell_type": "code",
   "execution_count": null,
   "metadata": {},
   "outputs": [],
   "source": []
  },
  {
   "cell_type": "code",
   "execution_count": 8,
   "metadata": {},
   "outputs": [],
   "source": [
    "## Find common target between different epochs"
   ]
  },
  {
   "cell_type": "code",
   "execution_count": 71,
   "metadata": {},
   "outputs": [
    {
     "name": "stdout",
     "output_type": "stream",
     "text": [
      "['2017-04-01' '2017-12-30' '2019-11-25' '2020-01-03']\n"
     ]
    },
    {
     "ename": "NameError",
     "evalue": "name 'Time' is not defined",
     "output_type": "error",
     "traceback": [
      "\u001b[0;31m---------------------------------------------------------------------------\u001b[0m",
      "\u001b[0;31mNameError\u001b[0m                                 Traceback (most recent call last)",
      "\u001b[0;32m/var/folders/g8/x021ghbs4y50ff6s20232b4w0000gn/T/ipykernel_74366/4000066589.py\u001b[0m in \u001b[0;36m<module>\u001b[0;34m\u001b[0m\n\u001b[1;32m      7\u001b[0m \u001b[0;34m\u001b[0m\u001b[0m\n\u001b[1;32m      8\u001b[0m \u001b[0;31m# Run functions\u001b[0m\u001b[0;34m\u001b[0m\u001b[0;34m\u001b[0m\u001b[0m\n\u001b[0;32m----> 9\u001b[0;31m \u001b[0mpm_ra_yr\u001b[0m\u001b[0;34m,\u001b[0m \u001b[0mpm_dec_yr\u001b[0m \u001b[0;34m=\u001b[0m \u001b[0mfind_proper_motion_per_year\u001b[0m\u001b[0;34m(\u001b[0m\u001b[0mtarget\u001b[0m\u001b[0;34m,\u001b[0m\u001b[0munit\u001b[0m\u001b[0;34m=\u001b[0m\u001b[0munit\u001b[0m\u001b[0;34m)\u001b[0m\u001b[0;34m\u001b[0m\u001b[0;34m\u001b[0m\u001b[0m\n\u001b[0m\u001b[1;32m     10\u001b[0m \u001b[0mpm_ra\u001b[0m\u001b[0;34m,\u001b[0m \u001b[0mpm_dec\u001b[0m \u001b[0;34m=\u001b[0m \u001b[0mfind_proper_motion_between_2epochs\u001b[0m\u001b[0;34m(\u001b[0m\u001b[0mtarget\u001b[0m\u001b[0;34m,\u001b[0m\u001b[0mepochs\u001b[0m\u001b[0;34m,\u001b[0m\u001b[0munit\u001b[0m\u001b[0;34m=\u001b[0m\u001b[0munit\u001b[0m\u001b[0;34m)\u001b[0m\u001b[0;34m\u001b[0m\u001b[0;34m\u001b[0m\u001b[0m\n\u001b[1;32m     11\u001b[0m \u001b[0mprint\u001b[0m\u001b[0;34m(\u001b[0m\u001b[0;34m\"Proper motion per year: {:.1f} {} {:.1f} {}\"\u001b[0m\u001b[0;34m.\u001b[0m\u001b[0mformat\u001b[0m\u001b[0;34m(\u001b[0m\u001b[0mpm_ra_yr\u001b[0m\u001b[0;34m,\u001b[0m \u001b[0munit\u001b[0m\u001b[0;34m,\u001b[0m \u001b[0mpm_dec_yr\u001b[0m\u001b[0;34m,\u001b[0m \u001b[0munit\u001b[0m\u001b[0;34m)\u001b[0m\u001b[0;34m)\u001b[0m\u001b[0;34m\u001b[0m\u001b[0;34m\u001b[0m\u001b[0m\n",
      "\u001b[0;32m~/Documents/desgrange/work/code/Jupyter/import_functions_PMD.py\u001b[0m in \u001b[0;36mfind_proper_motion_per_year\u001b[0;34m(target, unit, pixarc)\u001b[0m\n\u001b[1;32m    134\u001b[0m     '''\n\u001b[1;32m    135\u001b[0m     \u001b[0mepochs\u001b[0m \u001b[0;34m=\u001b[0m \u001b[0;34m[\u001b[0m\u001b[0;34m\"2021-01-01\"\u001b[0m\u001b[0;34m,\u001b[0m\u001b[0;34m\"2022-01-01\"\u001b[0m\u001b[0;34m]\u001b[0m\u001b[0;34m\u001b[0m\u001b[0;34m\u001b[0m\u001b[0m\n\u001b[0;32m--> 136\u001b[0;31m     \u001b[0;32mreturn\u001b[0m \u001b[0mfind_proper_motion_between_2epochs\u001b[0m\u001b[0;34m(\u001b[0m\u001b[0mtarget\u001b[0m\u001b[0;34m,\u001b[0m\u001b[0mepochs\u001b[0m\u001b[0;34m,\u001b[0m\u001b[0munit\u001b[0m\u001b[0;34m=\u001b[0m\u001b[0munit\u001b[0m\u001b[0;34m,\u001b[0m\u001b[0mpixarc\u001b[0m\u001b[0;34m=\u001b[0m\u001b[0mpixarc\u001b[0m\u001b[0;34m)\u001b[0m\u001b[0;34m\u001b[0m\u001b[0;34m\u001b[0m\u001b[0m\n\u001b[0m",
      "\u001b[0;32m~/Documents/desgrange/work/code/Jupyter/import_functions_PMD.py\u001b[0m in \u001b[0;36mfind_proper_motion_between_2epochs\u001b[0;34m(target, epochs, unit, pixarc)\u001b[0m\n\u001b[1;32m    106\u001b[0m                      \u001b[0mthe\u001b[0m \u001b[0mplatescale\u001b[0m \u001b[0;32mfrom\u001b[0m \u001b[0mthe\u001b[0m \u001b[0mSPHERE\u001b[0m\u001b[0;34m-\u001b[0m\u001b[0mIRDIS\u001b[0m \u001b[0minstrument\u001b[0m\u001b[0;34m.\u001b[0m\u001b[0;34m\u001b[0m\u001b[0;34m\u001b[0m\u001b[0m\n\u001b[1;32m    107\u001b[0m      '''\n\u001b[0;32m--> 108\u001b[0;31m      \u001b[0mtimedelta\u001b[0m \u001b[0;34m=\u001b[0m \u001b[0mtimedelta_between_2epochs\u001b[0m\u001b[0;34m(\u001b[0m\u001b[0mtarget\u001b[0m\u001b[0;34m,\u001b[0m\u001b[0mepochs\u001b[0m\u001b[0;34m,\u001b[0m\u001b[0munit\u001b[0m\u001b[0;34m=\u001b[0m\u001b[0;34m'year'\u001b[0m\u001b[0;34m)\u001b[0m\u001b[0;34m\u001b[0m\u001b[0;34m\u001b[0m\u001b[0m\n\u001b[0m\u001b[1;32m    109\u001b[0m \u001b[0;34m\u001b[0m\u001b[0m\n\u001b[1;32m    110\u001b[0m      \u001b[0mresult_table_names\u001b[0m \u001b[0;34m=\u001b[0m \u001b[0mcustomSimbad\u001b[0m\u001b[0;34m.\u001b[0m\u001b[0mquery_object\u001b[0m\u001b[0;34m(\u001b[0m\u001b[0mtarget\u001b[0m\u001b[0;34m)\u001b[0m\u001b[0;34m\u001b[0m\u001b[0;34m\u001b[0m\u001b[0m\n",
      "\u001b[0;32m~/Documents/desgrange/work/code/Jupyter/import_functions_PMD.py\u001b[0m in \u001b[0;36mtimedelta_between_2epochs\u001b[0;34m(target, epochs, unit)\u001b[0m\n\u001b[1;32m     81\u001b[0m                     \u001b[0;34m'minute'\u001b[0m\u001b[0;34m,\u001b[0m \u001b[0;32mand\u001b[0m \u001b[0;34m'second'\u001b[0m\u001b[0;34m.\u001b[0m\u001b[0;34m\u001b[0m\u001b[0;34m\u001b[0m\u001b[0m\n\u001b[1;32m     82\u001b[0m     '''\n\u001b[0;32m---> 83\u001b[0;31m     \u001b[0mT\u001b[0m \u001b[0;34m=\u001b[0m \u001b[0mTime\u001b[0m\u001b[0;34m(\u001b[0m\u001b[0mepochs\u001b[0m\u001b[0;34m,\u001b[0m \u001b[0mformat\u001b[0m\u001b[0;34m=\u001b[0m\u001b[0;34m'isot'\u001b[0m\u001b[0;34m,\u001b[0m \u001b[0mscale\u001b[0m\u001b[0;34m=\u001b[0m\u001b[0;34m'utc'\u001b[0m\u001b[0;34m)\u001b[0m\u001b[0;34m\u001b[0m\u001b[0;34m\u001b[0m\u001b[0m\n\u001b[0m\u001b[1;32m     84\u001b[0m     \u001b[0mtimedelta\u001b[0m \u001b[0;34m=\u001b[0m \u001b[0;34m(\u001b[0m\u001b[0;34m(\u001b[0m\u001b[0mT\u001b[0m\u001b[0;34m[\u001b[0m\u001b[0;36m1\u001b[0m\u001b[0;34m]\u001b[0m\u001b[0;34m-\u001b[0m\u001b[0mT\u001b[0m\u001b[0;34m[\u001b[0m\u001b[0;36m0\u001b[0m\u001b[0;34m]\u001b[0m\u001b[0;34m)\u001b[0m\u001b[0;34m)\u001b[0m\u001b[0;34m.\u001b[0m\u001b[0mvalue\u001b[0m\u001b[0;34m\u001b[0m\u001b[0;34m\u001b[0m\u001b[0m\n\u001b[1;32m     85\u001b[0m     \u001b[0;32mif\u001b[0m \u001b[0munit\u001b[0m \u001b[0;34m==\u001b[0m \u001b[0;34m'year'\u001b[0m\u001b[0;34m:\u001b[0m \u001b[0;32mreturn\u001b[0m \u001b[0mtimedelta\u001b[0m\u001b[0;34m/\u001b[0m\u001b[0;36m365.25\u001b[0m\u001b[0;34m\u001b[0m\u001b[0;34m\u001b[0m\u001b[0m\n",
      "\u001b[0;31mNameError\u001b[0m: name 'Time' is not defined"
     ]
    }
   ],
   "source": [
    "# Initialize inputs\n",
    "target = 'GJ674'\n",
    "EPOCH_UNIQUE = np.unique(np.concatenate(np.array(EPOCH_all)))\n",
    "print(EPOCH_UNIQUE)\n",
    "epochs = EPOCH_UNIQUE\n",
    "unit = 'pixel'\n",
    "\n",
    "# Run functions\n",
    "pm_ra_yr, pm_dec_yr = find_proper_motion_per_year(target,unit=unit)\n",
    "pm_ra, pm_dec = find_proper_motion_between_2epochs(target,epochs,unit=unit)\n",
    "print(\"Proper motion per year: {:.1f} {} {:.1f} {}\".format(pm_ra_yr, unit, pm_dec_yr, unit))\n",
    "print(\"Proper motion between the two epochs: {:.1f} {} {:.1f} {}\".format(pm_ra, unit, pm_dec, unit))"
   ]
  },
  {
   "cell_type": "code",
   "execution_count": null,
   "metadata": {},
   "outputs": [],
   "source": []
  },
  {
   "cell_type": "code",
   "execution_count": 28,
   "metadata": {},
   "outputs": [
    {
     "ename": "SyntaxError",
     "evalue": "invalid character '£' (U+00A3) (1045158027.py, line 1)",
     "output_type": "error",
     "traceback": [
      "\u001b[0;36m  File \u001b[0;32m\"/var/folders/g8/x021ghbs4y50ff6s20232b4w0000gn/T/ipykernel_74366/1045158027.py\"\u001b[0;36m, line \u001b[0;32m1\u001b[0m\n\u001b[0;31m    £\u001b[0m\n\u001b[0m    ^\u001b[0m\n\u001b[0;31mSyntaxError\u001b[0m\u001b[0;31m:\u001b[0m invalid character '£' (U+00A3)\n"
     ]
    }
   ],
   "source": [
    "£"
   ]
  },
  {
   "cell_type": "code",
   "execution_count": 29,
   "metadata": {},
   "outputs": [
    {
     "ename": "NameError",
     "evalue": "name 'pm_ra' is not defined",
     "output_type": "error",
     "traceback": [
      "\u001b[0;31m---------------------------------------------------------------------------\u001b[0m",
      "\u001b[0;31mNameError\u001b[0m                                 Traceback (most recent call last)",
      "\u001b[0;32m/var/folders/g8/x021ghbs4y50ff6s20232b4w0000gn/T/ipykernel_74366/473083842.py\u001b[0m in \u001b[0;36m<module>\u001b[0;34m\u001b[0m\n\u001b[1;32m      2\u001b[0m     \u001b[0mra1\u001b[0m\u001b[0;34m,\u001b[0m \u001b[0mdec1\u001b[0m \u001b[0;34m=\u001b[0m \u001b[0mX_all\u001b[0m\u001b[0;34m[\u001b[0m\u001b[0;36m0\u001b[0m\u001b[0;34m]\u001b[0m\u001b[0;34m,\u001b[0m  \u001b[0mY_all\u001b[0m\u001b[0;34m[\u001b[0m\u001b[0;36m0\u001b[0m\u001b[0;34m]\u001b[0m\u001b[0;34m\u001b[0m\u001b[0;34m\u001b[0m\u001b[0m\n\u001b[1;32m      3\u001b[0m     \u001b[0mra2\u001b[0m\u001b[0;34m,\u001b[0m \u001b[0mdec2\u001b[0m \u001b[0;34m=\u001b[0m \u001b[0mX_all\u001b[0m\u001b[0;34m[\u001b[0m\u001b[0;36m1\u001b[0m\u001b[0;34m]\u001b[0m\u001b[0;34m,\u001b[0m \u001b[0mY_all\u001b[0m\u001b[0;34m[\u001b[0m\u001b[0;36m1\u001b[0m\u001b[0;34m]\u001b[0m\u001b[0;34m\u001b[0m\u001b[0;34m\u001b[0m\u001b[0m\n\u001b[0;32m----> 4\u001b[0;31m     \u001b[0mdra\u001b[0m\u001b[0;34m,\u001b[0m \u001b[0mddec\u001b[0m \u001b[0;34m=\u001b[0m \u001b[0mpm_ra\u001b[0m\u001b[0;34m,\u001b[0m \u001b[0mpm_dec\u001b[0m \u001b[0;31m#previously, when it was not automatized: 26, 89 #15, 42\u001b[0m\u001b[0;34m\u001b[0m\u001b[0;34m\u001b[0m\u001b[0m\n\u001b[0m\u001b[1;32m      5\u001b[0m     \u001b[0mtol\u001b[0m\u001b[0;34m=\u001b[0m\u001b[0;36m10\u001b[0m\u001b[0;34m\u001b[0m\u001b[0;34m\u001b[0m\u001b[0m\n\u001b[1;32m      6\u001b[0m \u001b[0;34m\u001b[0m\u001b[0m\n",
      "\u001b[0;31mNameError\u001b[0m: name 'pm_ra' is not defined"
     ]
    }
   ],
   "source": [
    "if target == 'GJ674' :\n",
    "    ra1, dec1 = X_all[0],  Y_all[0]\n",
    "    ra2, dec2 = X_all[1], Y_all[1]\n",
    "    dra, ddec = pm_ra, pm_dec #previously, when it was not automatized: 26, 89 #15, 42 \n",
    "    tol=10\n",
    "    \n",
    "if target == 'HD154088' :\n",
    "    ra1, dec1 = X_all[0],  Y_all[0]\n",
    "    ra2, dec2 = X_all[1][5:], Y_all[1][5:]\n",
    "    dra, ddec = pm_ra, pm_dec #previously, when it was not automatized: 26, 89 #15, 42 \n",
    "    tol=10\n",
    "    \n",
    "print(ra1) ; print(dec1)\n",
    "print(ra2) ; print(dec2)"
   ]
  },
  {
   "cell_type": "code",
   "execution_count": 30,
   "metadata": {
    "scrolled": true
   },
   "outputs": [
    {
     "ename": "NameError",
     "evalue": "name 'dra' is not defined",
     "output_type": "error",
     "traceback": [
      "\u001b[0;31m---------------------------------------------------------------------------\u001b[0m",
      "\u001b[0;31mNameError\u001b[0m                                 Traceback (most recent call last)",
      "\u001b[0;32m/var/folders/g8/x021ghbs4y50ff6s20232b4w0000gn/T/ipykernel_74366/2509992536.py\u001b[0m in \u001b[0;36m<module>\u001b[0;34m\u001b[0m\n\u001b[0;32m----> 1\u001b[0;31m \u001b[0mINDEX1\u001b[0m\u001b[0;34m,\u001b[0m \u001b[0mINDEX_CLOSER\u001b[0m\u001b[0;34m,\u001b[0m \u001b[0mRA_CLOSER\u001b[0m\u001b[0;34m,\u001b[0m \u001b[0mDEC_CLOSER\u001b[0m \u001b[0;34m=\u001b[0m \u001b[0mcloser_positions\u001b[0m\u001b[0;34m(\u001b[0m\u001b[0mra1\u001b[0m\u001b[0;34m,\u001b[0m\u001b[0mdec1\u001b[0m\u001b[0;34m,\u001b[0m\u001b[0mra2\u001b[0m\u001b[0;34m,\u001b[0m\u001b[0mdec2\u001b[0m\u001b[0;34m,\u001b[0m\u001b[0mdra\u001b[0m\u001b[0;34m=\u001b[0m\u001b[0mdra\u001b[0m\u001b[0;34m,\u001b[0m\u001b[0mddec\u001b[0m\u001b[0;34m=\u001b[0m\u001b[0mddec\u001b[0m\u001b[0;34m,\u001b[0m\u001b[0mtolerance\u001b[0m\u001b[0;34m=\u001b[0m\u001b[0mtol\u001b[0m\u001b[0;34m)\u001b[0m\u001b[0;34m\u001b[0m\u001b[0;34m\u001b[0m\u001b[0m\n\u001b[0m\u001b[1;32m      2\u001b[0m \u001b[0;34m\u001b[0m\u001b[0m\n\u001b[1;32m      3\u001b[0m \u001b[0mRA_CLOSER_idx_sort\u001b[0m \u001b[0;34m=\u001b[0m \u001b[0mnp\u001b[0m\u001b[0;34m.\u001b[0m\u001b[0margsort\u001b[0m\u001b[0;34m(\u001b[0m\u001b[0mRA_CLOSER\u001b[0m\u001b[0;34m)\u001b[0m\u001b[0;34m\u001b[0m\u001b[0;34m\u001b[0m\u001b[0m\n\u001b[1;32m      4\u001b[0m \u001b[0mRA1_idx_sort\u001b[0m       \u001b[0;34m=\u001b[0m \u001b[0mnp\u001b[0m\u001b[0;34m.\u001b[0m\u001b[0margsort\u001b[0m\u001b[0;34m(\u001b[0m\u001b[0mra1\u001b[0m\u001b[0;34m)\u001b[0m\u001b[0;34m\u001b[0m\u001b[0;34m\u001b[0m\u001b[0m\n\u001b[1;32m      5\u001b[0m \u001b[0mRA2_idx_sort\u001b[0m       \u001b[0;34m=\u001b[0m \u001b[0mnp\u001b[0m\u001b[0;34m.\u001b[0m\u001b[0margsort\u001b[0m\u001b[0;34m(\u001b[0m\u001b[0mra2\u001b[0m\u001b[0;34m)\u001b[0m\u001b[0;34m\u001b[0m\u001b[0;34m\u001b[0m\u001b[0m\n",
      "\u001b[0;31mNameError\u001b[0m: name 'dra' is not defined"
     ]
    }
   ],
   "source": [
    "INDEX1, INDEX_CLOSER, RA_CLOSER, DEC_CLOSER = closer_positions(ra1,dec1,ra2,dec2,dra=dra,ddec=ddec,tolerance=tol)\n",
    "\n",
    "RA_CLOSER_idx_sort = np.argsort(RA_CLOSER)\n",
    "RA1_idx_sort       = np.argsort(ra1)\n",
    "RA2_idx_sort       = np.argsort(ra2)\n",
    "\n",
    "print('Number of objects observed at least twice found: {} over {} in the last epoch'.format(len(INDEX_CLOSER),len(ra2)))\n",
    "print(INDEX1)\n",
    "print(INDEX_CLOSER)\n",
    "\n",
    "#print(RA_CLOSER[RA_CLOSER_idx_sort])\n",
    "#print(DEC_CLOSER[RA_CLOSER_idx_sort])\n",
    "#print('\\n',ra1[RA1_idx_sort])\n",
    "#print(dec1[RA1_idx_sort])\n",
    "#print('\\n',ra2[RA2_idx_sort])\n",
    "#print(dec2[RA2_idx_sort])\n"
   ]
  },
  {
   "cell_type": "code",
   "execution_count": null,
   "metadata": {},
   "outputs": [],
   "source": []
  },
  {
   "cell_type": "code",
   "execution_count": 9,
   "metadata": {},
   "outputs": [],
   "source": [
    "# Everything should be given in array\n",
    "EPOCH_all, RA_all, DEC_all = np.array(EPOCH_all),np.array(RA_all),np.array(DEC_all)\n",
    "RA_ERR_all, DEC_ERR_all = np.array(RA_ERR_all),np.array(DEC_ERR_all)\n",
    "SEP_all, SEP_ERR_all = np.array(SEP_all),np.array(SEP_ERR_all)"
   ]
  },
  {
   "cell_type": "code",
   "execution_count": null,
   "metadata": {},
   "outputs": [],
   "source": []
  },
  {
   "cell_type": "code",
   "execution_count": 10,
   "metadata": {},
   "outputs": [
    {
     "name": "stdout",
     "output_type": "stream",
     "text": [
      "RA:\n",
      " [[-3515.49 -3983.89]\n",
      " [-4888.66  4905.12]] \n",
      "DEC:\n",
      " [[-2526.7  -2145.39]\n",
      " [-1255.42 -1180.48]]\n"
     ]
    }
   ],
   "source": [
    "select_index_epochs = None ; select_index_epoch1 = None\n",
    "index_filter = None\n",
    "\n",
    "EPOCH, RA, DEC, RA_ERR, DEC_ERR = [], [], [], [], []\n",
    "SEP, SEP_ERR = [], []\n",
    "\n",
    "if target == 'HD85512': \n",
    "    # several candidates\n",
    "    index_filter = [0,1]\n",
    "    select_index_epochs = [[1,0],[1,0]]\n",
    "\n",
    "elif target == 'HD154088' : \n",
    "    # several candidates\n",
    "    # plot H23 1st epoch and K12 1st epoch and 2nd epoch\n",
    "    index_filter = [0,1,1]\n",
    "    select_index_epochs = [[18,23,1,27,28],[1,2,0,4,3],[4+7,4+16,4+2,4+18,4+14]]\n",
    "    if 1 : # plot H23 1st epoch and K12 1st epoch\n",
    "        index_filter = [0,1]\n",
    "        select_index_epochs = [[0,1,2,3,5,8,10,12,16,18,21,23,24,27,28,29,30],\n",
    "                               [5+np.array([0,1,2,4,9,3,7,5,11,6,8,15,19,17,13,14,10])]]\n",
    "        \n",
    "elif target == 'HD136352' : \n",
    "    # several candidates\n",
    "    index_filter = [0,1]\n",
    "    select_index_epochs = [[10,14,12,0,4,2,5],[0,3,1,2,4,5,6]]\n",
    "    \n",
    "elif target == 'GJ433' : \n",
    "    # attention, works well if SNR threshold is 3\n",
    "    select_index_epoch1 = [1]\n",
    "    select_index_epoch2 = [0]\n",
    "elif target == 'GJ422' : \n",
    "    # attention, works well if SNR threshold is 3\n",
    "    index_filter = [1,1]\n",
    "    select_index_epochs = [[3,4,0,1,2,],[8,9,5,6,7,]]\n",
    "    if 1:\n",
    "        index_filter = [0,1,1]\n",
    "        select_index_epochs = [[1,0], [3,4], [8,9]]\n",
    "        \n",
    "elif target == 'GJ682' :\n",
    "    index_filter = [0,0]\n",
    "    select_index_epochs = [[0,1,11,3,5,4,6,7,8],[12,13,14,15,16,17,18,19,20]]\n",
    "    if 1:\n",
    "        index_filter = [0,0,1]\n",
    "        select_index_epochs = [[0,1,11,3,5,4],[12,13,14,15,16,17],[1,2,0,3,6,5]]\n",
    "\n",
    "elif target == 'GJ674' :\n",
    "    # the most automatized\n",
    "    index_filter = [0,1]\n",
    "    select_index_epochs = [INDEX1, INDEX_CLOSER]\n",
    "\n",
    "else :\n",
    "    print('Indicate indexes of detections which are present through several epochs or every detection would be considered with this sorting!')\n",
    "\n",
    "if select_index_epoch1 != None and index_filter == None :\n",
    "    EPOCH = np.array((EPOCH_all[0][select_index_epoch1],EPOCH_all[1][select_index_epoch2]))\n",
    "    RA  = np.array((RA_all[0][select_index_epoch1], RA_all[1][select_index_epoch2])) \n",
    "    DEC = np.array((DEC_all[0][select_index_epoch1],DEC_all[1][select_index_epoch2]))\n",
    "    RA_ERR  = np.array((RA_ERR_all[0][select_index_epoch1], RA_ERR_all[1][select_index_epoch2])) \n",
    "    DEC_ERR = np.array((DEC_ERR_all[0][select_index_epoch1],DEC_ERR_all[1][select_index_epoch2]))\n",
    "    SEP = np.array((SEP_all[0][select_index_epoch1],SEP_all[1][select_index_epoch2]))\n",
    "    SEP_ERR  = np.array((SEP_ERR_all[0][select_index_epoch1], SEP_ERR_all[1][select_index_epoch2])) \n",
    "    \n",
    "elif select_index_epochs != None and index_filter != None :\n",
    "    for i in range(len(index_filter)):\n",
    "        EPOCH.append(EPOCH_all[index_filter[i]][select_index_epochs[i]])\n",
    "        RA.append(RA_all[index_filter[i]][select_index_epochs[i]])\n",
    "        DEC.append(DEC_all[index_filter[i]][select_index_epochs[i]])\n",
    "        RA_ERR.append(RA_ERR_all[index_filter[i]][select_index_epochs[i]])\n",
    "        DEC_ERR.append(DEC_ERR_all[index_filter[i]][select_index_epochs[i]])\n",
    "        SEP.append(SEP_all[index_filter[i]][select_index_epochs[i]])\n",
    "        SEP_ERR.append(SEP_ERR_all[index_filter[i]][select_index_epochs[i]])\n",
    "        \n",
    "    EPOCH = np.array((EPOCH))\n",
    "    RA  = np.array(RA) \n",
    "    DEC = np.array(DEC)\n",
    "    RA_ERR  = np.array(RA_ERR) \n",
    "    DEC_ERR = np.array(DEC_ERR)\n",
    "    SEP = np.array(SEP)\n",
    "    SEP_ERR = np.array(SEP_ERR)\n",
    "    \n",
    "elif target != 'GJ832' : \n",
    "    EPOCH = np.array((EPOCH_all[0],EPOCH_all[1]))\n",
    "    RA  = np.array((RA_all[0], RA_all[1])) \n",
    "    DEC = np.array((DEC_all[0],DEC_all[1]))\n",
    "    RA_ERR  = np.array((RA_ERR_all[0], RA_ERR_all[1])) \n",
    "    DEC_ERR = np.array((DEC_ERR_all[0],DEC_ERR_all[1]))\n",
    "    SEP = np.array((SEP_all[0],SEP_all[1]))\n",
    "    SEP_ERR = np.array((SEP_ERR_all[0],SEP_ERR_all[1]))\n",
    "    \n",
    "if target == 'HD85512' and 0: \n",
    "    EPOCH = EPOCH.flatten()\n",
    "    RA  = RA.flatten()\n",
    "    DEC = DEC.flatten()\n",
    "    RA_ERR  = RA_ERR.flatten()\n",
    "    DEC_ERR = DEC_ERR.flatten()\n",
    "    SEP  = SEP.flatten()\n",
    "    SEP_ERR = SEP_ERR.flatten()\n",
    "    \n",
    "    EPOCH = np.array([EPOCH]).transpose()\n",
    "    RA  = np.array([RA]).transpose()\n",
    "    DEC = np.array([DEC]).transpose()\n",
    "    RA_ERR  = np.array([RA_ERR]).transpose()\n",
    "    DEC_ERR = np.array([DEC_ERR]).transpose()\n",
    "    SEP  = np.array([SEP]).transpose()\n",
    "    SEP_ERR = np.array([SEP_ERR]).transpose()\n",
    "    \n",
    "    RA[3,0] = -RA[3,0]\n",
    "    \n",
    "elif target == 'GJ832' :    \n",
    "    EPOCH = np.array([EPOCH_all]).transpose()\n",
    "    RA  = np.array([RA_all]).transpose()\n",
    "    DEC = np.array([DEC_all]).transpose()\n",
    "    RA_ERR  = np.array([RA_ERR_all]).transpose()\n",
    "    DEC_ERR = np.array([DEC_ERR_all]).transpose()\n",
    "    SEP  = np.array([SEP_all]).transpose()\n",
    "    SEP_ERR = np.array([SEP_ERR_all]).transpose()\n",
    "    PA  = np.array([SEP_all]).transpose()\n",
    "    PA_ERR = np.array([SEP_ERR_all]).transpose()\n",
    "    \n",
    "print('RA:\\n', RA , '\\nDEC:\\n', DEC)"
   ]
  },
  {
   "cell_type": "markdown",
   "metadata": {},
   "source": [
    "### Plot these detections on the PMD\n",
    "\n",
    "#### Declination vs Right Ascension"
   ]
  },
  {
   "cell_type": "code",
   "execution_count": 11,
   "metadata": {
    "scrolled": true
   },
   "outputs": [
    {
     "name": "stderr",
     "output_type": "stream",
     "text": [
      "findfont: Font family ['serif'] not found. Falling back to DejaVu Sans.\n"
     ]
    },
    {
     "data": {
      "image/png": "[encoded data removed]",
      "text/plain": [
       "<Figure size 1360x640 with 3 Axes>"
      ]
     },
     "metadata": {},
     "output_type": "display_data"
    }
   ],
   "source": [
    "n_epochs = EPOCH.shape[0]\n",
    "\n",
    "target   = target\n",
    "dates    = [EPOCH[i][0] for i in range(n_epochs)]\n",
    "dra      = [RA[i][0] for i in range(n_epochs)]\n",
    "dra_err  = [RA_ERR[i][0] for i in range(n_epochs)]\n",
    "ddec     = [DEC[i][0] for i in range(n_epochs)]\n",
    "ddec_err = [DEC_ERR[i][0] for i in range(n_epochs)]\n",
    "\n",
    "cond_select_obj = (target==dF_prop['target name'])\n",
    "plx = float(dF_prop[cond_select_obj]['parallax'])\n",
    "plx_err = float(dF_prop[cond_select_obj]['err parallax'])\n",
    "dist = float(dF_prop[cond_select_obj]['distance'])\n",
    "dist_err = plx_err/plx**2\n",
    "\n",
    "\n",
    "# load some properties of the star from Simbad\n",
    "result_table_names = customSimbad.query_object(target)\n",
    "\n",
    "pm_err_star = np.max([result_table_names['PM_ERR_MAJA'][0],result_table_names['PM_ERR_MINA'][0]])\n",
    "prop = {\n",
    "    'ra': result_table_names['RA'][0],\n",
    "    'dec': result_table_names['DEC'][0],\n",
    "    'dist': dist,\n",
    "    'dist_err': dist_err,\n",
    "    'plx': plx,\n",
    "    'plx_err': plx_err,\n",
    "    'pm': [result_table_names['PMRA'][0],result_table_names['PMDEC'][0]],\n",
    "    'pm_err': [pm_err_star,pm_err_star],\n",
    "    #'pm_bkg': [-20, -30],\n",
    "    #'pm_bkg_err': [6.5, 5.8]\n",
    "}\n",
    "\n",
    "fig, ax, RA_track, DEC_track, RA_expected_bkg, DEC_expected_bkg = proper_motion.plots(target, dates, \n",
    "                        dra, dra_err, ddec, ddec_err, prop, \n",
    "                        legend_loc=0, return_tracks=1, return_expected_positions=1)\n",
    "mise_en_page(ax)\n",
    "plt.savefig('PMD_{}_overview_{}epochs.pdf'.format(target,n_epochs))"
   ]
  },
  {
   "cell_type": "markdown",
   "metadata": {},
   "source": [
    "#### Use a reference epoch to plot difference in relative declination vs difference in relative right ascension"
   ]
  },
  {
   "cell_type": "code",
   "execution_count": 12,
   "metadata": {},
   "outputs": [],
   "source": [
    "#Parameters plot\n",
    "color_background = 'blue'\n",
    "color_detection = ['red', 'teal', 'orange', 'purple', 'magenta',  [0.9,0.8,0], 'navy', [0.4,0.4,1], [0.2,1,0.2], [0.5,1,0.5],  'cyan', [0,0,0.5],  [0.5,0,0],  [0.9,0.5,0.9],  [0.2,0.8,1], [0.5,0.5,0.5] , 'forestgreen']"
   ]
  },
  {
   "cell_type": "code",
   "execution_count": 13,
   "metadata": {},
   "outputs": [
    {
     "data": {
      "text/plain": [
       "17"
      ]
     },
     "execution_count": 13,
     "metadata": {},
     "output_type": "execute_result"
    }
   ],
   "source": [
    "len(color_detection)"
   ]
  },
  {
   "cell_type": "code",
   "execution_count": null,
   "metadata": {},
   "outputs": [],
   "source": []
  },
  {
   "cell_type": "markdown",
   "metadata": {},
   "source": [
    "- More than 1 candidate and than 1 epoch"
   ]
  },
  {
   "cell_type": "code",
   "execution_count": 15,
   "metadata": {},
   "outputs": [
    {
     "name": "stdout",
     "output_type": "stream",
     "text": [
      "1\n"
     ]
    },
    {
     "data": {
      "image/png": "[encoded data removed]",
      "text/plain": [
       "<Figure size 400x400 with 1 Axes>"
      ]
     },
     "metadata": {},
     "output_type": "display_data"
    }
   ],
   "source": [
    "n_epochs = EPOCH.shape[0] ; n_candidates = EPOCH.shape[1]\n",
    "xlab = r'$\\Delta \\alpha_{ref} - \\Delta \\alpha$ (mas)'\n",
    "ylab = r'$\\Delta \\delta_{ref} - \\Delta \\delta$ (mas)'\n",
    "target   = target\n",
    "dates    = EPOCH\n",
    "dra      = RA[1:]\n",
    "dra_err  = [0]\n",
    "ddec     = DEC[1:]\n",
    "ddec_err = [0]\n",
    "\n",
    "dra_ref      = RA[0]\n",
    "dra_err_ref  = [0]\n",
    "ddec_ref     = DEC[0]\n",
    "ddec_err_ref = [0]\n",
    "\n",
    "cond_select_obj = (target==dF_prop['target name'])\n",
    "plx = float(dF_prop[cond_select_obj]['parallax'])\n",
    "plx_err = float(dF_prop[cond_select_obj]['err parallax'])\n",
    "dist = float(dF_prop[cond_select_obj]['distance'])\n",
    "dist_err = plx_err/plx**2\n",
    "\n",
    "\n",
    "fig, ax = plt.subplots(1,1,figsize=(5,5))\n",
    "fig.subplots_adjust(left=0.18,bottom=0.11,top=0.97,right=0.95)\n",
    "loc = 'upper left' ; add_zoom_text = '' ; marker_epoch = None\n",
    "yfin_leg = 8000 ; ydeb_leg = -1e4 ; xdeb_leg = 1e4\n",
    "color=color_detection ; label = ''\n",
    "add_candidate = 0\n",
    "\n",
    "axes2_xdeb,axes2_ydeb, axes2_xlong,axes2_ylong = 0.67, 0.45, 0.22, 0.22\n",
    "\n",
    "\n",
    "# special cases : refined images providing the system\n",
    "if target == 'GJ422' and n_epochs==3:\n",
    "    xlim, ylim =  [600,-5700], [-600,3000] ; yfin_leg = 1800 #; loc = 'lower left'\n",
    "    mise_en_page(ax,x_step=1,y_step=1,x_maj_step=1000, x_min_step=200, y_maj_step=1000, y_min_step=200)\n",
    "    marker_epoch = ['o','d']\n",
    "    add_candidate = 1\n",
    "    add_zoom = 1\n",
    "    xlim_zoom, ylim_zoom =  [-4400,-4500], [2150,2300] ;\n",
    "    x_step_zoom=1; y_step_zoom=1 \n",
    "    x_maj_step_zoom=50; x_min_step_zoom=10; y_maj_step_zoom=50; y_min_step_zoom=10\n",
    "    axes2_xdeb,axes2_ydeb, axes2_xlong,axes2_ylong = 0.67, 0.45, 0.22, 0.22\n",
    "    add_zoom_2 = 1\n",
    "    axes2_xdeb2,axes2_ydeb2, axes2_xlong2,axes2_ylong2 = 0.67, 0.18, 0.22, 0.22\n",
    "    xlim_zoom2, ylim_zoom2 =  [-4800,-4900], [2300,2400]\n",
    "\n",
    "    \n",
    "elif target == 'GJ682' and n_epochs==3:\n",
    "    mise_en_page(ax,x_step=1,y_step=1,x_maj_step=500, x_min_step=100, y_maj_step=500, y_min_step=100)\n",
    "    marker_epoch = ['o','d']\n",
    "    xlim, ylim =  [200, -2000], [-2200,200] ; ydeb_leg = -1650 ; loc = 'lower left'\n",
    "    add_zoom = 1 \n",
    "    xlim_zoom, ylim_zoom =  [-120,-160], [-70,-35] ;\n",
    "    x_step_zoom=1; y_step_zoom=1\n",
    "    x_maj_step_zoom=20; x_min_step_zoom=5; y_maj_step_zoom=20; y_min_step_zoom=5\n",
    "    axes2_xdeb,axes2_ydeb, axes2_xlong,axes2_ylong = 0.68, 0.69, 0.22, 0.22\n",
    "    add_zoom_2 = 1\n",
    "    axes2_xdeb2,axes2_ydeb2, axes2_xlong2,axes2_ylong2 = 0.68, 0.38, 0.22, 0.22\n",
    "    xlim_zoom2, ylim_zoom2 =  [-1440,-1490], [-1920,-1860] ;\n",
    "    \n",
    "    \n",
    "elif target == 'HD85512':\n",
    "    mise_en_page(ax,x_step=1,y_step=1,x_maj_step=500, x_min_step=100, y_maj_step=500, y_min_step=100)\n",
    "    marker_epoch = ['o','o','o','o']\n",
    "    xlim, ylim =  [1500,-500], [-1500,200] ; xdeb_leg = 550#; ydeb_leg = -1500 ; loc = 'lower left'\n",
    "    add_zoom = 0\n",
    "    xlim_zoom, ylim_zoom =  [1395,1370], [-1370,-1250] ;\n",
    "    x_step_zoom=1; y_step_zoom=1\n",
    "    x_maj_step_zoom=10; x_min_step_zoom=5; y_maj_step_zoom=50; y_min_step_zoom=10\n",
    "    axes2_xdeb,axes2_ydeb, axes2_xlong,axes2_ylong = 0.68, 0.46, 0.22, 0.22\n",
    "    add_zoom_2 = 0\n",
    "    axes2_xdeb2,axes2_ydeb2, axes2_xlong2,axes2_ylong2 = 0.68, 0.18, 0.22, 0.22\n",
    "    xlim_zoom2, ylim_zoom2 =  [475,460], [-400,-350] ;\n",
    "    \n",
    "elif target == 'HD154088':\n",
    "    xlim, ylim =  [400,-100], [-1200,150] ; xdeb_leg = 70\n",
    "    marker_epoch = ['o','d']\n",
    "    mise_en_page(ax,x_step=1,y_step=1,x_maj_step=50, x_min_step=10, y_maj_step=100, y_min_step=20)\n",
    "    add_zoom = 1\n",
    "    xlim_zoom, ylim_zoom =  [170,110], [-590,-530] ;\n",
    "    x_step_zoom=1; y_step_zoom=1\n",
    "    x_maj_step_zoom=40; x_min_step_zoom=10; y_maj_step_zoom=40; y_min_step_zoom=10\n",
    "    axes2_xdeb,axes2_ydeb, axes2_xlong,axes2_ylong = 0.68, 0.48, 0.22, 0.22 \n",
    "    add_zoom_2 = 1\n",
    "    axes2_xdeb2,axes2_ydeb2, axes2_xlong2,axes2_ylong2 = 0.68, 0.2, 0.22, 0.22\n",
    "    xlim_zoom2, ylim_zoom2 =  [380,280], [-1110,-1030] ;\n",
    "\n",
    "# add background track\n",
    "ax.plot(RA_track,DEC_track,label='bkg star w/o pm',color=color_background)\n",
    "\n",
    "# add detections for each epoch\n",
    "for t in range(1,n_epochs):\n",
    "    print(t)\n",
    "    XRA, YDEC = RA[0]-RA[t], DEC[0]-DEC[t]\n",
    "    \n",
    "    # ERRORBARS: define global error budget in RA, DEC\n",
    "    # add the pupil offset error of theta = 0.1 deg; depends on sep (separation) and differs for ra/dec\n",
    "    RA_ERR_PUPIL  = np.sqrt( (np.sin(theta)*SEP_ERR)**2 + (SEP*np.cos(theta)*theta_err)**2 ) #+ (np.sin(theta)*SEP_ERR[1])**2 + [SEP[1]*np.cos(theta)*theta_err]**2 )   \n",
    "    DEC_ERR_PUPIL = np.sqrt( (np.cos(theta)*SEP_ERR)**2 + (SEP*np.sin(theta)*theta_err)**2 )  #+ (np.cos(theta)*SEP_ERR[1])**2 + [SEP[1]*np.sin(theta)*theta_err]**2 )   \n",
    "    # global budget\n",
    "    XRA_ERR  = np.sqrt(RA_ERR[0]**2+RA_ERR[t]**2+RA_ERR_PUPIL[0]**2+RA_ERR_PUPIL[t]**2)\n",
    "    YDEC_ERR =  np.sqrt(DEC_ERR[0]**2+DEC_ERR[t]**2+DEC_ERR_PUPIL[0]**2+DEC_ERR_PUPIL[t]**2)\n",
    "\n",
    "    for i in range(n_candidates):\n",
    "        if t == 1 and add_candidate : label = 'candidate {}'.format(i+1)\n",
    "        #ax.text(500,100,text,fontsize=12)\n",
    "        ax.errorbar(XRA[i],YDEC[i],YDEC_ERR[i],XRA_ERR[i],label=label,\n",
    "                marker=marker_epoch[t-1],color=color[i],lw=0, elinewidth=1, zorder=10)\n",
    "    # add epochs in leg\n",
    "    ax.plot([5e5,5e5],[5e5,5e5],color='black',marker=marker_epoch[t-1],lw=0,label='{} - {}'.format(EPOCH[0,0],EPOCH[t,0]))\n",
    "    label = ''\n",
    "    \n",
    "\n",
    "# add [0,0] reference lines\n",
    "ax.legend(loc=loc,frameon=False,numpoints=1)\n",
    "ax.plot([0,0],[ydeb_leg,yfin_leg],ls=':',color='black')\n",
    "fais_moi_un_subplot(ax,[xdeb_leg,-1e4],[0,0],ls=':',c='black',labx=xlab,laby=ylab)\n",
    "plt.axis([xlim[0], xlim[1], ylim[0], ylim[1]])\n",
    "#plt.gca().set_aspect('equal', adjustable='box')\n",
    "#mise_en_page(ax,x_step=1,y_step=1,x_maj_step=100, x_min_step=20, y_maj_step=100, y_min_step=20)\n",
    "\n",
    "# add second small plot\n",
    "if add_zoom :\n",
    "    add_zoom_text = '_zoom'\n",
    "    axes2 = fig.add_axes([axes2_xdeb,axes2_ydeb, axes2_xlong,axes2_ylong]) # renvoie un objet Axes       \n",
    "    #axes2.axis('equal')         \n",
    "    axes2.patch.set_color([0.99,0.99,0.99])\n",
    "    fais_moi_un_subplot(axes2,RA_track,DEC_track,c=color_background,fs=10,ls='-') #labx=xlab,laby=ylab\n",
    "    # add detections for each epoch\n",
    "    for t in range(1,n_epochs):\n",
    "        print(t)\n",
    "        XRA, YDEC = RA[0]-RA[t], DEC[0]-DEC[t]\n",
    "        \n",
    "        # ERRORBARS: define global error budget in RA, DEC\n",
    "        # add the pupil offset error of theta = 0.1 deg; depends on sep (separation) and differs for ra/dec\n",
    "        RA_ERR_PUPIL  = np.sqrt( (np.sin(theta)*SEP_ERR)**2 + (SEP*np.cos(theta)*theta_err)**2 ) #+ (np.sin(theta)*SEP_ERR[1])**2 + [SEP[1]*np.cos(theta)*theta_err]**2 )   \n",
    "        DEC_ERR_PUPIL = np.sqrt( (np.cos(theta)*SEP_ERR)**2 + (SEP*np.sin(theta)*theta_err)**2 )  #+ (np.cos(theta)*SEP_ERR[1])**2 + [SEP[1]*np.sin(theta)*theta_err]**2 )   \n",
    "        # global budget\n",
    "        XRA_ERR  = np.sqrt(RA_ERR[0]**2+RA_ERR[t]**2+RA_ERR_PUPIL[0]**2+RA_ERR_PUPIL[t]**2)\n",
    "        YDEC_ERR =  np.sqrt(DEC_ERR[0]**2+DEC_ERR[t]**2+DEC_ERR_PUPIL[0]**2+DEC_ERR_PUPIL[t]**2)\n",
    "         \n",
    "        for i in range(n_candidates):\n",
    "            axes2.errorbar(XRA[i],YDEC[i],YDEC_ERR[i],XRA_ERR[i],label=label,\n",
    "                    marker=marker_epoch[t-1],color=color[i],lw=0, elinewidth=1, zorder=10)\n",
    "    axes2.axis([xlim_zoom[0], xlim_zoom[1], ylim_zoom[0], ylim_zoom[1]])\n",
    "    if target == 'GJ422' and n_epochs == 3 :\n",
    "        yti_old = [2150,2200,2250,2300]\n",
    "        yti_new = ['$2150$','$2200$','$2250$','$2300$']\n",
    "        plt.setp(axes2, yticks=yti_old, yticklabels=yti_new)\n",
    "    mise_en_page(axes2,x_step=x_step_zoom,y_step=y_step_zoom,x_maj_step=x_maj_step_zoom, x_min_step=x_min_step_zoom, y_maj_step=y_maj_step_zoom, y_min_step=y_min_step_zoom)\n",
    "\n",
    "if add_zoom_2 :\n",
    "    add_zoom_text = '_zoom'\n",
    "    axes2 = fig.add_axes([axes2_xdeb2,axes2_ydeb2, axes2_xlong2,axes2_ylong2]) # renvoie un objet Axes       \n",
    "    #axes2.axis('equal')         \n",
    "    axes2.patch.set_color([0.99,0.99,0.99])\n",
    "    fais_moi_un_subplot(axes2,RA_track,DEC_track,c=color_background,ls='-') #labx=xlab,laby=ylab\n",
    "    # add detections for each epoch\n",
    "    for t in range(1,n_epochs):\n",
    "        XRA, YDEC = RA[0]-RA[t], DEC[0]-DEC[t]\n",
    "        \n",
    "        # ERRORBARS: define global error budget in RA, DEC\n",
    "        # add the pupil offset error of theta = 0.1 deg; depends on sep (separation) and differs for ra/dec\n",
    "        RA_ERR_PUPIL  = np.sqrt( (np.sin(theta)*SEP_ERR)**2 + (SEP*np.cos(theta)*theta_err)**2 ) #+ (np.sin(theta)*SEP_ERR[1])**2 + [SEP[1]*np.cos(theta)*theta_err]**2 )   \n",
    "        DEC_ERR_PUPIL = np.sqrt( (np.cos(theta)*SEP_ERR)**2 + (SEP*np.sin(theta)*theta_err)**2 )  #+ (np.cos(theta)*SEP_ERR[1])**2 + [SEP[1]*np.sin(theta)*theta_err]**2 )   \n",
    "        # global budget\n",
    "        XRA_ERR  = np.sqrt(RA_ERR[0]**2+RA_ERR[t]**2+RA_ERR_PUPIL[0]**2+RA_ERR_PUPIL[t]**2)\n",
    "        YDEC_ERR =  np.sqrt(DEC_ERR[0]**2+DEC_ERR[t]**2+DEC_ERR_PUPIL[0]**2+DEC_ERR_PUPIL[t]**2)\n",
    "\n",
    "        for i in range(n_candidates):\n",
    "            axes2.errorbar(XRA[i],YDEC[i],YDEC_ERR[i],XRA_ERR[i],label=label,\n",
    "                    marker=marker_epoch[t-1],color=color[i],lw=0, elinewidth=1, zorder=10)\n",
    "\n",
    "    axes2.axis([xlim_zoom2[0], xlim_zoom2[1], ylim_zoom2[0], ylim_zoom2[1]])\n",
    "    if target == 'GJ422' and n_epochs == 3 :\n",
    "        yti_old = [2300,2350,2400]\n",
    "        yti_new = ['$2300$','$2350$','$2400$']\n",
    "        plt.setp(axes2, yticks=yti_old, yticklabels=yti_new)\n",
    "        \n",
    "    if target == 'GJ682' and n_epochs == 3  :\n",
    "        xti_old = [-1480,-1460,-1440]\n",
    "        xti_new = ['$-1480$','$-1460$','$-1440$']\n",
    "        plt.setp(axes2, xticks=xti_old, xticklabels=xti_new)\n",
    "        \n",
    "    if target == 'HD154088' and n_epochs == 3  :\n",
    "        yti_old = [-1040,-1080]\n",
    "        yti_new = ['$-1040$','$-1080$']\n",
    "        plt.setp(axes2, yticks=yti_old, yticklabels=yti_new)\n",
    "    \n",
    "    mise_en_page(axes2,x_step=x_step_zoom,y_step=y_step_zoom,x_maj_step=x_maj_step_zoom, x_min_step=x_min_step_zoom, y_maj_step=y_maj_step_zoom, y_min_step=y_min_step_zoom)\n",
    "\n",
    "\n",
    "plt.savefig('PMD_{}_3epochs{}.pdf'.format(target,add_zoom_text))\n",
    "plt.savefig('PMD_{}_3epochs{}.png'.format(target,add_zoom_text))"
   ]
  },
  {
   "cell_type": "code",
   "execution_count": null,
   "metadata": {},
   "outputs": [],
   "source": []
  },
  {
   "cell_type": "code",
   "execution_count": null,
   "metadata": {},
   "outputs": [],
   "source": []
  },
  {
   "cell_type": "markdown",
   "metadata": {},
   "source": [
    "- 2 epochs and at least 1 candidate"
   ]
  },
  {
   "cell_type": "code",
   "execution_count": 55,
   "metadata": {},
   "outputs": [
    {
     "data": {
      "image/png": "[encoded data removed]",
      "text/plain": [
       "<Figure size 400x400 with 2 Axes>"
      ]
     },
     "metadata": {},
     "output_type": "display_data"
    }
   ],
   "source": [
    "n_epochs = EPOCH.shape[0]\n",
    "n_candidates = EPOCH.shape[1]\n",
    "\n",
    "xlab = r'$\\Delta \\alpha_{ref} - \\Delta \\alpha$ (mas)'\n",
    "ylab = r'$\\Delta \\delta_{ref} - \\Delta \\delta$ (mas)'\n",
    "target   = target\n",
    "dates    = EPOCH\n",
    "dra      = RA[1:]\n",
    "dra_err  = [0]\n",
    "ddec     = DEC[1:]\n",
    "ddec_err = [0]\n",
    "\n",
    "dra_ref      = RA[0]  ; dra_err_ref  = [0]\n",
    "ddec_ref     = DEC[0] ; ddec_err_ref = [0]\n",
    "\n",
    "cond_select_obj = (target==dF_prop['target name'])\n",
    "plx = float(dF_prop[cond_select_obj]['parallax'])\n",
    "plx_err = float(dF_prop[cond_select_obj]['err parallax'])\n",
    "dist = float(dF_prop[cond_select_obj]['distance'])\n",
    "dist_err = plx_err/plx**2\n",
    "\n",
    "# define global error budget in RA, DEC\n",
    "# add the pupil offset error of theta = 0.1 deg; depends on sep (separation) and differs for ra/dec\n",
    "# error in ra: dra**2 =  [sin(theta)*dsep]**2 + [sep*cos(theta)*dtheta]**2 \n",
    "# error in dec: ddec**2 =  [cos(theta)*dsep]**2 + [sep*sin(theta)*dtheta]**2 \n",
    "theta     = 135.99 * np.pi/180 # 0.1 error pupil offset converted in rad\n",
    "theta_err = 0.11 * np.pi/180 \n",
    "\n",
    "# difference of positionf of two candidates so errors have to be taken into account for each candidates (~ x2)\n",
    "XRA, YDEC = RA[0]-RA[1], DEC[0]-DEC[1]\n",
    "RA_ERR_PUPIL  = np.sqrt( (np.sin(theta)*SEP_ERR)**2 + (SEP*np.cos(theta)*theta_err)**2 ) #+ (np.sin(theta)*SEP_ERR[1])**2 + [SEP[1]*np.cos(theta)*theta_err]**2 )   \n",
    "DEC_ERR_PUPIL = np.sqrt( (np.cos(theta)*SEP_ERR)**2 + (SEP*np.sin(theta)*theta_err)**2 )  #+ (np.cos(theta)*SEP_ERR[1])**2 + [SEP[1]*np.sin(theta)*theta_err]**2 )   \n",
    "# global budget\n",
    "XRA_ERR  = np.sqrt(RA_ERR[0]**2+RA_ERR[1]**2+RA_ERR_PUPIL[0]**2+RA_ERR_PUPIL[1]**2)\n",
    "YDEC_ERR =  np.sqrt(DEC_ERR[0]**2+DEC_ERR[1]**2+DEC_ERR_PUPIL[0]**2+DEC_ERR_PUPIL[1]**2)\n",
    "\n",
    "fig, ax = plt.subplots(1,1,figsize=(5,5))\n",
    "fig.subplots_adjust(left=0.18,bottom=0.11,top=0.97,right=0.94)\n",
    "loc = 'upper left' ; add_zoom_text = '' ; xdeb_leg = 1e4 ;  ydeb_leg = -1e4 ; yfin_leg = 1e4 ; ncol = 1\n",
    "\n",
    "\n",
    "# mise en page\n",
    "add_zoom = 0\n",
    "axes2_xdeb,axes2_ydeb, axes2_xlong,axes2_ylong = 0.67, 0.45, 0.22, 0.22\n",
    "xlim_zoom, ylim_zoom =  [-350,-440], [50,180] ;\n",
    "x_step_zoom=0; y_step_zoom=0 ; x_maj_step_zoom=20; x_min_step_zoom=5; y_maj_step_zoom=20; y_min_step_zoom=5\n",
    "marker = 'o'\n",
    "\n",
    "ax.plot([500,500],[500,500],color='white',marker=None,label='{} - {}'.format(EPOCH[0,0],EPOCH[1,0]))\n",
    "\n",
    "# add detections for each epoch\n",
    "for i in range(n_candidates):\n",
    "    if target != 'HD154088' :\n",
    "        label = 'candidate {}'.format(i+1)\n",
    "    else : \n",
    "        marker = 'd'\n",
    "        if color_detection[i] == 'black' : label = 'candidates'.format(i+1)\n",
    "        else : label =''\n",
    "    #ax.text(500,100,text,fontsize=12)\n",
    "    ax.errorbar(XRA[i],YDEC[i],YDEC_ERR[i],XRA_ERR[i],label=label,\n",
    "            marker=marker,color=color_detection[i],lw=0, elinewidth=1, zorder=10)\n",
    "\n",
    "# add background track\n",
    "ax.plot(RA_track,DEC_track,label='bkg star w/o pm',color=color_background)\n",
    "\n",
    "#ax.axis('equal')\n",
    "if target == 'GJ674':\n",
    "    xlim, ylim =  [2600,-200], [-3700,200] ; xdeb_leg = 1000\n",
    "    mise_en_page(ax,x_step=0,y_step=0,x_maj_step=50, x_min_step=10, y_maj_step=100, y_min_step=20)\n",
    "    add_zoom = 1\n",
    "    xlim_zoom, ylim_zoom =  [2500,2100], [-3500,-3430] ;\n",
    "    x_step_zoom=1; y_step_zoom=1\n",
    "    x_maj_step_zoom=150; x_min_step_zoom=50; y_maj_step_zoom=50; y_min_step_zoom=10\n",
    "    axes2_xdeb,axes2_ydeb, axes2_xlong,axes2_ylong = 0.66, 0.2, 0.22, 0.22\n",
    "    \n",
    "if target == 'HD154088':\n",
    "    xlim, ylim =  [400,-100], [-1200,150] ; xdeb_leg = 100\n",
    "    mise_en_page(ax,x_step=1,y_step=1,x_maj_step=50, x_min_step=10, y_maj_step=100, y_min_step=20)\n",
    "    add_zoom = 1\n",
    "    xlim_zoom, ylim_zoom =  [380,280], [-1110,-1030] ;\n",
    "    x_step_zoom=1; y_step_zoom=1 \n",
    "    x_maj_step_zoom=40; x_min_step_zoom=10; y_maj_step_zoom=40; y_min_step_zoom=10\n",
    "    axes2_xdeb,axes2_ydeb, axes2_xlong,axes2_ylong = 0.66, 0.2, 0.22, 0.22\n",
    "\n",
    "elif target == 'HD136352':\n",
    "    xlim, ylim =  [600,-4600], [-1000,100] ; ydeb_leg = -360 ; xdeb_leg = 5000 ; loc = 'lower left'\n",
    "    mise_en_page(ax,x_step=1,y_step=1,x_maj_step=1000, x_min_step=200, y_maj_step=200, y_min_step=50)\n",
    "    add_zoom = 1 ; x_step_zoom=1; y_step_zoom=1\n",
    "    xlim_zoom, ylim_zoom =  [-4195,-4240], [-790,-740] ;\n",
    "    x_maj_step_zoom=20; x_min_step_zoom=5; y_maj_step_zoom=20; y_min_step_zoom=5\n",
    "    axes2_xdeb,axes2_ydeb, axes2_xlong,axes2_ylong = 0.69, 0.7, 0.22, 0.22\n",
    "    \n",
    "elif target == 'GJ433':\n",
    "    xlim, ylim =  [200,-300], [-2000,200] ;loc = 'lower left' ; ydeb_leg = -1500\n",
    "    mise_en_page(ax,x_step=1,y_step=1,x_maj_step=100, x_min_step=20, y_maj_step=500, y_min_step=100)\n",
    "    add_zoom = 1\n",
    "    xlim_zoom, ylim_zoom =  [-100,-135], [-1680,-1640] ;\n",
    "    x_step_zoom=1; y_step_zoom=1\n",
    "    x_maj_step_zoom=10; x_min_step_zoom=5; y_maj_step_zoom=20; y_min_step_zoom=5\n",
    "    axes2_xdeb,axes2_ydeb, axes2_xlong,axes2_ylong = 0.29, 0.6, 0.22, 0.22\n",
    "    \n",
    "    \n",
    "elif target == 'GJ422' and n_epochs==2:\n",
    "    xlim, ylim =  [100,-1200], [-50,440] ; xdeb_leg = 1000 ; yfin_leg =220#; loc = 'lower left'\n",
    "    mise_en_page(ax,x_step=1,y_step=1,x_maj_step=200, x_min_step=100, y_maj_step=100, y_min_step=20)\n",
    "    add_zoom = 1\n",
    "    xlim_zoom, ylim_zoom =  [-350,-440], [50,180] ;\n",
    "    x_step_zoom=1; y_step_zoom=1 \n",
    "    x_maj_step_zoom=40; x_min_step_zoom=10; y_maj_step_zoom=40; y_min_step_zoom=10\n",
    "    axes2_xdeb,axes2_ydeb, axes2_xlong,axes2_ylong = 0.67, 0.25, 0.22, 0.22\n",
    "    \n",
    "elif target == 'GJ682' and n_epochs==2:\n",
    "    xlim, ylim =  [20,-200], [-120,10] ; ydeb_leg = -65 ; loc = 'lower left' ; ncol= 2\n",
    "    xlim_zoom, ylim_zoom =  [-120,-160], [-70,-35] ;\n",
    "    mise_en_page(ax,x_step=1,y_step=1,x_maj_step=100, x_min_step=20, y_maj_step=20, y_min_step=5)\n",
    "    x_step_zoom=1; y_step_zoom=1 \n",
    "    x_maj_step_zoom=20; x_min_step_zoom=5; y_maj_step_zoom=20; y_min_step_zoom=5\n",
    "    axes2_xdeb,axes2_ydeb, axes2_xlong,axes2_ylong = 0.65, 0.7, 0.22, 0.22\n",
    "    add_zoom = 1\n",
    "\n",
    "elif target == 'GJ832':\n",
    "    xlim, ylim =  [50,-200], [-200,50]  ; ydeb_leg = -200 ; loc = 'upper right' ; ncol= 1\n",
    "    xlim_zoom, ylim_zoom =  [-120,-160], [-70,-35] ;\n",
    "    mise_en_page(ax,x_step=1,y_step=1,x_maj_step=50, x_min_step=10, y_maj_step=50, y_min_step=10)\n",
    "    x_step_zoom=1; y_step_zoom=1 \n",
    "    x_maj_step_zoom=20; x_min_step_zoom=5; y_maj_step_zoom=20; y_min_step_zoom=5\n",
    "    axes2_xdeb,axes2_ydeb, axes2_xlong,axes2_ylong = 0.65, 0.7, 0.22, 0.22\n",
    "    add_zoom = 0\n",
    "     \n",
    "\n",
    "# add [0,0] reference lines\n",
    "ax.legend(loc=loc,frameon=False,numpoints=1,ncol=ncol)\n",
    "ax.plot([0,0],[ydeb_leg,yfin_leg],ls=':',color='black')\n",
    "fais_moi_un_subplot(ax,[xdeb_leg,-1e4],[0,0],ls=':',c='black',labx=xlab,laby=ylab)\n",
    "plt.axis([xlim[0], xlim[1], ylim[0], ylim[1]])\n",
    "#plt.gca().set_aspect('equal', adjustable='box')\n",
    "#mise_en_page(ax,x_step=1,y_step=1,x_maj_step=100, x_min_step=20, y_maj_step=100, y_min_step=20)\n",
    "\n",
    "# add second small plot\n",
    "if add_zoom :\n",
    "    add_zoom_text = '_zoom'\n",
    "    axes2 = fig.add_axes([axes2_xdeb,axes2_ydeb, axes2_xlong,axes2_ylong]) # renvoie un objet Axes       \n",
    "    #axes2.axis('equal')         \n",
    "    axes2.patch.set_color([0.99,0.99,0.99])\n",
    "    fais_moi_un_subplot(axes2,RA_track,DEC_track,c=color_background,ls='-') #labx=xlab,laby=ylab\n",
    "    # add detections for each epoch\n",
    "    for i in range(n_candidates):\n",
    "        axes2.errorbar(XRA[i],YDEC[i],YDEC_ERR[i],XRA_ERR[i],label=label,\n",
    "            marker='o',color=color_detection[i],lw=0, elinewidth=1, zorder=10)\n",
    " \n",
    "    axes2.axis([xlim_zoom[0], xlim_zoom[1], ylim_zoom[0], ylim_zoom[1]])\n",
    "    mise_en_page(axes2,x_step=x_step_zoom,y_step=y_step_zoom,x_maj_step=x_maj_step_zoom, x_min_step=x_min_step_zoom, y_maj_step=y_maj_step_zoom, y_min_step=y_min_step_zoom)\n",
    "    \n",
    "    if target == 'HD136352' and n_epochs == 2 :\n",
    "        xti_old = [-4190,-4230,-4210]\n",
    "        xti_new = ['$-4190$','$-4230$','$-4210$']\n",
    "        plt.setp(axes2, xticks=xti_old, xticklabels=xti_new)\n",
    "        \n",
    "    if target == 'GJ433':\n",
    "        yti_old = [-1680,-1660,-1640]\n",
    "        yti_new = ['$-1680$','$-1660$','$-1640$']\n",
    "        plt.setp(axes2, yticks=yti_old, yticklabels=yti_new)\n",
    "        \n",
    "    if target == 'HD154088' and n_epochs == 2  :\n",
    "        yti_old = [-1040,-1080]\n",
    "        yti_new = ['$-1040$','$-1080$']\n",
    "        plt.setp(axes2, yticks=yti_old, yticklabels=yti_new)\n",
    "\n",
    "plt.savefig('PMD_{}_2epochs{}.pdf'.format(target,add_zoom_text))\n",
    "plt.savefig('PMD_{}_2epochs{}.png'.format(target,add_zoom_text))"
   ]
  },
  {
   "cell_type": "code",
   "execution_count": null,
   "metadata": {},
   "outputs": [],
   "source": [
    "## general ##\n"
   ]
  },
  {
   "cell_type": "code",
   "execution_count": 47,
   "metadata": {},
   "outputs": [
    {
     "data": {
      "text/plain": [
       "array([2321.39, 2328.51, 2322.86, 2313.59, 2321.05])"
      ]
     },
     "execution_count": 47,
     "metadata": {},
     "output_type": "execute_result"
    }
   ],
   "source": [
    "XRA"
   ]
  },
  {
   "cell_type": "code",
   "execution_count": 44,
   "metadata": {},
   "outputs": [
    {
     "data": {
      "text/plain": [
       "array([-3475.89, -3481.54, -3455.25, -3479.11, -3460.65])"
      ]
     },
     "execution_count": 44,
     "metadata": {},
     "output_type": "execute_result"
    }
   ],
   "source": [
    "YDEC"
   ]
  },
  {
   "cell_type": "code",
   "execution_count": null,
   "metadata": {},
   "outputs": [],
   "source": []
  },
  {
   "cell_type": "code",
   "execution_count": null,
   "metadata": {},
   "outputs": [],
   "source": []
  },
  {
   "cell_type": "code",
   "execution_count": null,
   "metadata": {},
   "outputs": [],
   "source": [
    "for i in range(n_candidates):\n",
    "    print('%.2f'%XRA[i], '%.2f'%YDEC[i], 'error', '%.2f'%XRA_ERR[i], '%.2f'%YDEC_ERR[i])"
   ]
  },
  {
   "cell_type": "code",
   "execution_count": 80,
   "metadata": {},
   "outputs": [],
   "source": [
    "color_detection = 'red'"
   ]
  },
  {
   "cell_type": "code",
   "execution_count": 81,
   "metadata": {},
   "outputs": [
    {
     "name": "stdout",
     "output_type": "stream",
     "text": [
      "-93.30000000000001\n"
     ]
    }
   ],
   "source": [
    "i=0\n",
    "print(DEC[0,i]-DEC[1,i])"
   ]
  },
  {
   "cell_type": "markdown",
   "metadata": {},
   "source": [
    "- More than 2 epochs but only 1 candidate"
   ]
  },
  {
   "cell_type": "code",
   "execution_count": 22,
   "metadata": {},
   "outputs": [
    {
     "name": "stdout",
     "output_type": "stream",
     "text": [
      "[[4329.3  4524.83]\n",
      " [5047.28 5045.17]]\n",
      "-0.0013808004886426445\n",
      "[[6.00700022 6.26844015]\n",
      " [6.99141622 6.99956887]]\n",
      "[[8.5559864  8.96827095]\n",
      " [9.28374668 9.4702168 ]]\n"
     ]
    },
    {
     "data": {
      "image/png": "[encoded data removed]",
      "text/plain": [
       "<Figure size 400x400 with 3 Axes>"
      ]
     },
     "metadata": {},
     "output_type": "display_data"
    }
   ],
   "source": [
    "add_zoom = 1 \n",
    "\n",
    "xlab = r'$\\Delta \\alpha_{ref} - \\Delta \\alpha$ (mas)'\n",
    "ylab = r'$\\Delta \\delta_{ref} - \\Delta \\delta$ (mas)'\n",
    "target   = target\n",
    "dates    = EPOCH\n",
    "\n",
    "dra_ref      = RA[0]  ; dra_err_ref  = RA_ERR[0]\n",
    "ddec_ref     = DEC[0] ; ddec_err_ref = DEC_ERR[0]\n",
    "\n",
    "XRA,YDEC = dra_ref-RA, ddec_ref-DEC\n",
    "\n",
    "# ERRORBARS: define global error budget in RA, DEC\n",
    "print(SEP)\n",
    "# add the pupil offset error of theta = 0.1 deg; depends on sep (separation) and differs for ra/dec\n",
    "RA_ERR_PUPIL  = np.sqrt( (np.sin(theta)*SEP_ERR)**2 + (SEP*np.cos(theta)*theta_err)**2 ) #+ (np.sin(theta)*SEP_ERR[1])**2 + [SEP[1]*np.cos(theta)*theta_err]**2 )   \n",
    "DEC_ERR_PUPIL = np.sqrt( (np.cos(theta)*SEP_ERR)**2 + (SEP*np.sin(theta)*theta_err)**2 )  #+ (np.cos(theta)*SEP_ERR[1])**2 + [SEP[1]*np.sin(theta)*theta_err]**2 )   \n",
    "# global budget\n",
    "XRA_ERR  = np.sqrt(RA_ERR[0]**2+RA_ERR**2+RA_ERR_PUPIL[0]**2+RA_ERR_PUPIL**2)\n",
    "YDEC_ERR =  np.sqrt(DEC_ERR[0]**2+DEC_ERR**2+DEC_ERR_PUPIL[0]**2+DEC_ERR_PUPIL**2)\n",
    "\n",
    "print(np.cos(theta)*theta_err)\n",
    "print(RA_ERR_PUPIL)\n",
    "print(XRA_ERR)\n",
    "\n",
    "\n",
    "cond_select_obj = (target==dF_prop['target name'])\n",
    "plx = float(dF_prop[cond_select_obj]['parallax'])\n",
    "plx_err = float(dF_prop[cond_select_obj]['err parallax'])\n",
    "dist = float(dF_prop[cond_select_obj]['distance'])\n",
    "dist_err = plx_err/plx**2\n",
    "\n",
    "fig, ax = plt.subplots(1,1,figsize=(5,5))\n",
    "fig.subplots_adjust(left=0.18,bottom=0.11,top=0.97,right=0.95)\n",
    "plot_expected_positions_bkg=0 ;  xfin_leg = -50;\n",
    "\n",
    "ax.plot([500,500],[500,500],color='white',marker=None,label='ref={}'.format(EPOCH[0,0]))\n",
    "# add detections for each epoch\n",
    "n = len(RA) ; RSM = 1\n",
    "if target == 'GJ832' and not RSM:\n",
    "    n = 2\n",
    "for i in range(1,n):\n",
    "    label = 'ref - {1}'.format(EPOCH[0,0],EPOCH[i,0])\n",
    "    ax.errorbar(XRA[i],YDEC[i],YDEC_ERR[i],XRA_ERR[i],label=label,\n",
    "            marker='o',color=color_detection[i+1],lw=1, zorder=10,elinewidth=1)\n",
    "    \n",
    "if target == 'HD85512':\n",
    "    mise_en_page(ax,x_step=1,y_step=1,x_maj_step=500, x_min_step=100, y_maj_step=500, y_min_step=100)\n",
    "    marker_epoch = ['o','d']\n",
    "    xlim, ylim =  [1500,-500], [-1500,200] ; xdeb_leg = 550; loc ='upper left'#; ydeb_leg = -1500 ; loc = 'lower left'\n",
    "    add_zoom = 1\n",
    "    xlim_zoom, ylim_zoom =  [1410,1360], [-1370,-1250] ;\n",
    "    x_step_zoom=1; y_step_zoom=1\n",
    "    x_maj_step_zoom=50; x_min_step_zoom=10; y_maj_step_zoom=50; y_min_step_zoom=10\n",
    "    axes2_xdeb,axes2_ydeb, axes2_xlong,axes2_ylong = 0.68, 0.46, 0.22, 0.22\n",
    "    add_zoom_2 = 1\n",
    "    axes2_xdeb2,axes2_ydeb2, axes2_xlong2,axes2_ylong2 = 0.68, 0.18, 0.22, 0.22\n",
    "    xlim_zoom2, ylim_zoom2 =  [500,450], [-400,-350] ;\n",
    "    \n",
    "elif target == 'GJ832':\n",
    "    xlim, ylim =  [200,-100], [-200,50]  ; xdeb_leg = 30 ; xfin_leg = -200 ; yfin_leg = -80 ; ydeb_leg = -200 ; loc = 'upper left' ; ncol= 1\n",
    "    xlim_zoom, ylim_zoom =  [-120,-160], [-70,-35] ;\n",
    "    mise_en_page(ax,x_step=1,y_step=1,x_maj_step=50, x_min_step=10, y_maj_step=50, y_min_step=10)\n",
    "    x_step_zoom=1; y_step_zoom=1 \n",
    "    x_maj_step_zoom=20; x_min_step_zoom=5; y_maj_step_zoom=20; y_min_step_zoom=5\n",
    "    axes2_xdeb,axes2_ydeb, axes2_xlong,axes2_ylong = 0.65, 0.7, 0.22, 0.22\n",
    "    add_zoom = 0 ; add_zoom_2 = 0 ; plot_expected_positions_bkg = 1\n",
    "    \n",
    "elif target == 'GJ832' and 1: # RSM\n",
    "    xlim, ylim =  [400,-100], [-200,50]  ; xdeb_leg = 30 ; xfin_leg = -200 ; yfin_leg = -80 ; ydeb_leg = -200 ; loc = 'upper left' ; ncol= 1\n",
    "    xlim_zoom, ylim_zoom =  [-120,-160], [-70,-35] ;\n",
    "    mise_en_page(ax,x_step=1,y_step=1,x_maj_step=50, x_min_step=10, y_maj_step=50, y_min_step=10)\n",
    "    x_step_zoom=1; y_step_zoom=1 \n",
    "    x_maj_step_zoom=20; x_min_step_zoom=5; y_maj_step_zoom=20; y_min_step_zoom=5\n",
    "    axes2_xdeb,axes2_ydeb, axes2_xlong,axes2_ylong = 0.65, 0.7, 0.22, 0.22\n",
    "    add_zoom = 0 ; add_zoom_2 = 0 ; plot_expected_positions_bkg = 1\n",
    "     \n",
    "\n",
    "if plot_expected_positions_bkg: \n",
    "    XRA_expected_bkg,YDEC_expected_bkg = dra_ref-RA_expected_bkg, ddec_ref-DEC_expected_bkg\n",
    "    for i in range(len(RA_expected_bkg)):\n",
    "        label = 'ref - {1} (if bkg)'.format(EPOCH[0,0],EPOCH[1+i,0])\n",
    "        ax.plot(XRA_expected_bkg[i],YDEC_expected_bkg[i],label=label,\n",
    "                marker='o',color=color_detection[2+i],lw=1, zorder=10)\n",
    "        \n",
    "# add background track\n",
    "ax.plot(RA_track,DEC_track,label='bkg star w/o pm',color=color_background)\n",
    "# add [0,0] reference lines\n",
    "ax.plot([0,0],[-1e4,1e3],ls=':',color='black')\n",
    "fais_moi_un_subplot(ax,[xdeb_leg,xfin_leg],[0,0],ls=':',c='black',labx=xlab,laby=ylab)\n",
    "ax.legend(loc=loc,frameon=False,numpoints=1)\n",
    "#ax.axis('equal')\n",
    "plt.axis([xlim[0], xlim[1], ylim[0], ylim[1]])\n",
    "#plt.gca().set_aspect('equal', adjustable='box')\n",
    "#mise_en_page(ax,x_step=1,y_step=1,x_maj_step=500, x_min_step=100,y_maj_step=500, y_min_step=100)\n",
    "\n",
    "legend_without_duplicate_labels(ax,loc=loc,frameon=False,numpoints=1)\n",
    "    \n",
    "# add second small plot\n",
    "if add_zoom :\n",
    "    add_zoom_text = '_zoom'\n",
    "    axes2 = fig.add_axes([axes2_xdeb,axes2_ydeb, axes2_xlong,axes2_ylong]) # renvoie un objet Axes       \n",
    "    #axes2.axis('equal')         \n",
    "    axes2.patch.set_color([0.99,0.99,0.99])\n",
    "    fais_moi_un_subplot(axes2,RA_track,DEC_track,c=color_background,ls='-') #labx=xlab,laby=ylab\n",
    "    # add detections for each epoch\n",
    "    for i in range(1,len(RA)):\n",
    "        axes2.errorbar(XRA[i],YDEC[i],YDEC_ERR[i],XRA_ERR[i],label=label,\n",
    "                marker='o',color=color_detection[i],lw=0, elinewidth=1, zorder=10)\n",
    "\n",
    "    axes2.axis([xlim_zoom[0], xlim_zoom[1], ylim_zoom[0], ylim_zoom[1]])\n",
    "    mise_en_page(axes2,x_step=x_step_zoom,y_step=y_step_zoom,x_maj_step=x_maj_step_zoom, x_min_step=x_min_step_zoom, y_maj_step=y_maj_step_zoom, y_min_step=y_min_step_zoom)\n",
    "    if target == 'HD85512' :\n",
    "        xti_old = [1400,1350]\n",
    "        xti_new = ['$1400$','$1350$']\n",
    "        plt.setp(axes2, xticks=xti_old, xticklabels=xti_new)\n",
    "    \n",
    "    \n",
    "if add_zoom_2 :\n",
    "    add_zoom_text = '_zoom'\n",
    "    axes2 = fig.add_axes([axes2_xdeb2,axes2_ydeb2, axes2_xlong2,axes2_ylong2]) # renvoie un objet Axes       \n",
    "    #axes2.axis('equal')         \n",
    "    axes2.patch.set_color([0.99,0.99,0.99])\n",
    "    fais_moi_un_subplot(axes2,RA_track,DEC_track,c=color_background,ls='-') #labx=xlab,laby=ylab\n",
    "    # add detections for each epoch\n",
    "    for i in range(1,len(RA)):\n",
    "        axes2.errorbar(XRA[i],YDEC[i],YDEC_ERR[i],XRA_ERR[i],label=label,\n",
    "                marker='o',color=color_detection[i],lw=0, elinewidth=1, zorder=10)\n",
    "\n",
    "    axes2.axis([xlim_zoom2[0], xlim_zoom2[1], ylim_zoom2[0], ylim_zoom2[1]])\n",
    "    mise_en_page(axes2,x_step=x_step_zoom,y_step=y_step_zoom,x_maj_step=x_maj_step_zoom, x_min_step=x_min_step_zoom, y_maj_step=y_maj_step_zoom, y_min_step=y_min_step_zoom)\n",
    "\n",
    "    \n",
    "plt.savefig('PMD_{}_{}epochs{}.pdf'.format(target,len(EPOCH),add_zoom_text))\n",
    "plt.savefig('PMD_{}_{}epochs{}.png'.format(target,len(EPOCH),add_zoom_text))"
   ]
  },
  {
   "cell_type": "code",
   "execution_count": 19,
   "metadata": {},
   "outputs": [
    {
     "data": {
      "text/plain": [
       "'HD85512'"
      ]
     },
     "execution_count": 19,
     "metadata": {},
     "output_type": "execute_result"
    }
   ],
   "source": [
    "target"
   ]
  },
  {
   "cell_type": "code",
   "execution_count": 20,
   "metadata": {},
   "outputs": [
    {
     "data": {
      "text/plain": [
       "array([[6.00700022, 6.26844015],\n",
       "       [6.99141622, 6.99956887]])"
      ]
     },
     "execution_count": 20,
     "metadata": {},
     "output_type": "execute_result"
    }
   ],
   "source": [
    "RA_ERR_PUPIL"
   ]
  },
  {
   "cell_type": "code",
   "execution_count": null,
   "metadata": {},
   "outputs": [],
   "source": []
  },
  {
   "cell_type": "code",
   "execution_count": 68,
   "metadata": {},
   "outputs": [
    {
     "data": {
      "text/plain": [
       "[-444.67275541359226, -431.38399044378843, -416.66708247498497]"
      ]
     },
     "execution_count": 68,
     "metadata": {},
     "output_type": "execute_result"
    }
   ],
   "source": [
    "RA_expected_bkg"
   ]
  },
  {
   "cell_type": "code",
   "execution_count": 38,
   "metadata": {},
   "outputs": [
    {
     "name": "stdout",
     "output_type": "stream",
     "text": [
      "-444.67275541359226 302.1698353611517\n"
     ]
    }
   ],
   "source": [
    "print(dra_ref, ddec_ref)"
   ]
  },
  {
   "cell_type": "code",
   "execution_count": 55,
   "metadata": {},
   "outputs": [
    {
     "name": "stdout",
     "output_type": "stream",
     "text": [
      "[-517.72724459 -531.01600956 -545.73291753]\n",
      "[93.23016464 67.51056332 42.20296998]\n"
     ]
    }
   ],
   "source": [
    "print(XRA_expected_bkg+dra_ref)\n",
    "print(YDEC_expected_bkg+ddec_ref)"
   ]
  },
  {
   "cell_type": "code",
   "execution_count": 56,
   "metadata": {},
   "outputs": [
    {
     "name": "stdout",
     "output_type": "stream",
     "text": [
      "[-444.67275541359226, -431.38399044378843, -416.66708247498497]\n",
      "[302.1698353611517, 327.8894366819021, 353.19703001833506]\n"
     ]
    }
   ],
   "source": [
    "print(RA_expected_bkg)\n",
    "print(DEC_expected_bkg)"
   ]
  },
  {
   "cell_type": "code",
   "execution_count": null,
   "metadata": {},
   "outputs": [],
   "source": []
  },
  {
   "cell_type": "code",
   "execution_count": null,
   "metadata": {},
   "outputs": [],
   "source": []
  },
  {
   "cell_type": "code",
   "execution_count": 31,
   "metadata": {},
   "outputs": [
    {
     "data": {
      "text/plain": [
       "(array([  0.        , -13.28876497, -28.00567294]),\n",
       " array([  0.        , -25.71960132, -51.02719466]))"
      ]
     },
     "execution_count": 31,
     "metadata": {},
     "output_type": "execute_result"
    }
   ],
   "source": [
    "XRA_expected_bkg,YDEC_expected_bkg "
   ]
  },
  {
   "cell_type": "code",
   "execution_count": 34,
   "metadata": {},
   "outputs": [
    {
     "data": {
      "text/plain": [
       "(array([[  0. ],\n",
       "        [-52.2],\n",
       "        [-52.2],\n",
       "        [-52.2]]),\n",
       " array([[  0. ],\n",
       "        [-93.3],\n",
       "        [-93.3],\n",
       "        [-93.3]]))"
      ]
     },
     "execution_count": 34,
     "metadata": {},
     "output_type": "execute_result"
    }
   ],
   "source": [
    "XRA,YDEC"
   ]
  },
  {
   "cell_type": "code",
   "execution_count": 32,
   "metadata": {},
   "outputs": [
    {
     "data": {
      "text/plain": [
       "[-444.67275541359226, -431.38399044378843, -416.66708247498497]"
      ]
     },
     "execution_count": 32,
     "metadata": {},
     "output_type": "execute_result"
    }
   ],
   "source": [
    "RA_expected_bkg"
   ]
  },
  {
   "cell_type": "code",
   "execution_count": null,
   "metadata": {},
   "outputs": [],
   "source": [
    "for i in range (1,3):\n",
    "    print(dra_ref-RA[i],ddec_ref-DEC[i])"
   ]
  },
  {
   "cell_type": "code",
   "execution_count": null,
   "metadata": {},
   "outputs": [],
   "source": []
  },
  {
   "cell_type": "code",
   "execution_count": null,
   "metadata": {},
   "outputs": [],
   "source": []
  },
  {
   "cell_type": "markdown",
   "metadata": {},
   "source": [
    "- PMD basic : shows 1 candidate between 2 epochs"
   ]
  },
  {
   "cell_type": "code",
   "execution_count": 84,
   "metadata": {},
   "outputs": [
    {
     "data": {
      "image/png": "[encoded data removed]",
      "text/plain": [
       "<Figure size 400x400 with 1 Axes>"
      ]
     },
     "metadata": {},
     "output_type": "display_data"
    }
   ],
   "source": [
    "xlab = r'$\\Delta \\alpha_{ref} - \\Delta \\alpha$'\n",
    "ylab = r'$\\Delta \\delta_{ref} - \\Delta \\delta$'\n",
    "target   = target\n",
    "dates    = EPOCH[:2]\n",
    "dra      = RA[1]\n",
    "dra_err  = [0]\n",
    "ddec     = DEC[1]\n",
    "ddec_err = [0]\n",
    "\n",
    "dra_ref      = RA[0]\n",
    "dra_err_ref  = [0]\n",
    "ddec_ref     = DEC[0]\n",
    "ddec_err_ref = [0]\n",
    "\n",
    "cond_select_obj = (target==dF_prop['target name'])\n",
    "plx = float(dF_prop[cond_select_obj]['parallax'])\n",
    "plx_err = float(dF_prop[cond_select_obj]['err parallax'])\n",
    "dist = float(dF_prop[cond_select_obj]['distance'])\n",
    "dist_err = plx_err/plx**2\n",
    "\n",
    "fig, ax = plt.subplots(1,1,figsize=(5,5))\n",
    "fig.subplots_adjust(left=0.17,bottom=0.15,top=0.95,right=0.95)\n",
    "\n",
    "text = '{} - {}'.format(EPOCH[0],EPOCH[1])\n",
    "color_background = 'blue'\n",
    "ax.text(500,100,text,fontsize=12)\n",
    "xlim, ylim =  [1000,-4200], [-3000,1000]\n",
    "ax.axis('equal')\n",
    "ax.plot(RA_track,DEC_track,label='background stars',color=color_background)\n",
    "ax.plot(dra_ref-dra,ddec_ref-ddec,marker='o',color=color_background)\n",
    "ax.plot([0,0],[-1e4,1e3],ls=':',color='black')\n",
    "fais_moi_un_subplot(ax,[-1e4,1e3],[0,0],ls=':',c='black',labx=xlab,laby=ylab)\n",
    "\n",
    "ax.legend(loc='lower center',frameon=False)\n",
    "xlim, ylim =  [600,-200], [-600,200]\n",
    "plt.axis([xlim[0], xlim[1], ylim[0], ylim[1]])\n",
    "plt.gca().set_aspect('equal', adjustable='box')\n",
    "mise_en_page(ax)\n",
    "plt.savefig('{}_difference_epochs_{}_{}_allH23.pdf'.format(target,EPOCH[0],EPOCH[1]))"
   ]
  },
  {
   "cell_type": "code",
   "execution_count": null,
   "metadata": {},
   "outputs": [],
   "source": []
  },
  {
   "cell_type": "code",
   "execution_count": null,
   "metadata": {},
   "outputs": [],
   "source": []
  },
  {
   "cell_type": "raw",
   "metadata": {},
   "source": [
    "# errors\n",
    "\n",
    "HD154088\n",
    "RA_ERR\n",
    "array([[0.77, 1.99, 0.65, 2.42, 0.9 ],\n",
    "       [2.85, 6.04, 3.7 , 4.36, 1.99]])\n",
    "DEC_ERR\n",
    "array([[0.55, 2.75, 0.66, 3.77, 2.43],\n",
    "       [1.21, 7.32, 2.05, 5.69, 3.22]])\n",
    "\n",
    "HD 136352\n",
    "RA_ERR\n",
    "array([[0.88, 1.04, 0.61, 0.73, 1.07, 3.94, 0.86],\n",
    "       [0.59, 3.5 , 1.85, 2.61, 3.7 , 3.08, 2.64]])\n",
    "DEC_ERR\n",
    "array([[ 0.92,  1.04,  0.7 ,  0.65,  1.13,  5.18,  1.81],\n",
    "       [ 0.98,  8.54,  2.74,  3.07,  7.29,  6.46, 16.37]])\n",
    "\n",
    "GJ422\n",
    "RA_ERR\n",
    "array([[0.47, 0.95],\n",
    "       [5.24, 1.36],\n",
    "       [2.37, 3.69]])\n",
    "DEC_ERR\n",
    "array([[ 0.45,  1.76],\n",
    "       [44.61,  7.62],\n",
    "       [11.5 , 31.05]])\n",
    "\n",
    "GJ 682\n",
    "RA_ERR\n",
    "array([[0.65, 0.87, 0.99, 0.36, 0.97, 0.54],\n",
    "       [3.3 , 0.19, 1.  , 2.7 , 0.73, 3.01],\n",
    "       [3.16, 3.4 , 1.66, 2.13, 4.35, 1.62]])\n",
    "DEC_ERR\n",
    "array([[1.7 , 0.84, 1.05, 0.94, 1.09, 0.98],\n",
    "       [3.72, 0.95, 1.21, 3.15, 1.03, 3.01],\n",
    "       [6.19, 3.28, 2.16, 2.01, 4.45, 2.45]])"
   ]
  },
  {
   "cell_type": "code",
   "execution_count": null,
   "metadata": {},
   "outputs": [],
   "source": []
  },
  {
   "cell_type": "markdown",
   "metadata": {},
   "source": [
    "=====================================================================================================================\n",
    "\n",
    "## Extra: Prepare tables\n",
    "\n",
    "#### Print list of the targets"
   ]
  },
  {
   "cell_type": "code",
   "execution_count": null,
   "metadata": {},
   "outputs": [],
   "source": [
    "for i in range(len(dF_prop)):\n",
    "    parallax_star = PARALLAX[i]*1e-3 ; parallax_err_star = PARALLAX_ERR[i]*1e-3\n",
    "    mag_H, mag_K =MAG_STAR_H[i], MAG_STAR_K[i]\n",
    "    target = NAME_OBJ[i]\n",
    "    d_star = 1/parallax_star\n",
    "    d_err_star = parallax_err_star/parallax_star**2\n",
    "    print(target, '&' #'& %.2f'% (parallax_star*1e3), '\\pm %.2f'% (parallax_err_star*1e3),'& %.2f'% d_star,\n",
    "          #'& %.2f'% mag_H, '& %.2f'% mag_K\n",
    "         )\n",
    "          #, '& %.2f'% d_err_star)"
   ]
  },
  {
   "cell_type": "code",
   "execution_count": null,
   "metadata": {},
   "outputs": [],
   "source": []
  },
  {
   "cell_type": "markdown",
   "metadata": {},
   "source": [
    "#### Print list of the detections"
   ]
  },
  {
   "cell_type": "code",
   "execution_count": null,
   "metadata": {},
   "outputs": [],
   "source": [
    "NIGHT_OBS = np.array(dF_obs['night_obs'])\n",
    "NAME_OBJ_obs  = np.array(dF_obs['target name'])\n",
    "FILTER_IRDIS_OBS = np.array(dF_obs['IRDIS filter'])\n",
    "FILTER_IFS_OBS = np.array(dF_obs['IFS disperser'])\n",
    "for i in range(len(dF_prop)):\n",
    "    target = NAME_OBJ[i]\n",
    "    i_selected = (NAME_OBJ_obs == target)\n",
    "    dF_obs_1target = dF_obs[i_selected]\n",
    "    for k in range(len(NIGHT_OBS[i_selected])):\n",
    "        night_obs = NIGHT_OBS[i_selected][k]\n",
    "        filt_ird = FILTER_IRDIS_OBS[i_selected][k][2:]\n",
    "        filt_ifs = FILTER_IFS_OBS[i_selected][k][4:]\n",
    "        if k % 2 == 0 : # IRDIS\n",
    "            print(target,'&',night_obs,'&',filt_ird,'&')\n",
    "        else : # IFS\n",
    "            print(target,'&',night_obs,'&',filt_ifs,'&')\n",
    "    #print(target, '&' #'& %.2f'% (parallax_star*1e3), '\\pm %.2f'% (parallax_err_star*1e3),'& %.2f'% d_star,\n",
    "          #'& %.2f'% mag_H, '& %.2f'% mag_K\n",
    "    #     )\n",
    "          #, '& %.2f'% d_err_star)"
   ]
  },
  {
   "cell_type": "code",
   "execution_count": null,
   "metadata": {},
   "outputs": [],
   "source": []
  },
  {
   "cell_type": "code",
   "execution_count": null,
   "metadata": {},
   "outputs": [],
   "source": []
  },
  {
   "cell_type": "code",
   "execution_count": null,
   "metadata": {},
   "outputs": [],
   "source": []
  },
  {
   "cell_type": "code",
   "execution_count": null,
   "metadata": {},
   "outputs": [],
   "source": []
  },
  {
   "cell_type": "markdown",
   "metadata": {},
   "source": [
    "## Extra: tests"
   ]
  },
  {
   "cell_type": "code",
   "execution_count": 89,
   "metadata": {},
   "outputs": [
    {
     "data": {
      "text/plain": [
       "\"\\npixarc = pixarc_ird\\nEPOCH_all = np.array(['2017-12-30','2019-11-25'])\\nX_all, Y_all = np.array([837,911]), np.array([332,409])\\nRA_all, DEC_all = -(X_all - 511.5)*pixarc, (Y_all - 511.5)*pixarc # add minus before RA_all\\nRA_ERR_all, DEC_ERR_all = np.array([7,7]), np.array([7,7])\\nSEP_all = np.sqrt(RA_all**2 + DEC_all**2)\\nSEP_ERR_all = np.sqrt(RA_ERR_all**2 + DEC_ERR_all**2)\\nprint('RA:', RA_all , '\\nDEC:', DEC_all) \\n\""
      ]
     },
     "execution_count": 89,
     "metadata": {},
     "output_type": "execute_result"
    }
   ],
   "source": [
    "# # TEST CONVENTION ANDROMEDA CHARAC ON HD85512 # #\n",
    "# compare with SpeCal charac results\n",
    "# print('RA:\\n', RA_all[0][0] , '\\n', RA_all[1][-1], '\\nDEC:\\n', DEC_all[0][0],'\\n', DEC_all[1][-1])\n",
    "\"\"\"\n",
    "pixarc = pixarc_ird\n",
    "EPOCH_all = np.array(['2017-12-30','2019-11-25'])\n",
    "X_all, Y_all = np.array([837,911]), np.array([332,409])\n",
    "RA_all, DEC_all = -(X_all - 511.5)*pixarc, (Y_all - 511.5)*pixarc # add minus before RA_all\n",
    "RA_ERR_all, DEC_ERR_all = np.array([7,7]), np.array([7,7])\n",
    "SEP_all = np.sqrt(RA_all**2 + DEC_all**2)\n",
    "SEP_ERR_all = np.sqrt(RA_ERR_all**2 + DEC_ERR_all**2)\n",
    "print('RA:', RA_all , '\\nDEC:', DEC_all) \n",
    "\"\"\""
   ]
  },
  {
   "cell_type": "code",
   "execution_count": null,
   "metadata": {},
   "outputs": [],
   "source": [
    "# find dra/ddec \n",
    "## ex: H23 1st epoch K12 2nd epoch\n",
    "k = 1\n",
    "diffX = X_all[1][0]-X_all[0][0]\n",
    "print('diffX',diffX,X_all[1][k] - diffX)\n",
    "diffY = Y_all[1][0]-Y_all[0][0]\n",
    "print('diffY',diffY,Y_all[1][k]- diffY)\n",
    "#"
   ]
  }
 ],
 "metadata": {
  "kernelspec": {
   "display_name": "Python 3 (ipykernel)",
   "language": "python",
   "name": "python3"
  },
  "language_info": {
   "codemirror_mode": {
    "name": "ipython",
    "version": 3
   },
   "file_extension": ".py",
   "mimetype": "text/x-python",
   "name": "python",
   "nbconvert_exporter": "python",
   "pygments_lexer": "ipython3",
   "version": "3.9.7"
  }
 },
 "nbformat": 4,
 "nbformat_minor": 2
}
