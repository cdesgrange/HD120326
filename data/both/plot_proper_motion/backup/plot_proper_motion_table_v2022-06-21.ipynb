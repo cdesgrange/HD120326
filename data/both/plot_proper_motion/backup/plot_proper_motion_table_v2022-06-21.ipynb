{
 "cells": [
  {
   "cell_type": "markdown",
   "metadata": {},
   "source": [
    "# Plot Proper Motion Diagram\n",
    "\n",
    "Examples of proper motion diagram to make the distinction between an object from the background or comoving with the star for the targets from the sample Super-Earth survey:\n",
    "\n",
    "Based on Arthur Vigans's script \"proper_motion.py\". \n",
    "\n",
    "Modifications: \n",
    "\n",
    "June 1st, 2021 - Célia Desgrange\n",
    "\n",
    "-> understood ANDROMEDA charac convention\n",
    "\n",
    "January 13rd, 2022 - Célia Desgrange\n",
    "\n",
    "-> let's start the automatization...\n",
    "1st) find the same detections among several epochs\n",
    "\n",
    "March 30th, 2022 - Célia Desgrange\n",
    "\n",
    "-> well, messing it up. (well, no, but, should adapt it to fully automatize it... yiha. and especially adapt to table results, containing a mixture of ANDROMEDA and SpeCal (but it is uniformized))"
   ]
  },
  {
   "cell_type": "markdown",
   "metadata": {},
   "source": [
    "## Import packages"
   ]
  },
  {
   "cell_type": "code",
   "execution_count": 3,
   "metadata": {},
   "outputs": [],
   "source": [
    "from import_packages_generic import *\n",
    "from import_packages_PMD import *\n",
    "from import_functions_generic import *\n",
    "from import_functions_PMD import *\n",
    "from import_initialization_generic_variables import *\n",
    "from import_initialization_dataframes import *\n",
    "from import_initialization_CaPMD_variables import *"
   ]
  },
  {
   "cell_type": "code",
   "execution_count": 4,
   "metadata": {},
   "outputs": [
    {
     "name": "stdout",
     "output_type": "stream",
     "text": [
      "Help on function find_proper_motion_between_2epochs in module import_functions_PMD:\n",
      "\n",
      "find_proper_motion_between_2epochs(target, epochs, unit='mas', pixarc=12.25)\n",
      "    Return the proper motion expected for background contaminants between two epochs\n",
      "        Inputs:\n",
      "            'target' (type=string):\n",
      "                    example 'HD154088'\n",
      "            'epochs' (type=list/array of strings):\n",
      "                    example np.array(['2017-06-21', '2019-07-22', '2021-07-04'])\n",
      "            (optional below)\n",
      "            'unit' (type=string): precise in which units to return the proper motion\n",
      "                    Default is in 'mas'. Other option implemented: 'pixel'.\n",
      "            'pixarc' (type=float): in case the 'unit' is to 'pixel', precise what is\n",
      "                    the factor of conversion. Default is 12.25 mas, corresponding to\n",
      "                    the platescale from the SPHERE-IRDIS instrument.\n",
      "\n"
     ]
    }
   ],
   "source": [
    "help(find_proper_motion_between_2epochs)"
   ]
  },
  {
   "cell_type": "code",
   "execution_count": null,
   "metadata": {},
   "outputs": [],
   "source": []
  },
  {
   "cell_type": "code",
   "execution_count": null,
   "metadata": {},
   "outputs": [],
   "source": []
  },
  {
   "cell_type": "code",
   "execution_count": null,
   "metadata": {},
   "outputs": [],
   "source": []
  },
  {
   "cell_type": "code",
   "execution_count": 120,
   "metadata": {},
   "outputs": [],
   "source": [
    "L = time.localtime()\n",
    "date = \"{}-{}-{}\".format(L[0],L[1],L[2],L[3],L[4],L[5])\n",
    "\n",
    "saving_dir = 'figs/fig_PMD_v{}/'.format(date)\n",
    "os.makedirs(saving_dir,exist_ok=True)"
   ]
  },
  {
   "cell_type": "markdown",
   "metadata": {},
   "source": [
    "# Initialization"
   ]
  },
  {
   "cell_type": "code",
   "execution_count": 6,
   "metadata": {},
   "outputs": [],
   "source": [
    "# Error\n",
    "# define global error budget in RA, DEC\n",
    "# add the pupil offset error of theta = 0.1 deg; depends on sep (separation) and differs for ra/dec\n",
    "# error in ra: dra**2 =  [sin(theta)*dsep]**2 + [sep*cos(theta)*dtheta]**2 \n",
    "# error in dec: ddec**2 =  [cos(theta)*dsep]**2 + [sep*sin(theta)*dtheta]**2 \n",
    "theta     = 135.99 * np.pi/180 # 0.1 error pupil offset converted in rad\n",
    "theta_err = 0.11 * np.pi/180 "
   ]
  },
  {
   "cell_type": "markdown",
   "metadata": {},
   "source": [
    "### Initialize for all the detections in the Super-Earth survey the magnitude in H2,H3 and K1,K2-bands\n",
    "\n",
    "Note: all detections are from specal charac files or andromeda charac files, which have been summarized in global tables "
   ]
  },
  {
   "cell_type": "code",
   "execution_count": 7,
   "metadata": {},
   "outputs": [],
   "source": [
    "# Initialize SpeCal variables\n",
    "prefix = '/Users/user/Documents/desgrange/work/code/GitHub/projects/RAISES/derive_and_plot_candidates/tables/'\n",
    "algo = 'specal+andro'\n",
    "dF = pd.read_csv(prefix+'all_detections_{}_final_CMD_status.csv'.format(algo),sep=',')"
   ]
  },
  {
   "cell_type": "markdown",
   "metadata": {},
   "source": [
    "# Plot Proper Motion Diagramm"
   ]
  },
  {
   "cell_type": "code",
   "execution_count": 8,
   "metadata": {},
   "outputs": [
    {
     "data": {
      "text/plain": [
       "0     HIP 48331\n",
       "1     HIP 48331\n",
       "40    HIP 48331\n",
       "41    HIP 48331\n",
       "74    HIP 48331\n",
       "75    HIP 48331\n",
       "78    HIP 48331\n",
       "79    HIP 48331\n",
       "Name: target name DC, dtype: object"
      ]
     },
     "execution_count": 8,
     "metadata": {},
     "output_type": "execute_result"
    }
   ],
   "source": [
    "target = 'HD85512'\n",
    "target_DC_all = dF_obs[target==dF_obs['target name']]['target name DC']\n",
    "target_DC_all"
   ]
  },
  {
   "cell_type": "markdown",
   "metadata": {},
   "source": [
    "# Peering into one targeted system\n",
    "\n",
    "### A la mano"
   ]
  },
  {
   "cell_type": "code",
   "execution_count": 9,
   "metadata": {},
   "outputs": [
    {
     "name": "stdout",
     "output_type": "stream",
     "text": [
      "Target: HD85512 (DC name: HIP 48331) \n",
      "Number detections: 3\n",
      "Epochs: 2021-06-21\n",
      "RA: [183.75, 104.125, 79.625] \n",
      "DEC: [0.0, 79.625, 104.125]\n",
      "SEP: [183.75, 131.08072417407527, 131.08072417407527, 131.08072417407527] \n",
      "PA: [68, 68, 68, 68]\n"
     ]
    }
   ],
   "source": [
    "# A la mano GJ 832\n",
    "\n",
    "target_DC = target_DC_all.iloc[0]\n",
    "\n",
    "# initialize lists\n",
    "##EPOCH_all, RA_all, DEC_all =[ '2017-05-27','2017-06-21','2017-06-27','2017-07-03'], [481.2,429,429,429], [197.7,291,291,291]\n",
    "RA_ERR_all, DEC_ERR_all, X_all, Y_all = [10,10,10,10], [10,10,10,10], [30, 37,37,37], [121, 133.5,133.5]\n",
    "EPOCH_all =  ['2021-06-21', '2021-06-27', '2021-07-03']\n",
    "RA_all, DEC_all = [183.75,  104.125,  79.625], [  0.,     79.625, 104.125]\n",
    "X_all, Y_all = [496.5, 503.,  505. ], [511.5, 518.,  520. ]\n",
    "\n",
    "SEP_all, SEP_ERR_all, PA_all, PA_ERR_all = [distance(RA_all[0],DEC_all[0],0,0,1),distance(RA_all[1],DEC_all[1],0,0,1),distance(RA_all[1],DEC_all[1],0,0,1),distance(RA_all[1],DEC_all[1],0,0,1)], [15,15,15,15], [68,68,68,68], [30,30,30,30],\n",
    "\n",
    "print('Target: {} (DC name: {}) \\nNumber detections: {}'.format(target,target_DC, len(EPOCH_all)))\n",
    "print('Epochs:', EPOCH_all[0])\n",
    "\n",
    "print('RA:', RA_all , '\\nDEC:', DEC_all) \n",
    "print('SEP:', SEP_all , '\\nPA:', PA_all) \n",
    "#print('X', X_all , '\\nY', Y_all)"
   ]
  },
  {
   "cell_type": "code",
   "execution_count": 10,
   "metadata": {},
   "outputs": [],
   "source": [
    "if target == 'GJ832' :\n",
    "    pixarc = pixarc_ifs\n",
    "    EPOCH_all = np.array(['2017-06-21','2017-07-03'])\n",
    "    X_all, Y_all = np.array([27,80.5]), np.array([110,101.5])\n",
    "    RA_all, DEC_all = -(X_all - 94.5)*pixarc, (Y_all - 94.5)*pixarc\n",
    "    RA_ERR_all, DEC_ERR_all = np.array([7,7]), np.array([7,7])\n",
    "    SEP_all = np.sqrt(RA_all**2 + DEC_all**2)\n",
    "    SEP_ERR_all = np.sqrt(RA_ERR_all**2 + DEC_ERR_all**2)\n",
    "    print('RA:', RA_all , '\\nDEC:', DEC_all) "
   ]
  },
  {
   "cell_type": "code",
   "execution_count": null,
   "metadata": {},
   "outputs": [],
   "source": []
  },
  {
   "cell_type": "markdown",
   "metadata": {},
   "source": [
    "## Quasi-Automatized \n",
    "\n",
    "### Detections details\n",
    "Are there any detections in H2 and K1 ? If yes, in which epoch, at which magnitudes and at which pixels???"
   ]
  },
  {
   "cell_type": "code",
   "execution_count": 9,
   "metadata": {},
   "outputs": [
    {
     "data": {
      "text/html": [
       "<div>\n",
       "<style scoped>\n",
       "    .dataframe tbody tr th:only-of-type {\n",
       "        vertical-align: middle;\n",
       "    }\n",
       "\n",
       "    .dataframe tbody tr th {\n",
       "        vertical-align: top;\n",
       "    }\n",
       "\n",
       "    .dataframe thead th {\n",
       "        text-align: right;\n",
       "    }\n",
       "</style>\n",
       "<table border=\"1\" class=\"dataframe\">\n",
       "  <thead>\n",
       "    <tr style=\"text-align: right;\">\n",
       "      <th></th>\n",
       "      <th>index</th>\n",
       "      <th>details</th>\n",
       "      <th>target</th>\n",
       "      <th>epoch</th>\n",
       "      <th>filter</th>\n",
       "      <th>coord_x_pix</th>\n",
       "      <th>coord_y_pix</th>\n",
       "      <th>ra_mas</th>\n",
       "      <th>ra_err_mas</th>\n",
       "      <th>ra_err_fit_mas</th>\n",
       "      <th>...</th>\n",
       "      <th>mag_abs_err_channel1</th>\n",
       "      <th>mag_abs_channel2</th>\n",
       "      <th>mag_abs_err_channel2</th>\n",
       "      <th>color</th>\n",
       "      <th>color_err</th>\n",
       "      <th>mag_lim_channel1</th>\n",
       "      <th>mag_lim_channel2</th>\n",
       "      <th>color_uplim</th>\n",
       "      <th>robust_detection_channel2</th>\n",
       "      <th>status_CMD</th>\n",
       "    </tr>\n",
       "  </thead>\n",
       "  <tbody>\n",
       "    <tr>\n",
       "      <th>0</th>\n",
       "      <td>0.0</td>\n",
       "      <td>BD061339 2018-11-24 H23</td>\n",
       "      <td>BD061339</td>\n",
       "      <td>2018-11-24</td>\n",
       "      <td>H23</td>\n",
       "      <td>968.8</td>\n",
       "      <td>752.7</td>\n",
       "      <td>-2998.8</td>\n",
       "      <td>4.7</td>\n",
       "      <td>1.2</td>\n",
       "      <td>...</td>\n",
       "      <td>0.065</td>\n",
       "      <td>18.860</td>\n",
       "      <td>0.066</td>\n",
       "      <td>-0.002</td>\n",
       "      <td>0.093</td>\n",
       "      <td>15.925</td>\n",
       "      <td>15.889</td>\n",
       "      <td>-2.010</td>\n",
       "      <td>1</td>\n",
       "      <td>background</td>\n",
       "    </tr>\n",
       "    <tr>\n",
       "      <th>1</th>\n",
       "      <td>1.0</td>\n",
       "      <td>BD061339 2018-11-24 H23</td>\n",
       "      <td>BD061339</td>\n",
       "      <td>2018-11-24</td>\n",
       "      <td>H23</td>\n",
       "      <td>392.0</td>\n",
       "      <td>876.0</td>\n",
       "      <td>4067.1</td>\n",
       "      <td>7.5</td>\n",
       "      <td>3.0</td>\n",
       "      <td>...</td>\n",
       "      <td>0.100</td>\n",
       "      <td>19.885</td>\n",
       "      <td>0.096</td>\n",
       "      <td>-0.038</td>\n",
       "      <td>0.139</td>\n",
       "      <td>15.928</td>\n",
       "      <td>15.951</td>\n",
       "      <td>-1.083</td>\n",
       "      <td>1</td>\n",
       "      <td>background</td>\n",
       "    </tr>\n",
       "    <tr>\n",
       "      <th>2</th>\n",
       "      <td>0.0</td>\n",
       "      <td>GJ176 2018-10-08 H23</td>\n",
       "      <td>GJ176</td>\n",
       "      <td>2018-10-08</td>\n",
       "      <td>H23</td>\n",
       "      <td>409.4</td>\n",
       "      <td>572.0</td>\n",
       "      <td>3853.6</td>\n",
       "      <td>6.7</td>\n",
       "      <td>0.8</td>\n",
       "      <td>...</td>\n",
       "      <td>0.070</td>\n",
       "      <td>18.974</td>\n",
       "      <td>0.071</td>\n",
       "      <td>-0.032</td>\n",
       "      <td>0.100</td>\n",
       "      <td>16.166</td>\n",
       "      <td>16.176</td>\n",
       "      <td>-3.173</td>\n",
       "      <td>1</td>\n",
       "      <td>background</td>\n",
       "    </tr>\n",
       "    <tr>\n",
       "      <th>3</th>\n",
       "      <td>1.0</td>\n",
       "      <td>GJ229 2018-11-27 H23</td>\n",
       "      <td>GJ229</td>\n",
       "      <td>2018-11-27</td>\n",
       "      <td>H23</td>\n",
       "      <td>705.4</td>\n",
       "      <td>299.2</td>\n",
       "      <td>228.1</td>\n",
       "      <td>15.8</td>\n",
       "      <td>10.9</td>\n",
       "      <td>...</td>\n",
       "      <td>0.056</td>\n",
       "      <td>16.612</td>\n",
       "      <td>0.056</td>\n",
       "      <td>-1.761</td>\n",
       "      <td>0.079</td>\n",
       "      <td>17.886</td>\n",
       "      <td>17.922</td>\n",
       "      <td>-8.658</td>\n",
       "      <td>1</td>\n",
       "      <td>promising</td>\n",
       "    </tr>\n",
       "    <tr>\n",
       "      <th>4</th>\n",
       "      <td>0.0</td>\n",
       "      <td>GJ229 2018-11-27 H23</td>\n",
       "      <td>GJ229</td>\n",
       "      <td>2018-11-27</td>\n",
       "      <td>H23</td>\n",
       "      <td>444.4</td>\n",
       "      <td>712.3</td>\n",
       "      <td>3425.0</td>\n",
       "      <td>5.0</td>\n",
       "      <td>1.0</td>\n",
       "      <td>...</td>\n",
       "      <td>0.061</td>\n",
       "      <td>21.392</td>\n",
       "      <td>0.061</td>\n",
       "      <td>0.018</td>\n",
       "      <td>0.086</td>\n",
       "      <td>17.693</td>\n",
       "      <td>17.642</td>\n",
       "      <td>-1.819</td>\n",
       "      <td>1</td>\n",
       "      <td>background</td>\n",
       "    </tr>\n",
       "  </tbody>\n",
       "</table>\n",
       "<p>5 rows × 71 columns</p>\n",
       "</div>"
      ],
      "text/plain": [
       "   index                  details    target       epoch filter  coord_x_pix  \\\n",
       "0    0.0  BD061339 2018-11-24 H23  BD061339  2018-11-24    H23        968.8   \n",
       "1    1.0  BD061339 2018-11-24 H23  BD061339  2018-11-24    H23        392.0   \n",
       "2    0.0     GJ176 2018-10-08 H23     GJ176  2018-10-08    H23        409.4   \n",
       "3    1.0     GJ229 2018-11-27 H23     GJ229  2018-11-27    H23        705.4   \n",
       "4    0.0     GJ229 2018-11-27 H23     GJ229  2018-11-27    H23        444.4   \n",
       "\n",
       "   coord_y_pix  ra_mas  ra_err_mas  ra_err_fit_mas  ...  mag_abs_err_channel1  \\\n",
       "0        752.7 -2998.8         4.7             1.2  ...                 0.065   \n",
       "1        876.0  4067.1         7.5             3.0  ...                 0.100   \n",
       "2        572.0  3853.6         6.7             0.8  ...                 0.070   \n",
       "3        299.2   228.1        15.8            10.9  ...                 0.056   \n",
       "4        712.3  3425.0         5.0             1.0  ...                 0.061   \n",
       "\n",
       "   mag_abs_channel2  mag_abs_err_channel2  color  color_err  mag_lim_channel1  \\\n",
       "0            18.860                 0.066 -0.002      0.093            15.925   \n",
       "1            19.885                 0.096 -0.038      0.139            15.928   \n",
       "2            18.974                 0.071 -0.032      0.100            16.166   \n",
       "3            16.612                 0.056 -1.761      0.079            17.886   \n",
       "4            21.392                 0.061  0.018      0.086            17.693   \n",
       "\n",
       "   mag_lim_channel2  color_uplim  robust_detection_channel2  status_CMD  \n",
       "0            15.889       -2.010                          1  background  \n",
       "1            15.951       -1.083                          1  background  \n",
       "2            16.176       -3.173                          1  background  \n",
       "3            17.922       -8.658                          1   promising  \n",
       "4            17.642       -1.819                          1  background  \n",
       "\n",
       "[5 rows x 71 columns]"
      ]
     },
     "execution_count": 9,
     "metadata": {},
     "output_type": "execute_result"
    }
   ],
   "source": [
    "dF.head()"
   ]
  },
  {
   "cell_type": "code",
   "execution_count": 18,
   "metadata": {},
   "outputs": [
    {
     "data": {
      "text/plain": [
       "Index(['index', 'details', 'target', 'epoch', 'filter', 'coord_x_pix',\n",
       "       'coord_y_pix', 'ra_mas', 'ra_err_mas', 'ra_err_fit_mas', 'dec_mas',\n",
       "       'dec_err_mas', 'ra_pix', 'dec_pix', 'dec_err_fit_mas', 'sep_mas',\n",
       "       'sep_err_mas', 'sep_err_fit_mas', 'pa_deg', 'pa_err_deg',\n",
       "       'pa_err_fit_deg', 'tn_deg', 'tn_err_deg', 'tn_err_ra_mas',\n",
       "       'tn_err_dec_mas', 'pupil_offset_deg', 'pupil_offset_err_deg',\n",
       "       'pupil_offset_err_ra_mas', 'pupil_offset_err_dec_mas',\n",
       "       'waffle_err_radec_mas', 'platescale_maspix', 'platescale_err_maspix',\n",
       "       'platescale_err_ra_mas', 'platescale_err_dec_mas', 'pipeline', 'algo',\n",
       "       'detection_number', 'version', 'contrast_channel1', 'contrast_channel2',\n",
       "       'contrast_err_channel1', 'contrast_err_channel2',\n",
       "       'contrast_err_fit_channel1', 'contrast_err_fit_channel2',\n",
       "       'contrast_err_seq_channel1', 'contrast_err_seq_channel2',\n",
       "       'contrast_err_psf_channel1', 'contrast_err_psf_channel2',\n",
       "       'mag_channel1', 'mag_channel2', 'mag_err_channel1', 'mag_err_channel2',\n",
       "       'mag_err_fit_channel1', 'mag_err_fit_channel2', 'mag_err_seq_channel1',\n",
       "       'mag_err_seq_channel2', 'mag_err_psf_channel1', 'mag_err_psf_channel2',\n",
       "       'snr_channel1', 'snr_channel2', 'mag_abs_channel1',\n",
       "       'mag_abs_err_channel1', 'mag_abs_channel2', 'mag_abs_err_channel2',\n",
       "       'color', 'color_err', 'mag_lim_channel1', 'mag_lim_channel2',\n",
       "       'color_uplim', 'robust_detection_channel2', 'status_CMD'],\n",
       "      dtype='object')"
      ]
     },
     "execution_count": 18,
     "metadata": {},
     "output_type": "execute_result"
    }
   ],
   "source": [
    "dF.columns"
   ]
  },
  {
   "cell_type": "code",
   "execution_count": 19,
   "metadata": {},
   "outputs": [],
   "source": []
  },
  {
   "cell_type": "code",
   "execution_count": 8,
   "metadata": {},
   "outputs": [],
   "source": [
    "## Find common target between different epochs"
   ]
  },
  {
   "cell_type": "code",
   "execution_count": 14,
   "metadata": {},
   "outputs": [
    {
     "name": "stdout",
     "output_type": "stream",
     "text": [
      "['2017-06-23' '2017-07-20' '2019-07-05']\n",
      "Proper motion per year: -57.6 pixel 76.5 pixel\n",
      "Proper motion between the two epochs: -4.3 pixel 5.7 pixel\n"
     ]
    }
   ],
   "source": [
    "# Initialize inputs\n",
    "target = 'GJ682'\n",
    "cond_target = dF['target']==target\n",
    "EPOCH_all = np.array(dF['epoch'][cond_target])\n",
    "EPOCH_UNIQUE = np.unique(EPOCH_all)\n",
    "print(EPOCH_UNIQUE)\n",
    "epochs = EPOCH_UNIQUE\n",
    "unit = 'pixel'\n",
    "\n",
    "# Run functions\n",
    "pm_ra_yr, pm_dec_yr = find_proper_motion_per_year(target,unit=unit)\n",
    "pm_ra, pm_dec = find_proper_motion_between_2epochs(target,list(epochs),unit=unit)\n",
    "print(\"Proper motion per year: {:.1f} {} {:.1f} {}\".format(pm_ra_yr, unit, pm_dec_yr, unit))\n",
    "print(\"Proper motion between the two epochs: {:.1f} {} {:.1f} {}\".format(pm_ra, unit, pm_dec, unit))"
   ]
  },
  {
   "cell_type": "code",
   "execution_count": 15,
   "metadata": {},
   "outputs": [],
   "source": [
    "X_all, Y_all, X_err_all, Y_err_all, check  = [],[], [],[], []\n",
    "for ep in epochs:\n",
    "    cond_epoch = dF['epoch'] == ep\n",
    "    cond = np.logical_and(cond_epoch,cond_target)\n",
    "    X_all.append(np.array(dF['ra_pix'][cond]))\n",
    "    X_err_all.append(np.array(dF['ra_err_mas'][cond]/np.array(dF['platescale_err_ra_mas'][cond])))\n",
    "    Y_all.append(np.array(dF['dec_pix'][cond]))\n",
    "    Y_err_all.append(np.array(dF['dec_err_mas'][cond]/np.array(dF['platescale_err_dec_mas'][cond])))\n",
    "    check.append(np.array(dF['target'][cond]))"
   ]
  },
  {
   "cell_type": "code",
   "execution_count": 16,
   "metadata": {},
   "outputs": [
    {
     "data": {
      "text/plain": [
       "[array([  69.857,   29.942,  -41.13 ,  143.45 ,  -20.66 ,  277.6  ,\n",
       "         140.4  , -206.1  , -102.68 ,  285.86 ,   32.47 , -121.54 ,\n",
       "          35.41 , -501.56 ,  451.03 ,   73.35 , -128.21 , -155.41 ,\n",
       "           7.53 , -223.8  , -400.46 , -355.85 ,  405.29 ]),\n",
       " array([-212.51 ,  462.03 , -501.83 , -424.68 ,  151.51 , -110.32 ,\n",
       "          80.65 , -116.65 ,   43.92 ,  416.12 ,   84.75 ,  296.85 ,\n",
       "        -344.25 ,  -91.5  , -254.3  , -194.68 ,  291.5  ,   -9.42 ,\n",
       "         214.22 ,   18.96 , -144.09 , -311.66 , -381.87 ,  173.817,\n",
       "         174.985,  -22.129,  288.31 ]),\n",
       " array([  77.72 ,  -86.26 ,  189.38 ,  259.86 ,  149.33 , -381.41 ,\n",
       "         262.63 , -235.67 ,  405.01 ,   17.114])]"
      ]
     },
     "execution_count": 16,
     "metadata": {},
     "output_type": "execute_result"
    }
   ],
   "source": [
    "X_all"
   ]
  },
  {
   "cell_type": "code",
   "execution_count": 107,
   "metadata": {},
   "outputs": [],
   "source": [
    "def proper_motion_diagnostic(dF, target, tolerance=10, unit='pixel', display=1):\n",
    "    '''\n",
    "    Find candidates observed in two different epochs.\n",
    "        Inputs:\n",
    "            .'X' (type=2D-list/array): list of lists of the right ascensions for the detections in the differents epoch\n",
    "            .'Y' (type=2D-list/array): list of lists of the declinations for the detections in the different epoch\n",
    "            .'EPOCHS' (type=1D-list/array): list of the epochs\n",
    "            (optional, below:)\n",
    "            .'tolerance' (type=int/float): difference tolerated. In practice it is the some of the differences between ra1/ra2_closer and dec1/dec2_closer\n",
    "            .'unit' (type='string'): indicate which unit is considered, but for now, no importance.\n",
    "            .'display' (type='boolean'): indicate if display the matching values between 1st/2nd epoch and the\n",
    "                            difference between 1st/2nd epoch values(just to check)\n",
    "\n",
    "        Outputs:\n",
    "            Return the common (and uncommon) candidates for each comparison:\n",
    "                .'epochs_compared' (type=1D-list): list of epochs compared\n",
    "                .''\n",
    "                .their indexes in 1st epoch\n",
    "                .their indexes in 2nd epoch\n",
    "                .their RA and DEC in 2nd epoch (could be removed I guess)\n",
    "    '''\n",
    "    #dF, target\n",
    "    \n",
    "    cond_target = dF['target']==target\n",
    "    unique_epochs = np.unique(np.array(dF[cond_target]['epoch']))\n",
    "    \n",
    "    tolerance_background_ref = 200 \n",
    "    tolerance_promising = 100 \n",
    "    \n",
    "    ep_comp, bkg_cand_RA, bkg_cand_DEC, bound_cand_RA, bound_cand_DEC = [],[],[],[],[]\n",
    "    bkg_cand_RA_err, bkg_cand_DEC_err, bound_cand_RA_err, bound_cand_DEC_err = [],[],[],[]\n",
    "    \n",
    "    print('\\nThere are {} epochs available.'.format(len(unique_epochs)))\n",
    "    \n",
    "    for j in range(1,len(unique_epochs)):\n",
    "        for k in range(j):\n",
    "            epoch1, epoch2, unit = unique_epochs[k], unique_epochs[j], 'mas'\n",
    "            print('------------------------------------------------------------------------------------------------')\n",
    "            print('Epoch used as reference = {}; second epoch = {}.'.format(epoch1, epoch2))\n",
    "            cond_target_epoch1 = np.logical_and(cond_target, dF['epoch']==epoch1)\n",
    "            cond_target_epoch2 = np.logical_and(cond_target, dF['epoch']==epoch2)\n",
    "\n",
    "            pm_ra_yr, pm_dec_yr = find_proper_motion_per_year(target,unit=unit)\n",
    "            pm_ra, pm_dec = find_proper_motion_between_2epochs(target,[epoch1, epoch2],unit=unit)\n",
    "\n",
    "            if display :\n",
    "                print(\"Proper motion per year: {:.1f} {} {:.1f} {}\".format(pm_ra_yr, unit, pm_dec_yr, unit))\n",
    "                print(\"Proper motion between the two epochs: {:.1f} {} {:.1f} {}\".format(pm_ra, unit, pm_dec, unit))\n",
    "                print(\"Shift expected if background: {:.1f}\".format(np.sqrt(pm_ra**2+pm_dec**2)))\n",
    "\n",
    "            tolerance_background = np.max([tolerance_background_ref, np.sqrt(pm_ra**2+pm_dec**2) / 10])\n",
    "            if display: print(\"We fix the tolerance at {:.0f} mas.\".format(tolerance_background))\n",
    "            ra1, dec1 = np.array(dF[cond_target_epoch1]['ra_mas']), np.array(dF[cond_target_epoch1]['dec_mas'])\n",
    "            ra1_err, dec1_err = np.array(dF[cond_target_epoch1]['ra_err_mas']), np.array(dF[cond_target_epoch1]['dec_err_mas'])\n",
    "            ra2, dec2 = np.array(dF[cond_target_epoch2]['ra_mas']), np.array(dF[cond_target_epoch2]['dec_mas'])\n",
    "            ra2_err, dec2_err = np.array(dF[cond_target_epoch2]['ra_err_mas']), np.array(dF[cond_target_epoch2]['dec_err_mas'])\n",
    "            \n",
    "                  \n",
    "            # background\n",
    "            idx1, idx2, dum, dum = closer_positions(ra1, dec1, ra2, dec2, dra=-pm_ra, ddec=pm_dec,\n",
    "                                                    tolerance=tolerance_background, display=display)\n",
    "            \n",
    "            #idx1_all, idx2_all = np.arange(0,len(ra1),1), np.arange(0,len(ra2),1)\n",
    "            if display:\n",
    "                print(\"\\nra1 =\\n{}\\n dec1 = \\n{}\\n\\nra2 =\\n{}\\n dec2 = \\n{}\".format(ra1, dec1, ra2, dec2))\n",
    "                print(\"\\nra2-pm =\\n{}\\n dec2-pm = \\n{}\".format(ra2+pm_ra, dec2-pm_dec))\n",
    "                 \n",
    "            # Stock them\n",
    "            ep_comp.append([epoch1,epoch2])\n",
    "\n",
    "            try: \n",
    "                bkg_cand_RA.append(np.array([ra1[idx1],ra2[idx2]])); bkg_cand_DEC.append(np.array([dec1[idx1],dec2[idx2]]))\n",
    "                bkg_cand_RA_err.append(np.array([ra1_err[idx1],ra2_err[idx2]])); bkg_cand_DEC_err.append(np.array([dec1_err[idx1],dec2_err[idx2]]))\n",
    "            \n",
    "            except:\n",
    "                bkg_cand_RA.append(np.array([[None],[None]])); bkg_cand_DEC.append(np.array([[None],[None]]))\n",
    "                bkg_cand_RA_err.append(np.array([[None],[None]])); bkg_cand_DEC_err.append(np.array([[None],[None]]))    \n",
    "            \n",
    "            print('\\nNumber of objects observed at least twice consistent with background contaminants found: {} / {}'.format(len(idx1),np.min([len(ra1),len(ra2)])))\n",
    "            \n",
    "            # detection(s) observed at least twice and following a background i.e. epicycle motion\n",
    "\n",
    "            # promising\n",
    "            idx1, idx2, dum, dum = closer_positions(ra1, dec1, ra2, dec2, dra=0, ddec=0, \n",
    "                                                    tolerance=tolerance_promising,display=0)\n",
    "            # Stock them\n",
    "\n",
    "            try: \n",
    "                bound_cand_RA.append(np.array([ra1[idx1],ra2[idx2]])); bound_cand_DEC.append(np.array([dec1[idx1],dec2[idx2]]))\n",
    "                bound_cand_RA_err.append(np.array([ra1_err[idx1],ra2_err[idx2]])); bound_cand_DEC_err.append(np.array([dec1_err[idx1],dec2_err[idx2]]))    \n",
    "            except:\n",
    "                bound_cand_RA.append(np.array([[None],[None]])); bound_cand_DEC.append(np.array([[None],[None]]))\n",
    "                bound_cand_RA_err.append(np.array([[None],[None]])); bound_cand_DEC_err.append(np.array([[None],[None]]))    \n",
    "            \n",
    "    return ep_comp, bkg_cand_RA, bkg_cand_DEC, bkg_cand_RA_err, bkg_cand_DEC_err, bound_cand_RA, bound_cand_DEC, bound_cand_RA_err, bound_cand_DEC_err\n"
   ]
  },
  {
   "cell_type": "code",
   "execution_count": 108,
   "metadata": {},
   "outputs": [
    {
     "name": "stdout",
     "output_type": "stream",
     "text": [
      "\n",
      "There are 4 epochs available.\n",
      "------------------------------------------------------------------------------------------------\n",
      "Epoch used as reference = 2017-04-01; second epoch = 2017-12-30.\n",
      "\n",
      "Number of objects observed at least twice consistent with background contaminants found: 3 / 3\n",
      "------------------------------------------------------------------------------------------------\n",
      "Epoch used as reference = 2017-04-01; second epoch = 2019-11-25.\n",
      "\n",
      "Number of objects observed at least twice consistent with background contaminants found: 1 / 2\n",
      "------------------------------------------------------------------------------------------------\n",
      "Epoch used as reference = 2017-12-30; second epoch = 2019-11-25.\n",
      "\n",
      "Number of objects observed at least twice consistent with background contaminants found: 1 / 2\n",
      "------------------------------------------------------------------------------------------------\n",
      "Epoch used as reference = 2017-04-01; second epoch = 2020-01-03.\n",
      "\n",
      "Number of objects observed at least twice consistent with background contaminants found: 1 / 1\n",
      "------------------------------------------------------------------------------------------------\n",
      "Epoch used as reference = 2017-12-30; second epoch = 2020-01-03.\n",
      "\n",
      "Number of objects observed at least twice consistent with background contaminants found: 1 / 1\n",
      "------------------------------------------------------------------------------------------------\n",
      "Epoch used as reference = 2019-11-25; second epoch = 2020-01-03.\n",
      "\n",
      "Number of objects observed at least twice consistent with background contaminants found: 1 / 1\n"
     ]
    }
   ],
   "source": [
    "DATES, RA_BKG,DEC_BKG,RA_ERR_BKG,DEC_ERR_BKG, RA_BOU,DEC_BOU,RA_ERR_BOU,DEC_ERR_BOU = proper_motion_diagnostic(dF,target='HD85512', display=0)"
   ]
  },
  {
   "cell_type": "markdown",
   "metadata": {},
   "source": [
    "## Properties: Observations / Candidates / Star"
   ]
  },
  {
   "cell_type": "code",
   "execution_count": 109,
   "metadata": {},
   "outputs": [],
   "source": [
    "## Properties\n",
    "# Epoch properties\n",
    "idx_ep_comp = 0\n",
    "dates     = DATES[idx_ep_comp]\n",
    "n_epochs = len(dates) \n",
    "\n",
    "# Candidates properties\n",
    "dra, ddec = RA_BKG[idx_ep_comp][:,0], DEC_BKG[idx_ep_comp][:,0]\n",
    "dra_err, ddec_err = RA_ERR_BKG[idx_ep_comp][:,0], DEC_ERR_BKG[idx_ep_comp][:,0]\n",
    "\n",
    "# Star properties\n",
    "cond_select_obj = (target==dF_prop['target name'])\n",
    "plx = float(dF_prop[cond_select_obj]['parallax'])\n",
    "plx_err = float(dF_prop[cond_select_obj]['err parallax'])\n",
    "dist = float(dF_prop[cond_select_obj]['distance'])\n",
    "dist_err = plx_err/plx**2\n",
    "\n",
    "# Load some extra properties of the star from Simbad\n",
    "result_table_names = customSimbad.query_object(target)\n",
    "\n",
    "pm_err_star = np.max([result_table_names['PM_ERR_MAJA'][0],result_table_names['PM_ERR_MINA'][0]])\n",
    "prop = {\n",
    "    'ra': result_table_names['RA'][0],\n",
    "    'dec': result_table_names['DEC'][0],\n",
    "    'dist': dist,\n",
    "    'dist_err': dist_err,\n",
    "    'plx': plx,\n",
    "    'plx_err': plx_err,\n",
    "    'pm': [result_table_names['PMRA'][0],result_table_names['PMDEC'][0]],\n",
    "    'pm_err': [pm_err_star,pm_err_star],\n",
    "    #'pm_bkg': [-20, -30],\n",
    "    #'pm_bkg_err': [6.5, 5.8]\n",
    "}\n"
   ]
  },
  {
   "cell_type": "markdown",
   "metadata": {},
   "source": [
    "### Load RA and DEC tracks expected if background"
   ]
  },
  {
   "cell_type": "code",
   "execution_count": 118,
   "metadata": {},
   "outputs": [
    {
     "name": "stdout",
     "output_type": "stream",
     "text": [
      "[5755.25 5756.25 5757.25 ... 7116.25 7117.25 7118.25]\n",
      "dra_err (2,)\n",
      "pm_ra_err ()\n",
      "x_earth (1364,)\n",
      "day_min ()\n",
      "y_earth (1364,)\n"
     ]
    },
    {
     "data": {
      "image/png": "[encoded data removed]",
      "text/plain": [
       "<Figure size 1360x640 with 3 Axes>"
      ]
     },
     "metadata": {},
     "output_type": "display_data"
    }
   ],
   "source": [
    "fig, ax, RA_track, DEC_track, RA_expected_bkg, DEC_expected_bkg = proper_motion.plots(target, dates, \n",
    "                        dra, dra_err, ddec, ddec_err, prop, \n",
    "                        legend_loc=0, return_tracks=1, return_expected_positions=1)\n",
    "mise_en_page(ax)\n",
    "plt.savefig('{}PMD_{}_overview_{}epochs.pdf'.format(saving_dir,target,n_epochs))"
   ]
  },
  {
   "cell_type": "code",
   "execution_count": 119,
   "metadata": {},
   "outputs": [
    {
     "data": {
      "text/plain": [
       "'figs/fig_PMD_v2022-6-21'"
      ]
     },
     "execution_count": 119,
     "metadata": {},
     "output_type": "execute_result"
    }
   ],
   "source": [
    "saving_dir"
   ]
  },
  {
   "cell_type": "code",
   "execution_count": null,
   "metadata": {},
   "outputs": [],
   "source": []
  },
  {
   "cell_type": "code",
   "execution_count": null,
   "metadata": {},
   "outputs": [],
   "source": []
  },
  {
   "cell_type": "code",
   "execution_count": null,
   "metadata": {},
   "outputs": [],
   "source": []
  },
  {
   "cell_type": "code",
   "execution_count": 62,
   "metadata": {},
   "outputs": [
    {
     "data": {
      "text/html": [
       "<div>\n",
       "<style scoped>\n",
       "    .dataframe tbody tr th:only-of-type {\n",
       "        vertical-align: middle;\n",
       "    }\n",
       "\n",
       "    .dataframe tbody tr th {\n",
       "        vertical-align: top;\n",
       "    }\n",
       "\n",
       "    .dataframe thead th {\n",
       "        text-align: right;\n",
       "    }\n",
       "</style>\n",
       "<table border=\"1\" class=\"dataframe\">\n",
       "  <thead>\n",
       "    <tr style=\"text-align: right;\">\n",
       "      <th></th>\n",
       "      <th>index</th>\n",
       "      <th>details</th>\n",
       "      <th>target</th>\n",
       "      <th>epoch</th>\n",
       "      <th>filter</th>\n",
       "      <th>coord_x_pix</th>\n",
       "      <th>coord_y_pix</th>\n",
       "      <th>ra_mas</th>\n",
       "      <th>ra_err_mas</th>\n",
       "      <th>ra_err_fit_mas</th>\n",
       "      <th>...</th>\n",
       "      <th>mag_abs_err_channel1</th>\n",
       "      <th>mag_abs_channel2</th>\n",
       "      <th>mag_abs_err_channel2</th>\n",
       "      <th>color</th>\n",
       "      <th>color_err</th>\n",
       "      <th>mag_lim_channel1</th>\n",
       "      <th>mag_lim_channel2</th>\n",
       "      <th>color_uplim</th>\n",
       "      <th>robust_detection_channel2</th>\n",
       "      <th>status_CMD</th>\n",
       "    </tr>\n",
       "  </thead>\n",
       "  <tbody>\n",
       "    <tr>\n",
       "      <th>350</th>\n",
       "      <td>1.0</td>\n",
       "      <td>HD85512 2017-04-01 H23</td>\n",
       "      <td>HD85512</td>\n",
       "      <td>2017-04-01</td>\n",
       "      <td>H23</td>\n",
       "      <td>1011.000</td>\n",
       "      <td>517.700</td>\n",
       "      <td>-3515.4</td>\n",
       "      <td>7.8</td>\n",
       "      <td>2.6</td>\n",
       "      <td>...</td>\n",
       "      <td>0.123</td>\n",
       "      <td>15.610</td>\n",
       "      <td>0.126</td>\n",
       "      <td>-0.033</td>\n",
       "      <td>0.176</td>\n",
       "      <td>17.104</td>\n",
       "      <td>17.104</td>\n",
       "      <td>-6.264</td>\n",
       "      <td>1</td>\n",
       "      <td>background</td>\n",
       "    </tr>\n",
       "    <tr>\n",
       "      <th>351</th>\n",
       "      <td>2.0</td>\n",
       "      <td>HD85512 2017-04-01 H23</td>\n",
       "      <td>HD85512</td>\n",
       "      <td>2017-04-01</td>\n",
       "      <td>H23</td>\n",
       "      <td>800.500</td>\n",
       "      <td>270.500</td>\n",
       "      <td>-937.7</td>\n",
       "      <td>16.4</td>\n",
       "      <td>11.0</td>\n",
       "      <td>...</td>\n",
       "      <td>0.152</td>\n",
       "      <td>21.423</td>\n",
       "      <td>0.161</td>\n",
       "      <td>0.078</td>\n",
       "      <td>0.221</td>\n",
       "      <td>17.218</td>\n",
       "      <td>17.189</td>\n",
       "      <td>-0.425</td>\n",
       "      <td>1</td>\n",
       "      <td>background</td>\n",
       "    </tr>\n",
       "    <tr>\n",
       "      <th>352</th>\n",
       "      <td>NaN</td>\n",
       "      <td>HD85512 2017-04-01 H23</td>\n",
       "      <td>HD85512</td>\n",
       "      <td>2017-04-01</td>\n",
       "      <td>H23</td>\n",
       "      <td>664.943</td>\n",
       "      <td>571.311</td>\n",
       "      <td>-1879.7</td>\n",
       "      <td>6.6</td>\n",
       "      <td>5.4</td>\n",
       "      <td>...</td>\n",
       "      <td>0.387</td>\n",
       "      <td>20.680</td>\n",
       "      <td>0.369</td>\n",
       "      <td>-0.024</td>\n",
       "      <td>0.535</td>\n",
       "      <td>16.840</td>\n",
       "      <td>16.842</td>\n",
       "      <td>-0.923</td>\n",
       "      <td>1</td>\n",
       "      <td>background</td>\n",
       "    </tr>\n",
       "    <tr>\n",
       "      <th>353</th>\n",
       "      <td>NaN</td>\n",
       "      <td>HD85512 2017-12-30 H23</td>\n",
       "      <td>HD85512</td>\n",
       "      <td>2017-12-30</td>\n",
       "      <td>H23</td>\n",
       "      <td>703.116</td>\n",
       "      <td>602.840</td>\n",
       "      <td>-2347.3</td>\n",
       "      <td>5.9</td>\n",
       "      <td>3.7</td>\n",
       "      <td>...</td>\n",
       "      <td>0.266</td>\n",
       "      <td>20.710</td>\n",
       "      <td>0.247</td>\n",
       "      <td>0.074</td>\n",
       "      <td>0.363</td>\n",
       "      <td>17.384</td>\n",
       "      <td>17.440</td>\n",
       "      <td>-1.393</td>\n",
       "      <td>1</td>\n",
       "      <td>background</td>\n",
       "    </tr>\n",
       "    <tr>\n",
       "      <th>354</th>\n",
       "      <td>2.0</td>\n",
       "      <td>HD85512 2017-12-30 H23</td>\n",
       "      <td>HD85512</td>\n",
       "      <td>2017-12-30</td>\n",
       "      <td>H23</td>\n",
       "      <td>839.200</td>\n",
       "      <td>301.500</td>\n",
       "      <td>-1411.0</td>\n",
       "      <td>11.5</td>\n",
       "      <td>0.8</td>\n",
       "      <td>...</td>\n",
       "      <td>0.185</td>\n",
       "      <td>21.439</td>\n",
       "      <td>0.181</td>\n",
       "      <td>-0.001</td>\n",
       "      <td>0.259</td>\n",
       "      <td>17.521</td>\n",
       "      <td>17.538</td>\n",
       "      <td>-0.837</td>\n",
       "      <td>1</td>\n",
       "      <td>background</td>\n",
       "    </tr>\n",
       "    <tr>\n",
       "      <th>355</th>\n",
       "      <td>1.0</td>\n",
       "      <td>HD85512 2017-12-30 H23</td>\n",
       "      <td>HD85512</td>\n",
       "      <td>2017-12-30</td>\n",
       "      <td>H23</td>\n",
       "      <td>1049.200</td>\n",
       "      <td>548.900</td>\n",
       "      <td>-3984.0</td>\n",
       "      <td>13.7</td>\n",
       "      <td>11.7</td>\n",
       "      <td>...</td>\n",
       "      <td>0.156</td>\n",
       "      <td>15.679</td>\n",
       "      <td>0.158</td>\n",
       "      <td>-0.066</td>\n",
       "      <td>0.222</td>\n",
       "      <td>17.370</td>\n",
       "      <td>17.430</td>\n",
       "      <td>-6.554</td>\n",
       "      <td>1</td>\n",
       "      <td>background</td>\n",
       "    </tr>\n",
       "    <tr>\n",
       "      <th>356</th>\n",
       "      <td>NaN</td>\n",
       "      <td>HD85512 2019-11-25 K12</td>\n",
       "      <td>HD85512</td>\n",
       "      <td>2019-11-25</td>\n",
       "      <td>K12</td>\n",
       "      <td>437.101</td>\n",
       "      <td>512.406</td>\n",
       "      <td>911.4</td>\n",
       "      <td>6.2</td>\n",
       "      <td>5.5</td>\n",
       "      <td>...</td>\n",
       "      <td>0.716</td>\n",
       "      <td>NaN</td>\n",
       "      <td>0.112</td>\n",
       "      <td>NaN</td>\n",
       "      <td>0.725</td>\n",
       "      <td>13.637</td>\n",
       "      <td>13.352</td>\n",
       "      <td>0.016</td>\n",
       "      <td>0</td>\n",
       "      <td>unknown</td>\n",
       "    </tr>\n",
       "    <tr>\n",
       "      <th>357</th>\n",
       "      <td>0.0</td>\n",
       "      <td>HD85512 2019-11-25 K12</td>\n",
       "      <td>HD85512</td>\n",
       "      <td>2019-11-25</td>\n",
       "      <td>K12</td>\n",
       "      <td>1123.100</td>\n",
       "      <td>621.500</td>\n",
       "      <td>-4888.7</td>\n",
       "      <td>7.1</td>\n",
       "      <td>0.8</td>\n",
       "      <td>...</td>\n",
       "      <td>0.054</td>\n",
       "      <td>15.364</td>\n",
       "      <td>0.053</td>\n",
       "      <td>0.071</td>\n",
       "      <td>0.076</td>\n",
       "      <td>15.135</td>\n",
       "      <td>13.942</td>\n",
       "      <td>-2.963</td>\n",
       "      <td>1</td>\n",
       "      <td>background</td>\n",
       "    </tr>\n",
       "    <tr>\n",
       "      <th>358</th>\n",
       "      <td>0.0</td>\n",
       "      <td>HD85512 2020-01-03 K12</td>\n",
       "      <td>HD85512</td>\n",
       "      <td>2020-01-03</td>\n",
       "      <td>K12</td>\n",
       "      <td>1124.400</td>\n",
       "      <td>627.600</td>\n",
       "      <td>-4905.1</td>\n",
       "      <td>7.0</td>\n",
       "      <td>0.7</td>\n",
       "      <td>...</td>\n",
       "      <td>0.105</td>\n",
       "      <td>15.148</td>\n",
       "      <td>0.089</td>\n",
       "      <td>0.056</td>\n",
       "      <td>0.138</td>\n",
       "      <td>15.558</td>\n",
       "      <td>14.507</td>\n",
       "      <td>-3.759</td>\n",
       "      <td>1</td>\n",
       "      <td>background</td>\n",
       "    </tr>\n",
       "  </tbody>\n",
       "</table>\n",
       "<p>9 rows × 71 columns</p>\n",
       "</div>"
      ],
      "text/plain": [
       "     index                 details   target       epoch filter  coord_x_pix  \\\n",
       "350    1.0  HD85512 2017-04-01 H23  HD85512  2017-04-01    H23     1011.000   \n",
       "351    2.0  HD85512 2017-04-01 H23  HD85512  2017-04-01    H23      800.500   \n",
       "352    NaN  HD85512 2017-04-01 H23  HD85512  2017-04-01    H23      664.943   \n",
       "353    NaN  HD85512 2017-12-30 H23  HD85512  2017-12-30    H23      703.116   \n",
       "354    2.0  HD85512 2017-12-30 H23  HD85512  2017-12-30    H23      839.200   \n",
       "355    1.0  HD85512 2017-12-30 H23  HD85512  2017-12-30    H23     1049.200   \n",
       "356    NaN  HD85512 2019-11-25 K12  HD85512  2019-11-25    K12      437.101   \n",
       "357    0.0  HD85512 2019-11-25 K12  HD85512  2019-11-25    K12     1123.100   \n",
       "358    0.0  HD85512 2020-01-03 K12  HD85512  2020-01-03    K12     1124.400   \n",
       "\n",
       "     coord_y_pix  ra_mas  ra_err_mas  ra_err_fit_mas  ...  \\\n",
       "350      517.700 -3515.4         7.8             2.6  ...   \n",
       "351      270.500  -937.7        16.4            11.0  ...   \n",
       "352      571.311 -1879.7         6.6             5.4  ...   \n",
       "353      602.840 -2347.3         5.9             3.7  ...   \n",
       "354      301.500 -1411.0        11.5             0.8  ...   \n",
       "355      548.900 -3984.0        13.7            11.7  ...   \n",
       "356      512.406   911.4         6.2             5.5  ...   \n",
       "357      621.500 -4888.7         7.1             0.8  ...   \n",
       "358      627.600 -4905.1         7.0             0.7  ...   \n",
       "\n",
       "     mag_abs_err_channel1  mag_abs_channel2  mag_abs_err_channel2  color  \\\n",
       "350                 0.123            15.610                 0.126 -0.033   \n",
       "351                 0.152            21.423                 0.161  0.078   \n",
       "352                 0.387            20.680                 0.369 -0.024   \n",
       "353                 0.266            20.710                 0.247  0.074   \n",
       "354                 0.185            21.439                 0.181 -0.001   \n",
       "355                 0.156            15.679                 0.158 -0.066   \n",
       "356                 0.716               NaN                 0.112    NaN   \n",
       "357                 0.054            15.364                 0.053  0.071   \n",
       "358                 0.105            15.148                 0.089  0.056   \n",
       "\n",
       "     color_err  mag_lim_channel1  mag_lim_channel2  color_uplim  \\\n",
       "350      0.176            17.104            17.104       -6.264   \n",
       "351      0.221            17.218            17.189       -0.425   \n",
       "352      0.535            16.840            16.842       -0.923   \n",
       "353      0.363            17.384            17.440       -1.393   \n",
       "354      0.259            17.521            17.538       -0.837   \n",
       "355      0.222            17.370            17.430       -6.554   \n",
       "356      0.725            13.637            13.352        0.016   \n",
       "357      0.076            15.135            13.942       -2.963   \n",
       "358      0.138            15.558            14.507       -3.759   \n",
       "\n",
       "     robust_detection_channel2  status_CMD  \n",
       "350                          1  background  \n",
       "351                          1  background  \n",
       "352                          1  background  \n",
       "353                          1  background  \n",
       "354                          1  background  \n",
       "355                          1  background  \n",
       "356                          0     unknown  \n",
       "357                          1  background  \n",
       "358                          1  background  \n",
       "\n",
       "[9 rows x 71 columns]"
      ]
     },
     "execution_count": 62,
     "metadata": {},
     "output_type": "execute_result"
    }
   ],
   "source": [
    "dF[dF['target']=='HD85512']"
   ]
  },
  {
   "cell_type": "code",
   "execution_count": null,
   "metadata": {},
   "outputs": [],
   "source": []
  },
  {
   "cell_type": "code",
   "execution_count": null,
   "metadata": {},
   "outputs": [],
   "source": []
  },
  {
   "cell_type": "code",
   "execution_count": 21,
   "metadata": {},
   "outputs": [],
   "source": [
    "def closer_positions(ra1,dec1,ra2,dec2,dra=0,ddec=0, tolerance=10, unit='pixel', display=1):\n",
    "    '''\n",
    "    Find candidates observed in two different epochs.\n",
    "        Inputs:\n",
    "            .'ra1' (type=list/array): list/array of the right ascensions for the detections in the 1st epoch\n",
    "            .'dec1' (type=list/array): list/array of the declinations for the detections in the 1st epoch\n",
    "            .'ra2' (type=list/array): list/array of the right ascensions for the detections in the 2nd epoch\n",
    "            .'dec2' (type=list/array): list/array of the declinations for the detections in the 2nd epoch\n",
    "            (optional, below:)\n",
    "            .'dra' (type=int/float): shift to apply to the second epoch (proper motion in RA)\n",
    "            .'ddec' (type=int/float): shift to apply to the second epoch (proper motion in DEC)\n",
    "            .'tolerance' (type=int/float): difference tolerated. In practice it is the some of the differences between ra1/ra2_closer and dec1/dec2_closer\n",
    "            .'unit' (type='string'): indicate which unit is considered, but for now, no importance.\n",
    "            .'display' (type='boolean'): indicate if display the matching values between 1st/2nd epoch and the\n",
    "                            difference between 1st/2nd epoch values(just to check)\n",
    "\n",
    "        Outputs:\n",
    "            Return the detections observed in two epoch, more precisely:\n",
    "                .their indexes in 1st epoch\n",
    "                .their indexes in 2nd epoch\n",
    "                .their RA and DEC in 2nd epoch (could be removed I guess)\n",
    "    '''\n",
    "    ra2_shift = np.round(np.array(ra2)-dra,2)\n",
    "    dec2_shift = np.round(np.array(dec2)-ddec,2)\n",
    "    N_possibilities = len(ra1) #np.nanmax([len(ra1),len(ra2)])\n",
    "    INDEX1, INDEX_CLOSER, RA_CLOSER, DEC_CLOSER = [], [], [], []\n",
    "\n",
    "    for k in range(N_possibilities):\n",
    "        wanted = [ra1[k],dec1[k]]\n",
    "        L      = [ra2_shift,dec2_shift]\n",
    "\n",
    "        index, diff = index_closer(wanted, L, constraints='several', output_diff=True)\n",
    "\n",
    "        # if the closest value is still too far, do not consider it\n",
    "        if diff[index] < tolerance :\n",
    "            if display: print('error = {:.1f} \\nwanted = {} (ep1) but {} (ep2 shifted) i.e. {} (ep2)'.format(diff[index],wanted, [ra2_shift[index],dec2_shift[index]],[ra2[index],dec2[index]]))\n",
    "            INDEX1.append(k)\n",
    "            INDEX_CLOSER.append(index)\n",
    "            RA_CLOSER.append(ra2[index])\n",
    "            DEC_CLOSER.append(dec2[index])\n",
    "    return np.array(INDEX1),np.array(INDEX_CLOSER), np.array(RA_CLOSER), np.array(DEC_CLOSER)\n"
   ]
  },
  {
   "cell_type": "code",
   "execution_count": null,
   "metadata": {},
   "outputs": [],
   "source": []
  },
  {
   "cell_type": "code",
   "execution_count": null,
   "metadata": {},
   "outputs": [],
   "source": []
  },
  {
   "cell_type": "code",
   "execution_count": null,
   "metadata": {},
   "outputs": [],
   "source": []
  },
  {
   "cell_type": "code",
   "execution_count": 12,
   "metadata": {},
   "outputs": [
    {
     "name": "stdout",
     "output_type": "stream",
     "text": [
      "epoch1\n",
      "[  69.857   29.942  -41.13   143.45   -20.66   277.6    140.4   -206.1\n",
      " -102.68   285.86    32.47  -121.54    35.41  -501.56   451.03    73.35\n",
      " -128.21  -155.41     7.53  -223.8   -400.46  -355.85   405.29 ]\n",
      "[ 188.701  208.124 -567.27  -532.26   289.43    33.44  -227.94   247.78\n",
      " -288.5   -303.03   447.59  -264.46   541.72   148.35  -170.41   466.71\n",
      "  440.53  -340.68   411.5    255.46   341.58   231.77   147.31 ]\n",
      "\n",
      "epoch2\n",
      "[-212.51   462.03  -501.83  -424.68   151.51  -110.32    80.65  -116.65\n",
      "   43.92   416.12    84.75   296.85  -344.25   -91.5   -254.3   -194.68\n",
      "  291.5     -9.42   214.22    18.96  -144.09  -311.66  -381.87   173.817\n",
      "  174.985  -22.129  288.31 ]\n",
      "[ 259.83  -166.04   -20.75    67.11  -223.65  -259.95   193.33   444.95\n",
      "  452.02   151.35   471.11  -298.73   236.29  -284.25   191.14   252.16\n",
      "  136.06   293.41   291.22   415.57  -336.44  -272.92  -257.62   -45.323\n",
      " -147.357  209.451   37.3  ]\n"
     ]
    }
   ],
   "source": [
    "display = 1\n",
    "\n",
    "# HD85512\n",
    "ra1, dec1 = X_all[0],  Y_all[0]\n",
    "ra_err1, dec_err1 = X_err_all[0],  Y_err_all[0]\n",
    "ra2, dec2 = X_all[1], Y_all[1]\n",
    "ra_err2, dec_err2 = X_err_all[1], Y_err_all[1]\n",
    "dra, ddec = pm_ra, pm_dec\n",
    "tol=30\n",
    "\n",
    "if target == 'GJ674' :\n",
    "    ra1, dec1 = X_all[0],  Y_all[0]\n",
    "    ra2, dec2 = X_all[1], Y_all[1]\n",
    "    dra, ddec = pm_ra, pm_dec #previously, when it was not automatized: 26, 89 #15, 42 \n",
    "    tol=10\n",
    "    \n",
    "if target == 'HD154088' :\n",
    "    ra1, dec1 = X_all[0],  Y_all[0]\n",
    "    ra2, dec2 = X_all[1][5:], Y_all[1][5:]\n",
    "    dra, ddec = pm_ra, pm_dec #previously, when it was not automatized: 26, 89 #15, 42 \n",
    "    tol=10\n",
    "\n",
    "if display:\n",
    "    print('epoch1'); print(ra1) ; print(dec1)\n",
    "    print('\\nepoch2'); print(ra2) ; print(dec2)"
   ]
  },
  {
   "cell_type": "code",
   "execution_count": 293,
   "metadata": {},
   "outputs": [
    {
     "data": {
      "text/plain": [
       "array([-216.77102535,  457.76897465, -506.09102535, -428.94102535,\n",
       "        147.24897465, -114.58102535,   76.38897465, -120.91102535,\n",
       "         39.65897465,  411.85897465,   80.48897465,  292.58897465,\n",
       "       -348.51102535,  -95.76102535, -258.56102535, -198.94102535,\n",
       "        287.23897465,  -13.68102535,  209.95897465,   14.69897465,\n",
       "       -148.35102535, -315.92102535, -386.13102535,  169.55597465,\n",
       "        170.72397465,  -26.39002535,  284.04897465])"
      ]
     },
     "execution_count": 293,
     "metadata": {},
     "output_type": "execute_result"
    }
   ],
   "source": [
    "ra2+dra"
   ]
  },
  {
   "cell_type": "code",
   "execution_count": 294,
   "metadata": {},
   "outputs": [
    {
     "data": {
      "text/plain": [
       "array([ 254.17022009, -171.69977991,  -26.40977991,   61.45022009,\n",
       "       -229.30977991, -265.60977991,  187.67022009,  439.29022009,\n",
       "        446.36022009,  145.69022009,  465.45022009, -304.38977991,\n",
       "        230.63022009, -289.90977991,  185.48022009,  246.50022009,\n",
       "        130.40022009,  287.75022009,  285.56022009,  409.91022009,\n",
       "       -342.09977991, -278.57977991, -263.27977991,  -50.98277991,\n",
       "       -153.01677991,  203.79122009,   31.64022009])"
      ]
     },
     "execution_count": 294,
     "metadata": {},
     "output_type": "execute_result"
    }
   ],
   "source": [
    "dec2-ddec"
   ]
  },
  {
   "cell_type": "code",
   "execution_count": 295,
   "metadata": {},
   "outputs": [
    {
     "data": {
      "text/plain": [
       "2"
      ]
     },
     "execution_count": 295,
     "metadata": {},
     "output_type": "execute_result"
    }
   ],
   "source": [
    "len(epochs)"
   ]
  },
  {
   "cell_type": "code",
   "execution_count": null,
   "metadata": {},
   "outputs": [],
   "source": []
  },
  {
   "cell_type": "code",
   "execution_count": 296,
   "metadata": {
    "scrolled": true
   },
   "outputs": [
    {
     "name": "stdout",
     "output_type": "stream",
     "text": [
      "error = 6.6 \n",
      "wanted = [69.857, 188.701] (ep1) but [76.39, 187.67] (ep2 shifted) i.e. [80.65, 193.33] (ep2)\n",
      "error = 7.2 \n",
      "wanted = [-20.66, 289.43] (ep1) but [-13.68, 287.75] (ep2 shifted) i.e. [-9.42, 293.41] (ep2)\n",
      "error = 6.7 \n",
      "wanted = [277.6, 33.44] (ep1) but [284.05, 31.64] (ep2 shifted) i.e. [288.31, 37.3] (ep2)\n",
      "error = 7.0 \n",
      "wanted = [140.4, -227.94] (ep1) but [147.25, -229.31] (ep2 shifted) i.e. [151.51, -223.65] (ep2)\n",
      "error = 7.3 \n",
      "wanted = [-206.1, 247.78] (ep1) but [-198.94, 246.5] (ep2 shifted) i.e. [-194.68, 252.16] (ep2)\n",
      "error = 7.1 \n",
      "wanted = [-102.68, -288.5] (ep1) but [-95.76, -289.91] (ep2 shifted) i.e. [-91.5, -284.25] (ep2)\n",
      "error = 6.9 \n",
      "wanted = [285.86, -303.03] (ep1) but [292.59, -304.39] (ep2 shifted) i.e. [296.85, -298.73] (ep2)\n",
      "error = 7.3 \n",
      "wanted = [32.47, 447.59] (ep1) but [39.66, 446.36] (ep2 shifted) i.e. [43.92, 452.02] (ep2)\n",
      "error = 7.1 \n",
      "wanted = [-121.54, -264.46] (ep1) but [-114.58, -265.61] (ep2 shifted) i.e. [-110.32, -259.95] (ep2)\n",
      "error = 6.9 \n",
      "wanted = [451.03, -170.41] (ep1) but [457.77, -171.7] (ep2 shifted) i.e. [462.03, -166.04] (ep2)\n",
      "error = 7.3 \n",
      "wanted = [73.35, 466.71] (ep1) but [80.49, 465.45] (ep2 shifted) i.e. [84.75, 471.11] (ep2)\n",
      "error = 7.4 \n",
      "wanted = [-128.21, 440.53] (ep1) but [-120.91, 439.29] (ep2 shifted) i.e. [-116.65, 444.95] (ep2)\n",
      "error = 7.2 \n",
      "wanted = [-155.41, -340.68] (ep1) but [-148.35, -342.1] (ep2 shifted) i.e. [-144.09, -336.44] (ep2)\n",
      "error = 7.3 \n",
      "wanted = [7.53, 411.5] (ep1) but [14.7, 409.91] (ep2 shifted) i.e. [18.96, 415.57] (ep2)\n",
      "error = 7.1 \n",
      "wanted = [-223.8, 255.46] (ep1) but [-216.77, 254.17] (ep2 shifted) i.e. [-212.51, 259.83] (ep2)\n",
      "error = 7.4 \n",
      "wanted = [-355.85, 231.77] (ep1) but [-348.51, 230.63] (ep2 shifted) i.e. [-344.25, 236.29] (ep2)\n",
      "error = 6.8 \n",
      "wanted = [405.29, 147.31] (ep1) but [411.86, 145.69] (ep2 shifted) i.e. [416.12, 151.35] (ep2)\n",
      "Number of objects observed at least twice found: 17 over 27 in the last epoch\n",
      "[ 0  4  5  6  7  8  9 10 11 14 15 16 17 18 19 21 22]\n",
      "[ 6 17 26  4 15 13 11  8  5  1 10  7 20 19  0 12  9]\n",
      "[-344.25 -212.51 -194.68 -144.09 -116.65 -110.32  -91.5    -9.42   18.96\n",
      "   43.92   80.65   84.75  151.51  288.31  296.85  416.12  462.03]\n",
      "\n",
      " [array(['2017-06-23', '2017-06-23', '2017-06-23', '2017-06-23',\n",
      "       '2017-06-23', '2017-06-23', '2017-06-23', '2017-06-23',\n",
      "       '2017-06-23', '2017-06-23', '2017-06-23', '2017-06-23',\n",
      "       '2017-06-23', '2017-06-23', '2017-06-23', '2017-06-23',\n",
      "       '2017-06-23'], dtype='<U10')] \n",
      " [array(['2017-07-20', '2017-07-20', '2017-07-20', '2017-07-20',\n",
      "       '2017-07-20', '2017-07-20', '2017-07-20', '2017-07-20',\n",
      "       '2017-07-20', '2017-07-20', '2017-07-20', '2017-07-20',\n",
      "       '2017-07-20', '2017-07-20', '2017-07-20', '2017-07-20',\n",
      "       '2017-07-20'], dtype='<U10')]\n",
      "\n",
      " [array([ 188.701,  289.43 ,   33.44 , -227.94 ,  247.78 , -288.5  ,\n",
      "       -303.03 ,  447.59 , -264.46 , -170.41 ,  466.71 ,  440.53 ,\n",
      "       -340.68 ,  411.5  ,  255.46 ,  231.77 ,  147.31 ])] \n",
      " [array([ 193.33,  293.41,   37.3 , -223.65,  252.16, -284.25, -298.73,\n",
      "        452.02, -259.95, -166.04,  471.11,  444.95, -336.44,  415.57,\n",
      "        259.83,  236.29,  151.35])]\n"
     ]
    },
    {
     "name": "stderr",
     "output_type": "stream",
     "text": [
      "/Users/user/Documents/desgrange/work/code/GitHub/main_scripts/import_functions_generic.py:205: VisibleDeprecationWarning: Creating an ndarray from ragged nested sequences (which is a list-or-tuple of lists-or-tuples-or ndarrays with different lengths or shapes) is deprecated. If you meant to do this, you must specify 'dtype=object' when creating the ndarray.\n",
      "  L = np.array(L)\n"
     ]
    }
   ],
   "source": [
    "dates_bkg, dates_ref_bkg = [], []\n",
    "ra_bkg, ra_ref_bkg = [], []\n",
    "ra_err_bkg, ra_err_ref_bkg = [], []\n",
    "dec_bkg, dec_ref_bkg = [], []\n",
    "dec_err_bkg, dec_err_ref_bkg = [], []\n",
    "\n",
    "for ep in range(1,len(epochs)):\n",
    "    INDEX1, INDEX_CLOSER, RA_CLOSER, DEC_CLOSER = closer_positions(ra1,dec1,ra2,dec2,dra=-dra,ddec=ddec,tolerance=tol)\n",
    "\n",
    "    RA_CLOSER_idx_sort = np.argsort(RA_CLOSER)\n",
    "    RA1_idx_sort       = np.argsort(ra1)\n",
    "    RA2_idx_sort       = np.argsort(ra2)\n",
    "\n",
    "    print('Number of objects observed at least twice found: {} over {} in the last epoch'.format(len(INDEX_CLOSER),len(ra2)))\n",
    "    print(INDEX1)\n",
    "    print(INDEX_CLOSER)\n",
    "\n",
    "    print(RA_CLOSER[RA_CLOSER_idx_sort])\n",
    "    #print(DEC_CLOSER[RA_CLOSER_idx_sort])\n",
    "    #print('\\n',ra1[RA1_idx_sort])\n",
    "    #print(dec1[RA1_idx_sort])\n",
    "    #print('\\n',ra2[RA2_idx_sort])\n",
    "    #print(dec2[RA2_idx_sort])\n",
    "    \n",
    "    #    cond_epoch = dF['epoch'] == ep\n",
    "    \n",
    "    # reference\n",
    "    dates_ref_bkg.append(np.array([epochs[0]]*len(INDEX_CLOSER)))\n",
    "    ra_ref_bkg.append(ra1[INDEX1])\n",
    "    dec_ref_bkg.append(dec1[INDEX1])\n",
    "    \n",
    "    ra_err_ref_bkg.append(ra_err1[INDEX1])\n",
    "    dec_err_ref_bkg.append(dec_err1[INDEX1])\n",
    "    \n",
    "    # additional epoch\n",
    "    dates_bkg.append(np.array([epochs[ep]]*len(INDEX_CLOSER)))\n",
    "    ra_bkg.append(ra2[INDEX_CLOSER])\n",
    "    dec_bkg.append(dec2[INDEX_CLOSER])\n",
    "    \n",
    "    ra_err_bkg.append(ra_err2[INDEX_CLOSER])\n",
    "    dec_err_bkg.append(dec_err2[INDEX_CLOSER])\n",
    "    \n",
    "    #print(dates[-1])\n",
    "    #print(dra_bkg[-1])\n",
    "print('\\n',dates_ref_bkg,'\\n',dates_bkg)\n",
    "print('\\n',dec_ref_bkg,'\\n',dec_bkg)"
   ]
  },
  {
   "cell_type": "code",
   "execution_count": null,
   "metadata": {},
   "outputs": [],
   "source": []
  },
  {
   "cell_type": "code",
   "execution_count": 282,
   "metadata": {},
   "outputs": [
    {
     "data": {
      "text/plain": [
       "array([ -86.26 ,  259.86 ,   17.114,  189.38 ,  405.01 , -235.67 ,\n",
       "         17.114,  -86.26 ])"
      ]
     },
     "execution_count": 282,
     "metadata": {},
     "output_type": "execute_result"
    }
   ],
   "source": [
    "ra2[INDEX_CLOSER]"
   ]
  },
  {
   "cell_type": "code",
   "execution_count": null,
   "metadata": {},
   "outputs": [],
   "source": []
  },
  {
   "cell_type": "code",
   "execution_count": null,
   "metadata": {},
   "outputs": [],
   "source": []
  },
  {
   "cell_type": "code",
   "execution_count": null,
   "metadata": {},
   "outputs": [],
   "source": []
  },
  {
   "cell_type": "code",
   "execution_count": null,
   "metadata": {},
   "outputs": [],
   "source": []
  },
  {
   "cell_type": "code",
   "execution_count": null,
   "metadata": {},
   "outputs": [],
   "source": []
  },
  {
   "cell_type": "code",
   "execution_count": 297,
   "metadata": {},
   "outputs": [],
   "source": [
    "# Everything should be given in array\n",
    "EPOCH_all, RA_all, DEC_all = np.array(EPOCH_all),np.array(RA_all),np.array(DEC_all)\n",
    "RA_ERR_all, DEC_ERR_all = np.array(RA_ERR_all),np.array(DEC_ERR_all)\n",
    "SEP_all, SEP_ERR_all = np.array(SEP_all),np.array(SEP_ERR_all)"
   ]
  },
  {
   "cell_type": "code",
   "execution_count": null,
   "metadata": {},
   "outputs": [],
   "source": []
  },
  {
   "cell_type": "code",
   "execution_count": 298,
   "metadata": {},
   "outputs": [
    {
     "ename": "TypeError",
     "evalue": "string indices must be integers",
     "output_type": "error",
     "traceback": [
      "\u001b[0;31m---------------------------------------------------------------------------\u001b[0m",
      "\u001b[0;31mTypeError\u001b[0m                                 Traceback (most recent call last)",
      "\u001b[0;32m/var/folders/g8/x021ghbs4y50ff6s20232b4w0000gn/T/ipykernel_30511/3009581329.py\u001b[0m in \u001b[0;36m<module>\u001b[0;34m\u001b[0m\n\u001b[1;32m     63\u001b[0m \u001b[0;32melif\u001b[0m \u001b[0mselect_index_epochs\u001b[0m \u001b[0;34m!=\u001b[0m \u001b[0;32mNone\u001b[0m \u001b[0;32mand\u001b[0m \u001b[0mindex_filter\u001b[0m \u001b[0;34m!=\u001b[0m \u001b[0;32mNone\u001b[0m \u001b[0;34m:\u001b[0m\u001b[0;34m\u001b[0m\u001b[0;34m\u001b[0m\u001b[0m\n\u001b[1;32m     64\u001b[0m     \u001b[0;32mfor\u001b[0m \u001b[0mi\u001b[0m \u001b[0;32min\u001b[0m \u001b[0mrange\u001b[0m\u001b[0;34m(\u001b[0m\u001b[0mlen\u001b[0m\u001b[0;34m(\u001b[0m\u001b[0mindex_filter\u001b[0m\u001b[0;34m)\u001b[0m\u001b[0;34m)\u001b[0m\u001b[0;34m:\u001b[0m\u001b[0;34m\u001b[0m\u001b[0;34m\u001b[0m\u001b[0m\n\u001b[0;32m---> 65\u001b[0;31m         \u001b[0mEPOCH\u001b[0m\u001b[0;34m.\u001b[0m\u001b[0mappend\u001b[0m\u001b[0;34m(\u001b[0m\u001b[0mEPOCH_all\u001b[0m\u001b[0;34m[\u001b[0m\u001b[0mindex_filter\u001b[0m\u001b[0;34m[\u001b[0m\u001b[0mi\u001b[0m\u001b[0;34m]\u001b[0m\u001b[0;34m]\u001b[0m\u001b[0;34m[\u001b[0m\u001b[0mselect_index_epochs\u001b[0m\u001b[0;34m[\u001b[0m\u001b[0mi\u001b[0m\u001b[0;34m]\u001b[0m\u001b[0;34m]\u001b[0m\u001b[0;34m)\u001b[0m\u001b[0;34m\u001b[0m\u001b[0;34m\u001b[0m\u001b[0m\n\u001b[0m\u001b[1;32m     66\u001b[0m         \u001b[0mRA\u001b[0m\u001b[0;34m.\u001b[0m\u001b[0mappend\u001b[0m\u001b[0;34m(\u001b[0m\u001b[0mRA_all\u001b[0m\u001b[0;34m[\u001b[0m\u001b[0mindex_filter\u001b[0m\u001b[0;34m[\u001b[0m\u001b[0mi\u001b[0m\u001b[0;34m]\u001b[0m\u001b[0;34m]\u001b[0m\u001b[0;34m[\u001b[0m\u001b[0mselect_index_epochs\u001b[0m\u001b[0;34m[\u001b[0m\u001b[0mi\u001b[0m\u001b[0;34m]\u001b[0m\u001b[0;34m]\u001b[0m\u001b[0;34m)\u001b[0m\u001b[0;34m\u001b[0m\u001b[0;34m\u001b[0m\u001b[0m\n\u001b[1;32m     67\u001b[0m         \u001b[0mDEC\u001b[0m\u001b[0;34m.\u001b[0m\u001b[0mappend\u001b[0m\u001b[0;34m(\u001b[0m\u001b[0mDEC_all\u001b[0m\u001b[0;34m[\u001b[0m\u001b[0mindex_filter\u001b[0m\u001b[0;34m[\u001b[0m\u001b[0mi\u001b[0m\u001b[0;34m]\u001b[0m\u001b[0;34m]\u001b[0m\u001b[0;34m[\u001b[0m\u001b[0mselect_index_epochs\u001b[0m\u001b[0;34m[\u001b[0m\u001b[0mi\u001b[0m\u001b[0;34m]\u001b[0m\u001b[0;34m]\u001b[0m\u001b[0;34m)\u001b[0m\u001b[0;34m\u001b[0m\u001b[0;34m\u001b[0m\u001b[0m\n",
      "\u001b[0;31mTypeError\u001b[0m: string indices must be integers"
     ]
    }
   ],
   "source": [
    "select_index_epochs = None ; select_index_epoch1 = None\n",
    "index_filter = None\n",
    "\n",
    "EPOCH, RA, DEC, RA_ERR, DEC_ERR = [], [], [], [], []\n",
    "SEP, SEP_ERR = [], []\n",
    "\n",
    "if target == 'HD85512': \n",
    "    # several candidates\n",
    "    index_filter = [0,1]\n",
    "    select_index_epochs = [[1,0],[1,0]]\n",
    "\n",
    "elif target == 'HD154088' : \n",
    "    # several candidates\n",
    "    # plot H23 1st epoch and K12 1st epoch and 2nd epoch\n",
    "    index_filter = [0,1,1]\n",
    "    select_index_epochs = [[18,23,1,27,28],[1,2,0,4,3],[4+7,4+16,4+2,4+18,4+14]]\n",
    "    if 1 : # plot H23 1st epoch and K12 1st epoch\n",
    "        index_filter = [0,1]\n",
    "        select_index_epochs = [[0,1,2,3,5,8,10,12,16,18,21,23,24,27,28,29,30],\n",
    "                               [5+np.array([0,1,2,4,9,3,7,5,11,6,8,15,19,17,13,14,10])]]\n",
    "        \n",
    "elif target == 'HD136352' : \n",
    "    # several candidates\n",
    "    index_filter = [0,1]\n",
    "    select_index_epochs = [[10,14,12,0,4,2,5],[0,3,1,2,4,5,6]]\n",
    "    \n",
    "elif target == 'GJ433' : \n",
    "    # attention, works well if SNR threshold is 3\n",
    "    select_index_epoch1 = [1]\n",
    "    select_index_epoch2 = [0]\n",
    "elif target == 'GJ422' : \n",
    "    # attention, works well if SNR threshold is 3\n",
    "    index_filter = [1,1]\n",
    "    select_index_epochs = [[3,4,0,1,2,],[8,9,5,6,7,]]\n",
    "    if 1:\n",
    "        index_filter = [0,1,1]\n",
    "        select_index_epochs = [[1,0], [3,4], [8,9]]\n",
    "        \n",
    "elif target == 'GJ682' :\n",
    "    index_filter = [0,0]\n",
    "    select_index_epochs = [[0,1,11,3,5,4,6,7,8],[12,13,14,15,16,17,18,19,20]]\n",
    "    if 1:\n",
    "        index_filter = [0,0,1]\n",
    "        select_index_epochs = [[0,1,11,3,5,4],[12,13,14,15,16,17],[1,2,0,3,6,5]]\n",
    "\n",
    "elif target == 'GJ674' :\n",
    "    # the most automatized\n",
    "    index_filter = [0,1]\n",
    "    select_index_epochs = [INDEX1, INDEX_CLOSER]\n",
    "\n",
    "else :\n",
    "    print('Indicate indexes of detections which are present through several epochs or every detection would be considered with this sorting!')\n",
    "\n",
    "if select_index_epoch1 != None and index_filter == None :\n",
    "    EPOCH = np.array((EPOCH_all[0][select_index_epoch1],EPOCH_all[1][select_index_epoch2]))\n",
    "    RA  = np.array((RA_all[0][select_index_epoch1], RA_all[1][select_index_epoch2])) \n",
    "    DEC = np.array((DEC_all[0][select_index_epoch1],DEC_all[1][select_index_epoch2]))\n",
    "    RA_ERR  = np.array((RA_ERR_all[0][select_index_epoch1], RA_ERR_all[1][select_index_epoch2])) \n",
    "    DEC_ERR = np.array((DEC_ERR_all[0][select_index_epoch1],DEC_ERR_all[1][select_index_epoch2]))\n",
    "    SEP = np.array((SEP_all[0][select_index_epoch1],SEP_all[1][select_index_epoch2]))\n",
    "    SEP_ERR  = np.array((SEP_ERR_all[0][select_index_epoch1], SEP_ERR_all[1][select_index_epoch2])) \n",
    "    \n",
    "elif select_index_epochs != None and index_filter != None :\n",
    "    for i in range(len(index_filter)):\n",
    "        EPOCH.append(EPOCH_all[index_filter[i]][select_index_epochs[i]])\n",
    "        RA.append(RA_all[index_filter[i]][select_index_epochs[i]])\n",
    "        DEC.append(DEC_all[index_filter[i]][select_index_epochs[i]])\n",
    "        RA_ERR.append(RA_ERR_all[index_filter[i]][select_index_epochs[i]])\n",
    "        DEC_ERR.append(DEC_ERR_all[index_filter[i]][select_index_epochs[i]])\n",
    "        SEP.append(SEP_all[index_filter[i]][select_index_epochs[i]])\n",
    "        SEP_ERR.append(SEP_ERR_all[index_filter[i]][select_index_epochs[i]])\n",
    "        \n",
    "    EPOCH = np.array((EPOCH))\n",
    "    RA  = np.array(RA) \n",
    "    DEC = np.array(DEC)\n",
    "    RA_ERR  = np.array(RA_ERR) \n",
    "    DEC_ERR = np.array(DEC_ERR)\n",
    "    SEP = np.array(SEP)\n",
    "    SEP_ERR = np.array(SEP_ERR)\n",
    "    \n",
    "elif target != 'GJ832' : \n",
    "    EPOCH = np.array((EPOCH_all[0],EPOCH_all[1]))\n",
    "    RA  = np.array((RA_all[0], RA_all[1])) \n",
    "    DEC = np.array((DEC_all[0],DEC_all[1]))\n",
    "    RA_ERR  = np.array((RA_ERR_all[0], RA_ERR_all[1])) \n",
    "    DEC_ERR = np.array((DEC_ERR_all[0],DEC_ERR_all[1]))\n",
    "    SEP = np.array((SEP_all[0],SEP_all[1]))\n",
    "    SEP_ERR = np.array((SEP_ERR_all[0],SEP_ERR_all[1]))\n",
    "    \n",
    "if target == 'HD85512' and 0: \n",
    "    EPOCH = EPOCH.flatten()\n",
    "    RA  = RA.flatten()\n",
    "    DEC = DEC.flatten()\n",
    "    RA_ERR  = RA_ERR.flatten()\n",
    "    DEC_ERR = DEC_ERR.flatten()\n",
    "    SEP  = SEP.flatten()\n",
    "    SEP_ERR = SEP_ERR.flatten()\n",
    "    \n",
    "    EPOCH = np.array([EPOCH]).transpose()\n",
    "    RA  = np.array([RA]).transpose()\n",
    "    DEC = np.array([DEC]).transpose()\n",
    "    RA_ERR  = np.array([RA_ERR]).transpose()\n",
    "    DEC_ERR = np.array([DEC_ERR]).transpose()\n",
    "    SEP  = np.array([SEP]).transpose()\n",
    "    SEP_ERR = np.array([SEP_ERR]).transpose()\n",
    "    \n",
    "    RA[3,0] = -RA[3,0]\n",
    "    \n",
    "elif target == 'GJ832' :    \n",
    "    EPOCH = np.array([EPOCH_all]).transpose()\n",
    "    RA  = np.array([RA_all]).transpose()\n",
    "    DEC = np.array([DEC_all]).transpose()\n",
    "    RA_ERR  = np.array([RA_ERR_all]).transpose()\n",
    "    DEC_ERR = np.array([DEC_ERR_all]).transpose()\n",
    "    SEP  = np.array([SEP_all]).transpose()\n",
    "    SEP_ERR = np.array([SEP_ERR_all]).transpose()\n",
    "    PA  = np.array([SEP_all]).transpose()\n",
    "    PA_ERR = np.array([SEP_ERR_all]).transpose()\n",
    "    \n",
    "print('RA:\\n', RA , '\\nDEC:\\n', DEC)"
   ]
  },
  {
   "cell_type": "markdown",
   "metadata": {},
   "source": [
    "### Plot these detections on the PMD\n",
    "\n",
    "#### Declination vs Right Ascension"
   ]
  },
  {
   "cell_type": "code",
   "execution_count": 117,
   "metadata": {},
   "outputs": [
    {
     "name": "stdout",
     "output_type": "stream",
     "text": [
      "['2017-04-01' '2017-04-01' '2017-04-01' '2017-12-30' '2017-12-30'\n",
      " '2017-12-30']\n"
     ]
    }
   ],
   "source": [
    "dates = EPOCH_all[:6]\n",
    "dra   = \n",
    "dra_err\n",
    "ddec\n",
    "ddec_err\n",
    "print(dates)\n",
    "\n",
    "#\n",
    "ddec     = [DEC[i][0] for i in range(n_epochs)]"
   ]
  },
  {
   "cell_type": "code",
   "execution_count": 222,
   "metadata": {},
   "outputs": [
    {
     "data": {
      "text/plain": [
       "[-286.97, -325.23]"
      ]
     },
     "execution_count": 222,
     "metadata": {},
     "output_type": "execute_result"
    }
   ],
   "source": [
    "dra"
   ]
  },
  {
   "cell_type": "code",
   "execution_count": null,
   "metadata": {},
   "outputs": [],
   "source": []
  },
  {
   "cell_type": "code",
   "execution_count": null,
   "metadata": {},
   "outputs": [],
   "source": []
  },
  {
   "cell_type": "code",
   "execution_count": 299,
   "metadata": {
    "scrolled": true
   },
   "outputs": [
    {
     "data": {
      "image/png": "[encoded data removed]",
      "text/plain": [
       "<Figure size 1360x640 with 3 Axes>"
      ]
     },
     "metadata": {},
     "output_type": "display_data"
    }
   ],
   "source": [
    "n_epochs = 2 #EPOCH.shape[0]\n",
    "'''\n",
    "target   = target\n",
    "dates    = [EPOCH[i][0] for i in range(n_epochs)]\n",
    "dra      = [RA[i][0] for i in range(n_epochs)]\n",
    "dra_err  = [RA_ERR[i][0] for i in range(n_epochs)]\n",
    "ddec     = [DEC[i][0] for i in range(n_epochs)]\n",
    "ddec_err = [DEC_ERR[i][0] for i in range(n_epochs)]\n",
    "'''\n",
    "\n",
    "dates    = [dates_ref_bkg[0][0],dates_bkg[0][0]]\n",
    "dra      = [12.25*ra_ref_bkg[0][0],12.25*ra_bkg[0][0]]\n",
    "dra_err  = [ra_err_ref_bkg[0][0],ra_err_bkg[0][0]]\n",
    "ddec     = [12.25*dec_ref_bkg[0][0],12.25*dec_bkg[0][0]]\n",
    "ddec_err = [dec_err_ref_bkg[0][0],dec_err_bkg[0][0]]\n",
    "\n",
    "cond_select_obj = (target==dF_prop['target name'])\n",
    "plx = float(dF_prop[cond_select_obj]['parallax'])\n",
    "plx_err = float(dF_prop[cond_select_obj]['err parallax'])\n",
    "dist = float(dF_prop[cond_select_obj]['distance'])\n",
    "dist_err = plx_err/plx**2\n",
    "\n",
    "\n",
    "# load some properties of the star from Simbad\n",
    "result_table_names = customSimbad.query_object(target)\n",
    "\n",
    "pm_err_star = np.max([result_table_names['PM_ERR_MAJA'][0],result_table_names['PM_ERR_MINA'][0]])\n",
    "prop = {\n",
    "    'ra': result_table_names['RA'][0],\n",
    "    'dec': result_table_names['DEC'][0],\n",
    "    'dist': dist,\n",
    "    'dist_err': dist_err,\n",
    "    'plx': plx,\n",
    "    'plx_err': plx_err,\n",
    "    'pm': [result_table_names['PMRA'][0],result_table_names['PMDEC'][0]],\n",
    "    'pm_err': [pm_err_star,pm_err_star],\n",
    "    #'pm_bkg': [-20, -30],\n",
    "    #'pm_bkg_err': [6.5, 5.8]\n",
    "}\n",
    "\n",
    "fig, ax, RA_track, DEC_track, RA_expected_bkg, DEC_expected_bkg = proper_motion.plots(target, dates, \n",
    "                        dra, dra_err, ddec, ddec_err, prop, \n",
    "                        legend_loc=0, return_tracks=1, return_expected_positions=1)\n",
    "mise_en_page(ax)\n",
    "plt.savefig('PMD_{}_overview_{}epochs.pdf'.format(target,n_epochs))"
   ]
  },
  {
   "cell_type": "code",
   "execution_count": 285,
   "metadata": {},
   "outputs": [
    {
     "data": {
      "text/plain": [
       "array([-212.51 ,  462.03 , -501.83 , -424.68 ,  151.51 , -110.32 ,\n",
       "         80.65 , -116.65 ,   43.92 ,  416.12 ,   84.75 ,  296.85 ,\n",
       "       -344.25 ,  -91.5  , -254.3  , -194.68 ,  291.5  ,   -9.42 ,\n",
       "        214.22 ,   18.96 , -144.09 , -311.66 , -381.87 ,  173.817,\n",
       "        174.985,  -22.129,  288.31 ])"
      ]
     },
     "execution_count": 285,
     "metadata": {},
     "output_type": "execute_result"
    }
   ],
   "source": [
    "ra1"
   ]
  },
  {
   "cell_type": "code",
   "execution_count": null,
   "metadata": {},
   "outputs": [],
   "source": []
  },
  {
   "cell_type": "markdown",
   "metadata": {},
   "source": [
    "#### Use a reference epoch to plot difference in relative declination vs difference in relative right ascension"
   ]
  },
  {
   "cell_type": "code",
   "execution_count": 312,
   "metadata": {},
   "outputs": [],
   "source": [
    "#Parameters plot\n",
    "color_background = 'blue'\n",
    "color_detection = [[0.9,0.8,0],'red', 'teal', 'orange', 'purple', 'magenta',  [0.9,0.8,0], 'navy', [0.4,0.4,1], [0.2,1,0.2], [0.5,1,0.5],  'cyan', [0,0,0.5],  [0.5,0,0],  [0.9,0.5,0.9],  [0.2,0.8,1], [0.5,0.5,0.5] , 'forestgreen']"
   ]
  },
  {
   "cell_type": "code",
   "execution_count": 313,
   "metadata": {},
   "outputs": [
    {
     "data": {
      "text/plain": [
       "18"
      ]
     },
     "execution_count": 313,
     "metadata": {},
     "output_type": "execute_result"
    }
   ],
   "source": [
    "len(color_detection)"
   ]
  },
  {
   "cell_type": "code",
   "execution_count": null,
   "metadata": {},
   "outputs": [],
   "source": []
  },
  {
   "cell_type": "code",
   "execution_count": null,
   "metadata": {},
   "outputs": [],
   "source": []
  },
  {
   "cell_type": "code",
   "execution_count": null,
   "metadata": {},
   "outputs": [],
   "source": []
  },
  {
   "cell_type": "code",
   "execution_count": 314,
   "metadata": {},
   "outputs": [
    {
     "data": {
      "text/plain": [
       "array(['2017-06-23', '2017-07-20'], dtype='<U10')"
      ]
     },
     "execution_count": 314,
     "metadata": {},
     "output_type": "execute_result"
    }
   ],
   "source": [
    "EPOCH"
   ]
  },
  {
   "cell_type": "code",
   "execution_count": 315,
   "metadata": {},
   "outputs": [],
   "source": [
    "RA = np.array([ra_ref_bkg[0][0],ra_bkg[0][0]])*12.25\n",
    "DEC = np.array([dec_ref_bkg[0][0],dec_bkg[0][0]])*12.25"
   ]
  },
  {
   "cell_type": "code",
   "execution_count": 316,
   "metadata": {},
   "outputs": [],
   "source": [
    "EPOCH = np.array(dates)"
   ]
  },
  {
   "cell_type": "code",
   "execution_count": null,
   "metadata": {},
   "outputs": [],
   "source": []
  },
  {
   "cell_type": "markdown",
   "metadata": {},
   "source": [
    "- More than 1 candidate and than 1 epoch"
   ]
  },
  {
   "cell_type": "code",
   "execution_count": 317,
   "metadata": {},
   "outputs": [
    {
     "name": "stdout",
     "output_type": "stream",
     "text": [
      "1\n",
      "1\n"
     ]
    },
    {
     "data": {
      "image/png": "[encoded data removed]",
      "text/plain": [
       "<Figure size 400x336 with 2 Axes>"
      ]
     },
     "metadata": {},
     "output_type": "display_data"
    }
   ],
   "source": [
    "n_epochs = EPOCH.shape[0] ; n_candidates=1\n",
    "xlab = r'$\\Delta \\alpha_{ref} - \\Delta \\alpha$ (mas)'\n",
    "ylab = r'$\\Delta \\delta_{ref} - \\Delta \\delta$ (mas)'\n",
    "target   = target\n",
    "dates    = EPOCH\n",
    "dra      = RA[1:]\n",
    "dra_err  = [0]\n",
    "ddec     = DEC[1:]\n",
    "ddec_err = [0]\n",
    "\n",
    "dra_ref      = RA[0]\n",
    "dra_err_ref  = [0]\n",
    "ddec_ref     = DEC[0]\n",
    "ddec_err_ref = [0]\n",
    "\n",
    "cond_select_obj = (target==dF_prop['target name'])\n",
    "plx = float(dF_prop[cond_select_obj]['parallax'])\n",
    "plx_err = float(dF_prop[cond_select_obj]['err parallax'])\n",
    "dist = float(dF_prop[cond_select_obj]['distance'])\n",
    "dist_err = plx_err/plx**2\n",
    "\n",
    "\n",
    "fig, ax = plt.subplots(1,1,figsize=(5,4.2))\n",
    "fig.subplots_adjust(left=0.18,bottom=0.13,top=0.97,right=0.95)\n",
    "loc = 'upper left' ; add_zoom_text = '' ; marker_epoch = None\n",
    "yfin_leg = 8000 ; ydeb_leg = -1e4 ; xdeb_leg = 1e4\n",
    "color=color_detection ; label = ''\n",
    "add_candidate = 0\n",
    "\n",
    "axes2_xdeb,axes2_ydeb, axes2_xlong,axes2_ylong = 0.67, 0.45, 0.22, 0.22\n",
    "\n",
    "\n",
    "# special cases : refined images providing the system\n",
    "if target == 'GJ422' and n_epochs==3:\n",
    "    xlim, ylim =  [600,-5700], [-600,3000] ; yfin_leg = 1800 #; loc = 'lower left'\n",
    "    mise_en_page(ax,x_step=1,y_step=1,x_maj_step=1000, x_min_step=200, y_maj_step=1000, y_min_step=200)\n",
    "    marker_epoch = ['o','d']\n",
    "    add_candidate = 1\n",
    "    add_zoom = 1\n",
    "    xlim_zoom, ylim_zoom =  [-4400,-4500], [2150,2300] ;\n",
    "    x_step_zoom=1; y_step_zoom=1 \n",
    "    x_maj_step_zoom=50; x_min_step_zoom=10; y_maj_step_zoom=50; y_min_step_zoom=10\n",
    "    axes2_xdeb,axes2_ydeb, axes2_xlong,axes2_ylong = 0.67, 0.45, 0.22, 0.22\n",
    "    add_zoom_2 = 1\n",
    "    axes2_xdeb2,axes2_ydeb2, axes2_xlong2,axes2_ylong2 = 0.67, 0.18, 0.22, 0.22\n",
    "    xlim_zoom2, ylim_zoom2 =  [-4800,-4900], [2300,2400]\n",
    "\n",
    "elif target == 'GJ682' and n_epochs==2:\n",
    "    mise_en_page(ax,x_step=1,y_step=1,x_maj_step=50, x_min_step=10, y_maj_step=50, y_min_step=10)\n",
    "    marker_epoch = ['o','d']\n",
    "    xlim, ylim =  [20, -200], [-100,20] ; ydeb_leg = -1650 ; loc = 'lower left'\n",
    "    add_zoom = 1 \n",
    "    xlim_zoom, ylim_zoom =   [-120,-150], [-70,-40] ;\n",
    "    x_step_zoom=1; y_step_zoom=1\n",
    "    x_maj_step_zoom=20; x_min_step_zoom=5; y_maj_step_zoom=20; y_min_step_zoom=5\n",
    "    axes2_xdeb,axes2_ydeb, axes2_xlong,axes2_ylong = 0.68, 0.69, 0.22, 0.22\n",
    "    add_zoom_2 = 0\n",
    "    axes2_xdeb2,axes2_ydeb2, axes2_xlong2,axes2_ylong2 = 0.68, 0.38, 0.22, 0.22\n",
    "    xlim_zoom2, ylim_zoom2 =  [-1440,-1490], [-1920,-1860] ;\n",
    "    \n",
    "elif target == 'GJ682' and n_epochs==3:\n",
    "    mise_en_page(ax,x_step=1,y_step=1,x_maj_step=500, x_min_step=100, y_maj_step=500, y_min_step=100)\n",
    "    marker_epoch = ['o','d']\n",
    "    xlim, ylim =  [200, -2000], [-2200,200] ; ydeb_leg = -1650 ; loc = 'lower left'\n",
    "    add_zoom = 1 \n",
    "    xlim_zoom, ylim_zoom =  [-120,-160], [-70,-35] ;\n",
    "    x_step_zoom=1; y_step_zoom=1\n",
    "    x_maj_step_zoom=20; x_min_step_zoom=5; y_maj_step_zoom=20; y_min_step_zoom=5\n",
    "    axes2_xdeb,axes2_ydeb, axes2_xlong,axes2_ylong = 0.68, 0.69, 0.22, 0.22\n",
    "    add_zoom_2 = 1\n",
    "    axes2_xdeb2,axes2_ydeb2, axes2_xlong2,axes2_ylong2 = 0.68, 0.38, 0.22, 0.22\n",
    "    xlim_zoom2, ylim_zoom2 =  [-1440,-1490], [-1920,-1860] ;\n",
    "    \n",
    "    \n",
    "elif target == 'HD85512':\n",
    "    mise_en_page(ax,x_step=1,y_step=1,x_maj_step=500, x_min_step=100, y_maj_step=500, y_min_step=100)\n",
    "    marker_epoch = ['o','o','o','o']\n",
    "    xlim, ylim =  [1500,-500], [-1500,200] ; xdeb_leg = 550#; ydeb_leg = -1500 ; loc = 'lower left'\n",
    "    add_zoom = 0\n",
    "    xlim_zoom, ylim_zoom =  [1395,1370], [-1370,-1250] ;\n",
    "    x_step_zoom=1; y_step_zoom=1\n",
    "    x_maj_step_zoom=10; x_min_step_zoom=5; y_maj_step_zoom=50; y_min_step_zoom=10\n",
    "    axes2_xdeb,axes2_ydeb, axes2_xlong,axes2_ylong = 0.68, 0.46, 0.22, 0.22\n",
    "    add_zoom_2 = 0\n",
    "    axes2_xdeb2,axes2_ydeb2, axes2_xlong2,axes2_ylong2 = 0.68, 0.18, 0.22, 0.22\n",
    "    xlim_zoom2, ylim_zoom2 =  [475,460], [-400,-350] ;\n",
    "    \n",
    "elif target == 'HD154088':\n",
    "    xlim, ylim =  [400,-100], [-1200,150] ; xdeb_leg = 70\n",
    "    marker_epoch = ['o','d']\n",
    "    mise_en_page(ax,x_step=1,y_step=1,x_maj_step=50, x_min_step=10, y_maj_step=100, y_min_step=20)\n",
    "    add_zoom = 1\n",
    "    xlim_zoom, ylim_zoom =  [170,110], [-590,-530] ;\n",
    "    x_step_zoom=1; y_step_zoom=1\n",
    "    x_maj_step_zoom=40; x_min_step_zoom=10; y_maj_step_zoom=40; y_min_step_zoom=10\n",
    "    axes2_xdeb,axes2_ydeb, axes2_xlong,axes2_ylong = 0.68, 0.48, 0.22, 0.22 \n",
    "    add_zoom_2 = 1\n",
    "    axes2_xdeb2,axes2_ydeb2, axes2_xlong2,axes2_ylong2 = 0.68, 0.2, 0.22, 0.22\n",
    "    xlim_zoom2, ylim_zoom2 =  [380,280], [-1110,-1030] ;\n",
    "\n",
    "# add background track\n",
    "ax.plot(RA_track,DEC_track,label='bkg star w/o pm',color=color_background)\n",
    "\n",
    "# add detections for each epoch\n",
    "for t in range(1,n_epochs):\n",
    "    print(t) #here\n",
    "    XRA, YDEC = [RA[0]-RA[t]], [DEC[0]-DEC[t]]\n",
    "    XRA_ERR, YDEC_ERR = [8]*3,[6]*3\n",
    "    \n",
    "    if 0 :\n",
    "        # ERRORBARS: define global error budget in RA, DEC\n",
    "        # add the pupil offset error of theta = 0.1 deg; depends on sep (separation) and differs for ra/dec\n",
    "        RA_ERR_PUPIL  = np.sqrt( (np.sin(theta)*SEP_ERR)**2 + (SEP*np.cos(theta)*theta_err)**2 ) #+ (np.sin(theta)*SEP_ERR[1])**2 + [SEP[1]*np.cos(theta)*theta_err]**2 )   \n",
    "        DEC_ERR_PUPIL = np.sqrt( (np.cos(theta)*SEP_ERR)**2 + (SEP*np.sin(theta)*theta_err)**2 )  #+ (np.cos(theta)*SEP_ERR[1])**2 + [SEP[1]*np.sin(theta)*theta_err]**2 )   \n",
    "        # global budget\n",
    "        XRA_ERR  = np.sqrt(RA_ERR[0]**2+RA_ERR[t]**2+RA_ERR_PUPIL[0]**2+RA_ERR_PUPIL[t]**2)\n",
    "        YDEC_ERR =  np.sqrt(DEC_ERR[0]**2+DEC_ERR[t]**2+DEC_ERR_PUPIL[0]**2+DEC_ERR_PUPIL[t]**2)\n",
    "\n",
    "    for i in range(n_candidates):\n",
    "        if t == 1 and add_candidate : label = 'candidate {}'.format(i+1)\n",
    "        #ax.text(500,100,text,fontsize=12)\n",
    "        \n",
    "        ax.errorbar(XRA[i],YDEC[i],YDEC_ERR[i],XRA_ERR[i],label=label,\n",
    "                marker=marker_epoch[t-1],color=color[i],lw=0, elinewidth=1, zorder=10)\n",
    "    # add epochs in leg\n",
    "    ax.plot([5e5,5e5],[5e5,5e5],color='black',marker=marker_epoch[t-1],lw=0,label='{} - {}'.format(EPOCH[0],EPOCH[1]))\n",
    "    label = ''\n",
    "    \n",
    "\n",
    "# add [0,0] reference lines\n",
    "ax.legend(loc=loc,frameon=False,numpoints=1)\n",
    "ax.plot([0,0],[ydeb_leg,yfin_leg],ls=':',color='black')\n",
    "fais_moi_un_subplot(ax,[xdeb_leg,-1e4],[0,0],ls=':',c='black',labx=xlab,laby=ylab)\n",
    "plt.axis([xlim[0], xlim[1], ylim[0], ylim[1]])\n",
    "#plt.gca().set_aspect('equal', adjustable='box')\n",
    "#mise_en_page(ax,x_step=1,y_step=1,x_maj_step=100, x_min_step=20, y_maj_step=100, y_min_step=20)\n",
    "\n",
    "# add second small plot\n",
    "if add_zoom :\n",
    "    add_zoom_text = '_zoom'\n",
    "    axes2 = fig.add_axes([axes2_xdeb,axes2_ydeb, axes2_xlong,axes2_ylong]) # renvoie un objet Axes       \n",
    "    #axes2.axis('equal')         \n",
    "    axes2.patch.set_color([0.99,0.99,0.99])\n",
    "    fais_moi_un_subplot(axes2,RA_track,DEC_track,c=color_background,fs=10,ls='-') #labx=xlab,laby=ylab\n",
    "    # add detections for each epoch\n",
    "    for t in range(1,n_epochs):\n",
    "        print(t)\n",
    "        XRA, YDEC = [RA[0]-RA[t]], [DEC[0]-DEC[t]]\n",
    "        \n",
    "         \n",
    "        for i in range(n_candidates):\n",
    "            axes2.errorbar(XRA[i],YDEC[i],YDEC_ERR[i],XRA_ERR[i],label=label,\n",
    "                    marker=marker_epoch[t-1],color=color[i],lw=0, elinewidth=1, zorder=10)\n",
    "    axes2.axis([xlim_zoom[0], xlim_zoom[1], ylim_zoom[0], ylim_zoom[1]])\n",
    "    if target == 'GJ422' and n_epochs == 3 :\n",
    "        yti_old = [2150,2200,2250,2300]\n",
    "        yti_new = ['$2150$','$2200$','$2250$','$2300$']\n",
    "        plt.setp(axes2, yticks=yti_old, yticklabels=yti_new)\n",
    "    mise_en_page(axes2,x_step=x_step_zoom,y_step=y_step_zoom,x_maj_step=x_maj_step_zoom, x_min_step=x_min_step_zoom, y_maj_step=y_maj_step_zoom, y_min_step=y_min_step_zoom)\n",
    "\n",
    "plt.savefig('PMD_{}_2epochs{}.pdf'.format(target,add_zoom_text))\n",
    "plt.savefig('PMD_{}_2epochs{}.png'.format(target,add_zoom_text))"
   ]
  },
  {
   "cell_type": "code",
   "execution_count": 273,
   "metadata": {},
   "outputs": [
    {
     "data": {
      "text/plain": [
       "'GJ682'"
      ]
     },
     "execution_count": 273,
     "metadata": {},
     "output_type": "execute_result"
    }
   ],
   "source": [
    "target"
   ]
  },
  {
   "cell_type": "code",
   "execution_count": null,
   "metadata": {},
   "outputs": [],
   "source": []
  },
  {
   "cell_type": "code",
   "execution_count": null,
   "metadata": {},
   "outputs": [],
   "source": []
  },
  {
   "cell_type": "code",
   "execution_count": 269,
   "metadata": {},
   "outputs": [],
   "source": [
    "\n",
    "def fais_moi_un_subplot(ax,X,Y,labx='',laby='',tit='',xlim=None,ylim=None,xlog=False,ylog=False,\n",
    "                        xti_old=None,xti_new=None,yti_old=None,yti_new=None,dx=0,dy=0,grid_maj=0,fs='',\n",
    "                        superpo=False,lab='',leg=False,loc=0,c=[0,0,1],lw=1,ls='dotted',siz='3',mkr=None):\n",
    "\n",
    "    if dx != 0 or dy != 0 :\n",
    "        ax.errorbar(X,Y,dy,dx,mkr,markersize=siz,label=lab,c=c)\n",
    "    elif mkr != None :\n",
    "        ax.plot(X,Y,color=c,ls=ls,marker=mkr,ms=siz,label=lab,lw=lw)\n",
    "    else :\n",
    "        ax.plot(X,Y,color=c,ls=ls,ms=10,label=lab,lw=lw)\n",
    "    if xti_new != xti_old:\n",
    "        plt.setp(ax, xticks=xti_old, xticklabels=xti_new)\n",
    "    if yti_new != yti_old:\n",
    "        plt.setp(ax, yticks=yti_old, yticklabels=yti_new)\n",
    "    if xlog : ax.set_xscale('log')\n",
    "    if ylog : ax.set_yscale('log')\n",
    "    if leg : plt.legend(loc=loc)\n",
    "    if xlim != None : ax.set_xlim(xlim)\n",
    "    if ylim != None : ax.set_ylim(ylim)\n",
    "    mise_en_page(ax,x_min_step=0.2,x_maj_step=1,y_maj_step=1,y_min_step=0.2, x_step=0, y_step=0, grid_maj=grid_maj, grid_min=0)\n",
    "    ax.set_xlabel(labx)\n",
    "    ax.set_ylabel(laby)\n",
    "    ax.set_title(tit)\n",
    "    return"
   ]
  },
  {
   "cell_type": "code",
   "execution_count": null,
   "metadata": {},
   "outputs": [],
   "source": []
  },
  {
   "cell_type": "code",
   "execution_count": 264,
   "metadata": {},
   "outputs": [
    {
     "data": {
      "text/plain": [
       "-132.2142500000001"
      ]
     },
     "execution_count": 264,
     "metadata": {},
     "output_type": "execute_result"
    }
   ],
   "source": [
    "XRA"
   ]
  },
  {
   "cell_type": "code",
   "execution_count": null,
   "metadata": {},
   "outputs": [],
   "source": []
  },
  {
   "cell_type": "code",
   "execution_count": null,
   "metadata": {},
   "outputs": [],
   "source": []
  },
  {
   "cell_type": "code",
   "execution_count": 15,
   "metadata": {},
   "outputs": [
    {
     "name": "stdout",
     "output_type": "stream",
     "text": [
      "1\n"
     ]
    },
    {
     "data": {
      "image/png": "[encoded data removed]",
      "text/plain": [
       "<Figure size 400x400 with 1 Axes>"
      ]
     },
     "metadata": {},
     "output_type": "display_data"
    }
   ],
   "source": [
    "n_epochs = EPOCH.shape[0] ; n_candidates = EPOCH.shape[1]\n",
    "xlab = r'$\\Delta \\alpha_{ref} - \\Delta \\alpha$ (mas)'\n",
    "ylab = r'$\\Delta \\delta_{ref} - \\Delta \\delta$ (mas)'\n",
    "target   = target\n",
    "dates    = EPOCH\n",
    "dra      = RA[1:]\n",
    "dra_err  = [0]\n",
    "ddec     = DEC[1:]\n",
    "ddec_err = [0]\n",
    "\n",
    "dra_ref      = RA[0]\n",
    "dra_err_ref  = [0]\n",
    "ddec_ref     = DEC[0]\n",
    "ddec_err_ref = [0]\n",
    "\n",
    "cond_select_obj = (target==dF_prop['target name'])\n",
    "plx = float(dF_prop[cond_select_obj]['parallax'])\n",
    "plx_err = float(dF_prop[cond_select_obj]['err parallax'])\n",
    "dist = float(dF_prop[cond_select_obj]['distance'])\n",
    "dist_err = plx_err/plx**2\n",
    "\n",
    "\n",
    "fig, ax = plt.subplots(1,1,figsize=(5,5))\n",
    "fig.subplots_adjust(left=0.18,bottom=0.11,top=0.97,right=0.95)\n",
    "loc = 'upper left' ; add_zoom_text = '' ; marker_epoch = None\n",
    "yfin_leg = 8000 ; ydeb_leg = -1e4 ; xdeb_leg = 1e4\n",
    "color=color_detection ; label = ''\n",
    "add_candidate = 0\n",
    "\n",
    "axes2_xdeb,axes2_ydeb, axes2_xlong,axes2_ylong = 0.67, 0.45, 0.22, 0.22\n",
    "\n",
    "\n",
    "# special cases : refined images providing the system\n",
    "if target == 'GJ422' and n_epochs==3:\n",
    "    xlim, ylim =  [600,-5700], [-600,3000] ; yfin_leg = 1800 #; loc = 'lower left'\n",
    "    mise_en_page(ax,x_step=1,y_step=1,x_maj_step=1000, x_min_step=200, y_maj_step=1000, y_min_step=200)\n",
    "    marker_epoch = ['o','d']\n",
    "    add_candidate = 1\n",
    "    add_zoom = 1\n",
    "    xlim_zoom, ylim_zoom =  [-4400,-4500], [2150,2300] ;\n",
    "    x_step_zoom=1; y_step_zoom=1 \n",
    "    x_maj_step_zoom=50; x_min_step_zoom=10; y_maj_step_zoom=50; y_min_step_zoom=10\n",
    "    axes2_xdeb,axes2_ydeb, axes2_xlong,axes2_ylong = 0.67, 0.45, 0.22, 0.22\n",
    "    add_zoom_2 = 1\n",
    "    axes2_xdeb2,axes2_ydeb2, axes2_xlong2,axes2_ylong2 = 0.67, 0.18, 0.22, 0.22\n",
    "    xlim_zoom2, ylim_zoom2 =  [-4800,-4900], [2300,2400]\n",
    "\n",
    "    \n",
    "elif target == 'GJ682' and n_epochs==3:\n",
    "    mise_en_page(ax,x_step=1,y_step=1,x_maj_step=500, x_min_step=100, y_maj_step=500, y_min_step=100)\n",
    "    marker_epoch = ['o','d']\n",
    "    xlim, ylim =  [200, -2000], [-2200,200] ; ydeb_leg = -1650 ; loc = 'lower left'\n",
    "    add_zoom = 1 \n",
    "    xlim_zoom, ylim_zoom =  [-120,-160], [-70,-35] ;\n",
    "    x_step_zoom=1; y_step_zoom=1\n",
    "    x_maj_step_zoom=20; x_min_step_zoom=5; y_maj_step_zoom=20; y_min_step_zoom=5\n",
    "    axes2_xdeb,axes2_ydeb, axes2_xlong,axes2_ylong = 0.68, 0.69, 0.22, 0.22\n",
    "    add_zoom_2 = 1\n",
    "    axes2_xdeb2,axes2_ydeb2, axes2_xlong2,axes2_ylong2 = 0.68, 0.38, 0.22, 0.22\n",
    "    xlim_zoom2, ylim_zoom2 =  [-1440,-1490], [-1920,-1860] ;\n",
    "    \n",
    "    \n",
    "elif target == 'HD85512':\n",
    "    mise_en_page(ax,x_step=1,y_step=1,x_maj_step=500, x_min_step=100, y_maj_step=500, y_min_step=100)\n",
    "    marker_epoch = ['o','o','o','o']\n",
    "    xlim, ylim =  [1500,-500], [-1500,200] ; xdeb_leg = 550#; ydeb_leg = -1500 ; loc = 'lower left'\n",
    "    add_zoom = 0\n",
    "    xlim_zoom, ylim_zoom =  [1395,1370], [-1370,-1250] ;\n",
    "    x_step_zoom=1; y_step_zoom=1\n",
    "    x_maj_step_zoom=10; x_min_step_zoom=5; y_maj_step_zoom=50; y_min_step_zoom=10\n",
    "    axes2_xdeb,axes2_ydeb, axes2_xlong,axes2_ylong = 0.68, 0.46, 0.22, 0.22\n",
    "    add_zoom_2 = 0\n",
    "    axes2_xdeb2,axes2_ydeb2, axes2_xlong2,axes2_ylong2 = 0.68, 0.18, 0.22, 0.22\n",
    "    xlim_zoom2, ylim_zoom2 =  [475,460], [-400,-350] ;\n",
    "    \n",
    "elif target == 'HD154088':\n",
    "    xlim, ylim =  [400,-100], [-1200,150] ; xdeb_leg = 70\n",
    "    marker_epoch = ['o','d']\n",
    "    mise_en_page(ax,x_step=1,y_step=1,x_maj_step=50, x_min_step=10, y_maj_step=100, y_min_step=20)\n",
    "    add_zoom = 1\n",
    "    xlim_zoom, ylim_zoom =  [170,110], [-590,-530] ;\n",
    "    x_step_zoom=1; y_step_zoom=1\n",
    "    x_maj_step_zoom=40; x_min_step_zoom=10; y_maj_step_zoom=40; y_min_step_zoom=10\n",
    "    axes2_xdeb,axes2_ydeb, axes2_xlong,axes2_ylong = 0.68, 0.48, 0.22, 0.22 \n",
    "    add_zoom_2 = 1\n",
    "    axes2_xdeb2,axes2_ydeb2, axes2_xlong2,axes2_ylong2 = 0.68, 0.2, 0.22, 0.22\n",
    "    xlim_zoom2, ylim_zoom2 =  [380,280], [-1110,-1030] ;\n",
    "\n",
    "# add background track\n",
    "ax.plot(RA_track,DEC_track,label='bkg star w/o pm',color=color_background)\n",
    "\n",
    "# add detections for each epoch\n",
    "for t in range(1,n_epochs):\n",
    "    print(t)\n",
    "    XRA, YDEC = RA[0]-RA[t], DEC[0]-DEC[t]\n",
    "    \n",
    "    # ERRORBARS: define global error budget in RA, DEC\n",
    "    # add the pupil offset error of theta = 0.1 deg; depends on sep (separation) and differs for ra/dec\n",
    "    RA_ERR_PUPIL  = np.sqrt( (np.sin(theta)*SEP_ERR)**2 + (SEP*np.cos(theta)*theta_err)**2 ) #+ (np.sin(theta)*SEP_ERR[1])**2 + [SEP[1]*np.cos(theta)*theta_err]**2 )   \n",
    "    DEC_ERR_PUPIL = np.sqrt( (np.cos(theta)*SEP_ERR)**2 + (SEP*np.sin(theta)*theta_err)**2 )  #+ (np.cos(theta)*SEP_ERR[1])**2 + [SEP[1]*np.sin(theta)*theta_err]**2 )   \n",
    "    # global budget\n",
    "    XRA_ERR  = np.sqrt(RA_ERR[0]**2+RA_ERR[t]**2+RA_ERR_PUPIL[0]**2+RA_ERR_PUPIL[t]**2)\n",
    "    YDEC_ERR =  np.sqrt(DEC_ERR[0]**2+DEC_ERR[t]**2+DEC_ERR_PUPIL[0]**2+DEC_ERR_PUPIL[t]**2)\n",
    "\n",
    "    for i in range(n_candidates):\n",
    "        if t == 1 and add_candidate : label = 'candidate {}'.format(i+1)\n",
    "        #ax.text(500,100,text,fontsize=12)\n",
    "        ax.errorbar(XRA[i],YDEC[i],YDEC_ERR[i],XRA_ERR[i],label=label,\n",
    "                marker=marker_epoch[t-1],color=color[i],lw=0, elinewidth=1, zorder=10)\n",
    "    # add epochs in leg\n",
    "    ax.plot([5e5,5e5],[5e5,5e5],color='black',marker=marker_epoch[t-1],lw=0,label='{} - {}'.format(EPOCH[0,0],EPOCH[t,0]))\n",
    "    label = ''\n",
    "    \n",
    "\n",
    "# add [0,0] reference lines\n",
    "ax.legend(loc=loc,frameon=False,numpoints=1)\n",
    "ax.plot([0,0],[ydeb_leg,yfin_leg],ls=':',color='black')\n",
    "fais_moi_un_subplot(ax,[xdeb_leg,-1e4],[0,0],ls=':',c='black',labx=xlab,laby=ylab)\n",
    "plt.axis([xlim[0], xlim[1], ylim[0], ylim[1]])\n",
    "#plt.gca().set_aspect('equal', adjustable='box')\n",
    "#mise_en_page(ax,x_step=1,y_step=1,x_maj_step=100, x_min_step=20, y_maj_step=100, y_min_step=20)\n",
    "\n",
    "# add second small plot\n",
    "if add_zoom :\n",
    "    add_zoom_text = '_zoom'\n",
    "    axes2 = fig.add_axes([axes2_xdeb,axes2_ydeb, axes2_xlong,axes2_ylong]) # renvoie un objet Axes       \n",
    "    #axes2.axis('equal')         \n",
    "    axes2.patch.set_color([0.99,0.99,0.99])\n",
    "    fais_moi_un_subplot(axes2,RA_track,DEC_track,c=color_background,fs=10,ls='-') #labx=xlab,laby=ylab\n",
    "    # add detections for each epoch\n",
    "    for t in range(1,n_epochs):\n",
    "        print(t)\n",
    "        XRA, YDEC = RA[0]-RA[t], DEC[0]-DEC[t]\n",
    "        \n",
    "        # ERRORBARS: define global error budget in RA, DEC\n",
    "        # add the pupil offset error of theta = 0.1 deg; depends on sep (separation) and differs for ra/dec\n",
    "        RA_ERR_PUPIL  = np.sqrt( (np.sin(theta)*SEP_ERR)**2 + (SEP*np.cos(theta)*theta_err)**2 ) #+ (np.sin(theta)*SEP_ERR[1])**2 + [SEP[1]*np.cos(theta)*theta_err]**2 )   \n",
    "        DEC_ERR_PUPIL = np.sqrt( (np.cos(theta)*SEP_ERR)**2 + (SEP*np.sin(theta)*theta_err)**2 )  #+ (np.cos(theta)*SEP_ERR[1])**2 + [SEP[1]*np.sin(theta)*theta_err]**2 )   \n",
    "        # global budget\n",
    "        XRA_ERR  = np.sqrt(RA_ERR[0]**2+RA_ERR[t]**2+RA_ERR_PUPIL[0]**2+RA_ERR_PUPIL[t]**2)\n",
    "        YDEC_ERR =  np.sqrt(DEC_ERR[0]**2+DEC_ERR[t]**2+DEC_ERR_PUPIL[0]**2+DEC_ERR_PUPIL[t]**2)\n",
    "         \n",
    "        for i in range(n_candidates):\n",
    "            axes2.errorbar(XRA[i],YDEC[i],YDEC_ERR[i],XRA_ERR[i],label=label,\n",
    "                    marker=marker_epoch[t-1],color=color[i],lw=0, elinewidth=1, zorder=10)\n",
    "    axes2.axis([xlim_zoom[0], xlim_zoom[1], ylim_zoom[0], ylim_zoom[1]])\n",
    "    if target == 'GJ422' and n_epochs == 3 :\n",
    "        yti_old = [2150,2200,2250,2300]\n",
    "        yti_new = ['$2150$','$2200$','$2250$','$2300$']\n",
    "        plt.setp(axes2, yticks=yti_old, yticklabels=yti_new)\n",
    "    mise_en_page(axes2,x_step=x_step_zoom,y_step=y_step_zoom,x_maj_step=x_maj_step_zoom, x_min_step=x_min_step_zoom, y_maj_step=y_maj_step_zoom, y_min_step=y_min_step_zoom)\n",
    "\n",
    "if add_zoom_2 :\n",
    "    add_zoom_text = '_zoom'\n",
    "    axes2 = fig.add_axes([axes2_xdeb2,axes2_ydeb2, axes2_xlong2,axes2_ylong2]) # renvoie un objet Axes       \n",
    "    #axes2.axis('equal')         \n",
    "    axes2.patch.set_color([0.99,0.99,0.99])\n",
    "    fais_moi_un_subplot(axes2,RA_track,DEC_track,c=color_background,ls='-') #labx=xlab,laby=ylab\n",
    "    # add detections for each epoch\n",
    "    for t in range(1,n_epochs):\n",
    "        XRA, YDEC = RA[0]-RA[t], DEC[0]-DEC[t]\n",
    "        \n",
    "        # ERRORBARS: define global error budget in RA, DEC\n",
    "        # add the pupil offset error of theta = 0.1 deg; depends on sep (separation) and differs for ra/dec\n",
    "        RA_ERR_PUPIL  = np.sqrt( (np.sin(theta)*SEP_ERR)**2 + (SEP*np.cos(theta)*theta_err)**2 ) #+ (np.sin(theta)*SEP_ERR[1])**2 + [SEP[1]*np.cos(theta)*theta_err]**2 )   \n",
    "        DEC_ERR_PUPIL = np.sqrt( (np.cos(theta)*SEP_ERR)**2 + (SEP*np.sin(theta)*theta_err)**2 )  #+ (np.cos(theta)*SEP_ERR[1])**2 + [SEP[1]*np.sin(theta)*theta_err]**2 )   \n",
    "        # global budget\n",
    "        XRA_ERR  = np.sqrt(RA_ERR[0]**2+RA_ERR[t]**2+RA_ERR_PUPIL[0]**2+RA_ERR_PUPIL[t]**2)\n",
    "        YDEC_ERR =  np.sqrt(DEC_ERR[0]**2+DEC_ERR[t]**2+DEC_ERR_PUPIL[0]**2+DEC_ERR_PUPIL[t]**2)\n",
    "\n",
    "        for i in range(n_candidates):\n",
    "            axes2.errorbar(XRA[i],YDEC[i],YDEC_ERR[i],XRA_ERR[i],label=label,\n",
    "                    marker=marker_epoch[t-1],color=color[i],lw=0, elinewidth=1, zorder=10)\n",
    "\n",
    "    axes2.axis([xlim_zoom2[0], xlim_zoom2[1], ylim_zoom2[0], ylim_zoom2[1]])\n",
    "    if target == 'GJ422' and n_epochs == 3 :\n",
    "        yti_old = [2300,2350,2400]\n",
    "        yti_new = ['$2300$','$2350$','$2400$']\n",
    "        plt.setp(axes2, yticks=yti_old, yticklabels=yti_new)\n",
    "        \n",
    "    if target == 'GJ682' and n_epochs == 3  :\n",
    "        xti_old = [-1480,-1460,-1440]\n",
    "        xti_new = ['$-1480$','$-1460$','$-1440$']\n",
    "        plt.setp(axes2, xticks=xti_old, xticklabels=xti_new)\n",
    "        \n",
    "    if target == 'HD154088' and n_epochs == 3  :\n",
    "        yti_old = [-1040,-1080]\n",
    "        yti_new = ['$-1040$','$-1080$']\n",
    "        plt.setp(axes2, yticks=yti_old, yticklabels=yti_new)\n",
    "    \n",
    "    mise_en_page(axes2,x_step=x_step_zoom,y_step=y_step_zoom,x_maj_step=x_maj_step_zoom, x_min_step=x_min_step_zoom, y_maj_step=y_maj_step_zoom, y_min_step=y_min_step_zoom)\n",
    "\n",
    "\n",
    "plt.savefig('PMD_{}_3epochs{}.pdf'.format(target,add_zoom_text))\n",
    "plt.savefig('PMD_{}_3epochs{}.png'.format(target,add_zoom_text))"
   ]
  },
  {
   "cell_type": "code",
   "execution_count": null,
   "metadata": {},
   "outputs": [],
   "source": []
  },
  {
   "cell_type": "code",
   "execution_count": null,
   "metadata": {},
   "outputs": [],
   "source": []
  },
  {
   "cell_type": "markdown",
   "metadata": {},
   "source": [
    "- 2 epochs and at least 1 candidate"
   ]
  },
  {
   "cell_type": "code",
   "execution_count": 55,
   "metadata": {},
   "outputs": [
    {
     "data": {
      "image/png": "[encoded data removed]",
      "text/plain": [
       "<Figure size 400x400 with 2 Axes>"
      ]
     },
     "metadata": {},
     "output_type": "display_data"
    }
   ],
   "source": [
    "n_epochs = EPOCH.shape[0]\n",
    "n_candidates = EPOCH.shape[1]\n",
    "\n",
    "xlab = r'$\\Delta \\alpha_{ref} - \\Delta \\alpha$ (mas)'\n",
    "ylab = r'$\\Delta \\delta_{ref} - \\Delta \\delta$ (mas)'\n",
    "target   = target\n",
    "dates    = EPOCH\n",
    "dra      = RA[1:]\n",
    "dra_err  = [0]\n",
    "ddec     = DEC[1:]\n",
    "ddec_err = [0]\n",
    "\n",
    "dra_ref      = RA[0]  ; dra_err_ref  = [0]\n",
    "ddec_ref     = DEC[0] ; ddec_err_ref = [0]\n",
    "\n",
    "cond_select_obj = (target==dF_prop['target name'])\n",
    "plx = float(dF_prop[cond_select_obj]['parallax'])\n",
    "plx_err = float(dF_prop[cond_select_obj]['err parallax'])\n",
    "dist = float(dF_prop[cond_select_obj]['distance'])\n",
    "dist_err = plx_err/plx**2\n",
    "\n",
    "# define global error budget in RA, DEC\n",
    "# add the pupil offset error of theta = 0.1 deg; depends on sep (separation) and differs for ra/dec\n",
    "# error in ra: dra**2 =  [sin(theta)*dsep]**2 + [sep*cos(theta)*dtheta]**2 \n",
    "# error in dec: ddec**2 =  [cos(theta)*dsep]**2 + [sep*sin(theta)*dtheta]**2 \n",
    "theta     = 135.99 * np.pi/180 # 0.1 error pupil offset converted in rad\n",
    "theta_err = 0.11 * np.pi/180 \n",
    "\n",
    "# difference of positionf of two candidates so errors have to be taken into account for each candidates (~ x2)\n",
    "XRA, YDEC = RA[0]-RA[1], DEC[0]-DEC[1]\n",
    "RA_ERR_PUPIL  = np.sqrt( (np.sin(theta)*SEP_ERR)**2 + (SEP*np.cos(theta)*theta_err)**2 ) #+ (np.sin(theta)*SEP_ERR[1])**2 + [SEP[1]*np.cos(theta)*theta_err]**2 )   \n",
    "DEC_ERR_PUPIL = np.sqrt( (np.cos(theta)*SEP_ERR)**2 + (SEP*np.sin(theta)*theta_err)**2 )  #+ (np.cos(theta)*SEP_ERR[1])**2 + [SEP[1]*np.sin(theta)*theta_err]**2 )   \n",
    "# global budget\n",
    "XRA_ERR  = np.sqrt(RA_ERR[0]**2+RA_ERR[1]**2+RA_ERR_PUPIL[0]**2+RA_ERR_PUPIL[1]**2)\n",
    "YDEC_ERR =  np.sqrt(DEC_ERR[0]**2+DEC_ERR[1]**2+DEC_ERR_PUPIL[0]**2+DEC_ERR_PUPIL[1]**2)\n",
    "\n",
    "fig, ax = plt.subplots(1,1,figsize=(5,5))\n",
    "fig.subplots_adjust(left=0.18,bottom=0.11,top=0.97,right=0.94)\n",
    "loc = 'upper left' ; add_zoom_text = '' ; xdeb_leg = 1e4 ;  ydeb_leg = -1e4 ; yfin_leg = 1e4 ; ncol = 1\n",
    "\n",
    "\n",
    "# mise en page\n",
    "add_zoom = 0\n",
    "axes2_xdeb,axes2_ydeb, axes2_xlong,axes2_ylong = 0.67, 0.45, 0.22, 0.22\n",
    "xlim_zoom, ylim_zoom =  [-350,-440], [50,180] ;\n",
    "x_step_zoom=0; y_step_zoom=0 ; x_maj_step_zoom=20; x_min_step_zoom=5; y_maj_step_zoom=20; y_min_step_zoom=5\n",
    "marker = 'o'\n",
    "\n",
    "ax.plot([500,500],[500,500],color='white',marker=None,label='{} - {}'.format(EPOCH[0,0],EPOCH[1,0]))\n",
    "\n",
    "# add detections for each epoch\n",
    "for i in range(n_candidates):\n",
    "    if target != 'HD154088' :\n",
    "        label = 'candidate {}'.format(i+1)\n",
    "    else : \n",
    "        marker = 'd'\n",
    "        if color_detection[i] == 'black' : label = 'candidates'.format(i+1)\n",
    "        else : label =''\n",
    "    #ax.text(500,100,text,fontsize=12)\n",
    "    ax.errorbar(XRA[i],YDEC[i],YDEC_ERR[i],XRA_ERR[i],label=label,\n",
    "            marker=marker,color=color_detection[i],lw=0, elinewidth=1, zorder=10)\n",
    "\n",
    "# add background track\n",
    "ax.plot(RA_track,DEC_track,label='bkg star w/o pm',color=color_background)\n",
    "\n",
    "#ax.axis('equal')\n",
    "if target == 'GJ674':\n",
    "    xlim, ylim =  [2600,-200], [-3700,200] ; xdeb_leg = 1000\n",
    "    mise_en_page(ax,x_step=0,y_step=0,x_maj_step=50, x_min_step=10, y_maj_step=100, y_min_step=20)\n",
    "    add_zoom = 1\n",
    "    xlim_zoom, ylim_zoom =  [2500,2100], [-3500,-3430] ;\n",
    "    x_step_zoom=1; y_step_zoom=1\n",
    "    x_maj_step_zoom=150; x_min_step_zoom=50; y_maj_step_zoom=50; y_min_step_zoom=10\n",
    "    axes2_xdeb,axes2_ydeb, axes2_xlong,axes2_ylong = 0.66, 0.2, 0.22, 0.22\n",
    "    \n",
    "if target == 'HD154088':\n",
    "    xlim, ylim =  [400,-100], [-1200,150] ; xdeb_leg = 100\n",
    "    mise_en_page(ax,x_step=1,y_step=1,x_maj_step=50, x_min_step=10, y_maj_step=100, y_min_step=20)\n",
    "    add_zoom = 1\n",
    "    xlim_zoom, ylim_zoom =  [380,280], [-1110,-1030] ;\n",
    "    x_step_zoom=1; y_step_zoom=1 \n",
    "    x_maj_step_zoom=40; x_min_step_zoom=10; y_maj_step_zoom=40; y_min_step_zoom=10\n",
    "    axes2_xdeb,axes2_ydeb, axes2_xlong,axes2_ylong = 0.66, 0.2, 0.22, 0.22\n",
    "\n",
    "elif target == 'HD136352':\n",
    "    xlim, ylim =  [600,-4600], [-1000,100] ; ydeb_leg = -360 ; xdeb_leg = 5000 ; loc = 'lower left'\n",
    "    mise_en_page(ax,x_step=1,y_step=1,x_maj_step=1000, x_min_step=200, y_maj_step=200, y_min_step=50)\n",
    "    add_zoom = 1 ; x_step_zoom=1; y_step_zoom=1\n",
    "    xlim_zoom, ylim_zoom =  [-4195,-4240], [-790,-740] ;\n",
    "    x_maj_step_zoom=20; x_min_step_zoom=5; y_maj_step_zoom=20; y_min_step_zoom=5\n",
    "    axes2_xdeb,axes2_ydeb, axes2_xlong,axes2_ylong = 0.69, 0.7, 0.22, 0.22\n",
    "    \n",
    "elif target == 'GJ433':\n",
    "    xlim, ylim =  [200,-300], [-2000,200] ;loc = 'lower left' ; ydeb_leg = -1500\n",
    "    mise_en_page(ax,x_step=1,y_step=1,x_maj_step=100, x_min_step=20, y_maj_step=500, y_min_step=100)\n",
    "    add_zoom = 1\n",
    "    xlim_zoom, ylim_zoom =  [-100,-135], [-1680,-1640] ;\n",
    "    x_step_zoom=1; y_step_zoom=1\n",
    "    x_maj_step_zoom=10; x_min_step_zoom=5; y_maj_step_zoom=20; y_min_step_zoom=5\n",
    "    axes2_xdeb,axes2_ydeb, axes2_xlong,axes2_ylong = 0.29, 0.6, 0.22, 0.22\n",
    "    \n",
    "    \n",
    "elif target == 'GJ422' and n_epochs==2:\n",
    "    xlim, ylim =  [100,-1200], [-50,440] ; xdeb_leg = 1000 ; yfin_leg =220#; loc = 'lower left'\n",
    "    mise_en_page(ax,x_step=1,y_step=1,x_maj_step=200, x_min_step=100, y_maj_step=100, y_min_step=20)\n",
    "    add_zoom = 1\n",
    "    xlim_zoom, ylim_zoom =  [-350,-440], [50,180] ;\n",
    "    x_step_zoom=1; y_step_zoom=1 \n",
    "    x_maj_step_zoom=40; x_min_step_zoom=10; y_maj_step_zoom=40; y_min_step_zoom=10\n",
    "    axes2_xdeb,axes2_ydeb, axes2_xlong,axes2_ylong = 0.67, 0.25, 0.22, 0.22\n",
    "    \n",
    "elif target == 'GJ682' and n_epochs==2:\n",
    "    xlim, ylim =  [20,-200], [-120,10] ; ydeb_leg = -65 ; loc = 'lower left' ; ncol= 2\n",
    "    xlim_zoom, ylim_zoom =  [-120,-160], [-70,-35] ;\n",
    "    mise_en_page(ax,x_step=1,y_step=1,x_maj_step=100, x_min_step=20, y_maj_step=20, y_min_step=5)\n",
    "    x_step_zoom=1; y_step_zoom=1 \n",
    "    x_maj_step_zoom=20; x_min_step_zoom=5; y_maj_step_zoom=20; y_min_step_zoom=5\n",
    "    axes2_xdeb,axes2_ydeb, axes2_xlong,axes2_ylong = 0.65, 0.7, 0.22, 0.22\n",
    "    add_zoom = 1\n",
    "\n",
    "elif target == 'GJ832':\n",
    "    xlim, ylim =  [50,-200], [-200,50]  ; ydeb_leg = -200 ; loc = 'upper right' ; ncol= 1\n",
    "    xlim_zoom, ylim_zoom =  [-120,-160], [-70,-35] ;\n",
    "    mise_en_page(ax,x_step=1,y_step=1,x_maj_step=50, x_min_step=10, y_maj_step=50, y_min_step=10)\n",
    "    x_step_zoom=1; y_step_zoom=1 \n",
    "    x_maj_step_zoom=20; x_min_step_zoom=5; y_maj_step_zoom=20; y_min_step_zoom=5\n",
    "    axes2_xdeb,axes2_ydeb, axes2_xlong,axes2_ylong = 0.65, 0.7, 0.22, 0.22\n",
    "    add_zoom = 0\n",
    "     \n",
    "\n",
    "# add [0,0] reference lines\n",
    "ax.legend(loc=loc,frameon=False,numpoints=1,ncol=ncol)\n",
    "ax.plot([0,0],[ydeb_leg,yfin_leg],ls=':',color='black')\n",
    "fais_moi_un_subplot(ax,[xdeb_leg,-1e4],[0,0],ls=':',c='black',labx=xlab,laby=ylab)\n",
    "plt.axis([xlim[0], xlim[1], ylim[0], ylim[1]])\n",
    "#plt.gca().set_aspect('equal', adjustable='box')\n",
    "#mise_en_page(ax,x_step=1,y_step=1,x_maj_step=100, x_min_step=20, y_maj_step=100, y_min_step=20)\n",
    "\n",
    "# add second small plot\n",
    "if add_zoom :\n",
    "    add_zoom_text = '_zoom'\n",
    "    axes2 = fig.add_axes([axes2_xdeb,axes2_ydeb, axes2_xlong,axes2_ylong]) # renvoie un objet Axes       \n",
    "    #axes2.axis('equal')         \n",
    "    axes2.patch.set_color([0.99,0.99,0.99])\n",
    "    fais_moi_un_subplot(axes2,RA_track,DEC_track,c=color_background,ls='-') #labx=xlab,laby=ylab\n",
    "    # add detections for each epoch\n",
    "    for i in range(n_candidates):\n",
    "        axes2.errorbar(XRA[i],YDEC[i],YDEC_ERR[i],XRA_ERR[i],label=label,\n",
    "            marker='o',color=color_detection[i],lw=0, elinewidth=1, zorder=10)\n",
    " \n",
    "    axes2.axis([xlim_zoom[0], xlim_zoom[1], ylim_zoom[0], ylim_zoom[1]])\n",
    "    mise_en_page(axes2,x_step=x_step_zoom,y_step=y_step_zoom,x_maj_step=x_maj_step_zoom, x_min_step=x_min_step_zoom, y_maj_step=y_maj_step_zoom, y_min_step=y_min_step_zoom)\n",
    "    \n",
    "    if target == 'HD136352' and n_epochs == 2 :\n",
    "        xti_old = [-4190,-4230,-4210]\n",
    "        xti_new = ['$-4190$','$-4230$','$-4210$']\n",
    "        plt.setp(axes2, xticks=xti_old, xticklabels=xti_new)\n",
    "        \n",
    "    if target == 'GJ433':\n",
    "        yti_old = [-1680,-1660,-1640]\n",
    "        yti_new = ['$-1680$','$-1660$','$-1640$']\n",
    "        plt.setp(axes2, yticks=yti_old, yticklabels=yti_new)\n",
    "        \n",
    "    if target == 'HD154088' and n_epochs == 2  :\n",
    "        yti_old = [-1040,-1080]\n",
    "        yti_new = ['$-1040$','$-1080$']\n",
    "        plt.setp(axes2, yticks=yti_old, yticklabels=yti_new)\n",
    "\n",
    "plt.savefig('PMD_{}_2epochs{}.pdf'.format(target,add_zoom_text))\n",
    "plt.savefig('PMD_{}_2epochs{}.png'.format(target,add_zoom_text))"
   ]
  },
  {
   "cell_type": "code",
   "execution_count": null,
   "metadata": {},
   "outputs": [],
   "source": [
    "## general ##\n"
   ]
  },
  {
   "cell_type": "code",
   "execution_count": 47,
   "metadata": {},
   "outputs": [
    {
     "data": {
      "text/plain": [
       "array([2321.39, 2328.51, 2322.86, 2313.59, 2321.05])"
      ]
     },
     "execution_count": 47,
     "metadata": {},
     "output_type": "execute_result"
    }
   ],
   "source": [
    "XRA"
   ]
  },
  {
   "cell_type": "code",
   "execution_count": 44,
   "metadata": {},
   "outputs": [
    {
     "data": {
      "text/plain": [
       "array([-3475.89, -3481.54, -3455.25, -3479.11, -3460.65])"
      ]
     },
     "execution_count": 44,
     "metadata": {},
     "output_type": "execute_result"
    }
   ],
   "source": [
    "YDEC"
   ]
  },
  {
   "cell_type": "code",
   "execution_count": null,
   "metadata": {},
   "outputs": [],
   "source": []
  },
  {
   "cell_type": "code",
   "execution_count": null,
   "metadata": {},
   "outputs": [],
   "source": []
  },
  {
   "cell_type": "code",
   "execution_count": null,
   "metadata": {},
   "outputs": [],
   "source": [
    "for i in range(n_candidates):\n",
    "    print('%.2f'%XRA[i], '%.2f'%YDEC[i], 'error', '%.2f'%XRA_ERR[i], '%.2f'%YDEC_ERR[i])"
   ]
  },
  {
   "cell_type": "code",
   "execution_count": 80,
   "metadata": {},
   "outputs": [],
   "source": [
    "color_detection = 'red'"
   ]
  },
  {
   "cell_type": "code",
   "execution_count": 81,
   "metadata": {},
   "outputs": [
    {
     "name": "stdout",
     "output_type": "stream",
     "text": [
      "-93.30000000000001\n"
     ]
    }
   ],
   "source": [
    "i=0\n",
    "print(DEC[0,i]-DEC[1,i])"
   ]
  },
  {
   "cell_type": "markdown",
   "metadata": {},
   "source": [
    "- More than 2 epochs but only 1 candidate"
   ]
  },
  {
   "cell_type": "code",
   "execution_count": 22,
   "metadata": {},
   "outputs": [
    {
     "name": "stdout",
     "output_type": "stream",
     "text": [
      "[[4329.3  4524.83]\n",
      " [5047.28 5045.17]]\n",
      "-0.0013808004886426445\n",
      "[[6.00700022 6.26844015]\n",
      " [6.99141622 6.99956887]]\n",
      "[[8.5559864  8.96827095]\n",
      " [9.28374668 9.4702168 ]]\n"
     ]
    },
    {
     "data": {
      "image/png": "[encoded data removed]",
      "text/plain": [
       "<Figure size 400x400 with 3 Axes>"
      ]
     },
     "metadata": {},
     "output_type": "display_data"
    }
   ],
   "source": [
    "add_zoom = 1 \n",
    "\n",
    "xlab = r'$\\Delta \\alpha_{ref} - \\Delta \\alpha$ (mas)'\n",
    "ylab = r'$\\Delta \\delta_{ref} - \\Delta \\delta$ (mas)'\n",
    "target   = target\n",
    "dates    = EPOCH\n",
    "\n",
    "dra_ref      = RA[0]  ; dra_err_ref  = RA_ERR[0]\n",
    "ddec_ref     = DEC[0] ; ddec_err_ref = DEC_ERR[0]\n",
    "\n",
    "XRA,YDEC = dra_ref-RA, ddec_ref-DEC\n",
    "\n",
    "# ERRORBARS: define global error budget in RA, DEC\n",
    "print(SEP)\n",
    "# add the pupil offset error of theta = 0.1 deg; depends on sep (separation) and differs for ra/dec\n",
    "RA_ERR_PUPIL  = np.sqrt( (np.sin(theta)*SEP_ERR)**2 + (SEP*np.cos(theta)*theta_err)**2 ) #+ (np.sin(theta)*SEP_ERR[1])**2 + [SEP[1]*np.cos(theta)*theta_err]**2 )   \n",
    "DEC_ERR_PUPIL = np.sqrt( (np.cos(theta)*SEP_ERR)**2 + (SEP*np.sin(theta)*theta_err)**2 )  #+ (np.cos(theta)*SEP_ERR[1])**2 + [SEP[1]*np.sin(theta)*theta_err]**2 )   \n",
    "# global budget\n",
    "XRA_ERR  = np.sqrt(RA_ERR[0]**2+RA_ERR**2+RA_ERR_PUPIL[0]**2+RA_ERR_PUPIL**2)\n",
    "YDEC_ERR =  np.sqrt(DEC_ERR[0]**2+DEC_ERR**2+DEC_ERR_PUPIL[0]**2+DEC_ERR_PUPIL**2)\n",
    "\n",
    "print(np.cos(theta)*theta_err)\n",
    "print(RA_ERR_PUPIL)\n",
    "print(XRA_ERR)\n",
    "\n",
    "\n",
    "cond_select_obj = (target==dF_prop['target name'])\n",
    "plx = float(dF_prop[cond_select_obj]['parallax'])\n",
    "plx_err = float(dF_prop[cond_select_obj]['err parallax'])\n",
    "dist = float(dF_prop[cond_select_obj]['distance'])\n",
    "dist_err = plx_err/plx**2\n",
    "\n",
    "fig, ax = plt.subplots(1,1,figsize=(5,5))\n",
    "fig.subplots_adjust(left=0.18,bottom=0.11,top=0.97,right=0.95)\n",
    "plot_expected_positions_bkg=0 ;  xfin_leg = -50;\n",
    "\n",
    "ax.plot([500,500],[500,500],color='white',marker=None,label='ref={}'.format(EPOCH[0,0]))\n",
    "# add detections for each epoch\n",
    "n = len(RA) ; RSM = 1\n",
    "if target == 'GJ832' and not RSM:\n",
    "    n = 2\n",
    "for i in range(1,n):\n",
    "    label = 'ref - {1}'.format(EPOCH[0,0],EPOCH[i,0])\n",
    "    ax.errorbar(XRA[i],YDEC[i],YDEC_ERR[i],XRA_ERR[i],label=label,\n",
    "            marker='o',color=color_detection[i+1],lw=1, zorder=10,elinewidth=1)\n",
    "    \n",
    "if target == 'HD85512':\n",
    "    mise_en_page(ax,x_step=1,y_step=1,x_maj_step=500, x_min_step=100, y_maj_step=500, y_min_step=100)\n",
    "    marker_epoch = ['o','d']\n",
    "    xlim, ylim =  [1500,-500], [-1500,200] ; xdeb_leg = 550; loc ='upper left'#; ydeb_leg = -1500 ; loc = 'lower left'\n",
    "    add_zoom = 1\n",
    "    xlim_zoom, ylim_zoom =  [1410,1360], [-1370,-1250] ;\n",
    "    x_step_zoom=1; y_step_zoom=1\n",
    "    x_maj_step_zoom=50; x_min_step_zoom=10; y_maj_step_zoom=50; y_min_step_zoom=10\n",
    "    axes2_xdeb,axes2_ydeb, axes2_xlong,axes2_ylong = 0.68, 0.46, 0.22, 0.22\n",
    "    add_zoom_2 = 1\n",
    "    axes2_xdeb2,axes2_ydeb2, axes2_xlong2,axes2_ylong2 = 0.68, 0.18, 0.22, 0.22\n",
    "    xlim_zoom2, ylim_zoom2 =  [500,450], [-400,-350] ;\n",
    "    \n",
    "elif target == 'GJ832':\n",
    "    xlim, ylim =  [200,-100], [-200,50]  ; xdeb_leg = 30 ; xfin_leg = -200 ; yfin_leg = -80 ; ydeb_leg = -200 ; loc = 'upper left' ; ncol= 1\n",
    "    xlim_zoom, ylim_zoom =  [-120,-160], [-70,-35] ;\n",
    "    mise_en_page(ax,x_step=1,y_step=1,x_maj_step=50, x_min_step=10, y_maj_step=50, y_min_step=10)\n",
    "    x_step_zoom=1; y_step_zoom=1 \n",
    "    x_maj_step_zoom=20; x_min_step_zoom=5; y_maj_step_zoom=20; y_min_step_zoom=5\n",
    "    axes2_xdeb,axes2_ydeb, axes2_xlong,axes2_ylong = 0.65, 0.7, 0.22, 0.22\n",
    "    add_zoom = 0 ; add_zoom_2 = 0 ; plot_expected_positions_bkg = 1\n",
    "    \n",
    "elif target == 'GJ832' and 1: # RSM\n",
    "    xlim, ylim =  [400,-100], [-200,50]  ; xdeb_leg = 30 ; xfin_leg = -200 ; yfin_leg = -80 ; ydeb_leg = -200 ; loc = 'upper left' ; ncol= 1\n",
    "    xlim_zoom, ylim_zoom =  [-120,-160], [-70,-35] ;\n",
    "    mise_en_page(ax,x_step=1,y_step=1,x_maj_step=50, x_min_step=10, y_maj_step=50, y_min_step=10)\n",
    "    x_step_zoom=1; y_step_zoom=1 \n",
    "    x_maj_step_zoom=20; x_min_step_zoom=5; y_maj_step_zoom=20; y_min_step_zoom=5\n",
    "    axes2_xdeb,axes2_ydeb, axes2_xlong,axes2_ylong = 0.65, 0.7, 0.22, 0.22\n",
    "    add_zoom = 0 ; add_zoom_2 = 0 ; plot_expected_positions_bkg = 1\n",
    "     \n",
    "\n",
    "if plot_expected_positions_bkg: \n",
    "    XRA_expected_bkg,YDEC_expected_bkg = dra_ref-RA_expected_bkg, ddec_ref-DEC_expected_bkg\n",
    "    for i in range(len(RA_expected_bkg)):\n",
    "        label = 'ref - {1} (if bkg)'.format(EPOCH[0,0],EPOCH[1+i,0])\n",
    "        ax.plot(XRA_expected_bkg[i],YDEC_expected_bkg[i],label=label,\n",
    "                marker='o',color=color_detection[2+i],lw=1, zorder=10)\n",
    "        \n",
    "# add background track\n",
    "ax.plot(RA_track,DEC_track,label='bkg star w/o pm',color=color_background)\n",
    "# add [0,0] reference lines\n",
    "ax.plot([0,0],[-1e4,1e3],ls=':',color='black')\n",
    "fais_moi_un_subplot(ax,[xdeb_leg,xfin_leg],[0,0],ls=':',c='black',labx=xlab,laby=ylab)\n",
    "ax.legend(loc=loc,frameon=False,numpoints=1)\n",
    "#ax.axis('equal')\n",
    "plt.axis([xlim[0], xlim[1], ylim[0], ylim[1]])\n",
    "#plt.gca().set_aspect('equal', adjustable='box')\n",
    "#mise_en_page(ax,x_step=1,y_step=1,x_maj_step=500, x_min_step=100,y_maj_step=500, y_min_step=100)\n",
    "\n",
    "legend_without_duplicate_labels(ax,loc=loc,frameon=False,numpoints=1)\n",
    "    \n",
    "# add second small plot\n",
    "if add_zoom :\n",
    "    add_zoom_text = '_zoom'\n",
    "    axes2 = fig.add_axes([axes2_xdeb,axes2_ydeb, axes2_xlong,axes2_ylong]) # renvoie un objet Axes       \n",
    "    #axes2.axis('equal')         \n",
    "    axes2.patch.set_color([0.99,0.99,0.99])\n",
    "    fais_moi_un_subplot(axes2,RA_track,DEC_track,c=color_background,ls='-') #labx=xlab,laby=ylab\n",
    "    # add detections for each epoch\n",
    "    for i in range(1,len(RA)):\n",
    "        axes2.errorbar(XRA[i],YDEC[i],YDEC_ERR[i],XRA_ERR[i],label=label,\n",
    "                marker='o',color=color_detection[i],lw=0, elinewidth=1, zorder=10)\n",
    "\n",
    "    axes2.axis([xlim_zoom[0], xlim_zoom[1], ylim_zoom[0], ylim_zoom[1]])\n",
    "    mise_en_page(axes2,x_step=x_step_zoom,y_step=y_step_zoom,x_maj_step=x_maj_step_zoom, x_min_step=x_min_step_zoom, y_maj_step=y_maj_step_zoom, y_min_step=y_min_step_zoom)\n",
    "    if target == 'HD85512' :\n",
    "        xti_old = [1400,1350]\n",
    "        xti_new = ['$1400$','$1350$']\n",
    "        plt.setp(axes2, xticks=xti_old, xticklabels=xti_new)\n",
    "    \n",
    "    \n",
    "if add_zoom_2 :\n",
    "    add_zoom_text = '_zoom'\n",
    "    axes2 = fig.add_axes([axes2_xdeb2,axes2_ydeb2, axes2_xlong2,axes2_ylong2]) # renvoie un objet Axes       \n",
    "    #axes2.axis('equal')         \n",
    "    axes2.patch.set_color([0.99,0.99,0.99])\n",
    "    fais_moi_un_subplot(axes2,RA_track,DEC_track,c=color_background,ls='-') #labx=xlab,laby=ylab\n",
    "    # add detections for each epoch\n",
    "    for i in range(1,len(RA)):\n",
    "        axes2.errorbar(XRA[i],YDEC[i],YDEC_ERR[i],XRA_ERR[i],label=label,\n",
    "                marker='o',color=color_detection[i],lw=0, elinewidth=1, zorder=10)\n",
    "\n",
    "    axes2.axis([xlim_zoom2[0], xlim_zoom2[1], ylim_zoom2[0], ylim_zoom2[1]])\n",
    "    mise_en_page(axes2,x_step=x_step_zoom,y_step=y_step_zoom,x_maj_step=x_maj_step_zoom, x_min_step=x_min_step_zoom, y_maj_step=y_maj_step_zoom, y_min_step=y_min_step_zoom)\n",
    "\n",
    "    \n",
    "plt.savefig('PMD_{}_{}epochs{}.pdf'.format(target,len(EPOCH),add_zoom_text))\n",
    "plt.savefig('PMD_{}_{}epochs{}.png'.format(target,len(EPOCH),add_zoom_text))"
   ]
  },
  {
   "cell_type": "code",
   "execution_count": 19,
   "metadata": {},
   "outputs": [
    {
     "data": {
      "text/plain": [
       "'HD85512'"
      ]
     },
     "execution_count": 19,
     "metadata": {},
     "output_type": "execute_result"
    }
   ],
   "source": [
    "target"
   ]
  },
  {
   "cell_type": "code",
   "execution_count": 20,
   "metadata": {},
   "outputs": [
    {
     "data": {
      "text/plain": [
       "array([[6.00700022, 6.26844015],\n",
       "       [6.99141622, 6.99956887]])"
      ]
     },
     "execution_count": 20,
     "metadata": {},
     "output_type": "execute_result"
    }
   ],
   "source": [
    "RA_ERR_PUPIL"
   ]
  },
  {
   "cell_type": "code",
   "execution_count": null,
   "metadata": {},
   "outputs": [],
   "source": []
  },
  {
   "cell_type": "code",
   "execution_count": 68,
   "metadata": {},
   "outputs": [
    {
     "data": {
      "text/plain": [
       "[-444.67275541359226, -431.38399044378843, -416.66708247498497]"
      ]
     },
     "execution_count": 68,
     "metadata": {},
     "output_type": "execute_result"
    }
   ],
   "source": [
    "RA_expected_bkg"
   ]
  },
  {
   "cell_type": "code",
   "execution_count": 38,
   "metadata": {},
   "outputs": [
    {
     "name": "stdout",
     "output_type": "stream",
     "text": [
      "-444.67275541359226 302.1698353611517\n"
     ]
    }
   ],
   "source": [
    "print(dra_ref, ddec_ref)"
   ]
  },
  {
   "cell_type": "code",
   "execution_count": 55,
   "metadata": {},
   "outputs": [
    {
     "name": "stdout",
     "output_type": "stream",
     "text": [
      "[-517.72724459 -531.01600956 -545.73291753]\n",
      "[93.23016464 67.51056332 42.20296998]\n"
     ]
    }
   ],
   "source": [
    "print(XRA_expected_bkg+dra_ref)\n",
    "print(YDEC_expected_bkg+ddec_ref)"
   ]
  },
  {
   "cell_type": "code",
   "execution_count": 56,
   "metadata": {},
   "outputs": [
    {
     "name": "stdout",
     "output_type": "stream",
     "text": [
      "[-444.67275541359226, -431.38399044378843, -416.66708247498497]\n",
      "[302.1698353611517, 327.8894366819021, 353.19703001833506]\n"
     ]
    }
   ],
   "source": [
    "print(RA_expected_bkg)\n",
    "print(DEC_expected_bkg)"
   ]
  },
  {
   "cell_type": "code",
   "execution_count": null,
   "metadata": {},
   "outputs": [],
   "source": []
  },
  {
   "cell_type": "code",
   "execution_count": null,
   "metadata": {},
   "outputs": [],
   "source": []
  },
  {
   "cell_type": "code",
   "execution_count": 31,
   "metadata": {},
   "outputs": [
    {
     "data": {
      "text/plain": [
       "(array([  0.        , -13.28876497, -28.00567294]),\n",
       " array([  0.        , -25.71960132, -51.02719466]))"
      ]
     },
     "execution_count": 31,
     "metadata": {},
     "output_type": "execute_result"
    }
   ],
   "source": [
    "XRA_expected_bkg,YDEC_expected_bkg "
   ]
  },
  {
   "cell_type": "code",
   "execution_count": 34,
   "metadata": {},
   "outputs": [
    {
     "data": {
      "text/plain": [
       "(array([[  0. ],\n",
       "        [-52.2],\n",
       "        [-52.2],\n",
       "        [-52.2]]),\n",
       " array([[  0. ],\n",
       "        [-93.3],\n",
       "        [-93.3],\n",
       "        [-93.3]]))"
      ]
     },
     "execution_count": 34,
     "metadata": {},
     "output_type": "execute_result"
    }
   ],
   "source": [
    "XRA,YDEC"
   ]
  },
  {
   "cell_type": "code",
   "execution_count": 32,
   "metadata": {},
   "outputs": [
    {
     "data": {
      "text/plain": [
       "[-444.67275541359226, -431.38399044378843, -416.66708247498497]"
      ]
     },
     "execution_count": 32,
     "metadata": {},
     "output_type": "execute_result"
    }
   ],
   "source": [
    "RA_expected_bkg"
   ]
  },
  {
   "cell_type": "code",
   "execution_count": null,
   "metadata": {},
   "outputs": [],
   "source": [
    "for i in range (1,3):\n",
    "    print(dra_ref-RA[i],ddec_ref-DEC[i])"
   ]
  },
  {
   "cell_type": "code",
   "execution_count": null,
   "metadata": {},
   "outputs": [],
   "source": []
  },
  {
   "cell_type": "code",
   "execution_count": null,
   "metadata": {},
   "outputs": [],
   "source": []
  },
  {
   "cell_type": "markdown",
   "metadata": {},
   "source": [
    "- PMD basic : shows 1 candidate between 2 epochs"
   ]
  },
  {
   "cell_type": "code",
   "execution_count": 84,
   "metadata": {},
   "outputs": [
    {
     "data": {
      "image/png": "[encoded data removed]",
      "text/plain": [
       "<Figure size 400x400 with 1 Axes>"
      ]
     },
     "metadata": {},
     "output_type": "display_data"
    }
   ],
   "source": [
    "xlab = r'$\\Delta \\alpha_{ref} - \\Delta \\alpha$'\n",
    "ylab = r'$\\Delta \\delta_{ref} - \\Delta \\delta$'\n",
    "target   = target\n",
    "dates    = EPOCH[:2]\n",
    "dra      = RA[1]\n",
    "dra_err  = [0]\n",
    "ddec     = DEC[1]\n",
    "ddec_err = [0]\n",
    "\n",
    "dra_ref      = RA[0]\n",
    "dra_err_ref  = [0]\n",
    "ddec_ref     = DEC[0]\n",
    "ddec_err_ref = [0]\n",
    "\n",
    "cond_select_obj = (target==dF_prop['target name'])\n",
    "plx = float(dF_prop[cond_select_obj]['parallax'])\n",
    "plx_err = float(dF_prop[cond_select_obj]['err parallax'])\n",
    "dist = float(dF_prop[cond_select_obj]['distance'])\n",
    "dist_err = plx_err/plx**2\n",
    "\n",
    "fig, ax = plt.subplots(1,1,figsize=(5,5))\n",
    "fig.subplots_adjust(left=0.17,bottom=0.15,top=0.95,right=0.95)\n",
    "\n",
    "text = '{} - {}'.format(EPOCH[0],EPOCH[1])\n",
    "color_background = 'blue'\n",
    "ax.text(500,100,text,fontsize=12)\n",
    "xlim, ylim =  [1000,-4200], [-3000,1000]\n",
    "ax.axis('equal')\n",
    "ax.plot(RA_track,DEC_track,label='background stars',color=color_background)\n",
    "ax.plot(dra_ref-dra,ddec_ref-ddec,marker='o',color=color_background)\n",
    "ax.plot([0,0],[-1e4,1e3],ls=':',color='black')\n",
    "fais_moi_un_subplot(ax,[-1e4,1e3],[0,0],ls=':',c='black',labx=xlab,laby=ylab)\n",
    "\n",
    "ax.legend(loc='lower center',frameon=False)\n",
    "xlim, ylim =  [600,-200], [-600,200]\n",
    "plt.axis([xlim[0], xlim[1], ylim[0], ylim[1]])\n",
    "plt.gca().set_aspect('equal', adjustable='box')\n",
    "mise_en_page(ax)\n",
    "plt.savefig('{}_difference_epochs_{}_{}_allH23.pdf'.format(target,EPOCH[0],EPOCH[1]))"
   ]
  },
  {
   "cell_type": "code",
   "execution_count": null,
   "metadata": {},
   "outputs": [],
   "source": []
  },
  {
   "cell_type": "code",
   "execution_count": null,
   "metadata": {},
   "outputs": [],
   "source": []
  },
  {
   "cell_type": "raw",
   "metadata": {},
   "source": [
    "# errors\n",
    "\n",
    "HD154088\n",
    "RA_ERR\n",
    "array([[0.77, 1.99, 0.65, 2.42, 0.9 ],\n",
    "       [2.85, 6.04, 3.7 , 4.36, 1.99]])\n",
    "DEC_ERR\n",
    "array([[0.55, 2.75, 0.66, 3.77, 2.43],\n",
    "       [1.21, 7.32, 2.05, 5.69, 3.22]])\n",
    "\n",
    "HD 136352\n",
    "RA_ERR\n",
    "array([[0.88, 1.04, 0.61, 0.73, 1.07, 3.94, 0.86],\n",
    "       [0.59, 3.5 , 1.85, 2.61, 3.7 , 3.08, 2.64]])\n",
    "DEC_ERR\n",
    "array([[ 0.92,  1.04,  0.7 ,  0.65,  1.13,  5.18,  1.81],\n",
    "       [ 0.98,  8.54,  2.74,  3.07,  7.29,  6.46, 16.37]])\n",
    "\n",
    "GJ422\n",
    "RA_ERR\n",
    "array([[0.47, 0.95],\n",
    "       [5.24, 1.36],\n",
    "       [2.37, 3.69]])\n",
    "DEC_ERR\n",
    "array([[ 0.45,  1.76],\n",
    "       [44.61,  7.62],\n",
    "       [11.5 , 31.05]])\n",
    "\n",
    "GJ 682\n",
    "RA_ERR\n",
    "array([[0.65, 0.87, 0.99, 0.36, 0.97, 0.54],\n",
    "       [3.3 , 0.19, 1.  , 2.7 , 0.73, 3.01],\n",
    "       [3.16, 3.4 , 1.66, 2.13, 4.35, 1.62]])\n",
    "DEC_ERR\n",
    "array([[1.7 , 0.84, 1.05, 0.94, 1.09, 0.98],\n",
    "       [3.72, 0.95, 1.21, 3.15, 1.03, 3.01],\n",
    "       [6.19, 3.28, 2.16, 2.01, 4.45, 2.45]])"
   ]
  },
  {
   "cell_type": "code",
   "execution_count": null,
   "metadata": {},
   "outputs": [],
   "source": []
  },
  {
   "cell_type": "markdown",
   "metadata": {},
   "source": [
    "=====================================================================================================================\n",
    "\n",
    "## Extra: Prepare tables\n",
    "\n",
    "#### Print list of the targets"
   ]
  },
  {
   "cell_type": "code",
   "execution_count": null,
   "metadata": {},
   "outputs": [],
   "source": [
    "for i in range(len(dF_prop)):\n",
    "    parallax_star = PARALLAX[i]*1e-3 ; parallax_err_star = PARALLAX_ERR[i]*1e-3\n",
    "    mag_H, mag_K =MAG_STAR_H[i], MAG_STAR_K[i]\n",
    "    target = NAME_OBJ[i]\n",
    "    d_star = 1/parallax_star\n",
    "    d_err_star = parallax_err_star/parallax_star**2\n",
    "    print(target, '&' #'& %.2f'% (parallax_star*1e3), '\\pm %.2f'% (parallax_err_star*1e3),'& %.2f'% d_star,\n",
    "          #'& %.2f'% mag_H, '& %.2f'% mag_K\n",
    "         )\n",
    "          #, '& %.2f'% d_err_star)"
   ]
  },
  {
   "cell_type": "code",
   "execution_count": null,
   "metadata": {},
   "outputs": [],
   "source": []
  },
  {
   "cell_type": "markdown",
   "metadata": {},
   "source": [
    "#### Print list of the detections"
   ]
  },
  {
   "cell_type": "code",
   "execution_count": null,
   "metadata": {},
   "outputs": [],
   "source": [
    "NIGHT_OBS = np.array(dF_obs['night_obs'])\n",
    "NAME_OBJ_obs  = np.array(dF_obs['target name'])\n",
    "FILTER_IRDIS_OBS = np.array(dF_obs['IRDIS filter'])\n",
    "FILTER_IFS_OBS = np.array(dF_obs['IFS disperser'])\n",
    "for i in range(len(dF_prop)):\n",
    "    target = NAME_OBJ[i]\n",
    "    i_selected = (NAME_OBJ_obs == target)\n",
    "    dF_obs_1target = dF_obs[i_selected]\n",
    "    for k in range(len(NIGHT_OBS[i_selected])):\n",
    "        night_obs = NIGHT_OBS[i_selected][k]\n",
    "        filt_ird = FILTER_IRDIS_OBS[i_selected][k][2:]\n",
    "        filt_ifs = FILTER_IFS_OBS[i_selected][k][4:]\n",
    "        if k % 2 == 0 : # IRDIS\n",
    "            print(target,'&',night_obs,'&',filt_ird,'&')\n",
    "        else : # IFS\n",
    "            print(target,'&',night_obs,'&',filt_ifs,'&')\n",
    "    #print(target, '&' #'& %.2f'% (parallax_star*1e3), '\\pm %.2f'% (parallax_err_star*1e3),'& %.2f'% d_star,\n",
    "          #'& %.2f'% mag_H, '& %.2f'% mag_K\n",
    "    #     )\n",
    "          #, '& %.2f'% d_err_star)"
   ]
  },
  {
   "cell_type": "code",
   "execution_count": null,
   "metadata": {},
   "outputs": [],
   "source": []
  },
  {
   "cell_type": "code",
   "execution_count": null,
   "metadata": {},
   "outputs": [],
   "source": []
  },
  {
   "cell_type": "code",
   "execution_count": null,
   "metadata": {},
   "outputs": [],
   "source": []
  },
  {
   "cell_type": "code",
   "execution_count": null,
   "metadata": {},
   "outputs": [],
   "source": []
  },
  {
   "cell_type": "markdown",
   "metadata": {},
   "source": [
    "## Extra: tests"
   ]
  },
  {
   "cell_type": "code",
   "execution_count": 89,
   "metadata": {},
   "outputs": [
    {
     "data": {
      "text/plain": [
       "\"\\npixarc = pixarc_ird\\nEPOCH_all = np.array(['2017-12-30','2019-11-25'])\\nX_all, Y_all = np.array([837,911]), np.array([332,409])\\nRA_all, DEC_all = -(X_all - 511.5)*pixarc, (Y_all - 511.5)*pixarc # add minus before RA_all\\nRA_ERR_all, DEC_ERR_all = np.array([7,7]), np.array([7,7])\\nSEP_all = np.sqrt(RA_all**2 + DEC_all**2)\\nSEP_ERR_all = np.sqrt(RA_ERR_all**2 + DEC_ERR_all**2)\\nprint('RA:', RA_all , '\\nDEC:', DEC_all) \\n\""
      ]
     },
     "execution_count": 89,
     "metadata": {},
     "output_type": "execute_result"
    }
   ],
   "source": [
    "# # TEST CONVENTION ANDROMEDA CHARAC ON HD85512 # #\n",
    "# compare with SpeCal charac results\n",
    "# print('RA:\\n', RA_all[0][0] , '\\n', RA_all[1][-1], '\\nDEC:\\n', DEC_all[0][0],'\\n', DEC_all[1][-1])\n",
    "\"\"\"\n",
    "pixarc = pixarc_ird\n",
    "EPOCH_all = np.array(['2017-12-30','2019-11-25'])\n",
    "X_all, Y_all = np.array([837,911]), np.array([332,409])\n",
    "RA_all, DEC_all = -(X_all - 511.5)*pixarc, (Y_all - 511.5)*pixarc # add minus before RA_all\n",
    "RA_ERR_all, DEC_ERR_all = np.array([7,7]), np.array([7,7])\n",
    "SEP_all = np.sqrt(RA_all**2 + DEC_all**2)\n",
    "SEP_ERR_all = np.sqrt(RA_ERR_all**2 + DEC_ERR_all**2)\n",
    "print('RA:', RA_all , '\\nDEC:', DEC_all) \n",
    "\"\"\""
   ]
  },
  {
   "cell_type": "code",
   "execution_count": null,
   "metadata": {},
   "outputs": [],
   "source": [
    "# find dra/ddec \n",
    "## ex: H23 1st epoch K12 2nd epoch\n",
    "k = 1\n",
    "diffX = X_all[1][0]-X_all[0][0]\n",
    "print('diffX',diffX,X_all[1][k] - diffX)\n",
    "diffY = Y_all[1][0]-Y_all[0][0]\n",
    "print('diffY',diffY,Y_all[1][k]- diffY)\n",
    "#"
   ]
  }
 ],
 "metadata": {
  "kernelspec": {
   "display_name": "Python 3 (ipykernel)",
   "language": "python",
   "name": "python3"
  },
  "language_info": {
   "codemirror_mode": {
    "name": "ipython",
    "version": 3
   },
   "file_extension": ".py",
   "mimetype": "text/x-python",
   "name": "python",
   "nbconvert_exporter": "python",
   "pygments_lexer": "ipython3",
   "version": "3.9.7"
  }
 },
 "nbformat": 4,
 "nbformat_minor": 2
}
