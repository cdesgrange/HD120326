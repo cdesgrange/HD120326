{
 "cells": [
  {
   "cell_type": "code",
   "execution_count": 23,
   "id": "a371206c",
   "metadata": {},
   "outputs": [],
   "source": [
    "from import_functions_generic import * \n",
    "from import_functions_plotting import * \n",
    "from functions_derive_noise_map import *\n",
    "\n",
    "if 1 :\n",
    "    plt.style.use('classic')\n",
    "    from matplotlib.axes import rcParams\n",
    "    rcParams.update({'image.cmap':'magma', 'image.origin':'lower', 'image.interpolation':'nearest',\n",
    "                 'figure.figsize':(4, 3), 'savefig.bbox':'tight',\n",
    "                 'font.size': 12,  'axes.labelsize' : 12, 'legend.fontsize' : 12,\n",
    "                 \"font.family\": \"serif\", 'text.usetex' : True, \"font.serif\": [], \"font.sans-serif\": [], 'mathtext.fontset':'stix',\n",
    "                 'legend.handlelength': 2, 'legend.borderaxespad' : 0.8, 'legend.columnspacing' : 0.5, 'legend.handletextpad' : 0.5,\n",
    "                 'xtick.direction':\"in\", 'ytick.direction':\"in\",\n",
    "                 'xtick.major.width':1.3,'xtick.major.size':8, 'xtick.minor.width':1,'xtick.minor.size':5,\n",
    "                 'ytick.major.width':1.3,'ytick.major.size':8, 'ytick.minor.width':1,'ytick.minor.size':5,\n",
    "                 })\n",
    "\n",
    "    \n",
    "# cmaps\n",
    "cmap_dark_red =  seaborn.blend_palette([[1,0,0],'crimson','firebrick','darkred',[0.3,0,0]], as_cmap=True)\n",
    "cmap_red = seaborn.blend_palette(['white',[1,0.95,0],'orange', 'red'], as_cmap=True)\n",
    "cmap_orange = seaborn.blend_palette(['white',[1,0.95,0],'gold'], as_cmap=True)\n",
    "cmap_pinkish = seaborn.blend_palette(['white',[1,0.5,1],'purple', 'blue'], as_cmap=True)\n",
    "cmap_pink = seaborn.blend_palette(['white',[1,0.4,1],[0.8,0,0.7],[0.75,0,0.7]], as_cmap=True)\n",
    "cmap_blue = seaborn.blend_palette(['white',[0.5,0.9,1], [0,0.5,1],  [0,0,1]], as_cmap=True)\n",
    "cmap_blue_light = seaborn.blend_palette(['white',[0.5,0.9,1], [0,0.5,1]], as_cmap=True)\n",
    "cmap_white = seaborn.blend_palette(['white', 'ivory'], as_cmap=True)\n",
    "cmap = cmap_white"
   ]
  },
  {
   "cell_type": "code",
   "execution_count": 2,
   "id": "221623c7",
   "metadata": {},
   "outputs": [],
   "source": [
    "## Initialize saving directory\n",
    "L = time.localtime()\n",
    "date = \"{}-{}-{}\".format(L[0],L[1],L[2],L[3],L[4],L[5])\n",
    "\n",
    "saving_dir = 'figs/fig_v{}/'.format(date)\n",
    "os.makedirs(saving_dir,exist_ok=True)"
   ]
  },
  {
   "cell_type": "markdown",
   "id": "f4be0b2d",
   "metadata": {},
   "source": [
    "# Load SED measurements"
   ]
  },
  {
   "cell_type": "code",
   "execution_count": 3,
   "id": "c30fae5b",
   "metadata": {},
   "outputs": [],
   "source": [
    "fn = 'inputs/data_5arcsec.vot'\n",
    "\n",
    "from astropy.table import Table\n",
    "H = Table.read(fn)\n",
    "\n",
    "col_filter = 'sed_filter'\n",
    "col_freq   = 'sed_freq'\n",
    "col_flux   = 'sed_flux'\n",
    "col_flux_e = 'sed_eflux'\n",
    "\n",
    "\n",
    "\n",
    "#H"
   ]
  },
  {
   "cell_type": "code",
   "execution_count": 4,
   "id": "e1c723eb",
   "metadata": {
    "scrolled": true
   },
   "outputs": [
    {
     "data": {
      "text/plain": [
       "array(['Johnson:V', 'HIP:VT', 'HIP:BT', 'HIP:Hp', 'Johnson:V', 'HIP:VT',\n",
       "       'HIP:BT', 'HIP:VT', 'HIP:BT', '2MASS:Ks', '2MASS:H', '2MASS:J',\n",
       "       '2MASS:Ks', '2MASS:H', '2MASS:J', '2MASS:Ks', '2MASS:H', '2MASS:J',\n",
       "       'Johnson:B', 'Johnson:B', 'Johnson:B', 'HIP:Hp', '2MASS:Ks',\n",
       "       '2MASS:H', '2MASS:J', '2MASS:Ks', '2MASS:H', '2MASS:J', '2MASS:Ks',\n",
       "       '2MASS:H', '2MASS:J', 'Johnson:V', 'Johnson:B', '2MASS:Ks',\n",
       "       '2MASS:H', '2MASS:J', 'Gaia:G', 'HIP:VT', 'HIP:BT', '2MASS:H',\n",
       "       '2MASS:J', 'Gaia:G', '2MASS:H', '2MASS:J', 'Gaia:G',\n",
       "       'GAIA/GAIA2:Grp', 'GAIA/GAIA2:G', 'GAIA/GAIA2:Gbp',\n",
       "       'GAIA/GAIA3:Grp', 'GAIA/GAIA3:G', 'GAIA/GAIA3:Gbp', 'HIP:VT',\n",
       "       'HIP:BT', 'WISE:W4', 'WISE:W3', 'WISE:W2', 'WISE:W1', '2MASS:Ks',\n",
       "       '2MASS:J', 'SDSS:z', 'SDSS:i', 'Gaia:G', 'Gaia:G', 'Gaia:G',\n",
       "       'SDSS:r', 'SDSS:g', 'SDSS:u', '2MASS:Ks', '2MASS:H', '2MASS:J',\n",
       "       'GALEX:NUV', 'GALEX:FUV', 'GAIA/GAIA3:Grp', 'GAIA/GAIA3:G',\n",
       "       'GAIA/GAIA3:Gbp', 'Cousins:I', 'SDSS:i', 'SDSS:i', 'Cousins:R',\n",
       "       'SDSS:r', 'Cousins:V', 'SDSS:g', 'Cousins:B', 'SDSS:u',\n",
       "       'Cousins:U', 'Johnson:V', 'Johnson:K', 'Johnson:H', 'Johnson:J',\n",
       "       'AKARI:S9W', 'WISE:W4', 'WISE:W3', 'WISE:W2', 'WISE:W1',\n",
       "       '2MASS:Ks', '2MASS:H', '2MASS:J', 'WISE:W4', 'WISE:W3', 'WISE:W2',\n",
       "       'WISE:W1', '2MASS:Ks', '2MASS:H', '2MASS:J', 'GALEX:NUV',\n",
       "       'GALEX:FUV', 'Johnson:M', 'Johnson:L', 'Johnson:K', 'Johnson:H',\n",
       "       'Johnson:J', 'HIP:VT', 'HIP:BT', 'SkyMapper/SkyMapper:z',\n",
       "       'SkyMapper/SkyMapper:z', 'SkyMapper/SkyMapper:i',\n",
       "       'SkyMapper/SkyMapper:i', 'SkyMapper/SkyMapper:r',\n",
       "       'SkyMapper/SkyMapper:r', 'SkyMapper/SkyMapper:g',\n",
       "       'SkyMapper/SkyMapper:g', 'SkyMapper/SkyMapper:v',\n",
       "       'SkyMapper/SkyMapper:v', 'SkyMapper/SkyMapper:u',\n",
       "       'SkyMapper/SkyMapper:u', 'VISTA:Ks', 'VISTA:J', '2MASS:H',\n",
       "       '2MASS:J', '2MASS:Ks', '2MASS:H', '2MASS:J', 'WISE:W2', 'WISE:W1',\n",
       "       'WISE:W2', 'WISE:W1', 'Spitzer/MIPS:24', 'WISE:W4', 'WISE:W3',\n",
       "       'WISE:W2', 'WISE:W1', '2MASS:Ks', '2MASS:H', '2MASS:J', 'WISE:W4',\n",
       "       'WISE:W3', 'WISE:W2', 'WISE:W1', '2MASS:Ks', 'Johnson:H',\n",
       "       'Johnson:J', 'Gaia:G', 'Johnson:V', 'Johnson:B', 'WISE:W4',\n",
       "       'WISE:W3', 'WISE:W2', 'WISE:W1', '2MASS:Ks', 'Johnson:H',\n",
       "       'Johnson:J', 'Gaia:G', 'Johnson:V', 'Johnson:B', 'IRAS:12',\n",
       "       'HIP:VT', 'HIP:BT', 'Johnson:K', 'Johnson:H', 'Johnson:J',\n",
       "       'Johnson:V', 'Johnson:B', 'HIP:Hp', 'HIP:Hp', 'Johnson:B',\n",
       "       '2MASS:Ks', '2MASS:H', '2MASS:J', 'Johnson:V', 'Johnson:B',\n",
       "       '2MASS:Ks', '2MASS:H', '2MASS:J', 'Spitzer/MIPS:24', '2MASS:H',\n",
       "       '2MASS:J', 'Gaia:G', 'Gaia:G', 'Gaia:G', 'Gaia:G',\n",
       "       'Spitzer/MIPS:70', ':=31um', 'Spitzer/MIPS:24', ':=13um',\n",
       "       'Spitzer/MIPS:70', 'Spitzer/MIPS:24', 'WISE:W4', 'WISE:W3',\n",
       "       'WISE:W2', 'WISE:W1', 'GAIA/GAIA2:Grp', 'Gaia:G', 'GAIA/GAIA2:Gbp',\n",
       "       'Johnson:V', 'HIP:Hp', 'Johnson:V', 'Gaia:G', 'Johnson:V',\n",
       "       'Gaia:G', '2MASS:Ks', '2MASS:H', '2MASS:J', 'Gaia:G', 'Gaia:G',\n",
       "       'Gaia:G', 'Gaia:G', 'Johnson:V', 'HIP:Hp', 'Gaia:G', 'Johnson:V',\n",
       "       'HIP:Hp', 'HIP:Hp', '2MASS:J', 'Gaia:G', 'WISE:W4', 'WISE:W3',\n",
       "       'WISE:W2', 'WISE:W1', '2MASS:Ks', '2MASS:H', '2MASS:J', 'Gaia:G',\n",
       "       'Gaia:G', 'Gaia:G', 'Gaia:G', 'WISE:W4', 'WISE:W3', 'WISE:W2',\n",
       "       'WISE:W1', '2MASS:Ks', '2MASS:H', '2MASS:J', 'Johnson:K',\n",
       "       'Johnson:H', 'Johnson:J', 'HIP:VT', 'HIP:BT', '2MASS:Ks',\n",
       "       '2MASS:H', '2MASS:J', 'Johnson:V', 'Johnson:B', 'WISE:W3',\n",
       "       'WISE:W2', 'WISE:W1', 'Subaru/Suprime:IA598', 'HIP:Hp', 'Gaia:G',\n",
       "       'Gaia:G', 'Gaia:G'], dtype='<U32')"
      ]
     },
     "execution_count": 4,
     "metadata": {},
     "output_type": "execute_result"
    }
   ],
   "source": [
    "# Display one column\n",
    "np.array(H[col_filter])"
   ]
  },
  {
   "cell_type": "markdown",
   "id": "83d3de93",
   "metadata": {},
   "source": [
    "Unit conversions :\n",
    "\n",
    "- $F_\\nu$, $F_\\lambda$, kezako ?\n",
    "\n",
    "We have\n",
    "\n",
    "$$ \\lambda F_\\lambda ~=~ \\nu F_\\nu $$\n",
    "\n",
    "The unit of $ \\lambda F_\\lambda $ or $\\nu F_\\nu$ is $\\mathrm{W/m^2}$.\n",
    "\n",
    "\n",
    "- Conversion $\\mathrm{W/m^2} \\rightarrow  \\mathrm{Jy}$\n",
    "\n",
    "$$  \\nu F_\\nu\\,(\\mathrm{W/m^2}) ~=~ 10^{26} ~\\times~ \\nu  F_\\nu\\,(\\mathrm{W/m^2}) ~/~  \\nu\\,(\\mathrm{Hz}) $$\n",
    "\n",
    "- Conversion $\\mathrm{Jy} \\rightarrow  \\mathrm{W/m^2}$\n",
    "\n",
    "$$ F\\,(Jy) ~=~ 10^{-26} ~\\times~ F_\\nu\\,(Jy) ~\\times~  \\nu\\,(\\mathrm{Hz}) $$\n",
    "\n",
    "\n"
   ]
  },
  {
   "cell_type": "code",
   "execution_count": 6,
   "id": "253f064f",
   "metadata": {},
   "outputs": [
    {
     "name": "stderr",
     "output_type": "stream",
     "text": [
      "/Users/desgranc/Documents/work/other_codes/pymcfost/pymcfost/SED.py:10: UserWarning: mpl_scatter_density is not present\n",
      "  warnings.warn(\"mpl_scatter_density is not present\", UserWarning)\n",
      "/Users/desgranc/Documents/work/other_codes/pymcfost/pymcfost/line.py:16: UserWarning: progressbar is not present\n",
      "  warnings.warn(\"progressbar is not present\", UserWarning)\n"
     ]
    }
   ],
   "source": [
    "from pymcfost.utils import Wm2_to_Jy, Jy_to_Wm2"
   ]
  },
  {
   "cell_type": "code",
   "execution_count": 7,
   "id": "e55a2c71",
   "metadata": {},
   "outputs": [],
   "source": [
    "# Get values, flux is in Jy\n",
    "freq_GHz, flux_Jy, flux_e_Jy, filt = np.array(H[col_freq]), np.array(H[col_flux]), np.array(H[col_flux_e]), np.array(H[col_filter])\n",
    "\n",
    "# SI\n",
    "freq = freq_GHz * 1e9 # Hz\n",
    "wave   = cst.c.value/freq # m\n",
    "\n",
    "# Wm2 (W/m2)\n",
    "flux_Wm2   = Jy_to_Wm2(flux_Jy, freq) \n",
    "flux_e_Wm2 = Jy_to_Wm2(flux_e_Jy, freq)\n",
    "\n",
    "# Wm2 GHz same than above, as does not depend on the frequency\n",
    "#flux_Wm2_GHz   = Jy_to_Wm2(flux_Jy, freq_GHz) \n",
    "#flux_e_Wm2_GHz = Jy_to_Wm2(flux_e_Jy, freq_GHz)\n",
    "\n",
    "# Wm2 / nu  (W/m2/Hz)\n",
    "flux_Wm2nu   = flux_Wm2 / freq\n",
    "flux_e_Wm2nu = flux_e_Wm2 / freq\n",
    "\n",
    "# Wm2 / lbd (W/m2/mic)\n",
    "flux_Wm2lbd   = flux_Wm2 / wave\n",
    "flux_e_Wm2lbd = flux_e_Wm2 / wave\n",
    "\n",
    "#flux_e = Wm2_to_Jy(flux_e, freq) / freq"
   ]
  },
  {
   "cell_type": "code",
   "execution_count": null,
   "id": "0c79f8ae",
   "metadata": {},
   "outputs": [],
   "source": []
  },
  {
   "cell_type": "code",
   "execution_count": null,
   "id": "888cf4eb",
   "metadata": {},
   "outputs": [],
   "source": []
  },
  {
   "cell_type": "code",
   "execution_count": null,
   "id": "b504ad1b",
   "metadata": {},
   "outputs": [],
   "source": []
  },
  {
   "cell_type": "code",
   "execution_count": 8,
   "id": "a8e864d9",
   "metadata": {},
   "outputs": [
    {
     "data": {
      "text/html": [
       "<i>Row index=0</i>\n",
       "<table id=\"table140334786966384\">\n",
       "<thead><tr><th>_RAJ2000</th><th>_DEJ2000</th><th>_tabname</th><th>_ID</th><th>_tab1_86</th><th>_tab1_87</th><th>sed_freq</th><th>sed_flux</th><th>sed_eflux</th><th>sed_filter</th></tr></thead>\n",
       "<thead><tr><th>deg</th><th>deg</th><th></th><th></th><th>d</th><th></th><th>GHz</th><th>Jy</th><th>Jy</th><th></th></tr></thead>\n",
       "<thead><tr><th>float64</th><th>float64</th><th>str32</th><th>str64</th><th>float64</th><th>float64</th><th>float64</th><th>float32</th><th>float32</th><th>str32</th></tr></thead>\n",
       "<tr><td>207.4770956399</td><td>-50.2399635569</td><td>I/239/hip_main</td><td>recno=67438</td><td>--</td><td>0.0</td><td>541430</td><td>1.59</td><td>--</td><td>Johnson:V</td></tr>\n",
       "</table>"
      ],
      "text/plain": [
       "<Row index=0>\n",
       "   _RAJ2000       _DEJ2000       _tabname        _ID     _tab1_86 _tab1_87  sed_freq   sed_flux sed_eflux sed_filter\n",
       "     deg            deg                                     d                 GHz         Jy        Jy              \n",
       "   float64        float64         str32         str64    float64  float64   float64    float32   float32    str32   \n",
       "-------------- -------------- -------------- ----------- -------- -------- ---------- --------- --------- ----------\n",
       "207.4770956399 -50.2399635569 I/239/hip_main recno=67438       --      0.0     541430      1.59        --  Johnson:V"
      ]
     },
     "execution_count": 8,
     "metadata": {},
     "output_type": "execute_result"
    }
   ],
   "source": [
    "H[:][0]"
   ]
  },
  {
   "cell_type": "code",
   "execution_count": 9,
   "id": "cee6ecef",
   "metadata": {},
   "outputs": [
    {
     "data": {
      "image/png": "[encoded data removed]",
      "text/plain": [
       "<Figure size 320x240 with 1 Axes>"
      ]
     },
     "metadata": {},
     "output_type": "display_data"
    }
   ],
   "source": [
    "X, Y = freq_GHz, flux_Wm2\n",
    "\n",
    "# Figure\n",
    "fig, ax = plt.subplots(1,1) #, figsize=figsize)\n",
    "ax.loglog(X, Y, color = 'dodgerblue', marker='o', ms=5, lw=0)\n",
    "\n",
    "#ax.set_xlim([wbeg, wend])\n",
    "    \n",
    "#ax.set_xlabel('Wavelength ($\\mu$m)')\n",
    "ax.set_xlabel('Freq (GHz)')\n",
    "ax.set_ylabel(r'$\\nu  F_\\nu$ (W/m$^2$)')\n",
    "#ax.legend(loc=0, numpoints=1)\n",
    "#mise_en_page(ax)\n",
    "#plt.tight_layout()\n",
    "plt.savefig(saving_dir+'test_sed_nuFnu_freq.pdf')\n",
    "plt.show()"
   ]
  },
  {
   "cell_type": "code",
   "execution_count": 10,
   "id": "a0240db9",
   "metadata": {},
   "outputs": [
    {
     "data": {
      "image/png": "[encoded data removed]",
      "text/plain": [
       "<Figure size 320x240 with 1 Axes>"
      ]
     },
     "metadata": {},
     "output_type": "display_data"
    }
   ],
   "source": [
    "X, Y = wave*1e6, flux_Wm2lbd\n",
    "# Figure\n",
    "fig, ax = plt.subplots(1,1) #, figsize=figsize)\n",
    "ax.loglog(X, Y, color = 'dodgerblue', marker='o', ms=5, lw=0)\n",
    "\n",
    "#ax.set_xlim([wbeg, wend])    \n",
    "ax.set_xlabel('Wavelength ($\\mu$m)')\n",
    "ax.set_ylabel(r'Flux (W $\\cdot$ m$^{-2}\\cdot\\mu$m$^{-1}$)')\n",
    "#ax.legend(loc=0, numpoints=1)\n",
    "#mise_en_page(ax)\n",
    "#plt.tight_layout()\n",
    "plt.savefig(saving_dir+'test_sed_wave.pdf')\n",
    "plt.show()"
   ]
  },
  {
   "cell_type": "code",
   "execution_count": null,
   "id": "ddd55698",
   "metadata": {},
   "outputs": [],
   "source": []
  },
  {
   "cell_type": "code",
   "execution_count": 27,
   "id": "7dc819a8",
   "metadata": {},
   "outputs": [
    {
     "data": {
      "image/png": "[encoded data removed]",
      "text/plain": [
       "<Figure size 320x240 with 1 Axes>"
      ]
     },
     "metadata": {},
     "output_type": "display_data"
    }
   ],
   "source": [
    "X, Y = wave*1e6, flux_Wm2\n",
    "\n",
    "# condition\n",
    "cond_X = np.logical_and(X<3, X>1)\n",
    "cond = np.logical_and(Y < 3e-13, cond_X)\n",
    "\n",
    "X, Y = X[~cond], Y[~cond]\n",
    "# Figure\n",
    "fig, ax = plt.subplots(1,1) #, figsize=figsize)\n",
    "ax.loglog(X, Y, color = 'crimson', marker='o', ms=5, lw=0, mew=0.3)\n",
    "\n",
    "#ax.set_xlim([wbeg, wend])    \n",
    "ax.set_xlabel('Wavelength ($\\mu$m)')\n",
    "ax.set_ylabel(r'$\\lambda  F_\\lambda$ (W/m$^2$)')\n",
    "#ax.legend(loc=0, numpoints=1)\n",
    "#mise_en_page(ax)\n",
    "#plt.tight_layout()\n",
    "plt.savefig(saving_dir+'sed_lbdFlbd_fs12.pdf')\n",
    "plt.show()"
   ]
  },
  {
   "cell_type": "code",
   "execution_count": 25,
   "id": "f85b7ece",
   "metadata": {},
   "outputs": [],
   "source": []
  },
  {
   "cell_type": "code",
   "execution_count": null,
   "id": "65426458",
   "metadata": {},
   "outputs": [],
   "source": []
  },
  {
   "cell_type": "code",
   "execution_count": null,
   "id": "2386d9bd",
   "metadata": {},
   "outputs": [],
   "source": []
  }
 ],
 "metadata": {
  "kernelspec": {
   "display_name": "Python 3 (ipykernel)",
   "language": "python",
   "name": "python3"
  },
  "language_info": {
   "codemirror_mode": {
    "name": "ipython",
    "version": 3
   },
   "file_extension": ".py",
   "mimetype": "text/x-python",
   "name": "python",
   "nbconvert_exporter": "python",
   "pygments_lexer": "ipython3",
   "version": "3.9.12"
  }
 },
 "nbformat": 4,
 "nbformat_minor": 5
}
