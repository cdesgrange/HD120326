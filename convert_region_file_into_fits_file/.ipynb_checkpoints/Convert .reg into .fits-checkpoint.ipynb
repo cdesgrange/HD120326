{
 "cells": [
  {
   "cell_type": "markdown",
   "id": "40089a29",
   "metadata": {},
   "source": [
    "# Convert an ellipse region saved as .reg into a .fits\n",
    "\n",
    "Useful when we want to define a mask on DS9\n",
    "\n",
    "Tricky points:\n",
    "    \n",
    "- order in which ellipses are saved\n",
    "\n",
    "- need to load the header on an image with the good shape. Hereafter, the file is called 'file.fits' and loaded in the variable 'dum', with its header 'header'\n",
    "\n",
    "_Written April 23, 2023 by Célia DESGRANGE (@MPIA, @IPAG) but extracted from Julien Milli's (@IPAG) code_"
   ]
  },
  {
   "cell_type": "code",
   "execution_count": 22,
   "id": "b078f933",
   "metadata": {},
   "outputs": [],
   "source": [
    "from import_functions_generic import *\n",
    "import pyregion"
   ]
  },
  {
   "cell_type": "code",
   "execution_count": 79,
   "id": "49a480e1",
   "metadata": {},
   "outputs": [],
   "source": [
    "path = ''\n",
    "file_2_ellipses = 'mask_inner_belt_small_2019-07-09_IFS'"
   ]
  },
  {
   "cell_type": "code",
   "execution_count": 125,
   "id": "a66cb8b4",
   "metadata": {},
   "outputs": [],
   "source": [
    "dum, header = fits.getdata(os.path.join(path,'file_IRDIS.fits'),header=True)"
   ]
  },
  {
   "cell_type": "markdown",
   "id": "7edf48c0",
   "metadata": {},
   "source": [
    "# Cases\n",
    "## 1. Consider the region between 2 ellipses"
   ]
  },
  {
   "cell_type": "code",
   "execution_count": 107,
   "id": "0e1504df",
   "metadata": {},
   "outputs": [
    {
     "name": "stdout",
     "output_type": "stream",
     "text": [
      "The size of the mask is: (200, 200)\n"
     ]
    }
   ],
   "source": [
    "#fits.writeto('file.fits',dum[10],overwrite=True)\n",
    "with open (file_2_ellipses+'.reg', \"r\") as myfile:\n",
    "    reg_2_ellipses=myfile.read() \n",
    "    \n",
    "region_2_ellipses = pyregion.parse(reg_2_ellipses)\n",
    "myfilter = region_2_ellipses.get_filter(header=header)\n",
    "mask2minimize = (myfilter[1] & ~myfilter[0]).mask((dum.shape[0],dum.shape[1]))\n",
    "mask2minimize = np.where(mask2minimize == False, 0, 1)\n",
    "\n",
    "print('The size of the mask is:', np.shape(mask2minimize))"
   ]
  },
  {
   "cell_type": "code",
   "execution_count": 84,
   "id": "3c7e8248",
   "metadata": {},
   "outputs": [],
   "source": [
    "fits.writeto(os.path.join(path,'mask2minimize.fits'), mask2minimize, overwrite=True)"
   ]
  },
  {
   "cell_type": "markdown",
   "id": "4865e0c6",
   "metadata": {},
   "source": [
    "## 2. Consider the region in an ellipse"
   ]
  },
  {
   "cell_type": "code",
   "execution_count": 127,
   "id": "8c3e364d",
   "metadata": {},
   "outputs": [
    {
     "name": "stdout",
     "output_type": "stream",
     "text": [
      "The size of the mask is: (200, 200)\n"
     ]
    }
   ],
   "source": [
    "#fits.writeto('file.fits',dum[10],overwrite=True)\n",
    "with open (file_2_ellipses+'.reg', \"r\") as myfile:\n",
    "    reg_2_ellipses=myfile.read() \n",
    "    \n",
    "region_2_ellipses = pyregion.parse(reg_2_ellipses)\n",
    "myfilter = region_2_ellipses.get_filter(header=header)\n",
    "mask2minimize = myfilter.mask((dum.shape[0],dum.shape[1]))\n",
    "mask2minimize = np.where(mask2minimize == False, 0, 1)\n",
    "\n",
    "print('The size of the mask is:', np.shape(mask2minimize))"
   ]
  },
  {
   "cell_type": "code",
   "execution_count": 123,
   "id": "a75736e5",
   "metadata": {},
   "outputs": [],
   "source": [
    "fits.writeto(os.path.join(path,file_2_ellipses+'.fits'), mask2minimize, overwrite=True)"
   ]
  },
  {
   "cell_type": "markdown",
   "id": "0d2b1d98",
   "metadata": {},
   "source": [
    "## 3. Consider the region in one of the two ellipses"
   ]
  },
  {
   "cell_type": "code",
   "execution_count": 120,
   "id": "0301ac5e",
   "metadata": {
    "scrolled": true
   },
   "outputs": [
    {
     "name": "stdout",
     "output_type": "stream",
     "text": [
      "The size of the mask is: (200, 200)\n"
     ]
    }
   ],
   "source": [
    "#fits.writeto('file.fits',dum[10],overwrite=True)\n",
    "with open (file_2_ellipses+'.reg', \"r\") as myfile:\n",
    "    reg_2_ellipses=myfile.read() \n",
    "    \n",
    "region_2_ellipses = pyregion.parse(reg_2_ellipses)\n",
    "myfilter = region_2_ellipses.get_filter(header=header)\n",
    "mask2minimize = (np.logical_or(myfilter[1],myfilter[0])).mask((dum.shape[0],dum.shape[1]))\n",
    "mask2minimize = np.where(mask2minimize == False, 0, 1)\n",
    "\n",
    "print('The size of the mask is:', np.shape(mask2minimize))"
   ]
  },
  {
   "cell_type": "code",
   "execution_count": 109,
   "id": "1d752a2e",
   "metadata": {},
   "outputs": [],
   "source": [
    "fits.writeto(os.path.join(path,file_2_ellipses+'.fits'), mask2minimize, overwrite=True)"
   ]
  },
  {
   "cell_type": "markdown",
   "id": "f87ba3e3",
   "metadata": {},
   "source": [
    "##### Plot"
   ]
  },
  {
   "cell_type": "code",
   "execution_count": 124,
   "id": "d7079996",
   "metadata": {},
   "outputs": [
    {
     "data": {
      "text/plain": [
       "<matplotlib.image.AxesImage at 0x7fda49b95a60>"
      ]
     },
     "execution_count": 124,
     "metadata": {},
     "output_type": "execute_result"
    },
    {
     "data": {
      "image/png": "[encoded data removed]",
      "text/plain": [
       "<Figure size 320x240 with 1 Axes>"
      ]
     },
     "metadata": {},
     "output_type": "display_data"
    }
   ],
   "source": [
    "plt.imshow(mask2minimize)"
   ]
  },
  {
   "cell_type": "code",
   "execution_count": 96,
   "id": "5d1290d1",
   "metadata": {},
   "outputs": [
    {
     "data": {
      "text/plain": [
       "328.4182305630027"
      ]
     },
     "execution_count": 96,
     "metadata": {},
     "output_type": "execute_result"
    }
   ],
   "source": [
    "20*12.25/7.46"
   ]
  },
  {
   "cell_type": "code",
   "execution_count": 119,
   "id": "55cb9026",
   "metadata": {},
   "outputs": [
    {
     "data": {
      "text/plain": [
       "1.9594306287346936"
      ]
     },
     "execution_count": 119,
     "metadata": {},
     "output_type": "execute_result"
    }
   ],
   "source": [
    "3.2175637/(12.25/7.46)"
   ]
  },
  {
   "cell_type": "code",
   "execution_count": 106,
   "id": "a9084586",
   "metadata": {},
   "outputs": [
    {
     "data": {
      "text/plain": [
       "96.1938775510204"
      ]
     },
     "execution_count": 106,
     "metadata": {},
     "output_type": "execute_result"
    }
   ],
   "source": [
    "100-(120-113.75)/(12.25/7.46)"
   ]
  },
  {
   "cell_type": "code",
   "execution_count": null,
   "id": "36c79af9",
   "metadata": {},
   "outputs": [],
   "source": []
  },
  {
   "cell_type": "code",
   "execution_count": 36,
   "id": "2dff2026",
   "metadata": {},
   "outputs": [
    {
     "data": {
      "text/plain": [
       "4.105227882037534"
      ]
     },
     "execution_count": 36,
     "metadata": {},
     "output_type": "execute_result"
    }
   ],
   "source": [
    "2.5*12.25/7.46"
   ]
  },
  {
   "cell_type": "code",
   "execution_count": 46,
   "id": "a63474b7",
   "metadata": {},
   "outputs": [
    {
     "data": {
      "text/plain": [
       "158.35757372654155"
      ]
     },
     "execution_count": 46,
     "metadata": {},
     "output_type": "execute_result"
    }
   ],
   "source": [
    "(123.75-101)*12.25/7.46+121"
   ]
  },
  {
   "cell_type": "code",
   "execution_count": 48,
   "id": "39def37c",
   "metadata": {},
   "outputs": [
    {
     "data": {
      "text/plain": [
       "97.1896782841823"
      ]
     },
     "execution_count": 48,
     "metadata": {},
     "output_type": "execute_result"
    }
   ],
   "source": [
    "121-(101-86.5)*12.25/7.46"
   ]
  },
  {
   "cell_type": "code",
   "execution_count": null,
   "id": "c00d4113",
   "metadata": {},
   "outputs": [],
   "source": []
  }
 ],
 "metadata": {
  "kernelspec": {
   "display_name": "Python 3 (ipykernel)",
   "language": "python",
   "name": "python3"
  },
  "language_info": {
   "codemirror_mode": {
    "name": "ipython",
    "version": 3
   },
   "file_extension": ".py",
   "mimetype": "text/x-python",
   "name": "python",
   "nbconvert_exporter": "python",
   "pygments_lexer": "ipython3",
   "version": "3.9.12"
  }
 },
 "nbformat": 4,
 "nbformat_minor": 5
}
